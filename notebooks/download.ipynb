{
 "cells": [
  {
   "cell_type": "markdown",
   "metadata": {},
   "source": [
    "# download external datasets"
   ]
  },
  {
   "cell_type": "code",
   "execution_count": 8,
   "metadata": {
    "ExecuteTime": {
     "end_time": "2022-09-04T07:08:17.367634Z",
     "start_time": "2022-09-04T07:08:06.086941Z"
    }
   },
   "outputs": [
    {
     "name": "stdout",
     "output_type": "stream",
     "text": [
      "/Users/haiyanghuang/Documents/GitHub/generic-buy-now-pay-later-project-group-8/scripts\n",
      "Begin postal_areas.zip\n",
      "Completed postal_areas.zip\n",
      "Start extraction ../data/raw/postal_areas.zip\n",
      "Completed extraction ../data/raw/postal_areas.zip\n"
     ]
    }
   ],
   "source": [
    "%cd ../scripts\n",
    "%run Download.py"
   ]
  }
 ],
 "metadata": {
  "kernelspec": {
   "display_name": "Python 3",
   "language": "python",
   "name": "python3"
  },
  "language_info": {
   "codemirror_mode": {
    "name": "ipython",
    "version": 3
   },
   "file_extension": ".py",
   "mimetype": "text/x-python",
   "name": "python",
   "nbconvert_exporter": "python",
   "pygments_lexer": "ipython3",
   "version": "3.8.3"
  }
 },
 "nbformat": 4,
 "nbformat_minor": 4
}
