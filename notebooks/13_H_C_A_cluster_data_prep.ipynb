{
 "cells": [
  {
   "cell_type": "markdown",
   "metadata": {},
   "source": [
    "# Data preparation for clustering method\n",
    "# Objective: Generate features to a dataset for take rate imputation through clustering"
   ]
  },
  {
   "cell_type": "code",
   "execution_count": 1,
   "metadata": {},
   "outputs": [],
   "source": [
    "# importing the require libraries to run the code in the this notebook\n",
    "from pyspark.sql import SparkSession\n",
    "from pyspark.sql import functions as F\n",
    "from pyspark.sql import DataFrameStatFunctions as statFunc"
   ]
  },
  {
   "cell_type": "code",
   "execution_count": 2,
   "metadata": {},
   "outputs": [],
   "source": [
    "# create directory persona if does not exist\n",
    "import os\n",
    "\n",
    "dirs_to_create = ['../data/curated/clusters', '../data/curated/clusters/input', '../data/curated/clusters/output']\n",
    "\n",
    "def create_dirs(dirs_to_create):\n",
    "    # check if it exists as it makedir will raise an error if it does exist\n",
    "    for dir_to_create in dirs_to_create:\n",
    "        if not os.path.exists(dir_to_create):\n",
    "            os.makedirs(dir_to_create)\n",
    "\n",
    "create_dirs(dirs_to_create)"
   ]
  },
  {
   "cell_type": "code",
   "execution_count": 3,
   "metadata": {},
   "outputs": [
    {
     "name": "stdout",
     "output_type": "stream",
     "text": [
      "22/10/12 17:08:12 WARN Utils: Your hostname, modaxuexiweiyuanzhangde-MacBook-Pro.local resolves to a loopback address: 127.0.0.1; using 10.13.81.59 instead (on interface en0)\n",
      "22/10/12 17:08:12 WARN Utils: Set SPARK_LOCAL_IP if you need to bind to another address\n"
     ]
    },
    {
     "name": "stderr",
     "output_type": "stream",
     "text": [
      "Setting default log level to \"WARN\".\n",
      "To adjust logging level use sc.setLogLevel(newLevel). For SparkR, use setLogLevel(newLevel).\n"
     ]
    },
    {
     "name": "stdout",
     "output_type": "stream",
     "text": [
      "22/10/12 17:08:12 WARN NativeCodeLoader: Unable to load native-hadoop library for your platform... using builtin-java classes where applicable\n",
      "22/10/12 17:08:14 WARN Utils: Service 'SparkUI' could not bind on port 4040. Attempting port 4041.\n"
     ]
    }
   ],
   "source": [
    "# running spark\n",
    "spark = (\n",
    "    SparkSession.builder.appName(\"preprocessing of taxi data\")\n",
    "    .config(\"spark.sql.repl.eagerEval.enabled\", True) \n",
    "    .config(\"spark.sql.parquet.cacheMetadata\", \"true\")\n",
    "    .config(\"spark.sql.session.timeZone\", \"Etc/UTC\")\n",
    "    .config(\"spark.driver.memory\", \"15g\")\n",
    "    .getOrCreate()\n",
    ")"
   ]
  },
  {
   "cell_type": "code",
   "execution_count": 4,
   "metadata": {},
   "outputs": [
    {
     "name": "stderr",
     "output_type": "stream",
     "text": [
      "                                                                                \r"
     ]
    },
    {
     "data": {
      "text/html": [
       "<table border='1'>\n",
       "<tr><th>user_id</th><th>merchant_abn</th><th>dollar_value</th><th>order_id</th><th>order_datetime</th><th>merchant_name</th><th>prod_desc</th><th>revenue_level</th><th>take_rate</th><th>consumer_name</th><th>address</th><th>state</th><th>postcode</th><th>gender</th><th>consumer_id</th></tr>\n",
       "<tr><td>2</td><td>38971488186</td><td>148.60906137492083</td><td>2826603b-9674-451...</td><td>2021-03-04</td><td>Primis In LLP</td><td>books, periodical...</td><td>b</td><td>3.6</td><td>Mary Smith</td><td>3764 Amber Oval</td><td>NSW</td><td>2782</td><td>Female</td><td>179208</td></tr>\n",
       "<tr><td>2</td><td>40515399744</td><td>1447.0521429027654</td><td>5e081812-fb3d-49c...</td><td>2021-03-13</td><td>null</td><td>null</td><td>null</td><td>null</td><td>Mary Smith</td><td>3764 Amber Oval</td><td>NSW</td><td>2782</td><td>Female</td><td>179208</td></tr>\n",
       "<tr><td>2</td><td>68216911708</td><td>11.868321758401615</td><td>8e380a03-98ed-401...</td><td>2021-03-30</td><td>Placerat Eget Ven...</td><td>computers, comput...</td><td>c</td><td>3.0</td><td>Mary Smith</td><td>3764 Amber Oval</td><td>NSW</td><td>2782</td><td>Female</td><td>179208</td></tr>\n",
       "<tr><td>2</td><td>96161947306</td><td>72.35346983449212</td><td>57f9abcf-9a4b-453...</td><td>2021-04-08</td><td>Imperdiet Dictum ...</td><td>shoe shops</td><td>b</td><td>4.5</td><td>Mary Smith</td><td>3764 Amber Oval</td><td>NSW</td><td>2782</td><td>Female</td><td>179208</td></tr>\n",
       "<tr><td>2</td><td>11566786699</td><td>3.2469512509425007</td><td>8b5c4f65-d366-465...</td><td>2021-04-09</td><td>Euismod Et Institute</td><td>opticians, optica...</td><td>c</td><td>2.6</td><td>Mary Smith</td><td>3764 Amber Oval</td><td>NSW</td><td>2782</td><td>Female</td><td>179208</td></tr>\n",
       "<tr><td>2</td><td>96880556465</td><td>107.29786246813727</td><td>1bb65738-3e4b-4af...</td><td>2021-04-15</td><td>At Lacus Quisque ...</td><td>gift, card, novel...</td><td>a</td><td>5.7</td><td>Mary Smith</td><td>3764 Amber Oval</td><td>NSW</td><td>2782</td><td>Female</td><td>179208</td></tr>\n",
       "<tr><td>2</td><td>63071746690</td><td>42.958957505765824</td><td>ef2983bc-b71e-400...</td><td>2021-04-15</td><td>Mollis Vitae LLC</td><td>opticians, optica...</td><td>a</td><td>6.9</td><td>Mary Smith</td><td>3764 Amber Oval</td><td>NSW</td><td>2782</td><td>Female</td><td>179208</td></tr>\n",
       "<tr><td>2</td><td>11237511112</td><td>83.322997064485</td><td>6113ee2b-aa70-438...</td><td>2021-04-15</td><td>Magna Institute</td><td>opticians, optica...</td><td>c</td><td>2.1</td><td>Mary Smith</td><td>3764 Amber Oval</td><td>NSW</td><td>2782</td><td>Female</td><td>179208</td></tr>\n",
       "<tr><td>2</td><td>32844138686</td><td>96.91526773380825</td><td>51dbde7d-0918-4c1...</td><td>2021-05-13</td><td>At Augue Id Assoc...</td><td>computer programm...</td><td>c</td><td>1.8</td><td>Mary Smith</td><td>3764 Amber Oval</td><td>NSW</td><td>2782</td><td>Female</td><td>179208</td></tr>\n",
       "<tr><td>2</td><td>41974958954</td><td>138.8682159362684</td><td>162cb687-ede6-4f4...</td><td>2021-06-24</td><td>Sed Libero Proin ...</td><td>cable, satellite,...</td><td>a</td><td>5.5</td><td>Mary Smith</td><td>3764 Amber Oval</td><td>NSW</td><td>2782</td><td>Female</td><td>179208</td></tr>\n",
       "<tr><td>2</td><td>19933438190</td><td>13.398814900005322</td><td>3b959e09-1606-451...</td><td>2021-07-15</td><td>Dui Nec Corporation</td><td>tent and awning s...</td><td>c</td><td>2.2</td><td>Mary Smith</td><td>3764 Amber Oval</td><td>NSW</td><td>2782</td><td>Female</td><td>179208</td></tr>\n",
       "<tr><td>2</td><td>99938978285</td><td>21.594809591812645</td><td>1666d365-0101-494...</td><td>2021-07-15</td><td>Elit Dictum Eu Ltd</td><td>opticians, optica...</td><td>b</td><td>4.5</td><td>Mary Smith</td><td>3764 Amber Oval</td><td>NSW</td><td>2782</td><td>Female</td><td>179208</td></tr>\n",
       "<tr><td>2</td><td>77590625261</td><td>465.7862411473436</td><td>f146dc81-c012-4ce...</td><td>2021-08-24</td><td>Sed Diam Foundation</td><td>computer programm...</td><td>b</td><td>3.2</td><td>Mary Smith</td><td>3764 Amber Oval</td><td>NSW</td><td>2782</td><td>Female</td><td>179208</td></tr>\n",
       "<tr><td>2</td><td>17073441842</td><td>2236.4616658010727</td><td>74ca0aab-2526-470...</td><td>2021-09-25</td><td>Duis Corp.</td><td>telecom</td><td>b</td><td>4.7</td><td>Mary Smith</td><td>3764 Amber Oval</td><td>NSW</td><td>2782</td><td>Female</td><td>179208</td></tr>\n",
       "<tr><td>2</td><td>31472801314</td><td>12.379920151324955</td><td>0b88bbc4-600d-43e...</td><td>2021-12-01</td><td>Urna Justo Indust...</td><td>music shops - mus...</td><td>a</td><td>6.5</td><td>Mary Smith</td><td>3764 Amber Oval</td><td>NSW</td><td>2782</td><td>Female</td><td>179208</td></tr>\n",
       "<tr><td>2</td><td>83414869405</td><td>185.55264136403446</td><td>0953643b-1b78-48b...</td><td>2021-12-14</td><td>Hendrerit Donec C...</td><td>hobby, toy and ga...</td><td>a</td><td>6.4</td><td>Mary Smith</td><td>3764 Amber Oval</td><td>NSW</td><td>2782</td><td>Female</td><td>179208</td></tr>\n",
       "<tr><td>2</td><td>30209373786</td><td>1440.331772823499</td><td>ba7dbd4d-6945-457...</td><td>2021-12-17</td><td>Laoreet Inc.</td><td>equipment, tool, ...</td><td>b</td><td>4.3</td><td>Mary Smith</td><td>3764 Amber Oval</td><td>NSW</td><td>2782</td><td>Female</td><td>179208</td></tr>\n",
       "<tr><td>2</td><td>29362189014</td><td>87.9286608674892</td><td>b58fa743-a31e-449...</td><td>2021-12-17</td><td>Vestibulum Limited</td><td>digital goods: bo...</td><td>a</td><td>6.7</td><td>Mary Smith</td><td>3764 Amber Oval</td><td>NSW</td><td>2782</td><td>Female</td><td>179208</td></tr>\n",
       "<tr><td>2</td><td>62074083335</td><td>128.27194944463233</td><td>e317d796-bd4e-46a...</td><td>2021-12-31</td><td>Aliquet Libero Co...</td><td>computer programm...</td><td>a</td><td>6.7</td><td>Mary Smith</td><td>3764 Amber Oval</td><td>NSW</td><td>2782</td><td>Female</td><td>179208</td></tr>\n",
       "<tr><td>2</td><td>80324045558</td><td>5.698147797859008</td><td>e4b172a8-db39-453...</td><td>2022-01-02</td><td>Ipsum Dolor Sit C...</td><td>gift, card, novel...</td><td>c</td><td>1.4</td><td>Mary Smith</td><td>3764 Amber Oval</td><td>NSW</td><td>2782</td><td>Female</td><td>179208</td></tr>\n",
       "</table>\n",
       "only showing top 20 rows\n"
      ],
      "text/plain": [
       "+-------+------------+------------------+--------------------+--------------+--------------------+--------------------+-------------+---------+-------------+---------------+-----+--------+------+-----------+\n",
       "|user_id|merchant_abn|      dollar_value|            order_id|order_datetime|       merchant_name|           prod_desc|revenue_level|take_rate|consumer_name|        address|state|postcode|gender|consumer_id|\n",
       "+-------+------------+------------------+--------------------+--------------+--------------------+--------------------+-------------+---------+-------------+---------------+-----+--------+------+-----------+\n",
       "|      2| 38971488186|148.60906137492083|2826603b-9674-451...|    2021-03-04|       Primis In LLP|books, periodical...|            b|      3.6|   Mary Smith|3764 Amber Oval|  NSW|    2782|Female|     179208|\n",
       "|      2| 40515399744|1447.0521429027654|5e081812-fb3d-49c...|    2021-03-13|                null|                null|         null|     null|   Mary Smith|3764 Amber Oval|  NSW|    2782|Female|     179208|\n",
       "|      2| 68216911708|11.868321758401615|8e380a03-98ed-401...|    2021-03-30|Placerat Eget Ven...|computers, comput...|            c|      3.0|   Mary Smith|3764 Amber Oval|  NSW|    2782|Female|     179208|\n",
       "|      2| 96161947306| 72.35346983449212|57f9abcf-9a4b-453...|    2021-04-08|Imperdiet Dictum ...|          shoe shops|            b|      4.5|   Mary Smith|3764 Amber Oval|  NSW|    2782|Female|     179208|\n",
       "|      2| 11566786699|3.2469512509425007|8b5c4f65-d366-465...|    2021-04-09|Euismod Et Institute|opticians, optica...|            c|      2.6|   Mary Smith|3764 Amber Oval|  NSW|    2782|Female|     179208|\n",
       "|      2| 96880556465|107.29786246813727|1bb65738-3e4b-4af...|    2021-04-15|At Lacus Quisque ...|gift, card, novel...|            a|      5.7|   Mary Smith|3764 Amber Oval|  NSW|    2782|Female|     179208|\n",
       "|      2| 63071746690|42.958957505765824|ef2983bc-b71e-400...|    2021-04-15|    Mollis Vitae LLC|opticians, optica...|            a|      6.9|   Mary Smith|3764 Amber Oval|  NSW|    2782|Female|     179208|\n",
       "|      2| 11237511112|   83.322997064485|6113ee2b-aa70-438...|    2021-04-15|     Magna Institute|opticians, optica...|            c|      2.1|   Mary Smith|3764 Amber Oval|  NSW|    2782|Female|     179208|\n",
       "|      2| 32844138686| 96.91526773380825|51dbde7d-0918-4c1...|    2021-05-13|At Augue Id Assoc...|computer programm...|            c|      1.8|   Mary Smith|3764 Amber Oval|  NSW|    2782|Female|     179208|\n",
       "|      2| 41974958954| 138.8682159362684|162cb687-ede6-4f4...|    2021-06-24|Sed Libero Proin ...|cable, satellite,...|            a|      5.5|   Mary Smith|3764 Amber Oval|  NSW|    2782|Female|     179208|\n",
       "|      2| 19933438190|13.398814900005322|3b959e09-1606-451...|    2021-07-15| Dui Nec Corporation|tent and awning s...|            c|      2.2|   Mary Smith|3764 Amber Oval|  NSW|    2782|Female|     179208|\n",
       "|      2| 99938978285|21.594809591812645|1666d365-0101-494...|    2021-07-15|  Elit Dictum Eu Ltd|opticians, optica...|            b|      4.5|   Mary Smith|3764 Amber Oval|  NSW|    2782|Female|     179208|\n",
       "|      2| 77590625261| 465.7862411473436|f146dc81-c012-4ce...|    2021-08-24| Sed Diam Foundation|computer programm...|            b|      3.2|   Mary Smith|3764 Amber Oval|  NSW|    2782|Female|     179208|\n",
       "|      2| 17073441842|2236.4616658010727|74ca0aab-2526-470...|    2021-09-25|          Duis Corp.|             telecom|            b|      4.7|   Mary Smith|3764 Amber Oval|  NSW|    2782|Female|     179208|\n",
       "|      2| 31472801314|12.379920151324955|0b88bbc4-600d-43e...|    2021-12-01|Urna Justo Indust...|music shops - mus...|            a|      6.5|   Mary Smith|3764 Amber Oval|  NSW|    2782|Female|     179208|\n",
       "|      2| 83414869405|185.55264136403446|0953643b-1b78-48b...|    2021-12-14|Hendrerit Donec C...|hobby, toy and ga...|            a|      6.4|   Mary Smith|3764 Amber Oval|  NSW|    2782|Female|     179208|\n",
       "|      2| 30209373786| 1440.331772823499|ba7dbd4d-6945-457...|    2021-12-17|        Laoreet Inc.|equipment, tool, ...|            b|      4.3|   Mary Smith|3764 Amber Oval|  NSW|    2782|Female|     179208|\n",
       "|      2| 29362189014|  87.9286608674892|b58fa743-a31e-449...|    2021-12-17|  Vestibulum Limited|digital goods: bo...|            a|      6.7|   Mary Smith|3764 Amber Oval|  NSW|    2782|Female|     179208|\n",
       "|      2| 62074083335|128.27194944463233|e317d796-bd4e-46a...|    2021-12-31|Aliquet Libero Co...|computer programm...|            a|      6.7|   Mary Smith|3764 Amber Oval|  NSW|    2782|Female|     179208|\n",
       "|      2| 80324045558| 5.698147797859008|e4b172a8-db39-453...|    2022-01-02|Ipsum Dolor Sit C...|gift, card, novel...|            c|      1.4|   Mary Smith|3764 Amber Oval|  NSW|    2782|Female|     179208|\n",
       "+-------+------------+------------------+--------------------+--------------+--------------------+--------------------+-------------+---------+-------------+---------------+-----+--------+------+-----------+\n",
       "only showing top 20 rows"
      ]
     },
     "execution_count": 4,
     "metadata": {},
     "output_type": "execute_result"
    }
   ],
   "source": [
    "# read in the require dataset\n",
    "transaction_sdf = spark.read.parquet(\"../data/curated/fraud/output/transactions_withoutfraud\")\n",
    "transaction_sdf"
   ]
  },
  {
   "cell_type": "markdown",
   "metadata": {},
   "source": [
    "## Perform monthly aggregation to obtain monthly number of orders, mean revenue, and standard deviation of revenue"
   ]
  },
  {
   "cell_type": "code",
   "execution_count": 5,
   "metadata": {},
   "outputs": [],
   "source": [
    "monthly_agg = transaction_sdf.groupBy(\n",
    "                                      \"merchant_abn\",\n",
    "                                      F.year(\"order_datetime\"),\n",
    "                                      F.month(\"order_datetime\")\n",
    "                                      ) \\\n",
    "                                      .agg(\n",
    "                                        F.count(\"order_id\").alias(\"number_of_order\"),\n",
    "                                        F.sum(\"dollar_value\").alias(\"total_dollar_value\")\n",
    "                                      ) \\\n",
    "                                      .groupBy(\"merchant_abn\") \\\n",
    "                                      .agg(\n",
    "                                        F.mean(\"number_of_order\").alias(\"monthly_average_number_of_orders\"),\n",
    "                                        F.mean(\"total_dollar_value\").alias(\"monthly_average_bnpl_revenue\"),\n",
    "                                        F.stddev(\"total_dollar_value\").alias(\"stddev_of_monthly_average_bnpl_revenue\")\n",
    "                                      )"
   ]
  },
  {
   "cell_type": "markdown",
   "metadata": {},
   "source": [
    "Get aggregated transaction dataset with engineered features, this dataset are the missing merchants that requires imputation"
   ]
  },
  {
   "cell_type": "code",
   "execution_count": 6,
   "metadata": {},
   "outputs": [
    {
     "name": "stderr",
     "output_type": "stream",
     "text": [
      "                                                                                \r"
     ]
    }
   ],
   "source": [
    "# find all unknown merchants by looking for merchants with only ABN but not name, revenue level, and take rate.\n",
    "# And conduct feature engineering for total number of customers, standard deviation of total dollar value and mean of dollar value.\n",
    "# and join with the monthly features to transaction sdf.\n",
    "\n",
    "\n",
    "agg_transaction_pred_sdf = transaction_sdf.filter(F.col(\"merchant_name\").isNull()) \\\n",
    "                                          .groupBy(\"merchant_abn\") \\\n",
    "                                          .agg(\n",
    "                                               F.countDistinct(\"consumer_id\").alias(\"total_number_of_distinct_customers\"),\n",
    "                                               F.stddev(\"dollar_value\").alias(\"stddev_of_dorllar_value\"),\n",
    "                                               F.mean(\"dollar_value\").alias(\"average_dollar_value\"),\n",
    "                                               F.percentile_approx(\"dollar_value\", 0.5).alias(\"median_dollar_value\")\n",
    "                                               ) \\\n",
    "                                          .join(\n",
    "                                            monthly_agg,\n",
    "                                            ['merchant_abn', ],\n",
    "                                            \"left\"\n",
    "                                          ).toPandas().to_csv(\"../data/curated/clusters/input/agg_transaction_pred.csv\", index=False)                 "
   ]
  },
  {
   "cell_type": "markdown",
   "metadata": {},
   "source": [
    "Get aggregated transaction dataset with engineered features, this dataset are the known merchants with information present and is use to create clusters."
   ]
  },
  {
   "cell_type": "code",
   "execution_count": 7,
   "metadata": {},
   "outputs": [
    {
     "name": "stderr",
     "output_type": "stream",
     "text": [
      "                                                                                \r"
     ]
    }
   ],
   "source": [
    "# find all known merchants by looking for merchants with known merchant information\n",
    "# And conduct feature engineering for total number of customers, standard deviation of total dollar value and mean of dollar value.\n",
    "# and join with the monthly features to transaction sdf.\n",
    "agg_transaction_train_sdf = transaction_sdf.filter(F.col(\"merchant_name\").isNotNull()) \\\n",
    "                                          .groupBy(\"merchant_abn\") \\\n",
    "                                          .agg(\n",
    "                                               F.countDistinct(\"consumer_id\").alias(\"total_number_of_distinct_customers\"),\n",
    "                                               F.stddev(\"dollar_value\").alias(\"stddev_of_dorllar_value\"),\n",
    "                                               F.mean(\"dollar_value\").alias(\"average_dollar_value\"),\n",
    "                                               F.percentile_approx(\"dollar_value\", 0.5).alias(\"median_dollar_value\"),\n",
    "                                               F.mean(\"take_rate\").alias(\"take_rate\")\n",
    "                                               ) \\\n",
    "                                          .join(\n",
    "                                            monthly_agg,\n",
    "                                            ['merchant_abn', ],\n",
    "                                            \"left\"\n",
    "                                          ).toPandas().to_csv(\"../data/curated/clusters/input/agg_transaction_train.csv\", index=False)"
   ]
  },
  {
   "cell_type": "code",
   "execution_count": null,
   "metadata": {},
   "outputs": [],
   "source": []
  }
 ],
 "metadata": {
  "kernelspec": {
   "display_name": "Python 3.9.7 ('base')",
   "language": "python",
   "name": "python3"
  },
  "language_info": {
   "codemirror_mode": {
    "name": "ipython",
    "version": 3
   },
   "file_extension": ".py",
   "mimetype": "text/x-python",
   "name": "python",
   "nbconvert_exporter": "python",
   "pygments_lexer": "ipython3",
   "version": "3.9.7"
  },
  "orig_nbformat": 4,
  "vscode": {
   "interpreter": {
    "hash": "cd78fef2128015050713e82ca51c6520b11aee7c9ee8df750520bbbc7384cbaa"
   }
  }
 },
 "nbformat": 4,
 "nbformat_minor": 2
}
