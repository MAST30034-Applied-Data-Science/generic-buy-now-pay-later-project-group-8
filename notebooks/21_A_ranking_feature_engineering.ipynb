{
 "cells": [
  {
   "cell_type": "markdown",
   "metadata": {},
   "source": [
    "# Creating a ranking feature (Loyalty rate)\n",
    "\n",
    "# Objective: conduct feature engineering to create a loyalty rate for every merchant"
   ]
  },
  {
   "cell_type": "code",
   "execution_count": 38,
   "metadata": {},
   "outputs": [],
   "source": [
    "# importing require libraries to run the code in this notebook\n",
    "from pyspark.sql import SparkSession\n",
    "from pyspark.sql import functions as F\n",
    "import seaborn as sns\n",
    "import numpy as np\n",
    "import matplotlib.pyplot as plt"
   ]
  },
  {
   "cell_type": "code",
   "execution_count": 3,
   "metadata": {},
   "outputs": [
    {
     "name": "stderr",
     "output_type": "stream",
     "text": [
      "Setting default log level to \"WARN\".\n",
      "To adjust logging level use sc.setLogLevel(newLevel). For SparkR, use setLogLevel(newLevel).\n"
     ]
    },
    {
     "name": "stdout",
     "output_type": "stream",
     "text": [
      "22/10/08 11:07:27 WARN NativeCodeLoader: Unable to load native-hadoop library for your platform... using builtin-java classes where applicable\n"
     ]
    }
   ],
   "source": [
    "# runing spark\n",
    "spark = (\n",
    "    SparkSession.builder.appName(\"preprocessing of taxi data\")\n",
    "    .config(\"spark.sql.repl.eagerEval.enabled\", True) \n",
    "    .config(\"spark.sql.parquet.cacheMetadata\", \"true\")\n",
    "    .config(\"spark.sql.session.timeZone\", \"Etc/UTC\")\n",
    "    .config(\"spark.driver.memory\", \"15g\")\n",
    "    .getOrCreate()\n",
    ")"
   ]
  },
  {
   "cell_type": "markdown",
   "metadata": {},
   "source": [
    "## Feature Engineering for Ranking\n",
    "\n",
    "#### 1. Creating features\n",
    "- Loyality rate <br>\n",
    "&nbsp;  \n",
    "Groupby each merchant abn, and calculate:  \n",
    "    $\\text{repeat purchase rate} = \\frac {number \\ of \\ repeat \\ customers}{total \\ customers}$  \n",
    "    code implementation  \n",
    "    - number of repeat customer - can be calculated by the number of re-occuring consumer id\n",
    "    - total customers - total count of customers  \n",
    "\n",
    "#### 2. Converting features to scores for ranking\n"
   ]
  },
  {
   "cell_type": "code",
   "execution_count": 4,
   "metadata": {},
   "outputs": [],
   "source": [
    "# separating the transaction dataset into training and the full set\n",
    "transaction_sdf = spark.read.parquet(\"../data/curated/fraud/output/transactions_withoutfraud\")\n",
    "train_transaction_sdf = transaction_sdf.where(F.col(\"order_datetime\") <= \"2022-1-16\")"
   ]
  },
  {
   "cell_type": "markdown",
   "metadata": {},
   "source": [
    "### Conduct aggregation and calculate loyality rate"
   ]
  },
  {
   "cell_type": "code",
   "execution_count": 5,
   "metadata": {},
   "outputs": [
    {
     "name": "stderr",
     "output_type": "stream",
     "text": [
      "                                                                                \r"
     ]
    },
    {
     "data": {
      "text/html": [
       "<table border='1'>\n",
       "<tr><th>merchant_abn</th><th>Total_consumers</th></tr>\n",
       "<tr><td>10023283211</td><td>2619</td></tr>\n",
       "<tr><td>10142254217</td><td>2439</td></tr>\n",
       "<tr><td>10165489824</td><td>1</td></tr>\n",
       "<tr><td>10187291046</td><td>287</td></tr>\n",
       "<tr><td>10192359162</td><td>317</td></tr>\n",
       "<tr><td>10206519221</td><td>6902</td></tr>\n",
       "<tr><td>10255988167</td><td>702</td></tr>\n",
       "<tr><td>10264435225</td><td>3921</td></tr>\n",
       "<tr><td>10279061213</td><td>472</td></tr>\n",
       "<tr><td>10323485998</td><td>7412</td></tr>\n",
       "<tr><td>10342410215</td><td>729</td></tr>\n",
       "<tr><td>10346855916</td><td>7</td></tr>\n",
       "<tr><td>10364012396</td><td>35</td></tr>\n",
       "<tr><td>10385011947</td><td>24</td></tr>\n",
       "<tr><td>10385163239</td><td>57</td></tr>\n",
       "<tr><td>10385250025</td><td>578</td></tr>\n",
       "<tr><td>10430380319</td><td>130</td></tr>\n",
       "<tr><td>10441711491</td><td>2</td></tr>\n",
       "<tr><td>10462560289</td><td>1365</td></tr>\n",
       "<tr><td>10463252268</td><td>65</td></tr>\n",
       "</table>\n",
       "only showing top 20 rows\n"
      ],
      "text/plain": [
       "+------------+---------------+\n",
       "|merchant_abn|Total_consumers|\n",
       "+------------+---------------+\n",
       "| 10023283211|           2619|\n",
       "| 10142254217|           2439|\n",
       "| 10165489824|              1|\n",
       "| 10187291046|            287|\n",
       "| 10192359162|            317|\n",
       "| 10206519221|           6902|\n",
       "| 10255988167|            702|\n",
       "| 10264435225|           3921|\n",
       "| 10279061213|            472|\n",
       "| 10323485998|           7412|\n",
       "| 10342410215|            729|\n",
       "| 10346855916|              7|\n",
       "| 10364012396|             35|\n",
       "| 10385011947|             24|\n",
       "| 10385163239|             57|\n",
       "| 10385250025|            578|\n",
       "| 10430380319|            130|\n",
       "| 10441711491|              2|\n",
       "| 10462560289|           1365|\n",
       "| 10463252268|             65|\n",
       "+------------+---------------+\n",
       "only showing top 20 rows"
      ]
     },
     "execution_count": 5,
     "metadata": {},
     "output_type": "execute_result"
    }
   ],
   "source": [
    "# group by each merchant and count how many consumers purchased in this merchant\n",
    "merchant_loyality_rate = transaction_sdf.groupBy(\"merchant_abn\")\\\n",
    "                                        .agg(F.countDistinct(\"consumer_id\").alias(\"Total_consumers\"))\n",
    "train_merchant_loyality_rate = train_transaction_sdf.groupBy(\"merchant_abn\")\\\n",
    "                                                    .agg(F.countDistinct(\"consumer_id\").alias(\"Total_consumers\"))\n",
    "merchant_loyality_rate.orderBy(\"merchant_abn\")"
   ]
  },
  {
   "cell_type": "code",
   "execution_count": 7,
   "metadata": {},
   "outputs": [
    {
     "name": "stderr",
     "output_type": "stream",
     "text": [
      "                                                                                \r"
     ]
    },
    {
     "data": {
      "text/html": [
       "<table border='1'>\n",
       "<tr><th>merchant_abn</th><th>consumer_id</th><th>customer_purchase_count</th></tr>\n",
       "<tr><td>10023283211</td><td>956479</td><td>2</td></tr>\n",
       "<tr><td>10023283211</td><td>337772</td><td>2</td></tr>\n",
       "<tr><td>10023283211</td><td>5807</td><td>2</td></tr>\n",
       "<tr><td>10023283211</td><td>329389</td><td>2</td></tr>\n",
       "<tr><td>10023283211</td><td>330651</td><td>2</td></tr>\n",
       "<tr><td>10023283211</td><td>964186</td><td>2</td></tr>\n",
       "<tr><td>10023283211</td><td>1202141</td><td>2</td></tr>\n",
       "<tr><td>10023283211</td><td>1019655</td><td>2</td></tr>\n",
       "<tr><td>10023283211</td><td>1417148</td><td>2</td></tr>\n",
       "<tr><td>10023283211</td><td>1327376</td><td>2</td></tr>\n",
       "<tr><td>10023283211</td><td>1045221</td><td>2</td></tr>\n",
       "<tr><td>10023283211</td><td>981410</td><td>2</td></tr>\n",
       "<tr><td>10023283211</td><td>630930</td><td>2</td></tr>\n",
       "<tr><td>10023283211</td><td>966579</td><td>2</td></tr>\n",
       "<tr><td>10023283211</td><td>866148</td><td>2</td></tr>\n",
       "<tr><td>10023283211</td><td>1469668</td><td>2</td></tr>\n",
       "<tr><td>10023283211</td><td>837364</td><td>2</td></tr>\n",
       "<tr><td>10023283211</td><td>245509</td><td>2</td></tr>\n",
       "<tr><td>10023283211</td><td>328817</td><td>3</td></tr>\n",
       "<tr><td>10023283211</td><td>462369</td><td>2</td></tr>\n",
       "</table>\n",
       "only showing top 20 rows\n"
      ],
      "text/plain": [
       "+------------+-----------+-----------------------+\n",
       "|merchant_abn|consumer_id|customer_purchase_count|\n",
       "+------------+-----------+-----------------------+\n",
       "| 10023283211|     287570|                      3|\n",
       "| 10023283211|     315672|                      2|\n",
       "| 10023283211|    1242480|                      2|\n",
       "| 10023283211|      23166|                      2|\n",
       "| 10023283211|     142061|                      2|\n",
       "| 10023283211|    1259836|                      2|\n",
       "| 10023283211|     654836|                      3|\n",
       "| 10023283211|     289448|                      2|\n",
       "| 10023283211|      42574|                      2|\n",
       "| 10023283211|    1252906|                      2|\n",
       "| 10023283211|     509302|                      2|\n",
       "| 10023283211|     684616|                      2|\n",
       "| 10023283211|    1345289|                      2|\n",
       "| 10023283211|    1142235|                      2|\n",
       "| 10023283211|      49617|                      2|\n",
       "| 10023283211|      36453|                      2|\n",
       "| 10023283211|     223039|                      2|\n",
       "| 10023283211|     474051|                      2|\n",
       "| 10023283211|    1415978|                      2|\n",
       "| 10023283211|     468787|                      2|\n",
       "+------------+-----------+-----------------------+\n",
       "only showing top 20 rows"
      ]
     },
     "execution_count": 7,
     "metadata": {},
     "output_type": "execute_result"
    }
   ],
   "source": [
    "# find in each merchant, for each consumer whether they have purchased more than once in this merchant\n",
    "customer_purchase_counts = transaction_sdf.groupBy(\"merchant_abn\", \"consumer_id\")\\\n",
    "                                          .agg(F.count(\"merchant_abn\").alias(\"customer_purchase_count\"))\n",
    "customer_purchase_counts = customer_purchase_counts.where(F.col(\"customer_purchase_count\") > 1)\n",
    "train_customer_purchase_counts = train_transaction_sdf.groupBy(\"merchant_abn\", \"consumer_id\")\\\n",
    "                                                      .agg(F.count(\"merchant_abn\").alias(\"customer_purchase_count\"))\n",
    "train_customer_purchase_counts = train_customer_purchase_counts.where(F.col(\"customer_purchase_count\") > 1)\n",
    "customer_purchase_counts.orderBy(\"merchant_abn\")"
   ]
  },
  {
   "cell_type": "code",
   "execution_count": 8,
   "metadata": {},
   "outputs": [
    {
     "name": "stderr",
     "output_type": "stream",
     "text": [
      "                                                                                \r"
     ]
    },
    {
     "data": {
      "text/html": [
       "<table border='1'>\n",
       "<tr><th>merchant_abn_del</th><th>repeated_customers</th></tr>\n",
       "<tr><td>10023283211</td><td>151</td></tr>\n",
       "<tr><td>10142254217</td><td>139</td></tr>\n",
       "<tr><td>10187291046</td><td>1</td></tr>\n",
       "<tr><td>10192359162</td><td>1</td></tr>\n",
       "<tr><td>10206519221</td><td>1143</td></tr>\n",
       "<tr><td>10255988167</td><td>13</td></tr>\n",
       "<tr><td>10264435225</td><td>329</td></tr>\n",
       "<tr><td>10279061213</td><td>3</td></tr>\n",
       "<tr><td>10323485998</td><td>1271</td></tr>\n",
       "<tr><td>10342410215</td><td>7</td></tr>\n",
       "<tr><td>10385250025</td><td>5</td></tr>\n",
       "<tr><td>10462560289</td><td>47</td></tr>\n",
       "<tr><td>10487253336</td><td>80</td></tr>\n",
       "<tr><td>10530696903</td><td>6</td></tr>\n",
       "<tr><td>10553813474</td><td>8</td></tr>\n",
       "<tr><td>10618089367</td><td>158</td></tr>\n",
       "<tr><td>10648956813</td><td>4496</td></tr>\n",
       "<tr><td>10702078694</td><td>5</td></tr>\n",
       "<tr><td>10714068705</td><td>154</td></tr>\n",
       "<tr><td>10746056613</td><td>1</td></tr>\n",
       "</table>\n",
       "only showing top 20 rows\n"
      ],
      "text/plain": [
       "+----------------+------------------+\n",
       "|merchant_abn_del|repeated_customers|\n",
       "+----------------+------------------+\n",
       "|     10023283211|               151|\n",
       "|     10142254217|               139|\n",
       "|     10187291046|                 1|\n",
       "|     10192359162|                 1|\n",
       "|     10206519221|              1143|\n",
       "|     10255988167|                13|\n",
       "|     10264435225|               329|\n",
       "|     10279061213|                 3|\n",
       "|     10323485998|              1271|\n",
       "|     10342410215|                 7|\n",
       "|     10385250025|                 5|\n",
       "|     10462560289|                47|\n",
       "|     10487253336|                80|\n",
       "|     10530696903|                 6|\n",
       "|     10553813474|                 8|\n",
       "|     10618089367|               158|\n",
       "|     10648956813|              4496|\n",
       "|     10702078694|                 5|\n",
       "|     10714068705|               154|\n",
       "|     10746056613|                 1|\n",
       "+----------------+------------------+\n",
       "only showing top 20 rows"
      ]
     },
     "execution_count": 8,
     "metadata": {},
     "output_type": "execute_result"
    }
   ],
   "source": [
    "# Count the number of customers that has repeated purchase in each merchant\n",
    "repeated_customers = customer_purchase_counts.groupBy(\"merchant_abn\")\\\n",
    "                                             .agg(F.count(\"consumer_id\").alias(\"repeated_customers\"))\n",
    "repeated_customers = repeated_customers.withColumnRenamed(\"merchant_abn\", \"merchant_abn_del\")\n",
    "\n",
    "train_repeated_customers = train_customer_purchase_counts.groupBy(\"merchant_abn\")\\\n",
    "                                             .agg(F.count(\"consumer_id\").alias(\"repeated_customers\"))\n",
    "train_repeated_customers = train_repeated_customers.withColumnRenamed(\"merchant_abn\", \"merchant_abn_del\")\n",
    "repeated_customers.orderBy(\"merchant_abn_del\")"
   ]
  },
  {
   "cell_type": "code",
   "execution_count": 9,
   "metadata": {},
   "outputs": [],
   "source": [
    "# merging the counts of repeated customer and total customer in each merchant together\n",
    "merchant_loyality_rate = merchant_loyality_rate.join(repeated_customers, \n",
    "                                                     merchant_loyality_rate.merchant_abn == repeated_customers.merchant_abn_del, \n",
    "                                                     \"left\").drop(\"merchant_abn_del\")\n",
    "train_merchant_loyality_rate = train_merchant_loyality_rate.join(train_repeated_customers, \n",
    "                                                                train_merchant_loyality_rate.merchant_abn == train_repeated_customers.merchant_abn_del, \n",
    "                                                                \"left\").drop(\"merchant_abn_del\")"
   ]
  },
  {
   "cell_type": "code",
   "execution_count": 10,
   "metadata": {},
   "outputs": [
    {
     "name": "stderr",
     "output_type": "stream",
     "text": [
      "                                                                                \r"
     ]
    },
    {
     "data": {
      "text/html": [
       "<table border='1'>\n",
       "<tr><th>merchant_abn</th><th>Total_consumers</th><th>repeated_customers</th></tr>\n",
       "<tr><td>35344855546</td><td>1268</td><td>35</td></tr>\n",
       "<tr><td>83412691377</td><td>9587</td><td>2267</td></tr>\n",
       "<tr><td>38700038932</td><td>5416</td><td>655</td></tr>\n",
       "<tr><td>73256306726</td><td>4155</td><td>404</td></tr>\n",
       "<tr><td>15613631617</td><td>1499</td><td>49</td></tr>\n",
       "<tr><td>73841664453</td><td>808</td><td>11</td></tr>\n",
       "<tr><td>24406529929</td><td>3307</td><td>248</td></tr>\n",
       "<tr><td>48214071373</td><td>449</td><td>3</td></tr>\n",
       "<tr><td>28767881738</td><td>3</td><td>0</td></tr>\n",
       "<tr><td>96946925998</td><td>112</td><td>0</td></tr>\n",
       "<tr><td>34440496342</td><td>188</td><td>0</td></tr>\n",
       "<tr><td>19839532017</td><td>642</td><td>9</td></tr>\n",
       "<tr><td>92202115241</td><td>104</td><td>0</td></tr>\n",
       "<tr><td>41956465747</td><td>234</td><td>1</td></tr>\n",
       "<tr><td>12516851436</td><td>184</td><td>0</td></tr>\n",
       "<tr><td>37935728745</td><td>4</td><td>0</td></tr>\n",
       "<tr><td>78916025936</td><td>59</td><td>1</td></tr>\n",
       "<tr><td>60654402457</td><td>159</td><td>1</td></tr>\n",
       "<tr><td>52763133264</td><td>111</td><td>0</td></tr>\n",
       "<tr><td>38986645707</td><td>37</td><td>0</td></tr>\n",
       "</table>\n",
       "only showing top 20 rows\n"
      ],
      "text/plain": [
       "+------------+---------------+------------------+\n",
       "|merchant_abn|Total_consumers|repeated_customers|\n",
       "+------------+---------------+------------------+\n",
       "| 35344855546|           1268|                35|\n",
       "| 83412691377|           9587|              2267|\n",
       "| 38700038932|           5416|               655|\n",
       "| 73256306726|           4155|               404|\n",
       "| 15613631617|           1499|                49|\n",
       "| 73841664453|            808|                11|\n",
       "| 24406529929|           3307|               248|\n",
       "| 48214071373|            449|                 3|\n",
       "| 28767881738|              3|                 0|\n",
       "| 96946925998|            112|                 0|\n",
       "| 34440496342|            188|                 0|\n",
       "| 19839532017|            642|                 9|\n",
       "| 92202115241|            104|                 0|\n",
       "| 41956465747|            234|                 1|\n",
       "| 12516851436|            184|                 0|\n",
       "| 37935728745|              4|                 0|\n",
       "| 78916025936|             59|                 1|\n",
       "| 60654402457|            159|                 1|\n",
       "| 52763133264|            111|                 0|\n",
       "| 38986645707|             37|                 0|\n",
       "+------------+---------------+------------------+\n",
       "only showing top 20 rows"
      ]
     },
     "execution_count": 10,
     "metadata": {},
     "output_type": "execute_result"
    }
   ],
   "source": [
    "# for null values, meaning no purchase ever, or no repeated customer 0 is filled in.\n",
    "merchant_loyality_rate = merchant_loyality_rate.na.fill(value=0,subset=[\"repeated_customers\"])\n",
    "train_merchant_loyality_rate = train_merchant_loyality_rate.na.fill(value=0,subset=[\"repeated_customers\"])\n",
    "merchant_loyality_rate"
   ]
  },
  {
   "cell_type": "code",
   "execution_count": 11,
   "metadata": {},
   "outputs": [],
   "source": [
    "# calculate purchase rate by dividing repeated customers by total customers\n",
    "merchant_loyality_rate = merchant_loyality_rate.withColumn(\"repeated_purchase_rate\", \n",
    "                                                          (F.col(\"repeated_customers\")) / (F.col(\"Total_consumers\")))\n",
    "train_merchant_loyality_rate = train_merchant_loyality_rate.withColumn(\"repeated_purchase_rate\", \n",
    "                                                          (F.col(\"repeated_customers\")) / (F.col(\"Total_consumers\")))"
   ]
  },
  {
   "cell_type": "code",
   "execution_count": 12,
   "metadata": {},
   "outputs": [
    {
     "name": "stderr",
     "output_type": "stream",
     "text": [
      "                                                                                \r"
     ]
    },
    {
     "data": {
      "text/html": [
       "<table border='1'>\n",
       "<tr><th>merchant_abn</th><th>Total_consumers</th><th>repeated_customers</th><th>repeated_purchase_rate</th></tr>\n",
       "<tr><td>86578477987</td><td>24080</td><td>24070</td><td>0.9995847176079734</td></tr>\n",
       "<tr><td>24852446429</td><td>24080</td><td>24070</td><td>0.9995847176079734</td></tr>\n",
       "<tr><td>64203420245</td><td>24080</td><td>24064</td><td>0.9993355481727575</td></tr>\n",
       "<tr><td>49891706470</td><td>24078</td><td>24054</td><td>0.9990032394717169</td></tr>\n",
       "<tr><td>46804135891</td><td>24076</td><td>24042</td><td>0.9985878052832696</td></tr>\n",
       "<tr><td>45629217853</td><td>24076</td><td>24015</td><td>0.9974663565376308</td></tr>\n",
       "<tr><td>89726005175</td><td>24071</td><td>23984</td><td>0.9963856923268664</td></tr>\n",
       "<tr><td>43186523025</td><td>24064</td><td>23930</td><td>0.9944315159574468</td></tr>\n",
       "<tr><td>80324045558</td><td>24063</td><td>23904</td><td>0.9933923450941279</td></tr>\n",
       "<tr><td>63290521567</td><td>24038</td><td>23799</td><td>0.9900574091022548</td></tr>\n",
       "<tr><td>68216911708</td><td>24044</td><td>23797</td><td>0.9897271668607552</td></tr>\n",
       "<tr><td>21439773999</td><td>23738</td><td>22331</td><td>0.9407279467520432</td></tr>\n",
       "<tr><td>32234779638</td><td>23715</td><td>22129</td><td>0.933122496310352</td></tr>\n",
       "<tr><td>64403598239</td><td>23665</td><td>22007</td><td>0.9299387280794422</td></tr>\n",
       "<tr><td>72472909171</td><td>23459</td><td>21084</td><td>0.8987595379172173</td></tr>\n",
       "<tr><td>94493496784</td><td>23375</td><td>20925</td><td>0.895187165775401</td></tr>\n",
       "<tr><td>79417999332</td><td>23451</td><td>20905</td><td>0.8914332011428084</td></tr>\n",
       "<tr><td>60956456424</td><td>23096</td><td>20030</td><td>0.8672497402147558</td></tr>\n",
       "<tr><td>32361057556</td><td>22952</td><td>19490</td><td>0.8491634715928895</td></tr>\n",
       "<tr><td>91923722701</td><td>22635</td><td>18473</td><td>0.8161254694057875</td></tr>\n",
       "</table>\n",
       "only showing top 20 rows\n"
      ],
      "text/plain": [
       "+------------+---------------+------------------+----------------------+\n",
       "|merchant_abn|Total_consumers|repeated_customers|repeated_purchase_rate|\n",
       "+------------+---------------+------------------+----------------------+\n",
       "| 86578477987|          24080|             24070|    0.9995847176079734|\n",
       "| 24852446429|          24080|             24070|    0.9995847176079734|\n",
       "| 64203420245|          24080|             24064|    0.9993355481727575|\n",
       "| 49891706470|          24078|             24054|    0.9990032394717169|\n",
       "| 46804135891|          24076|             24042|    0.9985878052832696|\n",
       "| 45629217853|          24076|             24015|    0.9974663565376308|\n",
       "| 89726005175|          24071|             23984|    0.9963856923268664|\n",
       "| 43186523025|          24064|             23930|    0.9944315159574468|\n",
       "| 80324045558|          24063|             23904|    0.9933923450941279|\n",
       "| 63290521567|          24038|             23799|    0.9900574091022548|\n",
       "| 68216911708|          24044|             23797|    0.9897271668607552|\n",
       "| 21439773999|          23738|             22331|    0.9407279467520432|\n",
       "| 32234779638|          23715|             22129|     0.933122496310352|\n",
       "| 64403598239|          23665|             22007|    0.9299387280794422|\n",
       "| 72472909171|          23459|             21084|    0.8987595379172173|\n",
       "| 94493496784|          23375|             20925|     0.895187165775401|\n",
       "| 79417999332|          23451|             20905|    0.8914332011428084|\n",
       "| 60956456424|          23096|             20030|    0.8672497402147558|\n",
       "| 32361057556|          22952|             19490|    0.8491634715928895|\n",
       "| 91923722701|          22635|             18473|    0.8161254694057875|\n",
       "+------------+---------------+------------------+----------------------+\n",
       "only showing top 20 rows"
      ]
     },
     "execution_count": 12,
     "metadata": {},
     "output_type": "execute_result"
    }
   ],
   "source": [
    "merchant_loyality_rate.orderBy(\"repeated_purchase_rate\", ascending=False)"
   ]
  },
  {
   "cell_type": "code",
   "execution_count": 13,
   "metadata": {},
   "outputs": [
    {
     "name": "stderr",
     "output_type": "stream",
     "text": [
      "                                                                                \r"
     ]
    },
    {
     "data": {
      "text/html": [
       "<table border='1'>\n",
       "<tr><th>merchant_abn</th><th>Total_consumers</th><th>repeated_customers</th><th>repeated_purchase_rate</th></tr>\n",
       "<tr><td>0</td><td>0</td><td>0</td><td>0</td></tr>\n",
       "</table>\n"
      ],
      "text/plain": [
       "+------------+---------------+------------------+----------------------+\n",
       "|merchant_abn|Total_consumers|repeated_customers|repeated_purchase_rate|\n",
       "+------------+---------------+------------------+----------------------+\n",
       "|           0|              0|                 0|                     0|\n",
       "+------------+---------------+------------------+----------------------+"
      ]
     },
     "execution_count": 13,
     "metadata": {},
     "output_type": "execute_result"
    }
   ],
   "source": [
    "# check for null values\n",
    "merchant_loyality_rate.select([F.count(F.when(F.col(c).contains('None') | \\\n",
    "                                                       F.col(c).contains('NULL') | \\\n",
    "                                                      (F.col(c) == '' ) | \\\n",
    "                                                       F.col(c).isNull() | \\\n",
    "                                                       F.isnan(c), c \n",
    "                                                      )).alias(c)\n",
    "                                                       for c in merchant_loyality_rate.columns])"
   ]
  },
  {
   "cell_type": "code",
   "execution_count": 41,
   "metadata": {},
   "outputs": [],
   "source": [
    "# grouping data by merchant abn to get standard deviation\n",
    "agg_trans_sdf = transaction_sdf.groupBy(\"merchant_abn\").agg(F.stddev(\"dollar_value\").alias(\"SD of merchant revenue\"))\n",
    "agg_trans_sdf = agg_trans_sdf.withColumnRenamed(\"merchant_abn\", \"merchant_abn_del\")"
   ]
  },
  {
   "cell_type": "code",
   "execution_count": 44,
   "metadata": {},
   "outputs": [
    {
     "name": "stderr",
     "output_type": "stream",
     "text": [
      "[Stage 351:>                                                      (0 + 10) / 11]\r"
     ]
    }
   ],
   "source": [
    "merchant_loyality_rate_vis = merchant_loyality_rate.join(agg_trans_sdf, \n",
    "                                                     merchant_loyality_rate.merchant_abn == agg_trans_sdf.merchant_abn_del, \n",
    "                                                     \"left\").drop(\"merchant_abn_del\")\n",
    "# plotting standard deviation against repeated purchase rate\n",
    "merchant_loyality_rate_vis = merchant_loyality_rate_vis.select(\"merchant_abn\", \"repeated_purchase_rate\", \"SD of merchant revenue\").toPandas()        \n",
    "merchant_loyality_rate_vis[\"SD of merchant revenue\"] = np.log10(merchant_loyality_rate_vis[\"SD of merchant revenue\"])\n",
    "sns.scatterplot(data=merchant_loyality_rate_vis, x=\"repeated_purchase_rate\", y=\"SD of merchant revenue\")\n",
    "plt.xlabel(\"Repeated Purchase Rate\")\n",
    "plt.title(\"Repeated Purchase Rate against SD of merchant revenue\")\n",
    "plt.savefig(\"../plots/RPRvsSD.png\")"
   ]
  },
  {
   "cell_type": "code",
   "execution_count": null,
   "metadata": {},
   "outputs": [
    {
     "name": "stderr",
     "output_type": "stream",
     "text": [
      "Exception in thread \"serve-DataFrame\" java.net.SocketTimeoutException: Accept timed out\n",
      "\tat java.net.PlainSocketImpl.socketAccept(Native Method)\n",
      "\tat java.net.AbstractPlainSocketImpl.accept(AbstractPlainSocketImpl.java:409)\n",
      "\tat java.net.ServerSocket.implAccept(ServerSocket.java:560)\n",
      "\tat java.net.ServerSocket.accept(ServerSocket.java:528)\n",
      "\tat org.apache.spark.security.SocketAuthServer$$anon$1.run(SocketAuthServer.scala:64)\n"
     ]
    }
   ],
   "source": [
    "# output the file\n",
    "merchant_loyality_rate.toPandas().to_csv('../data/curated/final_model/input/loyalty_full.csv', index=False)\n",
    "train_merchant_loyality_rate.toPandas().to_csv('../data/curated/final_model/input/loyalty_train.csv', index=False)"
   ]
  },
  {
   "cell_type": "code",
   "execution_count": null,
   "metadata": {},
   "outputs": [],
   "source": []
  }
 ],
 "metadata": {
  "kernelspec": {
   "display_name": "Python 3.9.7 ('base')",
   "language": "python",
   "name": "python3"
  },
  "language_info": {
   "codemirror_mode": {
    "name": "ipython",
    "version": 3
   },
   "file_extension": ".py",
   "mimetype": "text/x-python",
   "name": "python",
   "nbconvert_exporter": "python",
   "pygments_lexer": "ipython3",
   "version": "3.9.7"
  },
  "orig_nbformat": 4,
  "vscode": {
   "interpreter": {
    "hash": "40d3a090f54c6569ab1632332b64b2c03c39dcf918b08424e98f38b5ae0af88f"
   }
  }
 },
 "nbformat": 4,
 "nbformat_minor": 2
}
