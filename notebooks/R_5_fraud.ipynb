{
 "cells": [
  {
   "cell_type": "code",
   "execution_count": 1,
   "metadata": {},
   "outputs": [],
   "source": [
    "# import libraries\n",
    "import pandas as pd\n",
    "from pyspark.sql import SparkSession\n",
    "from pyspark.sql import functions as F\n",
    "from statistics import mean, stdev, pstdev"
   ]
  },
  {
   "cell_type": "code",
   "execution_count": 2,
   "metadata": {},
   "outputs": [
    {
     "name": "stdout",
     "output_type": "stream",
     "text": [
      "22/09/15 17:13:01 WARN Utils: Your hostname, modaxuexiweiyuanzhangde-MacBook-Pro.local resolves to a loopback address: 127.0.0.1; using 192.168.120.37 instead (on interface en0)\n",
      "22/09/15 17:13:01 WARN Utils: Set SPARK_LOCAL_IP if you need to bind to another address\n"
     ]
    },
    {
     "name": "stderr",
     "output_type": "stream",
     "text": [
      "Setting default log level to \"WARN\".\n",
      "To adjust logging level use sc.setLogLevel(newLevel). For SparkR, use setLogLevel(newLevel).\n"
     ]
    },
    {
     "name": "stdout",
     "output_type": "stream",
     "text": [
      "22/09/15 17:13:02 WARN NativeCodeLoader: Unable to load native-hadoop library for your platform... using builtin-java classes where applicable\n",
      "22/09/15 17:13:03 WARN Utils: Service 'SparkUI' could not bind on port 4040. Attempting port 4041.\n"
     ]
    }
   ],
   "source": [
    "# setup spark\n",
    "spark = (\n",
    "    SparkSession.builder.appName(\"aggregate data for first 3 final model variables\")\n",
    "    .config(\"spark.sql.repl.eagerEval.enabled\", True) \n",
    "    .config(\"spark.sql.parquet.cacheMetadata\", \"true\")\n",
    "    .config(\"spark.sql.session.timeZone\", \"Etc/UTC\")\n",
    "    .config(\"spark.driver.memory\", \"15g\")\n",
    "    .getOrCreate()\n",
    ")"
   ]
  },
  {
   "cell_type": "code",
   "execution_count": 3,
   "metadata": {},
   "outputs": [
    {
     "name": "stderr",
     "output_type": "stream",
     "text": [
      "                                                                                \r"
     ]
    }
   ],
   "source": [
    "data1 = spark.read.parquet(\"../data/tables/transactions_20210228_20210827_snapshot/\")\n",
    "data2 = spark.read.parquet(\"../data/tables/transactions_20210828_20220227_snapshot/\")\n",
    "data3 = spark.read.parquet(\"../data/tables/transactions_20220228_20220828_snapshot/\")\n",
    "\n",
    "data = data1.union(data2)\n",
    "data = data.union(data3)"
   ]
  },
  {
   "cell_type": "code",
   "execution_count": 4,
   "metadata": {},
   "outputs": [],
   "source": [
    "merchant_fraud = spark.read.option(\"header\",True).csv('../data/tables/merchant_fraud_probability.csv', )\n",
    "consumer_fraud = spark.read.option(\"header\",True).csv('../data/tables/consumer_fraud_probability.csv', )"
   ]
  },
  {
   "cell_type": "code",
   "execution_count": 5,
   "metadata": {},
   "outputs": [
    {
     "data": {
      "text/plain": [
       "Row(merchant_abn='19492220327', order_datetime='2021-11-28', fraud_probability='44.403658647495355')"
      ]
     },
     "execution_count": 5,
     "metadata": {},
     "output_type": "execute_result"
    }
   ],
   "source": [
    "merchant_fraud.head()"
   ]
  },
  {
   "cell_type": "code",
   "execution_count": 6,
   "metadata": {},
   "outputs": [],
   "source": [
    "merchant_fraud_join_data = merchant_fraud.join(data, [merchant_fraud.merchant_abn == data.merchant_abn, \\\n",
    "    merchant_fraud.order_datetime == data.order_datetime], 'left')"
   ]
  },
  {
   "cell_type": "code",
   "execution_count": 7,
   "metadata": {},
   "outputs": [],
   "source": [
    "consumer_fraud_join_data = consumer_fraud.join(data, [consumer_fraud.user_id == data.user_id, \\\n",
    "    consumer_fraud.order_datetime == data.order_datetime], 'left')"
   ]
  },
  {
   "cell_type": "code",
   "execution_count": 32,
   "metadata": {},
   "outputs": [
    {
     "name": "stderr",
     "output_type": "stream",
     "text": [
      "                                                                                \r"
     ]
    }
   ],
   "source": [
    "merchant_fraud_join_data_df = merchant_fraud_join_data.toPandas()"
   ]
  },
  {
   "cell_type": "code",
   "execution_count": 33,
   "metadata": {},
   "outputs": [
    {
     "name": "stderr",
     "output_type": "stream",
     "text": [
      "                                                                                \r"
     ]
    }
   ],
   "source": [
    "consumer_fraud_join_data_df = consumer_fraud_join_data.toPandas()"
   ]
  },
  {
   "cell_type": "code",
   "execution_count": 34,
   "metadata": {},
   "outputs": [],
   "source": [
    "consumer_fraud_join_data_df = consumer_fraud_join_data_df.iloc[:, 2:]"
   ]
  },
  {
   "cell_type": "code",
   "execution_count": 35,
   "metadata": {},
   "outputs": [],
   "source": [
    "merchant_fraud_join_data_df = merchant_fraud_join_data_df.iloc[:, 2:]"
   ]
  },
  {
   "cell_type": "code",
   "execution_count": 36,
   "metadata": {},
   "outputs": [],
   "source": [
    "merchant_fraud_join_data_df['dollar_value2'] = merchant_fraud_join_data_df['dollar_value']\n",
    "consumer_fraud_join_data_df['dollar_value2'] = consumer_fraud_join_data_df['dollar_value']"
   ]
  },
  {
   "cell_type": "code",
   "execution_count": 37,
   "metadata": {},
   "outputs": [
    {
     "data": {
      "text/html": [
       "<div>\n",
       "<style scoped>\n",
       "    .dataframe tbody tr th:only-of-type {\n",
       "        vertical-align: middle;\n",
       "    }\n",
       "\n",
       "    .dataframe tbody tr th {\n",
       "        vertical-align: top;\n",
       "    }\n",
       "\n",
       "    .dataframe thead th {\n",
       "        text-align: right;\n",
       "    }\n",
       "</style>\n",
       "<table border=\"1\" class=\"dataframe\">\n",
       "  <thead>\n",
       "    <tr style=\"text-align: right;\">\n",
       "      <th></th>\n",
       "      <th>fraud_probability</th>\n",
       "      <th>user_id</th>\n",
       "      <th>merchant_abn</th>\n",
       "      <th>dollar_value</th>\n",
       "      <th>order_id</th>\n",
       "      <th>order_datetime</th>\n",
       "      <th>dollar_value2</th>\n",
       "    </tr>\n",
       "  </thead>\n",
       "  <tbody>\n",
       "    <tr>\n",
       "      <th>0</th>\n",
       "      <td>10.58055311139687</td>\n",
       "      <td>9</td>\n",
       "      <td>77990807356</td>\n",
       "      <td>2295.010789</td>\n",
       "      <td>5a85b720-1a32-481e-bc1c-3654d5e320c2</td>\n",
       "      <td>2021-12-13</td>\n",
       "      <td>2295.010789</td>\n",
       "    </tr>\n",
       "    <tr>\n",
       "      <th>1</th>\n",
       "      <td>10.58055311139687</td>\n",
       "      <td>9</td>\n",
       "      <td>24852446429</td>\n",
       "      <td>10.251999</td>\n",
       "      <td>dd9f50e9-e9cf-4fdb-8e74-eed0da81ab10</td>\n",
       "      <td>2021-12-13</td>\n",
       "      <td>10.251999</td>\n",
       "    </tr>\n",
       "    <tr>\n",
       "      <th>2</th>\n",
       "      <td>9.213002123639797</td>\n",
       "      <td>13</td>\n",
       "      <td>27440079026</td>\n",
       "      <td>2133.187970</td>\n",
       "      <td>6f4377b6-9fa0-4cc8-b354-60d0288af55c</td>\n",
       "      <td>2021-12-06</td>\n",
       "      <td>2133.187970</td>\n",
       "    </tr>\n",
       "    <tr>\n",
       "      <th>3</th>\n",
       "      <td>21.67558802682104</td>\n",
       "      <td>21</td>\n",
       "      <td>11439466003</td>\n",
       "      <td>402.082402</td>\n",
       "      <td>d01441bf-9da6-46de-8567-63fdd1651679</td>\n",
       "      <td>2021-06-08</td>\n",
       "      <td>402.082402</td>\n",
       "    </tr>\n",
       "    <tr>\n",
       "      <th>4</th>\n",
       "      <td>21.67558802682104</td>\n",
       "      <td>21</td>\n",
       "      <td>55092047467</td>\n",
       "      <td>12298.652944</td>\n",
       "      <td>9d048426-40f6-4d44-a5da-0cfd53645bff</td>\n",
       "      <td>2021-06-08</td>\n",
       "      <td>12298.652944</td>\n",
       "    </tr>\n",
       "    <tr>\n",
       "      <th>...</th>\n",
       "      <td>...</td>\n",
       "      <td>...</td>\n",
       "      <td>...</td>\n",
       "      <td>...</td>\n",
       "      <td>...</td>\n",
       "      <td>...</td>\n",
       "      <td>...</td>\n",
       "    </tr>\n",
       "    <tr>\n",
       "      <th>80555</th>\n",
       "      <td>32.702645569452784</td>\n",
       "      <td>24067</td>\n",
       "      <td>49891706470</td>\n",
       "      <td>20.597043</td>\n",
       "      <td>d2fa99f8-a50e-4e86-a0c9-d67452bb6703</td>\n",
       "      <td>2021-09-04</td>\n",
       "      <td>20.597043</td>\n",
       "    </tr>\n",
       "    <tr>\n",
       "      <th>80556</th>\n",
       "      <td>32.702645569452784</td>\n",
       "      <td>24067</td>\n",
       "      <td>38049816588</td>\n",
       "      <td>9674.595193</td>\n",
       "      <td>c04878b3-3c76-4656-9d5c-5ffc748653f0</td>\n",
       "      <td>2021-09-04</td>\n",
       "      <td>9674.595193</td>\n",
       "    </tr>\n",
       "    <tr>\n",
       "      <th>80557</th>\n",
       "      <td>14.254816637840468</td>\n",
       "      <td>24070</td>\n",
       "      <td>43833568675</td>\n",
       "      <td>2934.275292</td>\n",
       "      <td>e280debe-3b62-42b3-a75d-3545fc5784d9</td>\n",
       "      <td>2021-11-16</td>\n",
       "      <td>2934.275292</td>\n",
       "    </tr>\n",
       "    <tr>\n",
       "      <th>80558</th>\n",
       "      <td>14.254816637840468</td>\n",
       "      <td>24070</td>\n",
       "      <td>30372130473</td>\n",
       "      <td>137.421301</td>\n",
       "      <td>336644b0-5f13-4a4f-842c-8d8dfe26fa1b</td>\n",
       "      <td>2021-11-16</td>\n",
       "      <td>137.421301</td>\n",
       "    </tr>\n",
       "    <tr>\n",
       "      <th>80559</th>\n",
       "      <td>14.254816637840468</td>\n",
       "      <td>24070</td>\n",
       "      <td>60956456424</td>\n",
       "      <td>128.697628</td>\n",
       "      <td>310175c8-fa4a-4b54-9408-33da42d07852</td>\n",
       "      <td>2021-11-16</td>\n",
       "      <td>128.697628</td>\n",
       "    </tr>\n",
       "  </tbody>\n",
       "</table>\n",
       "<p>80560 rows × 7 columns</p>\n",
       "</div>"
      ],
      "text/plain": [
       "        fraud_probability  user_id  merchant_abn  dollar_value  \\\n",
       "0       10.58055311139687        9   77990807356   2295.010789   \n",
       "1       10.58055311139687        9   24852446429     10.251999   \n",
       "2       9.213002123639797       13   27440079026   2133.187970   \n",
       "3       21.67558802682104       21   11439466003    402.082402   \n",
       "4       21.67558802682104       21   55092047467  12298.652944   \n",
       "...                   ...      ...           ...           ...   \n",
       "80555  32.702645569452784    24067   49891706470     20.597043   \n",
       "80556  32.702645569452784    24067   38049816588   9674.595193   \n",
       "80557  14.254816637840468    24070   43833568675   2934.275292   \n",
       "80558  14.254816637840468    24070   30372130473    137.421301   \n",
       "80559  14.254816637840468    24070   60956456424    128.697628   \n",
       "\n",
       "                                   order_id order_datetime  dollar_value2  \n",
       "0      5a85b720-1a32-481e-bc1c-3654d5e320c2     2021-12-13    2295.010789  \n",
       "1      dd9f50e9-e9cf-4fdb-8e74-eed0da81ab10     2021-12-13      10.251999  \n",
       "2      6f4377b6-9fa0-4cc8-b354-60d0288af55c     2021-12-06    2133.187970  \n",
       "3      d01441bf-9da6-46de-8567-63fdd1651679     2021-06-08     402.082402  \n",
       "4      9d048426-40f6-4d44-a5da-0cfd53645bff     2021-06-08   12298.652944  \n",
       "...                                     ...            ...            ...  \n",
       "80555  d2fa99f8-a50e-4e86-a0c9-d67452bb6703     2021-09-04      20.597043  \n",
       "80556  c04878b3-3c76-4656-9d5c-5ffc748653f0     2021-09-04    9674.595193  \n",
       "80557  e280debe-3b62-42b3-a75d-3545fc5784d9     2021-11-16    2934.275292  \n",
       "80558  336644b0-5f13-4a4f-842c-8d8dfe26fa1b     2021-11-16     137.421301  \n",
       "80559  310175c8-fa4a-4b54-9408-33da42d07852     2021-11-16     128.697628  \n",
       "\n",
       "[80560 rows x 7 columns]"
      ]
     },
     "execution_count": 37,
     "metadata": {},
     "output_type": "execute_result"
    }
   ],
   "source": [
    "consumer_fraud_join_data_df"
   ]
  },
  {
   "cell_type": "code",
   "execution_count": 38,
   "metadata": {},
   "outputs": [],
   "source": [
    "merchant_fraud_instance_agg = merchant_fraud_join_data_df.groupby(['merchant_abn', 'order_datetime']).agg({'dollar_value': mean, \\\n",
    "    'dollar_value2': pstdev, 'order_id':'count', 'user_id':'nunique', 'fraud_probability': 'first'})"
   ]
  },
  {
   "cell_type": "code",
   "execution_count": 39,
   "metadata": {},
   "outputs": [],
   "source": [
    "consumer_fraud_instance_agg = consumer_fraud_join_data_df.groupby(['user_id', 'order_datetime']).agg({'dollar_value': mean, \\\n",
    "    'dollar_value2': pstdev, 'order_id':'count', 'merchant_abn':'nunique', 'fraud_probability': 'first'})"
   ]
  },
  {
   "cell_type": "code",
   "execution_count": 40,
   "metadata": {},
   "outputs": [],
   "source": [
    "tmp = merchant_fraud_instance_agg['order_id']\n",
    "tmp2 = [x-1 if x != 1 else 1 for x in tmp ]\n",
    "merchant_fraud_instance_agg['count**'] = tmp2"
   ]
  },
  {
   "cell_type": "code",
   "execution_count": 41,
   "metadata": {},
   "outputs": [],
   "source": [
    "tmp = consumer_fraud_instance_agg['order_id']\n",
    "tmp2 = [x-1 if x != 1 else 1 for x in tmp ]\n",
    "consumer_fraud_instance_agg['count**'] = tmp2"
   ]
  },
  {
   "cell_type": "code",
   "execution_count": 42,
   "metadata": {},
   "outputs": [],
   "source": [
    "merchant_fraud_instance_agg['sd_transact'] = merchant_fraud_instance_agg['dollar_value2']*merchant_fraud_instance_agg['order_id']/merchant_fraud_instance_agg['count**']\n",
    "consumer_fraud_instance_agg['sd_transact'] = consumer_fraud_instance_agg['dollar_value2']*consumer_fraud_instance_agg['order_id']/consumer_fraud_instance_agg['count**']"
   ]
  },
  {
   "cell_type": "code",
   "execution_count": 45,
   "metadata": {},
   "outputs": [],
   "source": [
    "merchant_fraud_instance_agg = merchant_fraud_instance_agg.drop(['dollar_value2', 'count**'], axis=1)\n",
    "consumer_fraud_instance_agg = consumer_fraud_instance_agg.drop(['dollar_value2', 'count**'], axis=1)"
   ]
  },
  {
   "cell_type": "code",
   "execution_count": 50,
   "metadata": {},
   "outputs": [],
   "source": [
    "merchant_fraud_instance_agg = merchant_fraud_instance_agg.rename(columns = {'order_id': 'count', 'dollar_value': 'mean_transact', 'merchant_abn': 'distinct_merchants'})\n",
    "consumer_fraud_instance_agg = consumer_fraud_instance_agg.rename(columns = {'order_id': 'count', 'dollar_value': 'mean_transact', 'merchant_abn': 'distinct_merchants'})"
   ]
  },
  {
   "cell_type": "code",
   "execution_count": 51,
   "metadata": {},
   "outputs": [
    {
     "data": {
      "text/html": [
       "<div>\n",
       "<style scoped>\n",
       "    .dataframe tbody tr th:only-of-type {\n",
       "        vertical-align: middle;\n",
       "    }\n",
       "\n",
       "    .dataframe tbody tr th {\n",
       "        vertical-align: top;\n",
       "    }\n",
       "\n",
       "    .dataframe thead th {\n",
       "        text-align: right;\n",
       "    }\n",
       "</style>\n",
       "<table border=\"1\" class=\"dataframe\">\n",
       "  <thead>\n",
       "    <tr style=\"text-align: right;\">\n",
       "      <th></th>\n",
       "      <th></th>\n",
       "      <th>mean_transact</th>\n",
       "      <th>count</th>\n",
       "      <th>distinct_merchants</th>\n",
       "      <th>fraud_probability</th>\n",
       "      <th>sd_transact</th>\n",
       "    </tr>\n",
       "    <tr>\n",
       "      <th>user_id</th>\n",
       "      <th>order_datetime</th>\n",
       "      <th></th>\n",
       "      <th></th>\n",
       "      <th></th>\n",
       "      <th></th>\n",
       "      <th></th>\n",
       "    </tr>\n",
       "  </thead>\n",
       "  <tbody>\n",
       "    <tr>\n",
       "      <th>1</th>\n",
       "      <th>2022-02-20</th>\n",
       "      <td>2479.076338</td>\n",
       "      <td>1</td>\n",
       "      <td>1</td>\n",
       "      <td>9.805431136520959</td>\n",
       "      <td>0.000000</td>\n",
       "    </tr>\n",
       "    <tr>\n",
       "      <th rowspan=\"2\" valign=\"top\">2</th>\n",
       "      <th>2021-08-30</th>\n",
       "      <td>710.667418</td>\n",
       "      <td>3</td>\n",
       "      <td>3</td>\n",
       "      <td>9.599513915425788</td>\n",
       "      <td>1023.234306</td>\n",
       "    </tr>\n",
       "    <tr>\n",
       "      <th>2021-09-25</th>\n",
       "      <td>2236.461666</td>\n",
       "      <td>1</td>\n",
       "      <td>1</td>\n",
       "      <td>10.069850934775245</td>\n",
       "      <td>0.000000</td>\n",
       "    </tr>\n",
       "    <tr>\n",
       "      <th>3</th>\n",
       "      <th>2021-11-03</th>\n",
       "      <td>2334.493717</td>\n",
       "      <td>1</td>\n",
       "      <td>1</td>\n",
       "      <td>8.300636455314633</td>\n",
       "      <td>0.000000</td>\n",
       "    </tr>\n",
       "    <tr>\n",
       "      <th>4</th>\n",
       "      <th>2021-10-09</th>\n",
       "      <td>775.013087</td>\n",
       "      <td>3</td>\n",
       "      <td>3</td>\n",
       "      <td>9.633302411090419</td>\n",
       "      <td>1106.645341</td>\n",
       "    </tr>\n",
       "    <tr>\n",
       "      <th>...</th>\n",
       "      <th>...</th>\n",
       "      <td>...</td>\n",
       "      <td>...</td>\n",
       "      <td>...</td>\n",
       "      <td>...</td>\n",
       "      <td>...</td>\n",
       "    </tr>\n",
       "    <tr>\n",
       "      <th rowspan=\"3\" valign=\"top\">24079</th>\n",
       "      <th>2021-10-12</th>\n",
       "      <td>4708.648444</td>\n",
       "      <td>1</td>\n",
       "      <td>1</td>\n",
       "      <td>14.948165055476418</td>\n",
       "      <td>0.000000</td>\n",
       "    </tr>\n",
       "    <tr>\n",
       "      <th>2021-11-08</th>\n",
       "      <td>1408.125536</td>\n",
       "      <td>2</td>\n",
       "      <td>2</td>\n",
       "      <td>8.940524305562004</td>\n",
       "      <td>2185.655120</td>\n",
       "    </tr>\n",
       "    <tr>\n",
       "      <th>2021-11-26</th>\n",
       "      <td>696.038011</td>\n",
       "      <td>4</td>\n",
       "      <td>4</td>\n",
       "      <td>8.838622117011905</td>\n",
       "      <td>1016.552311</td>\n",
       "    </tr>\n",
       "    <tr>\n",
       "      <th rowspan=\"2\" valign=\"top\">24081</th>\n",
       "      <th>2021-10-08</th>\n",
       "      <td>2160.357725</td>\n",
       "      <td>2</td>\n",
       "      <td>2</td>\n",
       "      <td>14.343771755068074</td>\n",
       "      <td>4241.359534</td>\n",
       "    </tr>\n",
       "    <tr>\n",
       "      <th>2021-11-28</th>\n",
       "      <td>1761.478144</td>\n",
       "      <td>2</td>\n",
       "      <td>2</td>\n",
       "      <td>11.695396629230043</td>\n",
       "      <td>3497.178010</td>\n",
       "    </tr>\n",
       "  </tbody>\n",
       "</table>\n",
       "<p>34765 rows × 5 columns</p>\n",
       "</div>"
      ],
      "text/plain": [
       "                        mean_transact  count  distinct_merchants  \\\n",
       "user_id order_datetime                                             \n",
       "1       2022-02-20        2479.076338      1                   1   \n",
       "2       2021-08-30         710.667418      3                   3   \n",
       "        2021-09-25        2236.461666      1                   1   \n",
       "3       2021-11-03        2334.493717      1                   1   \n",
       "4       2021-10-09         775.013087      3                   3   \n",
       "...                               ...    ...                 ...   \n",
       "24079   2021-10-12        4708.648444      1                   1   \n",
       "        2021-11-08        1408.125536      2                   2   \n",
       "        2021-11-26         696.038011      4                   4   \n",
       "24081   2021-10-08        2160.357725      2                   2   \n",
       "        2021-11-28        1761.478144      2                   2   \n",
       "\n",
       "                         fraud_probability  sd_transact  \n",
       "user_id order_datetime                                   \n",
       "1       2022-02-20       9.805431136520959     0.000000  \n",
       "2       2021-08-30       9.599513915425788  1023.234306  \n",
       "        2021-09-25      10.069850934775245     0.000000  \n",
       "3       2021-11-03       8.300636455314633     0.000000  \n",
       "4       2021-10-09       9.633302411090419  1106.645341  \n",
       "...                                    ...          ...  \n",
       "24079   2021-10-12      14.948165055476418     0.000000  \n",
       "        2021-11-08       8.940524305562004  2185.655120  \n",
       "        2021-11-26       8.838622117011905  1016.552311  \n",
       "24081   2021-10-08      14.343771755068074  4241.359534  \n",
       "        2021-11-28      11.695396629230043  3497.178010  \n",
       "\n",
       "[34765 rows x 5 columns]"
      ]
     },
     "execution_count": 51,
     "metadata": {},
     "output_type": "execute_result"
    }
   ],
   "source": [
    "consumer_fraud_instance_agg"
   ]
  },
  {
   "cell_type": "code",
   "execution_count": 52,
   "metadata": {},
   "outputs": [
    {
     "data": {
      "text/html": [
       "<div>\n",
       "<style scoped>\n",
       "    .dataframe tbody tr th:only-of-type {\n",
       "        vertical-align: middle;\n",
       "    }\n",
       "\n",
       "    .dataframe tbody tr th {\n",
       "        vertical-align: top;\n",
       "    }\n",
       "\n",
       "    .dataframe thead th {\n",
       "        text-align: right;\n",
       "    }\n",
       "</style>\n",
       "<table border=\"1\" class=\"dataframe\">\n",
       "  <thead>\n",
       "    <tr style=\"text-align: right;\">\n",
       "      <th></th>\n",
       "      <th></th>\n",
       "      <th>mean_transact</th>\n",
       "      <th>count</th>\n",
       "      <th>user_id</th>\n",
       "      <th>fraud_probability</th>\n",
       "      <th>sd_transact</th>\n",
       "    </tr>\n",
       "    <tr>\n",
       "      <th>merchant_abn</th>\n",
       "      <th>order_datetime</th>\n",
       "      <th></th>\n",
       "      <th></th>\n",
       "      <th></th>\n",
       "      <th></th>\n",
       "      <th></th>\n",
       "    </tr>\n",
       "  </thead>\n",
       "  <tbody>\n",
       "    <tr>\n",
       "      <th rowspan=\"3\" valign=\"top\">11149063370</th>\n",
       "      <th>2021-08-28</th>\n",
       "      <td>47346.113374</td>\n",
       "      <td>1</td>\n",
       "      <td>1</td>\n",
       "      <td>56.43761254995139</td>\n",
       "      <td>0.000000</td>\n",
       "    </tr>\n",
       "    <tr>\n",
       "      <th>2021-11-14</th>\n",
       "      <td>43965.463557</td>\n",
       "      <td>1</td>\n",
       "      <td>1</td>\n",
       "      <td>52.407803322764764</td>\n",
       "      <td>0.000000</td>\n",
       "    </tr>\n",
       "    <tr>\n",
       "      <th>2022-02-25</th>\n",
       "      <td>42797.348359</td>\n",
       "      <td>1</td>\n",
       "      <td>1</td>\n",
       "      <td>51.01538421455241</td>\n",
       "      <td>0.000000</td>\n",
       "    </tr>\n",
       "    <tr>\n",
       "      <th>11470993597</th>\n",
       "      <th>2021-09-28</th>\n",
       "      <td>146.289984</td>\n",
       "      <td>5</td>\n",
       "      <td>5</td>\n",
       "      <td>63.37734364737917</td>\n",
       "      <td>88.726942</td>\n",
       "    </tr>\n",
       "    <tr>\n",
       "      <th>11590404675</th>\n",
       "      <th>2021-12-21</th>\n",
       "      <td>25903.860931</td>\n",
       "      <td>2</td>\n",
       "      <td>2</td>\n",
       "      <td>29.607818240092094</td>\n",
       "      <td>9171.975519</td>\n",
       "    </tr>\n",
       "    <tr>\n",
       "      <th>...</th>\n",
       "      <th>...</th>\n",
       "      <td>...</td>\n",
       "      <td>...</td>\n",
       "      <td>...</td>\n",
       "      <td>...</td>\n",
       "      <td>...</td>\n",
       "    </tr>\n",
       "    <tr>\n",
       "      <th>94493496784</th>\n",
       "      <th>2021-11-26</th>\n",
       "      <td>99.073302</td>\n",
       "      <td>455</td>\n",
       "      <td>451</td>\n",
       "      <td>30.57903215900633</td>\n",
       "      <td>63.697587</td>\n",
       "    </tr>\n",
       "    <tr>\n",
       "      <th>96680767841</th>\n",
       "      <th>2021-11-26</th>\n",
       "      <td>308.273051</td>\n",
       "      <td>149</td>\n",
       "      <td>148</td>\n",
       "      <td>29.555244690425017</td>\n",
       "      <td>203.101900</td>\n",
       "    </tr>\n",
       "    <tr>\n",
       "      <th>97217894162</th>\n",
       "      <th>2022-01-21</th>\n",
       "      <td>28906.525608</td>\n",
       "      <td>2</td>\n",
       "      <td>2</td>\n",
       "      <td>34.94582650821017</td>\n",
       "      <td>7625.255229</td>\n",
       "    </tr>\n",
       "    <tr>\n",
       "      <th>97884414539</th>\n",
       "      <th>2021-10-19</th>\n",
       "      <td>44615.022521</td>\n",
       "      <td>1</td>\n",
       "      <td>1</td>\n",
       "      <td>89.79919971536573</td>\n",
       "      <td>0.000000</td>\n",
       "    </tr>\n",
       "    <tr>\n",
       "      <th>99989036621</th>\n",
       "      <th>2021-10-17</th>\n",
       "      <td>56552.394443</td>\n",
       "      <td>1</td>\n",
       "      <td>1</td>\n",
       "      <td>18.21089142894488</td>\n",
       "      <td>0.000000</td>\n",
       "    </tr>\n",
       "  </tbody>\n",
       "</table>\n",
       "<p>114 rows × 5 columns</p>\n",
       "</div>"
      ],
      "text/plain": [
       "                             mean_transact  count  user_id  \\\n",
       "merchant_abn order_datetime                                  \n",
       "11149063370  2021-08-28       47346.113374      1        1   \n",
       "             2021-11-14       43965.463557      1        1   \n",
       "             2022-02-25       42797.348359      1        1   \n",
       "11470993597  2021-09-28         146.289984      5        5   \n",
       "11590404675  2021-12-21       25903.860931      2        2   \n",
       "...                                    ...    ...      ...   \n",
       "94493496784  2021-11-26          99.073302    455      451   \n",
       "96680767841  2021-11-26         308.273051    149      148   \n",
       "97217894162  2022-01-21       28906.525608      2        2   \n",
       "97884414539  2021-10-19       44615.022521      1        1   \n",
       "99989036621  2021-10-17       56552.394443      1        1   \n",
       "\n",
       "                              fraud_probability  sd_transact  \n",
       "merchant_abn order_datetime                                   \n",
       "11149063370  2021-08-28       56.43761254995139     0.000000  \n",
       "             2021-11-14      52.407803322764764     0.000000  \n",
       "             2022-02-25       51.01538421455241     0.000000  \n",
       "11470993597  2021-09-28       63.37734364737917    88.726942  \n",
       "11590404675  2021-12-21      29.607818240092094  9171.975519  \n",
       "...                                         ...          ...  \n",
       "94493496784  2021-11-26       30.57903215900633    63.697587  \n",
       "96680767841  2021-11-26      29.555244690425017   203.101900  \n",
       "97217894162  2022-01-21       34.94582650821017  7625.255229  \n",
       "97884414539  2021-10-19       89.79919971536573     0.000000  \n",
       "99989036621  2021-10-17       18.21089142894488     0.000000  \n",
       "\n",
       "[114 rows x 5 columns]"
      ]
     },
     "execution_count": 52,
     "metadata": {},
     "output_type": "execute_result"
    }
   ],
   "source": [
    "merchant_fraud_instance_agg"
   ]
  },
  {
   "cell_type": "code",
   "execution_count": null,
   "metadata": {},
   "outputs": [],
   "source": []
  }
 ],
 "metadata": {
  "kernelspec": {
   "display_name": "Python 3.9.7 ('base')",
   "language": "python",
   "name": "python3"
  },
  "language_info": {
   "codemirror_mode": {
    "name": "ipython",
    "version": 3
   },
   "file_extension": ".py",
   "mimetype": "text/x-python",
   "name": "python",
   "nbconvert_exporter": "python",
   "pygments_lexer": "ipython3",
   "version": "3.9.7"
  },
  "orig_nbformat": 4,
  "vscode": {
   "interpreter": {
    "hash": "cd78fef2128015050713e82ca51c6520b11aee7c9ee8df750520bbbc7384cbaa"
   }
  }
 },
 "nbformat": 4,
 "nbformat_minor": 2
}
