{
 "cells": [
  {
   "cell_type": "markdown",
   "metadata": {
    "collapsed": false,
    "pycharm": {
     "name": "#%% md\n"
    }
   },
   "source": [
    "# Fraud Model: Tuning Random Forest Regressor\n",
    "\n",
    "Purpose\n",
    "- tuning random forest regressor for fraud"
   ]
  },
  {
   "cell_type": "code",
   "execution_count": 1,
   "metadata": {
    "collapsed": false,
    "pycharm": {
     "name": "#%%\n"
    }
   },
   "outputs": [],
   "source": [
    "import pandas as pd\n",
    "import os\n",
    "\n",
    "from sklearn.model_selection import train_test_split"
   ]
  },
  {
   "cell_type": "code",
   "execution_count": 2,
   "metadata": {
    "collapsed": false,
    "pycharm": {
     "name": "#%%\n"
    }
   },
   "outputs": [],
   "source": [
    "from sklearn.ensemble import RandomForestRegressor"
   ]
  },
  {
   "cell_type": "code",
   "execution_count": 3,
   "metadata": {
    "collapsed": false,
    "pycharm": {
     "name": "#%%\n"
    }
   },
   "outputs": [],
   "source": [
    "# create directory to store tuning results\n",
    "output_relative_dirs = ['../data/tuning']\n",
    "\n",
    "# check if it exists as it makedir will raise an error if it does exist\n",
    "for output_relative_dir in output_relative_dirs:\n",
    "    if not os.path.exists(output_relative_dir):\n",
    "        os.makedirs(output_relative_dir)"
   ]
  },
  {
   "cell_type": "markdown",
   "metadata": {
    "collapsed": false,
    "pycharm": {
     "name": "#%% md\n"
    }
   },
   "source": [
    "## Import Data"
   ]
  },
  {
   "cell_type": "code",
   "execution_count": 4,
   "metadata": {
    "collapsed": false,
    "jupyter": {
     "outputs_hidden": false
    },
    "pycharm": {
     "name": "#%%\n"
    }
   },
   "outputs": [],
   "source": [
    "data = pd.read_csv('../data/curated/fraud/input/consumer_fraud_model_building_data.csv')"
   ]
  },
  {
   "cell_type": "markdown",
   "metadata": {},
   "source": [
    "## Train Test Split"
   ]
  },
  {
   "cell_type": "code",
   "execution_count": 7,
   "metadata": {
    "collapsed": false,
    "pycharm": {
     "name": "#%%\n"
    }
   },
   "outputs": [],
   "source": [
    "# train test split\n",
    "train, valtest = train_test_split(data, train_size=0.7, random_state=19260817)\n",
    "val, test = train_test_split(valtest, train_size=0.5, random_state=19260817)"
   ]
  },
  {
   "cell_type": "markdown",
   "metadata": {},
   "source": [
    "## Select Variables"
   ]
  },
  {
   "cell_type": "code",
   "execution_count": 8,
   "metadata": {},
   "outputs": [],
   "source": [
    "# select variable names\n",
    "XTrain = train[['transact_amount_perOrder_ratio', 'transact_amount_perOrder',\n",
    "    'transact_amount_perOrder_sd', 'transact_amount_perOrder_sd_ratio']]\n",
    "yTrain = train[['fraud_probability']]\n",
    "XVal = val[['transact_amount_perOrder_ratio', 'transact_amount_perOrder',\n",
    "    'transact_amount_perOrder_sd', 'transact_amount_perOrder_sd_ratio']]\n",
    "yVal = val[['fraud_probability']]\n",
    "XTest = test[['transact_amount_perOrder_ratio', 'transact_amount_perOrder',\n",
    "    'transact_amount_perOrder_sd', 'transact_amount_perOrder_sd_ratio']]\n",
    "yTest = test[['fraud_probability']]"
   ]
  },
  {
   "cell_type": "markdown",
   "metadata": {},
   "source": [
    "## Prepare combinations and try to tune"
   ]
  },
  {
   "cell_type": "code",
   "execution_count": 9,
   "metadata": {},
   "outputs": [],
   "source": [
    "# get all combinations of hyperparameters\n",
    "combos = list()\n",
    "\n",
    "n_estimators = [50, 100,150]\n",
    "max_depths = [6, 12, 18, 24]\n",
    "max_samples = [0.25, 0.5, 0.75]\n",
    "max_features = [0.25, 0.5, 0.75, 1]\n",
    "ccp_alphas = [0, 0.001, 0.01, 0.1, 1, 10]\n",
    "\n",
    "for n_estimator in n_estimators:\n",
    "    for max_depth in max_depths:\n",
    "        for max_sample in max_samples:\n",
    "            for max_feature in max_features:\n",
    "                for ccp_alpha in ccp_alphas:\n",
    "                    combos.append([n_estimator, max_depth, max_sample, max_feature, ccp_alpha])"
   ]
  },
  {
   "cell_type": "code",
   "execution_count": null,
   "metadata": {},
   "outputs": [],
   "source": [
    "# tune for hyperparameters\n",
    "tuning_results = pd.DataFrame()\n",
    "\n",
    "for c in combos:\n",
    "    RF = RandomForestRegressor(n_estimators = c[0],\n",
    "                               max_depth = c[1],\n",
    "                               max_samples = c[2],\n",
    "                               max_features = c[3],\n",
    "                               ccp_alpha = c[4], random_state = 19260817)\n",
    "    print(RF)\n",
    "\n",
    "    RF.fit(XTrain, yTrain)\n",
    "    train_accu = RF.score(XTrain, yTrain)\n",
    "    val_accu = RF.score(XVal, yVal)\n",
    "    test_accu = RF.score(XTest, yTest)\n",
    "\n",
    "    one_result = pd.DataFrame({'n_estimators': [c[0]],\n",
    "                               'max_depth': [c[1]],\n",
    "                               'max_samples': [c[2]],\n",
    "                               'max_features': [c[3]],\n",
    "                               'ccp_alpha': [c[4]],\n",
    "                               'training_accuracy': [train_accu],\n",
    "                               'validation_accuracy': [val_accu],\n",
    "                               'testing_accuracy': [test_accu]})\n",
    "\n",
    "    tuning_results = tuning_results.append(one_result)\n",
    "    tuning_results.to_csv('../data/tuning/RFR_brute.csv')"
   ]
  },
  {
   "cell_type": "markdown",
   "metadata": {},
   "source": [
    "# Export the final combination choice's model"
   ]
  },
  {
   "cell_type": "code",
   "execution_count": 9,
   "metadata": {},
   "outputs": [
    {
     "name": "stderr",
     "output_type": "stream",
     "text": [
      "/var/folders/xg/8w_3dndd6l5c3n99vd7vd3f40000gn/T/ipykernel_71635/866596027.py:7: DataConversionWarning: A column-vector y was passed when a 1d array was expected. Please change the shape of y to (n_samples,), for example using ravel().\n",
      "  final_RF.fit(XTrain, yTrain)\n"
     ]
    }
   ],
   "source": [
    "# tune final model and export as pickle\n",
    "final_RF = RandomForestRegressor(n_estimators = 100,\n",
    "                               max_depth = 24,\n",
    "                               max_samples = 0.25,\n",
    "                               max_features = 0.75,\n",
    "                               ccp_alpha = 0.01, random_state = 19260817)\n",
    "\n",
    "final_RF.fit(XTrain, yTrain)\n",
    "train_accu = final_RF.score(XTrain, yTrain)\n",
    "val_accu = final_RF.score(XVal, yVal)\n",
    "test_accu = final_RF.score(XTest, yTest)"
   ]
  },
  {
   "cell_type": "code",
   "execution_count": 10,
   "metadata": {},
   "outputs": [],
   "source": [
    "import pickle\n",
    "\n",
    "with open('../models/consumer_fraud_rfr.pickle', 'wb') as f:\n",
    "    pickle.dump(final_RF,f)"
   ]
  }
 ],
 "metadata": {
  "kernelspec": {
   "display_name": "Python 3.9.7 ('base')",
   "language": "python",
   "name": "python3"
  },
  "language_info": {
   "codemirror_mode": {
    "name": "ipython",
    "version": 3
   },
   "file_extension": ".py",
   "mimetype": "text/x-python",
   "name": "python",
   "nbconvert_exporter": "python",
   "pygments_lexer": "ipython3",
   "version": "3.9.7"
  },
  "vscode": {
   "interpreter": {
    "hash": "cd78fef2128015050713e82ca51c6520b11aee7c9ee8df750520bbbc7384cbaa"
   }
  }
 },
 "nbformat": 4,
 "nbformat_minor": 4
}
