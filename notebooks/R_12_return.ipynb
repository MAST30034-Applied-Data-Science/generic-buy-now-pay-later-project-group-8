{
 "cells": [
  {
   "cell_type": "markdown",
   "metadata": {},
   "source": [
    "感觉可以删了，然后14直接用cell 3的东西"
   ]
  },
  {
   "cell_type": "code",
   "execution_count": 2,
   "metadata": {},
   "outputs": [],
   "source": [
    "import pandas as pd\n",
    "import numpy as np\n",
    "import os "
   ]
  },
  {
   "cell_type": "code",
   "execution_count": 3,
   "metadata": {},
   "outputs": [],
   "source": [
    "# create directory to store tuning results\n",
    "output_relative_dirs = ['../data/curated/growth_variable']\n",
    "\n",
    "# check if it exists as it makedir will raise an error if it does exist\n",
    "for output_relative_dir in output_relative_dirs:\n",
    "    if not os.path.exists(output_relative_dir):\n",
    "        os.makedirs(output_relative_dir)"
   ]
  },
  {
   "cell_type": "code",
   "execution_count": 4,
   "metadata": {},
   "outputs": [],
   "source": [
    "merchant_fortnight_train = pd.read_csv('../data/curated/final_model/fortnightly_agg_merchant_transactions_train_NOTAKE_NOFRAUD.csv')\n",
    "merchant_fortnight_validate = pd.read_csv('../data/curated/final_model/fortnightly_agg_merchant_transactions_validate_NOTAKE_NOFRAUD.csv')\n",
    "merchant_fortnight= pd.read_csv('../data/curated/final_model/fortnightly_agg_merchant_transactions_NOTAKE_NOFRAUD.csv')"
   ]
  },
  {
   "cell_type": "code",
   "execution_count": 5,
   "metadata": {},
   "outputs": [],
   "source": [
    "def get_percent_change(merchant_fortnight):\n",
    "    \n",
    "    merchant_fortnight_w_pctchange = pd.DataFrame()\n",
    "\n",
    "    for id, dta in merchant_fortnight.groupby(['merchant_abn']):\n",
    "        dta['E(r)'] = dta['sum_transactions'].pct_change()\n",
    "        dta['n_customers_pctchange'] = dta['number_of_customers'].pct_change()\n",
    "        dta['n_distinct_customers_pctchange'] = dta['distinct_customers'].pct_change()\n",
    "        \n",
    "        label = list(dta['E(r)'])[1:]\n",
    "        label.append(None)\n",
    "\n",
    "        dta['label'] = label\n",
    "\n",
    "        merchant_fortnight_w_pctchange = merchant_fortnight_w_pctchange.append(dta)\n",
    "    \n",
    "    return merchant_fortnight_w_pctchange"
   ]
  },
  {
   "cell_type": "code",
   "execution_count": 6,
   "metadata": {},
   "outputs": [],
   "source": [
    "def get_merchant_fortnight_w_pctchange(merchant_fortnight):\n",
    "    merchant_fortnight_w_pctchange = get_percent_change(merchant_fortnight)\n",
    "    \n",
    "    # how to deal with nan?\n",
    "\n",
    "    # past inf or past nan, 怎么办？\n",
    "    merchant_fortnight_w_pctchange_woNanInf = merchant_fortnight_w_pctchange.replace(np.inf, np.nan)\n",
    "    merchant_fortnight_w_pctchange_woNanInf = merchant_fortnight_w_pctchange_woNanInf.dropna()\n",
    "\n",
    "    return merchant_fortnight_w_pctchange, merchant_fortnight_w_pctchange_woNanInf"
   ]
  },
  {
   "cell_type": "code",
   "execution_count": 7,
   "metadata": {},
   "outputs": [],
   "source": [
    "merchant_fortnight_w_pctchange, merchant_fortnight_w_pctchange_woNanInf = get_merchant_fortnight_w_pctchange(merchant_fortnight)\n",
    "\n",
    "merchant_fortnight_w_pctchange_train, merchant_fortnight_w_pctchange_woNanInf_train = get_merchant_fortnight_w_pctchange(merchant_fortnight_train)\n",
    "\n",
    "merchant_fortnight_w_pctchange_validate, merchant_fortnight_w_pctchange_woNanInf_validate = get_merchant_fortnight_w_pctchange(merchant_fortnight_validate)"
   ]
  },
  {
   "cell_type": "code",
   "execution_count": 8,
   "metadata": {},
   "outputs": [],
   "source": [
    "merchant_fortnight_w_pctchange.to_csv('../data/curated/growth_variable/merchant_fortnight_w_pctchange.csv', index=False)\n",
    "merchant_fortnight_w_pctchange_woNanInf.to_csv('../data/curated/growth_variable/merchant_fortnight_w_pctchange_woNanInf.csv', index=False)\n",
    "\n",
    "merchant_fortnight_w_pctchange_train.to_csv('../data/curated/growth_variable/merchant_fortnight_w_pctchange_train.csv', index=False)\n",
    "merchant_fortnight_w_pctchange_woNanInf_train.to_csv('../data/curated/growth_variable/merchant_fortnight_w_pctchange_woNanInf_train.csv', index=False)\n",
    "\n",
    "merchant_fortnight_w_pctchange_validate.to_csv('../data/curated/growth_variable/merchant_fortnight_w_pctchange_validate.csv', index=False)\n",
    "merchant_fortnight_w_pctchange_woNanInf_validate.to_csv('../data/curated/growth_variable/merchant_fortnight_w_pctchange_woNanInf_validate.csv', index=False)"
   ]
  },
  {
   "cell_type": "code",
   "execution_count": null,
   "metadata": {},
   "outputs": [],
   "source": [
    "def get_delta_change(merchant_fortnight):\n",
    "    \n",
    "    merchant_fortnight_w_deltachange = pd.DataFrame()\n",
    "\n",
    "    for id, dta in merchant_fortnight.groupby(['merchant_abn']):\n",
    "        dta['delta(r)'] = dta['sum_transactions'].diff(1)\n",
    "        \n",
    "        label = list(dta['delta(r)'])[1:]\n",
    "        label.append(None)\n",
    "\n",
    "        dta['label'] = label\n",
    "\n",
    "        merchant_fortnight_w_deltachange = merchant_fortnight_w_deltachange.append(dta)\n",
    "    \n",
    "    return merchant_fortnight_w_deltachange"
   ]
  },
  {
   "cell_type": "code",
   "execution_count": null,
   "metadata": {},
   "outputs": [],
   "source": [
    "def get_merchant_fortnight_w_deltachange(merchant_fortnight):\n",
    "    merchant_fortnight_w_deltachange = get_delta_change(merchant_fortnight)\n",
    "\n",
    "    return merchant_fortnight_w_deltachange"
   ]
  },
  {
   "cell_type": "code",
   "execution_count": null,
   "metadata": {},
   "outputs": [],
   "source": [
    "merchant_fortnight_w_deltachange = get_merchant_fortnight_w_pctchange(merchant_fortnight)\n",
    "\n",
    "merchant_fortnight_w_deltachange_train = get_merchant_fortnight_w_pctchange(merchant_fortnight_train)\n",
    "\n",
    "merchant_fortnight_w_deltachange_validate = get_merchant_fortnight_w_pctchange(merchant_fortnight_validate)"
   ]
  },
  {
   "cell_type": "code",
   "execution_count": null,
   "metadata": {},
   "outputs": [],
   "source": [
    "merchant_fortnight_w_deltachange.to_csv('../data/curated/growth_variable/merchant_fortnight_w_pctchange.csv', index=False)\n",
    "\n",
    "merchant_fortnight_w_deltachange_train.to_csv('../data/curated/growth_variable/merchant_fortnight_w_pctchange_train.csv', index=False)\n",
    "\n",
    "merchant_fortnight_w_deltachange_validate.to_csv('../data/curated/growth_variable/merchant_fortnight_w_pctchange_validate.csv', index=False)"
   ]
  }
 ],
 "metadata": {
  "kernelspec": {
   "display_name": "Python 3.9.7 ('base')",
   "language": "python",
   "name": "python3"
  },
  "language_info": {
   "codemirror_mode": {
    "name": "ipython",
    "version": 3
   },
   "file_extension": ".py",
   "mimetype": "text/x-python",
   "name": "python",
   "nbconvert_exporter": "python",
   "pygments_lexer": "ipython3",
   "version": "3.9.7"
  },
  "orig_nbformat": 4,
  "vscode": {
   "interpreter": {
    "hash": "cd78fef2128015050713e82ca51c6520b11aee7c9ee8df750520bbbc7384cbaa"
   }
  }
 },
 "nbformat": 4,
 "nbformat_minor": 2
}
