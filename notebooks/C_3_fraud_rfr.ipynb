{
 "cells": [
  {
   "cell_type": "markdown",
   "metadata": {},
   "source": [
    "# Fraudulent Data\n",
    "## Random Forest Regressor - Consumer Fraud"
   ]
  },
  {
   "cell_type": "code",
   "execution_count": 12,
   "metadata": {},
   "outputs": [],
   "source": [
    "from sklearn.model_selection import train_test_split, GridSearchCV, cross_val_score\n",
    "from sklearn.ensemble import RandomForestRegressor\n",
    "import pandas as pd"
   ]
  },
  {
   "cell_type": "code",
   "execution_count": 3,
   "metadata": {},
   "outputs": [
    {
     "data": {
      "text/html": [
       "<div>\n",
       "<style scoped>\n",
       "    .dataframe tbody tr th:only-of-type {\n",
       "        vertical-align: middle;\n",
       "    }\n",
       "\n",
       "    .dataframe tbody tr th {\n",
       "        vertical-align: top;\n",
       "    }\n",
       "\n",
       "    .dataframe thead th {\n",
       "        text-align: right;\n",
       "    }\n",
       "</style>\n",
       "<table border=\"1\" class=\"dataframe\">\n",
       "  <thead>\n",
       "    <tr style=\"text-align: right;\">\n",
       "      <th></th>\n",
       "      <th>user_id</th>\n",
       "      <th>transact_amount_perOrder</th>\n",
       "      <th>#daily_orders</th>\n",
       "      <th>#distinct_merchants</th>\n",
       "      <th>fraud_probability</th>\n",
       "      <th>transact_amount_perOrder_sd</th>\n",
       "      <th>#daily_orders_ratio</th>\n",
       "      <th>#distinct_merchants_ratio</th>\n",
       "      <th>transact_amount_perOrder_sd_ratio</th>\n",
       "      <th>transact_amount_perOrder_ratio</th>\n",
       "    </tr>\n",
       "  </thead>\n",
       "  <tbody>\n",
       "    <tr>\n",
       "      <th>0</th>\n",
       "      <td>1</td>\n",
       "      <td>2479.076338</td>\n",
       "      <td>1</td>\n",
       "      <td>1</td>\n",
       "      <td>9.805431</td>\n",
       "      <td>0.000000</td>\n",
       "      <td>0.626712</td>\n",
       "      <td>0.631034</td>\n",
       "      <td>0.000000</td>\n",
       "      <td>15.307571</td>\n",
       "    </tr>\n",
       "    <tr>\n",
       "      <th>1</th>\n",
       "      <td>2</td>\n",
       "      <td>710.667418</td>\n",
       "      <td>3</td>\n",
       "      <td>3</td>\n",
       "      <td>9.599514</td>\n",
       "      <td>1023.234306</td>\n",
       "      <td>1.958974</td>\n",
       "      <td>1.958974</td>\n",
       "      <td>3.609439</td>\n",
       "      <td>3.842922</td>\n",
       "    </tr>\n",
       "    <tr>\n",
       "      <th>2</th>\n",
       "      <td>2</td>\n",
       "      <td>2236.461666</td>\n",
       "      <td>1</td>\n",
       "      <td>1</td>\n",
       "      <td>10.069851</td>\n",
       "      <td>0.000000</td>\n",
       "      <td>0.652991</td>\n",
       "      <td>0.652991</td>\n",
       "      <td>0.000000</td>\n",
       "      <td>12.093627</td>\n",
       "    </tr>\n",
       "    <tr>\n",
       "      <th>3</th>\n",
       "      <td>3</td>\n",
       "      <td>2334.493717</td>\n",
       "      <td>1</td>\n",
       "      <td>1</td>\n",
       "      <td>8.300636</td>\n",
       "      <td>0.000000</td>\n",
       "      <td>0.664395</td>\n",
       "      <td>0.664395</td>\n",
       "      <td>0.000000</td>\n",
       "      <td>13.958163</td>\n",
       "    </tr>\n",
       "    <tr>\n",
       "      <th>4</th>\n",
       "      <td>4</td>\n",
       "      <td>775.013087</td>\n",
       "      <td>3</td>\n",
       "      <td>3</td>\n",
       "      <td>9.633302</td>\n",
       "      <td>1106.645341</td>\n",
       "      <td>1.892074</td>\n",
       "      <td>1.898477</td>\n",
       "      <td>6.906554</td>\n",
       "      <td>5.385522</td>\n",
       "    </tr>\n",
       "  </tbody>\n",
       "</table>\n",
       "</div>"
      ],
      "text/plain": [
       "   user_id  transact_amount_perOrder  #daily_orders  #distinct_merchants  \\\n",
       "0        1               2479.076338              1                    1   \n",
       "1        2                710.667418              3                    3   \n",
       "2        2               2236.461666              1                    1   \n",
       "3        3               2334.493717              1                    1   \n",
       "4        4                775.013087              3                    3   \n",
       "\n",
       "   fraud_probability  transact_amount_perOrder_sd  #daily_orders_ratio  \\\n",
       "0           9.805431                     0.000000             0.626712   \n",
       "1           9.599514                  1023.234306             1.958974   \n",
       "2          10.069851                     0.000000             0.652991   \n",
       "3           8.300636                     0.000000             0.664395   \n",
       "4           9.633302                  1106.645341             1.892074   \n",
       "\n",
       "   #distinct_merchants_ratio  transact_amount_perOrder_sd_ratio  \\\n",
       "0                   0.631034                           0.000000   \n",
       "1                   1.958974                           3.609439   \n",
       "2                   0.652991                           0.000000   \n",
       "3                   0.664395                           0.000000   \n",
       "4                   1.898477                           6.906554   \n",
       "\n",
       "   transact_amount_perOrder_ratio  \n",
       "0                       15.307571  \n",
       "1                        3.842922  \n",
       "2                       12.093627  \n",
       "3                       13.958163  \n",
       "4                        5.385522  "
      ]
     },
     "metadata": {},
     "output_type": "display_data"
    }
   ],
   "source": [
    "consumer_fraud = pd.read_csv('../data/curated/consumer_fraud.csv')\n",
    "#consumer_fraud.info()\n",
    "display(consumer_fraud.head())"
   ]
  },
  {
   "cell_type": "markdown",
   "metadata": {},
   "source": [
    "## Train Test Split"
   ]
  },
  {
   "cell_type": "code",
   "execution_count": 41,
   "metadata": {},
   "outputs": [],
   "source": [
    "X = consumer_fraud.drop(['fraud_probability'], axis = 1)\n",
    "y = consumer_fraud['fraud_probability'] #series\n",
    "\n",
    "X_train, X_test, y_train, y_test = train_test_split(X, y, test_size=0.3, random_state=42)"
   ]
  },
  {
   "cell_type": "markdown",
   "metadata": {},
   "source": [
    "## Tunning\n",
    "**Using -RMSE as metric to tune the model**"
   ]
  },
  {
   "cell_type": "code",
   "execution_count": 27,
   "metadata": {},
   "outputs": [
    {
     "name": "stdout",
     "output_type": "stream",
     "text": [
      "Fitting 3 folds for each of 1080 candidates, totalling 3240 fits\n"
     ]
    },
    {
     "name": "stderr",
     "output_type": "stream",
     "text": [
      "/opt/homebrew/lib/python3.9/site-packages/joblib/externals/loky/process_executor.py:702: UserWarning: A worker stopped while some jobs were given to the executor. This can be caused by a too short worker timeout or by a memory leak.\n",
      "  warnings.warn(\n"
     ]
    }
   ],
   "source": [
    "param_grid = {'max_depth': (3,5,10,15,20,50), \n",
    "              'n_estimators': (10, 50, 100, 150, 200),\n",
    "              'max_features': (0.85, 0.75, 0.65),\n",
    "              'max_samples': (0.85, 0.75, 0.65),\n",
    "              'ccp_alpha': (0, 0.01, 1, 10)}\n",
    "\n",
    "rf=RandomForestRegressor(criterion = \"squared_error\")\n",
    "\n",
    "# Perform Grid-Search\n",
    "gsc = GridSearchCV(rf, param_grid, cv=3, \n",
    "                   scoring='neg_root_mean_squared_error', verbose=1, n_jobs=-1, return_train_score=True)\n",
    "\n",
    "tune_result = gsc.fit(X_train, y_train)"
   ]
  },
  {
   "cell_type": "markdown",
   "metadata": {},
   "source": [
    "**Let's take a look at the results!**"
   ]
  },
  {
   "cell_type": "code",
   "execution_count": 63,
   "metadata": {},
   "outputs": [
    {
     "data": {
      "text/html": [
       "<div>\n",
       "<style scoped>\n",
       "    .dataframe tbody tr th:only-of-type {\n",
       "        vertical-align: middle;\n",
       "    }\n",
       "\n",
       "    .dataframe tbody tr th {\n",
       "        vertical-align: top;\n",
       "    }\n",
       "\n",
       "    .dataframe thead th {\n",
       "        text-align: right;\n",
       "    }\n",
       "</style>\n",
       "<table border=\"1\" class=\"dataframe\">\n",
       "  <thead>\n",
       "    <tr style=\"text-align: right;\">\n",
       "      <th></th>\n",
       "      <th>ccp_alpha</th>\n",
       "      <th>max_depth</th>\n",
       "      <th>max_features</th>\n",
       "      <th>max_samples</th>\n",
       "      <th>n_estimators</th>\n",
       "    </tr>\n",
       "  </thead>\n",
       "  <tbody>\n",
       "    <tr>\n",
       "      <th>best_params</th>\n",
       "      <td>0</td>\n",
       "      <td>10</td>\n",
       "      <td>0.65</td>\n",
       "      <td>0.65</td>\n",
       "      <td>150</td>\n",
       "    </tr>\n",
       "  </tbody>\n",
       "</table>\n",
       "</div>"
      ],
      "text/plain": [
       "             ccp_alpha  max_depth  max_features  max_samples  n_estimators\n",
       "best_params          0         10          0.65         0.65           150"
      ]
     },
     "metadata": {},
     "output_type": "display_data"
    },
    {
     "data": {
      "text/plain": [
       "mean_fit_time                                                  3.532319\n",
       "std_fit_time                                                   0.005652\n",
       "mean_score_time                                                0.093074\n",
       "std_score_time                                                 0.011321\n",
       "param_ccp_alpha                                                       0\n",
       "param_max_depth                                                      10\n",
       "param_max_features                                                 0.65\n",
       "param_max_samples                                                  0.65\n",
       "param_n_estimators                                                  150\n",
       "params                {'ccp_alpha': 0, 'max_depth': 10, 'max_feature...\n",
       "split0_test_score                                             -3.628548\n",
       "split1_test_score                                              -3.51103\n",
       "split2_test_score                                             -3.549494\n",
       "mean_test_score                                               -3.563024\n",
       "std_test_score                                                 0.048921\n",
       "rank_test_score                                                       1\n",
       "split0_train_score                                            -2.721106\n",
       "split1_train_score                                            -2.741521\n",
       "split2_train_score                                             -2.74072\n",
       "mean_train_score                                              -2.734449\n",
       "std_train_score                                                0.009441\n",
       "Name: 133, dtype: object"
      ]
     },
     "metadata": {},
     "output_type": "display_data"
    }
   ],
   "source": [
    "best_params = pd.DataFrame(tune_result.best_params_, index = ['best_params'])\n",
    "cv_results1 = pd.DataFrame(tune_result.cv_results_)\n",
    "#cv_results1.to_csv('../data/fraud_rfr_tuning1.csv')\n",
    "display(best_params)\n",
    "display(cv_results1.iloc[tune_result.best_index_])"
   ]
  },
  {
   "cell_type": "code",
   "execution_count": 64,
   "metadata": {},
   "outputs": [
    {
     "data": {
      "image/png": "[encoded data removed]",
      "text/plain": [
       "<Figure size 640x480 with 1 Axes>"
      ]
     },
     "metadata": {},
     "output_type": "display_data"
    }
   ],
   "source": [
    "import matplotlib.pyplot as plt\n",
    "\n",
    "plt.plot(cv_results1['mean_test_score'], label='validation')\n",
    "plt.plot(cv_results1['mean_train_score'], label='train')\n",
    "plt.legend(loc='best')\n",
    "plt.title('Validation Curve')\n",
    "plt.ylabel('neg RMSE')\n",
    "plt.xlabel('tuning round')\n",
    "#plt.savefig('../plots/fraud_rfr_tuning1.png')\n",
    "plt.show()"
   ]
  },
  {
   "cell_type": "markdown",
   "metadata": {},
   "source": [
    "## Train the final model"
   ]
  },
  {
   "cell_type": "code",
   "execution_count": 65,
   "metadata": {},
   "outputs": [],
   "source": [
    "rfr = RandomForestRegressor(ccp_alpha=0,\n",
    "                            max_depth=10, \n",
    "                            n_estimators=150,\n",
    "                            max_features=0.65,\n",
    "                            max_samples=0.65,\n",
    "                            random_state=False, \n",
    "                            verbose=False)"
   ]
  },
  {
   "cell_type": "markdown",
   "metadata": {},
   "source": [
    "**Get the scores**"
   ]
  },
  {
   "cell_type": "code",
   "execution_count": 66,
   "metadata": {},
   "outputs": [
    {
     "name": "stdout",
     "output_type": "stream",
     "text": [
      "Test Score: 0.8487203853206958\n",
      "Train Score: 0.8568363028950975\n"
     ]
    }
   ],
   "source": [
    "# Perform K-Fold CV\n",
    "scores_train = cross_val_score(rfr, X_train, y_train, cv=10, scoring='r2')\n",
    "scores_test = cross_val_score(rfr, X_test, y_test, cv=10, scoring='r2')\n",
    "\n",
    "print('Test Score:', scores_test.mean())\n",
    "print('Train Score:', scores_train.mean())"
   ]
  },
  {
   "cell_type": "markdown",
   "metadata": {},
   "source": [
    "### Save the model"
   ]
  },
  {
   "cell_type": "code",
   "execution_count": 56,
   "metadata": {},
   "outputs": [
    {
     "data": {
      "text/html": [
       "<style>#sk-container-id-1 {color: black;background-color: white;}#sk-container-id-1 pre{padding: 0;}#sk-container-id-1 div.sk-toggleable {background-color: white;}#sk-container-id-1 label.sk-toggleable__label {cursor: pointer;display: block;width: 100%;margin-bottom: 0;padding: 0.3em;box-sizing: border-box;text-align: center;}#sk-container-id-1 label.sk-toggleable__label-arrow:before {content: \"▸\";float: left;margin-right: 0.25em;color: #696969;}#sk-container-id-1 label.sk-toggleable__label-arrow:hover:before {color: black;}#sk-container-id-1 div.sk-estimator:hover label.sk-toggleable__label-arrow:before {color: black;}#sk-container-id-1 div.sk-toggleable__content {max-height: 0;max-width: 0;overflow: hidden;text-align: left;background-color: #f0f8ff;}#sk-container-id-1 div.sk-toggleable__content pre {margin: 0.2em;color: black;border-radius: 0.25em;background-color: #f0f8ff;}#sk-container-id-1 input.sk-toggleable__control:checked~div.sk-toggleable__content {max-height: 200px;max-width: 100%;overflow: auto;}#sk-container-id-1 input.sk-toggleable__control:checked~label.sk-toggleable__label-arrow:before {content: \"▾\";}#sk-container-id-1 div.sk-estimator input.sk-toggleable__control:checked~label.sk-toggleable__label {background-color: #d4ebff;}#sk-container-id-1 div.sk-label input.sk-toggleable__control:checked~label.sk-toggleable__label {background-color: #d4ebff;}#sk-container-id-1 input.sk-hidden--visually {border: 0;clip: rect(1px 1px 1px 1px);clip: rect(1px, 1px, 1px, 1px);height: 1px;margin: -1px;overflow: hidden;padding: 0;position: absolute;width: 1px;}#sk-container-id-1 div.sk-estimator {font-family: monospace;background-color: #f0f8ff;border: 1px dotted black;border-radius: 0.25em;box-sizing: border-box;margin-bottom: 0.5em;}#sk-container-id-1 div.sk-estimator:hover {background-color: #d4ebff;}#sk-container-id-1 div.sk-parallel-item::after {content: \"\";width: 100%;border-bottom: 1px solid gray;flex-grow: 1;}#sk-container-id-1 div.sk-label:hover label.sk-toggleable__label {background-color: #d4ebff;}#sk-container-id-1 div.sk-serial::before {content: \"\";position: absolute;border-left: 1px solid gray;box-sizing: border-box;top: 0;bottom: 0;left: 50%;z-index: 0;}#sk-container-id-1 div.sk-serial {display: flex;flex-direction: column;align-items: center;background-color: white;padding-right: 0.2em;padding-left: 0.2em;position: relative;}#sk-container-id-1 div.sk-item {position: relative;z-index: 1;}#sk-container-id-1 div.sk-parallel {display: flex;align-items: stretch;justify-content: center;background-color: white;position: relative;}#sk-container-id-1 div.sk-item::before, #sk-container-id-1 div.sk-parallel-item::before {content: \"\";position: absolute;border-left: 1px solid gray;box-sizing: border-box;top: 0;bottom: 0;left: 50%;z-index: -1;}#sk-container-id-1 div.sk-parallel-item {display: flex;flex-direction: column;z-index: 1;position: relative;background-color: white;}#sk-container-id-1 div.sk-parallel-item:first-child::after {align-self: flex-end;width: 50%;}#sk-container-id-1 div.sk-parallel-item:last-child::after {align-self: flex-start;width: 50%;}#sk-container-id-1 div.sk-parallel-item:only-child::after {width: 0;}#sk-container-id-1 div.sk-dashed-wrapped {border: 1px dashed gray;margin: 0 0.4em 0.5em 0.4em;box-sizing: border-box;padding-bottom: 0.4em;background-color: white;}#sk-container-id-1 div.sk-label label {font-family: monospace;font-weight: bold;display: inline-block;line-height: 1.2em;}#sk-container-id-1 div.sk-label-container {text-align: center;}#sk-container-id-1 div.sk-container {/* jupyter's `normalize.less` sets `[hidden] { display: none; }` but bootstrap.min.css set `[hidden] { display: none !important; }` so we also need the `!important` here to be able to override the default hidden behavior on the sphinx rendered scikit-learn.org. See: https://github.com/scikit-learn/scikit-learn/issues/21755 */display: inline-block !important;position: relative;}#sk-container-id-1 div.sk-text-repr-fallback {display: none;}</style><div id=\"sk-container-id-1\" class=\"sk-top-container\"><div class=\"sk-text-repr-fallback\"><pre>RandomForestRegressor(ccp_alpha=0, max_depth=10, max_features=0.65,\n",
       "                      max_samples=0.65, n_estimators=150, random_state=False,\n",
       "                      verbose=False)</pre><b>In a Jupyter environment, please rerun this cell to show the HTML representation or trust the notebook. <br />On GitHub, the HTML representation is unable to render, please try loading this page with nbviewer.org.</b></div><div class=\"sk-container\" hidden><div class=\"sk-item\"><div class=\"sk-estimator sk-toggleable\"><input class=\"sk-toggleable__control sk-hidden--visually\" id=\"sk-estimator-id-1\" type=\"checkbox\" checked><label for=\"sk-estimator-id-1\" class=\"sk-toggleable__label sk-toggleable__label-arrow\">RandomForestRegressor</label><div class=\"sk-toggleable__content\"><pre>RandomForestRegressor(ccp_alpha=0, max_depth=10, max_features=0.65,\n",
       "                      max_samples=0.65, n_estimators=150, random_state=False,\n",
       "                      verbose=False)</pre></div></div></div></div></div>"
      ],
      "text/plain": [
       "RandomForestRegressor(ccp_alpha=0, max_depth=10, max_features=0.65,\n",
       "                      max_samples=0.65, n_estimators=150, random_state=False,\n",
       "                      verbose=False)"
      ]
     },
     "execution_count": 56,
     "metadata": {},
     "output_type": "execute_result"
    }
   ],
   "source": [
    "rfr.fit(X_train, y_train)"
   ]
  },
  {
   "cell_type": "code",
   "execution_count": 57,
   "metadata": {},
   "outputs": [],
   "source": [
    "import pickle\n",
    "\n",
    "with open('../models/consumer_fraud_rfr.pickle', 'wb') as f:\n",
    "    pickle.dump(rfr,f)"
   ]
  }
 ],
 "metadata": {
  "kernelspec": {
   "display_name": "Python 3.9.13 64-bit",
   "language": "python",
   "name": "python3"
  },
  "language_info": {
   "codemirror_mode": {
    "name": "ipython",
    "version": 3
   },
   "file_extension": ".py",
   "mimetype": "text/x-python",
   "name": "python",
   "nbconvert_exporter": "python",
   "pygments_lexer": "ipython3",
   "version": "3.9.13"
  },
  "orig_nbformat": 4,
  "vscode": {
   "interpreter": {
    "hash": "b0fa6594d8f4cbf19f97940f81e996739fb7646882a419484c72d19e05852a7e"
   }
  }
 },
 "nbformat": 4,
 "nbformat_minor": 2
}
