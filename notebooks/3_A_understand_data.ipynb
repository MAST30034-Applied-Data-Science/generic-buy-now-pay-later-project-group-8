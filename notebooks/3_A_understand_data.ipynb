{
 "cells": [
  {
   "cell_type": "markdown",
   "metadata": {},
   "source": [
    "# Understand data\n",
    "# Objective: Conduct a general inspection on the released datasets"
   ]
  },
  {
   "cell_type": "code",
   "execution_count": 26,
   "metadata": {},
   "outputs": [],
   "source": [
    "# importing the require libraries to run the code in the this notebook\n",
    "from pyspark.sql import SparkSession\n",
    "from pyspark.sql import functions as F\n",
    "from pyspark.sql.types import StringType\n",
    "import re\n",
    "import pandas as pd"
   ]
  },
  {
   "cell_type": "code",
   "execution_count": 27,
   "metadata": {},
   "outputs": [],
   "source": [
    "# running spark\n",
    "spark = (\n",
    "    SparkSession.builder.appName(\"preprocessing of taxi data\")\n",
    "    .config(\"spark.sql.repl.eagerEval.enabled\", True) \n",
    "    .config(\"spark.sql.parquet.cacheMetadata\", \"true\")\n",
    "    .config(\"spark.sql.session.timeZone\", \"Etc/UTC\")\n",
    "    .config(\"spark.driver.memory\", \"15g\")\n",
    "    .getOrCreate()\n",
    ")\n"
   ]
  },
  {
   "cell_type": "code",
   "execution_count": 28,
   "metadata": {},
   "outputs": [],
   "source": [
    "# reading in the require dataset\n",
    "merchant_sdf = spark.read.parquet(\"../data/tables/tbl_merchants.parquet\")\n",
    "consumer_detail_sdf = spark.read.parquet(\"../data/tables/consumer_user_details.parquet\")\n",
    "consumer_sdf = spark.read.option(\"header\",True) \\\n",
    "                         .option(\"inferSchema\",True) \\\n",
    "                         .options(delimiter='|') \\\n",
    "                         .csv(\"../data/tables/tbl_consumer.csv\")\n",
    "transaction_28_sdf = spark.read.parquet(\"../data/tables/transactions_20210228_20210827_snapshot\")\n",
    "transaction_82_sdf = spark.read.parquet(\"../data/tables/transactions_20210828_20220227_snapshot/\")"
   ]
  },
  {
   "cell_type": "markdown",
   "metadata": {},
   "source": [
    "# Transaction dataset\n",
    "- should be our main focus in terms on analysing the number of transactions related to each customer and each merchant\n",
    "- could be joined to consumer_detail by using user_id and consumer_id with the help of tbl_consumer\n",
    "- join merchant on merchant abn (should be unique by personal knowledge)"
   ]
  },
  {
   "cell_type": "code",
   "execution_count": 29,
   "metadata": {},
   "outputs": [
    {
     "data": {
      "text/html": [
       "<table border='1'>\n",
       "<tr><th>user_id</th><th>merchant_abn</th><th>dollar_value</th><th>order_id</th><th>order_datetime</th></tr>\n",
       "<tr><td>11</td><td>20692490685</td><td>196.93916081228323</td><td>09bc8dd6-419f-4cb...</td><td>2021-02-28</td></tr>\n",
       "<tr><td>5</td><td>83177825742</td><td>66.66426160206629</td><td>43e3b3fe-791b-47f...</td><td>2021-02-28</td></tr>\n",
       "<tr><td>18495</td><td>66667026714</td><td>48.3228941934147</td><td>ca150cbf-6e34-489...</td><td>2021-02-28</td></tr>\n",
       "<tr><td>18489</td><td>43186523025</td><td>98.14878546968934</td><td>9008a98e-1b02-4de...</td><td>2021-02-28</td></tr>\n",
       "<tr><td>18491</td><td>64974914166</td><td>130.12601873970038</td><td>4bc15338-83eb-43d...</td><td>2021-02-28</td></tr>\n",
       "<tr><td>18493</td><td>67979471799</td><td>53.03432496202065</td><td>dd61feff-5aa3-43d...</td><td>2021-02-28</td></tr>\n",
       "<tr><td>11</td><td>98269572896</td><td>129.46280909485031</td><td>8f5d0cab-8055-435...</td><td>2021-02-28</td></tr>\n",
       "<tr><td>18485</td><td>62191208634</td><td>79.13140006851712</td><td>9e18b913-0465-4fd...</td><td>2021-02-28</td></tr>\n",
       "<tr><td>2</td><td>80779820715</td><td>48.12397733548124</td><td>cd09bdd6-f56d-489...</td><td>2021-02-28</td></tr>\n",
       "<tr><td>18490</td><td>93558142492</td><td>232.83335268750145</td><td>2bda0665-796f-4f2...</td><td>2021-02-28</td></tr>\n",
       "<tr><td>3</td><td>32361057556</td><td>87.34942171371054</td><td>633a7656-2fcc-4b8...</td><td>2021-02-28</td></tr>\n",
       "<tr><td>18493</td><td>43186523025</td><td>69.75645555605993</td><td>6c494428-b293-459...</td><td>2021-02-28</td></tr>\n",
       "<tr><td>6</td><td>21772962346</td><td>113.04510652600983</td><td>000ca5ac-3247-4ef...</td><td>2021-02-28</td></tr>\n",
       "<tr><td>7</td><td>66079287213</td><td>89.93535555889761</td><td>50a5619d-0647-487...</td><td>2021-02-28</td></tr>\n",
       "<tr><td>18494</td><td>49891706470</td><td>21.995368431723854</td><td>faac27e9-c054-44d...</td><td>2021-02-28</td></tr>\n",
       "<tr><td>1</td><td>28000487688</td><td>133.22689421562643</td><td>0c37b3f7-c7f1-48c...</td><td>2021-02-28</td></tr>\n",
       "<tr><td>12</td><td>95508140753</td><td>79.1030216530725</td><td>17b4325f-65a5-45e...</td><td>2021-02-28</td></tr>\n",
       "<tr><td>1</td><td>83690644458</td><td>30.441348317517228</td><td>40a2ff69-ea34-465...</td><td>2021-02-28</td></tr>\n",
       "<tr><td>18488</td><td>39649557865</td><td>962.8133405407585</td><td>f4c1a5ae-5b76-40d...</td><td>2021-02-28</td></tr>\n",
       "<tr><td>3</td><td>29566626791</td><td>46.33087226118639</td><td>26b7574e-81c2-455...</td><td>2021-02-28</td></tr>\n",
       "</table>\n",
       "only showing top 20 rows\n"
      ],
      "text/plain": [
       "+-------+------------+------------------+--------------------+--------------+\n",
       "|user_id|merchant_abn|      dollar_value|            order_id|order_datetime|\n",
       "+-------+------------+------------------+--------------------+--------------+\n",
       "|     11| 20692490685|196.93916081228323|09bc8dd6-419f-4cb...|    2021-02-28|\n",
       "|      5| 83177825742| 66.66426160206629|43e3b3fe-791b-47f...|    2021-02-28|\n",
       "|  18495| 66667026714|  48.3228941934147|ca150cbf-6e34-489...|    2021-02-28|\n",
       "|  18489| 43186523025| 98.14878546968934|9008a98e-1b02-4de...|    2021-02-28|\n",
       "|  18491| 64974914166|130.12601873970038|4bc15338-83eb-43d...|    2021-02-28|\n",
       "|  18493| 67979471799| 53.03432496202065|dd61feff-5aa3-43d...|    2021-02-28|\n",
       "|     11| 98269572896|129.46280909485031|8f5d0cab-8055-435...|    2021-02-28|\n",
       "|  18485| 62191208634| 79.13140006851712|9e18b913-0465-4fd...|    2021-02-28|\n",
       "|      2| 80779820715| 48.12397733548124|cd09bdd6-f56d-489...|    2021-02-28|\n",
       "|  18490| 93558142492|232.83335268750145|2bda0665-796f-4f2...|    2021-02-28|\n",
       "|      3| 32361057556| 87.34942171371054|633a7656-2fcc-4b8...|    2021-02-28|\n",
       "|  18493| 43186523025| 69.75645555605993|6c494428-b293-459...|    2021-02-28|\n",
       "|      6| 21772962346|113.04510652600983|000ca5ac-3247-4ef...|    2021-02-28|\n",
       "|      7| 66079287213| 89.93535555889761|50a5619d-0647-487...|    2021-02-28|\n",
       "|  18494| 49891706470|21.995368431723854|faac27e9-c054-44d...|    2021-02-28|\n",
       "|      1| 28000487688|133.22689421562643|0c37b3f7-c7f1-48c...|    2021-02-28|\n",
       "|     12| 95508140753|  79.1030216530725|17b4325f-65a5-45e...|    2021-02-28|\n",
       "|      1| 83690644458|30.441348317517228|40a2ff69-ea34-465...|    2021-02-28|\n",
       "|  18488| 39649557865| 962.8133405407585|f4c1a5ae-5b76-40d...|    2021-02-28|\n",
       "|      3| 29566626791| 46.33087226118639|26b7574e-81c2-455...|    2021-02-28|\n",
       "+-------+------------+------------------+--------------------+--------------+\n",
       "only showing top 20 rows"
      ]
     },
     "execution_count": 29,
     "metadata": {},
     "output_type": "execute_result"
    }
   ],
   "source": [
    "transaction_28_sdf.orderBy(F.column(\"order_datetime\"))"
   ]
  },
  {
   "cell_type": "markdown",
   "metadata": {},
   "source": [
    "# Merchant Dataset"
   ]
  },
  {
   "cell_type": "code",
   "execution_count": 30,
   "metadata": {},
   "outputs": [
    {
     "data": {
      "text/html": [
       "<table border='1'>\n",
       "<tr><th>name</th><th>tags</th><th>merchant_abn</th></tr>\n",
       "<tr><td>Aliquet Molestie ...</td><td>[[stationery, off...</td><td>20692490685</td></tr>\n",
       "</table>\n"
      ],
      "text/plain": [
       "+--------------------+--------------------+------------+\n",
       "|                name|                tags|merchant_abn|\n",
       "+--------------------+--------------------+------------+\n",
       "|Aliquet Molestie ...|[[stationery, off...| 20692490685|\n",
       "+--------------------+--------------------+------------+"
      ]
     },
     "execution_count": 30,
     "metadata": {},
     "output_type": "execute_result"
    }
   ],
   "source": [
    "# quick look ar a random row\n",
    "merchant_sdf.where(F.col(\"merchant_abn\") == \"20692490685\")"
   ]
  },
  {
   "cell_type": "code",
   "execution_count": 31,
   "metadata": {},
   "outputs": [
    {
     "data": {
      "text/plain": [
       "[Row(tags='((furniture, home furnishings and equipment shops, and manufacturers, except appliances), (e), (take rate: 0.18))')]"
      ]
     },
     "execution_count": 31,
     "metadata": {},
     "output_type": "execute_result"
    }
   ],
   "source": [
    "merchant_sdf.select(F.col(\"tags\")).take(1)"
   ]
  },
  {
   "cell_type": "markdown",
   "metadata": {},
   "source": [
    "# Consumer Key (conversion table)"
   ]
  },
  {
   "cell_type": "code",
   "execution_count": 32,
   "metadata": {},
   "outputs": [
    {
     "data": {
      "text/html": [
       "<table border='1'>\n",
       "<tr><th>user_id</th><th>consumer_id</th></tr>\n",
       "<tr><td>1</td><td>1195503</td></tr>\n",
       "<tr><td>2</td><td>179208</td></tr>\n",
       "<tr><td>3</td><td>1194530</td></tr>\n",
       "<tr><td>4</td><td>154128</td></tr>\n",
       "<tr><td>5</td><td>712975</td></tr>\n",
       "<tr><td>6</td><td>407340</td></tr>\n",
       "<tr><td>7</td><td>511685</td></tr>\n",
       "<tr><td>8</td><td>448088</td></tr>\n",
       "<tr><td>9</td><td>650435</td></tr>\n",
       "<tr><td>10</td><td>1058499</td></tr>\n",
       "<tr><td>11</td><td>428325</td></tr>\n",
       "<tr><td>12</td><td>1494640</td></tr>\n",
       "<tr><td>13</td><td>1146717</td></tr>\n",
       "<tr><td>14</td><td>1343547</td></tr>\n",
       "<tr><td>15</td><td>1463076</td></tr>\n",
       "<tr><td>16</td><td>1356405</td></tr>\n",
       "<tr><td>17</td><td>1331093</td></tr>\n",
       "<tr><td>18</td><td>80965</td></tr>\n",
       "<tr><td>19</td><td>1226530</td></tr>\n",
       "<tr><td>20</td><td>1390367</td></tr>\n",
       "</table>\n",
       "only showing top 20 rows\n"
      ],
      "text/plain": [
       "+-------+-----------+\n",
       "|user_id|consumer_id|\n",
       "+-------+-----------+\n",
       "|      1|    1195503|\n",
       "|      2|     179208|\n",
       "|      3|    1194530|\n",
       "|      4|     154128|\n",
       "|      5|     712975|\n",
       "|      6|     407340|\n",
       "|      7|     511685|\n",
       "|      8|     448088|\n",
       "|      9|     650435|\n",
       "|     10|    1058499|\n",
       "|     11|     428325|\n",
       "|     12|    1494640|\n",
       "|     13|    1146717|\n",
       "|     14|    1343547|\n",
       "|     15|    1463076|\n",
       "|     16|    1356405|\n",
       "|     17|    1331093|\n",
       "|     18|      80965|\n",
       "|     19|    1226530|\n",
       "|     20|    1390367|\n",
       "+-------+-----------+\n",
       "only showing top 20 rows"
      ]
     },
     "execution_count": 32,
     "metadata": {},
     "output_type": "execute_result"
    }
   ],
   "source": [
    "consumer_detail_sdf"
   ]
  },
  {
   "cell_type": "markdown",
   "metadata": {},
   "source": [
    "# Consumer Dataset"
   ]
  },
  {
   "cell_type": "code",
   "execution_count": 33,
   "metadata": {},
   "outputs": [
    {
     "data": {
      "text/html": [
       "<table border='1'>\n",
       "<tr><th>name</th><th>address</th><th>state</th><th>postcode</th><th>gender</th><th>consumer_id</th></tr>\n",
       "<tr><td>Yolanda Williams</td><td>413 Haney Gardens...</td><td>WA</td><td>6935</td><td>Female</td><td>1195503</td></tr>\n",
       "<tr><td>Mary Smith</td><td>3764 Amber Oval</td><td>NSW</td><td>2782</td><td>Female</td><td>179208</td></tr>\n",
       "<tr><td>Jill Jones MD</td><td>40693 Henry Greens</td><td>NT</td><td>862</td><td>Female</td><td>1194530</td></tr>\n",
       "<tr><td>Lindsay Jimenez</td><td>00653 Davenport C...</td><td>NSW</td><td>2780</td><td>Female</td><td>154128</td></tr>\n",
       "<tr><td>Rebecca Blanchard</td><td>9271 Michael Mano...</td><td>WA</td><td>6355</td><td>Female</td><td>712975</td></tr>\n",
       "<tr><td>Karen Chapman</td><td>2706 Stewart Oval...</td><td>NSW</td><td>2033</td><td>Female</td><td>407340</td></tr>\n",
       "<tr><td>Andrea Jones</td><td>122 Brandon Cliff</td><td>QLD</td><td>4606</td><td>Female</td><td>511685</td></tr>\n",
       "<tr><td>Stephen Williams</td><td>6804 Wright Crest...</td><td>WA</td><td>6056</td><td>Male</td><td>448088</td></tr>\n",
       "<tr><td>Stephanie Reyes</td><td>5813 Denise Land ...</td><td>NSW</td><td>2482</td><td>Female</td><td>650435</td></tr>\n",
       "<tr><td>Jillian Gonzales</td><td>461 Ryan Common S...</td><td>VIC</td><td>3220</td><td>Female</td><td>1058499</td></tr>\n",
       "<tr><td>Eugene Lucas</td><td>33983 Kevin Drive...</td><td>VIC</td><td>3063</td><td>Undisclosed</td><td>428325</td></tr>\n",
       "<tr><td>Melissa Jones</td><td>13706 Kimberly Port</td><td>WA</td><td>6743</td><td>Female</td><td>1494640</td></tr>\n",
       "<tr><td>Angela Brown PhD</td><td>0236 Mills Land S...</td><td>QLD</td><td>4673</td><td>Female</td><td>1146717</td></tr>\n",
       "<tr><td>Lance Butler</td><td>8943 Kenneth Camp</td><td>VIC</td><td>3332</td><td>Male</td><td>1343547</td></tr>\n",
       "<tr><td>Paul Abbott</td><td>60495 Ryan Hill</td><td>QLD</td><td>4512</td><td>Male</td><td>1463076</td></tr>\n",
       "<tr><td>Tracy Hart</td><td>9671 Jacob Harbor...</td><td>NSW</td><td>2452</td><td>Male</td><td>1356405</td></tr>\n",
       "<tr><td>Alyssa Wilson</td><td>44353 Nathan Ridge</td><td>VIC</td><td>3719</td><td>Female</td><td>1331093</td></tr>\n",
       "<tr><td>Michael Burnett</td><td>89400 Torres Fort</td><td>NSW</td><td>1109</td><td>Male</td><td>80965</td></tr>\n",
       "<tr><td>Victoria Gonzalez</td><td>68657 Johnson Gle...</td><td>TAS</td><td>7276</td><td>Female</td><td>1226530</td></tr>\n",
       "<tr><td>James Norris</td><td>790 Ramos Landing</td><td>VIC</td><td>3234</td><td>Undisclosed</td><td>1390367</td></tr>\n",
       "</table>\n",
       "only showing top 20 rows\n"
      ],
      "text/plain": [
       "+-----------------+--------------------+-----+--------+-----------+-----------+\n",
       "|             name|             address|state|postcode|     gender|consumer_id|\n",
       "+-----------------+--------------------+-----+--------+-----------+-----------+\n",
       "| Yolanda Williams|413 Haney Gardens...|   WA|    6935|     Female|    1195503|\n",
       "|       Mary Smith|     3764 Amber Oval|  NSW|    2782|     Female|     179208|\n",
       "|    Jill Jones MD|  40693 Henry Greens|   NT|     862|     Female|    1194530|\n",
       "|  Lindsay Jimenez|00653 Davenport C...|  NSW|    2780|     Female|     154128|\n",
       "|Rebecca Blanchard|9271 Michael Mano...|   WA|    6355|     Female|     712975|\n",
       "|    Karen Chapman|2706 Stewart Oval...|  NSW|    2033|     Female|     407340|\n",
       "|     Andrea Jones|   122 Brandon Cliff|  QLD|    4606|     Female|     511685|\n",
       "| Stephen Williams|6804 Wright Crest...|   WA|    6056|       Male|     448088|\n",
       "|  Stephanie Reyes|5813 Denise Land ...|  NSW|    2482|     Female|     650435|\n",
       "| Jillian Gonzales|461 Ryan Common S...|  VIC|    3220|     Female|    1058499|\n",
       "|     Eugene Lucas|33983 Kevin Drive...|  VIC|    3063|Undisclosed|     428325|\n",
       "|    Melissa Jones| 13706 Kimberly Port|   WA|    6743|     Female|    1494640|\n",
       "| Angela Brown PhD|0236 Mills Land S...|  QLD|    4673|     Female|    1146717|\n",
       "|     Lance Butler|   8943 Kenneth Camp|  VIC|    3332|       Male|    1343547|\n",
       "|      Paul Abbott|     60495 Ryan Hill|  QLD|    4512|       Male|    1463076|\n",
       "|       Tracy Hart|9671 Jacob Harbor...|  NSW|    2452|       Male|    1356405|\n",
       "|    Alyssa Wilson|  44353 Nathan Ridge|  VIC|    3719|     Female|    1331093|\n",
       "|  Michael Burnett|   89400 Torres Fort|  NSW|    1109|       Male|      80965|\n",
       "|Victoria Gonzalez|68657 Johnson Gle...|  TAS|    7276|     Female|    1226530|\n",
       "|     James Norris|   790 Ramos Landing|  VIC|    3234|Undisclosed|    1390367|\n",
       "+-----------------+--------------------+-----+--------+-----------+-----------+\n",
       "only showing top 20 rows"
      ]
     },
     "execution_count": 33,
     "metadata": {},
     "output_type": "execute_result"
    }
   ],
   "source": [
    "consumer_sdf"
   ]
  },
  {
   "cell_type": "code",
   "execution_count": 34,
   "metadata": {},
   "outputs": [
    {
     "name": "stdout",
     "output_type": "stream",
     "text": [
      "root\n",
      " |-- user_id: long (nullable = true)\n",
      " |-- consumer_id: long (nullable = true)\n",
      "\n"
     ]
    }
   ],
   "source": [
    "consumer_detail_sdf.printSchema()"
   ]
  },
  {
   "cell_type": "markdown",
   "metadata": {},
   "source": [
    "# Check for null values in datasets (except merchant)"
   ]
  },
  {
   "cell_type": "code",
   "execution_count": 35,
   "metadata": {},
   "outputs": [
    {
     "data": {
      "text/plain": [
       "4508106"
      ]
     },
     "execution_count": 35,
     "metadata": {},
     "output_type": "execute_result"
    }
   ],
   "source": [
    "transaction_82_sdf.select(F.col(\"user_id\")).count()"
   ]
  },
  {
   "cell_type": "code",
   "execution_count": 36,
   "metadata": {},
   "outputs": [
    {
     "name": "stderr",
     "output_type": "stream",
     "text": [
      "[Stage 67:=======>                                                  (1 + 7) / 8]\r"
     ]
    },
    {
     "name": "stdout",
     "output_type": "stream",
     "text": [
      "+----+-------+-----+--------+------+-----------+\n",
      "|name|address|state|postcode|gender|consumer_id|\n",
      "+----+-------+-----+--------+------+-----------+\n",
      "|   0|      0|    0|       0|     0|          0|\n",
      "+----+-------+-----+--------+------+-----------+\n",
      "\n"
     ]
    },
    {
     "name": "stderr",
     "output_type": "stream",
     "text": [
      "                                                                                \r"
     ]
    }
   ],
   "source": [
    "consumer_missing = consumer_sdf.select([F.count(F.when(F.col(c).contains('None') | \\\n",
    "                                                       F.col(c).contains('NULL') | \\\n",
    "                                                      (F.col(c) == '' ) | \\\n",
    "                                                       F.col(c).isNull() | \\\n",
    "                                                       F.isnan(c), c \n",
    "                                                      )).alias(c)\n",
    "                                                       for c in consumer_sdf.columns])\n",
    "consumer_missing.show()\n"
   ]
  },
  {
   "cell_type": "code",
   "execution_count": 37,
   "metadata": {},
   "outputs": [
    {
     "name": "stdout",
     "output_type": "stream",
     "text": [
      "+-------+-----------+\n",
      "|user_id|consumer_id|\n",
      "+-------+-----------+\n",
      "|      0|          0|\n",
      "+-------+-----------+\n",
      "\n"
     ]
    }
   ],
   "source": [
    "consumer_detail_missing = consumer_detail_sdf.select([F.count(F.when(F.col(c).contains('None') | \\\n",
    "                                                       F.col(c).contains('NULL') | \\\n",
    "                                                      (F.col(c) == '' ) | \\\n",
    "                                                       F.col(c).isNull() | \\\n",
    "                                                       F.isnan(c), c \n",
    "                                                      )).alias(c)\n",
    "                                                       for c in consumer_detail_sdf.columns])\n",
    "consumer_detail_missing.show()"
   ]
  },
  {
   "cell_type": "code",
   "execution_count": 38,
   "metadata": {},
   "outputs": [
    {
     "name": "stderr",
     "output_type": "stream",
     "text": [
      "[Stage 73:=====>                                                   (1 + 9) / 10]\r"
     ]
    },
    {
     "name": "stdout",
     "output_type": "stream",
     "text": [
      "+-------+------------+------------+--------+\n",
      "|user_id|merchant_abn|dollar_value|order_id|\n",
      "+-------+------------+------------+--------+\n",
      "|      0|           0|           0|       0|\n",
      "+-------+------------+------------+--------+\n",
      "\n"
     ]
    },
    {
     "name": "stderr",
     "output_type": "stream",
     "text": [
      "                                                                                \r"
     ]
    }
   ],
   "source": [
    "transact_col = ['user_id', 'merchant_abn', 'dollar_value', 'order_id']\n",
    "transaction_missing = transaction_28_sdf.select([F.count(F.when(F.col(c).contains('None') | \\\n",
    "                                                       F.col(c).contains('NULL') | \\\n",
    "                                                      (F.col(c) == '' ) | \\\n",
    "                                                       F.col(c).isNull() | \\\n",
    "                                                       F.isnan(c), c \n",
    "                                                      )).alias(c)\n",
    "                                                       for c in transact_col])\n",
    "transaction_missing.show()"
   ]
  },
  {
   "cell_type": "code",
   "execution_count": 39,
   "metadata": {},
   "outputs": [
    {
     "name": "stderr",
     "output_type": "stream",
     "text": [
      "[Stage 76:=============================================>           (8 + 2) / 10]\r"
     ]
    },
    {
     "name": "stdout",
     "output_type": "stream",
     "text": [
      "+-------+------------+------------+--------+\n",
      "|user_id|merchant_abn|dollar_value|order_id|\n",
      "+-------+------------+------------+--------+\n",
      "|      0|           0|           0|       0|\n",
      "+-------+------------+------------+--------+\n",
      "\n"
     ]
    },
    {
     "name": "stderr",
     "output_type": "stream",
     "text": [
      "                                                                                \r"
     ]
    }
   ],
   "source": [
    "transact_col = ['user_id', 'merchant_abn', 'dollar_value', 'order_id']\n",
    "transaction_missing = transaction_82_sdf.select([F.count(F.when(F.col(c).contains('None') | \\\n",
    "                                                       F.col(c).contains('NULL') | \\\n",
    "                                                      (F.col(c) == '' ) | \\\n",
    "                                                       F.col(c).isNull() | \\\n",
    "                                                       F.isnan(c), c \n",
    "                                                      )).alias(c)\n",
    "                                                       for c in transact_col])\n",
    "transaction_missing.show()"
   ]
  },
  {
   "cell_type": "markdown",
   "metadata": {},
   "source": [
    "# Fixed tags in Merchant\n",
    "The tags in merchant are all grouped in the same column lets, split it to each respective columns"
   ]
  },
  {
   "cell_type": "code",
   "execution_count": 40,
   "metadata": {},
   "outputs": [],
   "source": [
    "# regex to split the tags\n",
    "split_col = F.split(merchant_sdf['tags'], '\\]|\\)', 3)\n",
    "merchant_sdf = merchant_sdf.withColumn('prod_desc', split_col.getItem(0))\n",
    "merchant_sdf = merchant_sdf.withColumn('revenue_level', split_col.getItem(1))\n",
    "merchant_sdf = merchant_sdf.withColumn('take_rate', split_col.getItem(2))"
   ]
  },
  {
   "cell_type": "code",
   "execution_count": 41,
   "metadata": {},
   "outputs": [
    {
     "data": {
      "text/html": [
       "<table border='1'>\n",
       "<tr><th>name</th><th>tags</th><th>merchant_abn</th><th>prod_desc</th><th>revenue_level</th><th>take_rate</th></tr>\n",
       "<tr><td>Felis Limited</td><td>((furniture, home...</td><td>10023283211</td><td>((furniture, home...</td><td>, (e</td><td>, (take rate: 0.18))</td></tr>\n",
       "<tr><td>Arcu Ac Orci Corp...</td><td>([cable, satellit...</td><td>10142254217</td><td>([cable, satellit...</td><td>, [b</td><td>, [take rate: 4.22])</td></tr>\n",
       "<tr><td>Nunc Sed Company</td><td>([jewelry, watch,...</td><td>10165489824</td><td>([jewelry, watch,...</td><td>, [b</td><td>, [take rate: 4.40])</td></tr>\n",
       "<tr><td>Ultricies Digniss...</td><td>([wAtch, clock, a...</td><td>10187291046</td><td>([wAtch, clock, a...</td><td>, [b</td><td>, [take rate: 3.29])</td></tr>\n",
       "<tr><td>Enim Condimentum PC</td><td>([music shops - m...</td><td>10192359162</td><td>([music shops - m...</td><td>, [a</td><td>, [take rate: 6.33])</td></tr>\n",
       "<tr><td>Fusce Company</td><td>[(gift, card, nov...</td><td>10206519221</td><td>[(gift, card, nov...</td><td>, (a</td><td>, (take rate: 6.34)]</td></tr>\n",
       "<tr><td>Aliquam Enim Inco...</td><td>[(computers, comP...</td><td>10255988167</td><td>[(computers, comP...</td><td>, (b</td><td>, (take rate: 4.32)]</td></tr>\n",
       "<tr><td>Ipsum Primis Ltd</td><td>[[watch, clock, a...</td><td>10264435225</td><td>[[watch, clock, a...</td><td>, [c</td><td>, [take rate: 2.39]]</td></tr>\n",
       "<tr><td>Pede Ultrices Ind...</td><td>([computer progra...</td><td>10279061213</td><td>([computer progra...</td><td>, [a</td><td>, [take rate: 5.71])</td></tr>\n",
       "<tr><td>Nunc Inc.</td><td>[(furniture, home...</td><td>10323485998</td><td>[(furniture, home...</td><td>, (a</td><td>, (take rate: 6.61)]</td></tr>\n",
       "<tr><td>Facilisis Facilis...</td><td>([computers, comp...</td><td>10342410215</td><td>([computers, comp...</td><td>, [a</td><td>, [take rate: 6.34])</td></tr>\n",
       "<tr><td>Odio Institute</td><td>((equipment, tool...</td><td>10346855916</td><td>((equipment, tool...</td><td>, (b</td><td>, (take rate: 3.57))</td></tr>\n",
       "<tr><td>Rutrum Justo Ltd</td><td>([music shops - m...</td><td>10364012396</td><td>([music shops - m...</td><td>, [b</td><td>, [take rate: 3.63])</td></tr>\n",
       "<tr><td>Tellus Foundation</td><td>[[artist supply a...</td><td>10385011947</td><td>[[artist supply a...</td><td>, [b</td><td>, [take rate: 3.17]]</td></tr>\n",
       "<tr><td>Sed Et Company</td><td>([florists suppli...</td><td>10385163239</td><td>([florists suppli...</td><td>, [a</td><td>, [take rate: 6.61])</td></tr>\n",
       "<tr><td>Id Ltd</td><td>([computers, comp...</td><td>10385250025</td><td>([computers, comp...</td><td>, [a</td><td>, [take rate: 5.54])</td></tr>\n",
       "<tr><td>Consequat Foundation</td><td>[[antique shops -...</td><td>10404542215</td><td>[[antique shops -...</td><td>, [a</td><td>, [take rate: 6.93]]</td></tr>\n",
       "<tr><td>Sit Amet Nulla Corp.</td><td>[[motor vehicle s...</td><td>10430380319</td><td>[[motor vehicle s...</td><td>, [b</td><td>, [take rate: 4.97]]</td></tr>\n",
       "<tr><td>Massa Vestibulum ...</td><td>[(moTor vehicle s...</td><td>10441711491</td><td>[(moTor vehicle s...</td><td>, (a</td><td>, (take rate: 5.77)]</td></tr>\n",
       "<tr><td>Ut Consulting</td><td>([gift, card, nov...</td><td>10462560289</td><td>([gift, card, nov...</td><td>, [c</td><td>, [take rate: 2.95])</td></tr>\n",
       "</table>\n",
       "only showing top 20 rows\n"
      ],
      "text/plain": [
       "+--------------------+--------------------+------------+--------------------+-------------+--------------------+\n",
       "|                name|                tags|merchant_abn|           prod_desc|revenue_level|           take_rate|\n",
       "+--------------------+--------------------+------------+--------------------+-------------+--------------------+\n",
       "|       Felis Limited|((furniture, home...| 10023283211|((furniture, home...|         , (e|, (take rate: 0.18))|\n",
       "|Arcu Ac Orci Corp...|([cable, satellit...| 10142254217|([cable, satellit...|         , [b|, [take rate: 4.22])|\n",
       "|    Nunc Sed Company|([jewelry, watch,...| 10165489824|([jewelry, watch,...|         , [b|, [take rate: 4.40])|\n",
       "|Ultricies Digniss...|([wAtch, clock, a...| 10187291046|([wAtch, clock, a...|         , [b|, [take rate: 3.29])|\n",
       "| Enim Condimentum PC|([music shops - m...| 10192359162|([music shops - m...|         , [a|, [take rate: 6.33])|\n",
       "|       Fusce Company|[(gift, card, nov...| 10206519221|[(gift, card, nov...|         , (a|, (take rate: 6.34)]|\n",
       "|Aliquam Enim Inco...|[(computers, comP...| 10255988167|[(computers, comP...|         , (b|, (take rate: 4.32)]|\n",
       "|    Ipsum Primis Ltd|[[watch, clock, a...| 10264435225|[[watch, clock, a...|         , [c|, [take rate: 2.39]]|\n",
       "|Pede Ultrices Ind...|([computer progra...| 10279061213|([computer progra...|         , [a|, [take rate: 5.71])|\n",
       "|           Nunc Inc.|[(furniture, home...| 10323485998|[(furniture, home...|         , (a|, (take rate: 6.61)]|\n",
       "|Facilisis Facilis...|([computers, comp...| 10342410215|([computers, comp...|         , [a|, [take rate: 6.34])|\n",
       "|      Odio Institute|((equipment, tool...| 10346855916|((equipment, tool...|         , (b|, (take rate: 3.57))|\n",
       "|    Rutrum Justo Ltd|([music shops - m...| 10364012396|([music shops - m...|         , [b|, [take rate: 3.63])|\n",
       "|   Tellus Foundation|[[artist supply a...| 10385011947|[[artist supply a...|         , [b|, [take rate: 3.17]]|\n",
       "|      Sed Et Company|([florists suppli...| 10385163239|([florists suppli...|         , [a|, [take rate: 6.61])|\n",
       "|              Id Ltd|([computers, comp...| 10385250025|([computers, comp...|         , [a|, [take rate: 5.54])|\n",
       "|Consequat Foundation|[[antique shops -...| 10404542215|[[antique shops -...|         , [a|, [take rate: 6.93]]|\n",
       "|Sit Amet Nulla Corp.|[[motor vehicle s...| 10430380319|[[motor vehicle s...|         , [b|, [take rate: 4.97]]|\n",
       "|Massa Vestibulum ...|[(moTor vehicle s...| 10441711491|[(moTor vehicle s...|         , (a|, (take rate: 5.77)]|\n",
       "|       Ut Consulting|([gift, card, nov...| 10462560289|([gift, card, nov...|         , [c|, [take rate: 2.95])|\n",
       "+--------------------+--------------------+------------+--------------------+-------------+--------------------+\n",
       "only showing top 20 rows"
      ]
     },
     "execution_count": 41,
     "metadata": {},
     "output_type": "execute_result"
    }
   ],
   "source": [
    "merchant_sdf"
   ]
  },
  {
   "cell_type": "code",
   "execution_count": 42,
   "metadata": {},
   "outputs": [
    {
     "data": {
      "text/plain": [
       "[Row(take_rate=', (take rate: 0.18))'),\n",
       " Row(take_rate=', [take rate: 4.22])'),\n",
       " Row(take_rate=', [take rate: 4.40])'),\n",
       " Row(take_rate=', [take rate: 3.29])'),\n",
       " Row(take_rate=', [take rate: 6.33])')]"
      ]
     },
     "execution_count": 42,
     "metadata": {},
     "output_type": "execute_result"
    }
   ],
   "source": [
    "merchant_sdf.select(F.col(\"take_rate\")).take(5)"
   ]
  },
  {
   "cell_type": "code",
   "execution_count": 50,
   "metadata": {},
   "outputs": [],
   "source": [
    "@F.udf(returnType=StringType())\n",
    "def clean_str(str):\n",
    "    \"\"\" cleans string after extractions from TAGS columns, \n",
    "        remove brakcets.\n",
    "\n",
    "    Args:\n",
    "        str (str): \n",
    "\n",
    "    Returns:\n",
    "        str: lowercase, with no leading or trailing parenthesis \n",
    "    \"\"\"\n",
    "    str = str.lstrip(' ,([')\n",
    "    str = str.rstrip(')]')\n",
    "    str = str.lower()\n",
    "    return str"
   ]
  },
  {
   "cell_type": "code",
   "execution_count": 52,
   "metadata": {},
   "outputs": [],
   "source": [
    "# cleaning the tags\n",
    "merchant_sdf = merchant_sdf.withColumn('prod_desc', clean_str(F.col('prod_desc')))\n",
    "merchant_sdf = merchant_sdf.withColumn('take_rate', clean_str(F.col('take_rate')))\n",
    "merchant_sdf = merchant_sdf.withColumn('revenue_level', clean_str(F.col('revenue_level')))\n",
    "merchant_sdf = merchant_sdf.withColumn('take_rate', F.regexp_extract('take_rate', '\\\\d*\\\\.\\\\d', 0))\n",
    "merchant_sdf = merchant_sdf.withColumn('take_rate', F.col('take_rate').cast('double'))\n",
    "merchant_sdf = merchant_sdf.drop(\"tags\")"
   ]
  },
  {
   "cell_type": "code",
   "execution_count": 46,
   "metadata": {},
   "outputs": [
    {
     "data": {
      "text/html": [
       "<table border='1'>\n",
       "<tr><th>name</th><th>merchant_abn</th><th>prod_desc</th><th>revenue_level</th><th>take_rate</th></tr>\n",
       "<tr><td>Felis Limited</td><td>10023283211</td><td>furniture, home f...</td><td>e</td><td>0.1</td></tr>\n",
       "<tr><td>Arcu Ac Orci Corp...</td><td>10142254217</td><td>cable, satellite,...</td><td>b</td><td>4.2</td></tr>\n",
       "<tr><td>Nunc Sed Company</td><td>10165489824</td><td>jewelry, watch, c...</td><td>b</td><td>4.4</td></tr>\n",
       "<tr><td>Ultricies Digniss...</td><td>10187291046</td><td>watch, clock, and...</td><td>b</td><td>3.2</td></tr>\n",
       "<tr><td>Enim Condimentum PC</td><td>10192359162</td><td>music shops - mus...</td><td>a</td><td>6.3</td></tr>\n",
       "<tr><td>Fusce Company</td><td>10206519221</td><td>gift, card, novel...</td><td>a</td><td>6.3</td></tr>\n",
       "<tr><td>Aliquam Enim Inco...</td><td>10255988167</td><td>computers, comput...</td><td>b</td><td>4.3</td></tr>\n",
       "<tr><td>Ipsum Primis Ltd</td><td>10264435225</td><td>watch, clock, and...</td><td>c</td><td>2.3</td></tr>\n",
       "<tr><td>Pede Ultrices Ind...</td><td>10279061213</td><td>computer programm...</td><td>a</td><td>5.7</td></tr>\n",
       "<tr><td>Nunc Inc.</td><td>10323485998</td><td>furniture, home f...</td><td>a</td><td>6.6</td></tr>\n",
       "<tr><td>Facilisis Facilis...</td><td>10342410215</td><td>computers, comput...</td><td>a</td><td>6.3</td></tr>\n",
       "<tr><td>Odio Institute</td><td>10346855916</td><td>equipment, tool, ...</td><td>b</td><td>3.5</td></tr>\n",
       "<tr><td>Rutrum Justo Ltd</td><td>10364012396</td><td>music shops - mus...</td><td>b</td><td>3.6</td></tr>\n",
       "<tr><td>Tellus Foundation</td><td>10385011947</td><td>artist supply and...</td><td>b</td><td>3.1</td></tr>\n",
       "<tr><td>Sed Et Company</td><td>10385163239</td><td>florists supplies...</td><td>a</td><td>6.6</td></tr>\n",
       "<tr><td>Id Ltd</td><td>10385250025</td><td>computers, comput...</td><td>a</td><td>5.5</td></tr>\n",
       "<tr><td>Consequat Foundation</td><td>10404542215</td><td>antique shops - s...</td><td>a</td><td>6.9</td></tr>\n",
       "<tr><td>Sit Amet Nulla Corp.</td><td>10430380319</td><td>motor vehicle sup...</td><td>b</td><td>4.9</td></tr>\n",
       "<tr><td>Massa Vestibulum ...</td><td>10441711491</td><td>motor vehicle sup...</td><td>a</td><td>5.7</td></tr>\n",
       "<tr><td>Ut Consulting</td><td>10462560289</td><td>gift, card, novel...</td><td>c</td><td>2.9</td></tr>\n",
       "</table>\n",
       "only showing top 20 rows\n"
      ],
      "text/plain": [
       "+--------------------+------------+--------------------+-------------+---------+\n",
       "|                name|merchant_abn|           prod_desc|revenue_level|take_rate|\n",
       "+--------------------+------------+--------------------+-------------+---------+\n",
       "|       Felis Limited| 10023283211|furniture, home f...|            e|      0.1|\n",
       "|Arcu Ac Orci Corp...| 10142254217|cable, satellite,...|            b|      4.2|\n",
       "|    Nunc Sed Company| 10165489824|jewelry, watch, c...|            b|      4.4|\n",
       "|Ultricies Digniss...| 10187291046|watch, clock, and...|            b|      3.2|\n",
       "| Enim Condimentum PC| 10192359162|music shops - mus...|            a|      6.3|\n",
       "|       Fusce Company| 10206519221|gift, card, novel...|            a|      6.3|\n",
       "|Aliquam Enim Inco...| 10255988167|computers, comput...|            b|      4.3|\n",
       "|    Ipsum Primis Ltd| 10264435225|watch, clock, and...|            c|      2.3|\n",
       "|Pede Ultrices Ind...| 10279061213|computer programm...|            a|      5.7|\n",
       "|           Nunc Inc.| 10323485998|furniture, home f...|            a|      6.6|\n",
       "|Facilisis Facilis...| 10342410215|computers, comput...|            a|      6.3|\n",
       "|      Odio Institute| 10346855916|equipment, tool, ...|            b|      3.5|\n",
       "|    Rutrum Justo Ltd| 10364012396|music shops - mus...|            b|      3.6|\n",
       "|   Tellus Foundation| 10385011947|artist supply and...|            b|      3.1|\n",
       "|      Sed Et Company| 10385163239|florists supplies...|            a|      6.6|\n",
       "|              Id Ltd| 10385250025|computers, comput...|            a|      5.5|\n",
       "|Consequat Foundation| 10404542215|antique shops - s...|            a|      6.9|\n",
       "|Sit Amet Nulla Corp.| 10430380319|motor vehicle sup...|            b|      4.9|\n",
       "|Massa Vestibulum ...| 10441711491|motor vehicle sup...|            a|      5.7|\n",
       "|       Ut Consulting| 10462560289|gift, card, novel...|            c|      2.9|\n",
       "+--------------------+------------+--------------------+-------------+---------+\n",
       "only showing top 20 rows"
      ]
     },
     "execution_count": 46,
     "metadata": {},
     "output_type": "execute_result"
    }
   ],
   "source": [
    "merchant_sdf"
   ]
  },
  {
   "cell_type": "markdown",
   "metadata": {},
   "source": [
    "## Check for missing"
   ]
  },
  {
   "cell_type": "code",
   "execution_count": 49,
   "metadata": {},
   "outputs": [
    {
     "name": "stdout",
     "output_type": "stream",
     "text": [
      "+----+------------+---------+-------------+---------+\n",
      "|name|merchant_abn|prod_desc|revenue_level|take_rate|\n",
      "+----+------------+---------+-------------+---------+\n",
      "|   0|           0|        0|            0|        0|\n",
      "+----+------------+---------+-------------+---------+\n",
      "\n"
     ]
    }
   ],
   "source": [
    "merchant_missing = merchant_sdf.select([F.count(F.when(F.col(c).contains('None') | \\\n",
    "                                                       F.col(c).contains('NULL') | \\\n",
    "                                                      (F.col(c) == '' ) | \\\n",
    "                                                       F.col(c).isNull() | \\\n",
    "                                                       F.isnan(c), c \n",
    "                                                      )).alias(c)\n",
    "                                                       for c in merchant_sdf.columns])\n",
    "merchant_missing.show()"
   ]
  }
 ],
 "metadata": {
  "kernelspec": {
   "display_name": "Python 3.10.2 64-bit",
   "language": "python",
   "name": "python3"
  },
  "language_info": {
   "codemirror_mode": {
    "name": "ipython",
    "version": 3
   },
   "file_extension": ".py",
   "mimetype": "text/x-python",
   "name": "python",
   "nbconvert_exporter": "python",
   "pygments_lexer": "ipython3",
   "version": "3.10.2"
  },
  "orig_nbformat": 4,
  "vscode": {
   "interpreter": {
    "hash": "aee8b7b246df8f9039afb4144a1f6fd8d2ca17a180786b69acc140d282b71a49"
   }
  }
 },
 "nbformat": 4,
 "nbformat_minor": 2
}
