{
 "cells": [
  {
   "cell_type": "code",
   "execution_count": 2,
   "metadata": {},
   "outputs": [],
   "source": [
    "from pyspark.sql import SparkSession\n",
    "from pyspark.sql import functions as F"
   ]
  },
  {
   "cell_type": "code",
   "execution_count": 3,
   "metadata": {},
   "outputs": [
    {
     "name": "stdout",
     "output_type": "stream",
     "text": [
      "22/09/20 12:34:13 WARN Utils: Your hostname, Lis-MacBook-Pro.local resolves to a loopback address: 127.0.0.1; using 10.13.58.19 instead (on interface en0)\n",
      "22/09/20 12:34:13 WARN Utils: Set SPARK_LOCAL_IP if you need to bind to another address\n"
     ]
    },
    {
     "name": "stderr",
     "output_type": "stream",
     "text": [
      "Setting default log level to \"WARN\".\n",
      "To adjust logging level use sc.setLogLevel(newLevel). For SparkR, use setLogLevel(newLevel).\n"
     ]
    },
    {
     "name": "stdout",
     "output_type": "stream",
     "text": [
      "22/09/20 12:34:13 WARN NativeCodeLoader: Unable to load native-hadoop library for your platform... using builtin-java classes where applicable\n",
      "22/09/20 12:34:13 WARN Utils: Service 'SparkUI' could not bind on port 4040. Attempting port 4041.\n"
     ]
    }
   ],
   "source": [
    "spark = (\n",
    "    SparkSession.builder.appName(\"preprocessing of taxi data\")\n",
    "    .config(\"spark.sql.repl.eagerEval.enabled\", True) \n",
    "    .config(\"spark.sql.parquet.cacheMetadata\", \"true\")\n",
    "    .config(\"spark.sql.session.timeZone\", \"Etc/UTC\")\n",
    "    .config(\"spark.driver.memory\", \"15g\")\n",
    "    .getOrCreate()\n",
    ")"
   ]
  },
  {
   "cell_type": "code",
   "execution_count": 5,
   "metadata": {},
   "outputs": [],
   "source": [
    "transaction_20210828_20220227_sdf = spark.read.parquet(\"../data/curated/transactions_20210828_20220227\")"
   ]
  },
  {
   "cell_type": "code",
   "execution_count": 6,
   "metadata": {},
   "outputs": [
    {
     "data": {
      "text/html": [
       "<table border='1'>\n",
       "<tr><th>user_id</th><th>merchant_abn</th><th>dollar_value</th><th>order_id</th><th>order_datetime</th><th>merchant_name</th><th>prod_desc</th><th>revenue_level</th><th>take_rate</th><th>consumer_name</th><th>address</th><th>state</th><th>postcode</th><th>gender</th><th>consumer_id</th></tr>\n",
       "<tr><td>7</td><td>71041015148</td><td>226.70111326425848</td><td>ba1c3c0b-6143-49c...</td><td>2021-11-26</td><td>Orci Ltd</td><td>digital goods: bo...</td><td>c</td><td>2.1</td><td>Andrea Jones</td><td>122 Brandon Cliff</td><td>QLD</td><td>4606</td><td>Female</td><td>511685</td></tr>\n",
       "<tr><td>7</td><td>14492521225</td><td>28.69248621050033</td><td>c82c2951-6a2c-4bf...</td><td>2021-11-26</td><td>Praesent Eu Assoc...</td><td>tent and awning s...</td><td>c</td><td>2.5</td><td>Andrea Jones</td><td>122 Brandon Cliff</td><td>QLD</td><td>4606</td><td>Female</td><td>511685</td></tr>\n",
       "<tr><td>7</td><td>68004106739</td><td>93.96901941736229</td><td>40d71489-2203-485...</td><td>2021-11-26</td><td>Nec Ante Ltd</td><td>cable, satellite,...</td><td>a</td><td>5.6</td><td>Andrea Jones</td><td>122 Brandon Cliff</td><td>QLD</td><td>4606</td><td>Female</td><td>511685</td></tr>\n",
       "<tr><td>7</td><td>34096466752</td><td>92.43454448910457</td><td>293dc228-8398-49f...</td><td>2021-11-29</td><td>Nullam Enim Ltd</td><td>computers, comput...</td><td>b</td><td>3.2</td><td>Andrea Jones</td><td>122 Brandon Cliff</td><td>QLD</td><td>4606</td><td>Female</td><td>511685</td></tr>\n",
       "<tr><td>7</td><td>62773208456</td><td>24.606053328805864</td><td>918d63ec-d125-43b...</td><td>2021-11-29</td><td>Ac Institute</td><td>watch, clock, and...</td><td>c</td><td>2.6</td><td>Andrea Jones</td><td>122 Brandon Cliff</td><td>QLD</td><td>4606</td><td>Female</td><td>511685</td></tr>\n",
       "<tr><td>7</td><td>67874735704</td><td>871.400942067755</td><td>0dc0a909-7b11-423...</td><td>2021-11-29</td><td>Ultricies Adipisc...</td><td>florists supplies...</td><td>c</td><td>2.0</td><td>Andrea Jones</td><td>122 Brandon Cliff</td><td>QLD</td><td>4606</td><td>Female</td><td>511685</td></tr>\n",
       "<tr><td>7</td><td>36125151647</td><td>22.37653874205458</td><td>ebd96051-41c5-44d...</td><td>2021-11-29</td><td>Sed Nec Corp.</td><td>hobby, toy and ga...</td><td>c</td><td>1.8</td><td>Andrea Jones</td><td>122 Brandon Cliff</td><td>QLD</td><td>4606</td><td>Female</td><td>511685</td></tr>\n",
       "<tr><td>7</td><td>86578477987</td><td>14.932370248640328</td><td>b13248d9-3c6d-4b0...</td><td>2021-11-29</td><td>Leo In Consulting</td><td>watch, clock, and...</td><td>a</td><td>6.4</td><td>Andrea Jones</td><td>122 Brandon Cliff</td><td>QLD</td><td>4606</td><td>Female</td><td>511685</td></tr>\n",
       "<tr><td>7</td><td>48534649627</td><td>16.362338872391526</td><td>96a5d5f4-2f24-4c9...</td><td>2021-11-29</td><td>Dignissim Maecena...</td><td>opticians, optica...</td><td>a</td><td>6.6</td><td>Andrea Jones</td><td>122 Brandon Cliff</td><td>QLD</td><td>4606</td><td>Female</td><td>511685</td></tr>\n",
       "<tr><td>7</td><td>76767266140</td><td>144.7959046161148</td><td>734de9e3-dcc1-4da...</td><td>2021-11-29</td><td>Phasellus At Limited</td><td>furniture, home f...</td><td>b</td><td>4.6</td><td>Andrea Jones</td><td>122 Brandon Cliff</td><td>QLD</td><td>4606</td><td>Female</td><td>511685</td></tr>\n",
       "<tr><td>7</td><td>41383736952</td><td>101.64172516104321</td><td>5f0ab0bc-bc87-43b...</td><td>2021-11-27</td><td>Lacus Vestibulum ...</td><td>cable, satellite,...</td><td>c</td><td>2.2</td><td>Andrea Jones</td><td>122 Brandon Cliff</td><td>QLD</td><td>4606</td><td>Female</td><td>511685</td></tr>\n",
       "<tr><td>7</td><td>53062283717</td><td>517.1441566601612</td><td>0f8423ad-3603-482...</td><td>2021-11-27</td><td>Mi Felis Adipisci...</td><td>shoe shops</td><td>b</td><td>3.9</td><td>Andrea Jones</td><td>122 Brandon Cliff</td><td>QLD</td><td>4606</td><td>Female</td><td>511685</td></tr>\n",
       "<tr><td>7</td><td>20562405782</td><td>259.6708286617462</td><td>658c8df3-5585-426...</td><td>2021-11-27</td><td>null</td><td>null</td><td>null</td><td>null</td><td>Andrea Jones</td><td>122 Brandon Cliff</td><td>QLD</td><td>4606</td><td>Female</td><td>511685</td></tr>\n",
       "<tr><td>7</td><td>90173050473</td><td>77.2055190980007</td><td>70a39380-1629-495...</td><td>2021-11-27</td><td>Lobortis Class In...</td><td>lawn and garden s...</td><td>c</td><td>2.4</td><td>Andrea Jones</td><td>122 Brandon Cliff</td><td>QLD</td><td>4606</td><td>Female</td><td>511685</td></tr>\n",
       "<tr><td>7</td><td>55955609006</td><td>282.9963674808017</td><td>b0bbf79a-b061-4cc...</td><td>2021-11-28</td><td>Nec Enim Nunc LLP</td><td>cable, satellite,...</td><td>b</td><td>3.5</td><td>Andrea Jones</td><td>122 Brandon Cliff</td><td>QLD</td><td>4606</td><td>Female</td><td>511685</td></tr>\n",
       "<tr><td>7</td><td>76224940587</td><td>33.76890828698926</td><td>2b71f04f-f06f-474...</td><td>2021-12-26</td><td>null</td><td>null</td><td>null</td><td>null</td><td>Andrea Jones</td><td>122 Brandon Cliff</td><td>QLD</td><td>4606</td><td>Female</td><td>511685</td></tr>\n",
       "<tr><td>7</td><td>94455880010</td><td>42.796486321940655</td><td>794c942e-b2af-401...</td><td>2021-12-26</td><td>Nunc Sit LLC</td><td>computer programm...</td><td>a</td><td>6.3</td><td>Andrea Jones</td><td>122 Brandon Cliff</td><td>QLD</td><td>4606</td><td>Female</td><td>511685</td></tr>\n",
       "<tr><td>7</td><td>94690988633</td><td>524.973634094268</td><td>1730386c-3ed4-41e...</td><td>2021-12-26</td><td>Eu Placerat LLC</td><td>computers, comput...</td><td>a</td><td>6.1</td><td>Andrea Jones</td><td>122 Brandon Cliff</td><td>QLD</td><td>4606</td><td>Female</td><td>511685</td></tr>\n",
       "<tr><td>7</td><td>31736633670</td><td>164.5183024205047</td><td>3810de38-d78e-48f...</td><td>2021-12-26</td><td>Vel Pede Blandit ...</td><td>digital goods: bo...</td><td>a</td><td>6.3</td><td>Andrea Jones</td><td>122 Brandon Cliff</td><td>QLD</td><td>4606</td><td>Female</td><td>511685</td></tr>\n",
       "<tr><td>7</td><td>68216911708</td><td>38.27652819575883</td><td>86eb71c9-5397-4b3...</td><td>2021-11-30</td><td>Placerat Eget Ven...</td><td>computers, comput...</td><td>c</td><td>3.0</td><td>Andrea Jones</td><td>122 Brandon Cliff</td><td>QLD</td><td>4606</td><td>Female</td><td>511685</td></tr>\n",
       "</table>\n",
       "only showing top 20 rows\n"
      ],
      "text/plain": [
       "+-------+------------+------------------+--------------------+--------------+--------------------+--------------------+-------------+---------+-------------+-----------------+-----+--------+------+-----------+\n",
       "|user_id|merchant_abn|      dollar_value|            order_id|order_datetime|       merchant_name|           prod_desc|revenue_level|take_rate|consumer_name|          address|state|postcode|gender|consumer_id|\n",
       "+-------+------------+------------------+--------------------+--------------+--------------------+--------------------+-------------+---------+-------------+-----------------+-----+--------+------+-----------+\n",
       "|      7| 71041015148|226.70111326425848|ba1c3c0b-6143-49c...|    2021-11-26|            Orci Ltd|digital goods: bo...|            c|      2.1| Andrea Jones|122 Brandon Cliff|  QLD|    4606|Female|     511685|\n",
       "|      7| 14492521225| 28.69248621050033|c82c2951-6a2c-4bf...|    2021-11-26|Praesent Eu Assoc...|tent and awning s...|            c|      2.5| Andrea Jones|122 Brandon Cliff|  QLD|    4606|Female|     511685|\n",
       "|      7| 68004106739| 93.96901941736229|40d71489-2203-485...|    2021-11-26|        Nec Ante Ltd|cable, satellite,...|            a|      5.6| Andrea Jones|122 Brandon Cliff|  QLD|    4606|Female|     511685|\n",
       "|      7| 34096466752| 92.43454448910457|293dc228-8398-49f...|    2021-11-29|     Nullam Enim Ltd|computers, comput...|            b|      3.2| Andrea Jones|122 Brandon Cliff|  QLD|    4606|Female|     511685|\n",
       "|      7| 62773208456|24.606053328805864|918d63ec-d125-43b...|    2021-11-29|        Ac Institute|watch, clock, and...|            c|      2.6| Andrea Jones|122 Brandon Cliff|  QLD|    4606|Female|     511685|\n",
       "|      7| 67874735704|  871.400942067755|0dc0a909-7b11-423...|    2021-11-29|Ultricies Adipisc...|florists supplies...|            c|      2.0| Andrea Jones|122 Brandon Cliff|  QLD|    4606|Female|     511685|\n",
       "|      7| 36125151647| 22.37653874205458|ebd96051-41c5-44d...|    2021-11-29|       Sed Nec Corp.|hobby, toy and ga...|            c|      1.8| Andrea Jones|122 Brandon Cliff|  QLD|    4606|Female|     511685|\n",
       "|      7| 86578477987|14.932370248640328|b13248d9-3c6d-4b0...|    2021-11-29|   Leo In Consulting|watch, clock, and...|            a|      6.4| Andrea Jones|122 Brandon Cliff|  QLD|    4606|Female|     511685|\n",
       "|      7| 48534649627|16.362338872391526|96a5d5f4-2f24-4c9...|    2021-11-29|Dignissim Maecena...|opticians, optica...|            a|      6.6| Andrea Jones|122 Brandon Cliff|  QLD|    4606|Female|     511685|\n",
       "|      7| 76767266140| 144.7959046161148|734de9e3-dcc1-4da...|    2021-11-29|Phasellus At Limited|furniture, home f...|            b|      4.6| Andrea Jones|122 Brandon Cliff|  QLD|    4606|Female|     511685|\n",
       "|      7| 41383736952|101.64172516104321|5f0ab0bc-bc87-43b...|    2021-11-27|Lacus Vestibulum ...|cable, satellite,...|            c|      2.2| Andrea Jones|122 Brandon Cliff|  QLD|    4606|Female|     511685|\n",
       "|      7| 53062283717| 517.1441566601612|0f8423ad-3603-482...|    2021-11-27|Mi Felis Adipisci...|          shoe shops|            b|      3.9| Andrea Jones|122 Brandon Cliff|  QLD|    4606|Female|     511685|\n",
       "|      7| 20562405782| 259.6708286617462|658c8df3-5585-426...|    2021-11-27|                null|                null|         null|     null| Andrea Jones|122 Brandon Cliff|  QLD|    4606|Female|     511685|\n",
       "|      7| 90173050473|  77.2055190980007|70a39380-1629-495...|    2021-11-27|Lobortis Class In...|lawn and garden s...|            c|      2.4| Andrea Jones|122 Brandon Cliff|  QLD|    4606|Female|     511685|\n",
       "|      7| 55955609006| 282.9963674808017|b0bbf79a-b061-4cc...|    2021-11-28|   Nec Enim Nunc LLP|cable, satellite,...|            b|      3.5| Andrea Jones|122 Brandon Cliff|  QLD|    4606|Female|     511685|\n",
       "|      7| 76224940587| 33.76890828698926|2b71f04f-f06f-474...|    2021-12-26|                null|                null|         null|     null| Andrea Jones|122 Brandon Cliff|  QLD|    4606|Female|     511685|\n",
       "|      7| 94455880010|42.796486321940655|794c942e-b2af-401...|    2021-12-26|        Nunc Sit LLC|computer programm...|            a|      6.3| Andrea Jones|122 Brandon Cliff|  QLD|    4606|Female|     511685|\n",
       "|      7| 94690988633|  524.973634094268|1730386c-3ed4-41e...|    2021-12-26|     Eu Placerat LLC|computers, comput...|            a|      6.1| Andrea Jones|122 Brandon Cliff|  QLD|    4606|Female|     511685|\n",
       "|      7| 31736633670| 164.5183024205047|3810de38-d78e-48f...|    2021-12-26|Vel Pede Blandit ...|digital goods: bo...|            a|      6.3| Andrea Jones|122 Brandon Cliff|  QLD|    4606|Female|     511685|\n",
       "|      7| 68216911708| 38.27652819575883|86eb71c9-5397-4b3...|    2021-11-30|Placerat Eget Ven...|computers, comput...|            c|      3.0| Andrea Jones|122 Brandon Cliff|  QLD|    4606|Female|     511685|\n",
       "+-------+------------+------------------+--------------------+--------------+--------------------+--------------------+-------------+---------+-------------+-----------------+-----+--------+------+-----------+\n",
       "only showing top 20 rows"
      ]
     },
     "execution_count": 6,
     "metadata": {},
     "output_type": "execute_result"
    }
   ],
   "source": [
    "transaction_20210828_20220227_sdf"
   ]
  },
  {
   "cell_type": "code",
   "execution_count": 9,
   "metadata": {},
   "outputs": [],
   "source": [
    "data = transaction_20210828_20220227_sdf.withColumn(\"Year\", F.year(\"order_datetime\"))\\\n",
    "        .withColumn(\"Month\", F.month(\"order_datetime\"))"
   ]
  },
  {
   "cell_type": "code",
   "execution_count": 11,
   "metadata": {},
   "outputs": [],
   "source": [
    "transact_agg_by_month = data.groupBy(\"Year\", \"Month\", \"merchant_abn\")\\\n",
    "        .agg(F.sum(\"dollar_value\")\\\n",
    "        .alias(\"sum_transactions\"), \\\n",
    "         F.count(\"order_id\").alias(\"number_of_customers\"), \\\n",
    "         F.countDistinct(\"user_id\").alias(\"distinct_customers\"))"
   ]
  },
  {
   "cell_type": "code",
   "execution_count": 32,
   "metadata": {},
   "outputs": [
    {
     "name": "stderr",
     "output_type": "stream",
     "text": [
      "                                                                                \r"
     ]
    },
    {
     "data": {
      "text/html": [
       "<table border='1'>\n",
       "<tr><th>Year</th><th>Month</th><th>merchant_abn</th><th>sum_transactions</th><th>number_of_customers</th><th>distinct_customers</th></tr>\n",
       "<tr><td>2021</td><td>9</td><td>20569508100</td><td>10099.236167068768</td><td>131</td><td>131</td></tr>\n",
       "<tr><td>2021</td><td>12</td><td>19933438190</td><td>65121.04160676313</td><td>4671</td><td>4245</td></tr>\n",
       "<tr><td>2021</td><td>10</td><td>46970913786</td><td>39502.63705626766</td><td>202</td><td>197</td></tr>\n",
       "<tr><td>2021</td><td>10</td><td>71247553576</td><td>79348.37054465171</td><td>238</td><td>236</td></tr>\n",
       "<tr><td>2021</td><td>12</td><td>96965554802</td><td>13385.328780379374</td><td>110</td><td>110</td></tr>\n",
       "<tr><td>2021</td><td>11</td><td>67915848101</td><td>56376.517798328365</td><td>156</td><td>156</td></tr>\n",
       "<tr><td>2021</td><td>11</td><td>90543168331</td><td>636310.2107110615</td><td>2444</td><td>2337</td></tr>\n",
       "<tr><td>2022</td><td>1</td><td>22033359776</td><td>356058.72007584944</td><td>926</td><td>913</td></tr>\n",
       "<tr><td>2022</td><td>1</td><td>99976658299</td><td>134429.57385066163</td><td>882</td><td>868</td></tr>\n",
       "<tr><td>2021</td><td>9</td><td>72553304202</td><td>21054.74136332652</td><td>329</td><td>328</td></tr>\n",
       "<tr><td>2021</td><td>12</td><td>96794593428</td><td>2206.4026651939894</td><td>42</td><td>42</td></tr>\n",
       "<tr><td>2021</td><td>10</td><td>11121775571</td><td>53865.33424502838</td><td>1011</td><td>990</td></tr>\n",
       "<tr><td>2021</td><td>12</td><td>57289898526</td><td>42782.129871292746</td><td>574</td><td>567</td></tr>\n",
       "<tr><td>2021</td><td>12</td><td>68950900599</td><td>45699.50522523483</td><td>262</td><td>259</td></tr>\n",
       "<tr><td>2021</td><td>10</td><td>39060546194</td><td>64845.12960057286</td><td>139</td><td>139</td></tr>\n",
       "<tr><td>2021</td><td>10</td><td>27086915609</td><td>35873.50347123839</td><td>188</td><td>188</td></tr>\n",
       "<tr><td>2021</td><td>9</td><td>41271931352</td><td>164377.6867224149</td><td>398</td><td>393</td></tr>\n",
       "<tr><td>2021</td><td>12</td><td>91418529927</td><td>189471.00864158053</td><td>378</td><td>377</td></tr>\n",
       "<tr><td>2021</td><td>12</td><td>83323591742</td><td>75398.38533152695</td><td>167</td><td>167</td></tr>\n",
       "<tr><td>2022</td><td>1</td><td>24123600795</td><td>22817.363030517277</td><td>34</td><td>34</td></tr>\n",
       "</table>\n",
       "only showing top 20 rows\n"
      ],
      "text/plain": [
       "DataFrame[Year: int, Month: int, merchant_abn: bigint, sum_transactions: double, number_of_customers: bigint, distinct_customers: bigint]"
      ]
     },
     "execution_count": 32,
     "metadata": {},
     "output_type": "execute_result"
    }
   ],
   "source": [
    "transact_agg_by_month"
   ]
  },
  {
   "cell_type": "code",
   "execution_count": 33,
   "metadata": {},
   "outputs": [],
   "source": [
    "transact_agg_by_monthly_average = transact_agg_by_month.groupby(\"merchant_abn\")\\\n",
    "    .agg(F.count(\"Month\").alias(\"Number_of_Month\"),\\\n",
    "    F.sum(\"sum_transactions\").alias(\"total_trans\"))"
   ]
  },
  {
   "cell_type": "code",
   "execution_count": 34,
   "metadata": {},
   "outputs": [],
   "source": [
    "final_df = transact_agg_by_monthly_average.withColumn('average_monthly_transaction', transact_agg_by_monthly_average.total_trans/transact_agg_by_monthly_average.Number_of_Month)"
   ]
  },
  {
   "cell_type": "code",
   "execution_count": null,
   "metadata": {},
   "outputs": [],
   "source": []
  }
 ],
 "metadata": {
  "kernelspec": {
   "display_name": "Python 3.8.9 64-bit",
   "language": "python",
   "name": "python3"
  },
  "language_info": {
   "codemirror_mode": {
    "name": "ipython",
    "version": 3
   },
   "file_extension": ".py",
   "mimetype": "text/x-python",
   "name": "python",
   "nbconvert_exporter": "python",
   "pygments_lexer": "ipython3",
   "version": "3.8.9"
  },
  "orig_nbformat": 4,
  "vscode": {
   "interpreter": {
    "hash": "31f2aee4e71d21fbe5cf8b01ff0e069b9275f58929596ceb00d14d90e3e16cd6"
   }
  }
 },
 "nbformat": 4,
 "nbformat_minor": 2
}
