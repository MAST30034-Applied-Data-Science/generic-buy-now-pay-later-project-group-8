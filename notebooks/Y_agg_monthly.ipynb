{
 "cells": [
  {
   "cell_type": "markdown",
   "metadata": {},
   "source": [
    "# 很抱歉，這個notebook我也忘記用在哪了 😢"
   ]
  },
  {
   "cell_type": "markdown",
   "metadata": {},
   "source": [
    "# Aggregate average monthly transaction amounts for each merchant"
   ]
  },
  {
   "cell_type": "markdown",
   "metadata": {},
   "source": [
    "## Pyspark set up"
   ]
  },
  {
   "cell_type": "code",
   "execution_count": 10,
   "metadata": {},
   "outputs": [],
   "source": [
    "from pyspark.sql import SparkSession\n",
    "from pyspark.sql import functions as F"
   ]
  },
  {
   "cell_type": "code",
   "execution_count": 11,
   "metadata": {},
   "outputs": [],
   "source": [
    "spark = (\n",
    "    SparkSession.builder.appName(\"preprocessing of taxi data\")\n",
    "    .config(\"spark.sql.repl.eagerEval.enabled\", True) \n",
    "    .config(\"spark.sql.parquet.cacheMetadata\", \"true\")\n",
    "    .config(\"spark.sql.session.timeZone\", \"Etc/UTC\")\n",
    "    .config(\"spark.driver.memory\", \"15g\")\n",
    "    .getOrCreate()\n",
    ")"
   ]
  },
  {
   "cell_type": "markdown",
   "metadata": {},
   "source": [
    "## Read in data\n",
    "### Data relating to each transaction"
   ]
  },
  {
   "cell_type": "code",
   "execution_count": 12,
   "metadata": {},
   "outputs": [],
   "source": [
    "transaction_20210828_20220227_sdf = spark.read.parquet(\"../data/curated/transactions_20210828_20220227\")"
   ]
  },
  {
   "cell_type": "markdown",
   "metadata": {},
   "source": [
    "### Giving each records the year and month it is happening"
   ]
  },
  {
   "cell_type": "code",
   "execution_count": 13,
   "metadata": {},
   "outputs": [],
   "source": [
    "data = transaction_20210828_20220227_sdf.withColumn(\"Year\", F.year(\"order_datetime\"))\\\n",
    "        .withColumn(\"Month\", F.month(\"order_datetime\"))"
   ]
  },
  {
   "cell_type": "markdown",
   "metadata": {},
   "source": [
    "## Aggregation\n",
    "### Group transaction records of each merchant by its year and month\n",
    "#### Find total sale amounts, number of transactions and number of customers\n",
    "1\\. total sale amounts == sum_transactions \\\n",
    "2\\. number of transactions == number_of_customers \\\n",
    "3\\. number of customers == distinct_customers"
   ]
  },
  {
   "cell_type": "code",
   "execution_count": 14,
   "metadata": {},
   "outputs": [],
   "source": [
    "transact_agg_by_month = data.groupBy(\"Year\", \"Month\", \"merchant_abn\")\\\n",
    "        .agg(F.sum(\"dollar_value\")\\\n",
    "        .alias(\"sum_transactions\"), \\\n",
    "         F.count(\"order_id\").alias(\"number_of_customers\"), \\\n",
    "         F.countDistinct(\"user_id\").alias(\"distinct_customers\"))"
   ]
  },
  {
   "cell_type": "code",
   "execution_count": 15,
   "metadata": {},
   "outputs": [
    {
     "name": "stderr",
     "output_type": "stream",
     "text": [
      "                                                                                \r"
     ]
    },
    {
     "data": {
      "text/html": [
       "<table border='1'>\n",
       "<tr><th>Year</th><th>Month</th><th>merchant_abn</th><th>sum_transactions</th><th>number_of_customers</th><th>distinct_customers</th></tr>\n",
       "<tr><td>2021</td><td>9</td><td>20569508100</td><td>10099.236167068768</td><td>131</td><td>131</td></tr>\n",
       "<tr><td>2021</td><td>12</td><td>19933438190</td><td>65121.04160676313</td><td>4671</td><td>4245</td></tr>\n",
       "<tr><td>2021</td><td>10</td><td>46970913786</td><td>39502.63705626766</td><td>202</td><td>197</td></tr>\n",
       "<tr><td>2021</td><td>10</td><td>71247553576</td><td>79348.37054465171</td><td>238</td><td>236</td></tr>\n",
       "<tr><td>2021</td><td>12</td><td>96965554802</td><td>13385.328780379374</td><td>110</td><td>110</td></tr>\n",
       "<tr><td>2021</td><td>11</td><td>67915848101</td><td>56376.517798328365</td><td>156</td><td>156</td></tr>\n",
       "<tr><td>2021</td><td>11</td><td>90543168331</td><td>636310.2107110615</td><td>2444</td><td>2337</td></tr>\n",
       "<tr><td>2022</td><td>1</td><td>22033359776</td><td>356058.72007584944</td><td>926</td><td>913</td></tr>\n",
       "<tr><td>2022</td><td>1</td><td>99976658299</td><td>134429.57385066163</td><td>882</td><td>868</td></tr>\n",
       "<tr><td>2021</td><td>9</td><td>72553304202</td><td>21054.74136332652</td><td>329</td><td>328</td></tr>\n",
       "<tr><td>2021</td><td>12</td><td>96794593428</td><td>2206.4026651939894</td><td>42</td><td>42</td></tr>\n",
       "<tr><td>2021</td><td>10</td><td>11121775571</td><td>53865.33424502838</td><td>1011</td><td>990</td></tr>\n",
       "<tr><td>2021</td><td>12</td><td>57289898526</td><td>42782.129871292746</td><td>574</td><td>567</td></tr>\n",
       "<tr><td>2021</td><td>12</td><td>68950900599</td><td>45699.50522523483</td><td>262</td><td>259</td></tr>\n",
       "<tr><td>2021</td><td>10</td><td>39060546194</td><td>64845.12960057286</td><td>139</td><td>139</td></tr>\n",
       "<tr><td>2021</td><td>10</td><td>27086915609</td><td>35873.50347123839</td><td>188</td><td>188</td></tr>\n",
       "<tr><td>2021</td><td>9</td><td>41271931352</td><td>164377.6867224149</td><td>398</td><td>393</td></tr>\n",
       "<tr><td>2021</td><td>12</td><td>91418529927</td><td>189471.00864158053</td><td>378</td><td>377</td></tr>\n",
       "<tr><td>2021</td><td>12</td><td>83323591742</td><td>75398.38533152695</td><td>167</td><td>167</td></tr>\n",
       "<tr><td>2022</td><td>1</td><td>24123600795</td><td>22817.363030517277</td><td>34</td><td>34</td></tr>\n",
       "</table>\n",
       "only showing top 20 rows\n"
      ],
      "text/plain": [
       "+----+-----+------------+------------------+-------------------+------------------+\n",
       "|Year|Month|merchant_abn|  sum_transactions|number_of_customers|distinct_customers|\n",
       "+----+-----+------------+------------------+-------------------+------------------+\n",
       "|2021|    9| 20569508100|10099.236167068768|                131|               131|\n",
       "|2021|   12| 19933438190| 65121.04160676313|               4671|              4245|\n",
       "|2021|   10| 46970913786| 39502.63705626766|                202|               197|\n",
       "|2021|   10| 71247553576| 79348.37054465171|                238|               236|\n",
       "|2021|   12| 96965554802|13385.328780379374|                110|               110|\n",
       "|2021|   11| 67915848101|56376.517798328365|                156|               156|\n",
       "|2021|   11| 90543168331| 636310.2107110615|               2444|              2337|\n",
       "|2022|    1| 22033359776|356058.72007584944|                926|               913|\n",
       "|2022|    1| 99976658299|134429.57385066163|                882|               868|\n",
       "|2021|    9| 72553304202| 21054.74136332652|                329|               328|\n",
       "|2021|   12| 96794593428|2206.4026651939894|                 42|                42|\n",
       "|2021|   10| 11121775571| 53865.33424502838|               1011|               990|\n",
       "|2021|   12| 57289898526|42782.129871292746|                574|               567|\n",
       "|2021|   12| 68950900599| 45699.50522523483|                262|               259|\n",
       "|2021|   10| 39060546194| 64845.12960057286|                139|               139|\n",
       "|2021|   10| 27086915609| 35873.50347123839|                188|               188|\n",
       "|2021|    9| 41271931352| 164377.6867224149|                398|               393|\n",
       "|2021|   12| 91418529927|189471.00864158053|                378|               377|\n",
       "|2021|   12| 83323591742| 75398.38533152695|                167|               167|\n",
       "|2022|    1| 24123600795|22817.363030517277|                 34|                34|\n",
       "+----+-----+------------+------------------+-------------------+------------------+\n",
       "only showing top 20 rows"
      ]
     },
     "execution_count": 15,
     "metadata": {},
     "output_type": "execute_result"
    }
   ],
   "source": [
    "transact_agg_by_month"
   ]
  },
  {
   "cell_type": "markdown",
   "metadata": {},
   "source": [
    "### Group overall transactions for a merchant "
   ]
  },
  {
   "cell_type": "code",
   "execution_count": 33,
   "metadata": {},
   "outputs": [],
   "source": [
    "transact_agg_by_monthly_average = transact_agg_by_month.groupby(\"merchant_abn\")\\\n",
    "    .agg(F.count(\"Month\").alias(\"Number_of_Month\"),\\\n",
    "    F.sum(\"sum_transactions\").alias(\"total_trans\"))"
   ]
  },
  {
   "cell_type": "markdown",
   "metadata": {},
   "source": [
    "### Find the average monthly transaction money "
   ]
  },
  {
   "cell_type": "code",
   "execution_count": 34,
   "metadata": {},
   "outputs": [],
   "source": [
    "final_df = transact_agg_by_monthly_average.withColumn('average_monthly_transaction', transact_agg_by_monthly_average.total_trans/transact_agg_by_monthly_average.Number_of_Month)"
   ]
  },
  {
   "cell_type": "code",
   "execution_count": null,
   "metadata": {},
   "outputs": [],
   "source": []
  }
 ],
 "metadata": {
  "kernelspec": {
   "display_name": "Python 3.8.9 64-bit",
   "language": "python",
   "name": "python3"
  },
  "language_info": {
   "codemirror_mode": {
    "name": "ipython",
    "version": 3
   },
   "file_extension": ".py",
   "mimetype": "text/x-python",
   "name": "python",
   "nbconvert_exporter": "python",
   "pygments_lexer": "ipython3",
   "version": "3.8.9"
  },
  "orig_nbformat": 4,
  "vscode": {
   "interpreter": {
    "hash": "31f2aee4e71d21fbe5cf8b01ff0e069b9275f58929596ceb00d14d90e3e16cd6"
   }
  }
 },
 "nbformat": 4,
 "nbformat_minor": 2
}
