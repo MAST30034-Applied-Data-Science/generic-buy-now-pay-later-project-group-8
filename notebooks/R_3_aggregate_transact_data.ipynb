{
 "cells": [
  {
   "cell_type": "markdown",
   "metadata": {},
   "source": [
    "# Aggregate data for first 3 variables of final model"
   ]
  },
  {
   "cell_type": "code",
   "execution_count": 54,
   "metadata": {},
   "outputs": [],
   "source": [
    "# import libraries\n",
    "import pandas as pd\n",
    "from pyspark.sql import SparkSession\n",
    "from pyspark.sql import functions as F"
   ]
  },
  {
   "cell_type": "code",
   "execution_count": 55,
   "metadata": {},
   "outputs": [],
   "source": [
    "# setup spark\n",
    "spark = (\n",
    "    SparkSession.builder.appName(\"aggregate data for first 3 final model variables\")\n",
    "    .config(\"spark.sql.repl.eagerEval.enabled\", True) \n",
    "    .config(\"spark.sql.parquet.cacheMetadata\", \"true\")\n",
    "    .config(\"spark.sql.session.timeZone\", \"Etc/UTC\")\n",
    "    .config(\"spark.driver.memory\", \"15g\")\n",
    "    .getOrCreate()\n",
    ")"
   ]
  },
  {
   "cell_type": "code",
   "execution_count": 56,
   "metadata": {},
   "outputs": [
    {
     "name": "stderr",
     "output_type": "stream",
     "text": [
      "                                                                                \r"
     ]
    }
   ],
   "source": [
    "# import data\n",
    "data1 = spark.read.parquet(\"../data/tables/transactions_20210228_20210827_snapshot/\")\n",
    "data2 = spark.read.parquet(\"../data/tables/transactions_20210828_20220227_snapshot/\")\n",
    "data3 = spark.read.parquet(\"../data/tables/transactions_20220228_20220828_snapshot/\")"
   ]
  },
  {
   "cell_type": "code",
   "execution_count": 57,
   "metadata": {},
   "outputs": [],
   "source": [
    "data = data1.union(data2)\n",
    "data = data.union(data3)"
   ]
  },
  {
   "cell_type": "code",
   "execution_count": 58,
   "metadata": {},
   "outputs": [],
   "source": [
    "# create some new columns\n",
    "data = data.withColumn(\"Week\", F.weekofyear(\"order_datetime\"))\\\n",
    "        .withColumn(\"Year\", F.year(\"order_datetime\"))\\\n",
    "        .withColumn(\"Month\", F.month(\"order_datetime\"))\\\n",
    "        .withColumn(\"Day\", F.dayofmonth(\"order_datetime\"))"
   ]
  },
  {
   "cell_type": "code",
   "execution_count": 59,
   "metadata": {},
   "outputs": [],
   "source": [
    "# drop 2-28 because we are aggregating by week/fortnight; 2021-03-01 is first monday of dataset, 2022-08-14 is last sunday of dataset  \n",
    "data = data.filter(((data.Month >= 3) & (data.Year >= 2021)) | ((data.Day <= 14) & (data.Month <= 8) & (data.Year <= 2022)))\n",
    "\n",
    "## ONE THOUGHT: START THE WEEK ON A SUNDAY... but how does it affect the cycle? domain knowledge\n",
    "\n",
    "## THEORY: create a new column that is 1 day later than current date, and then take weekofyear based on it."
   ]
  },
  {
   "cell_type": "code",
   "execution_count": 60,
   "metadata": {},
   "outputs": [
    {
     "data": {
      "text/html": [
       "<table border='1'>\n",
       "<tr><th>user_id</th><th>merchant_abn</th><th>dollar_value</th><th>order_id</th><th>order_datetime</th><th>Week</th><th>Year</th><th>Month</th><th>Day</th></tr>\n",
       "<tr><td>18478</td><td>62191208634</td><td>63.255848959735246</td><td>949a63c8-29f7-4ab...</td><td>2021-08-20</td><td>33</td><td>2021</td><td>8</td><td>20</td></tr>\n",
       "<tr><td>2</td><td>15549624934</td><td>130.3505283105634</td><td>6a84c3cf-612a-457...</td><td>2021-08-20</td><td>33</td><td>2021</td><td>8</td><td>20</td></tr>\n",
       "<tr><td>18479</td><td>64403598239</td><td>120.15860593212783</td><td>b10dcc33-e53f-425...</td><td>2021-08-20</td><td>33</td><td>2021</td><td>8</td><td>20</td></tr>\n",
       "<tr><td>3</td><td>60956456424</td><td>136.6785200286976</td><td>0f09c5a5-784e-447...</td><td>2021-08-20</td><td>33</td><td>2021</td><td>8</td><td>20</td></tr>\n",
       "<tr><td>18479</td><td>94493496784</td><td>72.96316578355305</td><td>f6c78c1a-4600-4c5...</td><td>2021-08-20</td><td>33</td><td>2021</td><td>8</td><td>20</td></tr>\n",
       "<tr><td>3</td><td>76819856970</td><td>448.529684285612</td><td>5ace6a24-cdf0-4aa...</td><td>2021-08-20</td><td>33</td><td>2021</td><td>8</td><td>20</td></tr>\n",
       "<tr><td>18479</td><td>67609108741</td><td>86.4040605836911</td><td>d0e180f0-cb06-42a...</td><td>2021-08-20</td><td>33</td><td>2021</td><td>8</td><td>20</td></tr>\n",
       "<tr><td>3</td><td>34096466752</td><td>301.5793450525113</td><td>6fb1ff48-24bb-4f9...</td><td>2021-08-20</td><td>33</td><td>2021</td><td>8</td><td>20</td></tr>\n",
       "<tr><td>18482</td><td>70501974849</td><td>68.75486276223054</td><td>8505fb33-b69a-412...</td><td>2021-08-20</td><td>33</td><td>2021</td><td>8</td><td>20</td></tr>\n",
       "<tr><td>4</td><td>49891706470</td><td>48.89796461900801</td><td>ed11e477-b09f-4ae...</td><td>2021-08-20</td><td>33</td><td>2021</td><td>8</td><td>20</td></tr>\n",
       "<tr><td>18482</td><td>46804135891</td><td>6.6168976971833615</td><td>05b5edb5-b925-414...</td><td>2021-08-20</td><td>33</td><td>2021</td><td>8</td><td>20</td></tr>\n",
       "<tr><td>7</td><td>33064796871</td><td>373.0873675184212</td><td>fe188788-b89f-4dd...</td><td>2021-08-20</td><td>33</td><td>2021</td><td>8</td><td>20</td></tr>\n",
       "<tr><td>18483</td><td>44160392990</td><td>83.98473054761176</td><td>7c44302d-98b3-48b...</td><td>2021-08-20</td><td>33</td><td>2021</td><td>8</td><td>20</td></tr>\n",
       "<tr><td>7</td><td>68435002949</td><td>232.5364986739752</td><td>b4a89891-a113-45e...</td><td>2021-08-20</td><td>33</td><td>2021</td><td>8</td><td>20</td></tr>\n",
       "<tr><td>18484</td><td>70033549200</td><td>871.7678061729196</td><td>4b1d941a-21a1-43e...</td><td>2021-08-20</td><td>33</td><td>2021</td><td>8</td><td>20</td></tr>\n",
       "<tr><td>7</td><td>41944909975</td><td>30.910755230234322</td><td>302ae628-8eba-4a5...</td><td>2021-08-20</td><td>33</td><td>2021</td><td>8</td><td>20</td></tr>\n",
       "<tr><td>18485</td><td>41705715409</td><td>309.5417224575787</td><td>67f4f98e-3149-4e8...</td><td>2021-08-20</td><td>33</td><td>2021</td><td>8</td><td>20</td></tr>\n",
       "<tr><td>8</td><td>29566626791</td><td>74.15732460440282</td><td>71a81652-cc91-4bf...</td><td>2021-08-20</td><td>33</td><td>2021</td><td>8</td><td>20</td></tr>\n",
       "<tr><td>18487</td><td>32361057556</td><td>119.19055863068847</td><td>15577921-1104-470...</td><td>2021-08-20</td><td>33</td><td>2021</td><td>8</td><td>20</td></tr>\n",
       "<tr><td>9</td><td>47663262928</td><td>36.69873283148887</td><td>c4fcb49a-ce87-4e1...</td><td>2021-08-20</td><td>33</td><td>2021</td><td>8</td><td>20</td></tr>\n",
       "</table>\n",
       "only showing top 20 rows\n"
      ],
      "text/plain": [
       "+-------+------------+------------------+--------------------+--------------+----+----+-----+---+\n",
       "|user_id|merchant_abn|      dollar_value|            order_id|order_datetime|Week|Year|Month|Day|\n",
       "+-------+------------+------------------+--------------------+--------------+----+----+-----+---+\n",
       "|  18478| 62191208634|63.255848959735246|949a63c8-29f7-4ab...|    2021-08-20|  33|2021|    8| 20|\n",
       "|      2| 15549624934| 130.3505283105634|6a84c3cf-612a-457...|    2021-08-20|  33|2021|    8| 20|\n",
       "|  18479| 64403598239|120.15860593212783|b10dcc33-e53f-425...|    2021-08-20|  33|2021|    8| 20|\n",
       "|      3| 60956456424| 136.6785200286976|0f09c5a5-784e-447...|    2021-08-20|  33|2021|    8| 20|\n",
       "|  18479| 94493496784| 72.96316578355305|f6c78c1a-4600-4c5...|    2021-08-20|  33|2021|    8| 20|\n",
       "|      3| 76819856970|  448.529684285612|5ace6a24-cdf0-4aa...|    2021-08-20|  33|2021|    8| 20|\n",
       "|  18479| 67609108741|  86.4040605836911|d0e180f0-cb06-42a...|    2021-08-20|  33|2021|    8| 20|\n",
       "|      3| 34096466752| 301.5793450525113|6fb1ff48-24bb-4f9...|    2021-08-20|  33|2021|    8| 20|\n",
       "|  18482| 70501974849| 68.75486276223054|8505fb33-b69a-412...|    2021-08-20|  33|2021|    8| 20|\n",
       "|      4| 49891706470| 48.89796461900801|ed11e477-b09f-4ae...|    2021-08-20|  33|2021|    8| 20|\n",
       "|  18482| 46804135891|6.6168976971833615|05b5edb5-b925-414...|    2021-08-20|  33|2021|    8| 20|\n",
       "|      7| 33064796871| 373.0873675184212|fe188788-b89f-4dd...|    2021-08-20|  33|2021|    8| 20|\n",
       "|  18483| 44160392990| 83.98473054761176|7c44302d-98b3-48b...|    2021-08-20|  33|2021|    8| 20|\n",
       "|      7| 68435002949| 232.5364986739752|b4a89891-a113-45e...|    2021-08-20|  33|2021|    8| 20|\n",
       "|  18484| 70033549200| 871.7678061729196|4b1d941a-21a1-43e...|    2021-08-20|  33|2021|    8| 20|\n",
       "|      7| 41944909975|30.910755230234322|302ae628-8eba-4a5...|    2021-08-20|  33|2021|    8| 20|\n",
       "|  18485| 41705715409| 309.5417224575787|67f4f98e-3149-4e8...|    2021-08-20|  33|2021|    8| 20|\n",
       "|      8| 29566626791| 74.15732460440282|71a81652-cc91-4bf...|    2021-08-20|  33|2021|    8| 20|\n",
       "|  18487| 32361057556|119.19055863068847|15577921-1104-470...|    2021-08-20|  33|2021|    8| 20|\n",
       "|      9| 47663262928| 36.69873283148887|c4fcb49a-ce87-4e1...|    2021-08-20|  33|2021|    8| 20|\n",
       "+-------+------------+------------------+--------------------+--------------+----+----+-----+---+\n",
       "only showing top 20 rows"
      ]
     },
     "execution_count": 60,
     "metadata": {},
     "output_type": "execute_result"
    }
   ],
   "source": [
    "data"
   ]
  },
  {
   "cell_type": "code",
   "execution_count": 61,
   "metadata": {},
   "outputs": [
    {
     "name": "stderr",
     "output_type": "stream",
     "text": [
      "                                                                                \r"
     ]
    },
    {
     "data": {
      "text/plain": [
       "13598410"
      ]
     },
     "execution_count": 61,
     "metadata": {},
     "output_type": "execute_result"
    }
   ],
   "source": [
    "data.count()"
   ]
  },
  {
   "cell_type": "markdown",
   "metadata": {},
   "source": [
    "## Aggregate by Weeks"
   ]
  },
  {
   "cell_type": "code",
   "execution_count": 88,
   "metadata": {},
   "outputs": [
    {
     "name": "stderr",
     "output_type": "stream",
     "text": [
      "                                                                                \r"
     ]
    },
    {
     "data": {
      "text/html": [
       "<table border='1'>\n",
       "<tr><th>user_id</th><th>merchant_abn</th><th>dollar_value</th><th>order_id</th><th>order_datetime</th><th>Week</th><th>Year</th><th>Month</th><th>Day</th></tr>\n",
       "<tr><td>11144</td><td>75104340635</td><td>182.87614829522676</td><td>73183bb6-d2f5-46f...</td><td>2022-10-26</td><td>43</td><td>2022</td><td>10</td><td>26</td></tr>\n",
       "<tr><td>11142</td><td>57900494384</td><td>9.631165044586432</td><td>9a901339-9239-414...</td><td>2022-10-26</td><td>43</td><td>2022</td><td>10</td><td>26</td></tr>\n",
       "<tr><td>22289</td><td>47086412084</td><td>30.69223575655585</td><td>fad96b4c-99b4-4a3...</td><td>2022-10-26</td><td>43</td><td>2022</td><td>10</td><td>26</td></tr>\n",
       "<tr><td>22284</td><td>48701447259</td><td>113.3370672936551</td><td>534f804f-c8b4-421...</td><td>2022-10-26</td><td>43</td><td>2022</td><td>10</td><td>26</td></tr>\n",
       "<tr><td>22287</td><td>41944909975</td><td>64.812002635129</td><td>988453e9-9d47-42c...</td><td>2022-10-26</td><td>43</td><td>2022</td><td>10</td><td>26</td></tr>\n",
       "<tr><td>22288</td><td>81219314324</td><td>145.09435777132026</td><td>c956b44f-0386-4cc...</td><td>2022-10-26</td><td>43</td><td>2022</td><td>10</td><td>26</td></tr>\n",
       "<tr><td>11144</td><td>80518954462</td><td>661.4437679336016</td><td>4b26e4a6-5bb0-42c...</td><td>2022-10-26</td><td>43</td><td>2022</td><td>10</td><td>26</td></tr>\n",
       "<tr><td>22284</td><td>63290521567</td><td>25.30482082897359</td><td>359028c0-59b7-4e2...</td><td>2022-10-26</td><td>43</td><td>2022</td><td>10</td><td>26</td></tr>\n",
       "<tr><td>11139</td><td>40252040480</td><td>55.01140475396662</td><td>d031d695-6041-4bf...</td><td>2022-10-26</td><td>43</td><td>2022</td><td>10</td><td>26</td></tr>\n",
       "<tr><td>22286</td><td>96442520325</td><td>19.738085840632266</td><td>472bcf37-47a9-412...</td><td>2022-10-26</td><td>43</td><td>2022</td><td>10</td><td>26</td></tr>\n",
       "<tr><td>11142</td><td>68216911708</td><td>34.34930625370409</td><td>dddf36ef-7479-444...</td><td>2022-10-26</td><td>43</td><td>2022</td><td>10</td><td>26</td></tr>\n",
       "<tr><td>22287</td><td>63465140133</td><td>2.9454778123044423</td><td>04faa525-210f-4da...</td><td>2022-10-26</td><td>43</td><td>2022</td><td>10</td><td>26</td></tr>\n",
       "<tr><td>11143</td><td>45629217853</td><td>6.812081113944776</td><td>a7d2ef60-29a7-42d...</td><td>2022-10-26</td><td>43</td><td>2022</td><td>10</td><td>26</td></tr>\n",
       "<tr><td>11143</td><td>40507108040</td><td>11.254066513093951</td><td>167242a5-a096-449...</td><td>2022-10-26</td><td>43</td><td>2022</td><td>10</td><td>26</td></tr>\n",
       "<tr><td>22288</td><td>60956456424</td><td>32.33624003744398</td><td>7f56a7e8-343e-45a...</td><td>2022-10-26</td><td>43</td><td>2022</td><td>10</td><td>26</td></tr>\n",
       "<tr><td>11139</td><td>71961434094</td><td>4.387665156244523</td><td>4b1c42c9-f723-495...</td><td>2022-10-26</td><td>43</td><td>2022</td><td>10</td><td>26</td></tr>\n",
       "<tr><td>11145</td><td>60836029312</td><td>217.06179694585018</td><td>2d85c78e-c831-427...</td><td>2022-10-26</td><td>43</td><td>2022</td><td>10</td><td>26</td></tr>\n",
       "<tr><td>11139</td><td>24715277505</td><td>55.807728823541716</td><td>0aa48d00-69a2-457...</td><td>2022-10-26</td><td>43</td><td>2022</td><td>10</td><td>26</td></tr>\n",
       "<tr><td>22284</td><td>14058755389</td><td>318.38761099643233</td><td>9f8efa0a-f970-46d...</td><td>2022-10-26</td><td>43</td><td>2022</td><td>10</td><td>26</td></tr>\n",
       "<tr><td>11140</td><td>22795471441</td><td>16.484341739009004</td><td>438ac152-e629-41d...</td><td>2022-10-26</td><td>43</td><td>2022</td><td>10</td><td>26</td></tr>\n",
       "</table>\n",
       "only showing top 20 rows\n"
      ],
      "text/plain": [
       "+-------+------------+------------------+--------------------+--------------+----+----+-----+---+\n",
       "|user_id|merchant_abn|      dollar_value|            order_id|order_datetime|Week|Year|Month|Day|\n",
       "+-------+------------+------------------+--------------------+--------------+----+----+-----+---+\n",
       "|  11144| 75104340635|182.87614829522676|73183bb6-d2f5-46f...|    2022-10-26|  43|2022|   10| 26|\n",
       "|  11142| 57900494384| 9.631165044586432|9a901339-9239-414...|    2022-10-26|  43|2022|   10| 26|\n",
       "|  22289| 47086412084| 30.69223575655585|fad96b4c-99b4-4a3...|    2022-10-26|  43|2022|   10| 26|\n",
       "|  22284| 48701447259| 113.3370672936551|534f804f-c8b4-421...|    2022-10-26|  43|2022|   10| 26|\n",
       "|  22287| 41944909975|   64.812002635129|988453e9-9d47-42c...|    2022-10-26|  43|2022|   10| 26|\n",
       "|  22288| 81219314324|145.09435777132026|c956b44f-0386-4cc...|    2022-10-26|  43|2022|   10| 26|\n",
       "|  11144| 80518954462| 661.4437679336016|4b26e4a6-5bb0-42c...|    2022-10-26|  43|2022|   10| 26|\n",
       "|  22284| 63290521567| 25.30482082897359|359028c0-59b7-4e2...|    2022-10-26|  43|2022|   10| 26|\n",
       "|  11139| 40252040480| 55.01140475396662|d031d695-6041-4bf...|    2022-10-26|  43|2022|   10| 26|\n",
       "|  22286| 96442520325|19.738085840632266|472bcf37-47a9-412...|    2022-10-26|  43|2022|   10| 26|\n",
       "|  11142| 68216911708| 34.34930625370409|dddf36ef-7479-444...|    2022-10-26|  43|2022|   10| 26|\n",
       "|  22287| 63465140133|2.9454778123044423|04faa525-210f-4da...|    2022-10-26|  43|2022|   10| 26|\n",
       "|  11143| 45629217853| 6.812081113944776|a7d2ef60-29a7-42d...|    2022-10-26|  43|2022|   10| 26|\n",
       "|  11143| 40507108040|11.254066513093951|167242a5-a096-449...|    2022-10-26|  43|2022|   10| 26|\n",
       "|  22288| 60956456424| 32.33624003744398|7f56a7e8-343e-45a...|    2022-10-26|  43|2022|   10| 26|\n",
       "|  11139| 71961434094| 4.387665156244523|4b1c42c9-f723-495...|    2022-10-26|  43|2022|   10| 26|\n",
       "|  11145| 60836029312|217.06179694585018|2d85c78e-c831-427...|    2022-10-26|  43|2022|   10| 26|\n",
       "|  11139| 24715277505|55.807728823541716|0aa48d00-69a2-457...|    2022-10-26|  43|2022|   10| 26|\n",
       "|  22284| 14058755389|318.38761099643233|9f8efa0a-f970-46d...|    2022-10-26|  43|2022|   10| 26|\n",
       "|  11140| 22795471441|16.484341739009004|438ac152-e629-41d...|    2022-10-26|  43|2022|   10| 26|\n",
       "+-------+------------+------------------+--------------------+--------------+----+----+-----+---+\n",
       "only showing top 20 rows"
      ]
     },
     "execution_count": 88,
     "metadata": {},
     "output_type": "execute_result"
    }
   ],
   "source": [
    "# data.orderBy(F.col(\"order_datetime\").desc())"
   ]
  },
  {
   "cell_type": "code",
   "execution_count": 142,
   "metadata": {},
   "outputs": [],
   "source": [
    "# aggregate by week; retain sum of transactions, number of customers, number of transactions\n",
    "transact_agg_by_comp_week = data.groupBy(\"Year\", \"Week\", \"merchant_abn\")\\\n",
    "        .agg(F.sum(\"dollar_value\")\\\n",
    "        .alias(\"sum_transactions\"), \\\n",
    "         F.count(\"order_id\").alias(\"number_of_customers\"), \\\n",
    "         F.countDistinct(\"user_id\").alias(\"distinct_customers\"))"
   ]
  },
  {
   "cell_type": "code",
   "execution_count": 144,
   "metadata": {},
   "outputs": [
    {
     "name": "stderr",
     "output_type": "stream",
     "text": [
      "                                                                                \r"
     ]
    }
   ],
   "source": [
    "# turn into pandas dataframe\n",
    "transact_agg_comp_week_df = transact_agg_by_comp_week.toPandas()"
   ]
  },
  {
   "cell_type": "code",
   "execution_count": 163,
   "metadata": {},
   "outputs": [
    {
     "data": {
      "text/plain": [
       "290684"
      ]
     },
     "execution_count": 163,
     "metadata": {},
     "output_type": "execute_result"
    }
   ],
   "source": [
    "len(transact_agg_comp_week_df)"
   ]
  },
  {
   "cell_type": "code",
   "execution_count": 145,
   "metadata": {},
   "outputs": [],
   "source": [
    "## Fill up na\n",
    "# get set of merchants\n",
    "distinct_merchants = set(transact_agg_comp_week_df.merchant_abn)"
   ]
  },
  {
   "cell_type": "code",
   "execution_count": 146,
   "metadata": {},
   "outputs": [],
   "source": [
    "# get set of year and week\n",
    "year_week_set = list()\n",
    "\n",
    "for id, dta in transact_agg_comp_week_df.groupby(['Year', 'Week']):\n",
    "    year_week_set.append(id)"
   ]
  },
  {
   "cell_type": "code",
   "execution_count": 147,
   "metadata": {},
   "outputs": [],
   "source": [
    "year_week_set = year_week_set[:-1]"
   ]
  },
  {
   "cell_type": "code",
   "execution_count": 148,
   "metadata": {},
   "outputs": [],
   "source": [
    "years = [x[0] for x in year_week_set]\n",
    "weeks = [x[1] for x in year_week_set]\n",
    "\n",
    "fill_na_time = pd.DataFrame({\"Year\": years, \"Week\": weeks})"
   ]
  },
  {
   "cell_type": "code",
   "execution_count": 149,
   "metadata": {},
   "outputs": [],
   "source": [
    "fill_na_companies = pd.DataFrame({\"merchant_abn\": list(distinct_merchants)})"
   ]
  },
  {
   "cell_type": "code",
   "execution_count": 150,
   "metadata": {},
   "outputs": [],
   "source": [
    "fill_na = fill_na_time.merge(fill_na_companies, how = 'cross')\n",
    "\n",
    "for col in transact_agg_comp_week_df.columns[3:]:\n",
    "    fill_na[col] = 0"
   ]
  },
  {
   "cell_type": "code",
   "execution_count": 151,
   "metadata": {},
   "outputs": [
    {
     "data": {
      "text/html": [
       "<div>\n",
       "<style scoped>\n",
       "    .dataframe tbody tr th:only-of-type {\n",
       "        vertical-align: middle;\n",
       "    }\n",
       "\n",
       "    .dataframe tbody tr th {\n",
       "        vertical-align: top;\n",
       "    }\n",
       "\n",
       "    .dataframe thead th {\n",
       "        text-align: right;\n",
       "    }\n",
       "</style>\n",
       "<table border=\"1\" class=\"dataframe\">\n",
       "  <thead>\n",
       "    <tr style=\"text-align: right;\">\n",
       "      <th></th>\n",
       "      <th>Year</th>\n",
       "      <th>Week</th>\n",
       "      <th>merchant_abn</th>\n",
       "      <th>sum_transactions</th>\n",
       "      <th>number_of_customers</th>\n",
       "      <th>distinct_customers</th>\n",
       "    </tr>\n",
       "  </thead>\n",
       "  <tbody>\n",
       "    <tr>\n",
       "      <th>0</th>\n",
       "      <td>2021</td>\n",
       "      <td>33</td>\n",
       "      <td>97259357542</td>\n",
       "      <td>663.743667</td>\n",
       "      <td>9</td>\n",
       "      <td>9</td>\n",
       "    </tr>\n",
       "    <tr>\n",
       "      <th>1</th>\n",
       "      <td>2021</td>\n",
       "      <td>20</td>\n",
       "      <td>55270512213</td>\n",
       "      <td>619.075001</td>\n",
       "      <td>4</td>\n",
       "      <td>4</td>\n",
       "    </tr>\n",
       "    <tr>\n",
       "      <th>2</th>\n",
       "      <td>2021</td>\n",
       "      <td>21</td>\n",
       "      <td>72472909171</td>\n",
       "      <td>74922.723247</td>\n",
       "      <td>1041</td>\n",
       "      <td>1024</td>\n",
       "    </tr>\n",
       "    <tr>\n",
       "      <th>3</th>\n",
       "      <td>2021</td>\n",
       "      <td>34</td>\n",
       "      <td>38425242099</td>\n",
       "      <td>938.438232</td>\n",
       "      <td>6</td>\n",
       "      <td>6</td>\n",
       "    </tr>\n",
       "    <tr>\n",
       "      <th>4</th>\n",
       "      <td>2021</td>\n",
       "      <td>31</td>\n",
       "      <td>89502033586</td>\n",
       "      <td>15954.471504</td>\n",
       "      <td>218</td>\n",
       "      <td>215</td>\n",
       "    </tr>\n",
       "    <tr>\n",
       "      <th>...</th>\n",
       "      <td>...</td>\n",
       "      <td>...</td>\n",
       "      <td>...</td>\n",
       "      <td>...</td>\n",
       "      <td>...</td>\n",
       "      <td>...</td>\n",
       "    </tr>\n",
       "    <tr>\n",
       "      <th>290679</th>\n",
       "      <td>2021</td>\n",
       "      <td>38</td>\n",
       "      <td>92426644718</td>\n",
       "      <td>1401.439911</td>\n",
       "      <td>1</td>\n",
       "      <td>1</td>\n",
       "    </tr>\n",
       "    <tr>\n",
       "      <th>290680</th>\n",
       "      <td>2022</td>\n",
       "      <td>42</td>\n",
       "      <td>49802393568</td>\n",
       "      <td>619.726511</td>\n",
       "      <td>1</td>\n",
       "      <td>1</td>\n",
       "    </tr>\n",
       "    <tr>\n",
       "      <th>290681</th>\n",
       "      <td>2022</td>\n",
       "      <td>36</td>\n",
       "      <td>56488744658</td>\n",
       "      <td>5038.085170</td>\n",
       "      <td>1</td>\n",
       "      <td>1</td>\n",
       "    </tr>\n",
       "    <tr>\n",
       "      <th>290682</th>\n",
       "      <td>2021</td>\n",
       "      <td>32</td>\n",
       "      <td>98065308169</td>\n",
       "      <td>113.314105</td>\n",
       "      <td>1</td>\n",
       "      <td>1</td>\n",
       "    </tr>\n",
       "    <tr>\n",
       "      <th>290683</th>\n",
       "      <td>2022</td>\n",
       "      <td>36</td>\n",
       "      <td>81615080499</td>\n",
       "      <td>6765.695678</td>\n",
       "      <td>1</td>\n",
       "      <td>1</td>\n",
       "    </tr>\n",
       "  </tbody>\n",
       "</table>\n",
       "<p>290684 rows × 6 columns</p>\n",
       "</div>"
      ],
      "text/plain": [
       "        Year  Week  merchant_abn  sum_transactions  number_of_customers  \\\n",
       "0       2021    33   97259357542        663.743667                    9   \n",
       "1       2021    20   55270512213        619.075001                    4   \n",
       "2       2021    21   72472909171      74922.723247                 1041   \n",
       "3       2021    34   38425242099        938.438232                    6   \n",
       "4       2021    31   89502033586      15954.471504                  218   \n",
       "...      ...   ...           ...               ...                  ...   \n",
       "290679  2021    38   92426644718       1401.439911                    1   \n",
       "290680  2022    42   49802393568        619.726511                    1   \n",
       "290681  2022    36   56488744658       5038.085170                    1   \n",
       "290682  2021    32   98065308169        113.314105                    1   \n",
       "290683  2022    36   81615080499       6765.695678                    1   \n",
       "\n",
       "        distinct_customers  \n",
       "0                        9  \n",
       "1                        4  \n",
       "2                     1024  \n",
       "3                        6  \n",
       "4                      215  \n",
       "...                    ...  \n",
       "290679                   1  \n",
       "290680                   1  \n",
       "290681                   1  \n",
       "290682                   1  \n",
       "290683                   1  \n",
       "\n",
       "[290684 rows x 6 columns]"
      ]
     },
     "execution_count": 151,
     "metadata": {},
     "output_type": "execute_result"
    }
   ],
   "source": [
    "transact_agg_comp_week_df"
   ]
  },
  {
   "cell_type": "code",
   "execution_count": 152,
   "metadata": {},
   "outputs": [
    {
     "name": "stderr",
     "output_type": "stream",
     "text": [
      "/var/folders/xg/8w_3dndd6l5c3n99vd7vd3f40000gn/T/ipykernel_34410/559013846.py:9: SettingWithCopyWarning: \n",
      "A value is trying to be set on a copy of a slice from a DataFrame.\n",
      "Try using .loc[row_indexer,col_indexer] = value instead\n",
      "\n",
      "See the caveats in the documentation: https://pandas.pydata.org/pandas-docs/stable/user_guide/indexing.html#returning-a-view-versus-a-copy\n",
      "  week52['Year'] = week52['Year']-1\n"
     ]
    }
   ],
   "source": [
    "# correct problem of first few days of 2022 classified as wk 52, and under our aggregation becomes\n",
    "# 2022 week 52\n",
    "\n",
    "week52 = transact_agg_comp_week_df[(transact_agg_comp_week_df['Week'] == 52) & \n",
    "        (transact_agg_comp_week_df['Year'] == 2022)]\n",
    "\n",
    "transact_agg_comp_week_df = transact_agg_comp_week_df.drop(week52.index)\n",
    "\n",
    "week52['Year'] = week52['Year']-1"
   ]
  },
  {
   "cell_type": "code",
   "execution_count": 153,
   "metadata": {},
   "outputs": [],
   "source": [
    "transact_agg_comp_week_df = pd.concat([transact_agg_comp_week_df, week52])\n"
   ]
  },
  {
   "cell_type": "code",
   "execution_count": 154,
   "metadata": {},
   "outputs": [],
   "source": [
    "transact_agg_comp_week_filled_df = pd.concat([transact_agg_comp_week_df, fill_na])\n",
    "transact_agg_comp_week_filled_df = transact_agg_comp_week_filled_df.groupby(['Year', 'Week', 'merchant_abn'])\\\n",
    "    .agg({'sum_transactions': sum, 'number_of_customers': sum, 'distinct_customers': sum})"
   ]
  },
  {
   "cell_type": "code",
   "execution_count": 155,
   "metadata": {},
   "outputs": [],
   "source": [
    "transact_agg_comp_week_filled_df = transact_agg_comp_week_filled_df.reset_index()"
   ]
  },
  {
   "cell_type": "code",
   "execution_count": 156,
   "metadata": {},
   "outputs": [
    {
     "data": {
      "text/html": [
       "<div>\n",
       "<style scoped>\n",
       "    .dataframe tbody tr th:only-of-type {\n",
       "        vertical-align: middle;\n",
       "    }\n",
       "\n",
       "    .dataframe tbody tr th {\n",
       "        vertical-align: top;\n",
       "    }\n",
       "\n",
       "    .dataframe thead th {\n",
       "        text-align: right;\n",
       "    }\n",
       "</style>\n",
       "<table border=\"1\" class=\"dataframe\">\n",
       "  <thead>\n",
       "    <tr style=\"text-align: right;\">\n",
       "      <th></th>\n",
       "      <th>Year</th>\n",
       "      <th>Week</th>\n",
       "      <th>merchant_abn</th>\n",
       "      <th>sum_transactions</th>\n",
       "      <th>number_of_customers</th>\n",
       "      <th>distinct_customers</th>\n",
       "    </tr>\n",
       "  </thead>\n",
       "  <tbody>\n",
       "    <tr>\n",
       "      <th>0</th>\n",
       "      <td>2021</td>\n",
       "      <td>9</td>\n",
       "      <td>10023283211</td>\n",
       "      <td>6362.419840</td>\n",
       "      <td>27</td>\n",
       "      <td>27</td>\n",
       "    </tr>\n",
       "    <tr>\n",
       "      <th>1</th>\n",
       "      <td>2021</td>\n",
       "      <td>9</td>\n",
       "      <td>10142254217</td>\n",
       "      <td>1138.039207</td>\n",
       "      <td>30</td>\n",
       "      <td>30</td>\n",
       "    </tr>\n",
       "    <tr>\n",
       "      <th>2</th>\n",
       "      <td>2021</td>\n",
       "      <td>9</td>\n",
       "      <td>10165489824</td>\n",
       "      <td>0.000000</td>\n",
       "      <td>0</td>\n",
       "      <td>0</td>\n",
       "    </tr>\n",
       "    <tr>\n",
       "      <th>3</th>\n",
       "      <td>2021</td>\n",
       "      <td>9</td>\n",
       "      <td>10187291046</td>\n",
       "      <td>536.875497</td>\n",
       "      <td>3</td>\n",
       "      <td>3</td>\n",
       "    </tr>\n",
       "    <tr>\n",
       "      <th>4</th>\n",
       "      <td>2021</td>\n",
       "      <td>9</td>\n",
       "      <td>10192359162</td>\n",
       "      <td>1198.636395</td>\n",
       "      <td>4</td>\n",
       "      <td>4</td>\n",
       "    </tr>\n",
       "    <tr>\n",
       "      <th>...</th>\n",
       "      <td>...</td>\n",
       "      <td>...</td>\n",
       "      <td>...</td>\n",
       "      <td>...</td>\n",
       "      <td>...</td>\n",
       "      <td>...</td>\n",
       "    </tr>\n",
       "    <tr>\n",
       "      <th>371275</th>\n",
       "      <td>2022</td>\n",
       "      <td>43</td>\n",
       "      <td>99974311662</td>\n",
       "      <td>0.000000</td>\n",
       "      <td>0</td>\n",
       "      <td>0</td>\n",
       "    </tr>\n",
       "    <tr>\n",
       "      <th>371276</th>\n",
       "      <td>2022</td>\n",
       "      <td>43</td>\n",
       "      <td>99976658299</td>\n",
       "      <td>22885.007579</td>\n",
       "      <td>154</td>\n",
       "      <td>154</td>\n",
       "    </tr>\n",
       "    <tr>\n",
       "      <th>371277</th>\n",
       "      <td>2022</td>\n",
       "      <td>43</td>\n",
       "      <td>99987905597</td>\n",
       "      <td>571.928910</td>\n",
       "      <td>1</td>\n",
       "      <td>1</td>\n",
       "    </tr>\n",
       "    <tr>\n",
       "      <th>371278</th>\n",
       "      <td>2022</td>\n",
       "      <td>43</td>\n",
       "      <td>99989036621</td>\n",
       "      <td>0.000000</td>\n",
       "      <td>0</td>\n",
       "      <td>0</td>\n",
       "    </tr>\n",
       "    <tr>\n",
       "      <th>371279</th>\n",
       "      <td>2022</td>\n",
       "      <td>43</td>\n",
       "      <td>99990536339</td>\n",
       "      <td>0.000000</td>\n",
       "      <td>0</td>\n",
       "      <td>0</td>\n",
       "    </tr>\n",
       "  </tbody>\n",
       "</table>\n",
       "<p>371280 rows × 6 columns</p>\n",
       "</div>"
      ],
      "text/plain": [
       "        Year  Week  merchant_abn  sum_transactions  number_of_customers  \\\n",
       "0       2021     9   10023283211       6362.419840                   27   \n",
       "1       2021     9   10142254217       1138.039207                   30   \n",
       "2       2021     9   10165489824          0.000000                    0   \n",
       "3       2021     9   10187291046        536.875497                    3   \n",
       "4       2021     9   10192359162       1198.636395                    4   \n",
       "...      ...   ...           ...               ...                  ...   \n",
       "371275  2022    43   99974311662          0.000000                    0   \n",
       "371276  2022    43   99976658299      22885.007579                  154   \n",
       "371277  2022    43   99987905597        571.928910                    1   \n",
       "371278  2022    43   99989036621          0.000000                    0   \n",
       "371279  2022    43   99990536339          0.000000                    0   \n",
       "\n",
       "        distinct_customers  \n",
       "0                       27  \n",
       "1                       30  \n",
       "2                        0  \n",
       "3                        3  \n",
       "4                        4  \n",
       "...                    ...  \n",
       "371275                   0  \n",
       "371276                 154  \n",
       "371277                   1  \n",
       "371278                   0  \n",
       "371279                   0  \n",
       "\n",
       "[371280 rows x 6 columns]"
      ]
     },
     "execution_count": 156,
     "metadata": {},
     "output_type": "execute_result"
    }
   ],
   "source": [
    "transact_agg_comp_week_filled_df"
   ]
  },
  {
   "cell_type": "code",
   "execution_count": 157,
   "metadata": {},
   "outputs": [],
   "source": [
    "# remove weeks before joining BNPL\n",
    "transact_agg_comp_week_filled_adj_df = pd.DataFrame()\n",
    "\n",
    "for id, dta in transact_agg_comp_week_df.groupby(['merchant_abn']):\n",
    "    for row in dta.iterrows():\n",
    "        if row[1][5] == 0:\n",
    "            dta = dta.drop(row[0])\n",
    "        \n",
    "        else:\n",
    "            break\n",
    "\n",
    "    transact_agg_comp_week_filled_adj_df = pd.concat([transact_agg_comp_week_filled_adj_df, dta])\n"
   ]
  },
  {
   "cell_type": "code",
   "execution_count": 162,
   "metadata": {},
   "outputs": [
    {
     "data": {
      "text/html": [
       "<div>\n",
       "<style scoped>\n",
       "    .dataframe tbody tr th:only-of-type {\n",
       "        vertical-align: middle;\n",
       "    }\n",
       "\n",
       "    .dataframe tbody tr th {\n",
       "        vertical-align: top;\n",
       "    }\n",
       "\n",
       "    .dataframe thead th {\n",
       "        text-align: right;\n",
       "    }\n",
       "</style>\n",
       "<table border=\"1\" class=\"dataframe\">\n",
       "  <thead>\n",
       "    <tr style=\"text-align: right;\">\n",
       "      <th></th>\n",
       "      <th>Year</th>\n",
       "      <th>Week</th>\n",
       "      <th>merchant_abn</th>\n",
       "      <th>sum_transactions</th>\n",
       "      <th>number_of_customers</th>\n",
       "      <th>distinct_customers</th>\n",
       "    </tr>\n",
       "  </thead>\n",
       "  <tbody>\n",
       "    <tr>\n",
       "      <th>127562</th>\n",
       "      <td>2021</td>\n",
       "      <td>9</td>\n",
       "      <td>10023283211</td>\n",
       "      <td>6362.419840</td>\n",
       "      <td>27</td>\n",
       "      <td>27</td>\n",
       "    </tr>\n",
       "    <tr>\n",
       "      <th>17792</th>\n",
       "      <td>2021</td>\n",
       "      <td>9</td>\n",
       "      <td>10142254217</td>\n",
       "      <td>1138.039207</td>\n",
       "      <td>30</td>\n",
       "      <td>30</td>\n",
       "    </tr>\n",
       "    <tr>\n",
       "      <th>245732</th>\n",
       "      <td>2021</td>\n",
       "      <td>9</td>\n",
       "      <td>10187291046</td>\n",
       "      <td>536.875497</td>\n",
       "      <td>3</td>\n",
       "      <td>3</td>\n",
       "    </tr>\n",
       "    <tr>\n",
       "      <th>192236</th>\n",
       "      <td>2021</td>\n",
       "      <td>9</td>\n",
       "      <td>10192359162</td>\n",
       "      <td>1198.636395</td>\n",
       "      <td>4</td>\n",
       "      <td>4</td>\n",
       "    </tr>\n",
       "    <tr>\n",
       "      <th>219180</th>\n",
       "      <td>2021</td>\n",
       "      <td>9</td>\n",
       "      <td>10206519221</td>\n",
       "      <td>3214.728342</td>\n",
       "      <td>85</td>\n",
       "      <td>84</td>\n",
       "    </tr>\n",
       "    <tr>\n",
       "      <th>...</th>\n",
       "      <td>...</td>\n",
       "      <td>...</td>\n",
       "      <td>...</td>\n",
       "      <td>...</td>\n",
       "      <td>...</td>\n",
       "      <td>...</td>\n",
       "    </tr>\n",
       "    <tr>\n",
       "      <th>99868</th>\n",
       "      <td>2022</td>\n",
       "      <td>43</td>\n",
       "      <td>99861963809</td>\n",
       "      <td>104.636859</td>\n",
       "      <td>1</td>\n",
       "      <td>1</td>\n",
       "    </tr>\n",
       "    <tr>\n",
       "      <th>256789</th>\n",
       "      <td>2022</td>\n",
       "      <td>43</td>\n",
       "      <td>99904689266</td>\n",
       "      <td>4396.947704</td>\n",
       "      <td>43</td>\n",
       "      <td>43</td>\n",
       "    </tr>\n",
       "    <tr>\n",
       "      <th>222156</th>\n",
       "      <td>2022</td>\n",
       "      <td>43</td>\n",
       "      <td>99938978285</td>\n",
       "      <td>3594.756447</td>\n",
       "      <td>100</td>\n",
       "      <td>100</td>\n",
       "    </tr>\n",
       "    <tr>\n",
       "      <th>86456</th>\n",
       "      <td>2022</td>\n",
       "      <td>43</td>\n",
       "      <td>99976658299</td>\n",
       "      <td>22885.007579</td>\n",
       "      <td>154</td>\n",
       "      <td>154</td>\n",
       "    </tr>\n",
       "    <tr>\n",
       "      <th>66838</th>\n",
       "      <td>2022</td>\n",
       "      <td>43</td>\n",
       "      <td>99987905597</td>\n",
       "      <td>571.928910</td>\n",
       "      <td>1</td>\n",
       "      <td>1</td>\n",
       "    </tr>\n",
       "  </tbody>\n",
       "</table>\n",
       "<p>290684 rows × 6 columns</p>\n",
       "</div>"
      ],
      "text/plain": [
       "        Year  Week  merchant_abn  sum_transactions  number_of_customers  \\\n",
       "127562  2021     9   10023283211       6362.419840                   27   \n",
       "17792   2021     9   10142254217       1138.039207                   30   \n",
       "245732  2021     9   10187291046        536.875497                    3   \n",
       "192236  2021     9   10192359162       1198.636395                    4   \n",
       "219180  2021     9   10206519221       3214.728342                   85   \n",
       "...      ...   ...           ...               ...                  ...   \n",
       "99868   2022    43   99861963809        104.636859                    1   \n",
       "256789  2022    43   99904689266       4396.947704                   43   \n",
       "222156  2022    43   99938978285       3594.756447                  100   \n",
       "86456   2022    43   99976658299      22885.007579                  154   \n",
       "66838   2022    43   99987905597        571.928910                    1   \n",
       "\n",
       "        distinct_customers  \n",
       "127562                  27  \n",
       "17792                   30  \n",
       "245732                   3  \n",
       "192236                   4  \n",
       "219180                  84  \n",
       "...                    ...  \n",
       "99868                    1  \n",
       "256789                  43  \n",
       "222156                 100  \n",
       "86456                  154  \n",
       "66838                    1  \n",
       "\n",
       "[290684 rows x 6 columns]"
      ]
     },
     "execution_count": 162,
     "metadata": {},
     "output_type": "execute_result"
    }
   ],
   "source": [
    "transact_agg_comp_week_filled_adj_df.sort_values(['Year', 'Week'])"
   ]
  },
  {
   "cell_type": "markdown",
   "metadata": {},
   "source": [
    "Create mean and stdev"
   ]
  },
  {
   "cell_type": "code",
   "execution_count": 179,
   "metadata": {},
   "outputs": [
    {
     "name": "stdout",
     "output_type": "stream",
     "text": [
      "Number of companies with less than i weeks of activity\n",
      "0 0\n",
      "1 15\n",
      "2 31\n",
      "3 60\n",
      "4 92\n",
      "5 122\n",
      "6 148\n",
      "7 170\n",
      "8 197\n",
      "9 225\n",
      "10 255\n",
      "11 291\n",
      "12 321\n",
      "13 345\n",
      "14 367\n",
      "15 392\n",
      "16 422\n",
      "17 443\n",
      "18 459\n",
      "19 476\n"
     ]
    }
   ],
   "source": [
    "# nweeks = transact_agg_comp_week_df.groupby(['merchant_abn']).agg({'Week': 'count'})\n",
    "\n",
    "# print(\"Number of companies with less than i weeks of activity\")\n",
    "# for i in range(20):\n",
    "\n",
    "#     print(i, len(nweeks[nweeks['Week']<= i]))"
   ]
  },
  {
   "cell_type": "code",
   "execution_count": 182,
   "metadata": {},
   "outputs": [
    {
     "data": {
      "text/plain": [
       "Int64Index([10404542215, 18261886835, 29068447069, 37145789569, 39150153670,\n",
       "            47047735645, 50154587122, 50532670634, 50794104497, 62688594508,\n",
       "            67213521157, 67264251405, 86868464441, 93267734067, 99989036621],\n",
       "           dtype='int64', name='merchant_abn')"
      ]
     },
     "execution_count": 182,
     "metadata": {},
     "output_type": "execute_result"
    }
   ],
   "source": [
    "drop_low_count = transact_agg_comp_week_df.groupby(['merchant_abn']).agg({'Week': 'count'})\n",
    "low_count_merchants = drop_low_count[drop_low_count['Week'] == 1].index\n",
    "low_count_merchants"
   ]
  },
  {
   "cell_type": "code",
   "execution_count": 184,
   "metadata": {},
   "outputs": [],
   "source": [
    "for abn in list(low_count_merchants):\n",
    "    transact_agg_comp_week_df = transact_agg_comp_week_df[transact_agg_comp_week_df['merchant_abn'] != abn]"
   ]
  },
  {
   "cell_type": "code",
   "execution_count": 187,
   "metadata": {},
   "outputs": [],
   "source": [
    "from statistics import mean, stdev\n",
    "\n",
    "transact_agg_comp_week_df['sum_transactions2'] = transact_agg_comp_week_df['sum_transactions']\n",
    "mean_sd = transact_agg_comp_week_df.groupby(['merchant_abn']).agg({'sum_transactions': mean, 'sum_transactions2': stdev})\n",
    "\n",
    "mean_sd = mean_sd.rename(columns = {'sum_transactions': 'mean',\\\n",
    "     'sum_transactions2': 'stdev'})"
   ]
  },
  {
   "cell_type": "code",
   "execution_count": 188,
   "metadata": {},
   "outputs": [
    {
     "data": {
      "text/html": [
       "<div>\n",
       "<style scoped>\n",
       "    .dataframe tbody tr th:only-of-type {\n",
       "        vertical-align: middle;\n",
       "    }\n",
       "\n",
       "    .dataframe tbody tr th {\n",
       "        vertical-align: top;\n",
       "    }\n",
       "\n",
       "    .dataframe thead th {\n",
       "        text-align: right;\n",
       "    }\n",
       "</style>\n",
       "<table border=\"1\" class=\"dataframe\">\n",
       "  <thead>\n",
       "    <tr style=\"text-align: right;\">\n",
       "      <th></th>\n",
       "      <th>mean</th>\n",
       "      <th>stdev</th>\n",
       "    </tr>\n",
       "    <tr>\n",
       "      <th>merchant_abn</th>\n",
       "      <th></th>\n",
       "      <th></th>\n",
       "    </tr>\n",
       "  </thead>\n",
       "  <tbody>\n",
       "    <tr>\n",
       "      <th>10023283211</th>\n",
       "      <td>7907.369218</td>\n",
       "      <td>2447.382313</td>\n",
       "    </tr>\n",
       "    <tr>\n",
       "      <th>10142254217</th>\n",
       "      <td>1335.596313</td>\n",
       "      <td>503.821199</td>\n",
       "    </tr>\n",
       "    <tr>\n",
       "      <th>10165489824</th>\n",
       "      <td>11310.946039</td>\n",
       "      <td>8097.733445</td>\n",
       "    </tr>\n",
       "    <tr>\n",
       "      <th>10187291046</th>\n",
       "      <td>478.606199</td>\n",
       "      <td>285.418837</td>\n",
       "    </tr>\n",
       "    <tr>\n",
       "      <th>10192359162</th>\n",
       "      <td>2039.630643</td>\n",
       "      <td>1293.121995</td>\n",
       "    </tr>\n",
       "    <tr>\n",
       "      <th>...</th>\n",
       "      <td>...</td>\n",
       "      <td>...</td>\n",
       "    </tr>\n",
       "    <tr>\n",
       "      <th>99938978285</th>\n",
       "      <td>5890.611154</td>\n",
       "      <td>1536.838745</td>\n",
       "    </tr>\n",
       "    <tr>\n",
       "      <th>99974311662</th>\n",
       "      <td>560.216446</td>\n",
       "      <td>429.376847</td>\n",
       "    </tr>\n",
       "    <tr>\n",
       "      <th>99976658299</th>\n",
       "      <td>39085.939358</td>\n",
       "      <td>10195.335136</td>\n",
       "    </tr>\n",
       "    <tr>\n",
       "      <th>99987905597</th>\n",
       "      <td>964.755729</td>\n",
       "      <td>714.906307</td>\n",
       "    </tr>\n",
       "    <tr>\n",
       "      <th>99990536339</th>\n",
       "      <td>1754.615555</td>\n",
       "      <td>1589.429584</td>\n",
       "    </tr>\n",
       "  </tbody>\n",
       "</table>\n",
       "<p>4405 rows × 2 columns</p>\n",
       "</div>"
      ],
      "text/plain": [
       "                      mean         stdev\n",
       "merchant_abn                            \n",
       "10023283211    7907.369218   2447.382313\n",
       "10142254217    1335.596313    503.821199\n",
       "10165489824   11310.946039   8097.733445\n",
       "10187291046     478.606199    285.418837\n",
       "10192359162    2039.630643   1293.121995\n",
       "...                    ...           ...\n",
       "99938978285    5890.611154   1536.838745\n",
       "99974311662     560.216446    429.376847\n",
       "99976658299   39085.939358  10195.335136\n",
       "99987905597     964.755729    714.906307\n",
       "99990536339    1754.615555   1589.429584\n",
       "\n",
       "[4405 rows x 2 columns]"
      ]
     },
     "execution_count": 188,
     "metadata": {},
     "output_type": "execute_result"
    }
   ],
   "source": [
    "mean_sd"
   ]
  },
  {
   "cell_type": "code",
   "execution_count": 189,
   "metadata": {},
   "outputs": [
    {
     "data": {
      "text/html": [
       "<div>\n",
       "<style scoped>\n",
       "    .dataframe tbody tr th:only-of-type {\n",
       "        vertical-align: middle;\n",
       "    }\n",
       "\n",
       "    .dataframe tbody tr th {\n",
       "        vertical-align: top;\n",
       "    }\n",
       "\n",
       "    .dataframe thead th {\n",
       "        text-align: right;\n",
       "    }\n",
       "</style>\n",
       "<table border=\"1\" class=\"dataframe\">\n",
       "  <thead>\n",
       "    <tr style=\"text-align: right;\">\n",
       "      <th></th>\n",
       "      <th>mean</th>\n",
       "      <th>stdev</th>\n",
       "    </tr>\n",
       "  </thead>\n",
       "  <tbody>\n",
       "    <tr>\n",
       "      <th>count</th>\n",
       "      <td>4405.000000</td>\n",
       "      <td>4405.000000</td>\n",
       "    </tr>\n",
       "    <tr>\n",
       "      <th>mean</th>\n",
       "      <td>6942.658180</td>\n",
       "      <td>2831.662160</td>\n",
       "    </tr>\n",
       "    <tr>\n",
       "      <th>std</th>\n",
       "      <td>13636.636108</td>\n",
       "      <td>4346.592733</td>\n",
       "    </tr>\n",
       "    <tr>\n",
       "      <th>min</th>\n",
       "      <td>118.989899</td>\n",
       "      <td>66.797244</td>\n",
       "    </tr>\n",
       "    <tr>\n",
       "      <th>25%</th>\n",
       "      <td>767.880926</td>\n",
       "      <td>494.669073</td>\n",
       "    </tr>\n",
       "    <tr>\n",
       "      <th>50%</th>\n",
       "      <td>2469.659743</td>\n",
       "      <td>1304.649868</td>\n",
       "    </tr>\n",
       "    <tr>\n",
       "      <th>75%</th>\n",
       "      <td>8745.031169</td>\n",
       "      <td>3429.232284</td>\n",
       "    </tr>\n",
       "    <tr>\n",
       "      <th>max</th>\n",
       "      <td>111008.514444</td>\n",
       "      <td>46934.404559</td>\n",
       "    </tr>\n",
       "  </tbody>\n",
       "</table>\n",
       "</div>"
      ],
      "text/plain": [
       "                mean         stdev\n",
       "count    4405.000000   4405.000000\n",
       "mean     6942.658180   2831.662160\n",
       "std     13636.636108   4346.592733\n",
       "min       118.989899     66.797244\n",
       "25%       767.880926    494.669073\n",
       "50%      2469.659743   1304.649868\n",
       "75%      8745.031169   3429.232284\n",
       "max    111008.514444  46934.404559"
      ]
     },
     "execution_count": 189,
     "metadata": {},
     "output_type": "execute_result"
    }
   ],
   "source": [
    "mean_sd.describe()"
   ]
  },
  {
   "cell_type": "markdown",
   "metadata": {},
   "source": [
    "# Market"
   ]
  },
  {
   "cell_type": "code",
   "execution_count": 204,
   "metadata": {},
   "outputs": [],
   "source": [
    "market = transact_agg_comp_week_df.groupby(['Year', 'Week'])\\\n",
    "    .agg({'sum_transactions': sum, 'number_of_customers': 'count', 'distinct_customers': lambda x: x.nunique()})"
   ]
  },
  {
   "cell_type": "code",
   "execution_count": 205,
   "metadata": {},
   "outputs": [],
   "source": [
    "market = market.reset_index()"
   ]
  },
  {
   "cell_type": "code",
   "execution_count": 209,
   "metadata": {},
   "outputs": [
    {
     "data": {
      "text/plain": [
       "(26899283.712585505, 6184225.293264331)"
      ]
     },
     "execution_count": 209,
     "metadata": {},
     "output_type": "execute_result"
    }
   ],
   "source": [
    "market_mean = mean(market['sum_transactions'])\n",
    "market_sd = stdev(market['sum_transactions'])\n",
    "\n",
    "market_mean, market_sd"
   ]
  },
  {
   "cell_type": "code",
   "execution_count": null,
   "metadata": {},
   "outputs": [],
   "source": []
  }
 ],
 "metadata": {
  "kernelspec": {
   "display_name": "Python 3.9.7 ('base')",
   "language": "python",
   "name": "python3"
  },
  "language_info": {
   "codemirror_mode": {
    "name": "ipython",
    "version": 3
   },
   "file_extension": ".py",
   "mimetype": "text/x-python",
   "name": "python",
   "nbconvert_exporter": "python",
   "pygments_lexer": "ipython3",
   "version": "3.9.7"
  },
  "orig_nbformat": 4,
  "vscode": {
   "interpreter": {
    "hash": "cd78fef2128015050713e82ca51c6520b11aee7c9ee8df750520bbbc7384cbaa"
   }
  }
 },
 "nbformat": 4,
 "nbformat_minor": 2
}
