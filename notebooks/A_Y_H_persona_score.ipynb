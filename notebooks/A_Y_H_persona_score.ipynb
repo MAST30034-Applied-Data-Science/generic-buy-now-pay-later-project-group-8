{
 "cells": [
  {
   "cell_type": "markdown",
   "metadata": {},
   "source": [
    "# Persona Score Notebook\n",
    "### **Objective**: This notebook aims to define a score for the general profile of customers of a merchant. The higher the score is, the better the merchant.\n",
    "### **Overview**: The persona score is based on **our research and knowledge about the BNPL industry**, and it is comprised of several factors such as median salary and age distributions of that region. Since we only have the geographical location of the customers, we will take the mean of all customers. <u>See the codes for more details</u>."
   ]
  },
  {
   "cell_type": "code",
   "execution_count": 3,
   "metadata": {},
   "outputs": [],
   "source": [
    "from pyspark.sql import SparkSession\n",
    "from pyspark.sql import functions as F\n",
    "import pandas as pd\n",
    "import numpy as np\n",
    "from functools import reduce"
   ]
  },
  {
   "cell_type": "code",
   "execution_count": 4,
   "metadata": {},
   "outputs": [],
   "source": [
    "spark = (\n",
    "    SparkSession.builder.appName(\"preprocessing of taxi data\")\n",
    "    .config(\"spark.sql.repl.eagerEval.enabled\", True) \n",
    "    .config(\"spark.sql.parquet.cacheMetadata\", \"true\")\n",
    "    .config(\"spark.sql.session.timeZone\", \"Etc/UTC\")\n",
    "    .config(\"spark.driver.memory\", \"15g\")\n",
    "    .getOrCreate()\n",
    ")"
   ]
  },
  {
   "cell_type": "code",
   "execution_count": 5,
   "metadata": {},
   "outputs": [
    {
     "name": "stderr",
     "output_type": "stream",
     "text": [
      "                                                                                \r"
     ]
    }
   ],
   "source": [
    "age_sdf = spark.read.option(\"header\", True).csv(\"../data/tables/external/by_postcode/1 year age.csv\")\n",
    "education_sdf = spark.read.option(\"header\", True).csv(\"../data/tables/external/by_postcode/education.csv\")"
   ]
  },
  {
   "cell_type": "code",
   "execution_count": 6,
   "metadata": {},
   "outputs": [
    {
     "name": "stdout",
     "output_type": "stream",
     "text": [
      "22/10/06 21:43:59 WARN package: Truncated the string representation of a plan since it was too large. This behavior can be adjusted by setting 'spark.sql.debug.maxToStringFields'.\n"
     ]
    },
    {
     "data": {
      "text/html": [
       "<table border='1'>\n",
       "<tr><th>sub_total</th><th>18_24</th><th>25_34</th><th>35_44</th><th>45_54</th><th>55_64</th><th>65_plus</th><th>postcode</th></tr>\n",
       "<tr><td>25969.0</td><td>0.2166044129539066</td><td>0.41118256382610036</td><td>0.1598059224459933</td><td>0.08290654241595749</td><td>0.06426893603912356</td><td>0.06523162231891871</td><td>2000</td></tr>\n",
       "<tr><td>1210.0</td><td>0.9347107438016529</td><td>0.045454545454545456</td><td>0.00743801652892562</td><td>0.004958677685950...</td><td>0.00743801652892562</td><td>0.0</td><td>2006</td></tr>\n",
       "<tr><td>8376.0</td><td>0.39983285577841454</td><td>0.3390639923591213</td><td>0.11926934097421203</td><td>0.05742597898758357</td><td>0.04035339063992359</td><td>0.04405444126074499</td><td>2007</td></tr>\n",
       "<tr><td>11191.0</td><td>0.39916003931730853</td><td>0.3594853006880529</td><td>0.10481637029756054</td><td>0.061388615852023945</td><td>0.042623536770619246</td><td>0.032526137074434816</td><td>2008</td></tr>\n",
       "<tr><td>11534.0</td><td>0.1143575515866135</td><td>0.3546904803190567</td><td>0.20469915033813074</td><td>0.11938616264955783</td><td>0.10499393098664817</td><td>0.10187272411999307</td><td>2009</td></tr>\n",
       "</table>\n"
      ],
      "text/plain": [
       "+---------+-------------------+--------------------+-------------------+--------------------+--------------------+--------------------+--------+\n",
       "|sub_total|              18_24|               25_34|              35_44|               45_54|               55_64|             65_plus|postcode|\n",
       "+---------+-------------------+--------------------+-------------------+--------------------+--------------------+--------------------+--------+\n",
       "|  25969.0| 0.2166044129539066| 0.41118256382610036| 0.1598059224459933| 0.08290654241595749| 0.06426893603912356| 0.06523162231891871|    2000|\n",
       "|   1210.0| 0.9347107438016529|0.045454545454545456|0.00743801652892562|0.004958677685950...| 0.00743801652892562|                 0.0|    2006|\n",
       "|   8376.0|0.39983285577841454|  0.3390639923591213|0.11926934097421203| 0.05742597898758357| 0.04035339063992359| 0.04405444126074499|    2007|\n",
       "|  11191.0|0.39916003931730853|  0.3594853006880529|0.10481637029756054|0.061388615852023945|0.042623536770619246|0.032526137074434816|    2008|\n",
       "|  11534.0| 0.1143575515866135|  0.3546904803190567|0.20469915033813074| 0.11938616264955783| 0.10499393098664817| 0.10187272411999307|    2009|\n",
       "+---------+-------------------+--------------------+-------------------+--------------------+--------------------+--------------------+--------+"
      ]
     },
     "execution_count": 6,
     "metadata": {},
     "output_type": "execute_result"
    }
   ],
   "source": [
    "columns = [\"sub_total\", \"18_24\", \"25_34\", \"35_44\", \"45_54\", \"55_64\", \"65_plus\", \"postcode\"]\n",
    "age_group = columns[:-1]\n",
    "age_sdf = age_sdf.withColumn(columns[0], reduce(lambda x,y:x+y, [F.col(str(x)) for x in range(18, 116)])) \\\n",
    "                .withColumn(columns[1], reduce(lambda x,y:x+y, [F.col(str(x)) for x in range(18, 25)]) / F.col(columns[0])) \\\n",
    "                .withColumn(columns[2], reduce(lambda x,y:x+y, [F.col(str(x)) for x in range(25, 35)]) / F.col(columns[0])) \\\n",
    "                .withColumn(columns[3], reduce(lambda x,y:x+y, [F.col(str(x)) for x in range(35, 45)]) / F.col(columns[0])) \\\n",
    "                .withColumn(columns[4], reduce(lambda x,y:x+y, [F.col(str(x)) for x in range(45, 55)]) / F.col(columns[0])) \\\n",
    "                .withColumn(columns[5], reduce(lambda x,y:x+y, [F.col(str(x)) for x in range(55, 65)]) / F.col(columns[0])) \\\n",
    "                .withColumn(columns[6], reduce(lambda x,y:x+y, [F.col(str(x)) for x in range(65, 116)]) / F.col(columns[0])) \\\n",
    "                .withColumn(columns[7], F.regexp_extract('AGEP Age', r'\\d+', 0)) \\\n",
    "                .select(*columns)\n",
    "age_sdf.limit(5)"
   ]
  },
  {
   "cell_type": "code",
   "execution_count": 7,
   "metadata": {},
   "outputs": [
    {
     "data": {
      "text/html": [
       "<table border='1'>\n",
       "<tr><th>postcode</th><th>total_parttime_or_fulltime_students</th></tr>\n",
       "<tr><td>2000</td><td>8101</td></tr>\n",
       "<tr><td>2006</td><td>1332</td></tr>\n",
       "<tr><td>2007</td><td>4008</td></tr>\n",
       "<tr><td>2008</td><td>5147</td></tr>\n",
       "<tr><td>2009</td><td>1726</td></tr>\n",
       "</table>\n"
      ],
      "text/plain": [
       "+--------+-----------------------------------+\n",
       "|postcode|total_parttime_or_fulltime_students|\n",
       "+--------+-----------------------------------+\n",
       "|    2000|                               8101|\n",
       "|    2006|                               1332|\n",
       "|    2007|                               4008|\n",
       "|    2008|                               5147|\n",
       "|    2009|                               1726|\n",
       "+--------+-----------------------------------+"
      ]
     },
     "execution_count": 7,
     "metadata": {},
     "output_type": "execute_result"
    }
   ],
   "source": [
    "student_sdf = education_sdf.withColumn(\"postcode\", F.regexp_extract(\"postcode\", r'\\d+', 0)) \\\n",
    "                           .withColumnRenamed(\"total\", \"total_parttime_or_fulltime_students\") \\\n",
    "                           .select(\"postcode\", \"total_parttime_or_fulltime_students\")\n",
    "\n",
    "student_sdf.limit(5)"
   ]
  },
  {
   "cell_type": "code",
   "execution_count": 9,
   "metadata": {},
   "outputs": [
    {
     "data": {
      "text/html": [
       "<table border='1'>\n",
       "<tr><th>postcode</th><th>median_salary</th></tr>\n",
       "<tr><td>2000</td><td>575.0</td></tr>\n",
       "<tr><td>2006</td><td>75.0</td></tr>\n",
       "<tr><td>2007</td><td>350.0</td></tr>\n",
       "<tr><td>2008</td><td>575.0</td></tr>\n",
       "<tr><td>2009</td><td>1125.0</td></tr>\n",
       "</table>\n"
      ],
      "text/plain": [
       "+--------+-------------+\n",
       "|postcode|median_salary|\n",
       "+--------+-------------+\n",
       "|    2000|        575.0|\n",
       "|    2006|         75.0|\n",
       "|    2007|        350.0|\n",
       "|    2008|        575.0|\n",
       "|    2009|       1125.0|\n",
       "+--------+-------------+"
      ]
     },
     "execution_count": 9,
     "metadata": {},
     "output_type": "execute_result"
    }
   ],
   "source": [
    "income_sdf = spark.read.option(\"header\", True).csv(\"../data/curated/persona/input/income_cleaned.csv\") \\\n",
    "                                              .select(\"postcode\", \"median_salary\")\n",
    "income_sdf.limit(5)"
   ]
  },
  {
   "cell_type": "code",
   "execution_count": 10,
   "metadata": {},
   "outputs": [],
   "source": [
    "def mean(column_name):\n",
    "   return F.mean(column_name).alias(\"mean_\" + column_name)\n",
    "\n",
    "def preprocessing_pipeline(dlist):\n",
    "    \"\"\"\n",
    "    preprocess all dataframe in the list\n",
    "        parameters: \n",
    "                   a list of dataframes\n",
    "        returns:\n",
    "                a generator of preprocessed dataframes\n",
    "    \"\"\"\n",
    "    for data in dlist:\n",
    "        # join persona data\n",
    "        data = data.join(income_sdf, \"postcode\", \"left\") \\\n",
    "                   .join(student_sdf, \"postcode\", \"left\") \\\n",
    "                   .join(age_sdf, \"postcode\", \"left\")\n",
    "\n",
    "        # remove rows contain null in persona\n",
    "        data = data.filter(F.col(\"median_salary\").isNotNull() \\\n",
    "                         | F.col(\"sub_total\").isNotNull() \\\n",
    "                         | F.col(\"total_parttime_or_fulltime_students\").isNotNull())\n",
    "\n",
    "        # take the mean of all persona\n",
    "        agg_data = data.groupBy(\"merchant_abn\") \\\n",
    "                       .agg(\n",
    "                            mean(\"median_salary\"),\n",
    "                            mean(\"total_parttime_or_fulltime_students\"),\n",
    "                            *[mean(name) for name in age_group]\n",
    "                            )\n",
    "        yield agg_data\n",
    "        "
   ]
  },
  {
   "cell_type": "code",
   "execution_count": 16,
   "metadata": {},
   "outputs": [
    {
     "name": "stderr",
     "output_type": "stream",
     "text": [
      "                                                                                \r"
     ]
    },
    {
     "data": {
      "text/html": [
       "<table border='1'>\n",
       "<tr><th>merchant_abn</th><th>mean_median_salary</th><th>mean_total_parttime_or_fulltime_students</th><th>mean_sub_total</th><th>mean_18_24</th><th>mean_25_34</th><th>mean_35_44</th><th>mean_45_54</th><th>mean_55_64</th><th>mean_65_plus</th></tr>\n",
       "<tr><td>24406529929</td><td>659.668001334668</td><td>678.0102921646746</td><td>6699.218218218218</td><td>0.09965861728157095</td><td>0.1534714554992223</td><td>0.15671160821610278</td><td>0.18592552019465833</td><td>0.18247631578969334</td><td>0.22175648301875234</td></tr>\n",
       "<tr><td>35344855546</td><td>669.4192377495463</td><td>678.635294117647</td><td>6642.09165154265</td><td>0.10397486511354101</td><td>0.16152524686796302</td><td>0.15929128006810178</td><td>0.18360306005231747</td><td>0.17714805789590882</td><td>0.21445749000216785</td></tr>\n",
       "<tr><td>83412691377</td><td>665.0935332616978</td><td>669.2734071484072</td><td>6706.147406466738</td><td>0.10048791320109743</td><td>0.15186810982667215</td><td>0.1575514444389872</td><td>0.1860731278860281</td><td>0.1819941024905343</td><td>0.2220253021566809</td></tr>\n",
       "<tr><td>73256306726</td><td>660.8091313448456</td><td>691.7938036969539</td><td>6926.07326007326</td><td>0.10048881378797056</td><td>0.15327683059975836</td><td>0.15646613361605338</td><td>0.18624701743911065</td><td>0.18126074555038096</td><td>0.22226045900672617</td></tr>\n",
       "<tr><td>38700038932</td><td>671.3919288645691</td><td>700.781019058732</td><td>7101.62634356068</td><td>0.09950061120546048</td><td>0.15323562021756731</td><td>0.15756864633867146</td><td>0.185597442249937</td><td>0.18085874835771842</td><td>0.2232389316306455</td></tr>\n",
       "</table>\n"
      ],
      "text/plain": [
       "+------------+------------------+----------------------------------------+-----------------+-------------------+-------------------+-------------------+-------------------+-------------------+-------------------+\n",
       "|merchant_abn|mean_median_salary|mean_total_parttime_or_fulltime_students|   mean_sub_total|         mean_18_24|         mean_25_34|         mean_35_44|         mean_45_54|         mean_55_64|       mean_65_plus|\n",
       "+------------+------------------+----------------------------------------+-----------------+-------------------+-------------------+-------------------+-------------------+-------------------+-------------------+\n",
       "| 24406529929|  659.668001334668|                       678.0102921646746|6699.218218218218|0.09965861728157095| 0.1534714554992223|0.15671160821610278|0.18592552019465833|0.18247631578969334|0.22175648301875234|\n",
       "| 35344855546| 669.4192377495463|                        678.635294117647| 6642.09165154265|0.10397486511354101|0.16152524686796302|0.15929128006810178|0.18360306005231747|0.17714805789590882|0.21445749000216785|\n",
       "| 83412691377| 665.0935332616978|                       669.2734071484072|6706.147406466738|0.10048791320109743|0.15186810982667215| 0.1575514444389872| 0.1860731278860281| 0.1819941024905343| 0.2220253021566809|\n",
       "| 73256306726| 660.8091313448456|                       691.7938036969539| 6926.07326007326|0.10048881378797056|0.15327683059975836|0.15646613361605338|0.18624701743911065|0.18126074555038096|0.22226045900672617|\n",
       "| 38700038932| 671.3919288645691|                        700.781019058732| 7101.62634356068|0.09950061120546048|0.15323562021756731|0.15756864633867146|  0.185597442249937|0.18085874835771842| 0.2232389316306455|\n",
       "+------------+------------------+----------------------------------------+-----------------+-------------------+-------------------+-------------------+-------------------+-------------------+-------------------+"
      ]
     },
     "execution_count": 16,
     "metadata": {},
     "output_type": "execute_result"
    }
   ],
   "source": [
    "transaction_sdf = spark.read.parquet(\"../data/curated/fraud/output/transactions_withoutfraud\") \\\n",
    "                            .drop('user_id2',\n",
    "                                  'order_datetime2',\n",
    "                                  'fraud rate',\n",
    "                                  'fraud2',\n",
    "                                  'user_id3',\n",
    "                                  'order_datetime3',\n",
    "                                  'fraud_probability',\n",
    "                                  'fraud3')\n",
    "\n",
    "# training data is the part of data before the first fortnight of 2022\n",
    "train_transaction_sdf = transaction_sdf.where(F.col(\"order_datetime\") <= \"2022-1-16\")\n",
    "\n",
    "data_list = [transaction_sdf, train_transaction_sdf]\n",
    "\n",
    "data_list = list(preprocessing_pipeline(data_list))\n",
    "\n",
    "data_list[0].limit(5)"
   ]
  },
  {
   "cell_type": "code",
   "execution_count": 17,
   "metadata": {},
   "outputs": [],
   "source": [
    "def compute_persona_score(dlist, filenames):\n",
    "    \"\"\"\n",
    "    compute persona scores for all merchants in a dataframe and write the result to a .csv file\n",
    "    parameters:\n",
    "               dlist (list): a list of dataframes\n",
    "               filenames (list): a list of filenames in which the final results will be written\n",
    "    return:\n",
    "           a generator of dataframes containing merchant ABN and persona score\n",
    "    \"\"\"\n",
    "    for data, filename in zip(dlist, filenames):\n",
    "        data = data.withColumn(\"pop_index\",\n",
    "                                0.26*F.col(\"mean_18_24\") + \n",
    "                                0.35*F.col(\"mean_25_34\") + \n",
    "                                0.20*F.col(\"mean_35_44\") + \n",
    "                                0.12*F.col(\"mean_45_54\") + \n",
    "                                0.05*F.col(\"mean_55_64\") +\n",
    "                                0.01*F.col(\"mean_65_plus\")\n",
    "                                )\n",
    "                                \n",
    "        data = data.select(\"merchant_abn\",\n",
    "                            \"mean_median_salary\", \n",
    "                            \"mean_total_parttime_or_fulltime_students\",\n",
    "                            \"pop_index\",\n",
    "                            \"mean_sub_total\")\n",
    "\n",
    "        for col in data.columns[1:]:\n",
    "            col_max = data.agg({col:\"max\"}).collect()[0][0]\n",
    "            col_min = data.agg({col:\"min\"}).collect()[0][0]\n",
    "            data = data.withColumn(col, (F.col(col)-F.lit(col_min)) / (F.lit(col_max)-F.lit(col_min)) )\n",
    "            data = data.withColumnRenamed(col, \"normalized_\"+col)\n",
    "        \n",
    "\n",
    "        data = data.withColumn(\"persona_score\",\n",
    "                               F.col(\"normalized_mean_median_salary\") *\n",
    "                               F.col(\"normalized_mean_total_parttime_or_fulltime_students\") *\n",
    "                               F.col(\"normalized_pop_index\") *\n",
    "                               F.col(\"normalized_mean_sub_total\")\n",
    "                               )\n",
    "        \n",
    "        data.select(\"merchant_abn\", \"persona_score\").toPandas().to_csv(\"../data/curated/final_model/input/\" + filename, index=False)\n",
    "        \n",
    "        print(\"%s is done\" % filename)\n",
    "\n",
    "        yield data\n"
   ]
  },
  {
   "cell_type": "code",
   "execution_count": 18,
   "metadata": {},
   "outputs": [
    {
     "name": "stderr",
     "output_type": "stream",
     "text": [
      "                                                                                \r"
     ]
    },
    {
     "name": "stdout",
     "output_type": "stream",
     "text": [
      "persona_full.csv is done\n"
     ]
    },
    {
     "name": "stderr",
     "output_type": "stream",
     "text": [
      "                                                                                \r"
     ]
    },
    {
     "name": "stdout",
     "output_type": "stream",
     "text": [
      "persona_train.csv is done\n"
     ]
    },
    {
     "name": "stderr",
     "output_type": "stream",
     "text": [
      "                                                                                \r"
     ]
    },
    {
     "data": {
      "text/html": [
       "<table border='1'>\n",
       "<tr><th>merchant_abn</th><th>normalized_mean_median_salary</th><th>normalized_mean_total_parttime_or_fulltime_students</th><th>normalized_pop_index</th><th>normalized_mean_sub_total</th><th>persona_score</th></tr>\n",
       "<tr><td>24406529929</td><td>0.37797217507362435</td><td>0.13287371808819073</td><td>0.47790984849471363</td><td>0.18835681286719694</td><td>0.00452091384808476</td></tr>\n",
       "<tr><td>35344855546</td><td>0.38645151108656195</td><td>0.13299620344610275</td><td>0.5008619514909254</td><td>0.18674702430587678</td><td>0.004807352688715...</td></tr>\n",
       "<tr><td>83412691377</td><td>0.38269002892321546</td><td>0.13116149865725252</td><td>0.4768259062620374</td><td>0.18855207277219088</td><td>0.004512785288221149</td></tr>\n",
       "<tr><td>73256306726</td><td>0.37896446203899614</td><td>0.13557495499679</td><td>0.47839699481387377</td><td>0.19474943669719222</td><td>0.004786770514734344</td></tr>\n",
       "<tr><td>38700038932</td><td>0.38816689466484267</td><td>0.13733623315757748</td><td>0.4775652307801571</td><td>0.19969640554458476</td><td>0.005084012069308436</td></tr>\n",
       "</table>\n"
      ],
      "text/plain": [
       "+------------+-----------------------------+---------------------------------------------------+--------------------+-------------------------+--------------------+\n",
       "|merchant_abn|normalized_mean_median_salary|normalized_mean_total_parttime_or_fulltime_students|normalized_pop_index|normalized_mean_sub_total|       persona_score|\n",
       "+------------+-----------------------------+---------------------------------------------------+--------------------+-------------------------+--------------------+\n",
       "| 24406529929|          0.37797217507362435|                                0.13287371808819073| 0.47790984849471363|      0.18835681286719694| 0.00452091384808476|\n",
       "| 35344855546|          0.38645151108656195|                                0.13299620344610275|  0.5008619514909254|      0.18674702430587678|0.004807352688715...|\n",
       "| 83412691377|          0.38269002892321546|                                0.13116149865725252|  0.4768259062620374|      0.18855207277219088|0.004512785288221149|\n",
       "| 73256306726|          0.37896446203899614|                                   0.13557495499679| 0.47839699481387377|      0.19474943669719222|0.004786770514734344|\n",
       "| 38700038932|          0.38816689466484267|                                0.13733623315757748|  0.4775652307801571|      0.19969640554458476|0.005084012069308436|\n",
       "+------------+-----------------------------+---------------------------------------------------+--------------------+-------------------------+--------------------+"
      ]
     },
     "execution_count": 18,
     "metadata": {},
     "output_type": "execute_result"
    }
   ],
   "source": [
    "filenames = [\"persona_full.csv\", \"persona_train.csv\"]\n",
    "list(compute_persona_score(data_list, filenames))[0].limit(5)"
   ]
  },
  {
   "cell_type": "code",
   "execution_count": null,
   "metadata": {},
   "outputs": [],
   "source": []
  }
 ],
 "metadata": {
  "kernelspec": {
   "display_name": "Python 3.9.7 ('base')",
   "language": "python",
   "name": "python3"
  },
  "language_info": {
   "codemirror_mode": {
    "name": "ipython",
    "version": 3
   },
   "file_extension": ".py",
   "mimetype": "text/x-python",
   "name": "python",
   "nbconvert_exporter": "python",
   "pygments_lexer": "ipython3",
   "version": "3.9.7"
  },
  "orig_nbformat": 4,
  "vscode": {
   "interpreter": {
    "hash": "cd78fef2128015050713e82ca51c6520b11aee7c9ee8df750520bbbc7384cbaa"
   }
  }
 },
 "nbformat": 4,
 "nbformat_minor": 2
}
