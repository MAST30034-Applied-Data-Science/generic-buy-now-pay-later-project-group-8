{
 "cells": [
  {
   "cell_type": "markdown",
   "metadata": {},
   "source": [
    "# Simple analysis on data (NEED MORE TO BE DONE)\n",
    "titles and xlabel, ylabel will be added sometime"
   ]
  },
  {
   "cell_type": "code",
   "execution_count": 2,
   "metadata": {},
   "outputs": [],
   "source": [
    "from pyspark.sql import SparkSession\n",
    "from pyspark.sql import functions as F\n",
    "import matplotlib.pyplot as plt "
   ]
  },
  {
   "cell_type": "code",
   "execution_count": 3,
   "metadata": {},
   "outputs": [
    {
     "name": "stdout",
     "output_type": "stream",
     "text": [
      "22/09/08 14:37:42 WARN Utils: Your hostname, kams-MacBook-Pro.local resolves to a loopback address: 127.0.0.1; using 10.13.106.132 instead (on interface en0)\n",
      "22/09/08 14:37:42 WARN Utils: Set SPARK_LOCAL_IP if you need to bind to another address\n"
     ]
    },
    {
     "name": "stderr",
     "output_type": "stream",
     "text": [
      "Setting default log level to \"WARN\".\n",
      "To adjust logging level use sc.setLogLevel(newLevel). For SparkR, use setLogLevel(newLevel).\n"
     ]
    },
    {
     "name": "stdout",
     "output_type": "stream",
     "text": [
      "22/09/08 14:37:42 WARN NativeCodeLoader: Unable to load native-hadoop library for your platform... using builtin-java classes where applicable\n"
     ]
    }
   ],
   "source": [
    "spark = (\n",
    "    SparkSession.builder.appName(\"preprocessing of taxi data\")\n",
    "    .config(\"spark.sql.repl.eagerEval.enabled\", True) \n",
    "    .config(\"spark.sql.parquet.cacheMetadata\", \"true\")\n",
    "    .config(\"spark.sql.session.timeZone\", \"Etc/UTC\")\n",
    "    .config(\"spark.driver.memory\", \"15g\")\n",
    "    .getOrCreate()\n",
    ")"
   ]
  },
  {
   "cell_type": "code",
   "execution_count": 8,
   "metadata": {},
   "outputs": [],
   "source": [
    "transaction_20210228_20210827_sdf = spark.read.parquet(\"../data/curated/transactions_20210228_20210827_all_details\")\n",
    "transaction_20210228_20210827_missings_sdf = spark.read.parquet(\"../data/curated/transactions_20210228_20210827_all_details_missing_counts\")\n",
    "transaction_20210828_20220227_sdf = spark.read.parquet(\"../data/curated/transactions_20210828_20220227_all_details\")\n",
    "transaction_20210828_20220227_missings_sdf = spark.read.parquet(\"../data/curated/transactions_20210828_20220227_all_details_missing_counts\")\n",
    "merchant_sdf = spark.read.parquet(\"../data/tables/tbl_merchants.parquet\")\n",
    "age_sdf = spark.read.option(\"header\",True).csv(\"../data/curated/age_5yrs.csv\")"
   ]
  },
  {
   "cell_type": "code",
   "execution_count": 5,
   "metadata": {},
   "outputs": [
    {
     "name": "stdout",
     "output_type": "stream",
     "text": [
      "+-------+------------+------------+--------+-------------+---------+-------------+---------+-------------+-------+-----+--------+------+-----------+\n",
      "|user_id|merchant_abn|dollar_value|order_id|merchant_name|prod_desc|revenue_level|take_rate|consumer_name|address|state|postcode|gender|consumer_id|\n",
      "+-------+------------+------------+--------+-------------+---------+-------------+---------+-------------+-------+-----+--------+------+-----------+\n",
      "|      0|           0|           0|       0|       149228|   149228|       149228|   149228|            0|      0|    0|       0|     0|          0|\n",
      "+-------+------------+------------+--------+-------------+---------+-------------+---------+-------------+-------+-----+--------+------+-----------+\n",
      "\n"
     ]
    }
   ],
   "source": [
    "transaction_20210228_20210827_missings_sdf.show()"
   ]
  },
  {
   "cell_type": "code",
   "execution_count": 23,
   "metadata": {},
   "outputs": [
    {
     "name": "stdout",
     "output_type": "stream",
     "text": [
      "+-------+------------+------------+--------+-------------+---------+-------------+---------+-------------+-------+-----+--------+------+-----------+\n",
      "|user_id|merchant_abn|dollar_value|order_id|merchant_name|prod_desc|revenue_level|take_rate|consumer_name|address|state|postcode|gender|consumer_id|\n",
      "+-------+------------+------------+--------+-------------+---------+-------------+---------+-------------+-------+-----+--------+------+-----------+\n",
      "|      0|           0|           0|       0|       184414|   184414|       184414|   184414|            0|      0|    0|       0|     0|          0|\n",
      "+-------+------------+------------+--------+-------------+---------+-------------+---------+-------------+-------+-----+--------+------+-----------+\n",
      "\n"
     ]
    }
   ],
   "source": [
    "transaction_20210828_20220227_missings_sdf.show()"
   ]
  },
  {
   "cell_type": "markdown",
   "metadata": {},
   "source": [
    "there are some transactions with unkown merchants (i.e. missing values), need discussion will teammates"
   ]
  },
  {
   "cell_type": "code",
   "execution_count": 7,
   "metadata": {},
   "outputs": [
    {
     "name": "stderr",
     "output_type": "stream",
     "text": [
      "                                                                                \r"
     ]
    },
    {
     "data": {
      "text/plain": [
       "4359"
      ]
     },
     "execution_count": 7,
     "metadata": {},
     "output_type": "execute_result"
    }
   ],
   "source": [
    "transaction_20210228_20210827_sdf.select(F.col(\"merchant_abn\")).distinct().count()"
   ]
  },
  {
   "cell_type": "code",
   "execution_count": 8,
   "metadata": {},
   "outputs": [
    {
     "name": "stderr",
     "output_type": "stream",
     "text": [
      "                                                                                \r"
     ]
    },
    {
     "data": {
      "text/plain": [
       "3982"
      ]
     },
     "execution_count": 8,
     "metadata": {},
     "output_type": "execute_result"
    }
   ],
   "source": [
    "transaction_20210228_20210827_sdf.select(F.col(\"merchant_name\")).distinct().count()"
   ]
  },
  {
   "cell_type": "code",
   "execution_count": 10,
   "metadata": {},
   "outputs": [
    {
     "name": "stderr",
     "output_type": "stream",
     "text": [
      "                                                                                \r"
     ]
    },
    {
     "data": {
      "text/plain": [
       "4379"
      ]
     },
     "execution_count": 10,
     "metadata": {},
     "output_type": "execute_result"
    }
   ],
   "source": [
    "transaction_20210828_20220227_sdf.select(F.col(\"merchant_abn\")).distinct().count()"
   ]
  },
  {
   "cell_type": "code",
   "execution_count": 11,
   "metadata": {},
   "outputs": [
    {
     "data": {
      "text/plain": [
       "3999"
      ]
     },
     "execution_count": 11,
     "metadata": {},
     "output_type": "execute_result"
    }
   ],
   "source": [
    "transaction_20210828_20220227_sdf.select(F.col(\"merchant_name\")).distinct().count()"
   ]
  },
  {
   "cell_type": "code",
   "execution_count": 28,
   "metadata": {},
   "outputs": [
    {
     "name": "stdout",
     "output_type": "stream",
     "text": [
      "4026\n",
      "4026\n",
      "4026\n"
     ]
    }
   ],
   "source": [
    "print(merchant_sdf.select(F.col(\"merchant_abn\")).distinct().count())\n",
    "print(merchant_sdf.select(F.col(\"name\")).distinct().count())\n",
    "print(merchant_sdf.count())"
   ]
  },
  {
   "cell_type": "markdown",
   "metadata": {},
   "source": [
    "as we can see, there is some unknown merchants present in the transaction dataset causing joining to have more unknown values....."
   ]
  },
  {
   "cell_type": "markdown",
   "metadata": {},
   "source": [
    "## Analysis, some plot"
   ]
  },
  {
   "cell_type": "code",
   "execution_count": 20,
   "metadata": {},
   "outputs": [
    {
     "data": {
      "text/html": [
       "<table border='1'>\n",
       "<tr><th>user_id</th><th>merchant_abn</th><th>dollar_value</th><th>order_id</th><th>order_datetime</th><th>merchant_name</th><th>prod_desc</th><th>revenue_level</th><th>take_rate</th><th>consumer_name</th><th>address</th><th>state</th><th>postcode</th><th>gender</th><th>consumer_id</th></tr>\n",
       "<tr><td>7</td><td>71041015148</td><td>226.70111326425848</td><td>ba1c3c0b-6143-49c...</td><td>2021-11-26</td><td>Orci Ltd</td><td>digital goods: bo...</td><td>c</td><td>take rate: 2.19</td><td>Andrea Jones</td><td>122 Brandon Cliff</td><td>QLD</td><td>4606</td><td>Female</td><td>511685</td></tr>\n",
       "<tr><td>7</td><td>14492521225</td><td>28.69248621050033</td><td>c82c2951-6a2c-4bf...</td><td>2021-11-26</td><td>Praesent Eu Assoc...</td><td>tent and awning s...</td><td>c</td><td>take rate: 2.50</td><td>Andrea Jones</td><td>122 Brandon Cliff</td><td>QLD</td><td>4606</td><td>Female</td><td>511685</td></tr>\n",
       "<tr><td>7</td><td>68004106739</td><td>93.96901941736229</td><td>40d71489-2203-485...</td><td>2021-11-26</td><td>Nec Ante Ltd</td><td>cable, satellite,...</td><td>a</td><td>take rate: 5.61</td><td>Andrea Jones</td><td>122 Brandon Cliff</td><td>QLD</td><td>4606</td><td>Female</td><td>511685</td></tr>\n",
       "<tr><td>7</td><td>34096466752</td><td>92.43454448910457</td><td>293dc228-8398-49f...</td><td>2021-11-29</td><td>Nullam Enim Ltd</td><td>computers, comput...</td><td>b</td><td>take rate: 3.22</td><td>Andrea Jones</td><td>122 Brandon Cliff</td><td>QLD</td><td>4606</td><td>Female</td><td>511685</td></tr>\n",
       "<tr><td>7</td><td>62773208456</td><td>24.606053328805864</td><td>918d63ec-d125-43b...</td><td>2021-11-29</td><td>Ac Institute</td><td>watch, clock, and...</td><td>c</td><td>take rate: 2.62</td><td>Andrea Jones</td><td>122 Brandon Cliff</td><td>QLD</td><td>4606</td><td>Female</td><td>511685</td></tr>\n",
       "<tr><td>7</td><td>67874735704</td><td>871.400942067755</td><td>0dc0a909-7b11-423...</td><td>2021-11-29</td><td>Ultricies Adipisc...</td><td>florists supplies...</td><td>c</td><td>take rate: 2.04</td><td>Andrea Jones</td><td>122 Brandon Cliff</td><td>QLD</td><td>4606</td><td>Female</td><td>511685</td></tr>\n",
       "<tr><td>7</td><td>36125151647</td><td>22.37653874205458</td><td>ebd96051-41c5-44d...</td><td>2021-11-29</td><td>Sed Nec Corp.</td><td>hobby, toy and ga...</td><td>c</td><td>take rate: 1.83</td><td>Andrea Jones</td><td>122 Brandon Cliff</td><td>QLD</td><td>4606</td><td>Female</td><td>511685</td></tr>\n",
       "<tr><td>7</td><td>86578477987</td><td>14.932370248640328</td><td>b13248d9-3c6d-4b0...</td><td>2021-11-29</td><td>Leo In Consulting</td><td>watch, clock, and...</td><td>a</td><td>take rate: 6.43</td><td>Andrea Jones</td><td>122 Brandon Cliff</td><td>QLD</td><td>4606</td><td>Female</td><td>511685</td></tr>\n",
       "<tr><td>7</td><td>48534649627</td><td>16.362338872391526</td><td>96a5d5f4-2f24-4c9...</td><td>2021-11-29</td><td>Dignissim Maecena...</td><td>opticians, optica...</td><td>a</td><td>take rate: 6.64</td><td>Andrea Jones</td><td>122 Brandon Cliff</td><td>QLD</td><td>4606</td><td>Female</td><td>511685</td></tr>\n",
       "<tr><td>7</td><td>76767266140</td><td>144.7959046161148</td><td>734de9e3-dcc1-4da...</td><td>2021-11-29</td><td>Phasellus At Limited</td><td>furniture, home f...</td><td>b</td><td>take rate: 4.65</td><td>Andrea Jones</td><td>122 Brandon Cliff</td><td>QLD</td><td>4606</td><td>Female</td><td>511685</td></tr>\n",
       "<tr><td>7</td><td>41383736952</td><td>101.64172516104321</td><td>5f0ab0bc-bc87-43b...</td><td>2021-11-27</td><td>Lacus Vestibulum ...</td><td>cable, satellite,...</td><td>c</td><td>take rate: 2.25</td><td>Andrea Jones</td><td>122 Brandon Cliff</td><td>QLD</td><td>4606</td><td>Female</td><td>511685</td></tr>\n",
       "<tr><td>7</td><td>53062283717</td><td>517.1441566601612</td><td>0f8423ad-3603-482...</td><td>2021-11-27</td><td>Mi Felis Adipisci...</td><td>shoe shops</td><td>b</td><td>take rate: 3.93</td><td>Andrea Jones</td><td>122 Brandon Cliff</td><td>QLD</td><td>4606</td><td>Female</td><td>511685</td></tr>\n",
       "<tr><td>7</td><td>20562405782</td><td>259.6708286617462</td><td>658c8df3-5585-426...</td><td>2021-11-27</td><td>null</td><td>null</td><td>null</td><td>null</td><td>Andrea Jones</td><td>122 Brandon Cliff</td><td>QLD</td><td>4606</td><td>Female</td><td>511685</td></tr>\n",
       "<tr><td>7</td><td>90173050473</td><td>77.2055190980007</td><td>70a39380-1629-495...</td><td>2021-11-27</td><td>Lobortis Class In...</td><td>lawn and garden s...</td><td>c</td><td>take rate: 2.49</td><td>Andrea Jones</td><td>122 Brandon Cliff</td><td>QLD</td><td>4606</td><td>Female</td><td>511685</td></tr>\n",
       "<tr><td>7</td><td>55955609006</td><td>282.9963674808017</td><td>b0bbf79a-b061-4cc...</td><td>2021-11-28</td><td>Nec Enim Nunc LLP</td><td>cable, satellite,...</td><td>b</td><td>take rate: 3.52</td><td>Andrea Jones</td><td>122 Brandon Cliff</td><td>QLD</td><td>4606</td><td>Female</td><td>511685</td></tr>\n",
       "<tr><td>7</td><td>76224940587</td><td>33.76890828698926</td><td>2b71f04f-f06f-474...</td><td>2021-12-26</td><td>null</td><td>null</td><td>null</td><td>null</td><td>Andrea Jones</td><td>122 Brandon Cliff</td><td>QLD</td><td>4606</td><td>Female</td><td>511685</td></tr>\n",
       "<tr><td>7</td><td>94455880010</td><td>42.796486321940655</td><td>794c942e-b2af-401...</td><td>2021-12-26</td><td>Nunc Sit LLC</td><td>computer programm...</td><td>a</td><td>take rate: 6.33</td><td>Andrea Jones</td><td>122 Brandon Cliff</td><td>QLD</td><td>4606</td><td>Female</td><td>511685</td></tr>\n",
       "<tr><td>7</td><td>94690988633</td><td>524.973634094268</td><td>1730386c-3ed4-41e...</td><td>2021-12-26</td><td>Eu Placerat LLC</td><td>computers, comput...</td><td>a</td><td>take rate: 6.16</td><td>Andrea Jones</td><td>122 Brandon Cliff</td><td>QLD</td><td>4606</td><td>Female</td><td>511685</td></tr>\n",
       "<tr><td>7</td><td>31736633670</td><td>164.5183024205047</td><td>3810de38-d78e-48f...</td><td>2021-12-26</td><td>Vel Pede Blandit ...</td><td>digital goods: bo...</td><td>a</td><td>take rate: 6.35</td><td>Andrea Jones</td><td>122 Brandon Cliff</td><td>QLD</td><td>4606</td><td>Female</td><td>511685</td></tr>\n",
       "<tr><td>7</td><td>68216911708</td><td>38.27652819575883</td><td>86eb71c9-5397-4b3...</td><td>2021-11-30</td><td>Placerat Eget Ven...</td><td>computers, comput...</td><td>c</td><td>take rate: 3.05</td><td>Andrea Jones</td><td>122 Brandon Cliff</td><td>QLD</td><td>4606</td><td>Female</td><td>511685</td></tr>\n",
       "</table>\n",
       "only showing top 20 rows\n"
      ],
      "text/plain": [
       "+-------+------------+------------------+--------------------+--------------+--------------------+--------------------+-------------+---------------+-------------+-----------------+-----+--------+------+-----------+\n",
       "|user_id|merchant_abn|      dollar_value|            order_id|order_datetime|       merchant_name|           prod_desc|revenue_level|      take_rate|consumer_name|          address|state|postcode|gender|consumer_id|\n",
       "+-------+------------+------------------+--------------------+--------------+--------------------+--------------------+-------------+---------------+-------------+-----------------+-----+--------+------+-----------+\n",
       "|      7| 71041015148|226.70111326425848|ba1c3c0b-6143-49c...|    2021-11-26|            Orci Ltd|digital goods: bo...|            c|take rate: 2.19| Andrea Jones|122 Brandon Cliff|  QLD|    4606|Female|     511685|\n",
       "|      7| 14492521225| 28.69248621050033|c82c2951-6a2c-4bf...|    2021-11-26|Praesent Eu Assoc...|tent and awning s...|            c|take rate: 2.50| Andrea Jones|122 Brandon Cliff|  QLD|    4606|Female|     511685|\n",
       "|      7| 68004106739| 93.96901941736229|40d71489-2203-485...|    2021-11-26|        Nec Ante Ltd|cable, satellite,...|            a|take rate: 5.61| Andrea Jones|122 Brandon Cliff|  QLD|    4606|Female|     511685|\n",
       "|      7| 34096466752| 92.43454448910457|293dc228-8398-49f...|    2021-11-29|     Nullam Enim Ltd|computers, comput...|            b|take rate: 3.22| Andrea Jones|122 Brandon Cliff|  QLD|    4606|Female|     511685|\n",
       "|      7| 62773208456|24.606053328805864|918d63ec-d125-43b...|    2021-11-29|        Ac Institute|watch, clock, and...|            c|take rate: 2.62| Andrea Jones|122 Brandon Cliff|  QLD|    4606|Female|     511685|\n",
       "|      7| 67874735704|  871.400942067755|0dc0a909-7b11-423...|    2021-11-29|Ultricies Adipisc...|florists supplies...|            c|take rate: 2.04| Andrea Jones|122 Brandon Cliff|  QLD|    4606|Female|     511685|\n",
       "|      7| 36125151647| 22.37653874205458|ebd96051-41c5-44d...|    2021-11-29|       Sed Nec Corp.|hobby, toy and ga...|            c|take rate: 1.83| Andrea Jones|122 Brandon Cliff|  QLD|    4606|Female|     511685|\n",
       "|      7| 86578477987|14.932370248640328|b13248d9-3c6d-4b0...|    2021-11-29|   Leo In Consulting|watch, clock, and...|            a|take rate: 6.43| Andrea Jones|122 Brandon Cliff|  QLD|    4606|Female|     511685|\n",
       "|      7| 48534649627|16.362338872391526|96a5d5f4-2f24-4c9...|    2021-11-29|Dignissim Maecena...|opticians, optica...|            a|take rate: 6.64| Andrea Jones|122 Brandon Cliff|  QLD|    4606|Female|     511685|\n",
       "|      7| 76767266140| 144.7959046161148|734de9e3-dcc1-4da...|    2021-11-29|Phasellus At Limited|furniture, home f...|            b|take rate: 4.65| Andrea Jones|122 Brandon Cliff|  QLD|    4606|Female|     511685|\n",
       "|      7| 41383736952|101.64172516104321|5f0ab0bc-bc87-43b...|    2021-11-27|Lacus Vestibulum ...|cable, satellite,...|            c|take rate: 2.25| Andrea Jones|122 Brandon Cliff|  QLD|    4606|Female|     511685|\n",
       "|      7| 53062283717| 517.1441566601612|0f8423ad-3603-482...|    2021-11-27|Mi Felis Adipisci...|          shoe shops|            b|take rate: 3.93| Andrea Jones|122 Brandon Cliff|  QLD|    4606|Female|     511685|\n",
       "|      7| 20562405782| 259.6708286617462|658c8df3-5585-426...|    2021-11-27|                null|                null|         null|           null| Andrea Jones|122 Brandon Cliff|  QLD|    4606|Female|     511685|\n",
       "|      7| 90173050473|  77.2055190980007|70a39380-1629-495...|    2021-11-27|Lobortis Class In...|lawn and garden s...|            c|take rate: 2.49| Andrea Jones|122 Brandon Cliff|  QLD|    4606|Female|     511685|\n",
       "|      7| 55955609006| 282.9963674808017|b0bbf79a-b061-4cc...|    2021-11-28|   Nec Enim Nunc LLP|cable, satellite,...|            b|take rate: 3.52| Andrea Jones|122 Brandon Cliff|  QLD|    4606|Female|     511685|\n",
       "|      7| 76224940587| 33.76890828698926|2b71f04f-f06f-474...|    2021-12-26|                null|                null|         null|           null| Andrea Jones|122 Brandon Cliff|  QLD|    4606|Female|     511685|\n",
       "|      7| 94455880010|42.796486321940655|794c942e-b2af-401...|    2021-12-26|        Nunc Sit LLC|computer programm...|            a|take rate: 6.33| Andrea Jones|122 Brandon Cliff|  QLD|    4606|Female|     511685|\n",
       "|      7| 94690988633|  524.973634094268|1730386c-3ed4-41e...|    2021-12-26|     Eu Placerat LLC|computers, comput...|            a|take rate: 6.16| Andrea Jones|122 Brandon Cliff|  QLD|    4606|Female|     511685|\n",
       "|      7| 31736633670| 164.5183024205047|3810de38-d78e-48f...|    2021-12-26|Vel Pede Blandit ...|digital goods: bo...|            a|take rate: 6.35| Andrea Jones|122 Brandon Cliff|  QLD|    4606|Female|     511685|\n",
       "|      7| 68216911708| 38.27652819575883|86eb71c9-5397-4b3...|    2021-11-30|Placerat Eget Ven...|computers, comput...|            c|take rate: 3.05| Andrea Jones|122 Brandon Cliff|  QLD|    4606|Female|     511685|\n",
       "+-------+------------+------------------+--------------------+--------------+--------------------+--------------------+-------------+---------------+-------------+-----------------+-----+--------+------+-----------+\n",
       "only showing top 20 rows"
      ]
     },
     "execution_count": 20,
     "metadata": {},
     "output_type": "execute_result"
    }
   ],
   "source": [
    "transaction_20210828_20220227_sdf"
   ]
  },
  {
   "cell_type": "code",
   "execution_count": 19,
   "metadata": {},
   "outputs": [
    {
     "name": "stderr",
     "output_type": "stream",
     "text": [
      "                                                                                \r"
     ]
    },
    {
     "data": {
      "text/plain": [
       "<AxesSubplot:>"
      ]
     },
     "execution_count": 19,
     "metadata": {},
     "output_type": "execute_result"
    },
    {
     "data": {
      "image/png": "[encoded data removed]",
      "text/plain": [
       "<Figure size 432x288 with 1 Axes>"
      ]
     },
     "metadata": {
      "needs_background": "light"
     },
     "output_type": "display_data"
    }
   ],
   "source": [
    "transaction_20210228_20210827_df = transaction_20210228_20210827_sdf.toPandas()\n",
    "transaction_20210228_20210827_df.boxplot(column=['dollar_value'])"
   ]
  },
  {
   "cell_type": "code",
   "execution_count": 21,
   "metadata": {},
   "outputs": [
    {
     "name": "stderr",
     "output_type": "stream",
     "text": [
      "                                                                                \r"
     ]
    },
    {
     "data": {
      "text/plain": [
       "<AxesSubplot:>"
      ]
     },
     "execution_count": 21,
     "metadata": {},
     "output_type": "execute_result"
    },
    {
     "data": {
      "image/png": "[encoded data removed]",
      "text/plain": [
       "<Figure size 432x288 with 1 Axes>"
      ]
     },
     "metadata": {
      "needs_background": "light"
     },
     "output_type": "display_data"
    }
   ],
   "source": [
    "transaction_20210828_20220227_df = transaction_20210828_20220227_sdf.toPandas()\n",
    "transaction_20210828_20220227_df.boxplot(column=['dollar_value'])"
   ]
  },
  {
   "cell_type": "markdown",
   "metadata": {},
   "source": [
    "not quite useful, try to aggregate by merchants. but there are missing merchants so just remove them and see first"
   ]
  },
  {
   "cell_type": "code",
   "execution_count": 33,
   "metadata": {},
   "outputs": [
    {
     "name": "stderr",
     "output_type": "stream",
     "text": [
      "                                                                                \r"
     ]
    },
    {
     "data": {
      "text/plain": [
       "3981"
      ]
     },
     "execution_count": 33,
     "metadata": {},
     "output_type": "execute_result"
    }
   ],
   "source": [
    "aggregate_merchant_20210228_20210827_sdf = transaction_20210228_20210827_sdf.na.drop()\n",
    "aggregate_merchant_20210228_20210827_sdf = aggregate_merchant_20210228_20210827_sdf.groupBy(\"merchant_abn\") \\\n",
    "                                                                                   .agg(F.sum(\"dollar_value\"))\n",
    "aggregate_merchant_20210228_20210827_sdf.count()"
   ]
  },
  {
   "cell_type": "code",
   "execution_count": 34,
   "metadata": {},
   "outputs": [
    {
     "name": "stderr",
     "output_type": "stream",
     "text": [
      "                                                                                \r"
     ]
    },
    {
     "data": {
      "text/plain": [
       "3998"
      ]
     },
     "execution_count": 34,
     "metadata": {},
     "output_type": "execute_result"
    }
   ],
   "source": [
    "aggregate_merchant_20210828_20220227_sdf = transaction_20210828_20220227_sdf.na.drop()\n",
    "aggregate_merchant_20210828_20220227_sdf = aggregate_merchant_20210828_20220227_sdf.groupBy(\"merchant_abn\") \\\n",
    "                                                                                   .agg(F.sum(\"dollar_value\"))\n",
    "aggregate_merchant_20210828_20220227_sdf.count()"
   ]
  },
  {
   "cell_type": "markdown",
   "metadata": {},
   "source": [
    "make sense, one missing from distinct abn values for each merchant, as we account for NULL."
   ]
  },
  {
   "cell_type": "code",
   "execution_count": 55,
   "metadata": {},
   "outputs": [
    {
     "data": {
      "text/plain": [
       "<AxesSubplot:>"
      ]
     },
     "execution_count": 55,
     "metadata": {},
     "output_type": "execute_result"
    },
    {
     "data": {
      "image/png": "[encoded data removed]",
      "text/plain": [
       "<Figure size 432x288 with 1 Axes>"
      ]
     },
     "metadata": {
      "needs_background": "light"
     },
     "output_type": "display_data"
    }
   ],
   "source": [
    "aggregate_merchant_20210228_20210827_df = aggregate_merchant_20210228_20210827_sdf.toPandas()\n",
    "aggregate_merchant_20210228_20210827_df.boxplot(column=['sum(dollar_value)'])"
   ]
  },
  {
   "cell_type": "code",
   "execution_count": 56,
   "metadata": {},
   "outputs": [
    {
     "data": {
      "text/plain": [
       "<AxesSubplot:>"
      ]
     },
     "execution_count": 56,
     "metadata": {},
     "output_type": "execute_result"
    },
    {
     "data": {
      "image/png": "[encoded data removed]",
      "text/plain": [
       "<Figure size 432x288 with 1 Axes>"
      ]
     },
     "metadata": {
      "needs_background": "light"
     },
     "output_type": "display_data"
    }
   ],
   "source": [
    "aggregate_merchant_20210828_20220227_df = aggregate_merchant_20210828_20220227_sdf.toPandas()\n",
    "aggregate_merchant_20210828_20220227_df.boxplot(column=['sum(dollar_value)'])"
   ]
  },
  {
   "cell_type": "markdown",
   "metadata": {},
   "source": [
    "Still not useful, try to remove outlier, just for better visualisation, not decided yet. Start from 1.5 just to look"
   ]
  },
  {
   "cell_type": "code",
   "execution_count": 60,
   "metadata": {},
   "outputs": [
    {
     "data": {
      "text/plain": [
       "<AxesSubplot:>"
      ]
     },
     "execution_count": 60,
     "metadata": {},
     "output_type": "execute_result"
    },
    {
     "data": {
      "image/png": "[encoded data removed]",
      "text/plain": [
       "<Figure size 432x288 with 1 Axes>"
      ]
     },
     "metadata": {
      "needs_background": "light"
     },
     "output_type": "display_data"
    }
   ],
   "source": [
    "col = ['sum(dollar_value)']\n",
    "\n",
    "# Calculate quantiles and IQR\n",
    "Q1 = aggregate_merchant_20210228_20210827_df[col].quantile(0.25) # Same as np.percentile but maps (0,1) and not (0,100)\n",
    "Q3 = aggregate_merchant_20210228_20210827_df[col].quantile(0.75)\n",
    "IQR = Q3 - Q1\n",
    "\n",
    "# Return a boolean array of the rows with (any) non-outlier column values\n",
    "condition = ~((aggregate_merchant_20210228_20210827_df[col] < (Q1 - 1.5 * IQR)) | (aggregate_merchant_20210228_20210827_df[col] > (Q3 + 1.5 * IQR))).any(axis=1)\n",
    "\n",
    "# Filter our dataframe based on condition\n",
    "filtered_20210228_20210827_df = aggregate_merchant_20210228_20210827_df[condition]\n",
    "filtered_20210228_20210827_df.boxplot(column=col)"
   ]
  },
  {
   "cell_type": "code",
   "execution_count": 61,
   "metadata": {},
   "outputs": [
    {
     "data": {
      "text/plain": [
       "<AxesSubplot:>"
      ]
     },
     "execution_count": 61,
     "metadata": {},
     "output_type": "execute_result"
    },
    {
     "data": {
      "image/png": "[encoded data removed]",
      "text/plain": [
       "<Figure size 432x288 with 1 Axes>"
      ]
     },
     "metadata": {
      "needs_background": "light"
     },
     "output_type": "display_data"
    }
   ],
   "source": [
    "col = ['sum(dollar_value)']\n",
    "\n",
    "# Calculate quantiles and IQR\n",
    "Q1 = aggregate_merchant_20210828_20220227_df[col].quantile(0.25) # Same as np.percentile but maps (0,1) and not (0,100)\n",
    "Q3 = aggregate_merchant_20210828_20220227_df[col].quantile(0.75)\n",
    "IQR = Q3 - Q1\n",
    "\n",
    "# Return a boolean array of the rows with (any) non-outlier column values\n",
    "condition = ~((aggregate_merchant_20210828_20220227_df[col] < (Q1 - 1.5 * IQR)) | (aggregate_merchant_20210828_20220227_df[col] > (Q3 + 1.5 * IQR))).any(axis=1)\n",
    "\n",
    "# Filter our dataframe based on condition\n",
    "filtered_20210828_20220227_df = aggregate_merchant_20210828_20220227_df[condition]\n",
    "filtered_20210828_20220227_df.boxplot(column=col)"
   ]
  },
  {
   "cell_type": "code",
   "execution_count": 9,
   "metadata": {},
   "outputs": [
    {
     "data": {
      "text/html": [
       "<table border='1'>\n",
       "<tr><th>0-4 years</th><th>5-9 years</th><th>10-14 years</th><th>15-19 years</th><th>20-24 years</th><th>25-29 years</th><th>30-34 years</th><th>35-39 years</th><th>40-44 years</th><th>45-49 years</th><th>50-54 years</th><th>55-59 years</th><th>60-64 years</th><th>65-69 years</th><th>70-74 years</th><th>75-79 years</th><th>80-84 years</th><th>85-89 years</th><th>90-94 years</th><th>95-99 years</th><th>100 years and over</th><th>Total</th><th>postcode</th></tr>\n",
       "<tr><td>698</td><td>292</td><td>260</td><td>1040</td><td>4791</td><td>6015</td><td>4661</td><td>2703</td><td>1450</td><td>1105</td><td>1040</td><td>890</td><td>780</td><td>660</td><td>449</td><td>268</td><td>158</td><td>107</td><td>40</td><td>10</td><td>0</td><td>27411</td><td>2000</td></tr>\n",
       "<tr><td>0</td><td>5</td><td>13</td><td>556</td><td>579</td><td>39</td><td>13</td><td>6</td><td>10</td><td>7</td><td>3</td><td>9</td><td>4</td><td>5</td><td>3</td><td>3</td><td>0</td><td>0</td><td>0</td><td>0</td><td>0</td><td>1261</td><td>2006</td></tr>\n",
       "<tr><td>198</td><td>105</td><td>69</td><td>704</td><td>2737</td><td>1783</td><td>1067</td><td>627</td><td>366</td><td>274</td><td>203</td><td>168</td><td>165</td><td>144</td><td>75</td><td>68</td><td>48</td><td>28</td><td>13</td><td>4</td><td>0</td><td>8846</td><td>2007</td></tr>\n",
       "<tr><td>208</td><td>100</td><td>96</td><td>974</td><td>3610</td><td>2552</td><td>1476</td><td>744</td><td>432</td><td>367</td><td>319</td><td>268</td><td>202</td><td>171</td><td>94</td><td>53</td><td>25</td><td>11</td><td>10</td><td>6</td><td>0</td><td>11712</td><td>2008</td></tr>\n",
       "<tr><td>606</td><td>341</td><td>245</td><td>277</td><td>1154</td><td>2016</td><td>2070</td><td>1446</td><td>904</td><td>687</td><td>679</td><td>651</td><td>576</td><td>497</td><td>309</td><td>177</td><td>104</td><td>49</td><td>14</td><td>0</td><td>0</td><td>12813</td><td>2009</td></tr>\n",
       "<tr><td>689</td><td>402</td><td>259</td><td>448</td><td>2160</td><td>5138</td><td>4787</td><td>3088</td><td>2324</td><td>1872</td><td>1660</td><td>1338</td><td>1097</td><td>867</td><td>581</td><td>421</td><td>309</td><td>187</td><td>82</td><td>18</td><td>0</td><td>27733</td><td>2010</td></tr>\n",
       "<tr><td>393</td><td>217</td><td>174</td><td>419</td><td>1895</td><td>3627</td><td>3402</td><td>2118</td><td>1620</td><td>1396</td><td>1190</td><td>1192</td><td>952</td><td>879</td><td>585</td><td>385</td><td>305</td><td>242</td><td>133</td><td>50</td><td>4</td><td>21199</td><td>2011</td></tr>\n",
       "<tr><td>553</td><td>343</td><td>219</td><td>220</td><td>746</td><td>1662</td><td>1633</td><td>1150</td><td>896</td><td>712</td><td>531</td><td>424</td><td>316</td><td>209</td><td>143</td><td>70</td><td>69</td><td>27</td><td>10</td><td>4</td><td>0</td><td>9922</td><td>2015</td></tr>\n",
       "<tr><td>467</td><td>257</td><td>194</td><td>272</td><td>1172</td><td>2182</td><td>1877</td><td>1200</td><td>977</td><td>895</td><td>809</td><td>716</td><td>588</td><td>520</td><td>341</td><td>358</td><td>218</td><td>137</td><td>33</td><td>3</td><td>0</td><td>13213</td><td>2016</td></tr>\n",
       "<tr><td>1034</td><td>483</td><td>312</td><td>1507</td><td>3853</td><td>4707</td><td>3862</td><td>2170</td><td>1302</td><td>1058</td><td>905</td><td>849</td><td>699</td><td>683</td><td>483</td><td>355</td><td>278</td><td>106</td><td>38</td><td>9</td><td>0</td><td>24694</td><td>2017</td></tr>\n",
       "<tr><td>998</td><td>827</td><td>770</td><td>983</td><td>1587</td><td>1748</td><td>1758</td><td>1287</td><td>1165</td><td>1075</td><td>952</td><td>794</td><td>730</td><td>675</td><td>565</td><td>504</td><td>334</td><td>198</td><td>69</td><td>12</td><td>0</td><td>17028</td><td>2018</td></tr>\n",
       "<tr><td>807</td><td>764</td><td>659</td><td>552</td><td>696</td><td>762</td><td>854</td><td>897</td><td>956</td><td>793</td><td>755</td><td>568</td><td>472</td><td>390</td><td>304</td><td>242</td><td>167</td><td>113</td><td>61</td><td>7</td><td>0</td><td>10840</td><td>2019</td></tr>\n",
       "<tr><td>860</td><td>610</td><td>484</td><td>838</td><td>1556</td><td>2183</td><td>1886</td><td>1354</td><td>968</td><td>783</td><td>735</td><td>657</td><td>539</td><td>391</td><td>302</td><td>270</td><td>195</td><td>93</td><td>35</td><td>12</td><td>0</td><td>14771</td><td>2020</td></tr>\n",
       "<tr><td>806</td><td>674</td><td>524</td><td>441</td><td>1010</td><td>1943</td><td>1877</td><td>1522</td><td>1170</td><td>1060</td><td>922</td><td>769</td><td>633</td><td>648</td><td>568</td><td>354</td><td>190</td><td>129</td><td>58</td><td>11</td><td>0</td><td>15312</td><td>2021</td></tr>\n",
       "<tr><td>739</td><td>615</td><td>481</td><td>460</td><td>780</td><td>1441</td><td>1383</td><td>1192</td><td>900</td><td>822</td><td>659</td><td>631</td><td>512</td><td>514</td><td>411</td><td>356</td><td>296</td><td>184</td><td>96</td><td>21</td><td>3</td><td>12510</td><td>2022</td></tr>\n",
       "<tr><td>574</td><td>679</td><td>685</td><td>669</td><td>624</td><td>830</td><td>900</td><td>780</td><td>770</td><td>769</td><td>666</td><td>618</td><td>539</td><td>599</td><td>394</td><td>249</td><td>181</td><td>100</td><td>65</td><td>22</td><td>6</td><td>10719</td><td>2023</td></tr>\n",
       "<tr><td>695</td><td>727</td><td>604</td><td>502</td><td>466</td><td>788</td><td>1043</td><td>994</td><td>893</td><td>855</td><td>745</td><td>562</td><td>454</td><td>453</td><td>327</td><td>268</td><td>245</td><td>216</td><td>172</td><td>55</td><td>4</td><td>11073</td><td>2024</td></tr>\n",
       "<tr><td>422</td><td>387</td><td>287</td><td>250</td><td>366</td><td>626</td><td>661</td><td>588</td><td>506</td><td>464</td><td>457</td><td>408</td><td>384</td><td>470</td><td>351</td><td>303</td><td>196</td><td>156</td><td>87</td><td>31</td><td>4</td><td>7407</td><td>2025</td></tr>\n",
       "<tr><td>1936</td><td>1564</td><td>1169</td><td>938</td><td>1891</td><td>4575</td><td>5100</td><td>3448</td><td>2614</td><td>2129</td><td>1549</td><td>1278</td><td>1045</td><td>1082</td><td>674</td><td>601</td><td>401</td><td>308</td><td>150</td><td>34</td><td>0</td><td>32489</td><td>2026</td></tr>\n",
       "<tr><td>325</td><td>277</td><td>296</td><td>297</td><td>322</td><td>755</td><td>750</td><td>594</td><td>466</td><td>484</td><td>464</td><td>486</td><td>531</td><td>565</td><td>534</td><td>381</td><td>258</td><td>220</td><td>152</td><td>36</td><td>0</td><td>8191</td><td>2027</td></tr>\n",
       "</table>\n",
       "only showing top 20 rows\n"
      ],
      "text/plain": [
       "+---------+---------+-----------+-----------+-----------+-----------+-----------+-----------+-----------+-----------+-----------+-----------+-----------+-----------+-----------+-----------+-----------+-----------+-----------+-----------+------------------+-----+--------+\n",
       "|0-4 years|5-9 years|10-14 years|15-19 years|20-24 years|25-29 years|30-34 years|35-39 years|40-44 years|45-49 years|50-54 years|55-59 years|60-64 years|65-69 years|70-74 years|75-79 years|80-84 years|85-89 years|90-94 years|95-99 years|100 years and over|Total|postcode|\n",
       "+---------+---------+-----------+-----------+-----------+-----------+-----------+-----------+-----------+-----------+-----------+-----------+-----------+-----------+-----------+-----------+-----------+-----------+-----------+-----------+------------------+-----+--------+\n",
       "|      698|      292|        260|       1040|       4791|       6015|       4661|       2703|       1450|       1105|       1040|        890|        780|        660|        449|        268|        158|        107|         40|         10|                 0|27411|    2000|\n",
       "|        0|        5|         13|        556|        579|         39|         13|          6|         10|          7|          3|          9|          4|          5|          3|          3|          0|          0|          0|          0|                 0| 1261|    2006|\n",
       "|      198|      105|         69|        704|       2737|       1783|       1067|        627|        366|        274|        203|        168|        165|        144|         75|         68|         48|         28|         13|          4|                 0| 8846|    2007|\n",
       "|      208|      100|         96|        974|       3610|       2552|       1476|        744|        432|        367|        319|        268|        202|        171|         94|         53|         25|         11|         10|          6|                 0|11712|    2008|\n",
       "|      606|      341|        245|        277|       1154|       2016|       2070|       1446|        904|        687|        679|        651|        576|        497|        309|        177|        104|         49|         14|          0|                 0|12813|    2009|\n",
       "|      689|      402|        259|        448|       2160|       5138|       4787|       3088|       2324|       1872|       1660|       1338|       1097|        867|        581|        421|        309|        187|         82|         18|                 0|27733|    2010|\n",
       "|      393|      217|        174|        419|       1895|       3627|       3402|       2118|       1620|       1396|       1190|       1192|        952|        879|        585|        385|        305|        242|        133|         50|                 4|21199|    2011|\n",
       "|      553|      343|        219|        220|        746|       1662|       1633|       1150|        896|        712|        531|        424|        316|        209|        143|         70|         69|         27|         10|          4|                 0| 9922|    2015|\n",
       "|      467|      257|        194|        272|       1172|       2182|       1877|       1200|        977|        895|        809|        716|        588|        520|        341|        358|        218|        137|         33|          3|                 0|13213|    2016|\n",
       "|     1034|      483|        312|       1507|       3853|       4707|       3862|       2170|       1302|       1058|        905|        849|        699|        683|        483|        355|        278|        106|         38|          9|                 0|24694|    2017|\n",
       "|      998|      827|        770|        983|       1587|       1748|       1758|       1287|       1165|       1075|        952|        794|        730|        675|        565|        504|        334|        198|         69|         12|                 0|17028|    2018|\n",
       "|      807|      764|        659|        552|        696|        762|        854|        897|        956|        793|        755|        568|        472|        390|        304|        242|        167|        113|         61|          7|                 0|10840|    2019|\n",
       "|      860|      610|        484|        838|       1556|       2183|       1886|       1354|        968|        783|        735|        657|        539|        391|        302|        270|        195|         93|         35|         12|                 0|14771|    2020|\n",
       "|      806|      674|        524|        441|       1010|       1943|       1877|       1522|       1170|       1060|        922|        769|        633|        648|        568|        354|        190|        129|         58|         11|                 0|15312|    2021|\n",
       "|      739|      615|        481|        460|        780|       1441|       1383|       1192|        900|        822|        659|        631|        512|        514|        411|        356|        296|        184|         96|         21|                 3|12510|    2022|\n",
       "|      574|      679|        685|        669|        624|        830|        900|        780|        770|        769|        666|        618|        539|        599|        394|        249|        181|        100|         65|         22|                 6|10719|    2023|\n",
       "|      695|      727|        604|        502|        466|        788|       1043|        994|        893|        855|        745|        562|        454|        453|        327|        268|        245|        216|        172|         55|                 4|11073|    2024|\n",
       "|      422|      387|        287|        250|        366|        626|        661|        588|        506|        464|        457|        408|        384|        470|        351|        303|        196|        156|         87|         31|                 4| 7407|    2025|\n",
       "|     1936|     1564|       1169|        938|       1891|       4575|       5100|       3448|       2614|       2129|       1549|       1278|       1045|       1082|        674|        601|        401|        308|        150|         34|                 0|32489|    2026|\n",
       "|      325|      277|        296|        297|        322|        755|        750|        594|        466|        484|        464|        486|        531|        565|        534|        381|        258|        220|        152|         36|                 0| 8191|    2027|\n",
       "+---------+---------+-----------+-----------+-----------+-----------+-----------+-----------+-----------+-----------+-----------+-----------+-----------+-----------+-----------+-----------+-----------+-----------+-----------+-----------+------------------+-----+--------+\n",
       "only showing top 20 rows"
      ]
     },
     "execution_count": 9,
     "metadata": {},
     "output_type": "execute_result"
    }
   ],
   "source": [
    "age_sdf"
   ]
  },
  {
   "cell_type": "code",
   "execution_count": 7,
   "metadata": {},
   "outputs": [
    {
     "name": "stdout",
     "output_type": "stream",
     "text": [
      "22/09/08 14:43:14 WARN package: Truncated the string representation of a plan since it was too large. This behavior can be adjusted by setting 'spark.sql.debug.maxToStringFields'.\n"
     ]
    },
    {
     "data": {
      "text/html": [
       "<table border='1'>\n",
       "<tr><th>user_id</th><th>merchant_abn</th><th>dollar_value</th><th>order_id</th><th>order_datetime</th><th>merchant_name</th><th>prod_desc</th><th>revenue_level</th><th>take_rate</th><th>consumer_name</th><th>address</th><th>state</th><th>postcode</th><th>gender</th><th>consumer_id</th><th>0-4 years</th><th>5-9 years</th><th>10-14 years</th><th>15-19 years</th><th>20-24 years</th><th>25-29 years</th><th>30-34 years</th><th>35-39 years</th><th>40-44 years</th><th>45-49 years</th><th>50-54 years</th><th>55-59 years</th><th>60-64 years</th><th>65-69 years</th><th>70-74 years</th><th>75-79 years</th><th>80-84 years</th><th>85-89 years</th><th>90-94 years</th><th>95-99 years</th><th>100 years and over</th><th>Total</th></tr>\n",
       "<tr><td>6</td><td>47086412084</td><td>17.90949324299599</td><td>6f67ccf1-d884-4da...</td><td>2021-08-21</td><td>Eros Limited</td><td>digital goods: bo...</td><td>c</td><td>take rate: 2.52</td><td>Karen Chapman</td><td>2706 Stewart Oval...</td><td>NSW</td><td>2033</td><td>Female</td><td>407340</td><td>540</td><td>514</td><td>411</td><td>768</td><td>1712</td><td>1510</td><td>1133</td><td>899</td><td>677</td><td>589</td><td>587</td><td>472</td><td>355</td><td>390</td><td>296</td><td>259</td><td>217</td><td>160</td><td>58</td><td>20</td><td>0</td><td>11573</td></tr>\n",
       "<tr><td>6</td><td>90651237279</td><td>73.91138243216932</td><td>372dd90b-f34f-43b...</td><td>2021-08-21</td><td>Dui Nec Incorporated</td><td>antique shops - s...</td><td>c</td><td>take rate: 1.72</td><td>Karen Chapman</td><td>2706 Stewart Oval...</td><td>NSW</td><td>2033</td><td>Female</td><td>407340</td><td>540</td><td>514</td><td>411</td><td>768</td><td>1712</td><td>1510</td><td>1133</td><td>899</td><td>677</td><td>589</td><td>587</td><td>472</td><td>355</td><td>390</td><td>296</td><td>259</td><td>217</td><td>160</td><td>58</td><td>20</td><td>0</td><td>11573</td></tr>\n",
       "<tr><td>6</td><td>22059270846</td><td>39.724564457957754</td><td>b433fc0d-e64c-457...</td><td>2021-08-19</td><td>Montes Nascetur R...</td><td>opticians, optica...</td><td>a</td><td>take rate: 6.59</td><td>Karen Chapman</td><td>2706 Stewart Oval...</td><td>NSW</td><td>2033</td><td>Female</td><td>407340</td><td>540</td><td>514</td><td>411</td><td>768</td><td>1712</td><td>1510</td><td>1133</td><td>899</td><td>677</td><td>589</td><td>587</td><td>472</td><td>355</td><td>390</td><td>296</td><td>259</td><td>217</td><td>160</td><td>58</td><td>20</td><td>0</td><td>11573</td></tr>\n",
       "<tr><td>6</td><td>23661821077</td><td>3.866733632735169</td><td>dd1ba445-4ec9-410...</td><td>2021-08-19</td><td>Suspendisse Eleif...</td><td>computer programm...</td><td>c</td><td>take rate: 3.00</td><td>Karen Chapman</td><td>2706 Stewart Oval...</td><td>NSW</td><td>2033</td><td>Female</td><td>407340</td><td>540</td><td>514</td><td>411</td><td>768</td><td>1712</td><td>1510</td><td>1133</td><td>899</td><td>677</td><td>589</td><td>587</td><td>472</td><td>355</td><td>390</td><td>296</td><td>259</td><td>217</td><td>160</td><td>58</td><td>20</td><td>0</td><td>11573</td></tr>\n",
       "<tr><td>6</td><td>86578477987</td><td>42.65932172543647</td><td>266ddf4f-f2ef-436...</td><td>2021-08-14</td><td>Leo In Consulting</td><td>watch, clock, and...</td><td>a</td><td>take rate: 6.43</td><td>Karen Chapman</td><td>2706 Stewart Oval...</td><td>NSW</td><td>2033</td><td>Female</td><td>407340</td><td>540</td><td>514</td><td>411</td><td>768</td><td>1712</td><td>1510</td><td>1133</td><td>899</td><td>677</td><td>589</td><td>587</td><td>472</td><td>355</td><td>390</td><td>296</td><td>259</td><td>217</td><td>160</td><td>58</td><td>20</td><td>0</td><td>11573</td></tr>\n",
       "<tr><td>6</td><td>12543580354</td><td>233.63159017043435</td><td>6b4fb3de-670f-411...</td><td>2021-08-15</td><td>Ut Aliquam Corp.</td><td>shoe shops</td><td>b</td><td>take rate: 3.78</td><td>Karen Chapman</td><td>2706 Stewart Oval...</td><td>NSW</td><td>2033</td><td>Female</td><td>407340</td><td>540</td><td>514</td><td>411</td><td>768</td><td>1712</td><td>1510</td><td>1133</td><td>899</td><td>677</td><td>589</td><td>587</td><td>472</td><td>355</td><td>390</td><td>296</td><td>259</td><td>217</td><td>160</td><td>58</td><td>20</td><td>0</td><td>11573</td></tr>\n",
       "<tr><td>6</td><td>90543168331</td><td>105.0070078856732</td><td>08e77989-a13f-432...</td><td>2021-08-15</td><td>Phasellus Dapibus...</td><td>furniture, home f...</td><td>c</td><td>take rate: 2.68</td><td>Karen Chapman</td><td>2706 Stewart Oval...</td><td>NSW</td><td>2033</td><td>Female</td><td>407340</td><td>540</td><td>514</td><td>411</td><td>768</td><td>1712</td><td>1510</td><td>1133</td><td>899</td><td>677</td><td>589</td><td>587</td><td>472</td><td>355</td><td>390</td><td>296</td><td>259</td><td>217</td><td>160</td><td>58</td><td>20</td><td>0</td><td>11573</td></tr>\n",
       "<tr><td>6</td><td>96152467973</td><td>14.242179649705214</td><td>0f0f2c74-cd57-454...</td><td>2021-07-15</td><td>Rhoncus Donec Ass...</td><td>tent and awning s...</td><td>b</td><td>take rate: 4.45</td><td>Karen Chapman</td><td>2706 Stewart Oval...</td><td>NSW</td><td>2033</td><td>Female</td><td>407340</td><td>540</td><td>514</td><td>411</td><td>768</td><td>1712</td><td>1510</td><td>1133</td><td>899</td><td>677</td><td>589</td><td>587</td><td>472</td><td>355</td><td>390</td><td>296</td><td>259</td><td>217</td><td>160</td><td>58</td><td>20</td><td>0</td><td>11573</td></tr>\n",
       "<tr><td>6</td><td>79417999332</td><td>107.4286241437849</td><td>edbcfc4f-fa5b-43b...</td><td>2021-07-15</td><td>Phasellus At Company</td><td>gift, card, novel...</td><td>b</td><td>take rate: 4.95</td><td>Karen Chapman</td><td>2706 Stewart Oval...</td><td>NSW</td><td>2033</td><td>Female</td><td>407340</td><td>540</td><td>514</td><td>411</td><td>768</td><td>1712</td><td>1510</td><td>1133</td><td>899</td><td>677</td><td>589</td><td>587</td><td>472</td><td>355</td><td>390</td><td>296</td><td>259</td><td>217</td><td>160</td><td>58</td><td>20</td><td>0</td><td>11573</td></tr>\n",
       "<tr><td>6</td><td>60956456424</td><td>112.20191032646764</td><td>d28459f8-e244-453...</td><td>2021-07-15</td><td>Ultricies Digniss...</td><td>gift, card, novel...</td><td>b</td><td>take rate: 4.69</td><td>Karen Chapman</td><td>2706 Stewart Oval...</td><td>NSW</td><td>2033</td><td>Female</td><td>407340</td><td>540</td><td>514</td><td>411</td><td>768</td><td>1712</td><td>1510</td><td>1133</td><td>899</td><td>677</td><td>589</td><td>587</td><td>472</td><td>355</td><td>390</td><td>296</td><td>259</td><td>217</td><td>160</td><td>58</td><td>20</td><td>0</td><td>11573</td></tr>\n",
       "<tr><td>6</td><td>68216911708</td><td>30.47490425409959</td><td>ae74cca9-50bb-4b4...</td><td>2021-08-16</td><td>Placerat Eget Ven...</td><td>computers, comput...</td><td>c</td><td>take rate: 3.05</td><td>Karen Chapman</td><td>2706 Stewart Oval...</td><td>NSW</td><td>2033</td><td>Female</td><td>407340</td><td>540</td><td>514</td><td>411</td><td>768</td><td>1712</td><td>1510</td><td>1133</td><td>899</td><td>677</td><td>589</td><td>587</td><td>472</td><td>355</td><td>390</td><td>296</td><td>259</td><td>217</td><td>160</td><td>58</td><td>20</td><td>0</td><td>11573</td></tr>\n",
       "<tr><td>6</td><td>89022158521</td><td>702.2333060441221</td><td>945c33f2-ee1c-46a...</td><td>2021-08-16</td><td>Sollicitudin Adip...</td><td>hobby, toy and ga...</td><td>b</td><td>take rate: 4.41</td><td>Karen Chapman</td><td>2706 Stewart Oval...</td><td>NSW</td><td>2033</td><td>Female</td><td>407340</td><td>540</td><td>514</td><td>411</td><td>768</td><td>1712</td><td>1510</td><td>1133</td><td>899</td><td>677</td><td>589</td><td>587</td><td>472</td><td>355</td><td>390</td><td>296</td><td>259</td><td>217</td><td>160</td><td>58</td><td>20</td><td>0</td><td>11573</td></tr>\n",
       "<tr><td>6</td><td>85139489422</td><td>45.03108545612634</td><td>f037bb2c-63ba-444...</td><td>2021-08-13</td><td>Ut Institute</td><td>cable, satellite,...</td><td>b</td><td>take rate: 4.25</td><td>Karen Chapman</td><td>2706 Stewart Oval...</td><td>NSW</td><td>2033</td><td>Female</td><td>407340</td><td>540</td><td>514</td><td>411</td><td>768</td><td>1712</td><td>1510</td><td>1133</td><td>899</td><td>677</td><td>589</td><td>587</td><td>472</td><td>355</td><td>390</td><td>296</td><td>259</td><td>217</td><td>160</td><td>58</td><td>20</td><td>0</td><td>11573</td></tr>\n",
       "<tr><td>6</td><td>27093785141</td><td>104.97438203265574</td><td>7d60529b-598a-410...</td><td>2021-07-16</td><td>Placerat Orci Ins...</td><td>stationery, offic...</td><td>c</td><td>take rate: 2.73</td><td>Karen Chapman</td><td>2706 Stewart Oval...</td><td>NSW</td><td>2033</td><td>Female</td><td>407340</td><td>540</td><td>514</td><td>411</td><td>768</td><td>1712</td><td>1510</td><td>1133</td><td>899</td><td>677</td><td>589</td><td>587</td><td>472</td><td>355</td><td>390</td><td>296</td><td>259</td><td>217</td><td>160</td><td>58</td><td>20</td><td>0</td><td>11573</td></tr>\n",
       "<tr><td>6</td><td>57471217202</td><td>29.929659302890382</td><td>29647eff-eeb3-49d...</td><td>2021-07-16</td><td>A Ultricies Insti...</td><td>gift, card, novel...</td><td>b</td><td>take rate: 4.65</td><td>Karen Chapman</td><td>2706 Stewart Oval...</td><td>NSW</td><td>2033</td><td>Female</td><td>407340</td><td>540</td><td>514</td><td>411</td><td>768</td><td>1712</td><td>1510</td><td>1133</td><td>899</td><td>677</td><td>589</td><td>587</td><td>472</td><td>355</td><td>390</td><td>296</td><td>259</td><td>217</td><td>160</td><td>58</td><td>20</td><td>0</td><td>11573</td></tr>\n",
       "<tr><td>6</td><td>35424691626</td><td>83.22728076308586</td><td>efa47e34-034c-412...</td><td>2021-07-16</td><td>Eu Sem Pellentesq...</td><td>computers, comput...</td><td>b</td><td>take rate: 3.90</td><td>Karen Chapman</td><td>2706 Stewart Oval...</td><td>NSW</td><td>2033</td><td>Female</td><td>407340</td><td>540</td><td>514</td><td>411</td><td>768</td><td>1712</td><td>1510</td><td>1133</td><td>899</td><td>677</td><td>589</td><td>587</td><td>472</td><td>355</td><td>390</td><td>296</td><td>259</td><td>217</td><td>160</td><td>58</td><td>20</td><td>0</td><td>11573</td></tr>\n",
       "<tr><td>6</td><td>91873181182</td><td>57.4489836668131</td><td>01b75e65-62b9-40b...</td><td>2021-06-30</td><td>Sem LLC</td><td>digital goods: bo...</td><td>a</td><td>take rate: 6.00</td><td>Karen Chapman</td><td>2706 Stewart Oval...</td><td>NSW</td><td>2033</td><td>Female</td><td>407340</td><td>540</td><td>514</td><td>411</td><td>768</td><td>1712</td><td>1510</td><td>1133</td><td>899</td><td>677</td><td>589</td><td>587</td><td>472</td><td>355</td><td>390</td><td>296</td><td>259</td><td>217</td><td>160</td><td>58</td><td>20</td><td>0</td><td>11573</td></tr>\n",
       "<tr><td>6</td><td>70893725439</td><td>360.93629723184563</td><td>8e9d33c3-c544-4bf...</td><td>2021-08-06</td><td>Luctus Curabitur ...</td><td>shoe shops</td><td>a</td><td>take rate: 5.56</td><td>Karen Chapman</td><td>2706 Stewart Oval...</td><td>NSW</td><td>2033</td><td>Female</td><td>407340</td><td>540</td><td>514</td><td>411</td><td>768</td><td>1712</td><td>1510</td><td>1133</td><td>899</td><td>677</td><td>589</td><td>587</td><td>472</td><td>355</td><td>390</td><td>296</td><td>259</td><td>217</td><td>160</td><td>58</td><td>20</td><td>0</td><td>11573</td></tr>\n",
       "<tr><td>6</td><td>32361057556</td><td>64.80054430625405</td><td>aacfe39d-3f34-463...</td><td>2021-08-06</td><td>Orci In Consequat...</td><td>gift, card, novel...</td><td>a</td><td>take rate: 6.61</td><td>Karen Chapman</td><td>2706 Stewart Oval...</td><td>NSW</td><td>2033</td><td>Female</td><td>407340</td><td>540</td><td>514</td><td>411</td><td>768</td><td>1712</td><td>1510</td><td>1133</td><td>899</td><td>677</td><td>589</td><td>587</td><td>472</td><td>355</td><td>390</td><td>296</td><td>259</td><td>217</td><td>160</td><td>58</td><td>20</td><td>0</td><td>11573</td></tr>\n",
       "<tr><td>6</td><td>96152467973</td><td>37.720137727011384</td><td>43a10eaf-f7cf-4a2...</td><td>2021-05-28</td><td>Rhoncus Donec Ass...</td><td>tent and awning s...</td><td>b</td><td>take rate: 4.45</td><td>Karen Chapman</td><td>2706 Stewart Oval...</td><td>NSW</td><td>2033</td><td>Female</td><td>407340</td><td>540</td><td>514</td><td>411</td><td>768</td><td>1712</td><td>1510</td><td>1133</td><td>899</td><td>677</td><td>589</td><td>587</td><td>472</td><td>355</td><td>390</td><td>296</td><td>259</td><td>217</td><td>160</td><td>58</td><td>20</td><td>0</td><td>11573</td></tr>\n",
       "</table>\n",
       "only showing top 20 rows\n"
      ],
      "text/plain": [
       "+-------+------------+------------------+--------------------+--------------+--------------------+--------------------+-------------+---------------+-------------+--------------------+-----+--------+------+-----------+---------+---------+-----------+-----------+-----------+-----------+-----------+-----------+-----------+-----------+-----------+-----------+-----------+-----------+-----------+-----------+-----------+-----------+-----------+-----------+------------------+-----+\n",
       "|user_id|merchant_abn|      dollar_value|            order_id|order_datetime|       merchant_name|           prod_desc|revenue_level|      take_rate|consumer_name|             address|state|postcode|gender|consumer_id|0-4 years|5-9 years|10-14 years|15-19 years|20-24 years|25-29 years|30-34 years|35-39 years|40-44 years|45-49 years|50-54 years|55-59 years|60-64 years|65-69 years|70-74 years|75-79 years|80-84 years|85-89 years|90-94 years|95-99 years|100 years and over|Total|\n",
       "+-------+------------+------------------+--------------------+--------------+--------------------+--------------------+-------------+---------------+-------------+--------------------+-----+--------+------+-----------+---------+---------+-----------+-----------+-----------+-----------+-----------+-----------+-----------+-----------+-----------+-----------+-----------+-----------+-----------+-----------+-----------+-----------+-----------+-----------+------------------+-----+\n",
       "|      6| 47086412084| 17.90949324299599|6f67ccf1-d884-4da...|    2021-08-21|        Eros Limited|digital goods: bo...|            c|take rate: 2.52|Karen Chapman|2706 Stewart Oval...|  NSW|    2033|Female|     407340|      540|      514|        411|        768|       1712|       1510|       1133|        899|        677|        589|        587|        472|        355|        390|        296|        259|        217|        160|         58|         20|                 0|11573|\n",
       "|      6| 90651237279| 73.91138243216932|372dd90b-f34f-43b...|    2021-08-21|Dui Nec Incorporated|antique shops - s...|            c|take rate: 1.72|Karen Chapman|2706 Stewart Oval...|  NSW|    2033|Female|     407340|      540|      514|        411|        768|       1712|       1510|       1133|        899|        677|        589|        587|        472|        355|        390|        296|        259|        217|        160|         58|         20|                 0|11573|\n",
       "|      6| 22059270846|39.724564457957754|b433fc0d-e64c-457...|    2021-08-19|Montes Nascetur R...|opticians, optica...|            a|take rate: 6.59|Karen Chapman|2706 Stewart Oval...|  NSW|    2033|Female|     407340|      540|      514|        411|        768|       1712|       1510|       1133|        899|        677|        589|        587|        472|        355|        390|        296|        259|        217|        160|         58|         20|                 0|11573|\n",
       "|      6| 23661821077| 3.866733632735169|dd1ba445-4ec9-410...|    2021-08-19|Suspendisse Eleif...|computer programm...|            c|take rate: 3.00|Karen Chapman|2706 Stewart Oval...|  NSW|    2033|Female|     407340|      540|      514|        411|        768|       1712|       1510|       1133|        899|        677|        589|        587|        472|        355|        390|        296|        259|        217|        160|         58|         20|                 0|11573|\n",
       "|      6| 86578477987| 42.65932172543647|266ddf4f-f2ef-436...|    2021-08-14|   Leo In Consulting|watch, clock, and...|            a|take rate: 6.43|Karen Chapman|2706 Stewart Oval...|  NSW|    2033|Female|     407340|      540|      514|        411|        768|       1712|       1510|       1133|        899|        677|        589|        587|        472|        355|        390|        296|        259|        217|        160|         58|         20|                 0|11573|\n",
       "|      6| 12543580354|233.63159017043435|6b4fb3de-670f-411...|    2021-08-15|    Ut Aliquam Corp.|          shoe shops|            b|take rate: 3.78|Karen Chapman|2706 Stewart Oval...|  NSW|    2033|Female|     407340|      540|      514|        411|        768|       1712|       1510|       1133|        899|        677|        589|        587|        472|        355|        390|        296|        259|        217|        160|         58|         20|                 0|11573|\n",
       "|      6| 90543168331| 105.0070078856732|08e77989-a13f-432...|    2021-08-15|Phasellus Dapibus...|furniture, home f...|            c|take rate: 2.68|Karen Chapman|2706 Stewart Oval...|  NSW|    2033|Female|     407340|      540|      514|        411|        768|       1712|       1510|       1133|        899|        677|        589|        587|        472|        355|        390|        296|        259|        217|        160|         58|         20|                 0|11573|\n",
       "|      6| 96152467973|14.242179649705214|0f0f2c74-cd57-454...|    2021-07-15|Rhoncus Donec Ass...|tent and awning s...|            b|take rate: 4.45|Karen Chapman|2706 Stewart Oval...|  NSW|    2033|Female|     407340|      540|      514|        411|        768|       1712|       1510|       1133|        899|        677|        589|        587|        472|        355|        390|        296|        259|        217|        160|         58|         20|                 0|11573|\n",
       "|      6| 79417999332| 107.4286241437849|edbcfc4f-fa5b-43b...|    2021-07-15|Phasellus At Company|gift, card, novel...|            b|take rate: 4.95|Karen Chapman|2706 Stewart Oval...|  NSW|    2033|Female|     407340|      540|      514|        411|        768|       1712|       1510|       1133|        899|        677|        589|        587|        472|        355|        390|        296|        259|        217|        160|         58|         20|                 0|11573|\n",
       "|      6| 60956456424|112.20191032646764|d28459f8-e244-453...|    2021-07-15|Ultricies Digniss...|gift, card, novel...|            b|take rate: 4.69|Karen Chapman|2706 Stewart Oval...|  NSW|    2033|Female|     407340|      540|      514|        411|        768|       1712|       1510|       1133|        899|        677|        589|        587|        472|        355|        390|        296|        259|        217|        160|         58|         20|                 0|11573|\n",
       "|      6| 68216911708| 30.47490425409959|ae74cca9-50bb-4b4...|    2021-08-16|Placerat Eget Ven...|computers, comput...|            c|take rate: 3.05|Karen Chapman|2706 Stewart Oval...|  NSW|    2033|Female|     407340|      540|      514|        411|        768|       1712|       1510|       1133|        899|        677|        589|        587|        472|        355|        390|        296|        259|        217|        160|         58|         20|                 0|11573|\n",
       "|      6| 89022158521| 702.2333060441221|945c33f2-ee1c-46a...|    2021-08-16|Sollicitudin Adip...|hobby, toy and ga...|            b|take rate: 4.41|Karen Chapman|2706 Stewart Oval...|  NSW|    2033|Female|     407340|      540|      514|        411|        768|       1712|       1510|       1133|        899|        677|        589|        587|        472|        355|        390|        296|        259|        217|        160|         58|         20|                 0|11573|\n",
       "|      6| 85139489422| 45.03108545612634|f037bb2c-63ba-444...|    2021-08-13|        Ut Institute|cable, satellite,...|            b|take rate: 4.25|Karen Chapman|2706 Stewart Oval...|  NSW|    2033|Female|     407340|      540|      514|        411|        768|       1712|       1510|       1133|        899|        677|        589|        587|        472|        355|        390|        296|        259|        217|        160|         58|         20|                 0|11573|\n",
       "|      6| 27093785141|104.97438203265574|7d60529b-598a-410...|    2021-07-16|Placerat Orci Ins...|stationery, offic...|            c|take rate: 2.73|Karen Chapman|2706 Stewart Oval...|  NSW|    2033|Female|     407340|      540|      514|        411|        768|       1712|       1510|       1133|        899|        677|        589|        587|        472|        355|        390|        296|        259|        217|        160|         58|         20|                 0|11573|\n",
       "|      6| 57471217202|29.929659302890382|29647eff-eeb3-49d...|    2021-07-16|A Ultricies Insti...|gift, card, novel...|            b|take rate: 4.65|Karen Chapman|2706 Stewart Oval...|  NSW|    2033|Female|     407340|      540|      514|        411|        768|       1712|       1510|       1133|        899|        677|        589|        587|        472|        355|        390|        296|        259|        217|        160|         58|         20|                 0|11573|\n",
       "|      6| 35424691626| 83.22728076308586|efa47e34-034c-412...|    2021-07-16|Eu Sem Pellentesq...|computers, comput...|            b|take rate: 3.90|Karen Chapman|2706 Stewart Oval...|  NSW|    2033|Female|     407340|      540|      514|        411|        768|       1712|       1510|       1133|        899|        677|        589|        587|        472|        355|        390|        296|        259|        217|        160|         58|         20|                 0|11573|\n",
       "|      6| 91873181182|  57.4489836668131|01b75e65-62b9-40b...|    2021-06-30|             Sem LLC|digital goods: bo...|            a|take rate: 6.00|Karen Chapman|2706 Stewart Oval...|  NSW|    2033|Female|     407340|      540|      514|        411|        768|       1712|       1510|       1133|        899|        677|        589|        587|        472|        355|        390|        296|        259|        217|        160|         58|         20|                 0|11573|\n",
       "|      6| 70893725439|360.93629723184563|8e9d33c3-c544-4bf...|    2021-08-06|Luctus Curabitur ...|          shoe shops|            a|take rate: 5.56|Karen Chapman|2706 Stewart Oval...|  NSW|    2033|Female|     407340|      540|      514|        411|        768|       1712|       1510|       1133|        899|        677|        589|        587|        472|        355|        390|        296|        259|        217|        160|         58|         20|                 0|11573|\n",
       "|      6| 32361057556| 64.80054430625405|aacfe39d-3f34-463...|    2021-08-06|Orci In Consequat...|gift, card, novel...|            a|take rate: 6.61|Karen Chapman|2706 Stewart Oval...|  NSW|    2033|Female|     407340|      540|      514|        411|        768|       1712|       1510|       1133|        899|        677|        589|        587|        472|        355|        390|        296|        259|        217|        160|         58|         20|                 0|11573|\n",
       "|      6| 96152467973|37.720137727011384|43a10eaf-f7cf-4a2...|    2021-05-28|Rhoncus Donec Ass...|tent and awning s...|            b|take rate: 4.45|Karen Chapman|2706 Stewart Oval...|  NSW|    2033|Female|     407340|      540|      514|        411|        768|       1712|       1510|       1133|        899|        677|        589|        587|        472|        355|        390|        296|        259|        217|        160|         58|         20|                 0|11573|\n",
       "+-------+------------+------------------+--------------------+--------------+--------------------+--------------------+-------------+---------------+-------------+--------------------+-----+--------+------+-----------+---------+---------+-----------+-----------+-----------+-----------+-----------+-----------+-----------+-----------+-----------+-----------+-----------+-----------+-----------+-----------+-----------+-----------+-----------+-----------+------------------+-----+\n",
       "only showing top 20 rows"
      ]
     },
     "execution_count": 7,
     "metadata": {},
     "output_type": "execute_result"
    }
   ],
   "source": [
    "age_trans_20210228_20210827_sdf = transaction_20210228_20210827_sdf.join(age_sdf, \n",
    "                                                                        transaction_20210228_20210827_sdf.postcode == age_sdf.postcode,\n",
    "                                                                        \"left\").drop(age_sdf.postcode)\n",
    "age_trans_20210228_20210827_sdf"
   ]
  },
  {
   "cell_type": "code",
   "execution_count": null,
   "metadata": {},
   "outputs": [],
   "source": []
  }
 ],
 "metadata": {
  "kernelspec": {
   "display_name": "Python 3.9.7 ('base')",
   "language": "python",
   "name": "python3"
  },
  "language_info": {
   "codemirror_mode": {
    "name": "ipython",
    "version": 3
   },
   "file_extension": ".py",
   "mimetype": "text/x-python",
   "name": "python",
   "nbconvert_exporter": "python",
   "pygments_lexer": "ipython3",
   "version": "3.9.7"
  },
  "orig_nbformat": 4,
  "vscode": {
   "interpreter": {
    "hash": "40d3a090f54c6569ab1632332b64b2c03c39dcf918b08424e98f38b5ae0af88f"
   }
  }
 },
 "nbformat": 4,
 "nbformat_minor": 2
}
