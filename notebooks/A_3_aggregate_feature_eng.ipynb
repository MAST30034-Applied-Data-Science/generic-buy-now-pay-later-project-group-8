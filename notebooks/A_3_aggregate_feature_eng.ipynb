{
 "cells": [
  {
   "cell_type": "code",
   "execution_count": 1,
   "metadata": {},
   "outputs": [],
   "source": [
    "from pyspark.sql import SparkSession\n",
    "from pyspark.sql import functions as F\n",
    "from pyspark.sql.types import StringType\n",
    "import re"
   ]
  },
  {
   "cell_type": "code",
   "execution_count": 2,
   "metadata": {},
   "outputs": [
    {
     "name": "stderr",
     "output_type": "stream",
     "text": [
      "Setting default log level to \"WARN\".\n",
      "To adjust logging level use sc.setLogLevel(newLevel). For SparkR, use setLogLevel(newLevel).\n"
     ]
    },
    {
     "name": "stdout",
     "output_type": "stream",
     "text": [
      "22/09/12 19:02:55 WARN NativeCodeLoader: Unable to load native-hadoop library for your platform... using builtin-java classes where applicable\n"
     ]
    }
   ],
   "source": [
    "spark = (\n",
    "    SparkSession.builder.appName(\"preprocessing of taxi data\")\n",
    "    .config(\"spark.sql.repl.eagerEval.enabled\", True) \n",
    "    .config(\"spark.sql.parquet.cacheMetadata\", \"true\")\n",
    "    .config(\"spark.sql.session.timeZone\", \"Etc/UTC\")\n",
    "    .config(\"spark.driver.memory\", \"15g\")\n",
    "    .getOrCreate()\n",
    ")"
   ]
  },
  {
   "cell_type": "code",
   "execution_count": 3,
   "metadata": {},
   "outputs": [
    {
     "name": "stderr",
     "output_type": "stream",
     "text": [
      "                                                                                \r"
     ]
    },
    {
     "data": {
      "text/html": [
       "<table border='1'>\n",
       "<tr><th>user_id</th><th>merchant_abn</th><th>dollar_value</th><th>order_id</th><th>order_datetime</th><th>merchant_name</th><th>prod_desc</th><th>revenue_level</th><th>take_rate</th><th>consumer_name</th><th>address</th><th>state</th><th>postcode</th><th>gender</th><th>consumer_id</th></tr>\n",
       "<tr><td>3</td><td>60956456424</td><td>136.6785200286976</td><td>0f09c5a5-784e-447...</td><td>2021-08-20</td><td>Ultricies Digniss...</td><td>gift, card, novel...</td><td>b</td><td>4.6</td><td>Jill Jones MD</td><td>40693 Henry Greens</td><td>NT</td><td>862</td><td>Female</td><td>1194530</td></tr>\n",
       "<tr><td>3</td><td>76819856970</td><td>448.529684285612</td><td>5ace6a24-cdf0-4aa...</td><td>2021-08-20</td><td>Egestas Blandit Ltd</td><td>tent and awning s...</td><td>b</td><td>3.1</td><td>Jill Jones MD</td><td>40693 Henry Greens</td><td>NT</td><td>862</td><td>Female</td><td>1194530</td></tr>\n",
       "<tr><td>3</td><td>34096466752</td><td>301.5793450525113</td><td>6fb1ff48-24bb-4f9...</td><td>2021-08-20</td><td>Nullam Enim Ltd</td><td>computers, comput...</td><td>b</td><td>3.2</td><td>Jill Jones MD</td><td>40693 Henry Greens</td><td>NT</td><td>862</td><td>Female</td><td>1194530</td></tr>\n",
       "<tr><td>3</td><td>17324645993</td><td>13.474545944752698</td><td>4ac6ef24-80dd-4c2...</td><td>2021-08-19</td><td>Eget Metus In Cor...</td><td>tent and awning s...</td><td>a</td><td>5.7</td><td>Jill Jones MD</td><td>40693 Henry Greens</td><td>NT</td><td>862</td><td>Female</td><td>1194530</td></tr>\n",
       "<tr><td>3</td><td>96161808980</td><td>135.71010371116802</td><td>ae78d6ce-a28e-4b4...</td><td>2021-08-22</td><td>Velit Aliquam Cor...</td><td>digital goods: bo...</td><td>a</td><td>7.0</td><td>Jill Jones MD</td><td>40693 Henry Greens</td><td>NT</td><td>862</td><td>Female</td><td>1194530</td></tr>\n",
       "<tr><td>3</td><td>83620670827</td><td>195.78268682763712</td><td>14622aee-0f3b-488...</td><td>2021-08-15</td><td>Curabitur Massa C...</td><td>cable, satellite,...</td><td>b</td><td>3.4</td><td>Jill Jones MD</td><td>40693 Henry Greens</td><td>NT</td><td>862</td><td>Female</td><td>1194530</td></tr>\n",
       "<tr><td>3</td><td>32234779638</td><td>44.74559545873514</td><td>d3f8066f-2a0b-4c1...</td><td>2021-07-15</td><td>null</td><td>null</td><td>null</td><td>null</td><td>Jill Jones MD</td><td>40693 Henry Greens</td><td>NT</td><td>862</td><td>Female</td><td>1194530</td></tr>\n",
       "<tr><td>3</td><td>28935822912</td><td>17.545127019931726</td><td>6c7115ea-1834-40c...</td><td>2021-08-27</td><td>Conubia Nostra Li...</td><td>shoe shops</td><td>c</td><td>2.0</td><td>Jill Jones MD</td><td>40693 Henry Greens</td><td>NT</td><td>862</td><td>Female</td><td>1194530</td></tr>\n",
       "<tr><td>3</td><td>68216911708</td><td>35.93036528757969</td><td>3ff61b95-9e5d-491...</td><td>2021-08-13</td><td>Placerat Eget Ven...</td><td>computers, comput...</td><td>c</td><td>3.0</td><td>Jill Jones MD</td><td>40693 Henry Greens</td><td>NT</td><td>862</td><td>Female</td><td>1194530</td></tr>\n",
       "<tr><td>3</td><td>55090181035</td><td>269.6242486472489</td><td>8710d587-ada5-496...</td><td>2021-07-16</td><td>Dictum Ultricies Ltd</td><td>computer programm...</td><td>a</td><td>6.4</td><td>Jill Jones MD</td><td>40693 Henry Greens</td><td>NT</td><td>862</td><td>Female</td><td>1194530</td></tr>\n",
       "<tr><td>3</td><td>98973094975</td><td>151.54893429376827</td><td>e29db459-769c-425...</td><td>2021-07-23</td><td>Ornare Fusce Inc.</td><td>hobby, toy and ga...</td><td>a</td><td>5.9</td><td>Jill Jones MD</td><td>40693 Henry Greens</td><td>NT</td><td>862</td><td>Female</td><td>1194530</td></tr>\n",
       "<tr><td>3</td><td>37829861545</td><td>268.4254596595962</td><td>cc5564b9-ab81-42e...</td><td>2021-05-21</td><td>Cursus Vestibulum...</td><td>health and beauty...</td><td>b</td><td>3.6</td><td>Jill Jones MD</td><td>40693 Henry Greens</td><td>NT</td><td>862</td><td>Female</td><td>1194530</td></tr>\n",
       "<tr><td>3</td><td>94493496784</td><td>158.33702843749194</td><td>15470643-eb3f-482...</td><td>2021-05-28</td><td>Dictum Phasellus ...</td><td>gift, card, novel...</td><td>a</td><td>5.6</td><td>Jill Jones MD</td><td>40693 Henry Greens</td><td>NT</td><td>862</td><td>Female</td><td>1194530</td></tr>\n",
       "<tr><td>3</td><td>32361057556</td><td>86.82157831333241</td><td>e4b7c32a-edd4-4d3...</td><td>2021-05-20</td><td>Orci In Consequat...</td><td>gift, card, novel...</td><td>a</td><td>6.6</td><td>Jill Jones MD</td><td>40693 Henry Greens</td><td>NT</td><td>862</td><td>Female</td><td>1194530</td></tr>\n",
       "<tr><td>3</td><td>24852446429</td><td>56.53784033105869</td><td>edb49995-fa0d-4a7...</td><td>2021-06-25</td><td>Erat Vitae LLP</td><td>florists supplies...</td><td>c</td><td>2.9</td><td>Jill Jones MD</td><td>40693 Henry Greens</td><td>NT</td><td>862</td><td>Female</td><td>1194530</td></tr>\n",
       "<tr><td>3</td><td>35909341340</td><td>455.16731810453086</td><td>59cc3da5-4be9-49f...</td><td>2021-08-08</td><td>Arcu Sed Eu Incor...</td><td>computer programm...</td><td>b</td><td>4.8</td><td>Jill Jones MD</td><td>40693 Henry Greens</td><td>NT</td><td>862</td><td>Female</td><td>1194530</td></tr>\n",
       "<tr><td>3</td><td>24852446429</td><td>48.614618210973966</td><td>7c1b9c6f-2eeb-47f...</td><td>2021-08-08</td><td>Erat Vitae LLP</td><td>florists supplies...</td><td>c</td><td>2.9</td><td>Jill Jones MD</td><td>40693 Henry Greens</td><td>NT</td><td>862</td><td>Female</td><td>1194530</td></tr>\n",
       "<tr><td>3</td><td>24852446429</td><td>46.31790351791429</td><td>a893fea3-c91d-4c9...</td><td>2021-06-18</td><td>Erat Vitae LLP</td><td>florists supplies...</td><td>c</td><td>2.9</td><td>Jill Jones MD</td><td>40693 Henry Greens</td><td>NT</td><td>862</td><td>Female</td><td>1194530</td></tr>\n",
       "<tr><td>3</td><td>68028409124</td><td>260.48266675882587</td><td>2c6ba551-848d-469...</td><td>2021-07-31</td><td>Tellus Nunc Lectu...</td><td>florists supplies...</td><td>c</td><td>2.6</td><td>Jill Jones MD</td><td>40693 Henry Greens</td><td>NT</td><td>862</td><td>Female</td><td>1194530</td></tr>\n",
       "<tr><td>3</td><td>80324045558</td><td>7.833240854500723</td><td>064e9f2e-3711-495...</td><td>2021-07-31</td><td>Ipsum Dolor Sit C...</td><td>gift, card, novel...</td><td>c</td><td>1.4</td><td>Jill Jones MD</td><td>40693 Henry Greens</td><td>NT</td><td>862</td><td>Female</td><td>1194530</td></tr>\n",
       "</table>\n",
       "only showing top 20 rows\n"
      ],
      "text/plain": [
       "+-------+------------+------------------+--------------------+--------------+--------------------+--------------------+-------------+---------+-------------+------------------+-----+--------+------+-----------+\n",
       "|user_id|merchant_abn|      dollar_value|            order_id|order_datetime|       merchant_name|           prod_desc|revenue_level|take_rate|consumer_name|           address|state|postcode|gender|consumer_id|\n",
       "+-------+------------+------------------+--------------------+--------------+--------------------+--------------------+-------------+---------+-------------+------------------+-----+--------+------+-----------+\n",
       "|      3| 60956456424| 136.6785200286976|0f09c5a5-784e-447...|    2021-08-20|Ultricies Digniss...|gift, card, novel...|            b|      4.6|Jill Jones MD|40693 Henry Greens|   NT|     862|Female|    1194530|\n",
       "|      3| 76819856970|  448.529684285612|5ace6a24-cdf0-4aa...|    2021-08-20| Egestas Blandit Ltd|tent and awning s...|            b|      3.1|Jill Jones MD|40693 Henry Greens|   NT|     862|Female|    1194530|\n",
       "|      3| 34096466752| 301.5793450525113|6fb1ff48-24bb-4f9...|    2021-08-20|     Nullam Enim Ltd|computers, comput...|            b|      3.2|Jill Jones MD|40693 Henry Greens|   NT|     862|Female|    1194530|\n",
       "|      3| 17324645993|13.474545944752698|4ac6ef24-80dd-4c2...|    2021-08-19|Eget Metus In Cor...|tent and awning s...|            a|      5.7|Jill Jones MD|40693 Henry Greens|   NT|     862|Female|    1194530|\n",
       "|      3| 96161808980|135.71010371116802|ae78d6ce-a28e-4b4...|    2021-08-22|Velit Aliquam Cor...|digital goods: bo...|            a|      7.0|Jill Jones MD|40693 Henry Greens|   NT|     862|Female|    1194530|\n",
       "|      3| 83620670827|195.78268682763712|14622aee-0f3b-488...|    2021-08-15|Curabitur Massa C...|cable, satellite,...|            b|      3.4|Jill Jones MD|40693 Henry Greens|   NT|     862|Female|    1194530|\n",
       "|      3| 32234779638| 44.74559545873514|d3f8066f-2a0b-4c1...|    2021-07-15|                null|                null|         null|     null|Jill Jones MD|40693 Henry Greens|   NT|     862|Female|    1194530|\n",
       "|      3| 28935822912|17.545127019931726|6c7115ea-1834-40c...|    2021-08-27|Conubia Nostra Li...|          shoe shops|            c|      2.0|Jill Jones MD|40693 Henry Greens|   NT|     862|Female|    1194530|\n",
       "|      3| 68216911708| 35.93036528757969|3ff61b95-9e5d-491...|    2021-08-13|Placerat Eget Ven...|computers, comput...|            c|      3.0|Jill Jones MD|40693 Henry Greens|   NT|     862|Female|    1194530|\n",
       "|      3| 55090181035| 269.6242486472489|8710d587-ada5-496...|    2021-07-16|Dictum Ultricies Ltd|computer programm...|            a|      6.4|Jill Jones MD|40693 Henry Greens|   NT|     862|Female|    1194530|\n",
       "|      3| 98973094975|151.54893429376827|e29db459-769c-425...|    2021-07-23|   Ornare Fusce Inc.|hobby, toy and ga...|            a|      5.9|Jill Jones MD|40693 Henry Greens|   NT|     862|Female|    1194530|\n",
       "|      3| 37829861545| 268.4254596595962|cc5564b9-ab81-42e...|    2021-05-21|Cursus Vestibulum...|health and beauty...|            b|      3.6|Jill Jones MD|40693 Henry Greens|   NT|     862|Female|    1194530|\n",
       "|      3| 94493496784|158.33702843749194|15470643-eb3f-482...|    2021-05-28|Dictum Phasellus ...|gift, card, novel...|            a|      5.6|Jill Jones MD|40693 Henry Greens|   NT|     862|Female|    1194530|\n",
       "|      3| 32361057556| 86.82157831333241|e4b7c32a-edd4-4d3...|    2021-05-20|Orci In Consequat...|gift, card, novel...|            a|      6.6|Jill Jones MD|40693 Henry Greens|   NT|     862|Female|    1194530|\n",
       "|      3| 24852446429| 56.53784033105869|edb49995-fa0d-4a7...|    2021-06-25|      Erat Vitae LLP|florists supplies...|            c|      2.9|Jill Jones MD|40693 Henry Greens|   NT|     862|Female|    1194530|\n",
       "|      3| 35909341340|455.16731810453086|59cc3da5-4be9-49f...|    2021-08-08|Arcu Sed Eu Incor...|computer programm...|            b|      4.8|Jill Jones MD|40693 Henry Greens|   NT|     862|Female|    1194530|\n",
       "|      3| 24852446429|48.614618210973966|7c1b9c6f-2eeb-47f...|    2021-08-08|      Erat Vitae LLP|florists supplies...|            c|      2.9|Jill Jones MD|40693 Henry Greens|   NT|     862|Female|    1194530|\n",
       "|      3| 24852446429| 46.31790351791429|a893fea3-c91d-4c9...|    2021-06-18|      Erat Vitae LLP|florists supplies...|            c|      2.9|Jill Jones MD|40693 Henry Greens|   NT|     862|Female|    1194530|\n",
       "|      3| 68028409124|260.48266675882587|2c6ba551-848d-469...|    2021-07-31|Tellus Nunc Lectu...|florists supplies...|            c|      2.6|Jill Jones MD|40693 Henry Greens|   NT|     862|Female|    1194530|\n",
       "|      3| 80324045558| 7.833240854500723|064e9f2e-3711-495...|    2021-07-31|Ipsum Dolor Sit C...|gift, card, novel...|            c|      1.4|Jill Jones MD|40693 Henry Greens|   NT|     862|Female|    1194530|\n",
       "+-------+------------+------------------+--------------------+--------------+--------------------+--------------------+-------------+---------+-------------+------------------+-----+--------+------+-----------+\n",
       "only showing top 20 rows"
      ]
     },
     "execution_count": 3,
     "metadata": {},
     "output_type": "execute_result"
    }
   ],
   "source": [
    "transaction_20210228_20210827_sdf = spark.read.parquet(\"../data/curated/transactions_20210228_20210827_all_details\")\n",
    "transaction_20210828_20220227_sdf = spark.read.parquet(\"../data/curated/transactions_20210828_20220227_all_details\")\n",
    "transaction_20220228_20220828_sdf = spark.read.parquet(\"../data/curated/transactions_20220228_20220828_all_details\")\n",
    "transaction_20210228_20210827_sdf"
   ]
  },
  {
   "cell_type": "markdown",
   "metadata": {},
   "source": [
    "# Obtaining month from dates"
   ]
  },
  {
   "cell_type": "code",
   "execution_count": 4,
   "metadata": {},
   "outputs": [
    {
     "data": {
      "text/html": [
       "<table border='1'>\n",
       "<tr><th>user_id</th><th>merchant_abn</th><th>dollar_value</th><th>order_id</th><th>order_datetime</th><th>merchant_name</th><th>prod_desc</th><th>revenue_level</th><th>take_rate</th><th>consumer_name</th><th>address</th><th>state</th><th>postcode</th><th>gender</th><th>consumer_id</th><th>month</th></tr>\n",
       "<tr><td>3</td><td>60956456424</td><td>136.6785200286976</td><td>0f09c5a5-784e-447...</td><td>2021-08-20</td><td>Ultricies Digniss...</td><td>gift, card, novel...</td><td>b</td><td>4.6</td><td>Jill Jones MD</td><td>40693 Henry Greens</td><td>NT</td><td>862</td><td>Female</td><td>1194530</td><td>08</td></tr>\n",
       "<tr><td>3</td><td>76819856970</td><td>448.529684285612</td><td>5ace6a24-cdf0-4aa...</td><td>2021-08-20</td><td>Egestas Blandit Ltd</td><td>tent and awning s...</td><td>b</td><td>3.1</td><td>Jill Jones MD</td><td>40693 Henry Greens</td><td>NT</td><td>862</td><td>Female</td><td>1194530</td><td>08</td></tr>\n",
       "<tr><td>3</td><td>34096466752</td><td>301.5793450525113</td><td>6fb1ff48-24bb-4f9...</td><td>2021-08-20</td><td>Nullam Enim Ltd</td><td>computers, comput...</td><td>b</td><td>3.2</td><td>Jill Jones MD</td><td>40693 Henry Greens</td><td>NT</td><td>862</td><td>Female</td><td>1194530</td><td>08</td></tr>\n",
       "<tr><td>3</td><td>17324645993</td><td>13.474545944752698</td><td>4ac6ef24-80dd-4c2...</td><td>2021-08-19</td><td>Eget Metus In Cor...</td><td>tent and awning s...</td><td>a</td><td>5.7</td><td>Jill Jones MD</td><td>40693 Henry Greens</td><td>NT</td><td>862</td><td>Female</td><td>1194530</td><td>08</td></tr>\n",
       "<tr><td>3</td><td>96161808980</td><td>135.71010371116802</td><td>ae78d6ce-a28e-4b4...</td><td>2021-08-22</td><td>Velit Aliquam Cor...</td><td>digital goods: bo...</td><td>a</td><td>7.0</td><td>Jill Jones MD</td><td>40693 Henry Greens</td><td>NT</td><td>862</td><td>Female</td><td>1194530</td><td>08</td></tr>\n",
       "<tr><td>3</td><td>83620670827</td><td>195.78268682763712</td><td>14622aee-0f3b-488...</td><td>2021-08-15</td><td>Curabitur Massa C...</td><td>cable, satellite,...</td><td>b</td><td>3.4</td><td>Jill Jones MD</td><td>40693 Henry Greens</td><td>NT</td><td>862</td><td>Female</td><td>1194530</td><td>08</td></tr>\n",
       "<tr><td>3</td><td>32234779638</td><td>44.74559545873514</td><td>d3f8066f-2a0b-4c1...</td><td>2021-07-15</td><td>null</td><td>null</td><td>null</td><td>null</td><td>Jill Jones MD</td><td>40693 Henry Greens</td><td>NT</td><td>862</td><td>Female</td><td>1194530</td><td>07</td></tr>\n",
       "<tr><td>3</td><td>28935822912</td><td>17.545127019931726</td><td>6c7115ea-1834-40c...</td><td>2021-08-27</td><td>Conubia Nostra Li...</td><td>shoe shops</td><td>c</td><td>2.0</td><td>Jill Jones MD</td><td>40693 Henry Greens</td><td>NT</td><td>862</td><td>Female</td><td>1194530</td><td>08</td></tr>\n",
       "<tr><td>3</td><td>68216911708</td><td>35.93036528757969</td><td>3ff61b95-9e5d-491...</td><td>2021-08-13</td><td>Placerat Eget Ven...</td><td>computers, comput...</td><td>c</td><td>3.0</td><td>Jill Jones MD</td><td>40693 Henry Greens</td><td>NT</td><td>862</td><td>Female</td><td>1194530</td><td>08</td></tr>\n",
       "<tr><td>3</td><td>55090181035</td><td>269.6242486472489</td><td>8710d587-ada5-496...</td><td>2021-07-16</td><td>Dictum Ultricies Ltd</td><td>computer programm...</td><td>a</td><td>6.4</td><td>Jill Jones MD</td><td>40693 Henry Greens</td><td>NT</td><td>862</td><td>Female</td><td>1194530</td><td>07</td></tr>\n",
       "<tr><td>3</td><td>98973094975</td><td>151.54893429376827</td><td>e29db459-769c-425...</td><td>2021-07-23</td><td>Ornare Fusce Inc.</td><td>hobby, toy and ga...</td><td>a</td><td>5.9</td><td>Jill Jones MD</td><td>40693 Henry Greens</td><td>NT</td><td>862</td><td>Female</td><td>1194530</td><td>07</td></tr>\n",
       "<tr><td>3</td><td>37829861545</td><td>268.4254596595962</td><td>cc5564b9-ab81-42e...</td><td>2021-05-21</td><td>Cursus Vestibulum...</td><td>health and beauty...</td><td>b</td><td>3.6</td><td>Jill Jones MD</td><td>40693 Henry Greens</td><td>NT</td><td>862</td><td>Female</td><td>1194530</td><td>05</td></tr>\n",
       "<tr><td>3</td><td>94493496784</td><td>158.33702843749194</td><td>15470643-eb3f-482...</td><td>2021-05-28</td><td>Dictum Phasellus ...</td><td>gift, card, novel...</td><td>a</td><td>5.6</td><td>Jill Jones MD</td><td>40693 Henry Greens</td><td>NT</td><td>862</td><td>Female</td><td>1194530</td><td>05</td></tr>\n",
       "<tr><td>3</td><td>32361057556</td><td>86.82157831333241</td><td>e4b7c32a-edd4-4d3...</td><td>2021-05-20</td><td>Orci In Consequat...</td><td>gift, card, novel...</td><td>a</td><td>6.6</td><td>Jill Jones MD</td><td>40693 Henry Greens</td><td>NT</td><td>862</td><td>Female</td><td>1194530</td><td>05</td></tr>\n",
       "<tr><td>3</td><td>24852446429</td><td>56.53784033105869</td><td>edb49995-fa0d-4a7...</td><td>2021-06-25</td><td>Erat Vitae LLP</td><td>florists supplies...</td><td>c</td><td>2.9</td><td>Jill Jones MD</td><td>40693 Henry Greens</td><td>NT</td><td>862</td><td>Female</td><td>1194530</td><td>06</td></tr>\n",
       "<tr><td>3</td><td>35909341340</td><td>455.16731810453086</td><td>59cc3da5-4be9-49f...</td><td>2021-08-08</td><td>Arcu Sed Eu Incor...</td><td>computer programm...</td><td>b</td><td>4.8</td><td>Jill Jones MD</td><td>40693 Henry Greens</td><td>NT</td><td>862</td><td>Female</td><td>1194530</td><td>08</td></tr>\n",
       "<tr><td>3</td><td>24852446429</td><td>48.614618210973966</td><td>7c1b9c6f-2eeb-47f...</td><td>2021-08-08</td><td>Erat Vitae LLP</td><td>florists supplies...</td><td>c</td><td>2.9</td><td>Jill Jones MD</td><td>40693 Henry Greens</td><td>NT</td><td>862</td><td>Female</td><td>1194530</td><td>08</td></tr>\n",
       "<tr><td>3</td><td>24852446429</td><td>46.31790351791429</td><td>a893fea3-c91d-4c9...</td><td>2021-06-18</td><td>Erat Vitae LLP</td><td>florists supplies...</td><td>c</td><td>2.9</td><td>Jill Jones MD</td><td>40693 Henry Greens</td><td>NT</td><td>862</td><td>Female</td><td>1194530</td><td>06</td></tr>\n",
       "<tr><td>3</td><td>68028409124</td><td>260.48266675882587</td><td>2c6ba551-848d-469...</td><td>2021-07-31</td><td>Tellus Nunc Lectu...</td><td>florists supplies...</td><td>c</td><td>2.6</td><td>Jill Jones MD</td><td>40693 Henry Greens</td><td>NT</td><td>862</td><td>Female</td><td>1194530</td><td>07</td></tr>\n",
       "<tr><td>3</td><td>80324045558</td><td>7.833240854500723</td><td>064e9f2e-3711-495...</td><td>2021-07-31</td><td>Ipsum Dolor Sit C...</td><td>gift, card, novel...</td><td>c</td><td>1.4</td><td>Jill Jones MD</td><td>40693 Henry Greens</td><td>NT</td><td>862</td><td>Female</td><td>1194530</td><td>07</td></tr>\n",
       "</table>\n",
       "only showing top 20 rows\n"
      ],
      "text/plain": [
       "+-------+------------+------------------+--------------------+--------------+--------------------+--------------------+-------------+---------+-------------+------------------+-----+--------+------+-----------+-----+\n",
       "|user_id|merchant_abn|      dollar_value|            order_id|order_datetime|       merchant_name|           prod_desc|revenue_level|take_rate|consumer_name|           address|state|postcode|gender|consumer_id|month|\n",
       "+-------+------------+------------------+--------------------+--------------+--------------------+--------------------+-------------+---------+-------------+------------------+-----+--------+------+-----------+-----+\n",
       "|      3| 60956456424| 136.6785200286976|0f09c5a5-784e-447...|    2021-08-20|Ultricies Digniss...|gift, card, novel...|            b|      4.6|Jill Jones MD|40693 Henry Greens|   NT|     862|Female|    1194530|   08|\n",
       "|      3| 76819856970|  448.529684285612|5ace6a24-cdf0-4aa...|    2021-08-20| Egestas Blandit Ltd|tent and awning s...|            b|      3.1|Jill Jones MD|40693 Henry Greens|   NT|     862|Female|    1194530|   08|\n",
       "|      3| 34096466752| 301.5793450525113|6fb1ff48-24bb-4f9...|    2021-08-20|     Nullam Enim Ltd|computers, comput...|            b|      3.2|Jill Jones MD|40693 Henry Greens|   NT|     862|Female|    1194530|   08|\n",
       "|      3| 17324645993|13.474545944752698|4ac6ef24-80dd-4c2...|    2021-08-19|Eget Metus In Cor...|tent and awning s...|            a|      5.7|Jill Jones MD|40693 Henry Greens|   NT|     862|Female|    1194530|   08|\n",
       "|      3| 96161808980|135.71010371116802|ae78d6ce-a28e-4b4...|    2021-08-22|Velit Aliquam Cor...|digital goods: bo...|            a|      7.0|Jill Jones MD|40693 Henry Greens|   NT|     862|Female|    1194530|   08|\n",
       "|      3| 83620670827|195.78268682763712|14622aee-0f3b-488...|    2021-08-15|Curabitur Massa C...|cable, satellite,...|            b|      3.4|Jill Jones MD|40693 Henry Greens|   NT|     862|Female|    1194530|   08|\n",
       "|      3| 32234779638| 44.74559545873514|d3f8066f-2a0b-4c1...|    2021-07-15|                null|                null|         null|     null|Jill Jones MD|40693 Henry Greens|   NT|     862|Female|    1194530|   07|\n",
       "|      3| 28935822912|17.545127019931726|6c7115ea-1834-40c...|    2021-08-27|Conubia Nostra Li...|          shoe shops|            c|      2.0|Jill Jones MD|40693 Henry Greens|   NT|     862|Female|    1194530|   08|\n",
       "|      3| 68216911708| 35.93036528757969|3ff61b95-9e5d-491...|    2021-08-13|Placerat Eget Ven...|computers, comput...|            c|      3.0|Jill Jones MD|40693 Henry Greens|   NT|     862|Female|    1194530|   08|\n",
       "|      3| 55090181035| 269.6242486472489|8710d587-ada5-496...|    2021-07-16|Dictum Ultricies Ltd|computer programm...|            a|      6.4|Jill Jones MD|40693 Henry Greens|   NT|     862|Female|    1194530|   07|\n",
       "|      3| 98973094975|151.54893429376827|e29db459-769c-425...|    2021-07-23|   Ornare Fusce Inc.|hobby, toy and ga...|            a|      5.9|Jill Jones MD|40693 Henry Greens|   NT|     862|Female|    1194530|   07|\n",
       "|      3| 37829861545| 268.4254596595962|cc5564b9-ab81-42e...|    2021-05-21|Cursus Vestibulum...|health and beauty...|            b|      3.6|Jill Jones MD|40693 Henry Greens|   NT|     862|Female|    1194530|   05|\n",
       "|      3| 94493496784|158.33702843749194|15470643-eb3f-482...|    2021-05-28|Dictum Phasellus ...|gift, card, novel...|            a|      5.6|Jill Jones MD|40693 Henry Greens|   NT|     862|Female|    1194530|   05|\n",
       "|      3| 32361057556| 86.82157831333241|e4b7c32a-edd4-4d3...|    2021-05-20|Orci In Consequat...|gift, card, novel...|            a|      6.6|Jill Jones MD|40693 Henry Greens|   NT|     862|Female|    1194530|   05|\n",
       "|      3| 24852446429| 56.53784033105869|edb49995-fa0d-4a7...|    2021-06-25|      Erat Vitae LLP|florists supplies...|            c|      2.9|Jill Jones MD|40693 Henry Greens|   NT|     862|Female|    1194530|   06|\n",
       "|      3| 35909341340|455.16731810453086|59cc3da5-4be9-49f...|    2021-08-08|Arcu Sed Eu Incor...|computer programm...|            b|      4.8|Jill Jones MD|40693 Henry Greens|   NT|     862|Female|    1194530|   08|\n",
       "|      3| 24852446429|48.614618210973966|7c1b9c6f-2eeb-47f...|    2021-08-08|      Erat Vitae LLP|florists supplies...|            c|      2.9|Jill Jones MD|40693 Henry Greens|   NT|     862|Female|    1194530|   08|\n",
       "|      3| 24852446429| 46.31790351791429|a893fea3-c91d-4c9...|    2021-06-18|      Erat Vitae LLP|florists supplies...|            c|      2.9|Jill Jones MD|40693 Henry Greens|   NT|     862|Female|    1194530|   06|\n",
       "|      3| 68028409124|260.48266675882587|2c6ba551-848d-469...|    2021-07-31|Tellus Nunc Lectu...|florists supplies...|            c|      2.6|Jill Jones MD|40693 Henry Greens|   NT|     862|Female|    1194530|   07|\n",
       "|      3| 80324045558| 7.833240854500723|064e9f2e-3711-495...|    2021-07-31|Ipsum Dolor Sit C...|gift, card, novel...|            c|      1.4|Jill Jones MD|40693 Henry Greens|   NT|     862|Female|    1194530|   07|\n",
       "+-------+------------+------------------+--------------------+--------------+--------------------+--------------------+-------------+---------+-------------+------------------+-----+--------+------+-----------+-----+\n",
       "only showing top 20 rows"
      ]
     },
     "execution_count": 4,
     "metadata": {},
     "output_type": "execute_result"
    }
   ],
   "source": [
    "transaction_20210228_20210827_sdf = transaction_20210228_20210827_sdf.withColumn(\"month\", F.date_format('order_datetime', 'MM'))\n",
    "transaction_20210828_20220227_sdf = transaction_20210828_20220227_sdf.withColumn(\"month\", F.date_format('order_datetime', 'MM'))\n",
    "transaction_20220228_20220828_sdf = transaction_20220228_20220828_sdf.withColumn(\"month\", F.date_format('order_datetime', 'MM'))\n",
    "transaction_20210228_20210827_sdf"
   ]
  },
  {
   "cell_type": "markdown",
   "metadata": {},
   "source": [
    "# Aggregation for all released transactions\n",
    "collecting by each merchant:\n",
    "- monthly revenue\n",
    "- monthly revenue standard deviation\n",
    "- monthly order numbers\n",
    "- monthly distinct customers\n",
    "- monthly take portion"
   ]
  },
  {
   "cell_type": "code",
   "execution_count": 49,
   "metadata": {},
   "outputs": [
    {
     "data": {
      "text/html": [
       "<table border='1'>\n",
       "<tr><th>merchant_abn</th><th>month</th><th>user_id</th><th>dollar_value</th><th>order_id</th><th>order_datetime</th><th>merchant_name</th><th>prod_desc</th><th>revenue_level</th><th>take_rate</th><th>consumer_name</th><th>address</th><th>state</th><th>postcode</th><th>gender</th><th>consumer_id</th><th>distinct_monthly_consumer_count</th><th>monthly_order_count</th><th>monthly_revenue</th><th>take_portion</th></tr>\n",
       "<tr><td>46012371285</td><td>02</td><td>8630</td><td>520.0048999285881</td><td>944f89fd-e0bb-4af...</td><td>2021-02-28</td><td>A Ultricies Inc.</td><td>books, periodical...</td><td>b</td><td>4.8</td><td>Sara Jackson</td><td>5218 Chase Walk S...</td><td>QLD</td><td>4824</td><td>Female</td><td>436263</td><td>15</td><td>15</td><td>8468.252368960671</td><td>406.47611371011226</td></tr>\n",
       "<tr><td>46012371285</td><td>02</td><td>2860</td><td>704.6535251293501</td><td>6342d431-e4c8-4cd...</td><td>2021-02-28</td><td>A Ultricies Inc.</td><td>books, periodical...</td><td>b</td><td>4.8</td><td>Patricia Francis</td><td>963 Davis Falls</td><td>WA</td><td>6832</td><td>Female</td><td>88737</td><td>15</td><td>15</td><td>8468.252368960671</td><td>406.47611371011226</td></tr>\n",
       "<tr><td>46012371285</td><td>02</td><td>10468</td><td>309.28206440311914</td><td>a1c37e57-5d4e-4a2...</td><td>2021-02-28</td><td>A Ultricies Inc.</td><td>books, periodical...</td><td>b</td><td>4.8</td><td>Vicki Pitts</td><td>5174 Moss Crossin...</td><td>VIC</td><td>3269</td><td>Female</td><td>401208</td><td>15</td><td>15</td><td>8468.252368960671</td><td>406.47611371011226</td></tr>\n",
       "<tr><td>46012371285</td><td>02</td><td>2596</td><td>1539.6360111897984</td><td>09a28589-c3b3-4df...</td><td>2021-02-28</td><td>A Ultricies Inc.</td><td>books, periodical...</td><td>b</td><td>4.8</td><td>Ashley Gardner</td><td>416 Tonya Passage</td><td>NSW</td><td>2075</td><td>Female</td><td>547672</td><td>15</td><td>15</td><td>8468.252368960671</td><td>406.47611371011226</td></tr>\n",
       "<tr><td>46012371285</td><td>02</td><td>23968</td><td>601.0471256457166</td><td>4c278e0c-33ff-417...</td><td>2021-02-28</td><td>A Ultricies Inc.</td><td>books, periodical...</td><td>b</td><td>4.8</td><td>James Gonzales</td><td>88766 Juarez Lock...</td><td>TAS</td><td>7268</td><td>Male</td><td>1123368</td><td>15</td><td>15</td><td>8468.252368960671</td><td>406.47611371011226</td></tr>\n",
       "<tr><td>46012371285</td><td>02</td><td>3830</td><td>614.7830869551526</td><td>6273e424-fe9f-4e7...</td><td>2021-02-28</td><td>A Ultricies Inc.</td><td>books, periodical...</td><td>b</td><td>4.8</td><td>Cheryl Huang MD</td><td>9280 Jessica Turn...</td><td>VIC</td><td>3005</td><td>Female</td><td>1433069</td><td>15</td><td>15</td><td>8468.252368960671</td><td>406.47611371011226</td></tr>\n",
       "<tr><td>46012371285</td><td>02</td><td>19199</td><td>507.1868370194734</td><td>d68949e3-feec-478...</td><td>2021-02-28</td><td>A Ultricies Inc.</td><td>books, periodical...</td><td>b</td><td>4.8</td><td>Jennifer Newton</td><td>5543 Kelli Mounta...</td><td>NSW</td><td>2082</td><td>Female</td><td>704195</td><td>15</td><td>15</td><td>8468.252368960671</td><td>406.47611371011226</td></tr>\n",
       "<tr><td>46012371285</td><td>02</td><td>374</td><td>337.87155609626785</td><td>8aa70834-07b7-40d...</td><td>2021-02-28</td><td>A Ultricies Inc.</td><td>books, periodical...</td><td>b</td><td>4.8</td><td>Erica Wood</td><td>766 Patterson Cap...</td><td>WA</td><td>6361</td><td>Female</td><td>186883</td><td>15</td><td>15</td><td>8468.252368960671</td><td>406.47611371011226</td></tr>\n",
       "<tr><td>46012371285</td><td>02</td><td>21291</td><td>495.39247930245097</td><td>79077155-7af5-463...</td><td>2021-02-28</td><td>A Ultricies Inc.</td><td>books, periodical...</td><td>b</td><td>4.8</td><td>Elaine Collins</td><td>160 Glenn Forks A...</td><td>WA</td><td>6740</td><td>Female</td><td>1480599</td><td>15</td><td>15</td><td>8468.252368960671</td><td>406.47611371011226</td></tr>\n",
       "<tr><td>46012371285</td><td>02</td><td>17588</td><td>303.23393013006955</td><td>6c0a083b-63a6-4ee...</td><td>2021-02-28</td><td>A Ultricies Inc.</td><td>books, periodical...</td><td>b</td><td>4.8</td><td>Linda Terry</td><td>925 Shaun Motorwa...</td><td>VIC</td><td>3161</td><td>Female</td><td>482126</td><td>15</td><td>15</td><td>8468.252368960671</td><td>406.47611371011226</td></tr>\n",
       "<tr><td>46012371285</td><td>02</td><td>15662</td><td>785.2620577903323</td><td>c8d4a44d-3b40-4e8...</td><td>2021-02-28</td><td>A Ultricies Inc.</td><td>books, periodical...</td><td>b</td><td>4.8</td><td>Mrs. Kimberly Her...</td><td>255 Michael Villa...</td><td>NSW</td><td>2515</td><td>Female</td><td>1078841</td><td>15</td><td>15</td><td>8468.252368960671</td><td>406.47611371011226</td></tr>\n",
       "<tr><td>46012371285</td><td>02</td><td>12752</td><td>569.3152691372223</td><td>8b0bc7c4-1e80-4dc...</td><td>2021-02-28</td><td>A Ultricies Inc.</td><td>books, periodical...</td><td>b</td><td>4.8</td><td>Melissa Jones</td><td>7919 Martinez Isl...</td><td>WA</td><td>6209</td><td>Female</td><td>496893</td><td>15</td><td>15</td><td>8468.252368960671</td><td>406.47611371011226</td></tr>\n",
       "<tr><td>46012371285</td><td>02</td><td>9797</td><td>377.95552918321425</td><td>9c648c19-b81a-4be...</td><td>2021-02-28</td><td>A Ultricies Inc.</td><td>books, periodical...</td><td>b</td><td>4.8</td><td>Tim Brown</td><td>14666 Sherry Exte...</td><td>QLD</td><td>4005</td><td>Male</td><td>1137410</td><td>15</td><td>15</td><td>8468.252368960671</td><td>406.47611371011226</td></tr>\n",
       "<tr><td>46012371285</td><td>02</td><td>8279</td><td>271.6528833915677</td><td>0e1df717-0c9c-41a...</td><td>2021-02-28</td><td>A Ultricies Inc.</td><td>books, periodical...</td><td>b</td><td>4.8</td><td>Lindsay Duncan</td><td>18624 Rich Street...</td><td>NSW</td><td>2360</td><td>Undisclosed</td><td>854777</td><td>15</td><td>15</td><td>8468.252368960671</td><td>406.47611371011226</td></tr>\n",
       "<tr><td>46012371285</td><td>02</td><td>17275</td><td>530.9751136583471</td><td>2e3ebcb3-b25d-440...</td><td>2021-02-28</td><td>A Ultricies Inc.</td><td>books, periodical...</td><td>b</td><td>4.8</td><td>Karen Huang</td><td>919 Alyssa Mall A...</td><td>VIC</td><td>3555</td><td>Female</td><td>818869</td><td>15</td><td>15</td><td>8468.252368960671</td><td>406.47611371011226</td></tr>\n",
       "<tr><td>46012371285</td><td>03</td><td>156</td><td>166.3708302302926</td><td>d68e344e-e242-480...</td><td>2021-03-23</td><td>A Ultricies Inc.</td><td>books, periodical...</td><td>b</td><td>4.8</td><td>Kimberly Gonzalez</td><td>413 Sheri Ranch</td><td>WA</td><td>6412</td><td>Female</td><td>171120</td><td>319</td><td>320</td><td>154230.60155621756</td><td>7403.068874698443</td></tr>\n",
       "<tr><td>46012371285</td><td>03</td><td>14437</td><td>809.9036419254084</td><td>471239fe-025e-45c...</td><td>2021-03-19</td><td>A Ultricies Inc.</td><td>books, periodical...</td><td>b</td><td>4.8</td><td>John Rangel</td><td>7290 Johnson Park...</td><td>WA</td><td>6122</td><td>Male</td><td>1149107</td><td>319</td><td>320</td><td>154230.60155621756</td><td>7403.068874698443</td></tr>\n",
       "<tr><td>46012371285</td><td>03</td><td>1327</td><td>218.3825577692278</td><td>cc51fce8-263e-4b0...</td><td>2021-03-11</td><td>A Ultricies Inc.</td><td>books, periodical...</td><td>b</td><td>4.8</td><td>Cory Jackson</td><td>941 Barrett Views...</td><td>VIC</td><td>3045</td><td>Male</td><td>1350106</td><td>319</td><td>320</td><td>154230.60155621756</td><td>7403.068874698443</td></tr>\n",
       "<tr><td>46012371285</td><td>03</td><td>3835</td><td>242.97791002516638</td><td>27fbc446-9df4-468...</td><td>2021-03-02</td><td>A Ultricies Inc.</td><td>books, periodical...</td><td>b</td><td>4.8</td><td>Joseph Rowe MD</td><td>4539 Lewis Course...</td><td>VIC</td><td>3639</td><td>Male</td><td>1266441</td><td>319</td><td>320</td><td>154230.60155621756</td><td>7403.068874698443</td></tr>\n",
       "<tr><td>46012371285</td><td>03</td><td>3601</td><td>980.4428993058463</td><td>c0dd2e0f-48d2-414...</td><td>2021-03-10</td><td>A Ultricies Inc.</td><td>books, periodical...</td><td>b</td><td>4.8</td><td>Elaine Logan</td><td>662 Candice Cove</td><td>VIC</td><td>3004</td><td>Female</td><td>1025439</td><td>319</td><td>320</td><td>154230.60155621756</td><td>7403.068874698443</td></tr>\n",
       "</table>\n",
       "only showing top 20 rows\n"
      ],
      "text/plain": [
       "+------------+-----+-------+------------------+--------------------+--------------+----------------+--------------------+-------------+---------+--------------------+--------------------+-----+--------+-----------+-----------+-------------------------------+-------------------+------------------+------------------+\n",
       "|merchant_abn|month|user_id|      dollar_value|            order_id|order_datetime|   merchant_name|           prod_desc|revenue_level|take_rate|       consumer_name|             address|state|postcode|     gender|consumer_id|distinct_monthly_consumer_count|monthly_order_count|   monthly_revenue|      take_portion|\n",
       "+------------+-----+-------+------------------+--------------------+--------------+----------------+--------------------+-------------+---------+--------------------+--------------------+-----+--------+-----------+-----------+-------------------------------+-------------------+------------------+------------------+\n",
       "| 46012371285|   02|   8630| 520.0048999285881|944f89fd-e0bb-4af...|    2021-02-28|A Ultricies Inc.|books, periodical...|            b|      4.8|        Sara Jackson|5218 Chase Walk S...|  QLD|    4824|     Female|     436263|                             15|                 15| 8468.252368960671|406.47611371011226|\n",
       "| 46012371285|   02|   2860| 704.6535251293501|6342d431-e4c8-4cd...|    2021-02-28|A Ultricies Inc.|books, periodical...|            b|      4.8|    Patricia Francis|     963 Davis Falls|   WA|    6832|     Female|      88737|                             15|                 15| 8468.252368960671|406.47611371011226|\n",
       "| 46012371285|   02|  10468|309.28206440311914|a1c37e57-5d4e-4a2...|    2021-02-28|A Ultricies Inc.|books, periodical...|            b|      4.8|         Vicki Pitts|5174 Moss Crossin...|  VIC|    3269|     Female|     401208|                             15|                 15| 8468.252368960671|406.47611371011226|\n",
       "| 46012371285|   02|   2596|1539.6360111897984|09a28589-c3b3-4df...|    2021-02-28|A Ultricies Inc.|books, periodical...|            b|      4.8|      Ashley Gardner|   416 Tonya Passage|  NSW|    2075|     Female|     547672|                             15|                 15| 8468.252368960671|406.47611371011226|\n",
       "| 46012371285|   02|  23968| 601.0471256457166|4c278e0c-33ff-417...|    2021-02-28|A Ultricies Inc.|books, periodical...|            b|      4.8|      James Gonzales|88766 Juarez Lock...|  TAS|    7268|       Male|    1123368|                             15|                 15| 8468.252368960671|406.47611371011226|\n",
       "| 46012371285|   02|   3830| 614.7830869551526|6273e424-fe9f-4e7...|    2021-02-28|A Ultricies Inc.|books, periodical...|            b|      4.8|     Cheryl Huang MD|9280 Jessica Turn...|  VIC|    3005|     Female|    1433069|                             15|                 15| 8468.252368960671|406.47611371011226|\n",
       "| 46012371285|   02|  19199| 507.1868370194734|d68949e3-feec-478...|    2021-02-28|A Ultricies Inc.|books, periodical...|            b|      4.8|     Jennifer Newton|5543 Kelli Mounta...|  NSW|    2082|     Female|     704195|                             15|                 15| 8468.252368960671|406.47611371011226|\n",
       "| 46012371285|   02|    374|337.87155609626785|8aa70834-07b7-40d...|    2021-02-28|A Ultricies Inc.|books, periodical...|            b|      4.8|          Erica Wood|766 Patterson Cap...|   WA|    6361|     Female|     186883|                             15|                 15| 8468.252368960671|406.47611371011226|\n",
       "| 46012371285|   02|  21291|495.39247930245097|79077155-7af5-463...|    2021-02-28|A Ultricies Inc.|books, periodical...|            b|      4.8|      Elaine Collins|160 Glenn Forks A...|   WA|    6740|     Female|    1480599|                             15|                 15| 8468.252368960671|406.47611371011226|\n",
       "| 46012371285|   02|  17588|303.23393013006955|6c0a083b-63a6-4ee...|    2021-02-28|A Ultricies Inc.|books, periodical...|            b|      4.8|         Linda Terry|925 Shaun Motorwa...|  VIC|    3161|     Female|     482126|                             15|                 15| 8468.252368960671|406.47611371011226|\n",
       "| 46012371285|   02|  15662| 785.2620577903323|c8d4a44d-3b40-4e8...|    2021-02-28|A Ultricies Inc.|books, periodical...|            b|      4.8|Mrs. Kimberly Her...|255 Michael Villa...|  NSW|    2515|     Female|    1078841|                             15|                 15| 8468.252368960671|406.47611371011226|\n",
       "| 46012371285|   02|  12752| 569.3152691372223|8b0bc7c4-1e80-4dc...|    2021-02-28|A Ultricies Inc.|books, periodical...|            b|      4.8|       Melissa Jones|7919 Martinez Isl...|   WA|    6209|     Female|     496893|                             15|                 15| 8468.252368960671|406.47611371011226|\n",
       "| 46012371285|   02|   9797|377.95552918321425|9c648c19-b81a-4be...|    2021-02-28|A Ultricies Inc.|books, periodical...|            b|      4.8|           Tim Brown|14666 Sherry Exte...|  QLD|    4005|       Male|    1137410|                             15|                 15| 8468.252368960671|406.47611371011226|\n",
       "| 46012371285|   02|   8279| 271.6528833915677|0e1df717-0c9c-41a...|    2021-02-28|A Ultricies Inc.|books, periodical...|            b|      4.8|      Lindsay Duncan|18624 Rich Street...|  NSW|    2360|Undisclosed|     854777|                             15|                 15| 8468.252368960671|406.47611371011226|\n",
       "| 46012371285|   02|  17275| 530.9751136583471|2e3ebcb3-b25d-440...|    2021-02-28|A Ultricies Inc.|books, periodical...|            b|      4.8|         Karen Huang|919 Alyssa Mall A...|  VIC|    3555|     Female|     818869|                             15|                 15| 8468.252368960671|406.47611371011226|\n",
       "| 46012371285|   03|    156| 166.3708302302926|d68e344e-e242-480...|    2021-03-23|A Ultricies Inc.|books, periodical...|            b|      4.8|   Kimberly Gonzalez|     413 Sheri Ranch|   WA|    6412|     Female|     171120|                            319|                320|154230.60155621756| 7403.068874698443|\n",
       "| 46012371285|   03|  14437| 809.9036419254084|471239fe-025e-45c...|    2021-03-19|A Ultricies Inc.|books, periodical...|            b|      4.8|         John Rangel|7290 Johnson Park...|   WA|    6122|       Male|    1149107|                            319|                320|154230.60155621756| 7403.068874698443|\n",
       "| 46012371285|   03|   1327| 218.3825577692278|cc51fce8-263e-4b0...|    2021-03-11|A Ultricies Inc.|books, periodical...|            b|      4.8|        Cory Jackson|941 Barrett Views...|  VIC|    3045|       Male|    1350106|                            319|                320|154230.60155621756| 7403.068874698443|\n",
       "| 46012371285|   03|   3835|242.97791002516638|27fbc446-9df4-468...|    2021-03-02|A Ultricies Inc.|books, periodical...|            b|      4.8|      Joseph Rowe MD|4539 Lewis Course...|  VIC|    3639|       Male|    1266441|                            319|                320|154230.60155621756| 7403.068874698443|\n",
       "| 46012371285|   03|   3601| 980.4428993058463|c0dd2e0f-48d2-414...|    2021-03-10|A Ultricies Inc.|books, periodical...|            b|      4.8|        Elaine Logan|    662 Candice Cove|  VIC|    3004|     Female|    1025439|                            319|                320|154230.60155621756| 7403.068874698443|\n",
       "+------------+-----+-------+------------------+--------------------+--------------+----------------+--------------------+-------------+---------+--------------------+--------------------+-----+--------+-----------+-----------+-------------------------------+-------------------+------------------+------------------+\n",
       "only showing top 20 rows"
      ]
     },
     "execution_count": 49,
     "metadata": {},
     "output_type": "execute_result"
    }
   ],
   "source": [
    "# using count() to convert back to dataframe, instead of a grouped object\n",
    "# groupby merchant and month.\n",
    "# get monthly revenue, monthly order numbers, monthly distinct customers\n",
    "\n",
    "count_transaction_20210228_20210827_sdf = transaction_20210228_20210827_sdf \\\n",
    "                                                .groupBy(\"merchant_abn\", \"month\") \\\n",
    "                                                .agg(F.countDistinct(\"consumer_id\"),\n",
    "                                                     F.count(\"merchant_abn\"),\n",
    "                                                     F.sum(\"dollar_value\")\n",
    "                                                    )\n",
    "aggregate_transaction_20210228_20210827_sdf = transaction_20210228_20210827_sdf \\\n",
    "                                                .join(count_transaction_20210228_20210827_sdf, \n",
    "                                                       [\"merchant_abn\", \"month\"]) \\\n",
    "                                                .drop_duplicates()\n",
    "# get monthly take portion\n",
    "aggregate_transaction_20210228_20210827_sdf = aggregate_transaction_20210228_20210827_sdf \\\n",
    "                                                .withColumn(\"take_rate\",\n",
    "                                                F.col(\"take_rate\").cast('double'))\n",
    "aggregate_transaction_20210228_20210827_sdf = aggregate_transaction_20210228_20210827_sdf \\\n",
    "                                                .withColumn(\"take_portion\",\n",
    "                                                (F.col(\"take_rate\") / 100) * (F.col(\"sum(dollar_value)\")))\n",
    "\n",
    "aggregate_transaction_20210228_20210827_sdf = aggregate_transaction_20210228_20210827_sdf\\\n",
    "                                                 .withColumnRenamed(\"count(consumer_id)\", \"distinct_monthly_consumer_count\") \\\n",
    "                                                 .withColumnRenamed(\"count(merchant_abn)\", \"monthly_order_count\") \\\n",
    "                                                 .withColumnRenamed(\"sum(dollar_value)\", \"monthly_revenue\")\n",
    "\n",
    "# quick check\n",
    "aggregate_transaction_20210228_20210827_sdf.where(F.col(\"merchant_abn\") == 46012371285).orderBy(\"month\")\n"
   ]
  },
  {
   "cell_type": "code",
   "execution_count": 51,
   "metadata": {},
   "outputs": [
    {
     "name": "stderr",
     "output_type": "stream",
     "text": [
      "                                                                                \r"
     ]
    },
    {
     "data": {
      "text/html": [
       "<table border='1'>\n",
       "<tr><th>merchant_abn</th><th>month</th><th>user_id</th><th>dollar_value</th><th>order_id</th><th>order_datetime</th><th>merchant_name</th><th>prod_desc</th><th>revenue_level</th><th>take_rate</th><th>consumer_name</th><th>address</th><th>state</th><th>postcode</th><th>gender</th><th>consumer_id</th><th>distinct_monthly_consumer_count</th><th>monthly_order_count</th><th>monthly_revenue</th><th>take_portion</th></tr>\n",
       "<tr><td>10192359162</td><td>09</td><td>17871</td><td>163.45848850075987</td><td>79da9fb7-5e59-45e...</td><td>2021-09-05</td><td>Enim Condimentum PC</td><td>music shops - mus...</td><td>a</td><td>6.3</td><td>Karen Mathis</td><td>1603 Holmes Camp ...</td><td>VIC</td><td>3373</td><td>Female</td><td>827726</td><td>13</td><td>13</td><td>4232.756277487095</td><td>266.66364548168696</td></tr>\n",
       "<tr><td>10192359162</td><td>09</td><td>18613</td><td>243.95961514139603</td><td>d468ac33-43ce-4af...</td><td>2021-09-09</td><td>Enim Condimentum PC</td><td>music shops - mus...</td><td>a</td><td>6.3</td><td>Susan Collins</td><td>6813 Justin Wall</td><td>VIC</td><td>3224</td><td>Female</td><td>662119</td><td>13</td><td>13</td><td>4232.756277487095</td><td>266.66364548168696</td></tr>\n",
       "<tr><td>10192359162</td><td>09</td><td>20213</td><td>243.2986102589598</td><td>1f6b4f29-c908-476...</td><td>2021-09-25</td><td>Enim Condimentum PC</td><td>music shops - mus...</td><td>a</td><td>6.3</td><td>Barbara Ruiz</td><td>4472 Humphrey Pra...</td><td>VIC</td><td>3127</td><td>Female</td><td>777120</td><td>13</td><td>13</td><td>4232.756277487095</td><td>266.66364548168696</td></tr>\n",
       "<tr><td>10192359162</td><td>09</td><td>4487</td><td>133.12955672490625</td><td>bfd4a38e-9113-45d...</td><td>2021-09-20</td><td>Enim Condimentum PC</td><td>music shops - mus...</td><td>a</td><td>6.3</td><td>Monica Ferguson</td><td>270 Miller Pine A...</td><td>VIC</td><td>3691</td><td>Female</td><td>293008</td><td>13</td><td>13</td><td>4232.756277487095</td><td>266.66364548168696</td></tr>\n",
       "<tr><td>10192359162</td><td>09</td><td>16195</td><td>601.3713687716552</td><td>0fcc6a72-9ace-4dc...</td><td>2021-09-11</td><td>Enim Condimentum PC</td><td>music shops - mus...</td><td>a</td><td>6.3</td><td>Ms. Nancy Coleman</td><td>0905 Roberts Isla...</td><td>NSW</td><td>2580</td><td>Female</td><td>678525</td><td>13</td><td>13</td><td>4232.756277487095</td><td>266.66364548168696</td></tr>\n",
       "<tr><td>10192359162</td><td>09</td><td>23182</td><td>167.12850029577064</td><td>5a63299c-f640-43b...</td><td>2021-09-07</td><td>Enim Condimentum PC</td><td>music shops - mus...</td><td>a</td><td>6.3</td><td>Brittney Larson</td><td>44240 Schwartz Or...</td><td>WA</td><td>6921</td><td>Female</td><td>1365014</td><td>13</td><td>13</td><td>4232.756277487095</td><td>266.66364548168696</td></tr>\n",
       "<tr><td>10192359162</td><td>09</td><td>4409</td><td>384.7348966145766</td><td>ea1e9e45-fd58-48f...</td><td>2021-09-16</td><td>Enim Condimentum PC</td><td>music shops - mus...</td><td>a</td><td>6.3</td><td>Alicia Roberts</td><td>22165 Newman Moto...</td><td>SA</td><td>5076</td><td>Female</td><td>381525</td><td>13</td><td>13</td><td>4232.756277487095</td><td>266.66364548168696</td></tr>\n",
       "<tr><td>10192359162</td><td>09</td><td>8396</td><td>320.9658915661023</td><td>c18f563b-120f-471...</td><td>2021-09-09</td><td>Enim Condimentum PC</td><td>music shops - mus...</td><td>a</td><td>6.3</td><td>Louis Boyd</td><td>49462 Mark Forges</td><td>NSW</td><td>2002</td><td>Undisclosed</td><td>440460</td><td>13</td><td>13</td><td>4232.756277487095</td><td>266.66364548168696</td></tr>\n",
       "<tr><td>10192359162</td><td>09</td><td>20308</td><td>631.1594496545289</td><td>2b7d3779-2689-4be...</td><td>2021-09-25</td><td>Enim Condimentum PC</td><td>music shops - mus...</td><td>a</td><td>6.3</td><td>Cynthia Stone</td><td>14027 Morris Orch...</td><td>VIC</td><td>3860</td><td>Female</td><td>1494728</td><td>13</td><td>13</td><td>4232.756277487095</td><td>266.66364548168696</td></tr>\n",
       "<tr><td>10192359162</td><td>09</td><td>19751</td><td>39.83130664417192</td><td>1c334117-ee10-459...</td><td>2021-09-15</td><td>Enim Condimentum PC</td><td>music shops - mus...</td><td>a</td><td>6.3</td><td>Anthony Camacho</td><td>3688 John Forge</td><td>SA</td><td>5725</td><td>Male</td><td>780757</td><td>13</td><td>13</td><td>4232.756277487095</td><td>266.66364548168696</td></tr>\n",
       "<tr><td>10192359162</td><td>09</td><td>9344</td><td>358.88025524919755</td><td>8c53646c-a713-4ba...</td><td>2021-09-09</td><td>Enim Condimentum PC</td><td>music shops - mus...</td><td>a</td><td>6.3</td><td>Breanna Smith</td><td>7590 Riley Vista ...</td><td>VIC</td><td>3280</td><td>Female</td><td>1229088</td><td>13</td><td>13</td><td>4232.756277487095</td><td>266.66364548168696</td></tr>\n",
       "<tr><td>10192359162</td><td>09</td><td>9138</td><td>878.0532529291235</td><td>c685005c-a136-4fc...</td><td>2021-09-25</td><td>Enim Condimentum PC</td><td>music shops - mus...</td><td>a</td><td>6.3</td><td>Angela Monroe</td><td>8525 Espinoza Lig...</td><td>WA</td><td>6468</td><td>Female</td><td>1487768</td><td>13</td><td>13</td><td>4232.756277487095</td><td>266.66364548168696</td></tr>\n",
       "<tr><td>10192359162</td><td>09</td><td>22840</td><td>66.78508513594699</td><td>00a1e119-35f1-469...</td><td>2021-09-25</td><td>Enim Condimentum PC</td><td>music shops - mus...</td><td>a</td><td>6.3</td><td>David Roberts</td><td>99778 Rose Courts...</td><td>WA</td><td>6412</td><td>Male</td><td>296210</td><td>13</td><td>13</td><td>4232.756277487095</td><td>266.66364548168696</td></tr>\n",
       "<tr><td>10264435225</td><td>09</td><td>720</td><td>65.83204936535645</td><td>63865150-b3bf-40c...</td><td>2021-09-28</td><td>Ipsum Primis Ltd</td><td>watch, clock, and...</td><td>c</td><td>2.3</td><td>Derrick Wade</td><td>87612 Justin Summit</td><td>SA</td><td>5278</td><td>Male</td><td>292050</td><td>232</td><td>233</td><td>29429.05049723851</td><td>676.8681614364857</td></tr>\n",
       "<tr><td>10264435225</td><td>09</td><td>1591</td><td>92.31254674349304</td><td>5e2e5724-5d66-4a4...</td><td>2021-09-23</td><td>Ipsum Primis Ltd</td><td>watch, clock, and...</td><td>c</td><td>2.3</td><td>Brooke Shelton</td><td>71431 Singleton M...</td><td>NSW</td><td>2360</td><td>Female</td><td>1423684</td><td>232</td><td>233</td><td>29429.05049723851</td><td>676.8681614364857</td></tr>\n",
       "<tr><td>10264435225</td><td>09</td><td>1760</td><td>120.60695728244458</td><td>4c42445a-26a8-47d...</td><td>2021-09-14</td><td>Ipsum Primis Ltd</td><td>watch, clock, and...</td><td>c</td><td>2.3</td><td>Jon Fernandez</td><td>41002 Leonard Tur...</td><td>QLD</td><td>4854</td><td>Male</td><td>918668</td><td>232</td><td>233</td><td>29429.05049723851</td><td>676.8681614364857</td></tr>\n",
       "<tr><td>10264435225</td><td>09</td><td>1919</td><td>13.916552290661567</td><td>5129f6bb-af23-457...</td><td>2021-09-27</td><td>Ipsum Primis Ltd</td><td>watch, clock, and...</td><td>c</td><td>2.3</td><td>Lacey Jones</td><td>5574 Wilson Corner</td><td>NT</td><td>847</td><td>Undisclosed</td><td>1084137</td><td>232</td><td>233</td><td>29429.05049723851</td><td>676.8681614364857</td></tr>\n",
       "<tr><td>10264435225</td><td>09</td><td>4066</td><td>228.2315289864436</td><td>99551508-a2c1-46d...</td><td>2021-09-01</td><td>Ipsum Primis Ltd</td><td>watch, clock, and...</td><td>c</td><td>2.3</td><td>Dorothy Garza</td><td>69456 Tyler Track...</td><td>NSW</td><td>1335</td><td>Female</td><td>1114650</td><td>232</td><td>233</td><td>29429.05049723851</td><td>676.8681614364857</td></tr>\n",
       "<tr><td>10264435225</td><td>09</td><td>5866</td><td>84.30865695909476</td><td>d15d3cd1-f439-4fd...</td><td>2021-09-28</td><td>Ipsum Primis Ltd</td><td>watch, clock, and...</td><td>c</td><td>2.3</td><td>Andrew Saunders</td><td>2145 Michelle Mews</td><td>VIC</td><td>3006</td><td>Male</td><td>29010</td><td>232</td><td>233</td><td>29429.05049723851</td><td>676.8681614364857</td></tr>\n",
       "<tr><td>10264435225</td><td>09</td><td>5964</td><td>113.30864796635751</td><td>01cd2b52-fa50-478...</td><td>2021-09-08</td><td>Ipsum Primis Ltd</td><td>watch, clock, and...</td><td>c</td><td>2.3</td><td>Tyler Morrison</td><td>38224 Nelson Mills</td><td>VIC</td><td>3345</td><td>Male</td><td>713427</td><td>232</td><td>233</td><td>29429.05049723851</td><td>676.8681614364857</td></tr>\n",
       "</table>\n",
       "only showing top 20 rows\n"
      ],
      "text/plain": [
       "+------------+-----+-------+------------------+--------------------+--------------+-------------------+--------------------+-------------+---------+-----------------+--------------------+-----+--------+-----------+-----------+-------------------------------+-------------------+-----------------+------------------+\n",
       "|merchant_abn|month|user_id|      dollar_value|            order_id|order_datetime|      merchant_name|           prod_desc|revenue_level|take_rate|    consumer_name|             address|state|postcode|     gender|consumer_id|distinct_monthly_consumer_count|monthly_order_count|  monthly_revenue|      take_portion|\n",
       "+------------+-----+-------+------------------+--------------------+--------------+-------------------+--------------------+-------------+---------+-----------------+--------------------+-----+--------+-----------+-----------+-------------------------------+-------------------+-----------------+------------------+\n",
       "| 10192359162|   09|  17871|163.45848850075987|79da9fb7-5e59-45e...|    2021-09-05|Enim Condimentum PC|music shops - mus...|            a|      6.3|     Karen Mathis|1603 Holmes Camp ...|  VIC|    3373|     Female|     827726|                             13|                 13|4232.756277487095|266.66364548168696|\n",
       "| 10192359162|   09|  18613|243.95961514139603|d468ac33-43ce-4af...|    2021-09-09|Enim Condimentum PC|music shops - mus...|            a|      6.3|    Susan Collins|    6813 Justin Wall|  VIC|    3224|     Female|     662119|                             13|                 13|4232.756277487095|266.66364548168696|\n",
       "| 10192359162|   09|  20213| 243.2986102589598|1f6b4f29-c908-476...|    2021-09-25|Enim Condimentum PC|music shops - mus...|            a|      6.3|     Barbara Ruiz|4472 Humphrey Pra...|  VIC|    3127|     Female|     777120|                             13|                 13|4232.756277487095|266.66364548168696|\n",
       "| 10192359162|   09|   4487|133.12955672490625|bfd4a38e-9113-45d...|    2021-09-20|Enim Condimentum PC|music shops - mus...|            a|      6.3|  Monica Ferguson|270 Miller Pine A...|  VIC|    3691|     Female|     293008|                             13|                 13|4232.756277487095|266.66364548168696|\n",
       "| 10192359162|   09|  16195| 601.3713687716552|0fcc6a72-9ace-4dc...|    2021-09-11|Enim Condimentum PC|music shops - mus...|            a|      6.3|Ms. Nancy Coleman|0905 Roberts Isla...|  NSW|    2580|     Female|     678525|                             13|                 13|4232.756277487095|266.66364548168696|\n",
       "| 10192359162|   09|  23182|167.12850029577064|5a63299c-f640-43b...|    2021-09-07|Enim Condimentum PC|music shops - mus...|            a|      6.3|  Brittney Larson|44240 Schwartz Or...|   WA|    6921|     Female|    1365014|                             13|                 13|4232.756277487095|266.66364548168696|\n",
       "| 10192359162|   09|   4409| 384.7348966145766|ea1e9e45-fd58-48f...|    2021-09-16|Enim Condimentum PC|music shops - mus...|            a|      6.3|   Alicia Roberts|22165 Newman Moto...|   SA|    5076|     Female|     381525|                             13|                 13|4232.756277487095|266.66364548168696|\n",
       "| 10192359162|   09|   8396| 320.9658915661023|c18f563b-120f-471...|    2021-09-09|Enim Condimentum PC|music shops - mus...|            a|      6.3|       Louis Boyd|   49462 Mark Forges|  NSW|    2002|Undisclosed|     440460|                             13|                 13|4232.756277487095|266.66364548168696|\n",
       "| 10192359162|   09|  20308| 631.1594496545289|2b7d3779-2689-4be...|    2021-09-25|Enim Condimentum PC|music shops - mus...|            a|      6.3|    Cynthia Stone|14027 Morris Orch...|  VIC|    3860|     Female|    1494728|                             13|                 13|4232.756277487095|266.66364548168696|\n",
       "| 10192359162|   09|  19751| 39.83130664417192|1c334117-ee10-459...|    2021-09-15|Enim Condimentum PC|music shops - mus...|            a|      6.3|  Anthony Camacho|     3688 John Forge|   SA|    5725|       Male|     780757|                             13|                 13|4232.756277487095|266.66364548168696|\n",
       "| 10192359162|   09|   9344|358.88025524919755|8c53646c-a713-4ba...|    2021-09-09|Enim Condimentum PC|music shops - mus...|            a|      6.3|    Breanna Smith|7590 Riley Vista ...|  VIC|    3280|     Female|    1229088|                             13|                 13|4232.756277487095|266.66364548168696|\n",
       "| 10192359162|   09|   9138| 878.0532529291235|c685005c-a136-4fc...|    2021-09-25|Enim Condimentum PC|music shops - mus...|            a|      6.3|    Angela Monroe|8525 Espinoza Lig...|   WA|    6468|     Female|    1487768|                             13|                 13|4232.756277487095|266.66364548168696|\n",
       "| 10192359162|   09|  22840| 66.78508513594699|00a1e119-35f1-469...|    2021-09-25|Enim Condimentum PC|music shops - mus...|            a|      6.3|    David Roberts|99778 Rose Courts...|   WA|    6412|       Male|     296210|                             13|                 13|4232.756277487095|266.66364548168696|\n",
       "| 10264435225|   09|    720| 65.83204936535645|63865150-b3bf-40c...|    2021-09-28|   Ipsum Primis Ltd|watch, clock, and...|            c|      2.3|     Derrick Wade| 87612 Justin Summit|   SA|    5278|       Male|     292050|                            232|                233|29429.05049723851| 676.8681614364857|\n",
       "| 10264435225|   09|   1591| 92.31254674349304|5e2e5724-5d66-4a4...|    2021-09-23|   Ipsum Primis Ltd|watch, clock, and...|            c|      2.3|   Brooke Shelton|71431 Singleton M...|  NSW|    2360|     Female|    1423684|                            232|                233|29429.05049723851| 676.8681614364857|\n",
       "| 10264435225|   09|   1760|120.60695728244458|4c42445a-26a8-47d...|    2021-09-14|   Ipsum Primis Ltd|watch, clock, and...|            c|      2.3|    Jon Fernandez|41002 Leonard Tur...|  QLD|    4854|       Male|     918668|                            232|                233|29429.05049723851| 676.8681614364857|\n",
       "| 10264435225|   09|   1919|13.916552290661567|5129f6bb-af23-457...|    2021-09-27|   Ipsum Primis Ltd|watch, clock, and...|            c|      2.3|      Lacey Jones|  5574 Wilson Corner|   NT|     847|Undisclosed|    1084137|                            232|                233|29429.05049723851| 676.8681614364857|\n",
       "| 10264435225|   09|   4066| 228.2315289864436|99551508-a2c1-46d...|    2021-09-01|   Ipsum Primis Ltd|watch, clock, and...|            c|      2.3|    Dorothy Garza|69456 Tyler Track...|  NSW|    1335|     Female|    1114650|                            232|                233|29429.05049723851| 676.8681614364857|\n",
       "| 10264435225|   09|   5866| 84.30865695909476|d15d3cd1-f439-4fd...|    2021-09-28|   Ipsum Primis Ltd|watch, clock, and...|            c|      2.3|  Andrew Saunders|  2145 Michelle Mews|  VIC|    3006|       Male|      29010|                            232|                233|29429.05049723851| 676.8681614364857|\n",
       "| 10264435225|   09|   5964|113.30864796635751|01cd2b52-fa50-478...|    2021-09-08|   Ipsum Primis Ltd|watch, clock, and...|            c|      2.3|   Tyler Morrison|  38224 Nelson Mills|  VIC|    3345|       Male|     713427|                            232|                233|29429.05049723851| 676.8681614364857|\n",
       "+------------+-----+-------+------------------+--------------------+--------------+-------------------+--------------------+-------------+---------+-----------------+--------------------+-----+--------+-----------+-----------+-------------------------------+-------------------+-----------------+------------------+\n",
       "only showing top 20 rows"
      ]
     },
     "execution_count": 51,
     "metadata": {},
     "output_type": "execute_result"
    }
   ],
   "source": [
    "# using count() to convert back to dataframe, instead of a grouped object\n",
    "# groupby merchant and month.\n",
    "# get monthly revenue, monthly order numbers, monthly distinct customers\n",
    "\n",
    "count_transaction_20210828_20220227_sdf = transaction_20210828_20220227_sdf \\\n",
    "                                                .groupBy(\"merchant_abn\", \"month\") \\\n",
    "                                                .agg(F.countDistinct(\"consumer_id\"),\n",
    "                                                     F.count(\"merchant_abn\"),\n",
    "                                                     F.sum(\"dollar_value\")\n",
    "                                                    )\n",
    "aggregate_transaction_20210828_20220227_sdf = transaction_20210828_20220227_sdf \\\n",
    "                                                .join(count_transaction_20210828_20220227_sdf, \n",
    "                                                       [\"merchant_abn\", \"month\"]) \\\n",
    "                                                .drop_duplicates()\n",
    "# get monthly take portion\n",
    "aggregate_transaction_20210828_20220227_sdf = aggregate_transaction_20210828_20220227_sdf \\\n",
    "                                                .withColumn(\"take_rate\",\n",
    "                                                F.col(\"take_rate\").cast('double'))\n",
    "aggregate_transaction_20210828_20220227_sdf = aggregate_transaction_20210828_20220227_sdf \\\n",
    "                                                .withColumn(\"take_portion\",\n",
    "                                                (F.col(\"take_rate\") / 100) * (F.col(\"sum(dollar_value)\")))\n",
    "\n",
    "aggregate_transaction_20210828_20220227_sdf = aggregate_transaction_20210828_20220227_sdf\\\n",
    "                                                 .withColumnRenamed(\"count(consumer_id)\", \"distinct_monthly_consumer_count\") \\\n",
    "                                                 .withColumnRenamed(\"count(merchant_abn)\", \"monthly_order_count\") \\\n",
    "                                                 .withColumnRenamed(\"sum(dollar_value)\", \"monthly_revenue\")\n",
    "aggregate_transaction_20210828_20220227_sdf"
   ]
  },
  {
   "cell_type": "code",
   "execution_count": 52,
   "metadata": {},
   "outputs": [
    {
     "name": "stderr",
     "output_type": "stream",
     "text": [
      "                                                                                \r"
     ]
    },
    {
     "data": {
      "text/html": [
       "<table border='1'>\n",
       "<tr><th>merchant_abn</th><th>month</th><th>user_id</th><th>dollar_value</th><th>order_id</th><th>order_datetime</th><th>merchant_name</th><th>prod_desc</th><th>revenue_level</th><th>take_rate</th><th>consumer_name</th><th>address</th><th>state</th><th>postcode</th><th>gender</th><th>consumer_id</th><th>distinct_monthly_consumer_count</th><th>monthly_order_count</th><th>monthly_revenue</th><th>take_portion</th></tr>\n",
       "<tr><td>10023283211</td><td>03</td><td>201</td><td>349.3329692069</td><td>4ff47303-5b2d-4f0...</td><td>2022-03-03</td><td>Felis Limited</td><td>furniture, home f...</td><td>e</td><td>0.1</td><td>Kristen Cordova</td><td>4512 Robles Dale ...</td><td>VIC</td><td>3822</td><td>Female</td><td>511108</td><td>149</td><td>150</td><td>32456.534424828158</td><td>32.456534424828156</td></tr>\n",
       "<tr><td>10023283211</td><td>03</td><td>343</td><td>105.5363273968829</td><td>4d42faba-87ed-49c...</td><td>2022-03-17</td><td>Felis Limited</td><td>furniture, home f...</td><td>e</td><td>0.1</td><td>Kyle House</td><td>27484 Mitchell Isle</td><td>NSW</td><td>2777</td><td>Male</td><td>1280031</td><td>149</td><td>150</td><td>32456.534424828158</td><td>32.456534424828156</td></tr>\n",
       "<tr><td>10023283211</td><td>03</td><td>1991</td><td>412.1978189460957</td><td>d8ce948f-661c-4b6...</td><td>2022-03-24</td><td>Felis Limited</td><td>furniture, home f...</td><td>e</td><td>0.1</td><td>Rachel Hampton</td><td>348 Adam Knolls</td><td>VIC</td><td>3596</td><td>Female</td><td>1129756</td><td>149</td><td>150</td><td>32456.534424828158</td><td>32.456534424828156</td></tr>\n",
       "<tr><td>10023283211</td><td>03</td><td>3671</td><td>143.30928991031547</td><td>6effe5a8-4081-4c1...</td><td>2022-03-11</td><td>Felis Limited</td><td>furniture, home f...</td><td>e</td><td>0.1</td><td>Lori Brown</td><td>914 Katrina Glen</td><td>VIC</td><td>3946</td><td>Female</td><td>1160719</td><td>149</td><td>150</td><td>32456.534424828158</td><td>32.456534424828156</td></tr>\n",
       "<tr><td>10023283211</td><td>03</td><td>3808</td><td>42.44493820892573</td><td>76647936-b01e-4d1...</td><td>2022-03-02</td><td>Felis Limited</td><td>furniture, home f...</td><td>e</td><td>0.1</td><td>Paul White MD</td><td>491 Bird Heights</td><td>NSW</td><td>2217</td><td>Undisclosed</td><td>839816</td><td>149</td><td>150</td><td>32456.534424828158</td><td>32.456534424828156</td></tr>\n",
       "<tr><td>10023283211</td><td>03</td><td>4368</td><td>368.14870451598415</td><td>62cba1ae-a10f-4e4...</td><td>2022-03-20</td><td>Felis Limited</td><td>furniture, home f...</td><td>e</td><td>0.1</td><td>Heidi Daniels</td><td>517 Padilla Alley</td><td>NSW</td><td>2568</td><td>Female</td><td>587808</td><td>149</td><td>150</td><td>32456.534424828158</td><td>32.456534424828156</td></tr>\n",
       "<tr><td>10023283211</td><td>03</td><td>7448</td><td>78.11905768996071</td><td>44cc5d30-0b08-47f...</td><td>2022-03-29</td><td>Felis Limited</td><td>furniture, home f...</td><td>e</td><td>0.1</td><td>April Lee</td><td>019 Mosley Vista ...</td><td>TAS</td><td>7030</td><td>Female</td><td>553188</td><td>149</td><td>150</td><td>32456.534424828158</td><td>32.456534424828156</td></tr>\n",
       "<tr><td>10023283211</td><td>03</td><td>8048</td><td>449.197244571987</td><td>29048534-c2e7-4a2...</td><td>2022-03-03</td><td>Felis Limited</td><td>furniture, home f...</td><td>e</td><td>0.1</td><td>Laura Flores</td><td>8334 Emily Spur A...</td><td>NSW</td><td>2880</td><td>Female</td><td>1236175</td><td>149</td><td>150</td><td>32456.534424828158</td><td>32.456534424828156</td></tr>\n",
       "<tr><td>10023283211</td><td>03</td><td>10608</td><td>34.03204257479698</td><td>7dae099d-ba3f-470...</td><td>2022-03-14</td><td>Felis Limited</td><td>furniture, home f...</td><td>e</td><td>0.1</td><td>Jesse Howard</td><td>23711 Johnston St...</td><td>NSW</td><td>1005</td><td>Male</td><td>413190</td><td>149</td><td>150</td><td>32456.534424828158</td><td>32.456534424828156</td></tr>\n",
       "<tr><td>10023283211</td><td>03</td><td>18966</td><td>173.7380133865698</td><td>44ba6254-ffd8-465...</td><td>2022-03-16</td><td>Felis Limited</td><td>furniture, home f...</td><td>e</td><td>0.1</td><td>Sarah Freeman</td><td>52452 Garcia Mall...</td><td>QLD</td><td>4004</td><td>Female</td><td>621676</td><td>149</td><td>150</td><td>32456.534424828158</td><td>32.456534424828156</td></tr>\n",
       "<tr><td>10023283211</td><td>03</td><td>22951</td><td>127.32842681422679</td><td>44438f52-69e6-467...</td><td>2022-03-29</td><td>Felis Limited</td><td>furniture, home f...</td><td>e</td><td>0.1</td><td>Dale Tucker</td><td>5918 Morgan Pass ...</td><td>SA</td><td>5381</td><td>Male</td><td>931054</td><td>149</td><td>150</td><td>32456.534424828158</td><td>32.456534424828156</td></tr>\n",
       "<tr><td>10023283211</td><td>03</td><td>2124</td><td>122.39038956802692</td><td>56b0a295-0cdb-4a9...</td><td>2022-03-23</td><td>Felis Limited</td><td>furniture, home f...</td><td>e</td><td>0.1</td><td>Nancy Colon</td><td>94572 Chase Wells</td><td>SA</td><td>5600</td><td>Undisclosed</td><td>86968</td><td>149</td><td>150</td><td>32456.534424828158</td><td>32.456534424828156</td></tr>\n",
       "<tr><td>10023283211</td><td>03</td><td>3229</td><td>389.22066682628093</td><td>64fcc37f-2072-492...</td><td>2022-03-03</td><td>Felis Limited</td><td>furniture, home f...</td><td>e</td><td>0.1</td><td>Adrian Berry IV</td><td>79106 Spencer Roads</td><td>NSW</td><td>2891</td><td>Male</td><td>320052</td><td>149</td><td>150</td><td>32456.534424828158</td><td>32.456534424828156</td></tr>\n",
       "<tr><td>10023283211</td><td>03</td><td>4309</td><td>131.27618527253603</td><td>c8c916e3-073b-43f...</td><td>2022-03-16</td><td>Felis Limited</td><td>furniture, home f...</td><td>e</td><td>0.1</td><td>Marcus Jenkins</td><td>9039 Michael Cape</td><td>VIC</td><td>3085</td><td>Male</td><td>499521</td><td>149</td><td>150</td><td>32456.534424828158</td><td>32.456534424828156</td></tr>\n",
       "<tr><td>10023283211</td><td>03</td><td>5278</td><td>152.02298531479858</td><td>0e4892f1-e38e-4e6...</td><td>2022-03-06</td><td>Felis Limited</td><td>furniture, home f...</td><td>e</td><td>0.1</td><td>Kaitlyn Le</td><td>26336 Kara Plains...</td><td>QLD</td><td>4064</td><td>Female</td><td>382826</td><td>149</td><td>150</td><td>32456.534424828158</td><td>32.456534424828156</td></tr>\n",
       "<tr><td>10023283211</td><td>03</td><td>6166</td><td>377.66040423013067</td><td>c96024cd-161c-456...</td><td>2022-03-06</td><td>Felis Limited</td><td>furniture, home f...</td><td>e</td><td>0.1</td><td>Sheila Barker</td><td>4372 Watkins Isle...</td><td>VIC</td><td>3435</td><td>Female</td><td>304432</td><td>149</td><td>150</td><td>32456.534424828158</td><td>32.456534424828156</td></tr>\n",
       "<tr><td>10023283211</td><td>03</td><td>6197</td><td>266.05918443185715</td><td>6a17b0c6-8ee3-489...</td><td>2022-03-31</td><td>Felis Limited</td><td>furniture, home f...</td><td>e</td><td>0.1</td><td>Samantha Gonzalez</td><td>230 Dillon Cliffs</td><td>NSW</td><td>2833</td><td>Female</td><td>954928</td><td>149</td><td>150</td><td>32456.534424828158</td><td>32.456534424828156</td></tr>\n",
       "<tr><td>10023283211</td><td>03</td><td>6371</td><td>82.36689029005277</td><td>ff5a50d8-1fe2-4e4...</td><td>2022-03-10</td><td>Felis Limited</td><td>furniture, home f...</td><td>e</td><td>0.1</td><td>Drew Chen</td><td>47584 Courtney Ca...</td><td>NSW</td><td>2036</td><td>Male</td><td>1475929</td><td>149</td><td>150</td><td>32456.534424828158</td><td>32.456534424828156</td></tr>\n",
       "<tr><td>10023283211</td><td>03</td><td>9183</td><td>163.08739685114188</td><td>0fcffab9-790c-4de...</td><td>2022-03-18</td><td>Felis Limited</td><td>furniture, home f...</td><td>e</td><td>0.1</td><td>Stacey Hall</td><td>450 Wendy Centers</td><td>WA</td><td>6951</td><td>Female</td><td>732020</td><td>149</td><td>150</td><td>32456.534424828158</td><td>32.456534424828156</td></tr>\n",
       "<tr><td>10023283211</td><td>03</td><td>10410</td><td>239.92546156905553</td><td>60861f41-60b2-4dc...</td><td>2022-03-07</td><td>Felis Limited</td><td>furniture, home f...</td><td>e</td><td>0.1</td><td>Tiffany Edwards</td><td>8617 Wright Knoll...</td><td>SA</td><td>5019</td><td>Female</td><td>819508</td><td>149</td><td>150</td><td>32456.534424828158</td><td>32.456534424828156</td></tr>\n",
       "</table>\n",
       "only showing top 20 rows\n"
      ],
      "text/plain": [
       "+------------+-----+-------+------------------+--------------------+--------------+-------------+--------------------+-------------+---------+-----------------+--------------------+-----+--------+-----------+-----------+-------------------------------+-------------------+------------------+------------------+\n",
       "|merchant_abn|month|user_id|      dollar_value|            order_id|order_datetime|merchant_name|           prod_desc|revenue_level|take_rate|    consumer_name|             address|state|postcode|     gender|consumer_id|distinct_monthly_consumer_count|monthly_order_count|   monthly_revenue|      take_portion|\n",
       "+------------+-----+-------+------------------+--------------------+--------------+-------------+--------------------+-------------+---------+-----------------+--------------------+-----+--------+-----------+-----------+-------------------------------+-------------------+------------------+------------------+\n",
       "| 10023283211|   03|    201|    349.3329692069|4ff47303-5b2d-4f0...|    2022-03-03|Felis Limited|furniture, home f...|            e|      0.1|  Kristen Cordova|4512 Robles Dale ...|  VIC|    3822|     Female|     511108|                            149|                150|32456.534424828158|32.456534424828156|\n",
       "| 10023283211|   03|    343| 105.5363273968829|4d42faba-87ed-49c...|    2022-03-17|Felis Limited|furniture, home f...|            e|      0.1|       Kyle House| 27484 Mitchell Isle|  NSW|    2777|       Male|    1280031|                            149|                150|32456.534424828158|32.456534424828156|\n",
       "| 10023283211|   03|   1991| 412.1978189460957|d8ce948f-661c-4b6...|    2022-03-24|Felis Limited|furniture, home f...|            e|      0.1|   Rachel Hampton|     348 Adam Knolls|  VIC|    3596|     Female|    1129756|                            149|                150|32456.534424828158|32.456534424828156|\n",
       "| 10023283211|   03|   3671|143.30928991031547|6effe5a8-4081-4c1...|    2022-03-11|Felis Limited|furniture, home f...|            e|      0.1|       Lori Brown|    914 Katrina Glen|  VIC|    3946|     Female|    1160719|                            149|                150|32456.534424828158|32.456534424828156|\n",
       "| 10023283211|   03|   3808| 42.44493820892573|76647936-b01e-4d1...|    2022-03-02|Felis Limited|furniture, home f...|            e|      0.1|    Paul White MD|    491 Bird Heights|  NSW|    2217|Undisclosed|     839816|                            149|                150|32456.534424828158|32.456534424828156|\n",
       "| 10023283211|   03|   4368|368.14870451598415|62cba1ae-a10f-4e4...|    2022-03-20|Felis Limited|furniture, home f...|            e|      0.1|    Heidi Daniels|   517 Padilla Alley|  NSW|    2568|     Female|     587808|                            149|                150|32456.534424828158|32.456534424828156|\n",
       "| 10023283211|   03|   7448| 78.11905768996071|44cc5d30-0b08-47f...|    2022-03-29|Felis Limited|furniture, home f...|            e|      0.1|        April Lee|019 Mosley Vista ...|  TAS|    7030|     Female|     553188|                            149|                150|32456.534424828158|32.456534424828156|\n",
       "| 10023283211|   03|   8048|  449.197244571987|29048534-c2e7-4a2...|    2022-03-03|Felis Limited|furniture, home f...|            e|      0.1|     Laura Flores|8334 Emily Spur A...|  NSW|    2880|     Female|    1236175|                            149|                150|32456.534424828158|32.456534424828156|\n",
       "| 10023283211|   03|  10608| 34.03204257479698|7dae099d-ba3f-470...|    2022-03-14|Felis Limited|furniture, home f...|            e|      0.1|     Jesse Howard|23711 Johnston St...|  NSW|    1005|       Male|     413190|                            149|                150|32456.534424828158|32.456534424828156|\n",
       "| 10023283211|   03|  18966| 173.7380133865698|44ba6254-ffd8-465...|    2022-03-16|Felis Limited|furniture, home f...|            e|      0.1|    Sarah Freeman|52452 Garcia Mall...|  QLD|    4004|     Female|     621676|                            149|                150|32456.534424828158|32.456534424828156|\n",
       "| 10023283211|   03|  22951|127.32842681422679|44438f52-69e6-467...|    2022-03-29|Felis Limited|furniture, home f...|            e|      0.1|      Dale Tucker|5918 Morgan Pass ...|   SA|    5381|       Male|     931054|                            149|                150|32456.534424828158|32.456534424828156|\n",
       "| 10023283211|   03|   2124|122.39038956802692|56b0a295-0cdb-4a9...|    2022-03-23|Felis Limited|furniture, home f...|            e|      0.1|      Nancy Colon|   94572 Chase Wells|   SA|    5600|Undisclosed|      86968|                            149|                150|32456.534424828158|32.456534424828156|\n",
       "| 10023283211|   03|   3229|389.22066682628093|64fcc37f-2072-492...|    2022-03-03|Felis Limited|furniture, home f...|            e|      0.1|  Adrian Berry IV| 79106 Spencer Roads|  NSW|    2891|       Male|     320052|                            149|                150|32456.534424828158|32.456534424828156|\n",
       "| 10023283211|   03|   4309|131.27618527253603|c8c916e3-073b-43f...|    2022-03-16|Felis Limited|furniture, home f...|            e|      0.1|   Marcus Jenkins|   9039 Michael Cape|  VIC|    3085|       Male|     499521|                            149|                150|32456.534424828158|32.456534424828156|\n",
       "| 10023283211|   03|   5278|152.02298531479858|0e4892f1-e38e-4e6...|    2022-03-06|Felis Limited|furniture, home f...|            e|      0.1|       Kaitlyn Le|26336 Kara Plains...|  QLD|    4064|     Female|     382826|                            149|                150|32456.534424828158|32.456534424828156|\n",
       "| 10023283211|   03|   6166|377.66040423013067|c96024cd-161c-456...|    2022-03-06|Felis Limited|furniture, home f...|            e|      0.1|    Sheila Barker|4372 Watkins Isle...|  VIC|    3435|     Female|     304432|                            149|                150|32456.534424828158|32.456534424828156|\n",
       "| 10023283211|   03|   6197|266.05918443185715|6a17b0c6-8ee3-489...|    2022-03-31|Felis Limited|furniture, home f...|            e|      0.1|Samantha Gonzalez|   230 Dillon Cliffs|  NSW|    2833|     Female|     954928|                            149|                150|32456.534424828158|32.456534424828156|\n",
       "| 10023283211|   03|   6371| 82.36689029005277|ff5a50d8-1fe2-4e4...|    2022-03-10|Felis Limited|furniture, home f...|            e|      0.1|        Drew Chen|47584 Courtney Ca...|  NSW|    2036|       Male|    1475929|                            149|                150|32456.534424828158|32.456534424828156|\n",
       "| 10023283211|   03|   9183|163.08739685114188|0fcffab9-790c-4de...|    2022-03-18|Felis Limited|furniture, home f...|            e|      0.1|      Stacey Hall|   450 Wendy Centers|   WA|    6951|     Female|     732020|                            149|                150|32456.534424828158|32.456534424828156|\n",
       "| 10023283211|   03|  10410|239.92546156905553|60861f41-60b2-4dc...|    2022-03-07|Felis Limited|furniture, home f...|            e|      0.1|  Tiffany Edwards|8617 Wright Knoll...|   SA|    5019|     Female|     819508|                            149|                150|32456.534424828158|32.456534424828156|\n",
       "+------------+-----+-------+------------------+--------------------+--------------+-------------+--------------------+-------------+---------+-----------------+--------------------+-----+--------+-----------+-----------+-------------------------------+-------------------+------------------+------------------+\n",
       "only showing top 20 rows"
      ]
     },
     "execution_count": 52,
     "metadata": {},
     "output_type": "execute_result"
    }
   ],
   "source": [
    "# using count() to convert back to dataframe, instead of a grouped object\n",
    "# groupby merchant and month.\n",
    "# get monthly revenue, monthly order numbers, monthly distinct customers\n",
    "\n",
    "count_transaction_20220228_20220828_sdf = transaction_20220228_20220828_sdf \\\n",
    "                                                .groupBy(\"merchant_abn\", \"month\") \\\n",
    "                                                .agg(F.countDistinct(\"consumer_id\"),\n",
    "                                                     F.count(\"merchant_abn\"),\n",
    "                                                     F.sum(\"dollar_value\")\n",
    "                                                    )\n",
    "aggregate_transaction_20220228_20220828_sdf = transaction_20220228_20220828_sdf \\\n",
    "                                                .join(count_transaction_20220228_20220828_sdf, \n",
    "                                                       [\"merchant_abn\", \"month\"]) \\\n",
    "                                                .drop_duplicates()\n",
    "# get monthly take portion\n",
    "aggregate_transaction_20220228_20220828_sdf = aggregate_transaction_20220228_20220828_sdf \\\n",
    "                                                .withColumn(\"take_rate\",\n",
    "                                                F.col(\"take_rate\").cast('double'))\n",
    "aggregate_transaction_20220228_20220828_sdf = aggregate_transaction_20220228_20220828_sdf \\\n",
    "                                                .withColumn(\"take_portion\",\n",
    "                                                (F.col(\"take_rate\") / 100) * (F.col(\"sum(dollar_value)\")))\n",
    "\n",
    "aggregate_transaction_20220228_20220828_sdf = aggregate_transaction_20220228_20220828_sdf\\\n",
    "                                                 .withColumnRenamed(\"count(consumer_id)\", \"distinct_monthly_consumer_count\") \\\n",
    "                                                 .withColumnRenamed(\"count(merchant_abn)\", \"monthly_order_count\") \\\n",
    "                                                 .withColumnRenamed(\"sum(dollar_value)\", \"monthly_revenue\")\n",
    "aggregate_transaction_20220228_20220828_sdf"
   ]
  },
  {
   "cell_type": "code",
   "execution_count": null,
   "metadata": {},
   "outputs": [],
   "source": []
  }
 ],
 "metadata": {
  "kernelspec": {
   "display_name": "Python 3.9.7 ('base')",
   "language": "python",
   "name": "python3"
  },
  "language_info": {
   "codemirror_mode": {
    "name": "ipython",
    "version": 3
   },
   "file_extension": ".py",
   "mimetype": "text/x-python",
   "name": "python",
   "nbconvert_exporter": "python",
   "pygments_lexer": "ipython3",
   "version": "3.9.7"
  },
  "orig_nbformat": 4,
  "vscode": {
   "interpreter": {
    "hash": "40d3a090f54c6569ab1632332b64b2c03c39dcf918b08424e98f38b5ae0af88f"
   }
  }
 },
 "nbformat": 4,
 "nbformat_minor": 2
}
