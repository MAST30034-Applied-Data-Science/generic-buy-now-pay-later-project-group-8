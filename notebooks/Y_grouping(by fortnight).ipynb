{
 "cells": [
  {
   "cell_type": "code",
   "execution_count": 1,
   "metadata": {},
   "outputs": [],
   "source": [
    "# import libraries\n",
    "from gettext import npgettext\n",
    "import pandas as pd\n",
    "from pyspark.sql import SparkSession\n",
    "from pyspark.sql import functions as F\n",
    "import numpy as np\n",
    "from statistics import mean, stdev\n",
    "\n",
    "import json"
   ]
  },
  {
   "cell_type": "code",
   "execution_count": 2,
   "metadata": {},
   "outputs": [
    {
     "name": "stderr",
     "output_type": "stream",
     "text": [
      "Setting default log level to \"WARN\".\n",
      "To adjust logging level use sc.setLogLevel(newLevel). For SparkR, use setLogLevel(newLevel).\n"
     ]
    },
    {
     "name": "stdout",
     "output_type": "stream",
     "text": [
      "22/09/22 15:45:16 WARN NativeCodeLoader: Unable to load native-hadoop library for your platform... using builtin-java classes where applicable\n",
      "22/09/22 15:45:17 WARN Utils: Service 'SparkUI' could not bind on port 4040. Attempting port 4041.\n"
     ]
    }
   ],
   "source": [
    "# setup spark\n",
    "spark = (\n",
    "    SparkSession.builder.appName(\"aggregate data for first 3 final model variables\")\n",
    "    .config(\"spark.sql.repl.eagerEval.enabled\", True) \n",
    "    .config(\"spark.sql.parquet.cacheMetadata\", \"true\")\n",
    "    .config(\"spark.sql.session.timeZone\", \"Etc/UTC\")\n",
    "    .config(\"spark.driver.memory\", \"15g\")\n",
    "    .getOrCreate()\n",
    ")"
   ]
  },
  {
   "cell_type": "code",
   "execution_count": 3,
   "metadata": {},
   "outputs": [
    {
     "name": "stderr",
     "output_type": "stream",
     "text": [
      "                                                                                \r"
     ]
    }
   ],
   "source": [
    "# import data\n",
    "data1 = spark.read.parquet(\"../data/tables/transactions_20210228_20210827_snapshot/\")\n",
    "data2 = spark.read.parquet(\"../data/tables/transactions_20210828_20220227_snapshot/\")\n",
    "data3 = spark.read.parquet(\"../data/tables/transactions_20220228_20220828_snapshot/\")"
   ]
  },
  {
   "cell_type": "code",
   "execution_count": 4,
   "metadata": {},
   "outputs": [],
   "source": [
    "consumer_lookup = spark.read.parquet(\"../data/tables/consumer_user_details.parquet\")\n",
    "consumer_data = spark.read.option(\"header\",True) \\\n",
    "                         .option(\"inferSchema\",True) \\\n",
    "                         .options(delimiter='|') \\\n",
    "                         .csv(\"../data/tables/tbl_consumer.csv\")"
   ]
  },
  {
   "cell_type": "code",
   "execution_count": 5,
   "metadata": {},
   "outputs": [],
   "source": [
    "data = data1.union(data2)\n",
    "data = data.union(data3)"
   ]
  },
  {
   "cell_type": "code",
   "execution_count": 6,
   "metadata": {},
   "outputs": [],
   "source": [
    "data = data.filter(data[\"order_datetime\"] >= F.lit('2021-03-01')) \\\n",
    "       .filter(data[\"order_datetime\"] <= F.lit('2022-08-14'))\n",
    "\n",
    "data = data.withColumn(\"Week\", F.weekofyear(\"order_datetime\"))\\\n",
    "        .withColumn(\"Year\", F.year(\"order_datetime\"))\\\n",
    "        .withColumn(\"Month\", F.month(\"order_datetime\"))\\\n",
    "        .withColumn(\"Day\", F.dayofmonth(\"order_datetime\"))\\\n",
    "        .withColumn(\"Fortnight\", ((F.col(\"Week\")+1)/2).cast('int'))"
   ]
  },
  {
   "cell_type": "code",
   "execution_count": 7,
   "metadata": {},
   "outputs": [
    {
     "data": {
      "text/html": [
       "<table border='1'>\n",
       "<tr><th>name</th><th>address</th><th>state</th><th>postcode</th><th>gender</th><th>consumer_id</th></tr>\n",
       "<tr><td>Yolanda Williams</td><td>413 Haney Gardens...</td><td>WA</td><td>6935</td><td>Female</td><td>1195503</td></tr>\n",
       "<tr><td>Mary Smith</td><td>3764 Amber Oval</td><td>NSW</td><td>2782</td><td>Female</td><td>179208</td></tr>\n",
       "<tr><td>Jill Jones MD</td><td>40693 Henry Greens</td><td>NT</td><td>862</td><td>Female</td><td>1194530</td></tr>\n",
       "<tr><td>Lindsay Jimenez</td><td>00653 Davenport C...</td><td>NSW</td><td>2780</td><td>Female</td><td>154128</td></tr>\n",
       "<tr><td>Rebecca Blanchard</td><td>9271 Michael Mano...</td><td>WA</td><td>6355</td><td>Female</td><td>712975</td></tr>\n",
       "<tr><td>Karen Chapman</td><td>2706 Stewart Oval...</td><td>NSW</td><td>2033</td><td>Female</td><td>407340</td></tr>\n",
       "<tr><td>Andrea Jones</td><td>122 Brandon Cliff</td><td>QLD</td><td>4606</td><td>Female</td><td>511685</td></tr>\n",
       "<tr><td>Stephen Williams</td><td>6804 Wright Crest...</td><td>WA</td><td>6056</td><td>Male</td><td>448088</td></tr>\n",
       "<tr><td>Stephanie Reyes</td><td>5813 Denise Land ...</td><td>NSW</td><td>2482</td><td>Female</td><td>650435</td></tr>\n",
       "<tr><td>Jillian Gonzales</td><td>461 Ryan Common S...</td><td>VIC</td><td>3220</td><td>Female</td><td>1058499</td></tr>\n",
       "<tr><td>Eugene Lucas</td><td>33983 Kevin Drive...</td><td>VIC</td><td>3063</td><td>Undisclosed</td><td>428325</td></tr>\n",
       "<tr><td>Melissa Jones</td><td>13706 Kimberly Port</td><td>WA</td><td>6743</td><td>Female</td><td>1494640</td></tr>\n",
       "<tr><td>Angela Brown PhD</td><td>0236 Mills Land S...</td><td>QLD</td><td>4673</td><td>Female</td><td>1146717</td></tr>\n",
       "<tr><td>Lance Butler</td><td>8943 Kenneth Camp</td><td>VIC</td><td>3332</td><td>Male</td><td>1343547</td></tr>\n",
       "<tr><td>Paul Abbott</td><td>60495 Ryan Hill</td><td>QLD</td><td>4512</td><td>Male</td><td>1463076</td></tr>\n",
       "<tr><td>Tracy Hart</td><td>9671 Jacob Harbor...</td><td>NSW</td><td>2452</td><td>Male</td><td>1356405</td></tr>\n",
       "<tr><td>Alyssa Wilson</td><td>44353 Nathan Ridge</td><td>VIC</td><td>3719</td><td>Female</td><td>1331093</td></tr>\n",
       "<tr><td>Michael Burnett</td><td>89400 Torres Fort</td><td>NSW</td><td>1109</td><td>Male</td><td>80965</td></tr>\n",
       "<tr><td>Victoria Gonzalez</td><td>68657 Johnson Gle...</td><td>TAS</td><td>7276</td><td>Female</td><td>1226530</td></tr>\n",
       "<tr><td>James Norris</td><td>790 Ramos Landing</td><td>VIC</td><td>3234</td><td>Undisclosed</td><td>1390367</td></tr>\n",
       "</table>\n",
       "only showing top 20 rows\n"
      ],
      "text/plain": [
       "+-----------------+--------------------+-----+--------+-----------+-----------+\n",
       "|             name|             address|state|postcode|     gender|consumer_id|\n",
       "+-----------------+--------------------+-----+--------+-----------+-----------+\n",
       "| Yolanda Williams|413 Haney Gardens...|   WA|    6935|     Female|    1195503|\n",
       "|       Mary Smith|     3764 Amber Oval|  NSW|    2782|     Female|     179208|\n",
       "|    Jill Jones MD|  40693 Henry Greens|   NT|     862|     Female|    1194530|\n",
       "|  Lindsay Jimenez|00653 Davenport C...|  NSW|    2780|     Female|     154128|\n",
       "|Rebecca Blanchard|9271 Michael Mano...|   WA|    6355|     Female|     712975|\n",
       "|    Karen Chapman|2706 Stewart Oval...|  NSW|    2033|     Female|     407340|\n",
       "|     Andrea Jones|   122 Brandon Cliff|  QLD|    4606|     Female|     511685|\n",
       "| Stephen Williams|6804 Wright Crest...|   WA|    6056|       Male|     448088|\n",
       "|  Stephanie Reyes|5813 Denise Land ...|  NSW|    2482|     Female|     650435|\n",
       "| Jillian Gonzales|461 Ryan Common S...|  VIC|    3220|     Female|    1058499|\n",
       "|     Eugene Lucas|33983 Kevin Drive...|  VIC|    3063|Undisclosed|     428325|\n",
       "|    Melissa Jones| 13706 Kimberly Port|   WA|    6743|     Female|    1494640|\n",
       "| Angela Brown PhD|0236 Mills Land S...|  QLD|    4673|     Female|    1146717|\n",
       "|     Lance Butler|   8943 Kenneth Camp|  VIC|    3332|       Male|    1343547|\n",
       "|      Paul Abbott|     60495 Ryan Hill|  QLD|    4512|       Male|    1463076|\n",
       "|       Tracy Hart|9671 Jacob Harbor...|  NSW|    2452|       Male|    1356405|\n",
       "|    Alyssa Wilson|  44353 Nathan Ridge|  VIC|    3719|     Female|    1331093|\n",
       "|  Michael Burnett|   89400 Torres Fort|  NSW|    1109|       Male|      80965|\n",
       "|Victoria Gonzalez|68657 Johnson Gle...|  TAS|    7276|     Female|    1226530|\n",
       "|     James Norris|   790 Ramos Landing|  VIC|    3234|Undisclosed|    1390367|\n",
       "+-----------------+--------------------+-----+--------+-----------+-----------+\n",
       "only showing top 20 rows"
      ]
     },
     "execution_count": 7,
     "metadata": {},
     "output_type": "execute_result"
    }
   ],
   "source": [
    "consumer_data"
   ]
  },
  {
   "cell_type": "code",
   "execution_count": 8,
   "metadata": {},
   "outputs": [],
   "source": [
    "join_df = data.join(consumer_lookup,[\"user_id\"])\n",
    "join_df = join_df.join(consumer_data, [\"consumer_id\"])"
   ]
  },
  {
   "cell_type": "code",
   "execution_count": 9,
   "metadata": {},
   "outputs": [
    {
     "name": "stderr",
     "output_type": "stream",
     "text": [
      "                                                                                \r"
     ]
    },
    {
     "data": {
      "text/html": [
       "<table border='1'>\n",
       "<tr><th>merchant_abn</th><th>order_id</th><th>Week</th><th>Year</th><th>Month</th><th>Day</th><th>Fortnight</th><th>state</th><th>postcode</th></tr>\n",
       "<tr><td>68216911708</td><td>c921263e-489e-45a...</td><td>33</td><td>2021</td><td>8</td><td>21</td><td>17</td><td>NSW</td><td>2021</td></tr>\n",
       "<tr><td>77698107389</td><td>aaea14f5-48e8-4ef...</td><td>33</td><td>2021</td><td>8</td><td>21</td><td>17</td><td>NSW</td><td>2021</td></tr>\n",
       "<tr><td>46451548968</td><td>7e8e7fca-04a1-4f2...</td><td>33</td><td>2021</td><td>8</td><td>19</td><td>17</td><td>NSW</td><td>2021</td></tr>\n",
       "<tr><td>35556933338</td><td>13b0be6a-20b7-439...</td><td>33</td><td>2021</td><td>8</td><td>22</td><td>17</td><td>NSW</td><td>2021</td></tr>\n",
       "<tr><td>91772719127</td><td>3750984f-4313-47d...</td><td>32</td><td>2021</td><td>8</td><td>14</td><td>16</td><td>NSW</td><td>2021</td></tr>\n",
       "<tr><td>29216160692</td><td>f5917c53-caca-4b6...</td><td>32</td><td>2021</td><td>8</td><td>15</td><td>16</td><td>NSW</td><td>2021</td></tr>\n",
       "<tr><td>32234779638</td><td>b9423d5c-9083-4e6...</td><td>28</td><td>2021</td><td>7</td><td>15</td><td>14</td><td>NSW</td><td>2021</td></tr>\n",
       "<tr><td>68216911708</td><td>94fbe85c-434a-4e6...</td><td>28</td><td>2021</td><td>7</td><td>15</td><td>14</td><td>NSW</td><td>2021</td></tr>\n",
       "<tr><td>75034515922</td><td>12e4b9c7-1738-481...</td><td>28</td><td>2021</td><td>7</td><td>15</td><td>14</td><td>NSW</td><td>2021</td></tr>\n",
       "<tr><td>24852446429</td><td>8e65c8ee-67f1-411...</td><td>33</td><td>2021</td><td>8</td><td>16</td><td>17</td><td>NSW</td><td>2021</td></tr>\n",
       "<tr><td>60111071436</td><td>5f7d4237-81ca-4e7...</td><td>34</td><td>2021</td><td>8</td><td>27</td><td>17</td><td>NSW</td><td>2021</td></tr>\n",
       "<tr><td>22019664345</td><td>d0a09e6d-27b9-445...</td><td>29</td><td>2021</td><td>7</td><td>23</td><td>15</td><td>NSW</td><td>2021</td></tr>\n",
       "<tr><td>23338656015</td><td>8104669d-ccf3-43a...</td><td>29</td><td>2021</td><td>7</td><td>23</td><td>15</td><td>NSW</td><td>2021</td></tr>\n",
       "<tr><td>94472466107</td><td>2d9872f8-7bfb-4b9...</td><td>20</td><td>2021</td><td>5</td><td>21</td><td>10</td><td>NSW</td><td>2021</td></tr>\n",
       "<tr><td>79645157255</td><td>81b41437-e167-419...</td><td>20</td><td>2021</td><td>5</td><td>21</td><td>10</td><td>NSW</td><td>2021</td></tr>\n",
       "<tr><td>75244502629</td><td>2ced6917-a1d6-4b3...</td><td>20</td><td>2021</td><td>5</td><td>21</td><td>10</td><td>NSW</td><td>2021</td></tr>\n",
       "<tr><td>25884436429</td><td>dd12bbf6-44ec-42a...</td><td>30</td><td>2021</td><td>7</td><td>30</td><td>15</td><td>NSW</td><td>2021</td></tr>\n",
       "<tr><td>29936037423</td><td>2e825100-9a9c-447...</td><td>21</td><td>2021</td><td>5</td><td>28</td><td>11</td><td>NSW</td><td>2021</td></tr>\n",
       "<tr><td>89726005175</td><td>818c3807-db8f-47a...</td><td>34</td><td>2021</td><td>8</td><td>26</td><td>17</td><td>NSW</td><td>2021</td></tr>\n",
       "<tr><td>68216911708</td><td>ef47dcdf-e73e-437...</td><td>25</td><td>2021</td><td>6</td><td>25</td><td>13</td><td>NSW</td><td>2021</td></tr>\n",
       "</table>\n",
       "only showing top 20 rows\n"
      ],
      "text/plain": [
       "+------------+--------------------+----+----+-----+---+---------+-----+--------+\n",
       "|merchant_abn|            order_id|Week|Year|Month|Day|Fortnight|state|postcode|\n",
       "+------------+--------------------+----+----+-----+---+---------+-----+--------+\n",
       "| 68216911708|c921263e-489e-45a...|  33|2021|    8| 21|       17|  NSW|    2021|\n",
       "| 77698107389|aaea14f5-48e8-4ef...|  33|2021|    8| 21|       17|  NSW|    2021|\n",
       "| 46451548968|7e8e7fca-04a1-4f2...|  33|2021|    8| 19|       17|  NSW|    2021|\n",
       "| 35556933338|13b0be6a-20b7-439...|  33|2021|    8| 22|       17|  NSW|    2021|\n",
       "| 91772719127|3750984f-4313-47d...|  32|2021|    8| 14|       16|  NSW|    2021|\n",
       "| 29216160692|f5917c53-caca-4b6...|  32|2021|    8| 15|       16|  NSW|    2021|\n",
       "| 32234779638|b9423d5c-9083-4e6...|  28|2021|    7| 15|       14|  NSW|    2021|\n",
       "| 68216911708|94fbe85c-434a-4e6...|  28|2021|    7| 15|       14|  NSW|    2021|\n",
       "| 75034515922|12e4b9c7-1738-481...|  28|2021|    7| 15|       14|  NSW|    2021|\n",
       "| 24852446429|8e65c8ee-67f1-411...|  33|2021|    8| 16|       17|  NSW|    2021|\n",
       "| 60111071436|5f7d4237-81ca-4e7...|  34|2021|    8| 27|       17|  NSW|    2021|\n",
       "| 22019664345|d0a09e6d-27b9-445...|  29|2021|    7| 23|       15|  NSW|    2021|\n",
       "| 23338656015|8104669d-ccf3-43a...|  29|2021|    7| 23|       15|  NSW|    2021|\n",
       "| 94472466107|2d9872f8-7bfb-4b9...|  20|2021|    5| 21|       10|  NSW|    2021|\n",
       "| 79645157255|81b41437-e167-419...|  20|2021|    5| 21|       10|  NSW|    2021|\n",
       "| 75244502629|2ced6917-a1d6-4b3...|  20|2021|    5| 21|       10|  NSW|    2021|\n",
       "| 25884436429|dd12bbf6-44ec-42a...|  30|2021|    7| 30|       15|  NSW|    2021|\n",
       "| 29936037423|2e825100-9a9c-447...|  21|2021|    5| 28|       11|  NSW|    2021|\n",
       "| 89726005175|818c3807-db8f-47a...|  34|2021|    8| 26|       17|  NSW|    2021|\n",
       "| 68216911708|ef47dcdf-e73e-437...|  25|2021|    6| 25|       13|  NSW|    2021|\n",
       "+------------+--------------------+----+----+-----+---+---------+-----+--------+\n",
       "only showing top 20 rows"
      ]
     },
     "execution_count": 9,
     "metadata": {},
     "output_type": "execute_result"
    }
   ],
   "source": [
    "join_df.select(\"merchant_abn\",\"order_id\",\"Week\",\"Year\",\"Month\",\"Day\",\"Fortnight\",\"state\",\"postcode\")"
   ]
  },
  {
   "cell_type": "code",
   "execution_count": 38,
   "metadata": {},
   "outputs": [
    {
     "name": "stderr",
     "output_type": "stream",
     "text": [
      "                                                                                \r"
     ]
    },
    {
     "data": {
      "text/html": [
       "<table border='1'>\n",
       "<tr><th>summary</th><th>consumer_id</th><th>user_id</th><th>merchant_abn</th><th>dollar_value</th><th>order_id</th><th>Week</th><th>Year</th><th>Month</th><th>Day</th><th>Fortnight</th><th>name</th><th>address</th><th>state</th><th>postcode</th><th>gender</th></tr>\n",
       "<tr><td>count</td><td>12157084</td><td>12157084</td><td>12157084</td><td>12157084</td><td>12157084</td><td>12157084</td><td>12157084</td><td>12157084</td><td>12157084</td><td>12157084</td><td>12157084</td><td>12157084</td><td>12157084</td><td>12157084</td><td>12157084</td></tr>\n",
       "<tr><td>mean</td><td>753256.278102216</td><td>12039.659402287589</td><td>5.542397773206698...</td><td>166.35215026470865</td><td>null</td><td>26.48216373268458</td><td>2021.4182861613854</td><td>6.562012897171723</td><td>15.814851571314305</td><td>13.491465469844577</td><td>null</td><td>null</td><td>null</td><td>4043.3039628581987</td><td>null</td></tr>\n",
       "<tr><td>stddev</td><td>435525.6477490294</td><td>6951.602269350454</td><td>2.532751109873882E10</td><td>520.5260587786956</td><td>null</td><td>13.602001831795453</td><td>0.49327767899407055</td><td>3.1197910160833513</td><td>8.804069186278074</td><td>6.799815171682457</td><td>null</td><td>null</td><td>null</td><td>1780.7825684916559</td><td>null</td></tr>\n",
       "<tr><td>min</td><td>30</td><td>1</td><td>10023283211</td><td>9.756658099412162E-8</td><td>000000d4-d252-4e2...</td><td>1</td><td>2021</td><td>1</td><td>1</td><td>1</td><td>Aaron Adkins</td><td>000 Barnes Missio...</td><td>ACT</td><td>200</td><td>Female</td></tr>\n",
       "<tr><td>max</td><td>1499867</td><td>24081</td><td>99990536339</td><td>105193.88578925544</td><td>fffffca5-42ab-49d...</td><td>52</td><td>2022</td><td>12</td><td>31</td><td>26</td><td>Zoe Randall</td><td>99994 Krystal Views</td><td>WA</td><td>9999</td><td>Undisclosed</td></tr>\n",
       "</table>\n"
      ],
      "text/plain": [
       "+-------+-----------------+------------------+--------------------+--------------------+--------------------+------------------+-------------------+------------------+------------------+------------------+------------+--------------------+--------+------------------+-----------+\n",
       "|summary|      consumer_id|           user_id|        merchant_abn|        dollar_value|            order_id|              Week|               Year|             Month|               Day|         Fortnight|        name|             address|   state|          postcode|     gender|\n",
       "+-------+-----------------+------------------+--------------------+--------------------+--------------------+------------------+-------------------+------------------+------------------+------------------+------------+--------------------+--------+------------------+-----------+\n",
       "|  count|         12157084|          12157084|            12157084|            12157084|            12157084|          12157084|           12157084|          12157084|          12157084|          12157084|    12157084|            12157084|12157084|          12157084|   12157084|\n",
       "|   mean| 753256.278102216|12039.659402287589|5.542397773206698...|  166.35215026470865|                null| 26.48216373268458| 2021.4182861613854| 6.562012897171723|15.814851571314305|13.491465469844577|        null|                null|    null|4043.3039628581987|       null|\n",
       "| stddev|435525.6477490294| 6951.602269350454|2.532751109873882E10|   520.5260587786956|                null|13.602001831795453|0.49327767899407055|3.1197910160833513| 8.804069186278074| 6.799815171682457|        null|                null|    null|1780.7825684916559|       null|\n",
       "|    min|               30|                 1|         10023283211|9.756658099412162E-8|000000d4-d252-4e2...|                 1|               2021|                 1|                 1|                 1|Aaron Adkins|000 Barnes Missio...|     ACT|               200|     Female|\n",
       "|    max|          1499867|             24081|         99990536339|  105193.88578925544|fffffca5-42ab-49d...|                52|               2022|                12|                31|                26| Zoe Randall| 99994 Krystal Views|      WA|              9999|Undisclosed|\n",
       "+-------+-----------------+------------------+--------------------+--------------------+--------------------+------------------+-------------------+------------------+------------------+------------------+------------+--------------------+--------+------------------+-----------+"
      ]
     },
     "execution_count": 38,
     "metadata": {},
     "output_type": "execute_result"
    }
   ],
   "source": [
    "join_df.describe()"
   ]
  },
  {
   "cell_type": "code",
   "execution_count": 10,
   "metadata": {},
   "outputs": [],
   "source": [
    "# Since some postcodes are not included in the ABS data, we decide to remove them \n",
    "abs_df = spark.read.csv(\"../data/curated/abs_cleaned.csv\", header = 'True')"
   ]
  },
  {
   "cell_type": "code",
   "execution_count": 15,
   "metadata": {},
   "outputs": [
    {
     "name": "stdout",
     "output_type": "stream",
     "text": [
      "22/09/22 15:47:44 WARN CSVHeaderChecker: CSV header does not conform to the schema.\n",
      " Header: \n",
      " Schema: _c0\n",
      "Expected: _c0 but found: \n",
      "CSV file: file:///Users/liyujie/Documents/GitHub/generic-buy-now-pay-later-project-group-8/data/curated/abs_cleaned.csv\n"
     ]
    }
   ],
   "source": [
    "abs_postcode = abs_df.select('_c0').rdd.map(lambda x : x[0]).collect()"
   ]
  },
  {
   "cell_type": "code",
   "execution_count": 17,
   "metadata": {},
   "outputs": [
    {
     "data": {
      "text/plain": [
       "2653"
      ]
     },
     "execution_count": 17,
     "metadata": {},
     "output_type": "execute_result"
    }
   ],
   "source": [
    "len(abs_postcode)"
   ]
  },
  {
   "cell_type": "code",
   "execution_count": 31,
   "metadata": {},
   "outputs": [],
   "source": [
    "# join_df.createOrReplaceTempView(\"joindf\")\n",
    "# spark.sql(f\"\"\"SELECT * FROM joindf \n",
    "# WHERE postcode IN abs_postcode\"\"\").show()\n",
    "\n",
    "from pyspark.sql.functions import col\n",
    "new_join = join_df.where((join_df.postcode).isin(abs_postcode))"
   ]
  },
  {
   "cell_type": "code",
   "execution_count": 37,
   "metadata": {},
   "outputs": [
    {
     "name": "stderr",
     "output_type": "stream",
     "text": [
      "                                                                                \r"
     ]
    },
    {
     "data": {
      "text/html": [
       "<table border='1'>\n",
       "<tr><th>summary</th><th>consumer_id</th><th>user_id</th><th>merchant_abn</th><th>dollar_value</th><th>order_id</th><th>Week</th><th>Year</th><th>Month</th><th>Day</th><th>Fortnight</th><th>name</th><th>address</th><th>state</th><th>postcode</th><th>gender</th></tr>\n",
       "<tr><td>count</td><td>10195679</td><td>10195679</td><td>10195679</td><td>10195679</td><td>10195679</td><td>10195679</td><td>10195679</td><td>10195679</td><td>10195679</td><td>10195679</td><td>10195679</td><td>10195679</td><td>10195679</td><td>10195679</td><td>10195679</td></tr>\n",
       "<tr><td>mean</td><td>753000.6175025714</td><td>12047.437289463507</td><td>5.541979538973208E10</td><td>166.4153065535396</td><td>null</td><td>26.482729497466526</td><td>2021.418212558477</td><td>6.562021715277619</td><td>15.815977827469853</td><td>13.491726838398895</td><td>null</td><td>null</td><td>null</td><td>4180.279968504305</td><td>null</td></tr>\n",
       "<tr><td>stddev</td><td>435169.9042534198</td><td>6950.053310956647</td><td>2.532609365166996...</td><td>520.7606355108969</td><td>null</td><td>13.601691628789439</td><td>0.4932654845752156</td><td>3.119715775658305</td><td>8.804177163653394</td><td>6.799678425810775</td><td>null</td><td>null</td><td>null</td><td>1521.0228576143002</td><td>null</td></tr>\n",
       "<tr><td>min</td><td>30</td><td>2</td><td>10023283211</td><td>9.756658099412162E-8</td><td>000000d4-d252-4e2...</td><td>1</td><td>2021</td><td>1</td><td>1</td><td>1</td><td>Aaron Adkins</td><td>000 Barnes Missio...</td><td>ACT</td><td>800</td><td>Female</td></tr>\n",
       "<tr><td>max</td><td>1499861</td><td>24081</td><td>99990536339</td><td>105193.88578925544</td><td>fffffca5-42ab-49d...</td><td>52</td><td>2022</td><td>12</td><td>31</td><td>26</td><td>Zoe Randall</td><td>9999 Brenda Hills</td><td>WA</td><td>7470</td><td>Undisclosed</td></tr>\n",
       "</table>\n"
      ],
      "text/plain": [
       "+-------+-----------------+------------------+--------------------+--------------------+--------------------+------------------+------------------+-----------------+------------------+------------------+------------+--------------------+--------+------------------+-----------+\n",
       "|summary|      consumer_id|           user_id|        merchant_abn|        dollar_value|            order_id|              Week|              Year|            Month|               Day|         Fortnight|        name|             address|   state|          postcode|     gender|\n",
       "+-------+-----------------+------------------+--------------------+--------------------+--------------------+------------------+------------------+-----------------+------------------+------------------+------------+--------------------+--------+------------------+-----------+\n",
       "|  count|         10195679|          10195679|            10195679|            10195679|            10195679|          10195679|          10195679|         10195679|          10195679|          10195679|    10195679|            10195679|10195679|          10195679|   10195679|\n",
       "|   mean|753000.6175025714|12047.437289463507|5.541979538973208E10|   166.4153065535396|                null|26.482729497466526| 2021.418212558477|6.562021715277619|15.815977827469853|13.491726838398895|        null|                null|    null| 4180.279968504305|       null|\n",
       "| stddev|435169.9042534198| 6950.053310956647|2.532609365166996...|   520.7606355108969|                null|13.601691628789439|0.4932654845752156|3.119715775658305| 8.804177163653394| 6.799678425810775|        null|                null|    null|1521.0228576143002|       null|\n",
       "|    min|               30|                 2|         10023283211|9.756658099412162E-8|000000d4-d252-4e2...|                 1|              2021|                1|                 1|                 1|Aaron Adkins|000 Barnes Missio...|     ACT|               800|     Female|\n",
       "|    max|          1499861|             24081|         99990536339|  105193.88578925544|fffffca5-42ab-49d...|                52|              2022|               12|                31|                26| Zoe Randall|   9999 Brenda Hills|      WA|              7470|Undisclosed|\n",
       "+-------+-----------------+------------------+--------------------+--------------------+--------------------+------------------+------------------+-----------------+------------------+------------------+------------+--------------------+--------+------------------+-----------+"
      ]
     },
     "execution_count": 37,
     "metadata": {},
     "output_type": "execute_result"
    }
   ],
   "source": [
    "new_join.describe()"
   ]
  },
  {
   "cell_type": "markdown",
   "metadata": {},
   "source": [
    "# Groupby forenightly and store the forenighlty order postcodes"
   ]
  },
  {
   "cell_type": "code",
   "execution_count": 39,
   "metadata": {},
   "outputs": [],
   "source": [
    "data_by_fornight = new_join.groupBy(\"Fortnight\",\"merchant_abn\",\"postcode\")\\\n",
    "    .agg(F.count(\"order_id\").alias(\"count_postcode_merchant\"))"
   ]
  },
  {
   "cell_type": "code",
   "execution_count": 40,
   "metadata": {},
   "outputs": [
    {
     "name": "stderr",
     "output_type": "stream",
     "text": [
      "                                                                                \r"
     ]
    },
    {
     "data": {
      "text/html": [
       "<table border='1'>\n",
       "<tr><th>Fortnight</th><th>merchant_abn</th><th>postcode</th><th>count_postcode_merchant</th></tr>\n",
       "<tr><td>17</td><td>26925196872</td><td>4361</td><td>1</td></tr>\n",
       "<tr><td>17</td><td>52959528548</td><td>6327</td><td>1</td></tr>\n",
       "<tr><td>17</td><td>24852446429</td><td>4571</td><td>1</td></tr>\n",
       "<tr><td>17</td><td>17324645993</td><td>5434</td><td>2</td></tr>\n",
       "<tr><td>17</td><td>84088835754</td><td>4384</td><td>1</td></tr>\n",
       "<tr><td>17</td><td>91848160033</td><td>3005</td><td>1</td></tr>\n",
       "<tr><td>17</td><td>53003062892</td><td>4350</td><td>1</td></tr>\n",
       "<tr><td>17</td><td>68289707002</td><td>3669</td><td>1</td></tr>\n",
       "<tr><td>17</td><td>54291122944</td><td>4480</td><td>1</td></tr>\n",
       "<tr><td>17</td><td>81761494572</td><td>5011</td><td>1</td></tr>\n",
       "<tr><td>17</td><td>37459245212</td><td>3154</td><td>1</td></tr>\n",
       "<tr><td>17</td><td>71094934182</td><td>2623</td><td>1</td></tr>\n",
       "<tr><td>17</td><td>49125619545</td><td>7026</td><td>1</td></tr>\n",
       "<tr><td>17</td><td>62224020443</td><td>3342</td><td>1</td></tr>\n",
       "<tr><td>17</td><td>49891706470</td><td>2838</td><td>1</td></tr>\n",
       "<tr><td>17</td><td>29362189014</td><td>2450</td><td>1</td></tr>\n",
       "<tr><td>17</td><td>82368304209</td><td>6323</td><td>2</td></tr>\n",
       "<tr><td>17</td><td>68828285855</td><td>3037</td><td>1</td></tr>\n",
       "<tr><td>17</td><td>92899421466</td><td>4074</td><td>1</td></tr>\n",
       "<tr><td>17</td><td>93532380797</td><td>6167</td><td>2</td></tr>\n",
       "</table>\n",
       "only showing top 20 rows\n"
      ],
      "text/plain": [
       "+---------+------------+--------+-----------------------+\n",
       "|Fortnight|merchant_abn|postcode|count_postcode_merchant|\n",
       "+---------+------------+--------+-----------------------+\n",
       "|       17| 26925196872|    4361|                      1|\n",
       "|       17| 52959528548|    6327|                      1|\n",
       "|       17| 24852446429|    4571|                      1|\n",
       "|       17| 17324645993|    5434|                      2|\n",
       "|       17| 84088835754|    4384|                      1|\n",
       "|       17| 91848160033|    3005|                      1|\n",
       "|       17| 53003062892|    4350|                      1|\n",
       "|       17| 68289707002|    3669|                      1|\n",
       "|       17| 54291122944|    4480|                      1|\n",
       "|       17| 81761494572|    5011|                      1|\n",
       "|       17| 37459245212|    3154|                      1|\n",
       "|       17| 71094934182|    2623|                      1|\n",
       "|       17| 49125619545|    7026|                      1|\n",
       "|       17| 62224020443|    3342|                      1|\n",
       "|       17| 49891706470|    2838|                      1|\n",
       "|       17| 29362189014|    2450|                      1|\n",
       "|       17| 82368304209|    6323|                      2|\n",
       "|       17| 68828285855|    3037|                      1|\n",
       "|       17| 92899421466|    4074|                      1|\n",
       "|       17| 93532380797|    6167|                      2|\n",
       "+---------+------------+--------+-----------------------+\n",
       "only showing top 20 rows"
      ]
     },
     "execution_count": 40,
     "metadata": {},
     "output_type": "execute_result"
    }
   ],
   "source": [
    "data_by_fornight"
   ]
  },
  {
   "cell_type": "code",
   "execution_count": 41,
   "metadata": {},
   "outputs": [],
   "source": [
    "totalorder_perfor_merchant = new_join.groupBy(\"Fortnight\",\"merchant_abn\")\\\n",
    "    .agg(F.count(\"order_id\").alias(\"total_order_per_fornight\"))"
   ]
  },
  {
   "cell_type": "code",
   "execution_count": 42,
   "metadata": {},
   "outputs": [
    {
     "name": "stderr",
     "output_type": "stream",
     "text": [
      "                                                                                \r"
     ]
    },
    {
     "data": {
      "text/html": [
       "<table border='1'>\n",
       "<tr><th>Fortnight</th><th>merchant_abn</th><th>total_order_per_fornight</th></tr>\n",
       "<tr><td>17</td><td>47086412084</td><td>1055</td></tr>\n",
       "<tr><td>17</td><td>27093785141</td><td>480</td></tr>\n",
       "<tr><td>17</td><td>93558142492</td><td>425</td></tr>\n",
       "<tr><td>17</td><td>26169574842</td><td>185</td></tr>\n",
       "<tr><td>17</td><td>41170595493</td><td>131</td></tr>\n",
       "<tr><td>17</td><td>63344521351</td><td>48</td></tr>\n",
       "<tr><td>17</td><td>79830510987</td><td>51</td></tr>\n",
       "<tr><td>17</td><td>12426913844</td><td>32</td></tr>\n",
       "<tr><td>17</td><td>31003199153</td><td>4</td></tr>\n",
       "<tr><td>17</td><td>47856542678</td><td>166</td></tr>\n",
       "<tr><td>17</td><td>13830448327</td><td>77</td></tr>\n",
       "<tr><td>17</td><td>40561597210</td><td>5</td></tr>\n",
       "<tr><td>17</td><td>48646476949</td><td>10</td></tr>\n",
       "<tr><td>17</td><td>18525353549</td><td>24</td></tr>\n",
       "<tr><td>17</td><td>93018282444</td><td>4</td></tr>\n",
       "<tr><td>17</td><td>97443126375</td><td>5</td></tr>\n",
       "<tr><td>17</td><td>50766787885</td><td>7</td></tr>\n",
       "<tr><td>17</td><td>47830349274</td><td>11</td></tr>\n",
       "<tr><td>16</td><td>80982848464</td><td>332</td></tr>\n",
       "<tr><td>16</td><td>66161087361</td><td>42</td></tr>\n",
       "</table>\n",
       "only showing top 20 rows\n"
      ],
      "text/plain": [
       "+---------+------------+------------------------+\n",
       "|Fortnight|merchant_abn|total_order_per_fornight|\n",
       "+---------+------------+------------------------+\n",
       "|       17| 47086412084|                    1055|\n",
       "|       17| 27093785141|                     480|\n",
       "|       17| 93558142492|                     425|\n",
       "|       17| 26169574842|                     185|\n",
       "|       17| 41170595493|                     131|\n",
       "|       17| 63344521351|                      48|\n",
       "|       17| 79830510987|                      51|\n",
       "|       17| 12426913844|                      32|\n",
       "|       17| 31003199153|                       4|\n",
       "|       17| 47856542678|                     166|\n",
       "|       17| 13830448327|                      77|\n",
       "|       17| 40561597210|                       5|\n",
       "|       17| 48646476949|                      10|\n",
       "|       17| 18525353549|                      24|\n",
       "|       17| 93018282444|                       4|\n",
       "|       17| 97443126375|                       5|\n",
       "|       17| 50766787885|                       7|\n",
       "|       17| 47830349274|                      11|\n",
       "|       16| 80982848464|                     332|\n",
       "|       16| 66161087361|                      42|\n",
       "+---------+------------+------------------------+\n",
       "only showing top 20 rows"
      ]
     },
     "execution_count": 42,
     "metadata": {},
     "output_type": "execute_result"
    }
   ],
   "source": [
    "totalorder_perfor_merchant"
   ]
  },
  {
   "cell_type": "code",
   "execution_count": 43,
   "metadata": {},
   "outputs": [],
   "source": [
    "# data_by_fornight.withColumn(\"postcode_dict\",F.to_json(F.struct(\"postcode\", \"count_postcode_merchant\"))).show(truncate=False)\n",
    "cond = [\"merchant_abn\",\"Fortnight\"]\n",
    "data_by_fornight = data_by_fornight.join(totalorder_perfor_merchant, cond, \"inner\")"
   ]
  },
  {
   "cell_type": "code",
   "execution_count": 56,
   "metadata": {},
   "outputs": [],
   "source": [
    "data_by_fornight = data_by_fornight.withColumn(\"proportion_of_postcode\", (data_by_fornight.count_postcode_merchant/data_by_fornight.total_order_per_fornight))"
   ]
  },
  {
   "cell_type": "code",
   "execution_count": 60,
   "metadata": {},
   "outputs": [
    {
     "name": "stderr",
     "output_type": "stream",
     "text": [
      "                                                                                \r"
     ]
    },
    {
     "name": "stdout",
     "output_type": "stream",
     "text": [
      "22/09/22 18:33:19 WARN HeartbeatReceiver: Removing executor driver with no recent heartbeats: 1020894 ms exceeds timeout 120000 ms\n",
      "22/09/22 18:33:19 WARN SparkContext: Killing executors is not supported by current scheduler.\n",
      "22/09/23 13:44:49 WARN TransportChannelHandler: Exception in connection from /192.168.120.78:52086\n",
      "java.io.IOException: Operation timed out\n",
      "\tat java.base/sun.nio.ch.FileDispatcherImpl.read0(Native Method)\n",
      "\tat java.base/sun.nio.ch.SocketDispatcher.read(SocketDispatcher.java:39)\n",
      "\tat java.base/sun.nio.ch.IOUtil.readIntoNativeBuffer(IOUtil.java:276)\n",
      "\tat java.base/sun.nio.ch.IOUtil.read(IOUtil.java:233)\n",
      "\tat java.base/sun.nio.ch.IOUtil.read(IOUtil.java:223)\n",
      "\tat java.base/sun.nio.ch.SocketChannelImpl.read(SocketChannelImpl.java:356)\n",
      "\tat io.netty.buffer.PooledByteBuf.setBytes(PooledByteBuf.java:258)\n",
      "\tat io.netty.buffer.AbstractByteBuf.writeBytes(AbstractByteBuf.java:1132)\n",
      "\tat io.netty.channel.socket.nio.NioSocketChannel.doReadBytes(NioSocketChannel.java:350)\n",
      "\tat io.netty.channel.nio.AbstractNioByteChannel$NioByteUnsafe.read(AbstractNioByteChannel.java:151)\n",
      "\tat io.netty.channel.nio.NioEventLoop.processSelectedKey(NioEventLoop.java:722)\n",
      "\tat io.netty.channel.nio.NioEventLoop.processSelectedKeysOptimized(NioEventLoop.java:658)\n",
      "\tat io.netty.channel.nio.NioEventLoop.processSelectedKeys(NioEventLoop.java:584)\n",
      "\tat io.netty.channel.nio.NioEventLoop.run(NioEventLoop.java:496)\n",
      "\tat io.netty.util.concurrent.SingleThreadEventExecutor$4.run(SingleThreadEventExecutor.java:986)\n",
      "\tat io.netty.util.internal.ThreadExecutorMap$2.run(ThreadExecutorMap.java:74)\n",
      "\tat io.netty.util.concurrent.FastThreadLocalRunnable.run(FastThreadLocalRunnable.java:30)\n",
      "\tat java.base/java.lang.Thread.run(Thread.java:829)\n"
     ]
    }
   ],
   "source": [
    "data_by_fornight.toPandas().to_csv('../data/curated/Grouping.csv', index = False)"
   ]
  },
  {
   "cell_type": "code",
   "execution_count": 57,
   "metadata": {},
   "outputs": [
    {
     "name": "stderr",
     "output_type": "stream",
     "text": [
      "                                                                                \r"
     ]
    },
    {
     "data": {
      "text/html": [
       "<table border='1'>\n",
       "<tr><th>merchant_abn</th><th>Fortnight</th><th>postcode</th><th>count_postcode_merchant</th><th>total_order_per_fornight</th><th>proportion_of_postcode</th></tr>\n",
       "<tr><td>10206519221</td><td>1</td><td>6068</td><td>1</td><td>151</td><td>0.006622516556291391</td></tr>\n",
       "<tr><td>10206519221</td><td>1</td><td>2565</td><td>1</td><td>151</td><td>0.006622516556291391</td></tr>\n",
       "<tr><td>10206519221</td><td>1</td><td>6411</td><td>1</td><td>151</td><td>0.006622516556291391</td></tr>\n",
       "<tr><td>10206519221</td><td>1</td><td>5372</td><td>1</td><td>151</td><td>0.006622516556291391</td></tr>\n",
       "<tr><td>10206519221</td><td>1</td><td>6438</td><td>1</td><td>151</td><td>0.006622516556291391</td></tr>\n",
       "<tr><td>10206519221</td><td>1</td><td>2753</td><td>1</td><td>151</td><td>0.006622516556291391</td></tr>\n",
       "<tr><td>10206519221</td><td>1</td><td>4072</td><td>1</td><td>151</td><td>0.006622516556291391</td></tr>\n",
       "<tr><td>10206519221</td><td>1</td><td>4673</td><td>1</td><td>151</td><td>0.006622516556291391</td></tr>\n",
       "<tr><td>10206519221</td><td>1</td><td>3920</td><td>1</td><td>151</td><td>0.006622516556291391</td></tr>\n",
       "<tr><td>10206519221</td><td>1</td><td>6227</td><td>1</td><td>151</td><td>0.006622516556291391</td></tr>\n",
       "<tr><td>10206519221</td><td>1</td><td>6153</td><td>1</td><td>151</td><td>0.006622516556291391</td></tr>\n",
       "<tr><td>10206519221</td><td>1</td><td>2707</td><td>1</td><td>151</td><td>0.006622516556291391</td></tr>\n",
       "<tr><td>10206519221</td><td>1</td><td>4713</td><td>1</td><td>151</td><td>0.006622516556291391</td></tr>\n",
       "<tr><td>10206519221</td><td>1</td><td>2765</td><td>2</td><td>151</td><td>0.013245033112582781</td></tr>\n",
       "<tr><td>10206519221</td><td>1</td><td>3589</td><td>1</td><td>151</td><td>0.006622516556291391</td></tr>\n",
       "<tr><td>10206519221</td><td>1</td><td>6701</td><td>1</td><td>151</td><td>0.006622516556291391</td></tr>\n",
       "<tr><td>10206519221</td><td>1</td><td>7184</td><td>1</td><td>151</td><td>0.006622516556291391</td></tr>\n",
       "<tr><td>10206519221</td><td>1</td><td>4694</td><td>1</td><td>151</td><td>0.006622516556291391</td></tr>\n",
       "<tr><td>10206519221</td><td>1</td><td>3758</td><td>1</td><td>151</td><td>0.006622516556291391</td></tr>\n",
       "<tr><td>10206519221</td><td>1</td><td>4680</td><td>1</td><td>151</td><td>0.006622516556291391</td></tr>\n",
       "</table>\n",
       "only showing top 20 rows\n"
      ],
      "text/plain": [
       "+------------+---------+--------+-----------------------+------------------------+----------------------+\n",
       "|merchant_abn|Fortnight|postcode|count_postcode_merchant|total_order_per_fornight|proportion_of_postcode|\n",
       "+------------+---------+--------+-----------------------+------------------------+----------------------+\n",
       "| 10206519221|        1|    6068|                      1|                     151|  0.006622516556291391|\n",
       "| 10206519221|        1|    2565|                      1|                     151|  0.006622516556291391|\n",
       "| 10206519221|        1|    6411|                      1|                     151|  0.006622516556291391|\n",
       "| 10206519221|        1|    5372|                      1|                     151|  0.006622516556291391|\n",
       "| 10206519221|        1|    6438|                      1|                     151|  0.006622516556291391|\n",
       "| 10206519221|        1|    2753|                      1|                     151|  0.006622516556291391|\n",
       "| 10206519221|        1|    4072|                      1|                     151|  0.006622516556291391|\n",
       "| 10206519221|        1|    4673|                      1|                     151|  0.006622516556291391|\n",
       "| 10206519221|        1|    3920|                      1|                     151|  0.006622516556291391|\n",
       "| 10206519221|        1|    6227|                      1|                     151|  0.006622516556291391|\n",
       "| 10206519221|        1|    6153|                      1|                     151|  0.006622516556291391|\n",
       "| 10206519221|        1|    2707|                      1|                     151|  0.006622516556291391|\n",
       "| 10206519221|        1|    4713|                      1|                     151|  0.006622516556291391|\n",
       "| 10206519221|        1|    2765|                      2|                     151|  0.013245033112582781|\n",
       "| 10206519221|        1|    3589|                      1|                     151|  0.006622516556291391|\n",
       "| 10206519221|        1|    6701|                      1|                     151|  0.006622516556291391|\n",
       "| 10206519221|        1|    7184|                      1|                     151|  0.006622516556291391|\n",
       "| 10206519221|        1|    4694|                      1|                     151|  0.006622516556291391|\n",
       "| 10206519221|        1|    3758|                      1|                     151|  0.006622516556291391|\n",
       "| 10206519221|        1|    4680|                      1|                     151|  0.006622516556291391|\n",
       "+------------+---------+--------+-----------------------+------------------------+----------------------+\n",
       "only showing top 20 rows"
      ]
     },
     "execution_count": 57,
     "metadata": {},
     "output_type": "execute_result"
    }
   ],
   "source": [
    "data_by_fornight"
   ]
  },
  {
   "cell_type": "code",
   "execution_count": null,
   "metadata": {},
   "outputs": [],
   "source": []
  }
 ],
 "metadata": {
  "kernelspec": {
   "display_name": "Python 3.8.9 64-bit",
   "language": "python",
   "name": "python3"
  },
  "language_info": {
   "codemirror_mode": {
    "name": "ipython",
    "version": 3
   },
   "file_extension": ".py",
   "mimetype": "text/x-python",
   "name": "python",
   "nbconvert_exporter": "python",
   "pygments_lexer": "ipython3",
   "version": "3.8.9"
  },
  "orig_nbformat": 4,
  "vscode": {
   "interpreter": {
    "hash": "31f2aee4e71d21fbe5cf8b01ff0e069b9275f58929596ceb00d14d90e3e16cd6"
   }
  }
 },
 "nbformat": 4,
 "nbformat_minor": 2
}
