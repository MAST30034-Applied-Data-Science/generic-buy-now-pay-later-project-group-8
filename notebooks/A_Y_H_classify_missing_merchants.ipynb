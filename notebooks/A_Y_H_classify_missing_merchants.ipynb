{
 "cells": [
  {
   "cell_type": "code",
   "execution_count": 135,
   "metadata": {},
   "outputs": [],
   "source": [
    "from pyspark.sql import SparkSession\n",
    "from pyspark.sql import functions as F"
   ]
  },
  {
   "cell_type": "code",
   "execution_count": 91,
   "metadata": {},
   "outputs": [],
   "source": [
    "spark = (\n",
    "    SparkSession.builder.appName(\"preprocessing of taxi data\")\n",
    "    .config(\"spark.sql.repl.eagerEval.enabled\", True) \n",
    "    .config(\"spark.sql.parquet.cacheMetadata\", \"true\")\n",
    "    .config(\"spark.sql.session.timeZone\", \"Etc/UTC\")\n",
    "    .config(\"spark.driver.memory\", \"15g\")\n",
    "    .getOrCreate()\n",
    ")"
   ]
  },
  {
   "cell_type": "markdown",
   "metadata": {},
   "source": [
    "#### **PlanA**: Cluster merchants\n",
    "#### Attributes: average dollar amount, number of unique customers, total number of orders\n",
    "\n",
    "#### **PlanB**: Classify merchants\n",
    "#### Attributes: order history of customer who purchase product in the missing merchant, average dollar amount, number of unique customers, total number of orders\n",
    "### **Classification pipeline**:\n",
    " 1. Data Engineering\n",
    "  * Prepare data into ready-to-use format\n",
    "    * Create a new dataframe from the original dataframe which relates unknown merchants to order history of its customers who purchases from at least one known merchant stores.\n",
    "    * Clean the prod_desc\n",
    "    * Create a new dataframe which retains only the useful attributes for revenue level and take rate\n",
    "  * Need one curated dataset for modeling product description and one dataset for modeling revenue level and take rate\n",
    " 2. Feature Engineering\n",
    "  * Aggregate data to produce more useful features for modeling revenue level and take rate\n",
    "  * Recommended features for prod_desc: dollar value, consumer id/ user id and consumer gender\n",
    "  * Recommended features for revenue level and take rate: average dollar amount per month/week/day, total number of orders per month/week/day and number of distinct customers per month/week/day\n",
    " 3. Data Modeling\n",
    "  * Discuss and finalize choice of model: XGBoost, MLP, NB(last resort)\n",
    "  * Fitting and Tuning model to achieve optimal performance \n",
    " 4. Model Validation\n",
    " * Metrics:\n",
    "    * Categorical(prod_desc and revenue_level): \n",
    "      * Accuracy\n",
    "      * f1 score\n",
    "    * Continuous(take_rate):\n",
    "      * RMSE\n",
    " * Visualization:\n",
    "    * Categorical:\n",
    "      * learning curve\n",
    "      * ROC curve\n",
    "      * confusion matrix \n",
    "    * Continuous:\n",
    "      * RMSE vs. fitted value\n",
    " 5. Model deployment\n",
    "   * Use the prediction to impute missing information"
   ]
  },
  {
   "cell_type": "code",
   "execution_count": 92,
   "metadata": {},
   "outputs": [],
   "source": [
    "transaction_20210828_20220227_sdf = spark.read.parquet(\"../data/curated/transactions_20210828_20220227\")\n",
    "transaction_20210828_20220227_missings_sdf = spark.read.parquet(\"../data/curated/transactions_20210828_20220227_missing_counts\")"
   ]
  },
  {
   "cell_type": "code",
   "execution_count": 123,
   "metadata": {},
   "outputs": [
    {
     "name": "stdout",
     "output_type": "stream",
     "text": [
      "num_of_unknown_merchants = 378\n",
      "num_of_order_from_unknown_merchants = 149228\n"
     ]
    }
   ],
   "source": [
    "num_of_unknown_merchants = transaction_20210828_20220227_sdf.where(F.col(\"merchant_name\").isNull()) \\\n",
    "                            .select(F.col(\"merchant_abn\")).distinct().count()\n",
    "num_of_order_from_unknown_merchants = transaction_20210828_20220227_sdf.where(F.col(\"merchant_name\").isNull()) \\\n",
    "                            .select(F.col(\"merchant_abn\")).count()\n",
    "\n",
    "print(f\"num_of_unknown_merchants = {num_of_unknown_merchants}\" + \"\\n\" +\n",
    "      f\"num_of_order_from_unknown_merchants = {num_of_order_from_unknown_merchants}\")"
   ]
  },
  {
   "cell_type": "markdown",
   "metadata": {},
   "source": [
    "### Checking if every missing merchant has at least one related known merchant, i.e. if there is at least one customer who buys from an unknown merchant also buy from other merchants"
   ]
  },
  {
   "cell_type": "code",
   "execution_count": 116,
   "metadata": {},
   "outputs": [
    {
     "data": {
      "text/html": [
       "<table border='1'>\n",
       "<tr><th>unknown_merchant_abn</th><th>num_of_order_in_known_merchant</th><th>num_of_distinct_customers</th><th>num_of_known_merchant</th><th>num_of_distinct_prod_desc</th><th>num_of_distinct_revenue_level</th></tr>\n",
       "<tr><td>24406529929</td><td>151201</td><td>1021</td><td>3233</td><td>119</td><td>5</td></tr>\n",
       "<tr><td>56395390867</td><td>1287</td><td>9</td><td>587</td><td>45</td><td>5</td></tr>\n",
       "<tr><td>28767881738</td><td>136</td><td>1</td><td>116</td><td>24</td><td>4</td></tr>\n",
       "<tr><td>45925655949</td><td>3286</td><td>23</td><td>1000</td><td>67</td><td>5</td></tr>\n",
       "<tr><td>87802246756</td><td>116776</td><td>778</td><td>3092</td><td>116</td><td>5</td></tr>\n",
       "<tr><td>87921002735</td><td>17654</td><td>122</td><td>1981</td><td>89</td><td>5</td></tr>\n",
       "<tr><td>92220967360</td><td>15037</td><td>103</td><td>1848</td><td>87</td><td>5</td></tr>\n",
       "<tr><td>31507950402</td><td>2402</td><td>17</td><td>869</td><td>57</td><td>5</td></tr>\n",
       "<tr><td>49369565194</td><td>137</td><td>1</td><td>121</td><td>29</td><td>4</td></tr>\n",
       "<tr><td>18899854203</td><td>285</td><td>2</td><td>201</td><td>28</td><td>5</td></tr>\n",
       "<tr><td>56373397631</td><td>7856</td><td>54</td><td>1504</td><td>78</td><td>5</td></tr>\n",
       "<tr><td>29836312398</td><td>582</td><td>4</td><td>365</td><td>37</td><td>5</td></tr>\n",
       "<tr><td>46018169855</td><td>1180</td><td>8</td><td>558</td><td>49</td><td>5</td></tr>\n",
       "<tr><td>29674997261</td><td>301</td><td>2</td><td>214</td><td>32</td><td>5</td></tr>\n",
       "<tr><td>79526372673</td><td>763</td><td>5</td><td>388</td><td>41</td><td>5</td></tr>\n",
       "<tr><td>63072262874</td><td>889</td><td>6</td><td>468</td><td>46</td><td>5</td></tr>\n",
       "<tr><td>73645625064</td><td>16732</td><td>114</td><td>1922</td><td>89</td><td>5</td></tr>\n",
       "<tr><td>98770741241</td><td>4840</td><td>33</td><td>1190</td><td>71</td><td>5</td></tr>\n",
       "<tr><td>67214015867</td><td>450</td><td>3</td><td>291</td><td>35</td><td>5</td></tr>\n",
       "<tr><td>67877736141</td><td>442</td><td>3</td><td>271</td><td>33</td><td>5</td></tr>\n",
       "</table>\n",
       "only showing top 20 rows\n"
      ],
      "text/plain": [
       "+--------------------+------------------------------+-------------------------+---------------------+-------------------------+-----------------------------+\n",
       "|unknown_merchant_abn|num_of_order_in_known_merchant|num_of_distinct_customers|num_of_known_merchant|num_of_distinct_prod_desc|num_of_distinct_revenue_level|\n",
       "+--------------------+------------------------------+-------------------------+---------------------+-------------------------+-----------------------------+\n",
       "|         24406529929|                        151201|                     1021|                 3233|                      119|                            5|\n",
       "|         56395390867|                          1287|                        9|                  587|                       45|                            5|\n",
       "|         28767881738|                           136|                        1|                  116|                       24|                            4|\n",
       "|         45925655949|                          3286|                       23|                 1000|                       67|                            5|\n",
       "|         87802246756|                        116776|                      778|                 3092|                      116|                            5|\n",
       "|         87921002735|                         17654|                      122|                 1981|                       89|                            5|\n",
       "|         92220967360|                         15037|                      103|                 1848|                       87|                            5|\n",
       "|         31507950402|                          2402|                       17|                  869|                       57|                            5|\n",
       "|         49369565194|                           137|                        1|                  121|                       29|                            4|\n",
       "|         18899854203|                           285|                        2|                  201|                       28|                            5|\n",
       "|         56373397631|                          7856|                       54|                 1504|                       78|                            5|\n",
       "|         29836312398|                           582|                        4|                  365|                       37|                            5|\n",
       "|         46018169855|                          1180|                        8|                  558|                       49|                            5|\n",
       "|         29674997261|                           301|                        2|                  214|                       32|                            5|\n",
       "|         79526372673|                           763|                        5|                  388|                       41|                            5|\n",
       "|         63072262874|                           889|                        6|                  468|                       46|                            5|\n",
       "|         73645625064|                         16732|                      114|                 1922|                       89|                            5|\n",
       "|         98770741241|                          4840|                       33|                 1190|                       71|                            5|\n",
       "|         67214015867|                           450|                        3|                  291|                       35|                            5|\n",
       "|         67877736141|                           442|                        3|                  271|                       33|                            5|\n",
       "+--------------------+------------------------------+-------------------------+---------------------+-------------------------+-----------------------------+\n",
       "only showing top 20 rows"
      ]
     },
     "execution_count": 116,
     "metadata": {},
     "output_type": "execute_result"
    }
   ],
   "source": [
    "transaction_20210828_20220227_sdf.createOrReplaceTempView('transactions')\n",
    "\n",
    "spark.sql(\"\"\"\n",
    "SELECT merchant_abn, user_id\n",
    "FROM transactions\n",
    "WHERE merchant_name IS NULL\n",
    "\"\"\").createOrReplaceTempView('unknown_merchants')\n",
    "\n",
    "spark.sql(\"\"\"\n",
    "SELECT *\n",
    "FROM transactions\n",
    "WHERE merchant_name IS NOT NULL\n",
    "\"\"\").createOrReplaceTempView('orders_in_known_merchants')\n",
    "\n",
    "\n",
    "joined_sdf = spark.sql(\"\"\"\n",
    "SELECT table1.merchant_abn AS unknown_merchant_abn, \n",
    "    COUNT(table1.merchant_abn) AS num_of_order_in_known_merchant,\n",
    "    COUNT(DISTINCT table2.user_id) AS num_of_distinct_customers,\n",
    "    COUNT(DISTINCT table2.merchant_abn) AS num_of_known_merchant,\n",
    "    COUNT(DISTINCT table2.prod_desc) AS num_of_distinct_prod_desc,\n",
    "    COUNT(DISTINCT table2.revenue_level) AS num_of_distinct_revenue_level\n",
    "FROM unknown_merchants AS table1\n",
    "LEFT JOIN orders_in_known_merchants AS table2 \n",
    "ON table1.user_id=table2.user_id\n",
    "GROUP BY table1.merchant_abn\n",
    "\"\"\")\n",
    "\n",
    "joined_sdf.limit(5)"
   ]
  },
  {
   "cell_type": "code",
   "execution_count": 124,
   "metadata": {},
   "outputs": [
    {
     "data": {
      "text/html": [
       "<table border='1'>\n",
       "<tr><th>unknown_merchant_abn</th><th>num_of_order_in_known_merchant</th><th>num_of_distinct_customers</th><th>num_of_known_merchant</th><th>num_of_distinct_prod_desc</th><th>num_of_distinct_revenue_level</th></tr>\n",
       "</table>\n"
      ],
      "text/plain": [
       "+--------------------+------------------------------+-------------------------+---------------------+-------------------------+-----------------------------+\n",
       "|unknown_merchant_abn|num_of_order_in_known_merchant|num_of_distinct_customers|num_of_known_merchant|num_of_distinct_prod_desc|num_of_distinct_revenue_level|\n",
       "+--------------------+------------------------------+-------------------------+---------------------+-------------------------+-----------------------------+\n",
       "+--------------------+------------------------------+-------------------------+---------------------+-------------------------+-----------------------------+"
      ]
     },
     "execution_count": 124,
     "metadata": {},
     "output_type": "execute_result"
    }
   ],
   "source": [
    "joined_sdf.filter(F.col(\"num_of_order_in_known_merchant\") == 0)"
   ]
  },
  {
   "cell_type": "code",
   "execution_count": 128,
   "metadata": {},
   "outputs": [
    {
     "data": {
      "text/plain": [
       "[Row(prod_desc=None),\n",
       " Row(prod_desc='antique shops -  sales, repairs, and restoration services'),\n",
       " Row(prod_desc='antique shops - sales,  repairs, and restoration services'),\n",
       " Row(prod_desc='antique shops - sales, repairs, and restoration services'),\n",
       " Row(prod_desc='art dealers and  galleries')]"
      ]
     },
     "execution_count": 128,
     "metadata": {},
     "output_type": "execute_result"
    }
   ],
   "source": [
    "# Need to clean the data\n",
    "transaction_20210828_20220227_sdf.select(F.col(\"prod_desc\")).distinct().orderBy(F.col(\"prod_desc\")).take(5)"
   ]
  },
  {
   "cell_type": "code",
   "execution_count": 131,
   "metadata": {},
   "outputs": [
    {
     "data": {
      "text/html": [
       "<table border='1'>\n",
       "<tr><th>user_id</th><th>merchant_abn</th><th>dollar_value</th><th>order_id</th><th>order_datetime</th><th>merchant_name</th><th>prod_desc</th><th>revenue_level</th><th>take_rate</th><th>consumer_name</th><th>address</th><th>state</th><th>postcode</th><th>gender</th><th>consumer_id</th></tr>\n",
       "<tr><td>1242</td><td>10023283211</td><td>165.99501221571956</td><td>4e70d489-1f67-4b0...</td><td>2021-04-22</td><td>Felis Limited</td><td>furniture, home f...</td><td>e</td><td>0.1</td><td>Erica Watson</td><td>53564 Kelley Cape</td><td>TAS</td><td>7177</td><td>Undisclosed</td><td>684491</td></tr>\n",
       "<tr><td>1810</td><td>10023283211</td><td>171.66432177797722</td><td>96675508-f728-484...</td><td>2021-07-09</td><td>Felis Limited</td><td>furniture, home f...</td><td>e</td><td>0.1</td><td>Alexandra Rosales</td><td>321 Erin Trail Ap...</td><td>WA</td><td>6466</td><td>Female</td><td>360964</td></tr>\n",
       "<tr><td>1252</td><td>10023283211</td><td>314.4575966294427</td><td>c45c6aaf-f340-4aa...</td><td>2021-03-20</td><td>Felis Limited</td><td>furniture, home f...</td><td>e</td><td>0.1</td><td>Linda Parsons</td><td>299 Bennett Overp...</td><td>VIC</td><td>3158</td><td>Female</td><td>1142978</td></tr>\n",
       "<tr><td>369</td><td>10023283211</td><td>203.80384686785308</td><td>64b70a7f-e09c-48c...</td><td>2021-07-27</td><td>Felis Limited</td><td>furniture, home f...</td><td>e</td><td>0.1</td><td>Taylor Santos</td><td>18268 Mario Manors</td><td>SA</td><td>5311</td><td>Female</td><td>78143</td></tr>\n",
       "<tr><td>1530</td><td>10023283211</td><td>404.4366951596358</td><td>d4bdf3fb-f62c-4f0...</td><td>2021-06-15</td><td>Felis Limited</td><td>furniture, home f...</td><td>e</td><td>0.1</td><td>Lisa Wiley</td><td>01925 Jillian Str...</td><td>SA</td><td>5253</td><td>Undisclosed</td><td>680149</td></tr>\n",
       "</table>\n"
      ],
      "text/plain": [
       "+-------+------------+------------------+--------------------+--------------+-------------+--------------------+-------------+---------+-----------------+--------------------+-----+--------+-----------+-----------+\n",
       "|user_id|merchant_abn|      dollar_value|            order_id|order_datetime|merchant_name|           prod_desc|revenue_level|take_rate|    consumer_name|             address|state|postcode|     gender|consumer_id|\n",
       "+-------+------------+------------------+--------------------+--------------+-------------+--------------------+-------------+---------+-----------------+--------------------+-----+--------+-----------+-----------+\n",
       "|   1242| 10023283211|165.99501221571956|4e70d489-1f67-4b0...|    2021-04-22|Felis Limited|furniture, home f...|            e|      0.1|     Erica Watson|   53564 Kelley Cape|  TAS|    7177|Undisclosed|     684491|\n",
       "|   1810| 10023283211|171.66432177797722|96675508-f728-484...|    2021-07-09|Felis Limited|furniture, home f...|            e|      0.1|Alexandra Rosales|321 Erin Trail Ap...|   WA|    6466|     Female|     360964|\n",
       "|   1252| 10023283211| 314.4575966294427|c45c6aaf-f340-4aa...|    2021-03-20|Felis Limited|furniture, home f...|            e|      0.1|    Linda Parsons|299 Bennett Overp...|  VIC|    3158|     Female|    1142978|\n",
       "|    369| 10023283211|203.80384686785308|64b70a7f-e09c-48c...|    2021-07-27|Felis Limited|furniture, home f...|            e|      0.1|    Taylor Santos|  18268 Mario Manors|   SA|    5311|     Female|      78143|\n",
       "|   1530| 10023283211| 404.4366951596358|d4bdf3fb-f62c-4f0...|    2021-06-15|Felis Limited|furniture, home f...|            e|      0.1|       Lisa Wiley|01925 Jillian Str...|   SA|    5253|Undisclosed|     680149|\n",
       "+-------+------------+------------------+--------------------+--------------+-------------+--------------------+-------------+---------+-----------------+--------------------+-----+--------+-----------+-----------+"
      ]
     },
     "execution_count": 131,
     "metadata": {},
     "output_type": "execute_result"
    }
   ],
   "source": [
    "# take_rate is the independent of the dollar amount of an order\n",
    "transaction_20210828_20220227_sdf.orderBy(F.col(\"merchant_abn\")).limit(5)"
   ]
  },
  {
   "cell_type": "code",
   "execution_count": 150,
   "metadata": {},
   "outputs": [
    {
     "data": {
      "text/plain": [
       "-0.95208568740324"
      ]
     },
     "execution_count": 150,
     "metadata": {},
     "output_type": "execute_result"
    }
   ],
   "source": [
    "# Take rate and revenue level are highly negatively correlated\n",
    "from pyspark.ml.stat import Correlation\n",
    "from pyspark.sql.types import ByteType, FloatType\n",
    "revenue_dict = {'a': 1, 'b': 2, 'c': 3, 'd': 4, 'e': 5}\n",
    "\n",
    "@F.udf(returnType=ByteType())\n",
    "def revenue_level_converter(rl):\n",
    "    return revenue_dict[rl]\n",
    "\n",
    "transaction_20210828_20220227_sdf.filter(F.col(\"revenue_level\").isNotNull()) \\\n",
    "                                 .withColumn(\"take_rate\", F.col(\"take_rate\").cast(FloatType())) \\\n",
    "                                 .withColumn(\"revenue_level_int\", revenue_level_converter(F.col(\"revenue_level\"))) \\\n",
    "                                 .corr('revenue_level_int', 'take_rate')"
   ]
  }
 ],
 "metadata": {
  "kernelspec": {
   "display_name": "Python 3.8.3 64-bit",
   "language": "python",
   "name": "python3"
  },
  "language_info": {
   "codemirror_mode": {
    "name": "ipython",
    "version": 3
   },
   "file_extension": ".py",
   "mimetype": "text/x-python",
   "name": "python",
   "nbconvert_exporter": "python",
   "pygments_lexer": "ipython3",
   "version": "3.8.3"
  },
  "orig_nbformat": 4,
  "vscode": {
   "interpreter": {
    "hash": "082e9a3bcad0a290d0001e938aa60b99250c6c2ef33a923c00b70f9826caf4b7"
   }
  }
 },
 "nbformat": 4,
 "nbformat_minor": 2
}
