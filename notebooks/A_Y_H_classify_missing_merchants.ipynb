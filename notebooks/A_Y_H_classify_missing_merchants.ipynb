{
 "cells": [
  {
   "cell_type": "code",
   "execution_count": 1,
   "metadata": {},
   "outputs": [],
   "source": [
    "from pyspark.sql import SparkSession\n",
    "from pyspark.sql import functions as F"
   ]
  },
  {
   "cell_type": "code",
   "execution_count": 2,
   "metadata": {},
   "outputs": [
    {
     "name": "stderr",
     "output_type": "stream",
     "text": [
      "Setting default log level to \"WARN\".\n",
      "To adjust logging level use sc.setLogLevel(newLevel). For SparkR, use setLogLevel(newLevel).\n"
     ]
    },
    {
     "name": "stdout",
     "output_type": "stream",
     "text": [
      "22/09/15 01:35:37 WARN NativeCodeLoader: Unable to load native-hadoop library for your platform... using builtin-java classes where applicable\n"
     ]
    }
   ],
   "source": [
    "spark = (\n",
    "    SparkSession.builder.appName(\"preprocessing of taxi data\")\n",
    "    .config(\"spark.sql.repl.eagerEval.enabled\", True) \n",
    "    .config(\"spark.sql.parquet.cacheMetadata\", \"true\")\n",
    "    .config(\"spark.sql.session.timeZone\", \"Etc/UTC\")\n",
    "    .config(\"spark.driver.memory\", \"15g\")\n",
    "    .getOrCreate()\n",
    ")"
   ]
  },
  {
   "cell_type": "markdown",
   "metadata": {},
   "source": [
    "#### **PlanA**: Cluster merchants\n",
    "#### Attributes: average dollar amount, number of unique customers, total number of orders\n",
    "\n",
    "#### **PlanB**: Classify merchants\n",
    "#### Attributes: order history of customer who purchase product in the missing merchant, average dollar amount, number of unique customers, total number of orders\n",
    "### **Classification pipeline**:\n",
    " 1. Data Engineering\n",
    "  * Prepare data into ready-to-use format\n",
    "    * Create a new dataframe from the original dataframe which relates unknown merchants to order history of its customers who purchases from at least one known merchant stores.\n",
    "    * Clean the prod_desc\n",
    "    * Create a new dataframe which retains only the useful attributes for revenue level and take rate\n",
    "  * Need one curated dataset for modeling product description and one dataset for modeling revenue level and take rate\n",
    " 2. Feature Engineering\n",
    "  * Aggregate data to produce more useful features for modeling revenue level and take rate\n",
    "  * Recommended features for prod_desc: dollar value, consumer id/ user id and consumer gender\n",
    "  * Recommended features for revenue level and take rate: average dollar amount per month/week/day, total number of orders per month/week/day and number of distinct customers per month/week/day\n",
    " 3. Data Modeling\n",
    "  * Discuss and finalize choice of model: XGBoost, MLP, NB(last resort)\n",
    "  * Fitting and Tuning model to achieve optimal performance \n",
    " 4. Model Validation\n",
    " * Metrics:\n",
    "    * Categorical(prod_desc and revenue_level): \n",
    "      * Accuracy\n",
    "      * f1 score\n",
    "    * Continuous(take_rate):\n",
    "      * RMSE\n",
    " * Visualization:\n",
    "    * Categorical:\n",
    "      * learning curve\n",
    "      * ROC curve\n",
    "      * confusion matrix \n",
    "    * Continuous:\n",
    "      * RMSE vs. fitted value\n",
    " 5. Model deployment\n",
    "   * Use the prediction to impute missing information"
   ]
  },
  {
   "cell_type": "code",
   "execution_count": 28,
   "metadata": {},
   "outputs": [],
   "source": [
    "transaction_20210828_20220227_sdf = spark.read.parquet(\"../data/curated/transactions_20210828_20220227_all_detail\")\n",
    "transaction_20210828_20220227_missings_sdf = spark.read.parquet(\"../data/curated/transactions_20210828_20220227_all_detail_missing_counts\")\n",
    "transaction_20210228_20210827_sdf = spark.read.parquet(\"../data/curated/transactions_20210228_20210827_all_detail\")"
   ]
  },
  {
   "cell_type": "code",
   "execution_count": 5,
   "metadata": {},
   "outputs": [
    {
     "name": "stderr",
     "output_type": "stream",
     "text": [
      "                                                                                \r"
     ]
    },
    {
     "name": "stdout",
     "output_type": "stream",
     "text": [
      "num_of_unknown_merchants = 381\n",
      "num_of_order_from_unknown_merchants = 184414\n"
     ]
    }
   ],
   "source": [
    "num_of_unknown_merchants = transaction_20210828_20220227_sdf.where(F.col(\"merchant_name\").isNull()) \\\n",
    "                            .select(F.col(\"merchant_abn\")).distinct().count()\n",
    "num_of_order_from_unknown_merchants = transaction_20210828_20220227_sdf.where(F.col(\"merchant_name\").isNull()) \\\n",
    "                            .select(F.col(\"merchant_abn\")).count()\n",
    "\n",
    "print(f\"num_of_unknown_merchants = {num_of_unknown_merchants}\" + \"\\n\" +\n",
    "      f\"num_of_order_from_unknown_merchants = {num_of_order_from_unknown_merchants}\")"
   ]
  },
  {
   "cell_type": "markdown",
   "metadata": {},
   "source": [
    "### Checking if every missing merchant has at least one related known merchant, i.e. if there is at least one customer who buys from an unknown merchant also buy from other merchants"
   ]
  },
  {
   "cell_type": "code",
   "execution_count": 6,
   "metadata": {},
   "outputs": [
    {
     "name": "stderr",
     "output_type": "stream",
     "text": [
      "                                                                                \r"
     ]
    },
    {
     "data": {
      "text/html": [
       "<table border='1'>\n",
       "<tr><th>unknown_merchant_abn</th><th>num_of_order_in_known_merchant</th><th>num_of_distinct_customers</th><th>num_of_known_merchant</th><th>num_of_distinct_prod_desc</th><th>num_of_distinct_revenue_level</th></tr>\n",
       "<tr><td>24406529929</td><td>235349</td><td>1276</td><td>3394</td><td>116</td><td>5</td></tr>\n",
       "<tr><td>56395390867</td><td>3249</td><td>18</td><td>992</td><td>67</td><td>5</td></tr>\n",
       "<tr><td>28767881738</td><td>348</td><td>2</td><td>242</td><td>32</td><td>5</td></tr>\n",
       "<tr><td>98345415950</td><td>735</td><td>4</td><td>413</td><td>41</td><td>5</td></tr>\n",
       "<tr><td>45925655949</td><td>6196</td><td>35</td><td>1361</td><td>82</td><td>5</td></tr>\n",
       "</table>\n"
      ],
      "text/plain": [
       "+--------------------+------------------------------+-------------------------+---------------------+-------------------------+-----------------------------+\n",
       "|unknown_merchant_abn|num_of_order_in_known_merchant|num_of_distinct_customers|num_of_known_merchant|num_of_distinct_prod_desc|num_of_distinct_revenue_level|\n",
       "+--------------------+------------------------------+-------------------------+---------------------+-------------------------+-----------------------------+\n",
       "|         24406529929|                        235349|                     1276|                 3394|                      116|                            5|\n",
       "|         56395390867|                          3249|                       18|                  992|                       67|                            5|\n",
       "|         28767881738|                           348|                        2|                  242|                       32|                            5|\n",
       "|         98345415950|                           735|                        4|                  413|                       41|                            5|\n",
       "|         45925655949|                          6196|                       35|                 1361|                       82|                            5|\n",
       "+--------------------+------------------------------+-------------------------+---------------------+-------------------------+-----------------------------+"
      ]
     },
     "execution_count": 6,
     "metadata": {},
     "output_type": "execute_result"
    }
   ],
   "source": [
    "transaction_20210828_20220227_sdf.createOrReplaceTempView('transactions')\n",
    "\n",
    "spark.sql(\"\"\"\n",
    "SELECT merchant_abn, user_id\n",
    "FROM transactions\n",
    "WHERE merchant_name IS NULL\n",
    "\"\"\").createOrReplaceTempView('unknown_merchants')\n",
    "\n",
    "spark.sql(\"\"\"\n",
    "SELECT *\n",
    "FROM transactions\n",
    "WHERE merchant_name IS NOT NULL\n",
    "\"\"\").createOrReplaceTempView('orders_in_known_merchants')\n",
    "\n",
    "\n",
    "joined_sdf = spark.sql(\"\"\"\n",
    "SELECT table1.merchant_abn AS unknown_merchant_abn, \n",
    "    COUNT(table1.merchant_abn) AS num_of_order_in_known_merchant,\n",
    "    COUNT(DISTINCT table2.user_id) AS num_of_distinct_customers,\n",
    "    COUNT(DISTINCT table2.merchant_abn) AS num_of_known_merchant,\n",
    "    COUNT(DISTINCT table2.prod_desc) AS num_of_distinct_prod_desc,\n",
    "    COUNT(DISTINCT table2.revenue_level) AS num_of_distinct_revenue_level\n",
    "FROM unknown_merchants AS table1\n",
    "LEFT JOIN orders_in_known_merchants AS table2 \n",
    "ON table1.user_id=table2.user_id\n",
    "GROUP BY table1.merchant_abn\n",
    "\"\"\")\n",
    "\n",
    "joined_sdf.limit(5)"
   ]
  },
  {
   "cell_type": "code",
   "execution_count": 7,
   "metadata": {},
   "outputs": [
    {
     "name": "stderr",
     "output_type": "stream",
     "text": [
      "                                                                                \r"
     ]
    },
    {
     "data": {
      "text/html": [
       "<table border='1'>\n",
       "<tr><th>unknown_merchant_abn</th><th>num_of_order_in_known_merchant</th><th>num_of_distinct_customers</th><th>num_of_known_merchant</th><th>num_of_distinct_prod_desc</th><th>num_of_distinct_revenue_level</th></tr>\n",
       "</table>\n"
      ],
      "text/plain": [
       "+--------------------+------------------------------+-------------------------+---------------------+-------------------------+-----------------------------+\n",
       "|unknown_merchant_abn|num_of_order_in_known_merchant|num_of_distinct_customers|num_of_known_merchant|num_of_distinct_prod_desc|num_of_distinct_revenue_level|\n",
       "+--------------------+------------------------------+-------------------------+---------------------+-------------------------+-----------------------------+\n",
       "+--------------------+------------------------------+-------------------------+---------------------+-------------------------+-----------------------------+"
      ]
     },
     "execution_count": 7,
     "metadata": {},
     "output_type": "execute_result"
    }
   ],
   "source": [
    "joined_sdf.filter(F.col(\"num_of_order_in_known_merchant\") == 0)"
   ]
  },
  {
   "cell_type": "code",
   "execution_count": 8,
   "metadata": {},
   "outputs": [
    {
     "name": "stderr",
     "output_type": "stream",
     "text": [
      "                                                                                \r"
     ]
    },
    {
     "data": {
      "text/plain": [
       "[Row(prod_desc=None),\n",
       " Row(prod_desc='antique shops -  sales, repairs, and restoration services'),\n",
       " Row(prod_desc='antique shops - sales,  repairs, and restoration services'),\n",
       " Row(prod_desc='antique shops - sales, repairs, and restoration services'),\n",
       " Row(prod_desc='art dealers and  galleries')]"
      ]
     },
     "execution_count": 8,
     "metadata": {},
     "output_type": "execute_result"
    }
   ],
   "source": [
    "# Need to clean the data\n",
    "transaction_20210828_20220227_sdf.select(F.col(\"prod_desc\")).distinct().orderBy(F.col(\"prod_desc\")).take(5)"
   ]
  },
  {
   "cell_type": "code",
   "execution_count": 27,
   "metadata": {},
   "outputs": [
    {
     "name": "stderr",
     "output_type": "stream",
     "text": [
      "                                                                                \r"
     ]
    },
    {
     "data": {
      "text/plain": [
       "[Row(prod_desc='florists supplies, nursery stock, and flowers'),\n",
       " Row(prod_desc='furniture, home furnishings and equipment shops, and manufacturers, except appliances'),\n",
       " Row(prod_desc='gift, card, novelty, and souvenir shops'),\n",
       " Row(prod_desc='health and beauty spas'),\n",
       " Row(prod_desc='hobby, toy and game shops'),\n",
       " Row(prod_desc='jewelry, watch, clock, and silverware shops'),\n",
       " Row(prod_desc='lawn and garden supply outlets, including nurseries'),\n",
       " Row(prod_desc='motor vehicle supplies and new parts'),\n",
       " Row(prod_desc='music shops - musical instruments, pianos, and sheet music'),\n",
       " Row(prod_desc='opticians, optical goods, and eyeglasses'),\n",
       " Row(prod_desc='shoe shops'),\n",
       " Row(prod_desc='stationery, office supplies and printing and writing paper'),\n",
       " Row(prod_desc='telecom'),\n",
       " Row(prod_desc='tent and awning shops'),\n",
       " Row(prod_desc='watch, clock, and jewelry repair shops')]"
      ]
     },
     "execution_count": 27,
     "metadata": {},
     "output_type": "execute_result"
    }
   ],
   "source": [
    "transaction_20210828_20220227_sdf.select(F.col(\"prod_desc\")).distinct().orderBy(F.col(\"prod_desc\")).count()\n",
    "\n"
   ]
  },
  {
   "cell_type": "code",
   "execution_count": 9,
   "metadata": {},
   "outputs": [
    {
     "name": "stderr",
     "output_type": "stream",
     "text": [
      "                                                                                \r"
     ]
    },
    {
     "data": {
      "text/html": [
       "<table border='1'>\n",
       "<tr><th>user_id</th><th>merchant_abn</th><th>dollar_value</th><th>order_id</th><th>order_datetime</th><th>merchant_name</th><th>prod_desc</th><th>revenue_level</th><th>take_rate</th><th>consumer_name</th><th>address</th><th>state</th><th>postcode</th><th>gender</th><th>consumer_id</th></tr>\n",
       "<tr><td>1277</td><td>10023283211</td><td>313.00851867046595</td><td>654b3e5c-60cf-486...</td><td>2021-11-28</td><td>Felis Limited</td><td>furniture, home f...</td><td>e</td><td>0.1</td><td>Tara Howard</td><td>904 Earl Light</td><td>QLD</td><td>4877</td><td>Female</td><td>1104483</td></tr>\n",
       "<tr><td>2700</td><td>10023283211</td><td>182.36576363575438</td><td>347d05e2-202d-412...</td><td>2021-11-02</td><td>Felis Limited</td><td>furniture, home f...</td><td>e</td><td>0.1</td><td>Danielle Wang</td><td>6442 Lee Ridge</td><td>VIC</td><td>8002</td><td>Female</td><td>1331269</td></tr>\n",
       "<tr><td>1374</td><td>10023283211</td><td>192.56967025206546</td><td>bc18bc09-926c-444...</td><td>2022-02-27</td><td>Felis Limited</td><td>furniture, home f...</td><td>e</td><td>0.1</td><td>Mark Garcia</td><td>9450 Martinez Knolls</td><td>QLD</td><td>4116</td><td>Male</td><td>561397</td></tr>\n",
       "<tr><td>202</td><td>10023283211</td><td>284.28664583466747</td><td>5c8fbf60-4dfe-416...</td><td>2021-12-05</td><td>Felis Limited</td><td>furniture, home f...</td><td>e</td><td>0.1</td><td>Bryan Ho</td><td>8010 Denise Gardens</td><td>NSW</td><td>1485</td><td>Male</td><td>953975</td></tr>\n",
       "<tr><td>1640</td><td>10023283211</td><td>367.06151947286946</td><td>24bebd74-9f0c-440...</td><td>2021-11-05</td><td>Felis Limited</td><td>furniture, home f...</td><td>e</td><td>0.1</td><td>Jenna Page</td><td>1882 Courtney Tunnel</td><td>QLD</td><td>4655</td><td>Female</td><td>1036773</td></tr>\n",
       "</table>\n"
      ],
      "text/plain": [
       "+-------+------------+------------------+--------------------+--------------+-------------+--------------------+-------------+---------+-------------+--------------------+-----+--------+------+-----------+\n",
       "|user_id|merchant_abn|      dollar_value|            order_id|order_datetime|merchant_name|           prod_desc|revenue_level|take_rate|consumer_name|             address|state|postcode|gender|consumer_id|\n",
       "+-------+------------+------------------+--------------------+--------------+-------------+--------------------+-------------+---------+-------------+--------------------+-----+--------+------+-----------+\n",
       "|   1277| 10023283211|313.00851867046595|654b3e5c-60cf-486...|    2021-11-28|Felis Limited|furniture, home f...|            e|      0.1|  Tara Howard|      904 Earl Light|  QLD|    4877|Female|    1104483|\n",
       "|   2700| 10023283211|182.36576363575438|347d05e2-202d-412...|    2021-11-02|Felis Limited|furniture, home f...|            e|      0.1|Danielle Wang|      6442 Lee Ridge|  VIC|    8002|Female|    1331269|\n",
       "|   1374| 10023283211|192.56967025206546|bc18bc09-926c-444...|    2022-02-27|Felis Limited|furniture, home f...|            e|      0.1|  Mark Garcia|9450 Martinez Knolls|  QLD|    4116|  Male|     561397|\n",
       "|    202| 10023283211|284.28664583466747|5c8fbf60-4dfe-416...|    2021-12-05|Felis Limited|furniture, home f...|            e|      0.1|     Bryan Ho| 8010 Denise Gardens|  NSW|    1485|  Male|     953975|\n",
       "|   1640| 10023283211|367.06151947286946|24bebd74-9f0c-440...|    2021-11-05|Felis Limited|furniture, home f...|            e|      0.1|   Jenna Page|1882 Courtney Tunnel|  QLD|    4655|Female|    1036773|\n",
       "+-------+------------+------------------+--------------------+--------------+-------------+--------------------+-------------+---------+-------------+--------------------+-----+--------+------+-----------+"
      ]
     },
     "execution_count": 9,
     "metadata": {},
     "output_type": "execute_result"
    }
   ],
   "source": [
    "# take_rate is the independent of the dollar amount of an order\n",
    "transaction_20210828_20220227_sdf.orderBy(F.col(\"merchant_abn\")).limit(5)"
   ]
  },
  {
   "cell_type": "code",
   "execution_count": 10,
   "metadata": {},
   "outputs": [
    {
     "name": "stderr",
     "output_type": "stream",
     "text": [
      "                                                                                \r"
     ]
    },
    {
     "data": {
      "text/plain": [
       "-0.9520944324849947"
      ]
     },
     "execution_count": 10,
     "metadata": {},
     "output_type": "execute_result"
    }
   ],
   "source": [
    "# Take rate and revenue level are highly negatively correlated\n",
    "from pyspark.ml.stat import Correlation\n",
    "from pyspark.sql.types import ByteType, FloatType\n",
    "revenue_dict = {'a': 1, 'b': 2, 'c': 3, 'd': 4, 'e': 5}\n",
    "\n",
    "@F.udf(returnType=ByteType())\n",
    "def revenue_level_converter(rl):\n",
    "    return revenue_dict[rl]\n",
    "\n",
    "transaction_20210828_20220227_sdf.filter(F.col(\"revenue_level\").isNotNull()) \\\n",
    "                                 .withColumn(\"take_rate\", F.col(\"take_rate\").cast(FloatType())) \\\n",
    "                                 .withColumn(\"revenue_level_int\", revenue_level_converter(F.col(\"revenue_level\"))) \\\n",
    "                                 .corr('revenue_level_int', 'take_rate')"
   ]
  }
 ],
 "metadata": {
  "kernelspec": {
   "display_name": "Python 3.9.7 ('base')",
   "language": "python",
   "name": "python3"
  },
  "language_info": {
   "codemirror_mode": {
    "name": "ipython",
    "version": 3
   },
   "file_extension": ".py",
   "mimetype": "text/x-python",
   "name": "python",
   "nbconvert_exporter": "python",
   "pygments_lexer": "ipython3",
   "version": "3.9.7"
  },
  "orig_nbformat": 4,
  "vscode": {
   "interpreter": {
    "hash": "40d3a090f54c6569ab1632332b64b2c03c39dcf918b08424e98f38b5ae0af88f"
   }
  }
 },
 "nbformat": 4,
 "nbformat_minor": 2
}
