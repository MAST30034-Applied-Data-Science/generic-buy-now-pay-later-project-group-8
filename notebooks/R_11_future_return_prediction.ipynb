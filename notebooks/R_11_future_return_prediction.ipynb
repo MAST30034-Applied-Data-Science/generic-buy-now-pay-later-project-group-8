{
 "cells": [
  {
   "cell_type": "markdown",
   "metadata": {},
   "source": [
    "# Predict future revenue Growth Rate - curate data and first look at models\n",
    "\n",
    "purpose:\n",
    "- clean data and build model for future growth "
   ]
  },
  {
   "cell_type": "code",
   "execution_count": 1,
   "metadata": {},
   "outputs": [],
   "source": [
    "# import libraries\n",
    "import pandas as pd\n",
    "import os\n",
    "import numpy as np\n",
    "\n",
    "from sklearn.preprocessing import StandardScaler\n",
    "\n",
    "import pickle"
   ]
  },
  {
   "cell_type": "code",
   "execution_count": 2,
   "metadata": {},
   "outputs": [],
   "source": [
    "# create directory to store tuning results\n",
    "output_relative_dirs = ['../models/growth_standardiser/sum_transactions', '../models/growth_standardiser/number_of_customers', \n",
    "    '../models/growth_standardiser/distinct_customers', '../models/growth']\n",
    "\n",
    "# check if it exists as it makedir will raise an error if it does exist\n",
    "for output_relative_dir in output_relative_dirs:\n",
    "    if not os.path.exists(output_relative_dir):\n",
    "        os.makedirs(output_relative_dir)"
   ]
  },
  {
   "cell_type": "code",
   "execution_count": 6,
   "metadata": {},
   "outputs": [],
   "source": [
    "# read data\n",
    "growth = pd.read_csv('../data/curated/final_model/input/fortnightly_agg_merchant_transactions_NOTAKE_NOFRAUD.csv')"
   ]
  },
  {
   "cell_type": "code",
   "execution_count": 7,
   "metadata": {},
   "outputs": [
    {
     "data": {
      "text/html": [
       "<div>\n",
       "<style scoped>\n",
       "    .dataframe tbody tr th:only-of-type {\n",
       "        vertical-align: middle;\n",
       "    }\n",
       "\n",
       "    .dataframe tbody tr th {\n",
       "        vertical-align: top;\n",
       "    }\n",
       "\n",
       "    .dataframe thead th {\n",
       "        text-align: right;\n",
       "    }\n",
       "</style>\n",
       "<table border=\"1\" class=\"dataframe\">\n",
       "  <thead>\n",
       "    <tr style=\"text-align: right;\">\n",
       "      <th></th>\n",
       "      <th>Year</th>\n",
       "      <th>Fortnight</th>\n",
       "      <th>merchant_abn</th>\n",
       "      <th>sum_transactions</th>\n",
       "      <th>number_of_customers</th>\n",
       "      <th>distinct_customers</th>\n",
       "    </tr>\n",
       "  </thead>\n",
       "  <tbody>\n",
       "    <tr>\n",
       "      <th>0</th>\n",
       "      <td>2021</td>\n",
       "      <td>5</td>\n",
       "      <td>10023283211</td>\n",
       "      <td>11068.431981</td>\n",
       "      <td>50</td>\n",
       "      <td>50</td>\n",
       "    </tr>\n",
       "    <tr>\n",
       "      <th>1</th>\n",
       "      <td>2021</td>\n",
       "      <td>6</td>\n",
       "      <td>10023283211</td>\n",
       "      <td>10333.463549</td>\n",
       "      <td>47</td>\n",
       "      <td>47</td>\n",
       "    </tr>\n",
       "    <tr>\n",
       "      <th>2</th>\n",
       "      <td>2021</td>\n",
       "      <td>7</td>\n",
       "      <td>10023283211</td>\n",
       "      <td>12417.540417</td>\n",
       "      <td>56</td>\n",
       "      <td>56</td>\n",
       "    </tr>\n",
       "    <tr>\n",
       "      <th>3</th>\n",
       "      <td>2021</td>\n",
       "      <td>8</td>\n",
       "      <td>10023283211</td>\n",
       "      <td>14616.749734</td>\n",
       "      <td>67</td>\n",
       "      <td>67</td>\n",
       "    </tr>\n",
       "    <tr>\n",
       "      <th>4</th>\n",
       "      <td>2021</td>\n",
       "      <td>9</td>\n",
       "      <td>10023283211</td>\n",
       "      <td>12939.826183</td>\n",
       "      <td>63</td>\n",
       "      <td>63</td>\n",
       "    </tr>\n",
       "    <tr>\n",
       "      <th>...</th>\n",
       "      <td>...</td>\n",
       "      <td>...</td>\n",
       "      <td>...</td>\n",
       "      <td>...</td>\n",
       "      <td>...</td>\n",
       "      <td>...</td>\n",
       "    </tr>\n",
       "    <tr>\n",
       "      <th>162704</th>\n",
       "      <td>2022</td>\n",
       "      <td>12</td>\n",
       "      <td>99990536339</td>\n",
       "      <td>0.000000</td>\n",
       "      <td>0</td>\n",
       "      <td>0</td>\n",
       "    </tr>\n",
       "    <tr>\n",
       "      <th>162705</th>\n",
       "      <td>2022</td>\n",
       "      <td>13</td>\n",
       "      <td>99990536339</td>\n",
       "      <td>0.000000</td>\n",
       "      <td>0</td>\n",
       "      <td>0</td>\n",
       "    </tr>\n",
       "    <tr>\n",
       "      <th>162706</th>\n",
       "      <td>2022</td>\n",
       "      <td>14</td>\n",
       "      <td>99990536339</td>\n",
       "      <td>0.000000</td>\n",
       "      <td>0</td>\n",
       "      <td>0</td>\n",
       "    </tr>\n",
       "    <tr>\n",
       "      <th>162707</th>\n",
       "      <td>2022</td>\n",
       "      <td>15</td>\n",
       "      <td>99990536339</td>\n",
       "      <td>942.464109</td>\n",
       "      <td>1</td>\n",
       "      <td>1</td>\n",
       "    </tr>\n",
       "    <tr>\n",
       "      <th>162708</th>\n",
       "      <td>2022</td>\n",
       "      <td>16</td>\n",
       "      <td>99990536339</td>\n",
       "      <td>356.950927</td>\n",
       "      <td>1</td>\n",
       "      <td>1</td>\n",
       "    </tr>\n",
       "  </tbody>\n",
       "</table>\n",
       "<p>162709 rows × 6 columns</p>\n",
       "</div>"
      ],
      "text/plain": [
       "        Year  Fortnight  merchant_abn  sum_transactions  number_of_customers  \\\n",
       "0       2021          5   10023283211      11068.431981                   50   \n",
       "1       2021          6   10023283211      10333.463549                   47   \n",
       "2       2021          7   10023283211      12417.540417                   56   \n",
       "3       2021          8   10023283211      14616.749734                   67   \n",
       "4       2021          9   10023283211      12939.826183                   63   \n",
       "...      ...        ...           ...               ...                  ...   \n",
       "162704  2022         12   99990536339          0.000000                    0   \n",
       "162705  2022         13   99990536339          0.000000                    0   \n",
       "162706  2022         14   99990536339          0.000000                    0   \n",
       "162707  2022         15   99990536339        942.464109                    1   \n",
       "162708  2022         16   99990536339        356.950927                    1   \n",
       "\n",
       "        distinct_customers  \n",
       "0                       50  \n",
       "1                       47  \n",
       "2                       56  \n",
       "3                       67  \n",
       "4                       63  \n",
       "...                    ...  \n",
       "162704                   0  \n",
       "162705                   0  \n",
       "162706                   0  \n",
       "162707                   1  \n",
       "162708                   1  \n",
       "\n",
       "[162709 rows x 6 columns]"
      ]
     },
     "execution_count": 7,
     "metadata": {},
     "output_type": "execute_result"
    }
   ],
   "source": [
    "growth"
   ]
  },
  {
   "cell_type": "markdown",
   "metadata": {},
   "source": [
    "## Standardisation"
   ]
  },
  {
   "cell_type": "code",
   "execution_count": 8,
   "metadata": {},
   "outputs": [],
   "source": [
    "growth_standardised = pd.DataFrame()\n",
    "\n",
    "for id, dta in growth.groupby(['merchant_abn']):\n",
    "    \n",
    "    # fit the StandardScaler using train model\n",
    "    SS1 = StandardScaler()\n",
    "    SS1.fit(dta[['sum_transactions']])\n",
    "\n",
    "    dta['sum_transactions_STD'] = SS1.transform(dta[['sum_transactions']])\n",
    "    \n",
    "    SS2 = StandardScaler()\n",
    "    SS2.fit(dta[['number_of_customers']])\n",
    "\n",
    "    dta['number_of_customers_STD'] = SS2.transform(dta[['number_of_customers']])\n",
    "\n",
    "    SS3 = StandardScaler()\n",
    "    SS3.fit(dta[['distinct_customers']])\n",
    "\n",
    "    dta['distinct_customers_STD'] = SS3.transform(dta[['distinct_customers']])\n",
    "\n",
    "    growth_standardised = pd.concat([growth_standardised, dta])\n",
    "\n",
    "    # export the model\n",
    "    with open(f'../models/growth_standardiser/sum_transactions/{id}.pickle', 'wb') as f:\n",
    "        pickle.dump(SS1,f)\n",
    "    with open(f'../models/growth_standardiser/number_of_customers/{id}.pickle', 'wb') as f:\n",
    "        pickle.dump(SS2,f)\n",
    "    with open(f'../models/growth_standardiser/distinct_customers/{id}.pickle', 'wb') as f:\n",
    "        pickle.dump(SS3,f)"
   ]
  },
  {
   "cell_type": "code",
   "execution_count": 10,
   "metadata": {},
   "outputs": [],
   "source": [
    "# drop unstandardised columns\n",
    "growth_standardised = growth_standardised.drop(['sum_transactions', 'number_of_customers', 'distinct_customers'], axis=1)"
   ]
  },
  {
   "cell_type": "markdown",
   "metadata": {},
   "source": [
    "## Create label of 1) delta (internally standardised transaction value) and 2) next period internally standardised transaction value"
   ]
  },
  {
   "cell_type": "code",
   "execution_count": 6,
   "metadata": {},
   "outputs": [
    {
     "data": {
      "text/html": [
       "<div>\n",
       "<style scoped>\n",
       "    .dataframe tbody tr th:only-of-type {\n",
       "        vertical-align: middle;\n",
       "    }\n",
       "\n",
       "    .dataframe tbody tr th {\n",
       "        vertical-align: top;\n",
       "    }\n",
       "\n",
       "    .dataframe thead th {\n",
       "        text-align: right;\n",
       "    }\n",
       "</style>\n",
       "<table border=\"1\" class=\"dataframe\">\n",
       "  <thead>\n",
       "    <tr style=\"text-align: right;\">\n",
       "      <th></th>\n",
       "      <th>Year</th>\n",
       "      <th>Fortnight</th>\n",
       "      <th>merchant_abn</th>\n",
       "      <th>sum_transactions_STD</th>\n",
       "      <th>number_of_customers_STD</th>\n",
       "      <th>distinct_customers_STD</th>\n",
       "      <th>delta(r)</th>\n",
       "      <th>delta(n_customers)</th>\n",
       "      <th>delta(distinct_customers)</th>\n",
       "      <th>label1</th>\n",
       "      <th>label2</th>\n",
       "      <th>label3</th>\n",
       "    </tr>\n",
       "  </thead>\n",
       "  <tbody>\n",
       "    <tr>\n",
       "      <th>0</th>\n",
       "      <td>2021</td>\n",
       "      <td>5</td>\n",
       "      <td>10023283211</td>\n",
       "      <td>-1.112007</td>\n",
       "      <td>-1.348704</td>\n",
       "      <td>-1.345017</td>\n",
       "      <td>NaN</td>\n",
       "      <td>NaN</td>\n",
       "      <td>NaN</td>\n",
       "      <td>-0.183912</td>\n",
       "      <td>-0.180700</td>\n",
       "      <td>-0.180909</td>\n",
       "    </tr>\n",
       "    <tr>\n",
       "      <th>1</th>\n",
       "      <td>2021</td>\n",
       "      <td>6</td>\n",
       "      <td>10023283211</td>\n",
       "      <td>-1.295918</td>\n",
       "      <td>-1.529404</td>\n",
       "      <td>-1.525925</td>\n",
       "      <td>-0.183912</td>\n",
       "      <td>-0.180700</td>\n",
       "      <td>-0.180909</td>\n",
       "      <td>0.521500</td>\n",
       "      <td>0.542100</td>\n",
       "      <td>0.542726</td>\n",
       "    </tr>\n",
       "    <tr>\n",
       "      <th>2</th>\n",
       "      <td>2021</td>\n",
       "      <td>7</td>\n",
       "      <td>10023283211</td>\n",
       "      <td>-0.774419</td>\n",
       "      <td>-0.987303</td>\n",
       "      <td>-0.983199</td>\n",
       "      <td>0.521500</td>\n",
       "      <td>0.542100</td>\n",
       "      <td>0.542726</td>\n",
       "      <td>0.550309</td>\n",
       "      <td>0.662567</td>\n",
       "      <td>0.663332</td>\n",
       "    </tr>\n",
       "    <tr>\n",
       "      <th>3</th>\n",
       "      <td>2021</td>\n",
       "      <td>8</td>\n",
       "      <td>10023283211</td>\n",
       "      <td>-0.224109</td>\n",
       "      <td>-0.324736</td>\n",
       "      <td>-0.319868</td>\n",
       "      <td>0.550309</td>\n",
       "      <td>0.662567</td>\n",
       "      <td>0.663332</td>\n",
       "      <td>-0.419617</td>\n",
       "      <td>-0.240933</td>\n",
       "      <td>-0.241212</td>\n",
       "    </tr>\n",
       "    <tr>\n",
       "      <th>4</th>\n",
       "      <td>2021</td>\n",
       "      <td>9</td>\n",
       "      <td>10023283211</td>\n",
       "      <td>-0.643727</td>\n",
       "      <td>-0.565670</td>\n",
       "      <td>-0.561079</td>\n",
       "      <td>-0.419617</td>\n",
       "      <td>-0.240933</td>\n",
       "      <td>-0.241212</td>\n",
       "      <td>0.559929</td>\n",
       "      <td>0.481867</td>\n",
       "      <td>0.482423</td>\n",
       "    </tr>\n",
       "    <tr>\n",
       "      <th>...</th>\n",
       "      <td>...</td>\n",
       "      <td>...</td>\n",
       "      <td>...</td>\n",
       "      <td>...</td>\n",
       "      <td>...</td>\n",
       "      <td>...</td>\n",
       "      <td>...</td>\n",
       "      <td>...</td>\n",
       "      <td>...</td>\n",
       "      <td>...</td>\n",
       "      <td>...</td>\n",
       "      <td>...</td>\n",
       "    </tr>\n",
       "    <tr>\n",
       "      <th>97174</th>\n",
       "      <td>2021</td>\n",
       "      <td>23</td>\n",
       "      <td>99990536339</td>\n",
       "      <td>-0.726769</td>\n",
       "      <td>-1.135860</td>\n",
       "      <td>-1.135860</td>\n",
       "      <td>0.000000</td>\n",
       "      <td>0.000000</td>\n",
       "      <td>0.000000</td>\n",
       "      <td>3.995908</td>\n",
       "      <td>2.538982</td>\n",
       "      <td>2.538982</td>\n",
       "    </tr>\n",
       "    <tr>\n",
       "      <th>97175</th>\n",
       "      <td>2021</td>\n",
       "      <td>24</td>\n",
       "      <td>99990536339</td>\n",
       "      <td>3.269139</td>\n",
       "      <td>1.403122</td>\n",
       "      <td>1.403122</td>\n",
       "      <td>3.995908</td>\n",
       "      <td>2.538982</td>\n",
       "      <td>2.538982</td>\n",
       "      <td>-3.995908</td>\n",
       "      <td>-2.538982</td>\n",
       "      <td>-2.538982</td>\n",
       "    </tr>\n",
       "    <tr>\n",
       "      <th>97176</th>\n",
       "      <td>2021</td>\n",
       "      <td>25</td>\n",
       "      <td>99990536339</td>\n",
       "      <td>-0.726769</td>\n",
       "      <td>-1.135860</td>\n",
       "      <td>-1.135860</td>\n",
       "      <td>-3.995908</td>\n",
       "      <td>-2.538982</td>\n",
       "      <td>-2.538982</td>\n",
       "      <td>0.264744</td>\n",
       "      <td>1.269491</td>\n",
       "      <td>1.269491</td>\n",
       "    </tr>\n",
       "    <tr>\n",
       "      <th>97177</th>\n",
       "      <td>2021</td>\n",
       "      <td>26</td>\n",
       "      <td>99990536339</td>\n",
       "      <td>-0.462025</td>\n",
       "      <td>0.133631</td>\n",
       "      <td>0.133631</td>\n",
       "      <td>0.264744</td>\n",
       "      <td>1.269491</td>\n",
       "      <td>1.269491</td>\n",
       "      <td>-0.264744</td>\n",
       "      <td>-1.269491</td>\n",
       "      <td>-1.269491</td>\n",
       "    </tr>\n",
       "    <tr>\n",
       "      <th>97178</th>\n",
       "      <td>2022</td>\n",
       "      <td>1</td>\n",
       "      <td>99990536339</td>\n",
       "      <td>-0.726769</td>\n",
       "      <td>-1.135860</td>\n",
       "      <td>-1.135860</td>\n",
       "      <td>-0.264744</td>\n",
       "      <td>-1.269491</td>\n",
       "      <td>-1.269491</td>\n",
       "      <td>NaN</td>\n",
       "      <td>NaN</td>\n",
       "      <td>NaN</td>\n",
       "    </tr>\n",
       "  </tbody>\n",
       "</table>\n",
       "<p>97179 rows × 12 columns</p>\n",
       "</div>"
      ],
      "text/plain": [
       "       Year  Fortnight  merchant_abn  sum_transactions_STD  \\\n",
       "0      2021          5   10023283211             -1.112007   \n",
       "1      2021          6   10023283211             -1.295918   \n",
       "2      2021          7   10023283211             -0.774419   \n",
       "3      2021          8   10023283211             -0.224109   \n",
       "4      2021          9   10023283211             -0.643727   \n",
       "...     ...        ...           ...                   ...   \n",
       "97174  2021         23   99990536339             -0.726769   \n",
       "97175  2021         24   99990536339              3.269139   \n",
       "97176  2021         25   99990536339             -0.726769   \n",
       "97177  2021         26   99990536339             -0.462025   \n",
       "97178  2022          1   99990536339             -0.726769   \n",
       "\n",
       "       number_of_customers_STD  distinct_customers_STD  delta(r)  \\\n",
       "0                    -1.348704               -1.345017       NaN   \n",
       "1                    -1.529404               -1.525925 -0.183912   \n",
       "2                    -0.987303               -0.983199  0.521500   \n",
       "3                    -0.324736               -0.319868  0.550309   \n",
       "4                    -0.565670               -0.561079 -0.419617   \n",
       "...                        ...                     ...       ...   \n",
       "97174                -1.135860               -1.135860  0.000000   \n",
       "97175                 1.403122                1.403122  3.995908   \n",
       "97176                -1.135860               -1.135860 -3.995908   \n",
       "97177                 0.133631                0.133631  0.264744   \n",
       "97178                -1.135860               -1.135860 -0.264744   \n",
       "\n",
       "       delta(n_customers)  delta(distinct_customers)    label1    label2  \\\n",
       "0                     NaN                        NaN -0.183912 -0.180700   \n",
       "1               -0.180700                  -0.180909  0.521500  0.542100   \n",
       "2                0.542100                   0.542726  0.550309  0.662567   \n",
       "3                0.662567                   0.663332 -0.419617 -0.240933   \n",
       "4               -0.240933                  -0.241212  0.559929  0.481867   \n",
       "...                   ...                        ...       ...       ...   \n",
       "97174            0.000000                   0.000000  3.995908  2.538982   \n",
       "97175            2.538982                   2.538982 -3.995908 -2.538982   \n",
       "97176           -2.538982                  -2.538982  0.264744  1.269491   \n",
       "97177            1.269491                   1.269491 -0.264744 -1.269491   \n",
       "97178           -1.269491                  -1.269491       NaN       NaN   \n",
       "\n",
       "         label3  \n",
       "0     -0.180909  \n",
       "1      0.542726  \n",
       "2      0.663332  \n",
       "3     -0.241212  \n",
       "4      0.482423  \n",
       "...         ...  \n",
       "97174  2.538982  \n",
       "97175 -2.538982  \n",
       "97176  1.269491  \n",
       "97177 -1.269491  \n",
       "97178       NaN  \n",
       "\n",
       "[97179 rows x 12 columns]"
      ]
     },
     "execution_count": 6,
     "metadata": {},
     "output_type": "execute_result"
    }
   ],
   "source": [
    "merchant_fortnight_w_deltachange = pd.DataFrame()\n",
    "\n",
    "for id, dta in growth_standardised.groupby(['merchant_abn']):\n",
    "    dta['delta(r)'] = dta['sum_transactions_STD'].diff(1)\n",
    "    dta['delta(n_customers)'] = dta['number_of_customers_STD'].diff(1)\n",
    "    dta['delta(distinct_customers)'] = dta['distinct_customers_STD'].diff(1)\n",
    "    \n",
    "    label1 = list(dta['delta(r)'])[1:]\n",
    "    label1.append(None)\n",
    "\n",
    "    label2 = list(dta['delta(n_customers)'])[1:]\n",
    "    label2.append(None)\n",
    "\n",
    "    label3 = list(dta['delta(distinct_customers)'])[1:]\n",
    "    label3.append(None)\n",
    "\n",
    "    dta['label1'] = label1\n",
    "    dta['label2'] = label2\n",
    "    dta['label3'] = label3\n",
    "\n",
    "    merchant_fortnight_w_deltachange = merchant_fortnight_w_deltachange.append(dta)\n",
    "\n",
    "merchant_fortnight_w_deltachange"
   ]
  },
  {
   "cell_type": "code",
   "execution_count": 7,
   "metadata": {},
   "outputs": [
    {
     "data": {
      "text/html": [
       "<div>\n",
       "<style scoped>\n",
       "    .dataframe tbody tr th:only-of-type {\n",
       "        vertical-align: middle;\n",
       "    }\n",
       "\n",
       "    .dataframe tbody tr th {\n",
       "        vertical-align: top;\n",
       "    }\n",
       "\n",
       "    .dataframe thead th {\n",
       "        text-align: right;\n",
       "    }\n",
       "</style>\n",
       "<table border=\"1\" class=\"dataframe\">\n",
       "  <thead>\n",
       "    <tr style=\"text-align: right;\">\n",
       "      <th></th>\n",
       "      <th>Year</th>\n",
       "      <th>Fortnight</th>\n",
       "      <th>merchant_abn</th>\n",
       "      <th>sum_transactions_STD</th>\n",
       "      <th>number_of_customers_STD</th>\n",
       "      <th>distinct_customers_STD</th>\n",
       "      <th>label1</th>\n",
       "      <th>label2</th>\n",
       "      <th>label3</th>\n",
       "    </tr>\n",
       "  </thead>\n",
       "  <tbody>\n",
       "    <tr>\n",
       "      <th>0</th>\n",
       "      <td>2021</td>\n",
       "      <td>5</td>\n",
       "      <td>10023283211</td>\n",
       "      <td>-1.112007</td>\n",
       "      <td>-1.348704</td>\n",
       "      <td>-1.345017</td>\n",
       "      <td>-0.183912</td>\n",
       "      <td>-0.180700</td>\n",
       "      <td>-0.180909</td>\n",
       "    </tr>\n",
       "    <tr>\n",
       "      <th>1</th>\n",
       "      <td>2021</td>\n",
       "      <td>6</td>\n",
       "      <td>10023283211</td>\n",
       "      <td>-1.295918</td>\n",
       "      <td>-1.529404</td>\n",
       "      <td>-1.525925</td>\n",
       "      <td>0.521500</td>\n",
       "      <td>0.542100</td>\n",
       "      <td>0.542726</td>\n",
       "    </tr>\n",
       "    <tr>\n",
       "      <th>2</th>\n",
       "      <td>2021</td>\n",
       "      <td>7</td>\n",
       "      <td>10023283211</td>\n",
       "      <td>-0.774419</td>\n",
       "      <td>-0.987303</td>\n",
       "      <td>-0.983199</td>\n",
       "      <td>0.550309</td>\n",
       "      <td>0.662567</td>\n",
       "      <td>0.663332</td>\n",
       "    </tr>\n",
       "    <tr>\n",
       "      <th>3</th>\n",
       "      <td>2021</td>\n",
       "      <td>8</td>\n",
       "      <td>10023283211</td>\n",
       "      <td>-0.224109</td>\n",
       "      <td>-0.324736</td>\n",
       "      <td>-0.319868</td>\n",
       "      <td>-0.419617</td>\n",
       "      <td>-0.240933</td>\n",
       "      <td>-0.241212</td>\n",
       "    </tr>\n",
       "    <tr>\n",
       "      <th>4</th>\n",
       "      <td>2021</td>\n",
       "      <td>9</td>\n",
       "      <td>10023283211</td>\n",
       "      <td>-0.643727</td>\n",
       "      <td>-0.565670</td>\n",
       "      <td>-0.561079</td>\n",
       "      <td>0.559929</td>\n",
       "      <td>0.481867</td>\n",
       "      <td>0.482423</td>\n",
       "    </tr>\n",
       "    <tr>\n",
       "      <th>...</th>\n",
       "      <td>...</td>\n",
       "      <td>...</td>\n",
       "      <td>...</td>\n",
       "      <td>...</td>\n",
       "      <td>...</td>\n",
       "      <td>...</td>\n",
       "      <td>...</td>\n",
       "      <td>...</td>\n",
       "      <td>...</td>\n",
       "    </tr>\n",
       "    <tr>\n",
       "      <th>97174</th>\n",
       "      <td>2021</td>\n",
       "      <td>23</td>\n",
       "      <td>99990536339</td>\n",
       "      <td>-0.726769</td>\n",
       "      <td>-1.135860</td>\n",
       "      <td>-1.135860</td>\n",
       "      <td>3.995908</td>\n",
       "      <td>2.538982</td>\n",
       "      <td>2.538982</td>\n",
       "    </tr>\n",
       "    <tr>\n",
       "      <th>97175</th>\n",
       "      <td>2021</td>\n",
       "      <td>24</td>\n",
       "      <td>99990536339</td>\n",
       "      <td>3.269139</td>\n",
       "      <td>1.403122</td>\n",
       "      <td>1.403122</td>\n",
       "      <td>-3.995908</td>\n",
       "      <td>-2.538982</td>\n",
       "      <td>-2.538982</td>\n",
       "    </tr>\n",
       "    <tr>\n",
       "      <th>97176</th>\n",
       "      <td>2021</td>\n",
       "      <td>25</td>\n",
       "      <td>99990536339</td>\n",
       "      <td>-0.726769</td>\n",
       "      <td>-1.135860</td>\n",
       "      <td>-1.135860</td>\n",
       "      <td>0.264744</td>\n",
       "      <td>1.269491</td>\n",
       "      <td>1.269491</td>\n",
       "    </tr>\n",
       "    <tr>\n",
       "      <th>97177</th>\n",
       "      <td>2021</td>\n",
       "      <td>26</td>\n",
       "      <td>99990536339</td>\n",
       "      <td>-0.462025</td>\n",
       "      <td>0.133631</td>\n",
       "      <td>0.133631</td>\n",
       "      <td>-0.264744</td>\n",
       "      <td>-1.269491</td>\n",
       "      <td>-1.269491</td>\n",
       "    </tr>\n",
       "    <tr>\n",
       "      <th>97178</th>\n",
       "      <td>2022</td>\n",
       "      <td>1</td>\n",
       "      <td>99990536339</td>\n",
       "      <td>-0.726769</td>\n",
       "      <td>-1.135860</td>\n",
       "      <td>-1.135860</td>\n",
       "      <td>NaN</td>\n",
       "      <td>NaN</td>\n",
       "      <td>NaN</td>\n",
       "    </tr>\n",
       "  </tbody>\n",
       "</table>\n",
       "<p>97179 rows × 9 columns</p>\n",
       "</div>"
      ],
      "text/plain": [
       "       Year  Fortnight  merchant_abn  sum_transactions_STD  \\\n",
       "0      2021          5   10023283211             -1.112007   \n",
       "1      2021          6   10023283211             -1.295918   \n",
       "2      2021          7   10023283211             -0.774419   \n",
       "3      2021          8   10023283211             -0.224109   \n",
       "4      2021          9   10023283211             -0.643727   \n",
       "...     ...        ...           ...                   ...   \n",
       "97174  2021         23   99990536339             -0.726769   \n",
       "97175  2021         24   99990536339              3.269139   \n",
       "97176  2021         25   99990536339             -0.726769   \n",
       "97177  2021         26   99990536339             -0.462025   \n",
       "97178  2022          1   99990536339             -0.726769   \n",
       "\n",
       "       number_of_customers_STD  distinct_customers_STD    label1    label2  \\\n",
       "0                    -1.348704               -1.345017 -0.183912 -0.180700   \n",
       "1                    -1.529404               -1.525925  0.521500  0.542100   \n",
       "2                    -0.987303               -0.983199  0.550309  0.662567   \n",
       "3                    -0.324736               -0.319868 -0.419617 -0.240933   \n",
       "4                    -0.565670               -0.561079  0.559929  0.481867   \n",
       "...                        ...                     ...       ...       ...   \n",
       "97174                -1.135860               -1.135860  3.995908  2.538982   \n",
       "97175                 1.403122                1.403122 -3.995908 -2.538982   \n",
       "97176                -1.135860               -1.135860  0.264744  1.269491   \n",
       "97177                 0.133631                0.133631 -0.264744 -1.269491   \n",
       "97178                -1.135860               -1.135860       NaN       NaN   \n",
       "\n",
       "         label3  \n",
       "0     -0.180909  \n",
       "1      0.542726  \n",
       "2      0.663332  \n",
       "3     -0.241212  \n",
       "4      0.482423  \n",
       "...         ...  \n",
       "97174  2.538982  \n",
       "97175 -2.538982  \n",
       "97176  1.269491  \n",
       "97177 -1.269491  \n",
       "97178       NaN  \n",
       "\n",
       "[97179 rows x 9 columns]"
      ]
     },
     "execution_count": 7,
     "metadata": {},
     "output_type": "execute_result"
    }
   ],
   "source": [
    "# drop original useless columns\n",
    "merchant_fortnight_w_deltachange = merchant_fortnight_w_deltachange.drop(['delta(r)', 'delta(n_customers)',\n",
    "    'delta(distinct_customers)'], axis=1)\n",
    "merchant_fortnight_w_deltachange"
   ]
  },
  {
   "cell_type": "code",
   "execution_count": 8,
   "metadata": {},
   "outputs": [],
   "source": [
    "# drop last row of each company because of NaN label (from label creatino process)\n",
    "merchant_fortnight_w_deltachange = merchant_fortnight_w_deltachange.dropna()"
   ]
  },
  {
   "cell_type": "markdown",
   "metadata": {},
   "source": [
    "## Get the lags for time series analysis"
   ]
  },
  {
   "cell_type": "code",
   "execution_count": 9,
   "metadata": {},
   "outputs": [],
   "source": [
    "# create lags\n",
    "growth_standardised_timeSeries = pd.DataFrame()\n",
    "\n",
    "for id, dta in merchant_fortnight_w_deltachange.groupby(['merchant_abn']):\n",
    "\n",
    "    for i in range(1, 6):\n",
    "        dta[f'sum_transactions_STD_t-{i}'] = dta['sum_transactions_STD'].shift(i)\n",
    "        dta[f'number_of_customers_STD_t-{i}'] = dta['number_of_customers_STD'].shift(i)\n",
    "        dta[f'distinct_customers_STD_t-{i}'] = dta['distinct_customers_STD'].shift(i)\n",
    "    \n",
    "    growth_standardised_timeSeries = pd.concat([growth_standardised_timeSeries, dta])"
   ]
  },
  {
   "cell_type": "code",
   "execution_count": 10,
   "metadata": {},
   "outputs": [],
   "source": [
    "# rename original columns with t-0\n",
    "growth_standardised_timeSeries = growth_standardised_timeSeries.rename(columns={'sum_transactions_STD': 'sum_transactions_STD_t-0', 'number_of_customers_STD': 'number_of_customers_STD_t-0', 'distinct_customers_STD': 'distinct_customers_STD_t-0'})"
   ]
  },
  {
   "cell_type": "markdown",
   "metadata": {},
   "source": [
    "Add in persona data"
   ]
  },
  {
   "cell_type": "code",
   "execution_count": 13,
   "metadata": {},
   "outputs": [],
   "source": [
    "# do train val test split\n",
    "train_standardised = growth_standardised_timeSeries[(growth_standardised_timeSeries['Year'] == 2021) & (growth_standardised_timeSeries['Fortnight'] < 21)]\n",
    "\n",
    "val_standardised = growth_standardised_timeSeries[(growth_standardised_timeSeries['Year'] == 2021) & ((growth_standardised_timeSeries['Fortnight'] >= 21) & (growth_standardised_timeSeries['Fortnight'] <= 24))]\n",
    "\n",
    "test_standardised = growth_standardised_timeSeries[(growth_standardised_timeSeries['Year'] == 2022) | ((growth_standardised_timeSeries['Year'] == 2021) & (growth_standardised_timeSeries['Fortnight'] > 24))]"
   ]
  },
  {
   "cell_type": "markdown",
   "metadata": {},
   "source": [
    "### Feature Selection"
   ]
  },
  {
   "cell_type": "code",
   "execution_count": 14,
   "metadata": {},
   "outputs": [],
   "source": [
    "from sklearn.feature_selection import SelectKBest, f_regression"
   ]
  },
  {
   "cell_type": "markdown",
   "metadata": {},
   "source": [
    "label 1's feature selection"
   ]
  },
  {
   "cell_type": "code",
   "execution_count": 15,
   "metadata": {},
   "outputs": [
    {
     "data": {
      "text/plain": [
       "SelectKBest(k=18, score_func=<function f_regression at 0x7f91c970a1f0>)"
      ]
     },
     "execution_count": 15,
     "metadata": {},
     "output_type": "execute_result"
    }
   ],
   "source": [
    "# select k best\n",
    "selectk_F1 = SelectKBest(f_regression, k = len(train_standardised.columns) - 6)\n",
    "\n",
    "# because of time series analysis, some rows have nan attribute values. Even though might be using t-1 or t-2 as time series analysis,\n",
    "# still drop as if using t-5 for simplicity sake\n",
    "train_standardised_dropna = train_standardised.dropna() \n",
    "val_standardised_dropna = val_standardised.dropna()\n",
    "test_standardised_dropna = test_standardised.dropna()\n",
    "\n",
    "selectk_F1.fit(train_standardised_dropna.drop(['Year', 'Fortnight', 'merchant_abn', 'label1', 'label2', 'label3'], axis=1), train_standardised_dropna['label1'])"
   ]
  },
  {
   "cell_type": "code",
   "execution_count": 16,
   "metadata": {},
   "outputs": [
    {
     "data": {
      "text/html": [
       "<div>\n",
       "<style scoped>\n",
       "    .dataframe tbody tr th:only-of-type {\n",
       "        vertical-align: middle;\n",
       "    }\n",
       "\n",
       "    .dataframe tbody tr th {\n",
       "        vertical-align: top;\n",
       "    }\n",
       "\n",
       "    .dataframe thead th {\n",
       "        text-align: right;\n",
       "    }\n",
       "</style>\n",
       "<table border=\"1\" class=\"dataframe\">\n",
       "  <thead>\n",
       "    <tr style=\"text-align: right;\">\n",
       "      <th></th>\n",
       "      <th>features</th>\n",
       "      <th>scores</th>\n",
       "    </tr>\n",
       "  </thead>\n",
       "  <tbody>\n",
       "    <tr>\n",
       "      <th>0</th>\n",
       "      <td>sum_transactions_STD_t-0</td>\n",
       "      <td>46583.953058</td>\n",
       "    </tr>\n",
       "    <tr>\n",
       "      <th>1</th>\n",
       "      <td>number_of_customers_STD_t-0</td>\n",
       "      <td>22608.632960</td>\n",
       "    </tr>\n",
       "    <tr>\n",
       "      <th>2</th>\n",
       "      <td>distinct_customers_STD_t-0</td>\n",
       "      <td>22601.135039</td>\n",
       "    </tr>\n",
       "    <tr>\n",
       "      <th>15</th>\n",
       "      <td>sum_transactions_STD_t-5</td>\n",
       "      <td>1.246396</td>\n",
       "    </tr>\n",
       "    <tr>\n",
       "      <th>9</th>\n",
       "      <td>sum_transactions_STD_t-3</td>\n",
       "      <td>0.725416</td>\n",
       "    </tr>\n",
       "    <tr>\n",
       "      <th>13</th>\n",
       "      <td>number_of_customers_STD_t-4</td>\n",
       "      <td>0.355538</td>\n",
       "    </tr>\n",
       "    <tr>\n",
       "      <th>14</th>\n",
       "      <td>distinct_customers_STD_t-4</td>\n",
       "      <td>0.352036</td>\n",
       "    </tr>\n",
       "    <tr>\n",
       "      <th>3</th>\n",
       "      <td>sum_transactions_STD_t-1</td>\n",
       "      <td>0.336616</td>\n",
       "    </tr>\n",
       "    <tr>\n",
       "      <th>16</th>\n",
       "      <td>number_of_customers_STD_t-5</td>\n",
       "      <td>0.265042</td>\n",
       "    </tr>\n",
       "    <tr>\n",
       "      <th>17</th>\n",
       "      <td>distinct_customers_STD_t-5</td>\n",
       "      <td>0.263849</td>\n",
       "    </tr>\n",
       "    <tr>\n",
       "      <th>6</th>\n",
       "      <td>sum_transactions_STD_t-2</td>\n",
       "      <td>0.228953</td>\n",
       "    </tr>\n",
       "    <tr>\n",
       "      <th>11</th>\n",
       "      <td>distinct_customers_STD_t-3</td>\n",
       "      <td>0.182656</td>\n",
       "    </tr>\n",
       "    <tr>\n",
       "      <th>10</th>\n",
       "      <td>number_of_customers_STD_t-3</td>\n",
       "      <td>0.171106</td>\n",
       "    </tr>\n",
       "    <tr>\n",
       "      <th>12</th>\n",
       "      <td>sum_transactions_STD_t-4</td>\n",
       "      <td>0.108795</td>\n",
       "    </tr>\n",
       "    <tr>\n",
       "      <th>4</th>\n",
       "      <td>number_of_customers_STD_t-1</td>\n",
       "      <td>0.082374</td>\n",
       "    </tr>\n",
       "    <tr>\n",
       "      <th>5</th>\n",
       "      <td>distinct_customers_STD_t-1</td>\n",
       "      <td>0.079077</td>\n",
       "    </tr>\n",
       "    <tr>\n",
       "      <th>8</th>\n",
       "      <td>distinct_customers_STD_t-2</td>\n",
       "      <td>0.015864</td>\n",
       "    </tr>\n",
       "    <tr>\n",
       "      <th>7</th>\n",
       "      <td>number_of_customers_STD_t-2</td>\n",
       "      <td>0.011537</td>\n",
       "    </tr>\n",
       "  </tbody>\n",
       "</table>\n",
       "</div>"
      ],
      "text/plain": [
       "                       features        scores\n",
       "0      sum_transactions_STD_t-0  46583.953058\n",
       "1   number_of_customers_STD_t-0  22608.632960\n",
       "2    distinct_customers_STD_t-0  22601.135039\n",
       "15     sum_transactions_STD_t-5      1.246396\n",
       "9      sum_transactions_STD_t-3      0.725416\n",
       "13  number_of_customers_STD_t-4      0.355538\n",
       "14   distinct_customers_STD_t-4      0.352036\n",
       "3      sum_transactions_STD_t-1      0.336616\n",
       "16  number_of_customers_STD_t-5      0.265042\n",
       "17   distinct_customers_STD_t-5      0.263849\n",
       "6      sum_transactions_STD_t-2      0.228953\n",
       "11   distinct_customers_STD_t-3      0.182656\n",
       "10  number_of_customers_STD_t-3      0.171106\n",
       "12     sum_transactions_STD_t-4      0.108795\n",
       "4   number_of_customers_STD_t-1      0.082374\n",
       "5    distinct_customers_STD_t-1      0.079077\n",
       "8    distinct_customers_STD_t-2      0.015864\n",
       "7   number_of_customers_STD_t-2      0.011537"
      ]
     },
     "execution_count": 16,
     "metadata": {},
     "output_type": "execute_result"
    }
   ],
   "source": [
    "# get the ranked feature names and scores\n",
    "kbest_scores1 = pd.DataFrame({'features': selectk_F1.get_feature_names_out(), 'scores': selectk_F1.scores_})\n",
    "kbest_scores1 = kbest_scores1.sort_values('scores', ascending=False)\n",
    "kbest_scores1"
   ]
  },
  {
   "cell_type": "markdown",
   "metadata": {},
   "source": [
    "label 2's feature selection"
   ]
  },
  {
   "cell_type": "code",
   "execution_count": 17,
   "metadata": {},
   "outputs": [
    {
     "data": {
      "text/plain": [
       "SelectKBest(k=18, score_func=<function f_regression at 0x7f91c970a1f0>)"
      ]
     },
     "execution_count": 17,
     "metadata": {},
     "output_type": "execute_result"
    }
   ],
   "source": [
    "# select k best\n",
    "selectk_F2 = SelectKBest(f_regression, k=len(train_standardised.columns) - 6)\n",
    "\n",
    "train_standardised_dropna = train_standardised.dropna()\n",
    "val_standardised_dropna = val_standardised.dropna()\n",
    "test_standardised_dropna = test_standardised.dropna()\n",
    "\n",
    "selectk_F2.fit(train_standardised_dropna.drop(['Year', 'Fortnight', 'merchant_abn', 'label1', 'label2', 'label3'], axis=1), train_standardised_dropna['label2'])"
   ]
  },
  {
   "cell_type": "code",
   "execution_count": 18,
   "metadata": {},
   "outputs": [
    {
     "data": {
      "text/html": [
       "<div>\n",
       "<style scoped>\n",
       "    .dataframe tbody tr th:only-of-type {\n",
       "        vertical-align: middle;\n",
       "    }\n",
       "\n",
       "    .dataframe tbody tr th {\n",
       "        vertical-align: top;\n",
       "    }\n",
       "\n",
       "    .dataframe thead th {\n",
       "        text-align: right;\n",
       "    }\n",
       "</style>\n",
       "<table border=\"1\" class=\"dataframe\">\n",
       "  <thead>\n",
       "    <tr style=\"text-align: right;\">\n",
       "      <th></th>\n",
       "      <th>features</th>\n",
       "      <th>scores</th>\n",
       "    </tr>\n",
       "  </thead>\n",
       "  <tbody>\n",
       "    <tr>\n",
       "      <th>1</th>\n",
       "      <td>number_of_customers_STD_t-0</td>\n",
       "      <td>4.585030e+04</td>\n",
       "    </tr>\n",
       "    <tr>\n",
       "      <th>2</th>\n",
       "      <td>distinct_customers_STD_t-0</td>\n",
       "      <td>4.583425e+04</td>\n",
       "    </tr>\n",
       "    <tr>\n",
       "      <th>0</th>\n",
       "      <td>sum_transactions_STD_t-0</td>\n",
       "      <td>2.315627e+04</td>\n",
       "    </tr>\n",
       "    <tr>\n",
       "      <th>6</th>\n",
       "      <td>sum_transactions_STD_t-2</td>\n",
       "      <td>1.615359e+00</td>\n",
       "    </tr>\n",
       "    <tr>\n",
       "      <th>9</th>\n",
       "      <td>sum_transactions_STD_t-3</td>\n",
       "      <td>1.017126e+00</td>\n",
       "    </tr>\n",
       "    <tr>\n",
       "      <th>8</th>\n",
       "      <td>distinct_customers_STD_t-2</td>\n",
       "      <td>1.009561e+00</td>\n",
       "    </tr>\n",
       "    <tr>\n",
       "      <th>7</th>\n",
       "      <td>number_of_customers_STD_t-2</td>\n",
       "      <td>9.782430e-01</td>\n",
       "    </tr>\n",
       "    <tr>\n",
       "      <th>11</th>\n",
       "      <td>distinct_customers_STD_t-3</td>\n",
       "      <td>5.453578e-01</td>\n",
       "    </tr>\n",
       "    <tr>\n",
       "      <th>10</th>\n",
       "      <td>number_of_customers_STD_t-3</td>\n",
       "      <td>5.353369e-01</td>\n",
       "    </tr>\n",
       "    <tr>\n",
       "      <th>3</th>\n",
       "      <td>sum_transactions_STD_t-1</td>\n",
       "      <td>1.756624e-01</td>\n",
       "    </tr>\n",
       "    <tr>\n",
       "      <th>14</th>\n",
       "      <td>distinct_customers_STD_t-4</td>\n",
       "      <td>1.696797e-01</td>\n",
       "    </tr>\n",
       "    <tr>\n",
       "      <th>13</th>\n",
       "      <td>number_of_customers_STD_t-4</td>\n",
       "      <td>1.601496e-01</td>\n",
       "    </tr>\n",
       "    <tr>\n",
       "      <th>12</th>\n",
       "      <td>sum_transactions_STD_t-4</td>\n",
       "      <td>5.808600e-02</td>\n",
       "    </tr>\n",
       "    <tr>\n",
       "      <th>15</th>\n",
       "      <td>sum_transactions_STD_t-5</td>\n",
       "      <td>2.396373e-02</td>\n",
       "    </tr>\n",
       "    <tr>\n",
       "      <th>4</th>\n",
       "      <td>number_of_customers_STD_t-1</td>\n",
       "      <td>1.039474e-03</td>\n",
       "    </tr>\n",
       "    <tr>\n",
       "      <th>5</th>\n",
       "      <td>distinct_customers_STD_t-1</td>\n",
       "      <td>8.619705e-04</td>\n",
       "    </tr>\n",
       "    <tr>\n",
       "      <th>17</th>\n",
       "      <td>distinct_customers_STD_t-5</td>\n",
       "      <td>4.553282e-06</td>\n",
       "    </tr>\n",
       "    <tr>\n",
       "      <th>16</th>\n",
       "      <td>number_of_customers_STD_t-5</td>\n",
       "      <td>1.955628e-07</td>\n",
       "    </tr>\n",
       "  </tbody>\n",
       "</table>\n",
       "</div>"
      ],
      "text/plain": [
       "                       features        scores\n",
       "1   number_of_customers_STD_t-0  4.585030e+04\n",
       "2    distinct_customers_STD_t-0  4.583425e+04\n",
       "0      sum_transactions_STD_t-0  2.315627e+04\n",
       "6      sum_transactions_STD_t-2  1.615359e+00\n",
       "9      sum_transactions_STD_t-3  1.017126e+00\n",
       "8    distinct_customers_STD_t-2  1.009561e+00\n",
       "7   number_of_customers_STD_t-2  9.782430e-01\n",
       "11   distinct_customers_STD_t-3  5.453578e-01\n",
       "10  number_of_customers_STD_t-3  5.353369e-01\n",
       "3      sum_transactions_STD_t-1  1.756624e-01\n",
       "14   distinct_customers_STD_t-4  1.696797e-01\n",
       "13  number_of_customers_STD_t-4  1.601496e-01\n",
       "12     sum_transactions_STD_t-4  5.808600e-02\n",
       "15     sum_transactions_STD_t-5  2.396373e-02\n",
       "4   number_of_customers_STD_t-1  1.039474e-03\n",
       "5    distinct_customers_STD_t-1  8.619705e-04\n",
       "17   distinct_customers_STD_t-5  4.553282e-06\n",
       "16  number_of_customers_STD_t-5  1.955628e-07"
      ]
     },
     "execution_count": 18,
     "metadata": {},
     "output_type": "execute_result"
    }
   ],
   "source": [
    "# get the ranked feature names and scores\n",
    "kbest_scores2 = pd.DataFrame({'features': selectk_F2.get_feature_names_out(), 'scores': selectk_F2.scores_})\n",
    "kbest_scores2 = kbest_scores2.sort_values('scores', ascending=False)\n",
    "kbest_scores2"
   ]
  },
  {
   "cell_type": "markdown",
   "metadata": {},
   "source": [
    "label 3's feature selection"
   ]
  },
  {
   "cell_type": "code",
   "execution_count": 19,
   "metadata": {},
   "outputs": [
    {
     "data": {
      "text/plain": [
       "SelectKBest(k=18, score_func=<function f_regression at 0x7f91c970a1f0>)"
      ]
     },
     "execution_count": 19,
     "metadata": {},
     "output_type": "execute_result"
    }
   ],
   "source": [
    "# select k best\n",
    "selectk_F3 = SelectKBest(f_regression, k=len(train_standardised.columns) - 6)\n",
    "\n",
    "train_standardised_dropna = train_standardised.dropna()\n",
    "val_standardised_dropna = val_standardised.dropna()\n",
    "test_standardised_dropna = test_standardised.dropna()\n",
    "\n",
    "selectk_F3.fit(train_standardised_dropna.drop(['Year', 'Fortnight', 'merchant_abn', 'label1', 'label2', 'label3'], axis=1), train_standardised_dropna['label3'])"
   ]
  },
  {
   "cell_type": "code",
   "execution_count": 20,
   "metadata": {},
   "outputs": [
    {
     "data": {
      "text/html": [
       "<div>\n",
       "<style scoped>\n",
       "    .dataframe tbody tr th:only-of-type {\n",
       "        vertical-align: middle;\n",
       "    }\n",
       "\n",
       "    .dataframe tbody tr th {\n",
       "        vertical-align: top;\n",
       "    }\n",
       "\n",
       "    .dataframe thead th {\n",
       "        text-align: right;\n",
       "    }\n",
       "</style>\n",
       "<table border=\"1\" class=\"dataframe\">\n",
       "  <thead>\n",
       "    <tr style=\"text-align: right;\">\n",
       "      <th></th>\n",
       "      <th>features</th>\n",
       "      <th>scores</th>\n",
       "    </tr>\n",
       "  </thead>\n",
       "  <tbody>\n",
       "    <tr>\n",
       "      <th>2</th>\n",
       "      <td>distinct_customers_STD_t-0</td>\n",
       "      <td>45849.106515</td>\n",
       "    </tr>\n",
       "    <tr>\n",
       "      <th>1</th>\n",
       "      <td>number_of_customers_STD_t-0</td>\n",
       "      <td>45818.785595</td>\n",
       "    </tr>\n",
       "    <tr>\n",
       "      <th>0</th>\n",
       "      <td>sum_transactions_STD_t-0</td>\n",
       "      <td>23147.481490</td>\n",
       "    </tr>\n",
       "    <tr>\n",
       "      <th>6</th>\n",
       "      <td>sum_transactions_STD_t-2</td>\n",
       "      <td>1.602325</td>\n",
       "    </tr>\n",
       "    <tr>\n",
       "      <th>9</th>\n",
       "      <td>sum_transactions_STD_t-3</td>\n",
       "      <td>1.010923</td>\n",
       "    </tr>\n",
       "    <tr>\n",
       "      <th>8</th>\n",
       "      <td>distinct_customers_STD_t-2</td>\n",
       "      <td>1.005485</td>\n",
       "    </tr>\n",
       "    <tr>\n",
       "      <th>7</th>\n",
       "      <td>number_of_customers_STD_t-2</td>\n",
       "      <td>0.974796</td>\n",
       "    </tr>\n",
       "    <tr>\n",
       "      <th>11</th>\n",
       "      <td>distinct_customers_STD_t-3</td>\n",
       "      <td>0.532803</td>\n",
       "    </tr>\n",
       "    <tr>\n",
       "      <th>10</th>\n",
       "      <td>number_of_customers_STD_t-3</td>\n",
       "      <td>0.523366</td>\n",
       "    </tr>\n",
       "    <tr>\n",
       "      <th>3</th>\n",
       "      <td>sum_transactions_STD_t-1</td>\n",
       "      <td>0.174393</td>\n",
       "    </tr>\n",
       "    <tr>\n",
       "      <th>14</th>\n",
       "      <td>distinct_customers_STD_t-4</td>\n",
       "      <td>0.171553</td>\n",
       "    </tr>\n",
       "    <tr>\n",
       "      <th>13</th>\n",
       "      <td>number_of_customers_STD_t-4</td>\n",
       "      <td>0.161550</td>\n",
       "    </tr>\n",
       "    <tr>\n",
       "      <th>12</th>\n",
       "      <td>sum_transactions_STD_t-4</td>\n",
       "      <td>0.056289</td>\n",
       "    </tr>\n",
       "    <tr>\n",
       "      <th>15</th>\n",
       "      <td>sum_transactions_STD_t-5</td>\n",
       "      <td>0.016319</td>\n",
       "    </tr>\n",
       "    <tr>\n",
       "      <th>4</th>\n",
       "      <td>number_of_customers_STD_t-1</td>\n",
       "      <td>0.001077</td>\n",
       "    </tr>\n",
       "    <tr>\n",
       "      <th>5</th>\n",
       "      <td>distinct_customers_STD_t-1</td>\n",
       "      <td>0.000914</td>\n",
       "    </tr>\n",
       "    <tr>\n",
       "      <th>16</th>\n",
       "      <td>number_of_customers_STD_t-5</td>\n",
       "      <td>0.000744</td>\n",
       "    </tr>\n",
       "    <tr>\n",
       "      <th>17</th>\n",
       "      <td>distinct_customers_STD_t-5</td>\n",
       "      <td>0.000649</td>\n",
       "    </tr>\n",
       "  </tbody>\n",
       "</table>\n",
       "</div>"
      ],
      "text/plain": [
       "                       features        scores\n",
       "2    distinct_customers_STD_t-0  45849.106515\n",
       "1   number_of_customers_STD_t-0  45818.785595\n",
       "0      sum_transactions_STD_t-0  23147.481490\n",
       "6      sum_transactions_STD_t-2      1.602325\n",
       "9      sum_transactions_STD_t-3      1.010923\n",
       "8    distinct_customers_STD_t-2      1.005485\n",
       "7   number_of_customers_STD_t-2      0.974796\n",
       "11   distinct_customers_STD_t-3      0.532803\n",
       "10  number_of_customers_STD_t-3      0.523366\n",
       "3      sum_transactions_STD_t-1      0.174393\n",
       "14   distinct_customers_STD_t-4      0.171553\n",
       "13  number_of_customers_STD_t-4      0.161550\n",
       "12     sum_transactions_STD_t-4      0.056289\n",
       "15     sum_transactions_STD_t-5      0.016319\n",
       "4   number_of_customers_STD_t-1      0.001077\n",
       "5    distinct_customers_STD_t-1      0.000914\n",
       "16  number_of_customers_STD_t-5      0.000744\n",
       "17   distinct_customers_STD_t-5      0.000649"
      ]
     },
     "execution_count": 20,
     "metadata": {},
     "output_type": "execute_result"
    }
   ],
   "source": [
    "# get the ranked feature names and scores\n",
    "kbest_scores3 = pd.DataFrame({'features': selectk_F3.get_feature_names_out(), 'scores': selectk_F3.scores_})\n",
    "kbest_scores3 = kbest_scores3.sort_values('scores', ascending=False)\n",
    "kbest_scores3"
   ]
  },
  {
   "cell_type": "markdown",
   "metadata": {},
   "source": [
    "## Plotting"
   ]
  },
  {
   "cell_type": "code",
   "execution_count": 21,
   "metadata": {},
   "outputs": [],
   "source": [
    "import matplotlib.pyplot as plt"
   ]
  },
  {
   "cell_type": "code",
   "execution_count": 22,
   "metadata": {},
   "outputs": [
    {
     "data": {
      "text/plain": [
       "<matplotlib.collections.PathCollection at 0x7f91c9ce6c70>"
      ]
     },
     "execution_count": 22,
     "metadata": {},
     "output_type": "execute_result"
    },
    {
     "data": {
      "image/png": "[encoded data removed]",
      "text/plain": [
       "<Figure size 432x288 with 1 Axes>"
      ]
     },
     "metadata": {
      "needs_background": "light"
     },
     "output_type": "display_data"
    }
   ],
   "source": [
    "plt.scatter(train_standardised_dropna['sum_transactions_STD_t-0'], train_standardised_dropna['label1'])"
   ]
  },
  {
   "cell_type": "code",
   "execution_count": 23,
   "metadata": {},
   "outputs": [
    {
     "data": {
      "text/plain": [
       "<matplotlib.collections.PathCollection at 0x7f91b9d477c0>"
      ]
     },
     "execution_count": 23,
     "metadata": {},
     "output_type": "execute_result"
    },
    {
     "data": {
      "image/png": "[encoded data removed]",
      "text/plain": [
       "<Figure size 432x288 with 1 Axes>"
      ]
     },
     "metadata": {
      "needs_background": "light"
     },
     "output_type": "display_data"
    }
   ],
   "source": [
    "plt.scatter(train_standardised_dropna['number_of_customers_STD_t-0'], train_standardised_dropna['label1'])"
   ]
  },
  {
   "cell_type": "code",
   "execution_count": 24,
   "metadata": {},
   "outputs": [
    {
     "data": {
      "text/plain": [
       "<matplotlib.collections.PathCollection at 0x7f91b9d206d0>"
      ]
     },
     "execution_count": 24,
     "metadata": {},
     "output_type": "execute_result"
    },
    {
     "data": {
      "image/png": "[encoded data removed]",
      "text/plain": [
       "<Figure size 432x288 with 1 Axes>"
      ]
     },
     "metadata": {
      "needs_background": "light"
     },
     "output_type": "display_data"
    }
   ],
   "source": [
    "plt.scatter(train_standardised_dropna['distinct_customers_STD_t-0'], train_standardised_dropna['label1'])"
   ]
  },
  {
   "cell_type": "code",
   "execution_count": 25,
   "metadata": {},
   "outputs": [
    {
     "data": {
      "text/plain": [
       "<matplotlib.collections.PathCollection at 0x7f91c9db7100>"
      ]
     },
     "execution_count": 25,
     "metadata": {},
     "output_type": "execute_result"
    },
    {
     "data": {
      "image/png": "[encoded data removed]",
      "text/plain": [
       "<Figure size 432x288 with 1 Axes>"
      ]
     },
     "metadata": {
      "needs_background": "light"
     },
     "output_type": "display_data"
    }
   ],
   "source": [
    "plt.scatter(train_standardised_dropna['sum_transactions_STD_t-0'], train_standardised_dropna['label2'])"
   ]
  },
  {
   "cell_type": "code",
   "execution_count": 26,
   "metadata": {},
   "outputs": [
    {
     "data": {
      "text/plain": [
       "<matplotlib.collections.PathCollection at 0x7f91cab61d90>"
      ]
     },
     "execution_count": 26,
     "metadata": {},
     "output_type": "execute_result"
    },
    {
     "data": {
      "image/png": "[encoded data removed]",
      "text/plain": [
       "<Figure size 432x288 with 1 Axes>"
      ]
     },
     "metadata": {
      "needs_background": "light"
     },
     "output_type": "display_data"
    }
   ],
   "source": [
    "plt.scatter(train_standardised_dropna['number_of_customers_STD_t-0'], train_standardised_dropna['label2'])"
   ]
  },
  {
   "cell_type": "code",
   "execution_count": 27,
   "metadata": {},
   "outputs": [
    {
     "data": {
      "text/plain": [
       "<matplotlib.collections.PathCollection at 0x7f91cab61b50>"
      ]
     },
     "execution_count": 27,
     "metadata": {},
     "output_type": "execute_result"
    },
    {
     "data": {
      "image/png": "[encoded data removed]",
      "text/plain": [
       "<Figure size 432x288 with 1 Axes>"
      ]
     },
     "metadata": {
      "needs_background": "light"
     },
     "output_type": "display_data"
    }
   ],
   "source": [
    "plt.scatter(train_standardised_dropna['distinct_customers_STD_t-0'], train_standardised_dropna['label2'])"
   ]
  },
  {
   "cell_type": "code",
   "execution_count": 28,
   "metadata": {},
   "outputs": [
    {
     "data": {
      "text/plain": [
       "<matplotlib.collections.PathCollection at 0x7f91da5cf1f0>"
      ]
     },
     "execution_count": 28,
     "metadata": {},
     "output_type": "execute_result"
    },
    {
     "data": {
      "image/png": "[encoded data removed]",
      "text/plain": [
       "<Figure size 432x288 with 1 Axes>"
      ]
     },
     "metadata": {
      "needs_background": "light"
     },
     "output_type": "display_data"
    }
   ],
   "source": [
    "plt.scatter(train_standardised_dropna['sum_transactions_STD_t-0'], train_standardised_dropna['label3'])"
   ]
  },
  {
   "cell_type": "code",
   "execution_count": 29,
   "metadata": {},
   "outputs": [
    {
     "data": {
      "text/plain": [
       "<matplotlib.collections.PathCollection at 0x7f91da7d1520>"
      ]
     },
     "execution_count": 29,
     "metadata": {},
     "output_type": "execute_result"
    },
    {
     "data": {
      "image/png": "[encoded data removed]",
      "text/plain": [
       "<Figure size 432x288 with 1 Axes>"
      ]
     },
     "metadata": {
      "needs_background": "light"
     },
     "output_type": "display_data"
    }
   ],
   "source": [
    "plt.scatter(train_standardised_dropna['number_of_customers_STD_t-0'], train_standardised_dropna['label3'])"
   ]
  },
  {
   "cell_type": "code",
   "execution_count": 30,
   "metadata": {},
   "outputs": [
    {
     "data": {
      "text/plain": [
       "<matplotlib.collections.PathCollection at 0x7f91aa7ac8b0>"
      ]
     },
     "execution_count": 30,
     "metadata": {},
     "output_type": "execute_result"
    },
    {
     "data": {
      "image/png": "[encoded data removed]",
      "text/plain": [
       "<Figure size 432x288 with 1 Axes>"
      ]
     },
     "metadata": {
      "needs_background": "light"
     },
     "output_type": "display_data"
    }
   ],
   "source": [
    "plt.scatter(train_standardised_dropna['distinct_customers_STD_t-0'], train_standardised_dropna['label3'])"
   ]
  },
  {
   "cell_type": "markdown",
   "metadata": {},
   "source": [
    "# Models\n",
    "### 1. Linear Regression"
   ]
  },
  {
   "cell_type": "code",
   "execution_count": 31,
   "metadata": {},
   "outputs": [],
   "source": [
    "from sklearn.linear_model import LinearRegression"
   ]
  },
  {
   "cell_type": "markdown",
   "metadata": {},
   "source": [
    "label1"
   ]
  },
  {
   "cell_type": "code",
   "execution_count": 32,
   "metadata": {},
   "outputs": [
    {
     "data": {
      "text/plain": [
       "LinearRegression()"
      ]
     },
     "execution_count": 32,
     "metadata": {},
     "output_type": "execute_result"
    }
   ],
   "source": [
    "LR = LinearRegression()\n",
    "LR.fit(train_standardised_dropna[['sum_transactions_STD_t-0', \n",
    "    'number_of_customers_STD_t-0', \n",
    "    'distinct_customers_STD_t-0']], train_standardised_dropna['label1'])"
   ]
  },
  {
   "cell_type": "code",
   "execution_count": 33,
   "metadata": {},
   "outputs": [
    {
     "data": {
      "text/html": [
       "<div>\n",
       "<style scoped>\n",
       "    .dataframe tbody tr th:only-of-type {\n",
       "        vertical-align: middle;\n",
       "    }\n",
       "\n",
       "    .dataframe tbody tr th {\n",
       "        vertical-align: top;\n",
       "    }\n",
       "\n",
       "    .dataframe thead th {\n",
       "        text-align: right;\n",
       "    }\n",
       "</style>\n",
       "<table border=\"1\" class=\"dataframe\">\n",
       "  <thead>\n",
       "    <tr style=\"text-align: right;\">\n",
       "      <th></th>\n",
       "      <th>predictions</th>\n",
       "    </tr>\n",
       "  </thead>\n",
       "  <tbody>\n",
       "    <tr>\n",
       "      <th>count</th>\n",
       "      <td>45189.000000</td>\n",
       "    </tr>\n",
       "    <tr>\n",
       "      <th>mean</th>\n",
       "      <td>0.030275</td>\n",
       "    </tr>\n",
       "    <tr>\n",
       "      <th>std</th>\n",
       "      <td>0.805496</td>\n",
       "    </tr>\n",
       "    <tr>\n",
       "      <th>min</th>\n",
       "      <td>-4.795080</td>\n",
       "    </tr>\n",
       "    <tr>\n",
       "      <th>25%</th>\n",
       "      <td>-0.372863</td>\n",
       "    </tr>\n",
       "    <tr>\n",
       "      <th>50%</th>\n",
       "      <td>0.160314</td>\n",
       "    </tr>\n",
       "    <tr>\n",
       "      <th>75%</th>\n",
       "      <td>0.567405</td>\n",
       "    </tr>\n",
       "    <tr>\n",
       "      <th>max</th>\n",
       "      <td>2.582606</td>\n",
       "    </tr>\n",
       "  </tbody>\n",
       "</table>\n",
       "</div>"
      ],
      "text/plain": [
       "        predictions\n",
       "count  45189.000000\n",
       "mean       0.030275\n",
       "std        0.805496\n",
       "min       -4.795080\n",
       "25%       -0.372863\n",
       "50%        0.160314\n",
       "75%        0.567405\n",
       "max        2.582606"
      ]
     },
     "execution_count": 33,
     "metadata": {},
     "output_type": "execute_result"
    }
   ],
   "source": [
    "predictions = LR.predict(train_standardised_dropna[['sum_transactions_STD_t-0', 'number_of_customers_STD_t-0', 'distinct_customers_STD_t-0']])\n",
    "\n",
    "pd.DataFrame({'predictions':predictions}).describe()"
   ]
  },
  {
   "cell_type": "code",
   "execution_count": 34,
   "metadata": {},
   "outputs": [
    {
     "data": {
      "text/plain": [
       "0.5077145072399425"
      ]
     },
     "execution_count": 34,
     "metadata": {},
     "output_type": "execute_result"
    }
   ],
   "source": [
    "LR.score(train_standardised_dropna[['sum_transactions_STD_t-0', 'number_of_customers_STD_t-0', 'distinct_customers_STD_t-0']], train_standardised_dropna['label1'])"
   ]
  },
  {
   "cell_type": "code",
   "execution_count": 36,
   "metadata": {},
   "outputs": [
    {
     "data": {
      "text/plain": [
       "0.4726485719503615"
      ]
     },
     "execution_count": 36,
     "metadata": {},
     "output_type": "execute_result"
    }
   ],
   "source": [
    "LR.score(test_standardised_dropna[['sum_transactions_STD_t-0', 'number_of_customers_STD_t-0', 'distinct_customers_STD_t-0']], test_standardised_dropna['label1'])"
   ]
  },
  {
   "cell_type": "code",
   "execution_count": 37,
   "metadata": {},
   "outputs": [],
   "source": [
    "# export the model\n",
    "with open(f'../models/growth/delta_revenue.pickle', 'wb') as f:\n",
    "    pickle.dump(LR,f)"
   ]
  },
  {
   "cell_type": "markdown",
   "metadata": {},
   "source": [
    "label 2"
   ]
  },
  {
   "cell_type": "code",
   "execution_count": 38,
   "metadata": {},
   "outputs": [
    {
     "data": {
      "text/plain": [
       "LinearRegression()"
      ]
     },
     "execution_count": 38,
     "metadata": {},
     "output_type": "execute_result"
    }
   ],
   "source": [
    "LR2 = LinearRegression()\n",
    "LR2.fit(train_standardised_dropna[['sum_transactions_STD_t-0', \n",
    "    'number_of_customers_STD_t-0', \n",
    "    'distinct_customers_STD_t-0']], train_standardised_dropna['label2'])"
   ]
  },
  {
   "cell_type": "code",
   "execution_count": 39,
   "metadata": {},
   "outputs": [
    {
     "data": {
      "text/html": [
       "<div>\n",
       "<style scoped>\n",
       "    .dataframe tbody tr th:only-of-type {\n",
       "        vertical-align: middle;\n",
       "    }\n",
       "\n",
       "    .dataframe tbody tr th {\n",
       "        vertical-align: top;\n",
       "    }\n",
       "\n",
       "    .dataframe thead th {\n",
       "        text-align: right;\n",
       "    }\n",
       "</style>\n",
       "<table border=\"1\" class=\"dataframe\">\n",
       "  <thead>\n",
       "    <tr style=\"text-align: right;\">\n",
       "      <th></th>\n",
       "      <th>predictions</th>\n",
       "    </tr>\n",
       "  </thead>\n",
       "  <tbody>\n",
       "    <tr>\n",
       "      <th>count</th>\n",
       "      <td>45189.000000</td>\n",
       "    </tr>\n",
       "    <tr>\n",
       "      <th>mean</th>\n",
       "      <td>0.033391</td>\n",
       "    </tr>\n",
       "    <tr>\n",
       "      <th>std</th>\n",
       "      <td>0.765745</td>\n",
       "    </tr>\n",
       "    <tr>\n",
       "      <th>min</th>\n",
       "      <td>-4.360214</td>\n",
       "    </tr>\n",
       "    <tr>\n",
       "      <th>25%</th>\n",
       "      <td>-0.361873</td>\n",
       "    </tr>\n",
       "    <tr>\n",
       "      <th>50%</th>\n",
       "      <td>0.120436</td>\n",
       "    </tr>\n",
       "    <tr>\n",
       "      <th>75%</th>\n",
       "      <td>0.536614</td>\n",
       "    </tr>\n",
       "    <tr>\n",
       "      <th>max</th>\n",
       "      <td>2.558694</td>\n",
       "    </tr>\n",
       "  </tbody>\n",
       "</table>\n",
       "</div>"
      ],
      "text/plain": [
       "        predictions\n",
       "count  45189.000000\n",
       "mean       0.033391\n",
       "std        0.765745\n",
       "min       -4.360214\n",
       "25%       -0.361873\n",
       "50%        0.120436\n",
       "75%        0.536614\n",
       "max        2.558694"
      ]
     },
     "execution_count": 39,
     "metadata": {},
     "output_type": "execute_result"
    }
   ],
   "source": [
    "predictions = LR2.predict(train_standardised_dropna[['sum_transactions_STD_t-0', 'number_of_customers_STD_t-0', 'distinct_customers_STD_t-0']])\n",
    "\n",
    "pd.DataFrame({'predictions':predictions}).describe()"
   ]
  },
  {
   "cell_type": "code",
   "execution_count": 40,
   "metadata": {},
   "outputs": [
    {
     "data": {
      "text/plain": [
       "0.5036491645569431"
      ]
     },
     "execution_count": 40,
     "metadata": {},
     "output_type": "execute_result"
    }
   ],
   "source": [
    "LR2.score(train_standardised_dropna[['sum_transactions_STD_t-0', 'number_of_customers_STD_t-0', 'distinct_customers_STD_t-0']], train_standardised_dropna['label2'])"
   ]
  },
  {
   "cell_type": "code",
   "execution_count": 42,
   "metadata": {},
   "outputs": [
    {
     "data": {
      "text/plain": [
       "0.44452384140518997"
      ]
     },
     "execution_count": 42,
     "metadata": {},
     "output_type": "execute_result"
    }
   ],
   "source": [
    "LR2.score(test_standardised_dropna[['sum_transactions_STD_t-0', 'number_of_customers_STD_t-0', 'distinct_customers_STD_t-0']], test_standardised_dropna['label2'])"
   ]
  },
  {
   "cell_type": "code",
   "execution_count": 43,
   "metadata": {},
   "outputs": [],
   "source": [
    "# export the model\n",
    "with open(f'../models/growth/delta_number_of_customers.pickle', 'wb') as f:\n",
    "    pickle.dump(LR,f)"
   ]
  },
  {
   "cell_type": "markdown",
   "metadata": {},
   "source": [
    "label 3"
   ]
  },
  {
   "cell_type": "code",
   "execution_count": 44,
   "metadata": {},
   "outputs": [
    {
     "data": {
      "text/plain": [
       "LinearRegression()"
      ]
     },
     "execution_count": 44,
     "metadata": {},
     "output_type": "execute_result"
    }
   ],
   "source": [
    "LR3 = LinearRegression()\n",
    "LR3.fit(train_standardised_dropna[['sum_transactions_STD_t-0', \n",
    "    'number_of_customers_STD_t-0', \n",
    "    'distinct_customers_STD_t-0']], train_standardised_dropna['label3'])"
   ]
  },
  {
   "cell_type": "code",
   "execution_count": 45,
   "metadata": {},
   "outputs": [
    {
     "data": {
      "text/html": [
       "<div>\n",
       "<style scoped>\n",
       "    .dataframe tbody tr th:only-of-type {\n",
       "        vertical-align: middle;\n",
       "    }\n",
       "\n",
       "    .dataframe tbody tr th {\n",
       "        vertical-align: top;\n",
       "    }\n",
       "\n",
       "    .dataframe thead th {\n",
       "        text-align: right;\n",
       "    }\n",
       "</style>\n",
       "<table border=\"1\" class=\"dataframe\">\n",
       "  <thead>\n",
       "    <tr style=\"text-align: right;\">\n",
       "      <th></th>\n",
       "      <th>predictions</th>\n",
       "    </tr>\n",
       "  </thead>\n",
       "  <tbody>\n",
       "    <tr>\n",
       "      <th>count</th>\n",
       "      <td>45189.000000</td>\n",
       "    </tr>\n",
       "    <tr>\n",
       "      <th>mean</th>\n",
       "      <td>0.033430</td>\n",
       "    </tr>\n",
       "    <tr>\n",
       "      <th>std</th>\n",
       "      <td>0.765931</td>\n",
       "    </tr>\n",
       "    <tr>\n",
       "      <th>min</th>\n",
       "      <td>-4.359816</td>\n",
       "    </tr>\n",
       "    <tr>\n",
       "      <th>25%</th>\n",
       "      <td>-0.363018</td>\n",
       "    </tr>\n",
       "    <tr>\n",
       "      <th>50%</th>\n",
       "      <td>0.119359</td>\n",
       "    </tr>\n",
       "    <tr>\n",
       "      <th>75%</th>\n",
       "      <td>0.536842</td>\n",
       "    </tr>\n",
       "    <tr>\n",
       "      <th>max</th>\n",
       "      <td>2.558856</td>\n",
       "    </tr>\n",
       "  </tbody>\n",
       "</table>\n",
       "</div>"
      ],
      "text/plain": [
       "        predictions\n",
       "count  45189.000000\n",
       "mean       0.033430\n",
       "std        0.765931\n",
       "min       -4.359816\n",
       "25%       -0.363018\n",
       "50%        0.119359\n",
       "75%        0.536842\n",
       "max        2.558856"
      ]
     },
     "execution_count": 45,
     "metadata": {},
     "output_type": "execute_result"
    }
   ],
   "source": [
    "predictions = LR3.predict(train_standardised_dropna[['sum_transactions_STD_t-0', 'number_of_customers_STD_t-0', 'distinct_customers_STD_t-0']])\n",
    "\n",
    "pd.DataFrame({'predictions':predictions}).describe()"
   ]
  },
  {
   "cell_type": "code",
   "execution_count": 46,
   "metadata": {},
   "outputs": [
    {
     "data": {
      "text/plain": [
       "0.5036432964505824"
      ]
     },
     "execution_count": 46,
     "metadata": {},
     "output_type": "execute_result"
    }
   ],
   "source": [
    "LR3.score(train_standardised_dropna[['sum_transactions_STD_t-0', 'number_of_customers_STD_t-0', 'distinct_customers_STD_t-0']], train_standardised_dropna['label3'])"
   ]
  },
  {
   "cell_type": "code",
   "execution_count": 48,
   "metadata": {},
   "outputs": [
    {
     "data": {
      "text/plain": [
       "0.44376133428026776"
      ]
     },
     "execution_count": 48,
     "metadata": {},
     "output_type": "execute_result"
    }
   ],
   "source": [
    "LR3.score(test_standardised_dropna[['sum_transactions_STD_t-0', 'number_of_customers_STD_t-0', 'distinct_customers_STD_t-0']], test_standardised_dropna['label3'])"
   ]
  },
  {
   "cell_type": "code",
   "execution_count": 49,
   "metadata": {},
   "outputs": [],
   "source": [
    "# export the model\n",
    "with open(f'../models/growth/delta_distinct_customers.pickle', 'wb') as f:\n",
    "    pickle.dump(LR,f)"
   ]
  },
  {
   "cell_type": "markdown",
   "metadata": {},
   "source": [
    "### 2. XGBoost "
   ]
  },
  {
   "cell_type": "code",
   "execution_count": 50,
   "metadata": {},
   "outputs": [],
   "source": [
    "import xgboost"
   ]
  },
  {
   "cell_type": "markdown",
   "metadata": {},
   "source": [
    "label 1"
   ]
  },
  {
   "cell_type": "code",
   "execution_count": 51,
   "metadata": {},
   "outputs": [
    {
     "data": {
      "text/plain": [
       "XGBRegressor(base_score=0.5, booster='gbtree', callbacks=None,\n",
       "             colsample_bylevel=1, colsample_bynode=1, colsample_bytree=1,\n",
       "             early_stopping_rounds=None, enable_categorical=False,\n",
       "             eval_metric=None, gamma=0, gpu_id=-1, grow_policy='depthwise',\n",
       "             importance_type=None, interaction_constraints='',\n",
       "             learning_rate=0.300000012, max_bin=256, max_cat_to_onehot=4,\n",
       "             max_delta_step=0, max_depth=6, max_leaves=0, min_child_weight=1,\n",
       "             missing=nan, monotone_constraints='()', n_estimators=100, n_jobs=0,\n",
       "             num_parallel_tree=1, predictor='auto', random_state=0, reg_alpha=0,\n",
       "             reg_lambda=1, ...)"
      ]
     },
     "execution_count": 51,
     "metadata": {},
     "output_type": "execute_result"
    }
   ],
   "source": [
    "m1 = xgboost.XGBRegressor()\n",
    "m1.fit(train_standardised_dropna[['sum_transactions_STD_t-0', \n",
    "    'number_of_customers_STD_t-0', \n",
    "    'distinct_customers_STD_t-0']], train_standardised_dropna['label1'])"
   ]
  },
  {
   "cell_type": "code",
   "execution_count": 52,
   "metadata": {},
   "outputs": [
    {
     "data": {
      "text/html": [
       "<div>\n",
       "<style scoped>\n",
       "    .dataframe tbody tr th:only-of-type {\n",
       "        vertical-align: middle;\n",
       "    }\n",
       "\n",
       "    .dataframe tbody tr th {\n",
       "        vertical-align: top;\n",
       "    }\n",
       "\n",
       "    .dataframe thead th {\n",
       "        text-align: right;\n",
       "    }\n",
       "</style>\n",
       "<table border=\"1\" class=\"dataframe\">\n",
       "  <thead>\n",
       "    <tr style=\"text-align: right;\">\n",
       "      <th></th>\n",
       "      <th>predictions</th>\n",
       "    </tr>\n",
       "  </thead>\n",
       "  <tbody>\n",
       "    <tr>\n",
       "      <th>count</th>\n",
       "      <td>45189.000000</td>\n",
       "    </tr>\n",
       "    <tr>\n",
       "      <th>mean</th>\n",
       "      <td>0.030242</td>\n",
       "    </tr>\n",
       "    <tr>\n",
       "      <th>std</th>\n",
       "      <td>0.817589</td>\n",
       "    </tr>\n",
       "    <tr>\n",
       "      <th>min</th>\n",
       "      <td>-4.606647</td>\n",
       "    </tr>\n",
       "    <tr>\n",
       "      <th>25%</th>\n",
       "      <td>-0.379073</td>\n",
       "    </tr>\n",
       "    <tr>\n",
       "      <th>50%</th>\n",
       "      <td>0.121023</td>\n",
       "    </tr>\n",
       "    <tr>\n",
       "      <th>75%</th>\n",
       "      <td>0.555509</td>\n",
       "    </tr>\n",
       "    <tr>\n",
       "      <th>max</th>\n",
       "      <td>3.511868</td>\n",
       "    </tr>\n",
       "  </tbody>\n",
       "</table>\n",
       "</div>"
      ],
      "text/plain": [
       "        predictions\n",
       "count  45189.000000\n",
       "mean       0.030242\n",
       "std        0.817589\n",
       "min       -4.606647\n",
       "25%       -0.379073\n",
       "50%        0.121023\n",
       "75%        0.555509\n",
       "max        3.511868"
      ]
     },
     "execution_count": 52,
     "metadata": {},
     "output_type": "execute_result"
    }
   ],
   "source": [
    "predictions = m1.predict(train_standardised_dropna[['sum_transactions_STD_t-0', 'number_of_customers_STD_t-0', 'distinct_customers_STD_t-0']])\n",
    "\n",
    "pd.DataFrame({'predictions':predictions}).describe()"
   ]
  },
  {
   "cell_type": "code",
   "execution_count": 53,
   "metadata": {},
   "outputs": [
    {
     "data": {
      "text/plain": [
       "0.568289779909569"
      ]
     },
     "execution_count": 53,
     "metadata": {},
     "output_type": "execute_result"
    }
   ],
   "source": [
    "m1.score(train_standardised_dropna[['sum_transactions_STD_t-0', 'number_of_customers_STD_t-0', 'distinct_customers_STD_t-0']], train_standardised_dropna['label1'])"
   ]
  },
  {
   "cell_type": "code",
   "execution_count": 54,
   "metadata": {},
   "outputs": [
    {
     "data": {
      "text/plain": [
       "-0.05864081019149925"
      ]
     },
     "execution_count": 54,
     "metadata": {},
     "output_type": "execute_result"
    }
   ],
   "source": [
    "m1.score(val_standardised_dropna[['sum_transactions_STD_t-0', 'number_of_customers_STD_t-0', 'distinct_customers_STD_t-0']], val_standardised_dropna['label1'])"
   ]
  },
  {
   "cell_type": "code",
   "execution_count": 55,
   "metadata": {},
   "outputs": [
    {
     "data": {
      "text/plain": [
       "0.45497041017788875"
      ]
     },
     "execution_count": 55,
     "metadata": {},
     "output_type": "execute_result"
    }
   ],
   "source": [
    "m1.score(test_standardised_dropna[['sum_transactions_STD_t-0', 'number_of_customers_STD_t-0', 'distinct_customers_STD_t-0']], test_standardised_dropna['label1'])"
   ]
  },
  {
   "cell_type": "markdown",
   "metadata": {},
   "source": [
    "label 2"
   ]
  },
  {
   "cell_type": "code",
   "execution_count": 56,
   "metadata": {},
   "outputs": [
    {
     "data": {
      "text/plain": [
       "XGBRegressor(base_score=0.5, booster='gbtree', callbacks=None,\n",
       "             colsample_bylevel=1, colsample_bynode=1, colsample_bytree=1,\n",
       "             early_stopping_rounds=None, enable_categorical=False,\n",
       "             eval_metric=None, gamma=0, gpu_id=-1, grow_policy='depthwise',\n",
       "             importance_type=None, interaction_constraints='',\n",
       "             learning_rate=0.300000012, max_bin=256, max_cat_to_onehot=4,\n",
       "             max_delta_step=0, max_depth=6, max_leaves=0, min_child_weight=1,\n",
       "             missing=nan, monotone_constraints='()', n_estimators=100, n_jobs=0,\n",
       "             num_parallel_tree=1, predictor='auto', random_state=0, reg_alpha=0,\n",
       "             reg_lambda=1, ...)"
      ]
     },
     "execution_count": 56,
     "metadata": {},
     "output_type": "execute_result"
    }
   ],
   "source": [
    "m2 = xgboost.XGBRegressor()\n",
    "m2.fit(train_standardised_dropna[['sum_transactions_STD_t-0', \n",
    "    'number_of_customers_STD_t-0', \n",
    "    'distinct_customers_STD_t-0']], train_standardised_dropna['label2'])"
   ]
  },
  {
   "cell_type": "code",
   "execution_count": 57,
   "metadata": {},
   "outputs": [
    {
     "data": {
      "text/html": [
       "<div>\n",
       "<style scoped>\n",
       "    .dataframe tbody tr th:only-of-type {\n",
       "        vertical-align: middle;\n",
       "    }\n",
       "\n",
       "    .dataframe tbody tr th {\n",
       "        vertical-align: top;\n",
       "    }\n",
       "\n",
       "    .dataframe thead th {\n",
       "        text-align: right;\n",
       "    }\n",
       "</style>\n",
       "<table border=\"1\" class=\"dataframe\">\n",
       "  <thead>\n",
       "    <tr style=\"text-align: right;\">\n",
       "      <th></th>\n",
       "      <th>predictions</th>\n",
       "    </tr>\n",
       "  </thead>\n",
       "  <tbody>\n",
       "    <tr>\n",
       "      <th>count</th>\n",
       "      <td>45189.000000</td>\n",
       "    </tr>\n",
       "    <tr>\n",
       "      <th>mean</th>\n",
       "      <td>0.033330</td>\n",
       "    </tr>\n",
       "    <tr>\n",
       "      <th>std</th>\n",
       "      <td>0.776493</td>\n",
       "    </tr>\n",
       "    <tr>\n",
       "      <th>min</th>\n",
       "      <td>-4.582758</td>\n",
       "    </tr>\n",
       "    <tr>\n",
       "      <th>25%</th>\n",
       "      <td>-0.374490</td>\n",
       "    </tr>\n",
       "    <tr>\n",
       "      <th>50%</th>\n",
       "      <td>0.096399</td>\n",
       "    </tr>\n",
       "    <tr>\n",
       "      <th>75%</th>\n",
       "      <td>0.532144</td>\n",
       "    </tr>\n",
       "    <tr>\n",
       "      <th>max</th>\n",
       "      <td>3.499539</td>\n",
       "    </tr>\n",
       "  </tbody>\n",
       "</table>\n",
       "</div>"
      ],
      "text/plain": [
       "        predictions\n",
       "count  45189.000000\n",
       "mean       0.033330\n",
       "std        0.776493\n",
       "min       -4.582758\n",
       "25%       -0.374490\n",
       "50%        0.096399\n",
       "75%        0.532144\n",
       "max        3.499539"
      ]
     },
     "execution_count": 57,
     "metadata": {},
     "output_type": "execute_result"
    }
   ],
   "source": [
    "predictions = m2.predict(train_standardised_dropna[['sum_transactions_STD_t-0', 'number_of_customers_STD_t-0', 'distinct_customers_STD_t-0']])\n",
    "\n",
    "pd.DataFrame({'predictions':predictions}).describe()"
   ]
  },
  {
   "cell_type": "code",
   "execution_count": 58,
   "metadata": {},
   "outputs": [
    {
     "data": {
      "text/plain": [
       "0.5593806827170784"
      ]
     },
     "execution_count": 58,
     "metadata": {},
     "output_type": "execute_result"
    }
   ],
   "source": [
    "m2.score(train_standardised_dropna[['sum_transactions_STD_t-0', 'number_of_customers_STD_t-0', 'distinct_customers_STD_t-0']], train_standardised_dropna['label2'])"
   ]
  },
  {
   "cell_type": "code",
   "execution_count": 59,
   "metadata": {},
   "outputs": [
    {
     "data": {
      "text/plain": [
       "-0.18614389850020907"
      ]
     },
     "execution_count": 59,
     "metadata": {},
     "output_type": "execute_result"
    }
   ],
   "source": [
    "m2.score(val_standardised_dropna[['sum_transactions_STD_t-0', 'number_of_customers_STD_t-0', 'distinct_customers_STD_t-0']], val_standardised_dropna['label2'])"
   ]
  },
  {
   "cell_type": "code",
   "execution_count": 60,
   "metadata": {},
   "outputs": [
    {
     "data": {
      "text/plain": [
       "0.4294199963417994"
      ]
     },
     "execution_count": 60,
     "metadata": {},
     "output_type": "execute_result"
    }
   ],
   "source": [
    "m2.score(test_standardised_dropna[['sum_transactions_STD_t-0', 'number_of_customers_STD_t-0', 'distinct_customers_STD_t-0']], test_standardised_dropna['label2'])"
   ]
  },
  {
   "cell_type": "markdown",
   "metadata": {},
   "source": [
    "label 3"
   ]
  },
  {
   "cell_type": "code",
   "execution_count": 61,
   "metadata": {},
   "outputs": [
    {
     "data": {
      "text/plain": [
       "XGBRegressor(base_score=0.5, booster='gbtree', callbacks=None,\n",
       "             colsample_bylevel=1, colsample_bynode=1, colsample_bytree=1,\n",
       "             early_stopping_rounds=None, enable_categorical=False,\n",
       "             eval_metric=None, gamma=0, gpu_id=-1, grow_policy='depthwise',\n",
       "             importance_type=None, interaction_constraints='',\n",
       "             learning_rate=0.300000012, max_bin=256, max_cat_to_onehot=4,\n",
       "             max_delta_step=0, max_depth=6, max_leaves=0, min_child_weight=1,\n",
       "             missing=nan, monotone_constraints='()', n_estimators=100, n_jobs=0,\n",
       "             num_parallel_tree=1, predictor='auto', random_state=0, reg_alpha=0,\n",
       "             reg_lambda=1, ...)"
      ]
     },
     "execution_count": 61,
     "metadata": {},
     "output_type": "execute_result"
    }
   ],
   "source": [
    "m3 = xgboost.XGBRegressor()\n",
    "m3.fit(train_standardised_dropna[['sum_transactions_STD_t-0', \n",
    "    'number_of_customers_STD_t-0', \n",
    "    'distinct_customers_STD_t-0']], train_standardised_dropna['label3'])"
   ]
  },
  {
   "cell_type": "code",
   "execution_count": 62,
   "metadata": {},
   "outputs": [
    {
     "data": {
      "text/html": [
       "<div>\n",
       "<style scoped>\n",
       "    .dataframe tbody tr th:only-of-type {\n",
       "        vertical-align: middle;\n",
       "    }\n",
       "\n",
       "    .dataframe tbody tr th {\n",
       "        vertical-align: top;\n",
       "    }\n",
       "\n",
       "    .dataframe thead th {\n",
       "        text-align: right;\n",
       "    }\n",
       "</style>\n",
       "<table border=\"1\" class=\"dataframe\">\n",
       "  <thead>\n",
       "    <tr style=\"text-align: right;\">\n",
       "      <th></th>\n",
       "      <th>predictions</th>\n",
       "    </tr>\n",
       "  </thead>\n",
       "  <tbody>\n",
       "    <tr>\n",
       "      <th>count</th>\n",
       "      <td>45189.000000</td>\n",
       "    </tr>\n",
       "    <tr>\n",
       "      <th>mean</th>\n",
       "      <td>0.033405</td>\n",
       "    </tr>\n",
       "    <tr>\n",
       "      <th>std</th>\n",
       "      <td>0.777631</td>\n",
       "    </tr>\n",
       "    <tr>\n",
       "      <th>min</th>\n",
       "      <td>-4.365232</td>\n",
       "    </tr>\n",
       "    <tr>\n",
       "      <th>25%</th>\n",
       "      <td>-0.370116</td>\n",
       "    </tr>\n",
       "    <tr>\n",
       "      <th>50%</th>\n",
       "      <td>0.095245</td>\n",
       "    </tr>\n",
       "    <tr>\n",
       "      <th>75%</th>\n",
       "      <td>0.548549</td>\n",
       "    </tr>\n",
       "    <tr>\n",
       "      <th>max</th>\n",
       "      <td>3.458809</td>\n",
       "    </tr>\n",
       "  </tbody>\n",
       "</table>\n",
       "</div>"
      ],
      "text/plain": [
       "        predictions\n",
       "count  45189.000000\n",
       "mean       0.033405\n",
       "std        0.777631\n",
       "min       -4.365232\n",
       "25%       -0.370116\n",
       "50%        0.095245\n",
       "75%        0.548549\n",
       "max        3.458809"
      ]
     },
     "execution_count": 62,
     "metadata": {},
     "output_type": "execute_result"
    }
   ],
   "source": [
    "predictions = m3.predict(train_standardised_dropna[['sum_transactions_STD_t-0', 'number_of_customers_STD_t-0', 'distinct_customers_STD_t-0']])\n",
    "\n",
    "pd.DataFrame({'predictions':predictions}).describe()"
   ]
  },
  {
   "cell_type": "code",
   "execution_count": 63,
   "metadata": {},
   "outputs": [
    {
     "data": {
      "text/plain": [
       "0.5648871053285667"
      ]
     },
     "execution_count": 63,
     "metadata": {},
     "output_type": "execute_result"
    }
   ],
   "source": [
    "m3.score(train_standardised_dropna[['sum_transactions_STD_t-0', 'number_of_customers_STD_t-0', 'distinct_customers_STD_t-0']], train_standardised_dropna['label3'])"
   ]
  },
  {
   "cell_type": "code",
   "execution_count": 64,
   "metadata": {},
   "outputs": [
    {
     "data": {
      "text/plain": [
       "-0.18035532414327293"
      ]
     },
     "execution_count": 64,
     "metadata": {},
     "output_type": "execute_result"
    }
   ],
   "source": [
    "m3.score(val_standardised_dropna[['sum_transactions_STD_t-0', 'number_of_customers_STD_t-0', 'distinct_customers_STD_t-0']], val_standardised_dropna['label3'])"
   ]
  },
  {
   "cell_type": "code",
   "execution_count": 65,
   "metadata": {},
   "outputs": [
    {
     "data": {
      "text/plain": [
       "0.42548968873077986"
      ]
     },
     "execution_count": 65,
     "metadata": {},
     "output_type": "execute_result"
    }
   ],
   "source": [
    "m3.score(test_standardised_dropna[['sum_transactions_STD_t-0', 'number_of_customers_STD_t-0', 'distinct_customers_STD_t-0']], test_standardised_dropna['label3'])"
   ]
  },
  {
   "cell_type": "markdown",
   "metadata": {},
   "source": [
    "### 3. Random Forest Regression\n",
    "\n"
   ]
  },
  {
   "cell_type": "code",
   "execution_count": 66,
   "metadata": {},
   "outputs": [],
   "source": [
    "from sklearn.ensemble import RandomForestRegressor"
   ]
  },
  {
   "cell_type": "markdown",
   "metadata": {},
   "source": [
    "label 1"
   ]
  },
  {
   "cell_type": "code",
   "execution_count": 67,
   "metadata": {},
   "outputs": [
    {
     "data": {
      "text/plain": [
       "RandomForestRegressor()"
      ]
     },
     "execution_count": 67,
     "metadata": {},
     "output_type": "execute_result"
    }
   ],
   "source": [
    "RFR = RandomForestRegressor()\n",
    "RFR.fit(train_standardised_dropna.drop(['Year', 'Fortnight', 'merchant_abn', 'label1', 'label2', 'label3'], axis=1), train_standardised_dropna['label1'])"
   ]
  },
  {
   "cell_type": "code",
   "execution_count": 68,
   "metadata": {},
   "outputs": [
    {
     "data": {
      "text/plain": [
       "0.9243286546946009"
      ]
     },
     "execution_count": 68,
     "metadata": {},
     "output_type": "execute_result"
    }
   ],
   "source": [
    "RFR.score(train_standardised_dropna.drop(['Year', 'Fortnight', 'merchant_abn', 'label1', 'label2', 'label3'], axis=1), train_standardised_dropna['label1'])"
   ]
  },
  {
   "cell_type": "code",
   "execution_count": 69,
   "metadata": {},
   "outputs": [
    {
     "data": {
      "text/plain": [
       "-0.028299582813162028"
      ]
     },
     "execution_count": 69,
     "metadata": {},
     "output_type": "execute_result"
    }
   ],
   "source": [
    "RFR.score(val_standardised_dropna.drop(['Year', 'Fortnight', 'merchant_abn', 'label1', 'label2', 'label3'], axis=1), val_standardised_dropna['label1'])"
   ]
  },
  {
   "cell_type": "code",
   "execution_count": 70,
   "metadata": {},
   "outputs": [
    {
     "data": {
      "text/plain": [
       "0.4511835633164608"
      ]
     },
     "execution_count": 70,
     "metadata": {},
     "output_type": "execute_result"
    }
   ],
   "source": [
    "RFR.score(test_standardised_dropna.drop(['Year', 'Fortnight', 'merchant_abn', 'label1', 'label2', 'label3'], axis=1), test_standardised_dropna['label1'])"
   ]
  },
  {
   "cell_type": "markdown",
   "metadata": {},
   "source": [
    "label 2"
   ]
  },
  {
   "cell_type": "code",
   "execution_count": 71,
   "metadata": {},
   "outputs": [
    {
     "data": {
      "text/plain": [
       "RandomForestRegressor()"
      ]
     },
     "execution_count": 71,
     "metadata": {},
     "output_type": "execute_result"
    }
   ],
   "source": [
    "RFR2 = RandomForestRegressor()\n",
    "RFR2.fit(train_standardised_dropna.drop(['Year', 'Fortnight', 'merchant_abn', 'label1', 'label2', 'label3'], axis=1), train_standardised_dropna['label2'])"
   ]
  },
  {
   "cell_type": "code",
   "execution_count": 72,
   "metadata": {},
   "outputs": [
    {
     "data": {
      "text/plain": [
       "0.9221277403951377"
      ]
     },
     "execution_count": 72,
     "metadata": {},
     "output_type": "execute_result"
    }
   ],
   "source": [
    "RFR2.score(train_standardised_dropna.drop(['Year', 'Fortnight', 'merchant_abn', 'label1', 'label2', 'label3'], axis=1), train_standardised_dropna['label2'])"
   ]
  },
  {
   "cell_type": "code",
   "execution_count": 73,
   "metadata": {},
   "outputs": [
    {
     "data": {
      "text/plain": [
       "-0.195905629457507"
      ]
     },
     "execution_count": 73,
     "metadata": {},
     "output_type": "execute_result"
    }
   ],
   "source": [
    "RFR2.score(val_standardised_dropna.drop(['Year', 'Fortnight', 'merchant_abn', 'label1', 'label2', 'label3'], axis=1), val_standardised_dropna['label2'])"
   ]
  },
  {
   "cell_type": "code",
   "execution_count": 74,
   "metadata": {},
   "outputs": [
    {
     "data": {
      "text/plain": [
       "0.4180385729553956"
      ]
     },
     "execution_count": 74,
     "metadata": {},
     "output_type": "execute_result"
    }
   ],
   "source": [
    "RFR2.score(test_standardised_dropna.drop(['Year', 'Fortnight', 'merchant_abn', 'label1', 'label2', 'label3'], axis=1), test_standardised_dropna['label2'])"
   ]
  },
  {
   "cell_type": "markdown",
   "metadata": {},
   "source": [
    "label 3"
   ]
  },
  {
   "cell_type": "code",
   "execution_count": 75,
   "metadata": {},
   "outputs": [
    {
     "data": {
      "text/plain": [
       "RandomForestRegressor()"
      ]
     },
     "execution_count": 75,
     "metadata": {},
     "output_type": "execute_result"
    }
   ],
   "source": [
    "RFR3 = RandomForestRegressor()\n",
    "RFR3.fit(train_standardised_dropna.drop(['Year', 'Fortnight', 'merchant_abn', 'label1', 'label2', 'label3'], axis=1), train_standardised_dropna['label1'])"
   ]
  },
  {
   "cell_type": "code",
   "execution_count": 76,
   "metadata": {},
   "outputs": [
    {
     "data": {
      "text/plain": [
       "0.612446212176351"
      ]
     },
     "execution_count": 76,
     "metadata": {},
     "output_type": "execute_result"
    }
   ],
   "source": [
    "RFR3.score(train_standardised_dropna.drop(['Year', 'Fortnight', 'merchant_abn', 'label1', 'label2', 'label3'], axis=1), train_standardised_dropna['label3'])"
   ]
  },
  {
   "cell_type": "code",
   "execution_count": 77,
   "metadata": {},
   "outputs": [
    {
     "data": {
      "text/plain": [
       "-0.17871235972469668"
      ]
     },
     "execution_count": 77,
     "metadata": {},
     "output_type": "execute_result"
    }
   ],
   "source": [
    "RFR3.score(val_standardised_dropna.drop(['Year', 'Fortnight', 'merchant_abn', 'label1', 'label2', 'label3'], axis=1), val_standardised_dropna['label3'])"
   ]
  },
  {
   "cell_type": "code",
   "execution_count": 78,
   "metadata": {},
   "outputs": [
    {
     "data": {
      "text/plain": [
       "0.23575093840559458"
      ]
     },
     "execution_count": 78,
     "metadata": {},
     "output_type": "execute_result"
    }
   ],
   "source": [
    "RFR3.score(test_standardised_dropna.drop(['Year', 'Fortnight', 'merchant_abn', 'label1', 'label2', 'label3'], axis=1), test_standardised_dropna['label3'])"
   ]
  },
  {
   "cell_type": "code",
   "execution_count": null,
   "metadata": {},
   "outputs": [],
   "source": []
  }
 ],
 "metadata": {
  "kernelspec": {
   "display_name": "Python 3.9.7 ('base')",
   "language": "python",
   "name": "python3"
  },
  "language_info": {
   "codemirror_mode": {
    "name": "ipython",
    "version": 3
   },
   "file_extension": ".py",
   "mimetype": "text/x-python",
   "name": "python",
   "nbconvert_exporter": "python",
   "pygments_lexer": "ipython3",
   "version": "3.9.7"
  },
  "orig_nbformat": 4,
  "vscode": {
   "interpreter": {
    "hash": "cd78fef2128015050713e82ca51c6520b11aee7c9ee8df750520bbbc7384cbaa"
   }
  }
 },
 "nbformat": 4,
 "nbformat_minor": 2
}
