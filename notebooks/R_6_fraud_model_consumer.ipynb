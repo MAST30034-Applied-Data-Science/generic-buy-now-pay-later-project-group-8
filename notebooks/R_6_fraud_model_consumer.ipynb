{
 "cells": [
  {
   "cell_type": "code",
   "execution_count": 1,
   "metadata": {},
   "outputs": [],
   "source": [
    "import pandas as pd\n",
    "import numpy as np\n",
    "from sklearn.model_selection import train_test_split\n",
    "from sklearn.feature_selection import SelectKBest, f_regression, chi2"
   ]
  },
  {
   "cell_type": "code",
   "execution_count": 2,
   "metadata": {},
   "outputs": [],
   "source": [
    "# import data\n",
    "data = pd.read_csv('../data/curated/fraud/consumer_fraud.csv')"
   ]
  },
  {
   "cell_type": "code",
   "execution_count": 4,
   "metadata": {},
   "outputs": [
    {
     "data": {
      "text/html": [
       "<div>\n",
       "<style scoped>\n",
       "    .dataframe tbody tr th:only-of-type {\n",
       "        vertical-align: middle;\n",
       "    }\n",
       "\n",
       "    .dataframe tbody tr th {\n",
       "        vertical-align: top;\n",
       "    }\n",
       "\n",
       "    .dataframe thead th {\n",
       "        text-align: right;\n",
       "    }\n",
       "</style>\n",
       "<table border=\"1\" class=\"dataframe\">\n",
       "  <thead>\n",
       "    <tr style=\"text-align: right;\">\n",
       "      <th></th>\n",
       "      <th>user_id</th>\n",
       "      <th>transact_amount_perOrder</th>\n",
       "      <th>#daily_orders</th>\n",
       "      <th>#distinct_merchants</th>\n",
       "      <th>fraud_probability</th>\n",
       "      <th>transact_amount_perOrder_sd</th>\n",
       "      <th>#daily_orders_ratio</th>\n",
       "      <th>#distinct_merchants_ratio</th>\n",
       "      <th>transact_amount_perOrder_sd_ratio</th>\n",
       "      <th>transact_amount_perOrder_ratio</th>\n",
       "    </tr>\n",
       "  </thead>\n",
       "  <tbody>\n",
       "    <tr>\n",
       "      <th>user_id</th>\n",
       "      <td>1.000000</td>\n",
       "      <td>0.003034</td>\n",
       "      <td>-0.011776</td>\n",
       "      <td>-0.010591</td>\n",
       "      <td>-0.003738</td>\n",
       "      <td>-0.009271</td>\n",
       "      <td>-0.011487</td>\n",
       "      <td>-0.010304</td>\n",
       "      <td>-0.008352</td>\n",
       "      <td>0.002780</td>\n",
       "    </tr>\n",
       "    <tr>\n",
       "      <th>transact_amount_perOrder</th>\n",
       "      <td>0.003034</td>\n",
       "      <td>1.000000</td>\n",
       "      <td>-0.348593</td>\n",
       "      <td>-0.377662</td>\n",
       "      <td>0.777516</td>\n",
       "      <td>0.333693</td>\n",
       "      <td>-0.349440</td>\n",
       "      <td>-0.378466</td>\n",
       "      <td>0.228648</td>\n",
       "      <td>0.972162</td>\n",
       "    </tr>\n",
       "    <tr>\n",
       "      <th>#daily_orders</th>\n",
       "      <td>-0.011776</td>\n",
       "      <td>-0.348593</td>\n",
       "      <td>1.000000</td>\n",
       "      <td>0.993035</td>\n",
       "      <td>-0.005280</td>\n",
       "      <td>0.139131</td>\n",
       "      <td>0.998870</td>\n",
       "      <td>0.991874</td>\n",
       "      <td>0.175999</td>\n",
       "      <td>-0.406708</td>\n",
       "    </tr>\n",
       "    <tr>\n",
       "      <th>#distinct_merchants</th>\n",
       "      <td>-0.010591</td>\n",
       "      <td>-0.377662</td>\n",
       "      <td>0.993035</td>\n",
       "      <td>1.000000</td>\n",
       "      <td>-0.038652</td>\n",
       "      <td>0.118456</td>\n",
       "      <td>0.991965</td>\n",
       "      <td>0.998859</td>\n",
       "      <td>0.163487</td>\n",
       "      <td>-0.433824</td>\n",
       "    </tr>\n",
       "    <tr>\n",
       "      <th>fraud_probability</th>\n",
       "      <td>-0.003738</td>\n",
       "      <td>0.777516</td>\n",
       "      <td>-0.005280</td>\n",
       "      <td>-0.038652</td>\n",
       "      <td>1.000000</td>\n",
       "      <td>0.594985</td>\n",
       "      <td>-0.005738</td>\n",
       "      <td>-0.039051</td>\n",
       "      <td>0.536615</td>\n",
       "      <td>0.798356</td>\n",
       "    </tr>\n",
       "    <tr>\n",
       "      <th>transact_amount_perOrder_sd</th>\n",
       "      <td>-0.009271</td>\n",
       "      <td>0.333693</td>\n",
       "      <td>0.139131</td>\n",
       "      <td>0.118456</td>\n",
       "      <td>0.594985</td>\n",
       "      <td>1.000000</td>\n",
       "      <td>0.138166</td>\n",
       "      <td>0.117546</td>\n",
       "      <td>0.952310</td>\n",
       "      <td>0.357501</td>\n",
       "    </tr>\n",
       "    <tr>\n",
       "      <th>#daily_orders_ratio</th>\n",
       "      <td>-0.011487</td>\n",
       "      <td>-0.349440</td>\n",
       "      <td>0.998870</td>\n",
       "      <td>0.991965</td>\n",
       "      <td>-0.005738</td>\n",
       "      <td>0.138166</td>\n",
       "      <td>1.000000</td>\n",
       "      <td>0.993063</td>\n",
       "      <td>0.175042</td>\n",
       "      <td>-0.407655</td>\n",
       "    </tr>\n",
       "    <tr>\n",
       "      <th>#distinct_merchants_ratio</th>\n",
       "      <td>-0.010304</td>\n",
       "      <td>-0.378466</td>\n",
       "      <td>0.991874</td>\n",
       "      <td>0.998859</td>\n",
       "      <td>-0.039051</td>\n",
       "      <td>0.117546</td>\n",
       "      <td>0.993063</td>\n",
       "      <td>1.000000</td>\n",
       "      <td>0.162572</td>\n",
       "      <td>-0.434728</td>\n",
       "    </tr>\n",
       "    <tr>\n",
       "      <th>transact_amount_perOrder_sd_ratio</th>\n",
       "      <td>-0.008352</td>\n",
       "      <td>0.228648</td>\n",
       "      <td>0.175999</td>\n",
       "      <td>0.163487</td>\n",
       "      <td>0.536615</td>\n",
       "      <td>0.952310</td>\n",
       "      <td>0.175042</td>\n",
       "      <td>0.162572</td>\n",
       "      <td>1.000000</td>\n",
       "      <td>0.261385</td>\n",
       "    </tr>\n",
       "    <tr>\n",
       "      <th>transact_amount_perOrder_ratio</th>\n",
       "      <td>0.002780</td>\n",
       "      <td>0.972162</td>\n",
       "      <td>-0.406708</td>\n",
       "      <td>-0.433824</td>\n",
       "      <td>0.798356</td>\n",
       "      <td>0.357501</td>\n",
       "      <td>-0.407655</td>\n",
       "      <td>-0.434728</td>\n",
       "      <td>0.261385</td>\n",
       "      <td>1.000000</td>\n",
       "    </tr>\n",
       "  </tbody>\n",
       "</table>\n",
       "</div>"
      ],
      "text/plain": [
       "                                    user_id  transact_amount_perOrder  \\\n",
       "user_id                            1.000000                  0.003034   \n",
       "transact_amount_perOrder           0.003034                  1.000000   \n",
       "#daily_orders                     -0.011776                 -0.348593   \n",
       "#distinct_merchants               -0.010591                 -0.377662   \n",
       "fraud_probability                 -0.003738                  0.777516   \n",
       "transact_amount_perOrder_sd       -0.009271                  0.333693   \n",
       "#daily_orders_ratio               -0.011487                 -0.349440   \n",
       "#distinct_merchants_ratio         -0.010304                 -0.378466   \n",
       "transact_amount_perOrder_sd_ratio -0.008352                  0.228648   \n",
       "transact_amount_perOrder_ratio     0.002780                  0.972162   \n",
       "\n",
       "                                   #daily_orders  #distinct_merchants  \\\n",
       "user_id                                -0.011776            -0.010591   \n",
       "transact_amount_perOrder               -0.348593            -0.377662   \n",
       "#daily_orders                           1.000000             0.993035   \n",
       "#distinct_merchants                     0.993035             1.000000   \n",
       "fraud_probability                      -0.005280            -0.038652   \n",
       "transact_amount_perOrder_sd             0.139131             0.118456   \n",
       "#daily_orders_ratio                     0.998870             0.991965   \n",
       "#distinct_merchants_ratio               0.991874             0.998859   \n",
       "transact_amount_perOrder_sd_ratio       0.175999             0.163487   \n",
       "transact_amount_perOrder_ratio         -0.406708            -0.433824   \n",
       "\n",
       "                                   fraud_probability  \\\n",
       "user_id                                    -0.003738   \n",
       "transact_amount_perOrder                    0.777516   \n",
       "#daily_orders                              -0.005280   \n",
       "#distinct_merchants                        -0.038652   \n",
       "fraud_probability                           1.000000   \n",
       "transact_amount_perOrder_sd                 0.594985   \n",
       "#daily_orders_ratio                        -0.005738   \n",
       "#distinct_merchants_ratio                  -0.039051   \n",
       "transact_amount_perOrder_sd_ratio           0.536615   \n",
       "transact_amount_perOrder_ratio              0.798356   \n",
       "\n",
       "                                   transact_amount_perOrder_sd  \\\n",
       "user_id                                              -0.009271   \n",
       "transact_amount_perOrder                              0.333693   \n",
       "#daily_orders                                         0.139131   \n",
       "#distinct_merchants                                   0.118456   \n",
       "fraud_probability                                     0.594985   \n",
       "transact_amount_perOrder_sd                           1.000000   \n",
       "#daily_orders_ratio                                   0.138166   \n",
       "#distinct_merchants_ratio                             0.117546   \n",
       "transact_amount_perOrder_sd_ratio                     0.952310   \n",
       "transact_amount_perOrder_ratio                        0.357501   \n",
       "\n",
       "                                   #daily_orders_ratio  \\\n",
       "user_id                                      -0.011487   \n",
       "transact_amount_perOrder                     -0.349440   \n",
       "#daily_orders                                 0.998870   \n",
       "#distinct_merchants                           0.991965   \n",
       "fraud_probability                            -0.005738   \n",
       "transact_amount_perOrder_sd                   0.138166   \n",
       "#daily_orders_ratio                           1.000000   \n",
       "#distinct_merchants_ratio                     0.993063   \n",
       "transact_amount_perOrder_sd_ratio             0.175042   \n",
       "transact_amount_perOrder_ratio               -0.407655   \n",
       "\n",
       "                                   #distinct_merchants_ratio  \\\n",
       "user_id                                            -0.010304   \n",
       "transact_amount_perOrder                           -0.378466   \n",
       "#daily_orders                                       0.991874   \n",
       "#distinct_merchants                                 0.998859   \n",
       "fraud_probability                                  -0.039051   \n",
       "transact_amount_perOrder_sd                         0.117546   \n",
       "#daily_orders_ratio                                 0.993063   \n",
       "#distinct_merchants_ratio                           1.000000   \n",
       "transact_amount_perOrder_sd_ratio                   0.162572   \n",
       "transact_amount_perOrder_ratio                     -0.434728   \n",
       "\n",
       "                                   transact_amount_perOrder_sd_ratio  \\\n",
       "user_id                                                    -0.008352   \n",
       "transact_amount_perOrder                                    0.228648   \n",
       "#daily_orders                                               0.175999   \n",
       "#distinct_merchants                                         0.163487   \n",
       "fraud_probability                                           0.536615   \n",
       "transact_amount_perOrder_sd                                 0.952310   \n",
       "#daily_orders_ratio                                         0.175042   \n",
       "#distinct_merchants_ratio                                   0.162572   \n",
       "transact_amount_perOrder_sd_ratio                           1.000000   \n",
       "transact_amount_perOrder_ratio                              0.261385   \n",
       "\n",
       "                                   transact_amount_perOrder_ratio  \n",
       "user_id                                                  0.002780  \n",
       "transact_amount_perOrder                                 0.972162  \n",
       "#daily_orders                                           -0.406708  \n",
       "#distinct_merchants                                     -0.433824  \n",
       "fraud_probability                                        0.798356  \n",
       "transact_amount_perOrder_sd                              0.357501  \n",
       "#daily_orders_ratio                                     -0.407655  \n",
       "#distinct_merchants_ratio                               -0.434728  \n",
       "transact_amount_perOrder_sd_ratio                        0.261385  \n",
       "transact_amount_perOrder_ratio                           1.000000  "
      ]
     },
     "execution_count": 4,
     "metadata": {},
     "output_type": "execute_result"
    }
   ],
   "source": [
    "# get correlation\n",
    "data.corr()"
   ]
  },
  {
   "cell_type": "code",
   "execution_count": 49,
   "metadata": {},
   "outputs": [],
   "source": [
    "# split data\n",
    "train, valtest = train_test_split(data, train_size=0.7, random_state=19260817)\n",
    "val, test = train_test_split(valtest, train_size=0.5, random_state=19260817)"
   ]
  },
  {
   "cell_type": "code",
   "execution_count": 50,
   "metadata": {},
   "outputs": [
    {
     "data": {
      "text/plain": [
       "SelectKBest(k=8, score_func=<function f_regression at 0x7ff2c26e9ca0>)"
      ]
     },
     "execution_count": 50,
     "metadata": {},
     "output_type": "execute_result"
    }
   ],
   "source": [
    "# select k best\n",
    "selectk_F = SelectKBest(f_regression, k=8)\n",
    "\n",
    "selectk_F.fit(train.drop(['user_id', 'fraud_probability'], axis=1), train['fraud_probability'])\n"
   ]
  },
  {
   "cell_type": "code",
   "execution_count": 51,
   "metadata": {},
   "outputs": [
    {
     "data": {
      "text/html": [
       "<div>\n",
       "<style scoped>\n",
       "    .dataframe tbody tr th:only-of-type {\n",
       "        vertical-align: middle;\n",
       "    }\n",
       "\n",
       "    .dataframe tbody tr th {\n",
       "        vertical-align: top;\n",
       "    }\n",
       "\n",
       "    .dataframe thead th {\n",
       "        text-align: right;\n",
       "    }\n",
       "</style>\n",
       "<table border=\"1\" class=\"dataframe\">\n",
       "  <thead>\n",
       "    <tr style=\"text-align: right;\">\n",
       "      <th></th>\n",
       "      <th>features</th>\n",
       "      <th>scores</th>\n",
       "    </tr>\n",
       "  </thead>\n",
       "  <tbody>\n",
       "    <tr>\n",
       "      <th>7</th>\n",
       "      <td>transact_amount_perOrder_ratio</td>\n",
       "      <td>44060.561393</td>\n",
       "    </tr>\n",
       "    <tr>\n",
       "      <th>0</th>\n",
       "      <td>transact_amount_perOrder</td>\n",
       "      <td>39514.155621</td>\n",
       "    </tr>\n",
       "    <tr>\n",
       "      <th>3</th>\n",
       "      <td>transact_amount_perOrder_sd</td>\n",
       "      <td>13292.881996</td>\n",
       "    </tr>\n",
       "    <tr>\n",
       "      <th>6</th>\n",
       "      <td>transact_amount_perOrder_sd_ratio</td>\n",
       "      <td>9811.997668</td>\n",
       "    </tr>\n",
       "    <tr>\n",
       "      <th>5</th>\n",
       "      <td>#distinct_merchants_ratio</td>\n",
       "      <td>47.885663</td>\n",
       "    </tr>\n",
       "    <tr>\n",
       "      <th>2</th>\n",
       "      <td>#distinct_merchants</td>\n",
       "      <td>47.054948</td>\n",
       "    </tr>\n",
       "    <tr>\n",
       "      <th>4</th>\n",
       "      <td>#daily_orders_ratio</td>\n",
       "      <td>3.973145</td>\n",
       "    </tr>\n",
       "    <tr>\n",
       "      <th>1</th>\n",
       "      <td>#daily_orders</td>\n",
       "      <td>3.683891</td>\n",
       "    </tr>\n",
       "  </tbody>\n",
       "</table>\n",
       "</div>"
      ],
      "text/plain": [
       "                            features        scores\n",
       "7     transact_amount_perOrder_ratio  44060.561393\n",
       "0           transact_amount_perOrder  39514.155621\n",
       "3        transact_amount_perOrder_sd  13292.881996\n",
       "6  transact_amount_perOrder_sd_ratio   9811.997668\n",
       "5          #distinct_merchants_ratio     47.885663\n",
       "2                #distinct_merchants     47.054948\n",
       "4                #daily_orders_ratio      3.973145\n",
       "1                      #daily_orders      3.683891"
      ]
     },
     "execution_count": 51,
     "metadata": {},
     "output_type": "execute_result"
    }
   ],
   "source": [
    "# get the ranked feature names and scores\n",
    "kbest_scores1 = pd.DataFrame({'features': selectk_F.get_feature_names_out(), 'scores': selectk_F.scores_})\n",
    "kbest_scores1 = kbest_scores1.sort_values('scores', ascending=False)\n",
    "kbest_scores1"
   ]
  },
  {
   "cell_type": "code",
   "execution_count": 52,
   "metadata": {},
   "outputs": [],
   "source": [
    "SELECTED_FEATURES = kbest_scores1['features'][:4]"
   ]
  },
  {
   "cell_type": "code",
   "execution_count": 53,
   "metadata": {},
   "outputs": [],
   "source": [
    "import matplotlib.pyplot as plt"
   ]
  },
  {
   "cell_type": "code",
   "execution_count": 57,
   "metadata": {},
   "outputs": [
    {
     "data": {
      "image/png": "[encoded data removed]",
      "text/plain": [
       "<Figure size 432x288 with 1 Axes>"
      ]
     },
     "metadata": {
      "needs_background": "light"
     },
     "output_type": "display_data"
    },
    {
     "data": {
      "image/png": "[encoded data removed]",
      "text/plain": [
       "<Figure size 432x288 with 1 Axes>"
      ]
     },
     "metadata": {
      "needs_background": "light"
     },
     "output_type": "display_data"
    },
    {
     "data": {
      "image/png": "[encoded data removed]",
      "text/plain": [
       "<Figure size 432x288 with 1 Axes>"
      ]
     },
     "metadata": {
      "needs_background": "light"
     },
     "output_type": "display_data"
    },
    {
     "data": {
      "image/png": "[encoded data removed]",
      "text/plain": [
       "<Figure size 432x288 with 1 Axes>"
      ]
     },
     "metadata": {
      "needs_background": "light"
     },
     "output_type": "display_data"
    }
   ],
   "source": [
    "for selected_feature in SELECTED_FEATURES:\n",
    "    plt.scatter(data[selected_feature], data['fraud_probability'])\n",
    "    plt.title(selected_feature)\n",
    "    plt.show()"
   ]
  },
  {
   "cell_type": "markdown",
   "metadata": {},
   "source": [
    "# RFR"
   ]
  },
  {
   "cell_type": "code",
   "execution_count": 14,
   "metadata": {},
   "outputs": [],
   "source": [
    "from sklearn.ensemble import RandomForestRegressor"
   ]
  },
  {
   "cell_type": "code",
   "execution_count": 15,
   "metadata": {},
   "outputs": [],
   "source": [
    "rfr = RandomForestRegressor(random_state=19260817)"
   ]
  },
  {
   "cell_type": "code",
   "execution_count": 16,
   "metadata": {},
   "outputs": [
    {
     "data": {
      "text/plain": [
       "RandomForestRegressor(random_state=19260817)"
      ]
     },
     "execution_count": 16,
     "metadata": {},
     "output_type": "execute_result"
    }
   ],
   "source": [
    "rfr.fit(train[list(SELECTED_FEATURES)], train['fraud_probability'])"
   ]
  },
  {
   "cell_type": "code",
   "execution_count": 17,
   "metadata": {},
   "outputs": [
    {
     "data": {
      "text/plain": [
       "0.9739034544893413"
      ]
     },
     "execution_count": 17,
     "metadata": {},
     "output_type": "execute_result"
    }
   ],
   "source": [
    "rfr.score(train[list(SELECTED_FEATURES)], train['fraud_probability'])"
   ]
  },
  {
   "cell_type": "code",
   "execution_count": 18,
   "metadata": {},
   "outputs": [
    {
     "data": {
      "text/plain": [
       "0.7908097661899058"
      ]
     },
     "execution_count": 18,
     "metadata": {},
     "output_type": "execute_result"
    }
   ],
   "source": [
    "rfr.score(val[list(SELECTED_FEATURES)], val['fraud_probability'])"
   ]
  },
  {
   "cell_type": "code",
   "execution_count": 19,
   "metadata": {},
   "outputs": [
    {
     "data": {
      "text/plain": [
       "0.787927192190421"
      ]
     },
     "execution_count": 19,
     "metadata": {},
     "output_type": "execute_result"
    }
   ],
   "source": [
    "rfr.score(test[list(SELECTED_FEATURES)], test['fraud_probability'])"
   ]
  },
  {
   "cell_type": "markdown",
   "metadata": {},
   "source": [
    "# Linear Regression"
   ]
  },
  {
   "cell_type": "code",
   "execution_count": 20,
   "metadata": {},
   "outputs": [],
   "source": [
    "from sklearn.linear_model import LinearRegression"
   ]
  },
  {
   "cell_type": "code",
   "execution_count": 21,
   "metadata": {},
   "outputs": [],
   "source": [
    "lr = LinearRegression()"
   ]
  },
  {
   "cell_type": "code",
   "execution_count": 22,
   "metadata": {},
   "outputs": [
    {
     "data": {
      "text/plain": [
       "LinearRegression()"
      ]
     },
     "execution_count": 22,
     "metadata": {},
     "output_type": "execute_result"
    }
   ],
   "source": [
    "lr.fit(train[list(SELECTED_FEATURES)], train['fraud_probability'])"
   ]
  },
  {
   "cell_type": "code",
   "execution_count": 23,
   "metadata": {},
   "outputs": [
    {
     "data": {
      "text/plain": [
       "0.7627005646779915"
      ]
     },
     "execution_count": 23,
     "metadata": {},
     "output_type": "execute_result"
    }
   ],
   "source": [
    "lr.score(train[list(SELECTED_FEATURES)], train['fraud_probability'])"
   ]
  },
  {
   "cell_type": "code",
   "execution_count": 24,
   "metadata": {},
   "outputs": [
    {
     "data": {
      "text/plain": [
       "0.7364626735151119"
      ]
     },
     "execution_count": 24,
     "metadata": {},
     "output_type": "execute_result"
    }
   ],
   "source": [
    "lr.score(val[list(SELECTED_FEATURES)], val['fraud_probability'])"
   ]
  },
  {
   "cell_type": "code",
   "execution_count": 25,
   "metadata": {},
   "outputs": [
    {
     "data": {
      "text/plain": [
       "0.7336531870989735"
      ]
     },
     "execution_count": 25,
     "metadata": {},
     "output_type": "execute_result"
    }
   ],
   "source": [
    "lr.score(test[list(SELECTED_FEATURES)], test['fraud_probability'])"
   ]
  },
  {
   "cell_type": "markdown",
   "metadata": {},
   "source": [
    "# Neural Network"
   ]
  },
  {
   "cell_type": "code",
   "execution_count": 26,
   "metadata": {},
   "outputs": [],
   "source": [
    "from sklearn.neural_network import MLPRegressor"
   ]
  },
  {
   "cell_type": "code",
   "execution_count": 58,
   "metadata": {},
   "outputs": [],
   "source": [
    "mlp = MLPRegressor(hidden_layer_sizes=(2), random_state=19260817)"
   ]
  },
  {
   "cell_type": "code",
   "execution_count": 59,
   "metadata": {},
   "outputs": [
    {
     "name": "stderr",
     "output_type": "stream",
     "text": [
      "/Applications/anaconda3/lib/python3.9/site-packages/sklearn/neural_network/_multilayer_perceptron.py:692: ConvergenceWarning: Stochastic Optimizer: Maximum iterations (200) reached and the optimization hasn't converged yet.\n",
      "  warnings.warn(\n"
     ]
    },
    {
     "data": {
      "text/plain": [
       "MLPRegressor(hidden_layer_sizes=2, random_state=19260817)"
      ]
     },
     "execution_count": 59,
     "metadata": {},
     "output_type": "execute_result"
    }
   ],
   "source": [
    "mlp.fit(train[list(SELECTED_FEATURES)], train['fraud_probability'])"
   ]
  },
  {
   "cell_type": "code",
   "execution_count": 60,
   "metadata": {},
   "outputs": [
    {
     "data": {
      "text/plain": [
       "0.35070874138999175"
      ]
     },
     "execution_count": 60,
     "metadata": {},
     "output_type": "execute_result"
    }
   ],
   "source": [
    "mlp.score(train[list(SELECTED_FEATURES)], train['fraud_probability'])"
   ]
  },
  {
   "cell_type": "code",
   "execution_count": 61,
   "metadata": {},
   "outputs": [
    {
     "data": {
      "text/plain": [
       "0.3286509177890802"
      ]
     },
     "execution_count": 61,
     "metadata": {},
     "output_type": "execute_result"
    }
   ],
   "source": [
    "mlp.score(val[list(SELECTED_FEATURES)], val['fraud_probability'])"
   ]
  },
  {
   "cell_type": "code",
   "execution_count": 62,
   "metadata": {},
   "outputs": [
    {
     "data": {
      "text/plain": [
       "0.3111252798067978"
      ]
     },
     "execution_count": 62,
     "metadata": {},
     "output_type": "execute_result"
    }
   ],
   "source": [
    "mlp.score(test[list(SELECTED_FEATURES)], test['fraud_probability'])"
   ]
  },
  {
   "cell_type": "code",
   "execution_count": null,
   "metadata": {},
   "outputs": [],
   "source": []
  }
 ],
 "metadata": {
  "kernelspec": {
   "display_name": "Python 3.9.13 64-bit",
   "language": "python",
   "name": "python3"
  },
  "language_info": {
   "codemirror_mode": {
    "name": "ipython",
    "version": 3
   },
   "file_extension": ".py",
   "mimetype": "text/x-python",
   "name": "python",
   "nbconvert_exporter": "python",
   "pygments_lexer": "ipython3",
   "version": "3.9.13"
  },
  "orig_nbformat": 4,
  "vscode": {
   "interpreter": {
    "hash": "b0fa6594d8f4cbf19f97940f81e996739fb7646882a419484c72d19e05852a7e"
   }
  }
 },
 "nbformat": 4,
 "nbformat_minor": 2
}
