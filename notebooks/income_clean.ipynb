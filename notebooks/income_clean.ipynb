{
 "cells": [
  {
   "cell_type": "code",
   "execution_count": 2,
   "metadata": {},
   "outputs": [],
   "source": [
    "import pandas as pd"
   ]
  },
  {
   "cell_type": "code",
   "execution_count": 3,
   "metadata": {},
   "outputs": [],
   "source": [
    "income = pd.read_csv('income.csv').drop(['Negative income','Not stated','Not applicable'],axis=1)"
   ]
  },
  {
   "cell_type": "code",
   "execution_count": 4,
   "metadata": {},
   "outputs": [],
   "source": [
    "income = income.set_axis(['INCP Total Personal Income (weekly)','0', '75', '225', '350', '450','575','725','900','1125','1375','1625','1875','2500','3500','Total'], axis=1, inplace=False)"
   ]
  },
  {
   "cell_type": "code",
   "execution_count": 33,
   "metadata": {},
   "outputs": [
    {
     "name": "stderr",
     "output_type": "stream",
     "text": [
      "/var/folders/2v/r8y_1sr56zv0vrxc_wtdq9zw0000gn/T/ipykernel_20286/3625109661.py:6: RuntimeWarning: invalid value encountered in long_scalars\n",
      "  output.append(\"{:.2f}\".format(sum(cols)/income.iloc[i,-1]))\n"
     ]
    }
   ],
   "source": [
    "output = []\n",
    "for i in range(len(income)):\n",
    "    cols = []\n",
    "    for j in range(1,len(income.columns)-1):\n",
    "        cols.append(income.iloc[i,j]*int(income.columns[j]))\n",
    "    output.append(\"{:.2f}\".format(sum(cols)/income.iloc[i,-1]))\n"
   ]
  },
  {
   "cell_type": "code",
   "execution_count": 38,
   "metadata": {},
   "outputs": [],
   "source": [
    "final = pd.DataFrame()\n",
    "final['postcode'] = income['INCP Total Personal Income (weekly)']\n",
    "final['average_salary'] = output"
   ]
  },
  {
   "cell_type": "code",
   "execution_count": 41,
   "metadata": {},
   "outputs": [],
   "source": [
    "final.to_csv('income_cleaned.csv')"
   ]
  },
  {
   "cell_type": "code",
   "execution_count": null,
   "metadata": {},
   "outputs": [],
   "source": []
  }
 ],
 "metadata": {
  "kernelspec": {
   "display_name": "Python 3.8.9 64-bit",
   "language": "python",
   "name": "python3"
  },
  "language_info": {
   "codemirror_mode": {
    "name": "ipython",
    "version": 3
   },
   "file_extension": ".py",
   "mimetype": "text/x-python",
   "name": "python",
   "nbconvert_exporter": "python",
   "pygments_lexer": "ipython3",
   "version": "3.8.9"
  },
  "orig_nbformat": 4,
  "vscode": {
   "interpreter": {
    "hash": "31f2aee4e71d21fbe5cf8b01ff0e069b9275f58929596ceb00d14d90e3e16cd6"
   }
  }
 },
 "nbformat": 4,
 "nbformat_minor": 2
}
