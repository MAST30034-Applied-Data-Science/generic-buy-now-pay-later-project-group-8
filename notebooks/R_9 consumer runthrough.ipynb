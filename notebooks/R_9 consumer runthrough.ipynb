{
 "cells": [
  {
   "cell_type": "code",
   "execution_count": 1,
   "metadata": {},
   "outputs": [],
   "source": [
    "import pandas as pd\n",
    "import pickle\n",
    "from sklearn.ensemble import RandomForestRegressor"
   ]
  },
  {
   "cell_type": "markdown",
   "metadata": {},
   "source": [
    "# Get the predicted Fraud labelled (for dropping once joined)"
   ]
  },
  {
   "cell_type": "code",
   "execution_count": 2,
   "metadata": {},
   "outputs": [],
   "source": [
    "# load the rf\n",
    "with open('../models/consumer_fraud_rfr.pickle', 'rb') as g:\n",
    "    rfr = pickle.load(g)"
   ]
  },
  {
   "cell_type": "code",
   "execution_count": 3,
   "metadata": {},
   "outputs": [],
   "source": [
    "# load the full data to undergo prediction\n",
    "data = pd.read_csv('../data/curated/fraud/full_consumer_fraud_data.csv')\n",
    "\n",
    "data = data.rename(columns = {'mean_#distinct_merchants': '#distinct_merchants', \\\n",
    "        'mean_#daily_orders': '#daily_orders', 'mean_transact_amount_perOrder': 'transact_amount_perOrder',\\\n",
    "        'mean_transact_amount_perOrder_sd': 'transact_amount_perOrder_sd'})\n",
    "\n",
    "X = data[['transact_amount_perOrder_ratio', 'transact_amount_perOrder',\n",
    "    'transact_amount_perOrder_sd', 'transact_amount_perOrder_sd_ratio']]"
   ]
  },
  {
   "cell_type": "code",
   "execution_count": 4,
   "metadata": {},
   "outputs": [],
   "source": [
    "# make prediction\n",
    "prediction = rfr.predict(X)\n",
    "\n",
    "df = pd.DataFrame({'prediction': prediction})"
   ]
  },
  {
   "cell_type": "markdown",
   "metadata": {},
   "source": [
    "Analysis"
   ]
  },
  {
   "cell_type": "code",
   "execution_count": 5,
   "metadata": {},
   "outputs": [
    {
     "data": {
      "text/html": [
       "<div>\n",
       "<style scoped>\n",
       "    .dataframe tbody tr th:only-of-type {\n",
       "        vertical-align: middle;\n",
       "    }\n",
       "\n",
       "    .dataframe tbody tr th {\n",
       "        vertical-align: top;\n",
       "    }\n",
       "\n",
       "    .dataframe thead th {\n",
       "        text-align: right;\n",
       "    }\n",
       "</style>\n",
       "<table border=\"1\" class=\"dataframe\">\n",
       "  <thead>\n",
       "    <tr style=\"text-align: right;\">\n",
       "      <th></th>\n",
       "      <th>prediction</th>\n",
       "    </tr>\n",
       "  </thead>\n",
       "  <tbody>\n",
       "    <tr>\n",
       "      <th>mean</th>\n",
       "      <td>9.394051</td>\n",
       "    </tr>\n",
       "    <tr>\n",
       "      <th>std</th>\n",
       "      <td>0.920289</td>\n",
       "    </tr>\n",
       "    <tr>\n",
       "      <th>min</th>\n",
       "      <td>9.287148</td>\n",
       "    </tr>\n",
       "    <tr>\n",
       "      <th>25%</th>\n",
       "      <td>9.287148</td>\n",
       "    </tr>\n",
       "    <tr>\n",
       "      <th>50%</th>\n",
       "      <td>9.287148</td>\n",
       "    </tr>\n",
       "    <tr>\n",
       "      <th>75%</th>\n",
       "      <td>9.411906</td>\n",
       "    </tr>\n",
       "    <tr>\n",
       "      <th>max</th>\n",
       "      <td>85.362188</td>\n",
       "    </tr>\n",
       "  </tbody>\n",
       "</table>\n",
       "</div>"
      ],
      "text/plain": [
       "      prediction\n",
       "mean    9.394051\n",
       "std     0.920289\n",
       "min     9.287148\n",
       "25%     9.287148\n",
       "50%     9.287148\n",
       "75%     9.411906\n",
       "max    85.362188"
      ]
     },
     "execution_count": 5,
     "metadata": {},
     "output_type": "execute_result"
    }
   ],
   "source": [
    "df.describe()[1:]"
   ]
  },
  {
   "cell_type": "code",
   "execution_count": 6,
   "metadata": {},
   "outputs": [
    {
     "name": "stdout",
     "output_type": "stream",
     "text": [
      "10 : 0.011581764288277197\n",
      "15 : 0.002210437233908996\n",
      "20 : 0.0010706300587158878\n",
      "25 : 0.0006338450769007805\n",
      "30 : 0.0004225262524929105\n",
      "35 : 0.00031057294804909946\n",
      "40 : 0.00022702570592685248\n",
      "45 : 0.00016141327178018119\n",
      "50 : 0.00010772024417628378\n",
      "55 : 7.675206642963757e-05\n",
      "60 : 5.45841981865347e-05\n",
      "65 : 3.7094975502277664e-05\n",
      "70 : 2.1610886628954556e-05\n",
      "75 : 9.357291117691663e-06\n",
      "80 : 1.6709448424449398e-06\n"
     ]
    }
   ],
   "source": [
    "# inspect how many % of transactions get dropped off for each cutoff threshold rate\n",
    "for i in range(10, 85, 5):\n",
    "    print(i, ':', len(df[df['prediction']>i])/len(df))"
   ]
  },
  {
   "cell_type": "code",
   "execution_count": 7,
   "metadata": {},
   "outputs": [
    {
     "name": "stderr",
     "output_type": "stream",
     "text": [
      "/var/folders/xg/8w_3dndd6l5c3n99vd7vd3f40000gn/T/ipykernel_89469/3644901257.py:4: SettingWithCopyWarning: \n",
      "A value is trying to be set on a copy of a slice from a DataFrame.\n",
      "Try using .loc[row_indexer,col_indexer] = value instead\n",
      "\n",
      "See the caveats in the documentation: https://pandas.pydata.org/pandas-docs/stable/user_guide/indexing.html#returning-a-view-versus-a-copy\n",
      "  final_fraud_prediction['fraud'] = final_fraud_prediction['fraud rate'].apply(lambda x:1 if x >= 20 else 0)\n"
     ]
    }
   ],
   "source": [
    "# create fraud label\n",
    "data['fraud rate'] = prediction\n",
    "final_fraud_prediction = data[['user_id', 'order_datetime', 'fraud rate']]\n",
    "final_fraud_prediction['fraud'] = final_fraud_prediction['fraud rate'].apply(lambda x:1 if x >= 20 else 0)"
   ]
  },
  {
   "cell_type": "code",
   "execution_count": 8,
   "metadata": {},
   "outputs": [],
   "source": [
    "final_fraud_prediction.to_csv('../data/curated/fraud/final_fraud_prediction.csv', index=False)"
   ]
  },
  {
   "cell_type": "markdown",
   "metadata": {},
   "source": [
    "# Get the actual fraud labelled (for dropping once joined)"
   ]
  },
  {
   "cell_type": "code",
   "execution_count": 9,
   "metadata": {},
   "outputs": [],
   "source": [
    "consumer_fraud_df = pd.read_csv('../data/tables/consumer_fraud_probability.csv')"
   ]
  },
  {
   "cell_type": "code",
   "execution_count": 10,
   "metadata": {},
   "outputs": [
    {
     "data": {
      "text/plain": [
       "user_id              24057.137000\n",
       "fraud_probability       83.006761\n",
       "Name: 0.999, dtype: float64"
      ]
     },
     "execution_count": 10,
     "metadata": {},
     "output_type": "execute_result"
    }
   ],
   "source": [
    "# find threshold that drops 0.001 of labelled transactions\n",
    "consumer_fraud_df.quantile(0.999)"
   ]
  },
  {
   "cell_type": "code",
   "execution_count": 11,
   "metadata": {},
   "outputs": [
    {
     "data": {
      "text/html": [
       "<div>\n",
       "<style scoped>\n",
       "    .dataframe tbody tr th:only-of-type {\n",
       "        vertical-align: middle;\n",
       "    }\n",
       "\n",
       "    .dataframe tbody tr th {\n",
       "        vertical-align: top;\n",
       "    }\n",
       "\n",
       "    .dataframe thead th {\n",
       "        text-align: right;\n",
       "    }\n",
       "</style>\n",
       "<table border=\"1\" class=\"dataframe\">\n",
       "  <thead>\n",
       "    <tr style=\"text-align: right;\">\n",
       "      <th></th>\n",
       "      <th>user_id</th>\n",
       "      <th>order_datetime</th>\n",
       "      <th>fraud_probability</th>\n",
       "      <th>fraud</th>\n",
       "    </tr>\n",
       "  </thead>\n",
       "  <tbody>\n",
       "    <tr>\n",
       "      <th>0</th>\n",
       "      <td>6228</td>\n",
       "      <td>2021-12-19</td>\n",
       "      <td>97.629808</td>\n",
       "      <td>1</td>\n",
       "    </tr>\n",
       "    <tr>\n",
       "      <th>1</th>\n",
       "      <td>21419</td>\n",
       "      <td>2021-12-10</td>\n",
       "      <td>99.247380</td>\n",
       "      <td>1</td>\n",
       "    </tr>\n",
       "    <tr>\n",
       "      <th>2</th>\n",
       "      <td>5606</td>\n",
       "      <td>2021-10-17</td>\n",
       "      <td>84.058250</td>\n",
       "      <td>1</td>\n",
       "    </tr>\n",
       "    <tr>\n",
       "      <th>3</th>\n",
       "      <td>3101</td>\n",
       "      <td>2021-04-17</td>\n",
       "      <td>91.421921</td>\n",
       "      <td>1</td>\n",
       "    </tr>\n",
       "    <tr>\n",
       "      <th>4</th>\n",
       "      <td>22239</td>\n",
       "      <td>2021-10-19</td>\n",
       "      <td>94.703425</td>\n",
       "      <td>1</td>\n",
       "    </tr>\n",
       "    <tr>\n",
       "      <th>...</th>\n",
       "      <td>...</td>\n",
       "      <td>...</td>\n",
       "      <td>...</td>\n",
       "      <td>...</td>\n",
       "    </tr>\n",
       "    <tr>\n",
       "      <th>34859</th>\n",
       "      <td>18466</td>\n",
       "      <td>2022-02-22</td>\n",
       "      <td>8.679873</td>\n",
       "      <td>0</td>\n",
       "    </tr>\n",
       "    <tr>\n",
       "      <th>34860</th>\n",
       "      <td>17552</td>\n",
       "      <td>2021-12-26</td>\n",
       "      <td>8.349463</td>\n",
       "      <td>0</td>\n",
       "    </tr>\n",
       "    <tr>\n",
       "      <th>34861</th>\n",
       "      <td>17875</td>\n",
       "      <td>2021-06-27</td>\n",
       "      <td>8.288847</td>\n",
       "      <td>0</td>\n",
       "    </tr>\n",
       "    <tr>\n",
       "      <th>34862</th>\n",
       "      <td>10401</td>\n",
       "      <td>2021-09-18</td>\n",
       "      <td>8.842216</td>\n",
       "      <td>0</td>\n",
       "    </tr>\n",
       "    <tr>\n",
       "      <th>34863</th>\n",
       "      <td>18076</td>\n",
       "      <td>2021-11-30</td>\n",
       "      <td>8.542029</td>\n",
       "      <td>0</td>\n",
       "    </tr>\n",
       "  </tbody>\n",
       "</table>\n",
       "<p>34864 rows × 4 columns</p>\n",
       "</div>"
      ],
      "text/plain": [
       "       user_id order_datetime  fraud_probability  fraud\n",
       "0         6228     2021-12-19          97.629808      1\n",
       "1        21419     2021-12-10          99.247380      1\n",
       "2         5606     2021-10-17          84.058250      1\n",
       "3         3101     2021-04-17          91.421921      1\n",
       "4        22239     2021-10-19          94.703425      1\n",
       "...        ...            ...                ...    ...\n",
       "34859    18466     2022-02-22           8.679873      0\n",
       "34860    17552     2021-12-26           8.349463      0\n",
       "34861    17875     2021-06-27           8.288847      0\n",
       "34862    10401     2021-09-18           8.842216      0\n",
       "34863    18076     2021-11-30           8.542029      0\n",
       "\n",
       "[34864 rows x 4 columns]"
      ]
     },
     "execution_count": 11,
     "metadata": {},
     "output_type": "execute_result"
    }
   ],
   "source": [
    "# create labels\n",
    "consumer_fraud_df['fraud'] = consumer_fraud_df['fraud_probability'].apply(lambda x:1 if x >= 83 else 0)\n",
    "consumer_fraud_df"
   ]
  },
  {
   "cell_type": "code",
   "execution_count": 12,
   "metadata": {},
   "outputs": [],
   "source": [
    "consumer_fraud_df.to_csv('../data/curated/fraud/final_fraud_real.csv', index=False)"
   ]
  },
  {
   "cell_type": "markdown",
   "metadata": {},
   "source": [
    "# Join together and drop fraud rows"
   ]
  },
  {
   "cell_type": "code",
   "execution_count": 13,
   "metadata": {},
   "outputs": [],
   "source": [
    "# import libraries\n",
    "import pandas as pd\n",
    "from pyspark.sql import SparkSession\n",
    "from pyspark.sql import functions as F\n",
    "from statistics import mean, stdev, pstdev\n",
    "import os"
   ]
  },
  {
   "cell_type": "code",
   "execution_count": 14,
   "metadata": {},
   "outputs": [
    {
     "name": "stderr",
     "output_type": "stream",
     "text": [
      "Setting default log level to \"WARN\".\n",
      "To adjust logging level use sc.setLogLevel(newLevel). For SparkR, use setLogLevel(newLevel).\n"
     ]
    },
    {
     "name": "stdout",
     "output_type": "stream",
     "text": [
      "22/09/22 13:13:26 WARN NativeCodeLoader: Unable to load native-hadoop library for your platform... using builtin-java classes where applicable\n",
      "22/09/22 13:13:27 WARN Utils: Service 'SparkUI' could not bind on port 4040. Attempting port 4041.\n",
      "22/09/22 13:13:27 WARN Utils: Service 'SparkUI' could not bind on port 4041. Attempting port 4042.\n",
      "22/09/22 13:13:27 WARN Utils: Service 'SparkUI' could not bind on port 4042. Attempting port 4043.\n"
     ]
    }
   ],
   "source": [
    "# setup spark\n",
    "spark = (\n",
    "    SparkSession.builder.appName(\"aggregate data for first 3 final model variables\")\n",
    "    .config(\"spark.sql.repl.eagerEval.enabled\", True) \n",
    "    .config(\"spark.sql.parquet.cacheMetadata\", \"true\")\n",
    "    .config(\"spark.sql.session.timeZone\", \"Etc/UTC\")\n",
    "    .config(\"spark.driver.memory\", \"15g\")\n",
    "    .getOrCreate()\n",
    ")"
   ]
  },
  {
   "cell_type": "code",
   "execution_count": 15,
   "metadata": {},
   "outputs": [
    {
     "name": "stderr",
     "output_type": "stream",
     "text": [
      "                                                                                \r"
     ]
    }
   ],
   "source": [
    "# import transactions data\n",
    "data1 = spark.read.parquet(\"../data/tables/transactions_20210228_20210827_snapshot/\")\n",
    "data2 = spark.read.parquet(\"../data/tables/transactions_20210828_20220227_snapshot/\")\n",
    "data3 = spark.read.parquet(\"../data/tables/transactions_20220228_20220828_snapshot/\")\n",
    "\n",
    "data = data1.union(data2)\n",
    "data = data.union(data3)"
   ]
  },
  {
   "cell_type": "code",
   "execution_count": 16,
   "metadata": {},
   "outputs": [],
   "source": [
    "# read both fraud data\n",
    "final_fraud_prediction = spark.read.option(\"header\",True).csv('../data/curated/fraud/final_fraud_prediction.csv', )\n",
    "final_fraud_real = spark.read.option(\"header\",True).csv('../data/curated/fraud/final_fraud_real.csv', )"
   ]
  },
  {
   "cell_type": "code",
   "execution_count": 17,
   "metadata": {},
   "outputs": [],
   "source": [
    "# rename columns before join\n",
    "final_fraud_real = final_fraud_real.withColumnRenamed(\"user_id\", \"user_id3\")\\\n",
    "    .withColumnRenamed(\"order_datetime\", \"order_datetime3\").withColumnRenamed(\"fraud\", \"fraud3\")\n",
    "\n",
    "final_fraud_prediction = final_fraud_prediction.withColumnRenamed(\"user_id\", \"user_id2\")\\\n",
    "    .withColumnRenamed(\"order_datetime\", \"order_datetime2\").withColumnRenamed(\"fraud\", \"fraud2\")"
   ]
  },
  {
   "cell_type": "code",
   "execution_count": 18,
   "metadata": {},
   "outputs": [],
   "source": [
    "# join up\n",
    "data_withFraud = final_fraud_prediction.join(data, [final_fraud_prediction.user_id2 == data.user_id, \\\n",
    "    final_fraud_prediction.order_datetime2 == data.order_datetime], 'outer')\n",
    "\n",
    "data_withFraud = data_withFraud.join(final_fraud_real, [data_withFraud.user_id == final_fraud_real.user_id3, \\\n",
    "    data_withFraud.order_datetime == final_fraud_real.order_datetime3], 'left').fillna(0)"
   ]
  },
  {
   "cell_type": "code",
   "execution_count": 19,
   "metadata": {},
   "outputs": [
    {
     "name": "stderr",
     "output_type": "stream",
     "text": [
      "                                                                                \r"
     ]
    },
    {
     "data": {
      "text/plain": [
       "Row(user_id2='1', order_datetime2='2021-03-11', fraud rate='9.287148398864032', fraud2='0', user_id=1, merchant_abn=86578477987, dollar_value=23.300617635489033, order_id='661ed6fb-c52f-4c5e-9f1d-73fb6006c088', order_datetime=datetime.date(2021, 3, 11), user_id3=None, order_datetime3=None, fraud_probability=None, fraud3=None)"
      ]
     },
     "execution_count": 19,
     "metadata": {},
     "output_type": "execute_result"
    }
   ],
   "source": [
    "data_withFraud.head()"
   ]
  },
  {
   "cell_type": "code",
   "execution_count": 20,
   "metadata": {},
   "outputs": [],
   "source": [
    "# drop fraud (picked up by prediction)\n",
    "data_withoutFraud = data_withFraud.filter(F.col('fraud2') == 0)"
   ]
  },
  {
   "cell_type": "code",
   "execution_count": 21,
   "metadata": {},
   "outputs": [
    {
     "name": "stderr",
     "output_type": "stream",
     "text": [
      "                                                                                \r"
     ]
    },
    {
     "data": {
      "text/plain": [
       "14179422"
      ]
     },
     "execution_count": 21,
     "metadata": {},
     "output_type": "execute_result"
    }
   ],
   "source": [
    "\n",
    "data_withoutFraud.count()"
   ]
  },
  {
   "cell_type": "code",
   "execution_count": 22,
   "metadata": {},
   "outputs": [],
   "source": [
    "# drop fraud (picked up by observation)\n",
    "data_withoutFraud = data_withoutFraud.filter((F.col('fraud3') == 0) | (F.col('fraud3').isNull()))"
   ]
  },
  {
   "cell_type": "code",
   "execution_count": 23,
   "metadata": {},
   "outputs": [
    {
     "name": "stderr",
     "output_type": "stream",
     "text": [
      "                                                                                \r"
     ]
    },
    {
     "data": {
      "text/plain": [
       "14179422"
      ]
     },
     "execution_count": 23,
     "metadata": {},
     "output_type": "execute_result"
    }
   ],
   "source": [
    "# realise that predicted fraud includes all the observed fraud, so this is good emperical evidence that our work is good\n",
    "data_withoutFraud.count()"
   ]
  },
  {
   "cell_type": "code",
   "execution_count": null,
   "metadata": {},
   "outputs": [],
   "source": [
    "data_withoutFraud_correctDates = data_withoutFraud.filter(data_withoutFraud[\"order_datetime\"] >= F.lit('2021-03-01')) \\\n",
    "       .filter(data_withoutFraud[\"order_datetime\"] <= F.lit('2022-08-14'))"
   ]
  },
  {
   "cell_type": "code",
   "execution_count": 27,
   "metadata": {},
   "outputs": [
    {
     "name": "stderr",
     "output_type": "stream",
     "text": [
      "                                                                                \r"
     ]
    },
    {
     "data": {
      "text/plain": [
       "12143162"
      ]
     },
     "execution_count": 27,
     "metadata": {},
     "output_type": "execute_result"
    }
   ],
   "source": [
    "data_withoutFraud_correctDates.count()"
   ]
  },
  {
   "cell_type": "code",
   "execution_count": 28,
   "metadata": {},
   "outputs": [
    {
     "name": "stderr",
     "output_type": "stream",
     "text": [
      "                                                                                \r"
     ]
    }
   ],
   "source": [
    "data_withoutFraud_correctDates.write.mode('overwrite').parquet('../data/curated/fraud/transactions_withoutfraud')"
   ]
  },
  {
   "cell_type": "code",
   "execution_count": 29,
   "metadata": {},
   "outputs": [
    {
     "data": {
      "text/plain": [
       "['user_id2',\n",
       " 'order_datetime2',\n",
       " 'fraud rate',\n",
       " 'fraud2',\n",
       " 'user_id',\n",
       " 'merchant_abn',\n",
       " 'dollar_value',\n",
       " 'order_id',\n",
       " 'order_datetime',\n",
       " 'user_id3',\n",
       " 'order_datetime3',\n",
       " 'fraud_probability',\n",
       " 'fraud3']"
      ]
     },
     "execution_count": 29,
     "metadata": {},
     "output_type": "execute_result"
    }
   ],
   "source": [
    "data_withoutFraud_correctDates.columns"
   ]
  },
  {
   "cell_type": "code",
   "execution_count": 37,
   "metadata": {},
   "outputs": [
    {
     "name": "stderr",
     "output_type": "stream",
     "text": [
      "                                                                                \r"
     ]
    },
    {
     "data": {
      "text/html": [
       "<table border='1'>\n",
       "<tr><th>user_id</th><th>merchant_abn</th><th>dollar_value</th><th>order_id</th><th>order_datetime</th></tr>\n",
       "<tr><td>1</td><td>86578477987</td><td>23.300617635489033</td><td>661ed6fb-c52f-4c5...</td><td>2021-03-11</td></tr>\n",
       "<tr><td>1</td><td>72472909171</td><td>26.84427554025195</td><td>02627b89-1d59-476...</td><td>2021-03-21</td></tr>\n",
       "<tr><td>1</td><td>86010199872</td><td>218.49116722954264</td><td>1554c198-01aa-4a8...</td><td>2021-03-21</td></tr>\n",
       "<tr><td>1</td><td>83893827922</td><td>2848.168589428446</td><td>41fa3fa4-7988-4a6...</td><td>2021-05-03</td></tr>\n",
       "<tr><td>1</td><td>46804135891</td><td>67.09721885094145</td><td>c3dcb1b2-54d4-47f...</td><td>2021-05-03</td></tr>\n",
       "<tr><td>1</td><td>32234779638</td><td>77.68589068822394</td><td>0f8d252d-79e0-48e...</td><td>2021-05-12</td></tr>\n",
       "<tr><td>1</td><td>58392414752</td><td>77.59241393534961</td><td>23a7b399-3399-400...</td><td>2021-05-12</td></tr>\n",
       "<tr><td>1</td><td>80324045558</td><td>100.7884172212041</td><td>dd8e06be-113c-4b8...</td><td>2021-05-16</td></tr>\n",
       "<tr><td>1</td><td>49505931725</td><td>79.89116533221068</td><td>faa38b1e-729d-490...</td><td>2021-05-20</td></tr>\n",
       "<tr><td>1</td><td>83690644458</td><td>102.77148602868758</td><td>68195b1a-e3cb-4b8...</td><td>2021-05-20</td></tr>\n",
       "<tr><td>1</td><td>94493496784</td><td>227.4533749927101</td><td>10f2882e-d871-407...</td><td>2021-05-23</td></tr>\n",
       "<tr><td>1</td><td>83000061755</td><td>238.4816854302472</td><td>87e733f4-987d-44d...</td><td>2021-05-30</td></tr>\n",
       "<tr><td>1</td><td>57824995706</td><td>18.10500890081391</td><td>0b306516-0e91-472...</td><td>2021-05-30</td></tr>\n",
       "<tr><td>1</td><td>29102388616</td><td>25.760349261463237</td><td>4ab6dee5-ba3a-485...</td><td>2021-06-12</td></tr>\n",
       "<tr><td>1</td><td>91923722701</td><td>0.9291570195978797</td><td>fc3ef99b-a66e-43e...</td><td>2021-07-13</td></tr>\n",
       "<tr><td>1</td><td>56144254367</td><td>788.7901398541201</td><td>f9e095cf-0e66-467...</td><td>2021-07-13</td></tr>\n",
       "<tr><td>1</td><td>48390524826</td><td>35.387214125514944</td><td>38f2077a-eb0e-472...</td><td>2021-07-30</td></tr>\n",
       "<tr><td>1</td><td>96152467973</td><td>15.922744977471327</td><td>7b4fd276-ae63-49d...</td><td>2021-07-30</td></tr>\n",
       "<tr><td>1</td><td>68216911708</td><td>9.790427318304184</td><td>2fff3a6f-f3ce-419...</td><td>2021-07-30</td></tr>\n",
       "<tr><td>1</td><td>22033359776</td><td>461.0552290700037</td><td>179efcdd-130a-4a1...</td><td>2021-08-21</td></tr>\n",
       "</table>\n",
       "only showing top 20 rows\n"
      ],
      "text/plain": [
       "+-------+------------+------------------+--------------------+--------------+\n",
       "|user_id|merchant_abn|      dollar_value|            order_id|order_datetime|\n",
       "+-------+------------+------------------+--------------------+--------------+\n",
       "|      1| 86578477987|23.300617635489033|661ed6fb-c52f-4c5...|    2021-03-11|\n",
       "|      1| 72472909171| 26.84427554025195|02627b89-1d59-476...|    2021-03-21|\n",
       "|      1| 86010199872|218.49116722954264|1554c198-01aa-4a8...|    2021-03-21|\n",
       "|      1| 83893827922| 2848.168589428446|41fa3fa4-7988-4a6...|    2021-05-03|\n",
       "|      1| 46804135891| 67.09721885094145|c3dcb1b2-54d4-47f...|    2021-05-03|\n",
       "|      1| 32234779638| 77.68589068822394|0f8d252d-79e0-48e...|    2021-05-12|\n",
       "|      1| 58392414752| 77.59241393534961|23a7b399-3399-400...|    2021-05-12|\n",
       "|      1| 80324045558| 100.7884172212041|dd8e06be-113c-4b8...|    2021-05-16|\n",
       "|      1| 49505931725| 79.89116533221068|faa38b1e-729d-490...|    2021-05-20|\n",
       "|      1| 83690644458|102.77148602868758|68195b1a-e3cb-4b8...|    2021-05-20|\n",
       "|      1| 94493496784| 227.4533749927101|10f2882e-d871-407...|    2021-05-23|\n",
       "|      1| 83000061755| 238.4816854302472|87e733f4-987d-44d...|    2021-05-30|\n",
       "|      1| 57824995706| 18.10500890081391|0b306516-0e91-472...|    2021-05-30|\n",
       "|      1| 29102388616|25.760349261463237|4ab6dee5-ba3a-485...|    2021-06-12|\n",
       "|      1| 91923722701|0.9291570195978797|fc3ef99b-a66e-43e...|    2021-07-13|\n",
       "|      1| 56144254367| 788.7901398541201|f9e095cf-0e66-467...|    2021-07-13|\n",
       "|      1| 48390524826|35.387214125514944|38f2077a-eb0e-472...|    2021-07-30|\n",
       "|      1| 96152467973|15.922744977471327|7b4fd276-ae63-49d...|    2021-07-30|\n",
       "|      1| 68216911708| 9.790427318304184|2fff3a6f-f3ce-419...|    2021-07-30|\n",
       "|      1| 22033359776| 461.0552290700037|179efcdd-130a-4a1...|    2021-08-21|\n",
       "+-------+------------+------------------+--------------------+--------------+\n",
       "only showing top 20 rows"
      ]
     },
     "execution_count": 37,
     "metadata": {},
     "output_type": "execute_result"
    }
   ],
   "source": [
    "data_withoutFraud_correctDates.select(F.col('user_id'), F.col('merchant_abn'), \n",
    "    F.col('dollar_value'), F.col('order_id'), F.col('order_datetime'))"
   ]
  },
  {
   "cell_type": "code",
   "execution_count": null,
   "metadata": {},
   "outputs": [],
   "source": []
  }
 ],
 "metadata": {
  "kernelspec": {
   "display_name": "Python 3.9.7 ('base')",
   "language": "python",
   "name": "python3"
  },
  "language_info": {
   "codemirror_mode": {
    "name": "ipython",
    "version": 3
   },
   "file_extension": ".py",
   "mimetype": "text/x-python",
   "name": "python",
   "nbconvert_exporter": "python",
   "pygments_lexer": "ipython3",
   "version": "3.9.7"
  },
  "orig_nbformat": 4,
  "vscode": {
   "interpreter": {
    "hash": "cd78fef2128015050713e82ca51c6520b11aee7c9ee8df750520bbbc7384cbaa"
   }
  }
 },
 "nbformat": 4,
 "nbformat_minor": 2
}
