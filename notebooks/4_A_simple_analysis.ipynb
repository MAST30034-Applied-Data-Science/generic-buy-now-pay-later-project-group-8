{
 "cells": [
  {
   "cell_type": "markdown",
   "metadata": {},
   "source": [
    "# Simple analysis on data  \n",
    "\n",
    "# Objective: Conduct simple analysis on provided data to provide basic intuition for the group's solution direction."
   ]
  },
  {
   "cell_type": "code",
   "execution_count": 6,
   "metadata": {},
   "outputs": [],
   "source": [
    "# importing require libraries to run the code in this notebook\n",
    "from pyspark.sql import SparkSession\n",
    "from pyspark.sql import functions as F\n",
    "import matplotlib.pyplot as plt "
   ]
  },
  {
   "cell_type": "code",
   "execution_count": 7,
   "metadata": {},
   "outputs": [],
   "source": [
    "# running spark\n",
    "spark = (\n",
    "    SparkSession.builder.appName(\"preprocessing of taxi data\")\n",
    "    .config(\"spark.sql.repl.eagerEval.enabled\", True) \n",
    "    .config(\"spark.sql.parquet.cacheMetadata\", \"true\")\n",
    "    .config(\"spark.sql.session.timeZone\", \"Etc/UTC\")\n",
    "    .config(\"spark.driver.memory\", \"15g\")\n",
    "    .getOrCreate()\n",
    ")"
   ]
  },
  {
   "cell_type": "code",
   "execution_count": 8,
   "metadata": {},
   "outputs": [],
   "source": [
    "# reading in require datasets\n",
    "transaction_20210228_20210827_sdf = spark.read.parquet(\"../data/curated/transactions_20210228_20210827_snapshot_all_details\")\n",
    "transaction_20210228_20210827_missings_sdf = spark.read.parquet(\"../data/curated/transactions_20210228_20210827_snapshot_all_details_missing_counts\")\n",
    "transaction_20210828_20220227_sdf = spark.read.parquet(\"../data/curated/transactions_20210828_20220227_snapshot_all_details\")\n",
    "transaction_20210828_20220227_missings_sdf = spark.read.parquet(\"../data/curated/transactions_20210828_20220227_snapshot_all_details_missing_counts\")\n",
    "merchant_sdf = spark.read.parquet(\"../data/tables/tbl_merchants.parquet\")"
   ]
  },
  {
   "cell_type": "markdown",
   "metadata": {},
   "source": [
    "Quick look at the missing values after joining consumer, merchant, transaction datasets."
   ]
  },
  {
   "cell_type": "code",
   "execution_count": 9,
   "metadata": {},
   "outputs": [
    {
     "name": "stdout",
     "output_type": "stream",
     "text": [
      "+-------+------------+------------+--------+-------------+---------+-------------+---------+-------------+-------+-----+--------+------+-----------+\n",
      "|user_id|merchant_abn|dollar_value|order_id|merchant_name|prod_desc|revenue_level|take_rate|consumer_name|address|state|postcode|gender|consumer_id|\n",
      "+-------+------------+------------+--------+-------------+---------+-------------+---------+-------------+-------+-----+--------+------+-----------+\n",
      "|      0|           0|           0|       0|       149228|   149228|       149228|   149228|            0|      0|    0|       0|     0|          0|\n",
      "+-------+------------+------------+--------+-------------+---------+-------------+---------+-------------+-------+-----+--------+------+-----------+\n",
      "\n"
     ]
    }
   ],
   "source": [
    "transaction_20210228_20210827_missings_sdf.show()"
   ]
  },
  {
   "cell_type": "code",
   "execution_count": 10,
   "metadata": {},
   "outputs": [
    {
     "name": "stdout",
     "output_type": "stream",
     "text": [
      "+-------+------------+------------+--------+-------------+---------+-------------+---------+-------------+-------+-----+--------+------+-----------+\n",
      "|user_id|merchant_abn|dollar_value|order_id|merchant_name|prod_desc|revenue_level|take_rate|consumer_name|address|state|postcode|gender|consumer_id|\n",
      "+-------+------------+------------+--------+-------------+---------+-------------+---------+-------------+-------+-----+--------+------+-----------+\n",
      "|      0|           0|           0|       0|       184414|   184414|       184414|   184414|            0|      0|    0|       0|     0|          0|\n",
      "+-------+------------+------------+--------+-------------+---------+-------------+---------+-------------+-------+-----+--------+------+-----------+\n",
      "\n"
     ]
    }
   ],
   "source": [
    "transaction_20210828_20220227_missings_sdf.show()"
   ]
  },
  {
   "cell_type": "markdown",
   "metadata": {},
   "source": [
    "There are some transactions with unknown merchants, merchants only contain merchant ABN, but not merchant name, product description, and take rate."
   ]
  },
  {
   "cell_type": "code",
   "execution_count": 11,
   "metadata": {},
   "outputs": [
    {
     "name": "stdout",
     "output_type": "stream",
     "text": [
      "For the transaction data in 2021-02-28 to 2021-08-27, 378 merchants have missing details\n"
     ]
    }
   ],
   "source": [
    "known_merchant_abn = transaction_20210228_20210827_sdf.select(F.col(\"merchant_abn\")).distinct().count()\n",
    "# subtract 1 to remove null value as a count\n",
    "known_merchant_details = transaction_20210228_20210827_sdf.select(F.col(\"merchant_name\")).distinct().count() - 1\n",
    "\n",
    "print(f\"For the transaction data in 2021-02-28 to 2021-08-27, {known_merchant_abn - known_merchant_details} merchants have missing details\")"
   ]
  },
  {
   "cell_type": "code",
   "execution_count": 12,
   "metadata": {},
   "outputs": [
    {
     "name": "stdout",
     "output_type": "stream",
     "text": [
      "For the transaction data in 2021-08-28 to 2022-02-27, 381 merchants have missing details\n"
     ]
    }
   ],
   "source": [
    "known_merchant_abn = transaction_20210828_20220227_sdf.select(F.col(\"merchant_abn\")).distinct().count()\n",
    "known_merchant_details = transaction_20210828_20220227_sdf.select(F.col(\"merchant_name\")).distinct().count() - 1\n",
    "\n",
    "print(f\"For the transaction data in 2021-08-28 to 2022-02-27, {known_merchant_abn - known_merchant_details} merchants have missing details\")"
   ]
  },
  {
   "cell_type": "markdown",
   "metadata": {},
   "source": [
    "we know merchant dataset have no null values from [A_1_understand_data](./A_1_understand_data.ipynb)\n"
   ]
  },
  {
   "cell_type": "code",
   "execution_count": 13,
   "metadata": {},
   "outputs": [
    {
     "name": "stdout",
     "output_type": "stream",
     "text": [
      "In the transaction data set there are 4379 distinct merchant ABN\n",
      "There are only 4026 known merchants with details\n"
     ]
    }
   ],
   "source": [
    "print(f\"In the transaction data set there are {known_merchant_abn} distinct merchant ABN\")\n",
    "print(f\"There are only {merchant_sdf.count()} known merchants with details\")"
   ]
  },
  {
   "cell_type": "markdown",
   "metadata": {},
   "source": [
    "As we can see, there is some unknown merchants present in the transaction dataset and we need to find a way to determine information about such merchants, or discard it. (To be decided)"
   ]
  },
  {
   "cell_type": "markdown",
   "metadata": {},
   "source": [
    "## Create some plots to have a quick look on the data"
   ]
  },
  {
   "cell_type": "code",
   "execution_count": 14,
   "metadata": {},
   "outputs": [
    {
     "data": {
      "text/html": [
       "<table border='1'>\n",
       "<tr><th>user_id</th><th>merchant_abn</th><th>dollar_value</th><th>order_id</th><th>order_datetime</th><th>merchant_name</th><th>prod_desc</th><th>revenue_level</th><th>take_rate</th><th>consumer_name</th><th>address</th><th>state</th><th>postcode</th><th>gender</th><th>consumer_id</th></tr>\n",
       "<tr><td>7</td><td>71041015148</td><td>226.70111326425848</td><td>ba1c3c0b-6143-49c...</td><td>2021-11-26</td><td>Orci Ltd</td><td>digital goods: bo...</td><td>c</td><td>2.1</td><td>Andrea Jones</td><td>122 Brandon Cliff</td><td>QLD</td><td>4606</td><td>Female</td><td>511685</td></tr>\n",
       "<tr><td>7</td><td>14492521225</td><td>28.69248621050033</td><td>c82c2951-6a2c-4bf...</td><td>2021-11-26</td><td>Praesent Eu Assoc...</td><td>tent and awning s...</td><td>c</td><td>2.5</td><td>Andrea Jones</td><td>122 Brandon Cliff</td><td>QLD</td><td>4606</td><td>Female</td><td>511685</td></tr>\n",
       "<tr><td>7</td><td>68004106739</td><td>93.96901941736229</td><td>40d71489-2203-485...</td><td>2021-11-26</td><td>Nec Ante Ltd</td><td>cable, satellite,...</td><td>a</td><td>5.6</td><td>Andrea Jones</td><td>122 Brandon Cliff</td><td>QLD</td><td>4606</td><td>Female</td><td>511685</td></tr>\n",
       "<tr><td>7</td><td>34096466752</td><td>92.43454448910457</td><td>293dc228-8398-49f...</td><td>2021-11-29</td><td>Nullam Enim Ltd</td><td>computers, comput...</td><td>b</td><td>3.2</td><td>Andrea Jones</td><td>122 Brandon Cliff</td><td>QLD</td><td>4606</td><td>Female</td><td>511685</td></tr>\n",
       "<tr><td>7</td><td>62773208456</td><td>24.606053328805864</td><td>918d63ec-d125-43b...</td><td>2021-11-29</td><td>Ac Institute</td><td>watch, clock, and...</td><td>c</td><td>2.6</td><td>Andrea Jones</td><td>122 Brandon Cliff</td><td>QLD</td><td>4606</td><td>Female</td><td>511685</td></tr>\n",
       "<tr><td>7</td><td>67874735704</td><td>871.400942067755</td><td>0dc0a909-7b11-423...</td><td>2021-11-29</td><td>Ultricies Adipisc...</td><td>florists supplies...</td><td>c</td><td>2.0</td><td>Andrea Jones</td><td>122 Brandon Cliff</td><td>QLD</td><td>4606</td><td>Female</td><td>511685</td></tr>\n",
       "<tr><td>7</td><td>36125151647</td><td>22.37653874205458</td><td>ebd96051-41c5-44d...</td><td>2021-11-29</td><td>Sed Nec Corp.</td><td>hobby, toy and ga...</td><td>c</td><td>1.8</td><td>Andrea Jones</td><td>122 Brandon Cliff</td><td>QLD</td><td>4606</td><td>Female</td><td>511685</td></tr>\n",
       "<tr><td>7</td><td>86578477987</td><td>14.932370248640328</td><td>b13248d9-3c6d-4b0...</td><td>2021-11-29</td><td>Leo In Consulting</td><td>watch, clock, and...</td><td>a</td><td>6.4</td><td>Andrea Jones</td><td>122 Brandon Cliff</td><td>QLD</td><td>4606</td><td>Female</td><td>511685</td></tr>\n",
       "<tr><td>7</td><td>48534649627</td><td>16.362338872391526</td><td>96a5d5f4-2f24-4c9...</td><td>2021-11-29</td><td>Dignissim Maecena...</td><td>opticians, optica...</td><td>a</td><td>6.6</td><td>Andrea Jones</td><td>122 Brandon Cliff</td><td>QLD</td><td>4606</td><td>Female</td><td>511685</td></tr>\n",
       "<tr><td>7</td><td>76767266140</td><td>144.7959046161148</td><td>734de9e3-dcc1-4da...</td><td>2021-11-29</td><td>Phasellus At Limited</td><td>furniture, home f...</td><td>b</td><td>4.6</td><td>Andrea Jones</td><td>122 Brandon Cliff</td><td>QLD</td><td>4606</td><td>Female</td><td>511685</td></tr>\n",
       "<tr><td>7</td><td>41383736952</td><td>101.64172516104321</td><td>5f0ab0bc-bc87-43b...</td><td>2021-11-27</td><td>Lacus Vestibulum ...</td><td>cable, satellite,...</td><td>c</td><td>2.2</td><td>Andrea Jones</td><td>122 Brandon Cliff</td><td>QLD</td><td>4606</td><td>Female</td><td>511685</td></tr>\n",
       "<tr><td>7</td><td>53062283717</td><td>517.1441566601612</td><td>0f8423ad-3603-482...</td><td>2021-11-27</td><td>Mi Felis Adipisci...</td><td>shoe shops</td><td>b</td><td>3.9</td><td>Andrea Jones</td><td>122 Brandon Cliff</td><td>QLD</td><td>4606</td><td>Female</td><td>511685</td></tr>\n",
       "<tr><td>7</td><td>20562405782</td><td>259.6708286617462</td><td>658c8df3-5585-426...</td><td>2021-11-27</td><td>null</td><td>null</td><td>null</td><td>null</td><td>Andrea Jones</td><td>122 Brandon Cliff</td><td>QLD</td><td>4606</td><td>Female</td><td>511685</td></tr>\n",
       "<tr><td>7</td><td>90173050473</td><td>77.2055190980007</td><td>70a39380-1629-495...</td><td>2021-11-27</td><td>Lobortis Class In...</td><td>lawn and garden s...</td><td>c</td><td>2.4</td><td>Andrea Jones</td><td>122 Brandon Cliff</td><td>QLD</td><td>4606</td><td>Female</td><td>511685</td></tr>\n",
       "<tr><td>7</td><td>55955609006</td><td>282.9963674808017</td><td>b0bbf79a-b061-4cc...</td><td>2021-11-28</td><td>Nec Enim Nunc LLP</td><td>cable, satellite,...</td><td>b</td><td>3.5</td><td>Andrea Jones</td><td>122 Brandon Cliff</td><td>QLD</td><td>4606</td><td>Female</td><td>511685</td></tr>\n",
       "<tr><td>7</td><td>76224940587</td><td>33.76890828698926</td><td>2b71f04f-f06f-474...</td><td>2021-12-26</td><td>null</td><td>null</td><td>null</td><td>null</td><td>Andrea Jones</td><td>122 Brandon Cliff</td><td>QLD</td><td>4606</td><td>Female</td><td>511685</td></tr>\n",
       "<tr><td>7</td><td>94455880010</td><td>42.796486321940655</td><td>794c942e-b2af-401...</td><td>2021-12-26</td><td>Nunc Sit LLC</td><td>computer programm...</td><td>a</td><td>6.3</td><td>Andrea Jones</td><td>122 Brandon Cliff</td><td>QLD</td><td>4606</td><td>Female</td><td>511685</td></tr>\n",
       "<tr><td>7</td><td>94690988633</td><td>524.973634094268</td><td>1730386c-3ed4-41e...</td><td>2021-12-26</td><td>Eu Placerat LLC</td><td>computers, comput...</td><td>a</td><td>6.1</td><td>Andrea Jones</td><td>122 Brandon Cliff</td><td>QLD</td><td>4606</td><td>Female</td><td>511685</td></tr>\n",
       "<tr><td>7</td><td>31736633670</td><td>164.5183024205047</td><td>3810de38-d78e-48f...</td><td>2021-12-26</td><td>Vel Pede Blandit ...</td><td>digital goods: bo...</td><td>a</td><td>6.3</td><td>Andrea Jones</td><td>122 Brandon Cliff</td><td>QLD</td><td>4606</td><td>Female</td><td>511685</td></tr>\n",
       "<tr><td>7</td><td>68216911708</td><td>38.27652819575883</td><td>86eb71c9-5397-4b3...</td><td>2021-11-30</td><td>Placerat Eget Ven...</td><td>computers, comput...</td><td>c</td><td>3.0</td><td>Andrea Jones</td><td>122 Brandon Cliff</td><td>QLD</td><td>4606</td><td>Female</td><td>511685</td></tr>\n",
       "</table>\n",
       "only showing top 20 rows\n"
      ],
      "text/plain": [
       "+-------+------------+------------------+--------------------+--------------+--------------------+--------------------+-------------+---------+-------------+-----------------+-----+--------+------+-----------+\n",
       "|user_id|merchant_abn|      dollar_value|            order_id|order_datetime|       merchant_name|           prod_desc|revenue_level|take_rate|consumer_name|          address|state|postcode|gender|consumer_id|\n",
       "+-------+------------+------------------+--------------------+--------------+--------------------+--------------------+-------------+---------+-------------+-----------------+-----+--------+------+-----------+\n",
       "|      7| 71041015148|226.70111326425848|ba1c3c0b-6143-49c...|    2021-11-26|            Orci Ltd|digital goods: bo...|            c|      2.1| Andrea Jones|122 Brandon Cliff|  QLD|    4606|Female|     511685|\n",
       "|      7| 14492521225| 28.69248621050033|c82c2951-6a2c-4bf...|    2021-11-26|Praesent Eu Assoc...|tent and awning s...|            c|      2.5| Andrea Jones|122 Brandon Cliff|  QLD|    4606|Female|     511685|\n",
       "|      7| 68004106739| 93.96901941736229|40d71489-2203-485...|    2021-11-26|        Nec Ante Ltd|cable, satellite,...|            a|      5.6| Andrea Jones|122 Brandon Cliff|  QLD|    4606|Female|     511685|\n",
       "|      7| 34096466752| 92.43454448910457|293dc228-8398-49f...|    2021-11-29|     Nullam Enim Ltd|computers, comput...|            b|      3.2| Andrea Jones|122 Brandon Cliff|  QLD|    4606|Female|     511685|\n",
       "|      7| 62773208456|24.606053328805864|918d63ec-d125-43b...|    2021-11-29|        Ac Institute|watch, clock, and...|            c|      2.6| Andrea Jones|122 Brandon Cliff|  QLD|    4606|Female|     511685|\n",
       "|      7| 67874735704|  871.400942067755|0dc0a909-7b11-423...|    2021-11-29|Ultricies Adipisc...|florists supplies...|            c|      2.0| Andrea Jones|122 Brandon Cliff|  QLD|    4606|Female|     511685|\n",
       "|      7| 36125151647| 22.37653874205458|ebd96051-41c5-44d...|    2021-11-29|       Sed Nec Corp.|hobby, toy and ga...|            c|      1.8| Andrea Jones|122 Brandon Cliff|  QLD|    4606|Female|     511685|\n",
       "|      7| 86578477987|14.932370248640328|b13248d9-3c6d-4b0...|    2021-11-29|   Leo In Consulting|watch, clock, and...|            a|      6.4| Andrea Jones|122 Brandon Cliff|  QLD|    4606|Female|     511685|\n",
       "|      7| 48534649627|16.362338872391526|96a5d5f4-2f24-4c9...|    2021-11-29|Dignissim Maecena...|opticians, optica...|            a|      6.6| Andrea Jones|122 Brandon Cliff|  QLD|    4606|Female|     511685|\n",
       "|      7| 76767266140| 144.7959046161148|734de9e3-dcc1-4da...|    2021-11-29|Phasellus At Limited|furniture, home f...|            b|      4.6| Andrea Jones|122 Brandon Cliff|  QLD|    4606|Female|     511685|\n",
       "|      7| 41383736952|101.64172516104321|5f0ab0bc-bc87-43b...|    2021-11-27|Lacus Vestibulum ...|cable, satellite,...|            c|      2.2| Andrea Jones|122 Brandon Cliff|  QLD|    4606|Female|     511685|\n",
       "|      7| 53062283717| 517.1441566601612|0f8423ad-3603-482...|    2021-11-27|Mi Felis Adipisci...|          shoe shops|            b|      3.9| Andrea Jones|122 Brandon Cliff|  QLD|    4606|Female|     511685|\n",
       "|      7| 20562405782| 259.6708286617462|658c8df3-5585-426...|    2021-11-27|                null|                null|         null|     null| Andrea Jones|122 Brandon Cliff|  QLD|    4606|Female|     511685|\n",
       "|      7| 90173050473|  77.2055190980007|70a39380-1629-495...|    2021-11-27|Lobortis Class In...|lawn and garden s...|            c|      2.4| Andrea Jones|122 Brandon Cliff|  QLD|    4606|Female|     511685|\n",
       "|      7| 55955609006| 282.9963674808017|b0bbf79a-b061-4cc...|    2021-11-28|   Nec Enim Nunc LLP|cable, satellite,...|            b|      3.5| Andrea Jones|122 Brandon Cliff|  QLD|    4606|Female|     511685|\n",
       "|      7| 76224940587| 33.76890828698926|2b71f04f-f06f-474...|    2021-12-26|                null|                null|         null|     null| Andrea Jones|122 Brandon Cliff|  QLD|    4606|Female|     511685|\n",
       "|      7| 94455880010|42.796486321940655|794c942e-b2af-401...|    2021-12-26|        Nunc Sit LLC|computer programm...|            a|      6.3| Andrea Jones|122 Brandon Cliff|  QLD|    4606|Female|     511685|\n",
       "|      7| 94690988633|  524.973634094268|1730386c-3ed4-41e...|    2021-12-26|     Eu Placerat LLC|computers, comput...|            a|      6.1| Andrea Jones|122 Brandon Cliff|  QLD|    4606|Female|     511685|\n",
       "|      7| 31736633670| 164.5183024205047|3810de38-d78e-48f...|    2021-12-26|Vel Pede Blandit ...|digital goods: bo...|            a|      6.3| Andrea Jones|122 Brandon Cliff|  QLD|    4606|Female|     511685|\n",
       "|      7| 68216911708| 38.27652819575883|86eb71c9-5397-4b3...|    2021-11-30|Placerat Eget Ven...|computers, comput...|            c|      3.0| Andrea Jones|122 Brandon Cliff|  QLD|    4606|Female|     511685|\n",
       "+-------+------------+------------------+--------------------+--------------+--------------------+--------------------+-------------+---------+-------------+-----------------+-----+--------+------+-----------+\n",
       "only showing top 20 rows"
      ]
     },
     "execution_count": 14,
     "metadata": {},
     "output_type": "execute_result"
    }
   ],
   "source": [
    "transaction_20210828_20220227_sdf"
   ]
  },
  {
   "cell_type": "markdown",
   "metadata": {},
   "source": [
    "Boxplot on dollar value, to quickly see the distribution of transaction value"
   ]
  },
  {
   "cell_type": "code",
   "execution_count": 15,
   "metadata": {},
   "outputs": [
    {
     "name": "stderr",
     "output_type": "stream",
     "text": [
      "                                                                                \r"
     ]
    },
    {
     "data": {
      "text/plain": [
       "<AxesSubplot:>"
      ]
     },
     "execution_count": 15,
     "metadata": {},
     "output_type": "execute_result"
    },
    {
     "data": {
      "image/png": "[encoded data removed]",
      "text/plain": [
       "<Figure size 432x288 with 1 Axes>"
      ]
     },
     "metadata": {
      "needs_background": "light"
     },
     "output_type": "display_data"
    }
   ],
   "source": [
    "transaction_20210228_20210827_df = transaction_20210228_20210827_sdf.toPandas()\n",
    "transaction_20210228_20210827_df.boxplot(column=['dollar_value'])"
   ]
  },
  {
   "cell_type": "code",
   "execution_count": 16,
   "metadata": {},
   "outputs": [
    {
     "name": "stderr",
     "output_type": "stream",
     "text": [
      "                                                                                \r"
     ]
    },
    {
     "data": {
      "text/plain": [
       "<AxesSubplot:>"
      ]
     },
     "execution_count": 16,
     "metadata": {},
     "output_type": "execute_result"
    },
    {
     "data": {
      "image/png": "[encoded data removed]",
      "text/plain": [
       "<Figure size 432x288 with 1 Axes>"
      ]
     },
     "metadata": {
      "needs_background": "light"
     },
     "output_type": "display_data"
    }
   ],
   "source": [
    "transaction_20210828_20220227_df = transaction_20210828_20220227_sdf.toPandas()\n",
    "transaction_20210828_20220227_df.boxplot(column=['dollar_value'])"
   ]
  },
  {
   "cell_type": "markdown",
   "metadata": {},
   "source": [
    "Not quite useful, try to aggregate by merchants. but there are missing merchants so just remove them and see first"
   ]
  },
  {
   "cell_type": "code",
   "execution_count": 17,
   "metadata": {},
   "outputs": [],
   "source": [
    "aggregate_merchant_20210228_20210827_sdf = transaction_20210228_20210827_sdf.na.drop()\n",
    "aggregate_merchant_20210228_20210827_sdf = aggregate_merchant_20210228_20210827_sdf.groupBy(\"merchant_abn\") \\\n",
    "                                                                                   .agg(F.sum(\"dollar_value\"))"
   ]
  },
  {
   "cell_type": "code",
   "execution_count": 18,
   "metadata": {},
   "outputs": [],
   "source": [
    "aggregate_merchant_20210828_20220227_sdf = transaction_20210828_20220227_sdf.na.drop()\n",
    "aggregate_merchant_20210828_20220227_sdf = aggregate_merchant_20210828_20220227_sdf.groupBy(\"merchant_abn\") \\\n",
    "                                                                                   .agg(F.sum(\"dollar_value\"))"
   ]
  },
  {
   "cell_type": "markdown",
   "metadata": {},
   "source": [
    "Here we continue to look at the distribution of dollar value for each respective merchant"
   ]
  },
  {
   "cell_type": "code",
   "execution_count": 19,
   "metadata": {},
   "outputs": [
    {
     "name": "stderr",
     "output_type": "stream",
     "text": [
      "                                                                                \r"
     ]
    },
    {
     "data": {
      "text/plain": [
       "<AxesSubplot:>"
      ]
     },
     "execution_count": 19,
     "metadata": {},
     "output_type": "execute_result"
    },
    {
     "data": {
      "image/png": "[encoded data removed]",
      "text/plain": [
       "<Figure size 432x288 with 1 Axes>"
      ]
     },
     "metadata": {
      "needs_background": "light"
     },
     "output_type": "display_data"
    }
   ],
   "source": [
    "aggregate_merchant_20210228_20210827_df = aggregate_merchant_20210228_20210827_sdf.toPandas()\n",
    "aggregate_merchant_20210228_20210827_df.boxplot(column=['sum(dollar_value)'])"
   ]
  },
  {
   "cell_type": "code",
   "execution_count": 20,
   "metadata": {},
   "outputs": [
    {
     "data": {
      "text/plain": [
       "<AxesSubplot:>"
      ]
     },
     "execution_count": 20,
     "metadata": {},
     "output_type": "execute_result"
    },
    {
     "data": {
      "image/png": "[encoded data removed]",
      "text/plain": [
       "<Figure size 432x288 with 1 Axes>"
      ]
     },
     "metadata": {
      "needs_background": "light"
     },
     "output_type": "display_data"
    }
   ],
   "source": [
    "aggregate_merchant_20210828_20220227_df = aggregate_merchant_20210828_20220227_sdf.toPandas()\n",
    "aggregate_merchant_20210828_20220227_df.boxplot(column=['sum(dollar_value)'])"
   ]
  },
  {
   "cell_type": "markdown",
   "metadata": {},
   "source": [
    "Still not useful, we could see most of the data is out of the Q3 bound. Lets conduct a simple IQR analysis to see how the dollar values are distributed in the merchants"
   ]
  },
  {
   "cell_type": "code",
   "execution_count": 21,
   "metadata": {},
   "outputs": [
    {
     "data": {
      "text/plain": [
       "<AxesSubplot:>"
      ]
     },
     "execution_count": 21,
     "metadata": {},
     "output_type": "execute_result"
    },
    {
     "data": {
      "image/png": "[encoded data removed]",
      "text/plain": [
       "<Figure size 432x288 with 1 Axes>"
      ]
     },
     "metadata": {
      "needs_background": "light"
     },
     "output_type": "display_data"
    }
   ],
   "source": [
    "col = ['sum(dollar_value)']\n",
    "\n",
    "# Calculate quantiles and IQR\n",
    "Q1 = aggregate_merchant_20210228_20210827_df[col].quantile(0.25) # Same as np.percentile but maps (0,1) and not (0,100)\n",
    "Q3 = aggregate_merchant_20210228_20210827_df[col].quantile(0.75)\n",
    "IQR = Q3 - Q1\n",
    "\n",
    "# Return a boolean array of the rows with (any) non-outlier column values\n",
    "condition = ~((aggregate_merchant_20210228_20210827_df[col] < (Q1 - 1.5 * IQR)) | (aggregate_merchant_20210228_20210827_df[col] > (Q3 + 1.5 * IQR))).any(axis=1)\n",
    "\n",
    "# Filter our dataframe based on condition\n",
    "filtered_20210228_20210827_df = aggregate_merchant_20210228_20210827_df[condition]\n",
    "filtered_20210228_20210827_df.boxplot(column=col)"
   ]
  },
  {
   "cell_type": "code",
   "execution_count": 22,
   "metadata": {},
   "outputs": [
    {
     "data": {
      "text/plain": [
       "<AxesSubplot:>"
      ]
     },
     "execution_count": 22,
     "metadata": {},
     "output_type": "execute_result"
    },
    {
     "data": {
      "image/png": "[encoded data removed]",
      "text/plain": [
       "<Figure size 432x288 with 1 Axes>"
      ]
     },
     "metadata": {
      "needs_background": "light"
     },
     "output_type": "display_data"
    }
   ],
   "source": [
    "col = ['sum(dollar_value)']\n",
    "\n",
    "# Calculate quantiles and IQR\n",
    "Q1 = aggregate_merchant_20210828_20220227_df[col].quantile(0.25) # Same as np.percentile but maps (0,1) and not (0,100)\n",
    "Q3 = aggregate_merchant_20210828_20220227_df[col].quantile(0.75)\n",
    "IQR = Q3 - Q1\n",
    "\n",
    "# Return a boolean array of the rows with (any) non-outlier column values\n",
    "condition = ~((aggregate_merchant_20210828_20220227_df[col] < (Q1 - 1.5 * IQR)) | (aggregate_merchant_20210828_20220227_df[col] > (Q3 + 1.5 * IQR))).any(axis=1)\n",
    "\n",
    "# Filter our dataframe based on condition\n",
    "filtered_20210828_20220227_df = aggregate_merchant_20210828_20220227_df[condition]\n",
    "filtered_20210828_20220227_df.boxplot(column=col)"
   ]
  },
  {
   "cell_type": "markdown",
   "metadata": {},
   "source": [
    "It seems that merchants revenue is around 50000 to 200000"
   ]
  },
  {
   "cell_type": "markdown",
   "metadata": {},
   "source": []
  }
 ],
 "metadata": {
  "kernelspec": {
   "display_name": "Python 3.9.7 ('base')",
   "language": "python",
   "name": "python3"
  },
  "language_info": {
   "codemirror_mode": {
    "name": "ipython",
    "version": 3
   },
   "file_extension": ".py",
   "mimetype": "text/x-python",
   "name": "python",
   "nbconvert_exporter": "python",
   "pygments_lexer": "ipython3",
   "version": "3.9.7"
  },
  "orig_nbformat": 4,
  "vscode": {
   "interpreter": {
    "hash": "40d3a090f54c6569ab1632332b64b2c03c39dcf918b08424e98f38b5ae0af88f"
   }
  }
 },
 "nbformat": 4,
 "nbformat_minor": 2
}
