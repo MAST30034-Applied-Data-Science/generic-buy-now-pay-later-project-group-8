{
 "cells": [
  {
   "cell_type": "code",
   "execution_count": 1,
   "metadata": {},
   "outputs": [],
   "source": [
    "import pandas as pd\n",
    "import os\n",
    "import numpy as np"
   ]
  },
  {
   "cell_type": "code",
   "execution_count": 2,
   "metadata": {},
   "outputs": [],
   "source": [
    "from sklearn.ensemble import RandomForestRegressor\n",
    "from sklearn.model_selection import GridSearchCV\n",
    "from sklearn.metrics import r2_score"
   ]
  },
  {
   "cell_type": "code",
   "execution_count": 3,
   "metadata": {},
   "outputs": [],
   "source": [
    "train = pd.read_csv(\"../data/tables/agg_transaction_train_sdf.csv\")\n",
    "test = pd.read_csv(\"../data/tables/agg_transaction_pred_sdf.csv\")"
   ]
  },
  {
   "cell_type": "code",
   "execution_count": 5,
   "metadata": {},
   "outputs": [],
   "source": [
    "X_train = train.iloc[:,2:-1].astype(float)\n",
    "y_train = train.iloc[:,-1].astype(float)\n",
    "X_test = test.iloc[:,2:].astype(float)"
   ]
  },
  {
   "cell_type": "code",
   "execution_count": 8,
   "metadata": {},
   "outputs": [],
   "source": [
    "X_train = X_train.fillna(0)\n",
    "y_train = y_train.fillna(0)\n",
    "X_test = X_test.fillna(0)"
   ]
  },
  {
   "cell_type": "code",
   "execution_count": 9,
   "metadata": {},
   "outputs": [
    {
     "data": {
      "text/html": [
       "<div>\n",
       "<style scoped>\n",
       "    .dataframe tbody tr th:only-of-type {\n",
       "        vertical-align: middle;\n",
       "    }\n",
       "\n",
       "    .dataframe tbody tr th {\n",
       "        vertical-align: top;\n",
       "    }\n",
       "\n",
       "    .dataframe thead th {\n",
       "        text-align: right;\n",
       "    }\n",
       "</style>\n",
       "<table border=\"1\" class=\"dataframe\">\n",
       "  <thead>\n",
       "    <tr style=\"text-align: right;\">\n",
       "      <th></th>\n",
       "      <th>distinct_monthly_consumer_count</th>\n",
       "      <th>monthly_order_count</th>\n",
       "      <th>monthly_revenue</th>\n",
       "      <th>dollar_value_standard_dev</th>\n",
       "      <th>dollar_per_order</th>\n",
       "      <th>median_dollar_value</th>\n",
       "    </tr>\n",
       "  </thead>\n",
       "  <tbody>\n",
       "    <tr>\n",
       "      <th>0</th>\n",
       "      <td>2943.0</td>\n",
       "      <td>4968.0</td>\n",
       "      <td>327429.385720</td>\n",
       "      <td>65.839486</td>\n",
       "      <td>65.907686</td>\n",
       "      <td>45.969011</td>\n",
       "    </tr>\n",
       "    <tr>\n",
       "      <th>1</th>\n",
       "      <td>3.0</td>\n",
       "      <td>4.0</td>\n",
       "      <td>16538.731756</td>\n",
       "      <td>2543.507988</td>\n",
       "      <td>4134.682939</td>\n",
       "      <td>2883.341620</td>\n",
       "    </tr>\n",
       "    <tr>\n",
       "      <th>2</th>\n",
       "      <td>38.0</td>\n",
       "      <td>58.0</td>\n",
       "      <td>55589.869552</td>\n",
       "      <td>637.118388</td>\n",
       "      <td>958.446027</td>\n",
       "      <td>861.687281</td>\n",
       "    </tr>\n",
       "    <tr>\n",
       "      <th>3</th>\n",
       "      <td>8.0</td>\n",
       "      <td>12.0</td>\n",
       "      <td>105269.442537</td>\n",
       "      <td>7913.006782</td>\n",
       "      <td>8772.453545</td>\n",
       "      <td>3896.208341</td>\n",
       "    </tr>\n",
       "    <tr>\n",
       "      <th>4</th>\n",
       "      <td>67.0</td>\n",
       "      <td>99.0</td>\n",
       "      <td>771700.751401</td>\n",
       "      <td>5544.280890</td>\n",
       "      <td>7794.957085</td>\n",
       "      <td>5929.815410</td>\n",
       "    </tr>\n",
       "    <tr>\n",
       "      <th>...</th>\n",
       "      <td>...</td>\n",
       "      <td>...</td>\n",
       "      <td>...</td>\n",
       "      <td>...</td>\n",
       "      <td>...</td>\n",
       "      <td>...</td>\n",
       "    </tr>\n",
       "    <tr>\n",
       "      <th>388</th>\n",
       "      <td>15.0</td>\n",
       "      <td>24.0</td>\n",
       "      <td>65846.563525</td>\n",
       "      <td>2030.061109</td>\n",
       "      <td>2743.606814</td>\n",
       "      <td>1759.919108</td>\n",
       "    </tr>\n",
       "    <tr>\n",
       "      <th>389</th>\n",
       "      <td>390.0</td>\n",
       "      <td>620.0</td>\n",
       "      <td>889802.323859</td>\n",
       "      <td>748.648506</td>\n",
       "      <td>1435.165038</td>\n",
       "      <td>1437.415746</td>\n",
       "    </tr>\n",
       "    <tr>\n",
       "      <th>390</th>\n",
       "      <td>3.0</td>\n",
       "      <td>6.0</td>\n",
       "      <td>83590.948032</td>\n",
       "      <td>5618.316112</td>\n",
       "      <td>13931.824672</td>\n",
       "      <td>16752.205962</td>\n",
       "    </tr>\n",
       "    <tr>\n",
       "      <th>391</th>\n",
       "      <td>62.0</td>\n",
       "      <td>102.0</td>\n",
       "      <td>898497.851369</td>\n",
       "      <td>6310.198484</td>\n",
       "      <td>8808.802464</td>\n",
       "      <td>6671.890638</td>\n",
       "    </tr>\n",
       "    <tr>\n",
       "      <th>392</th>\n",
       "      <td>284.0</td>\n",
       "      <td>457.0</td>\n",
       "      <td>922256.062754</td>\n",
       "      <td>1203.162856</td>\n",
       "      <td>2018.065783</td>\n",
       "      <td>1755.761543</td>\n",
       "    </tr>\n",
       "  </tbody>\n",
       "</table>\n",
       "<p>393 rows × 6 columns</p>\n",
       "</div>"
      ],
      "text/plain": [
       "     distinct_monthly_consumer_count  monthly_order_count  monthly_revenue  \\\n",
       "0                             2943.0               4968.0    327429.385720   \n",
       "1                                3.0                  4.0     16538.731756   \n",
       "2                               38.0                 58.0     55589.869552   \n",
       "3                                8.0                 12.0    105269.442537   \n",
       "4                               67.0                 99.0    771700.751401   \n",
       "..                               ...                  ...              ...   \n",
       "388                             15.0                 24.0     65846.563525   \n",
       "389                            390.0                620.0    889802.323859   \n",
       "390                              3.0                  6.0     83590.948032   \n",
       "391                             62.0                102.0    898497.851369   \n",
       "392                            284.0                457.0    922256.062754   \n",
       "\n",
       "     dollar_value_standard_dev  dollar_per_order  median_dollar_value  \n",
       "0                    65.839486         65.907686            45.969011  \n",
       "1                  2543.507988       4134.682939          2883.341620  \n",
       "2                   637.118388        958.446027           861.687281  \n",
       "3                  7913.006782       8772.453545          3896.208341  \n",
       "4                  5544.280890       7794.957085          5929.815410  \n",
       "..                         ...               ...                  ...  \n",
       "388                2030.061109       2743.606814          1759.919108  \n",
       "389                 748.648506       1435.165038          1437.415746  \n",
       "390                5618.316112      13931.824672         16752.205962  \n",
       "391                6310.198484       8808.802464          6671.890638  \n",
       "392                1203.162856       2018.065783          1755.761543  \n",
       "\n",
       "[393 rows x 6 columns]"
      ]
     },
     "execution_count": 9,
     "metadata": {},
     "output_type": "execute_result"
    }
   ],
   "source": [
    "X_test"
   ]
  },
  {
   "cell_type": "code",
   "execution_count": 31,
   "metadata": {},
   "outputs": [
    {
     "data": {
      "text/html": [
       "<div>\n",
       "<style scoped>\n",
       "    .dataframe tbody tr th:only-of-type {\n",
       "        vertical-align: middle;\n",
       "    }\n",
       "\n",
       "    .dataframe tbody tr th {\n",
       "        vertical-align: top;\n",
       "    }\n",
       "\n",
       "    .dataframe thead th {\n",
       "        text-align: right;\n",
       "    }\n",
       "</style>\n",
       "<table border=\"1\" class=\"dataframe\">\n",
       "  <thead>\n",
       "    <tr style=\"text-align: right;\">\n",
       "      <th></th>\n",
       "      <th>distinct_monthly_consumer_count</th>\n",
       "      <th>monthly_order_count</th>\n",
       "      <th>monthly_revenue</th>\n",
       "      <th>dollar_value_standard_dev</th>\n",
       "      <th>dollar_per_order</th>\n",
       "    </tr>\n",
       "  </thead>\n",
       "  <tbody>\n",
       "    <tr>\n",
       "      <th>count</th>\n",
       "      <td>393.000000</td>\n",
       "      <td>393.000000</td>\n",
       "      <td>3.930000e+02</td>\n",
       "      <td>393.000000</td>\n",
       "      <td>393.000000</td>\n",
       "    </tr>\n",
       "    <tr>\n",
       "      <th>mean</th>\n",
       "      <td>743.643766</td>\n",
       "      <td>1727.201018</td>\n",
       "      <td>6.041003e+05</td>\n",
       "      <td>2319.011587</td>\n",
       "      <td>4018.232898</td>\n",
       "    </tr>\n",
       "    <tr>\n",
       "      <th>std</th>\n",
       "      <td>2466.772975</td>\n",
       "      <td>8731.182781</td>\n",
       "      <td>1.247298e+06</td>\n",
       "      <td>2995.827738</td>\n",
       "      <td>5848.576287</td>\n",
       "    </tr>\n",
       "    <tr>\n",
       "      <th>min</th>\n",
       "      <td>1.000000</td>\n",
       "      <td>1.000000</td>\n",
       "      <td>9.288467e+03</td>\n",
       "      <td>0.000000</td>\n",
       "      <td>20.361114</td>\n",
       "    </tr>\n",
       "    <tr>\n",
       "      <th>25%</th>\n",
       "      <td>14.000000</td>\n",
       "      <td>22.000000</td>\n",
       "      <td>4.866503e+04</td>\n",
       "      <td>321.028255</td>\n",
       "      <td>633.389481</td>\n",
       "    </tr>\n",
       "    <tr>\n",
       "      <th>50%</th>\n",
       "      <td>60.000000</td>\n",
       "      <td>98.000000</td>\n",
       "      <td>1.780541e+05</td>\n",
       "      <td>1246.689338</td>\n",
       "      <td>1918.933990</td>\n",
       "    </tr>\n",
       "    <tr>\n",
       "      <th>75%</th>\n",
       "      <td>342.000000</td>\n",
       "      <td>525.000000</td>\n",
       "      <td>8.199063e+05</td>\n",
       "      <td>2292.172393</td>\n",
       "      <td>4187.301283</td>\n",
       "    </tr>\n",
       "    <tr>\n",
       "      <th>max</th>\n",
       "      <td>23473.000000</td>\n",
       "      <td>136179.000000</td>\n",
       "      <td>1.019209e+07</td>\n",
       "      <td>15942.146001</td>\n",
       "      <td>56552.394443</td>\n",
       "    </tr>\n",
       "  </tbody>\n",
       "</table>\n",
       "</div>"
      ],
      "text/plain": [
       "       distinct_monthly_consumer_count  monthly_order_count  monthly_revenue  \\\n",
       "count                       393.000000           393.000000     3.930000e+02   \n",
       "mean                        743.643766          1727.201018     6.041003e+05   \n",
       "std                        2466.772975          8731.182781     1.247298e+06   \n",
       "min                           1.000000             1.000000     9.288467e+03   \n",
       "25%                          14.000000            22.000000     4.866503e+04   \n",
       "50%                          60.000000            98.000000     1.780541e+05   \n",
       "75%                         342.000000           525.000000     8.199063e+05   \n",
       "max                       23473.000000        136179.000000     1.019209e+07   \n",
       "\n",
       "       dollar_value_standard_dev  dollar_per_order  \n",
       "count                 393.000000        393.000000  \n",
       "mean                 2319.011587       4018.232898  \n",
       "std                  2995.827738       5848.576287  \n",
       "min                     0.000000         20.361114  \n",
       "25%                   321.028255        633.389481  \n",
       "50%                  1246.689338       1918.933990  \n",
       "75%                  2292.172393       4187.301283  \n",
       "max                 15942.146001      56552.394443  "
      ]
     },
     "execution_count": 31,
     "metadata": {},
     "output_type": "execute_result"
    }
   ],
   "source": [
    "X_test.describe()"
   ]
  },
  {
   "cell_type": "code",
   "execution_count": 10,
   "metadata": {},
   "outputs": [
    {
     "data": {
      "text/plain": [
       "distinct_monthly_consumer_count    393\n",
       "monthly_order_count                393\n",
       "monthly_revenue                    393\n",
       "dollar_value_standard_dev          393\n",
       "dollar_per_order                   393\n",
       "median_dollar_value                393\n",
       "dtype: int64"
      ]
     },
     "execution_count": 10,
     "metadata": {},
     "output_type": "execute_result"
    }
   ],
   "source": [
    "X_test.isnull().count()"
   ]
  },
  {
   "cell_type": "code",
   "execution_count": 11,
   "metadata": {},
   "outputs": [],
   "source": [
    "rf_param_group = {\n",
    "    \"n_estimators\": (50,60),\n",
    "    \"max_depth\": range(10, 80, 10),\n",
    "#    \"min_samples_leaf\": range(1, 10, 1),\n",
    "#    \"min_samples_split\": range(2, 10, 1),\n",
    "    \"max_features\": (0.5,0.75),\n",
    "    \"max_samples\" :(0.5,0.75),\n",
    "    \"ccp_alpha\" :(0,0.01,0.001,1,10)\n",
    "}\n",
    "\n",
    "rf_estimator = RandomForestRegressor()\n",
    "grid_search = GridSearchCV(estimator=rf_estimator, param_grid=rf_param_group, cv=5, n_jobs=-1)"
   ]
  },
  {
   "cell_type": "code",
   "execution_count": 12,
   "metadata": {},
   "outputs": [
    {
     "name": "stdout",
     "output_type": "stream",
     "text": [
      "Best params:  {'ccp_alpha': 10, 'max_depth': 70, 'max_features': 0.5, 'max_samples': 0.5, 'n_estimators': 50}\n"
     ]
    }
   ],
   "source": [
    "grid_search.fit(X_train, y_train)\n",
    "print(\"Best params: \", grid_search.best_params_)"
   ]
  },
  {
   "cell_type": "code",
   "execution_count": 13,
   "metadata": {},
   "outputs": [],
   "source": [
    "clf_rf = RandomForestRegressor(n_estimators=50, \n",
    "                                max_depth=70, max_features=0.5,\n",
    "                                ccp_alpha = 10, max_samples = 0.5).fit(X_train, y_train)"
   ]
  },
  {
   "cell_type": "code",
   "execution_count": 14,
   "metadata": {},
   "outputs": [
    {
     "name": "stdout",
     "output_type": "stream",
     "text": [
      "Mean Absolute Error For Training Set:1.545\n",
      "Mean Squared Error For Training Set:3.177\n",
      "Root Mean Squared Error For Training Set:1.782\n"
     ]
    }
   ],
   "source": [
    "from sklearn import metrics\n",
    "\n",
    "rf_train_predict = clf_rf.predict(X_train)\n",
    "print('Mean Absolute Error For Training Set:{:.3f}'.format(metrics.mean_absolute_error(y_train, rf_train_predict)))\n",
    "print('Mean Squared Error For Training Set:{:.3f}'.format(metrics.mean_squared_error(y_train, rf_train_predict)))\n",
    "print('Root Mean Squared Error For Training Set:{:.3f}'.format(np.sqrt(metrics.mean_squared_error(y_train, rf_train_predict))))"
   ]
  },
  {
   "cell_type": "code",
   "execution_count": null,
   "metadata": {},
   "outputs": [],
   "source": []
  }
 ],
 "metadata": {
  "kernelspec": {
   "display_name": "Python 3.8.9 64-bit",
   "language": "python",
   "name": "python3"
  },
  "language_info": {
   "codemirror_mode": {
    "name": "ipython",
    "version": 3
   },
   "file_extension": ".py",
   "mimetype": "text/x-python",
   "name": "python",
   "nbconvert_exporter": "python",
   "pygments_lexer": "ipython3",
   "version": "3.8.9"
  },
  "orig_nbformat": 4,
  "vscode": {
   "interpreter": {
    "hash": "31f2aee4e71d21fbe5cf8b01ff0e069b9275f58929596ceb00d14d90e3e16cd6"
   }
  }
 },
 "nbformat": 4,
 "nbformat_minor": 2
}
