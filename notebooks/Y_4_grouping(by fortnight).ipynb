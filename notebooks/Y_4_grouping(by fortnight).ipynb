{
 "cells": [
  {
   "cell_type": "markdown",
   "metadata": {},
   "source": [
    "# Grouping transactions by postcodes for each merchant (persona) BY FORTNIGHTLY\n",
    "## Pyspark set up"
   ]
  },
  {
   "cell_type": "code",
   "execution_count": 1,
   "metadata": {},
   "outputs": [],
   "source": [
    "# import libraries\n",
    "from gettext import npgettext\n",
    "import pandas as pd\n",
    "from pyspark.sql import SparkSession\n",
    "from pyspark.sql import functions as F\n",
    "import numpy as np\n",
    "from statistics import mean, stdev\n",
    "from pyspark.sql.functions import when\n",
    "from pyspark.sql.functions import col\n",
    "import json"
   ]
  },
  {
   "cell_type": "code",
   "execution_count": 2,
   "metadata": {},
   "outputs": [
    {
     "name": "stdout",
     "output_type": "stream",
     "text": [
      "22/10/06 11:40:31 WARN Utils: Your hostname, Lis-MacBook-Pro.local resolves to a loopback address: 127.0.0.1; using 10.13.47.249 instead (on interface en0)\n",
      "22/10/06 11:40:31 WARN Utils: Set SPARK_LOCAL_IP if you need to bind to another address\n"
     ]
    },
    {
     "name": "stderr",
     "output_type": "stream",
     "text": [
      "Setting default log level to \"WARN\".\n",
      "To adjust logging level use sc.setLogLevel(newLevel). For SparkR, use setLogLevel(newLevel).\n"
     ]
    },
    {
     "name": "stdout",
     "output_type": "stream",
     "text": [
      "22/10/06 11:40:32 WARN NativeCodeLoader: Unable to load native-hadoop library for your platform... using builtin-java classes where applicable\n",
      "22/10/06 11:40:33 WARN Utils: Service 'SparkUI' could not bind on port 4040. Attempting port 4041.\n",
      "22/10/06 11:40:33 WARN Utils: Service 'SparkUI' could not bind on port 4041. Attempting port 4042.\n",
      "22/10/06 11:40:33 WARN Utils: Service 'SparkUI' could not bind on port 4042. Attempting port 4043.\n"
     ]
    }
   ],
   "source": [
    "# setup spark\n",
    "spark = (\n",
    "    SparkSession.builder.appName(\"aggregate data for first 3 final model variables\")\n",
    "    .config(\"spark.sql.repl.eagerEval.enabled\", True) \n",
    "    .config(\"spark.sql.parquet.cacheMetadata\", \"true\")\n",
    "    .config(\"spark.sql.session.timeZone\", \"Etc/UTC\")\n",
    "    .config(\"spark.driver.memory\", \"15g\")\n",
    "    .getOrCreate()\n",
    ")"
   ]
  },
  {
   "cell_type": "markdown",
   "metadata": {},
   "source": [
    "## Read in data"
   ]
  },
  {
   "cell_type": "code",
   "execution_count": 3,
   "metadata": {},
   "outputs": [
    {
     "name": "stderr",
     "output_type": "stream",
     "text": [
      "                                                                                \r"
     ]
    }
   ],
   "source": [
    "# import data\n",
    "data1 = spark.read.parquet(\"../data/tables/transactions_20210228_20210827_snapshot/\")\n",
    "data2 = spark.read.parquet(\"../data/tables/transactions_20210828_20220227_snapshot/\")\n",
    "data3 = spark.read.parquet(\"../data/tables/transactions_20220228_20220828_snapshot/\")"
   ]
  },
  {
   "cell_type": "code",
   "execution_count": 4,
   "metadata": {},
   "outputs": [],
   "source": [
    "consumer_lookup = spark.read.parquet(\"../data/tables/consumer_user_details.parquet\")\n",
    "consumer_data = spark.read.option(\"header\",True) \\\n",
    "                         .option(\"inferSchema\",True) \\\n",
    "                         .options(delimiter='|') \\\n",
    "                         .csv(\"../data/tables/tbl_consumer.csv\")"
   ]
  },
  {
   "cell_type": "markdown",
   "metadata": {},
   "source": [
    "### Concate all transaction records parquets together"
   ]
  },
  {
   "cell_type": "code",
   "execution_count": 5,
   "metadata": {},
   "outputs": [],
   "source": [
    "data = data1.union(data2)\n",
    "data = data.union(data3)"
   ]
  },
  {
   "cell_type": "markdown",
   "metadata": {},
   "source": [
    "### Choosing transactions from March 2021 to August 14th 2022 only"
   ]
  },
  {
   "cell_type": "code",
   "execution_count": 6,
   "metadata": {},
   "outputs": [],
   "source": [
    "data = data.filter(data[\"order_datetime\"] >= F.lit('2021-03-01')) \\\n",
    "       .filter(data[\"order_datetime\"] <= F.lit('2022-08-14'))\n",
    "\n",
    "data = data.withColumn(\"Week\", F.weekofyear(\"order_datetime\"))\\\n",
    "        .withColumn(\"Year\", F.year(\"order_datetime\"))\\\n",
    "        .withColumn(\"Month\", F.month(\"order_datetime\"))\\\n",
    "        .withColumn(\"Day\", F.dayofmonth(\"order_datetime\"))\\\n",
    "        .withColumn(\"Fortnight\", ((F.col(\"Week\")+1)/2).cast('int'))"
   ]
  },
  {
   "cell_type": "markdown",
   "metadata": {},
   "source": [
    "## Seperating fortnight records between 2021 and 2022 for each transacton "
   ]
  },
  {
   "cell_type": "code",
   "execution_count": 7,
   "metadata": {},
   "outputs": [],
   "source": [
    "# seperate records between 2021 and 2022\n",
    "k = data.filter(data.Year == 2022)\n",
    "k1 = data.filter(data.Year == 2021)"
   ]
  },
  {
   "cell_type": "code",
   "execution_count": 8,
   "metadata": {},
   "outputs": [],
   "source": [
    "# for every record from 2022, we will add the fortnight by 26, i.e. starting from fortnight 27\n",
    "data = data.withColumn(\"Fortnight\",when(data.Year == 2022,data.Fortnight + 26).otherwise(data.Fortnight))"
   ]
  },
  {
   "cell_type": "markdown",
   "metadata": {},
   "source": [
    "## Join transactions and consumer data for matching with persona data in later notebook"
   ]
  },
  {
   "cell_type": "code",
   "execution_count": 9,
   "metadata": {},
   "outputs": [],
   "source": [
    "join_df = data.join(consumer_lookup,[\"user_id\"])\n",
    "join_df = join_df.join(consumer_data, [\"consumer_id\"])"
   ]
  },
  {
   "cell_type": "code",
   "execution_count": 10,
   "metadata": {},
   "outputs": [
    {
     "name": "stderr",
     "output_type": "stream",
     "text": [
      "                                                                                \r"
     ]
    },
    {
     "data": {
      "text/html": [
       "<table border='1'>\n",
       "<tr><th>merchant_abn</th><th>order_id</th><th>Week</th><th>Year</th><th>Month</th><th>Day</th><th>Fortnight</th><th>state</th><th>postcode</th></tr>\n",
       "<tr><td>68216911708</td><td>c921263e-489e-45a...</td><td>33</td><td>2021</td><td>8</td><td>21</td><td>17</td><td>NSW</td><td>2021</td></tr>\n",
       "<tr><td>77698107389</td><td>aaea14f5-48e8-4ef...</td><td>33</td><td>2021</td><td>8</td><td>21</td><td>17</td><td>NSW</td><td>2021</td></tr>\n",
       "<tr><td>46451548968</td><td>7e8e7fca-04a1-4f2...</td><td>33</td><td>2021</td><td>8</td><td>19</td><td>17</td><td>NSW</td><td>2021</td></tr>\n",
       "<tr><td>35556933338</td><td>13b0be6a-20b7-439...</td><td>33</td><td>2021</td><td>8</td><td>22</td><td>17</td><td>NSW</td><td>2021</td></tr>\n",
       "<tr><td>91772719127</td><td>3750984f-4313-47d...</td><td>32</td><td>2021</td><td>8</td><td>14</td><td>16</td><td>NSW</td><td>2021</td></tr>\n",
       "<tr><td>29216160692</td><td>f5917c53-caca-4b6...</td><td>32</td><td>2021</td><td>8</td><td>15</td><td>16</td><td>NSW</td><td>2021</td></tr>\n",
       "<tr><td>32234779638</td><td>b9423d5c-9083-4e6...</td><td>28</td><td>2021</td><td>7</td><td>15</td><td>14</td><td>NSW</td><td>2021</td></tr>\n",
       "<tr><td>68216911708</td><td>94fbe85c-434a-4e6...</td><td>28</td><td>2021</td><td>7</td><td>15</td><td>14</td><td>NSW</td><td>2021</td></tr>\n",
       "<tr><td>75034515922</td><td>12e4b9c7-1738-481...</td><td>28</td><td>2021</td><td>7</td><td>15</td><td>14</td><td>NSW</td><td>2021</td></tr>\n",
       "<tr><td>24852446429</td><td>8e65c8ee-67f1-411...</td><td>33</td><td>2021</td><td>8</td><td>16</td><td>17</td><td>NSW</td><td>2021</td></tr>\n",
       "<tr><td>60111071436</td><td>5f7d4237-81ca-4e7...</td><td>34</td><td>2021</td><td>8</td><td>27</td><td>17</td><td>NSW</td><td>2021</td></tr>\n",
       "<tr><td>22019664345</td><td>d0a09e6d-27b9-445...</td><td>29</td><td>2021</td><td>7</td><td>23</td><td>15</td><td>NSW</td><td>2021</td></tr>\n",
       "<tr><td>23338656015</td><td>8104669d-ccf3-43a...</td><td>29</td><td>2021</td><td>7</td><td>23</td><td>15</td><td>NSW</td><td>2021</td></tr>\n",
       "<tr><td>94472466107</td><td>2d9872f8-7bfb-4b9...</td><td>20</td><td>2021</td><td>5</td><td>21</td><td>10</td><td>NSW</td><td>2021</td></tr>\n",
       "<tr><td>79645157255</td><td>81b41437-e167-419...</td><td>20</td><td>2021</td><td>5</td><td>21</td><td>10</td><td>NSW</td><td>2021</td></tr>\n",
       "<tr><td>75244502629</td><td>2ced6917-a1d6-4b3...</td><td>20</td><td>2021</td><td>5</td><td>21</td><td>10</td><td>NSW</td><td>2021</td></tr>\n",
       "<tr><td>25884436429</td><td>dd12bbf6-44ec-42a...</td><td>30</td><td>2021</td><td>7</td><td>30</td><td>15</td><td>NSW</td><td>2021</td></tr>\n",
       "<tr><td>29936037423</td><td>2e825100-9a9c-447...</td><td>21</td><td>2021</td><td>5</td><td>28</td><td>11</td><td>NSW</td><td>2021</td></tr>\n",
       "<tr><td>89726005175</td><td>818c3807-db8f-47a...</td><td>34</td><td>2021</td><td>8</td><td>26</td><td>17</td><td>NSW</td><td>2021</td></tr>\n",
       "<tr><td>68216911708</td><td>ef47dcdf-e73e-437...</td><td>25</td><td>2021</td><td>6</td><td>25</td><td>13</td><td>NSW</td><td>2021</td></tr>\n",
       "</table>\n",
       "only showing top 20 rows\n"
      ],
      "text/plain": [
       "+------------+--------------------+----+----+-----+---+---------+-----+--------+\n",
       "|merchant_abn|            order_id|Week|Year|Month|Day|Fortnight|state|postcode|\n",
       "+------------+--------------------+----+----+-----+---+---------+-----+--------+\n",
       "| 68216911708|c921263e-489e-45a...|  33|2021|    8| 21|       17|  NSW|    2021|\n",
       "| 77698107389|aaea14f5-48e8-4ef...|  33|2021|    8| 21|       17|  NSW|    2021|\n",
       "| 46451548968|7e8e7fca-04a1-4f2...|  33|2021|    8| 19|       17|  NSW|    2021|\n",
       "| 35556933338|13b0be6a-20b7-439...|  33|2021|    8| 22|       17|  NSW|    2021|\n",
       "| 91772719127|3750984f-4313-47d...|  32|2021|    8| 14|       16|  NSW|    2021|\n",
       "| 29216160692|f5917c53-caca-4b6...|  32|2021|    8| 15|       16|  NSW|    2021|\n",
       "| 32234779638|b9423d5c-9083-4e6...|  28|2021|    7| 15|       14|  NSW|    2021|\n",
       "| 68216911708|94fbe85c-434a-4e6...|  28|2021|    7| 15|       14|  NSW|    2021|\n",
       "| 75034515922|12e4b9c7-1738-481...|  28|2021|    7| 15|       14|  NSW|    2021|\n",
       "| 24852446429|8e65c8ee-67f1-411...|  33|2021|    8| 16|       17|  NSW|    2021|\n",
       "| 60111071436|5f7d4237-81ca-4e7...|  34|2021|    8| 27|       17|  NSW|    2021|\n",
       "| 22019664345|d0a09e6d-27b9-445...|  29|2021|    7| 23|       15|  NSW|    2021|\n",
       "| 23338656015|8104669d-ccf3-43a...|  29|2021|    7| 23|       15|  NSW|    2021|\n",
       "| 94472466107|2d9872f8-7bfb-4b9...|  20|2021|    5| 21|       10|  NSW|    2021|\n",
       "| 79645157255|81b41437-e167-419...|  20|2021|    5| 21|       10|  NSW|    2021|\n",
       "| 75244502629|2ced6917-a1d6-4b3...|  20|2021|    5| 21|       10|  NSW|    2021|\n",
       "| 25884436429|dd12bbf6-44ec-42a...|  30|2021|    7| 30|       15|  NSW|    2021|\n",
       "| 29936037423|2e825100-9a9c-447...|  21|2021|    5| 28|       11|  NSW|    2021|\n",
       "| 89726005175|818c3807-db8f-47a...|  34|2021|    8| 26|       17|  NSW|    2021|\n",
       "| 68216911708|ef47dcdf-e73e-437...|  25|2021|    6| 25|       13|  NSW|    2021|\n",
       "+------------+--------------------+----+----+-----+---+---------+-----+--------+\n",
       "only showing top 20 rows"
      ]
     },
     "execution_count": 10,
     "metadata": {},
     "output_type": "execute_result"
    }
   ],
   "source": [
    "join_df.select(\"merchant_abn\",\"order_id\",\"Week\",\"Year\",\"Month\",\"Day\",\"Fortnight\",\"state\",\"postcode\")"
   ]
  },
  {
   "cell_type": "markdown",
   "metadata": {},
   "source": [
    "### Since some postcodes are not included in the ABS data, we decide to remove them \n",
    "#### Find postcodes listed in ABS data"
   ]
  },
  {
   "cell_type": "code",
   "execution_count": 11,
   "metadata": {},
   "outputs": [],
   "source": [
    "# Since some postcodes are not included in the ABS data, we decide to remove them \n",
    "abs_df = spark.read.csv(\"../data/curated/abs_cleaned.csv\", header = 'True')"
   ]
  },
  {
   "cell_type": "code",
   "execution_count": 12,
   "metadata": {},
   "outputs": [
    {
     "name": "stdout",
     "output_type": "stream",
     "text": [
      "22/10/06 11:40:55 WARN CSVHeaderChecker: CSV header does not conform to the schema.\n",
      " Header: \n",
      " Schema: _c0\n",
      "Expected: _c0 but found: \n",
      "CSV file: file:///Users/liyujie/Documents/GitHub/generic-buy-now-pay-later-project-group-8/data/curated/abs_cleaned.csv\n"
     ]
    }
   ],
   "source": [
    "abs_postcode = abs_df.select('_c0').rdd.map(lambda x : x[0]).collect()"
   ]
  },
  {
   "cell_type": "markdown",
   "metadata": {},
   "source": [
    "#### keep records in transaction+customer table if its postcode is in abs_postcode"
   ]
  },
  {
   "cell_type": "code",
   "execution_count": 13,
   "metadata": {},
   "outputs": [],
   "source": [
    "new_join = join_df.where((join_df.postcode).isin(abs_postcode))"
   ]
  },
  {
   "cell_type": "markdown",
   "metadata": {},
   "source": [
    "## Groupby merchant abn and postcode\n",
    "### For each merchant, find number of orders for each postcode and total orders"
   ]
  },
  {
   "cell_type": "code",
   "execution_count": 14,
   "metadata": {},
   "outputs": [],
   "source": [
    "data_by_fornight = new_join.groupBy(\"Fortnight\",\"merchant_abn\",\"postcode\")\\\n",
    "    .agg(F.count(\"order_id\").alias(\"count_postcode_merchant\"))"
   ]
  },
  {
   "cell_type": "code",
   "execution_count": 15,
   "metadata": {},
   "outputs": [],
   "source": [
    "totalorder_perfor_merchant = new_join.groupBy(\"Fortnight\",\"merchant_abn\")\\\n",
    "    .agg(F.count(\"order_id\").alias(\"total_order_per_fornight\"))"
   ]
  },
  {
   "cell_type": "markdown",
   "metadata": {},
   "source": [
    "### Create a lookup table for every postcode of all merchant\n",
    "### Join table with number of orders for each postcode and table with total orders for each merchant\n"
   ]
  },
  {
   "cell_type": "code",
   "execution_count": 16,
   "metadata": {},
   "outputs": [],
   "source": [
    "cond = [\"merchant_abn\",\"Fortnight\"]\n",
    "data_by_fornight = data_by_fornight.join(totalorder_perfor_merchant, cond, \"inner\")"
   ]
  },
  {
   "cell_type": "markdown",
   "metadata": {},
   "source": [
    "### For every merchant, calculate the proportion of each postcode over its overall orders"
   ]
  },
  {
   "cell_type": "code",
   "execution_count": 17,
   "metadata": {},
   "outputs": [],
   "source": [
    "data_by_fornight = data_by_fornight.withColumn(\"proportion_of_postcode\", (data_by_fornight.count_postcode_merchant/data_by_fornight.total_order_per_fornight))"
   ]
  },
  {
   "cell_type": "code",
   "execution_count": 18,
   "metadata": {},
   "outputs": [
    {
     "name": "stderr",
     "output_type": "stream",
     "text": [
      "                                                                                \r"
     ]
    }
   ],
   "source": [
    "data_by_fornight.toPandas().to_csv('../data/curated/Grouping.csv', index = False)"
   ]
  },
  {
   "cell_type": "code",
   "execution_count": null,
   "metadata": {},
   "outputs": [],
   "source": []
  }
 ],
 "metadata": {
  "kernelspec": {
   "display_name": "Python 3.8.9 64-bit",
   "language": "python",
   "name": "python3"
  },
  "language_info": {
   "codemirror_mode": {
    "name": "ipython",
    "version": 3
   },
   "file_extension": ".py",
   "mimetype": "text/x-python",
   "name": "python",
   "nbconvert_exporter": "python",
   "pygments_lexer": "ipython3",
   "version": "3.8.9"
  },
  "orig_nbformat": 4,
  "vscode": {
   "interpreter": {
    "hash": "31f2aee4e71d21fbe5cf8b01ff0e069b9275f58929596ceb00d14d90e3e16cd6"
   }
  }
 },
 "nbformat": 4,
 "nbformat_minor": 2
}
