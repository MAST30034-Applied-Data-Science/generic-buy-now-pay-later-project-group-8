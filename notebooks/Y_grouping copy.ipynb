{
 "cells": [
  {
   "cell_type": "code",
   "execution_count": 1,
   "metadata": {},
   "outputs": [],
   "source": [
    "# import libraries\n",
    "from gettext import npgettext\n",
    "import pandas as pd\n",
    "from pyspark.sql import SparkSession\n",
    "from pyspark.sql import functions as F\n",
    "import numpy as np\n",
    "from statistics import mean, stdev\n",
    "\n",
    "import json"
   ]
  },
  {
   "cell_type": "code",
   "execution_count": 2,
   "metadata": {},
   "outputs": [
    {
     "name": "stderr",
     "output_type": "stream",
     "text": [
      "Setting default log level to \"WARN\".\n",
      "To adjust logging level use sc.setLogLevel(newLevel). For SparkR, use setLogLevel(newLevel).\n"
     ]
    },
    {
     "name": "stdout",
     "output_type": "stream",
     "text": [
      "22/09/28 16:16:58 WARN NativeCodeLoader: Unable to load native-hadoop library for your platform... using builtin-java classes where applicable\n",
      "22/09/28 16:16:58 WARN Utils: Service 'SparkUI' could not bind on port 4040. Attempting port 4041.\n"
     ]
    }
   ],
   "source": [
    "# setup spark\n",
    "spark = (\n",
    "    SparkSession.builder.appName(\"aggregate data for first 3 final model variables\")\n",
    "    .config(\"spark.sql.repl.eagerEval.enabled\", True) \n",
    "    .config(\"spark.sql.parquet.cacheMetadata\", \"true\")\n",
    "    .config(\"spark.sql.session.timeZone\", \"Etc/UTC\")\n",
    "    .config(\"spark.driver.memory\", \"15g\")\n",
    "    .getOrCreate()\n",
    ")"
   ]
  },
  {
   "cell_type": "code",
   "execution_count": 3,
   "metadata": {},
   "outputs": [
    {
     "name": "stderr",
     "output_type": "stream",
     "text": [
      "                                                                                \r"
     ]
    }
   ],
   "source": [
    "# import data\n",
    "data1 = spark.read.parquet(\"../data/tables/transactions_20210228_20210827_snapshot/\")\n",
    "data2 = spark.read.parquet(\"../data/tables/transactions_20210828_20220227_snapshot/\")\n",
    "data3 = spark.read.parquet(\"../data/tables/transactions_20220228_20220828_snapshot/\")"
   ]
  },
  {
   "cell_type": "code",
   "execution_count": 4,
   "metadata": {},
   "outputs": [],
   "source": [
    "consumer_lookup = spark.read.parquet(\"../data/tables/consumer_user_details.parquet\")\n",
    "consumer_data = spark.read.option(\"header\",True) \\\n",
    "                         .option(\"inferSchema\",True) \\\n",
    "                         .options(delimiter='|') \\\n",
    "                         .csv(\"../data/tables/tbl_consumer.csv\")"
   ]
  },
  {
   "cell_type": "code",
   "execution_count": 5,
   "metadata": {},
   "outputs": [],
   "source": [
    "data = data1.union(data2)\n",
    "data = data.union(data3)"
   ]
  },
  {
   "cell_type": "code",
   "execution_count": 6,
   "metadata": {},
   "outputs": [],
   "source": [
    "data = data.filter(data[\"order_datetime\"] >= F.lit('2021-03-01')) \\\n",
    "       .filter(data[\"order_datetime\"] <= F.lit('2022-08-14'))\n"
   ]
  },
  {
   "cell_type": "code",
   "execution_count": 7,
   "metadata": {},
   "outputs": [
    {
     "data": {
      "text/html": [
       "<table border='1'>\n",
       "<tr><th>name</th><th>address</th><th>state</th><th>postcode</th><th>gender</th><th>consumer_id</th></tr>\n",
       "<tr><td>Yolanda Williams</td><td>413 Haney Gardens...</td><td>WA</td><td>6935</td><td>Female</td><td>1195503</td></tr>\n",
       "<tr><td>Mary Smith</td><td>3764 Amber Oval</td><td>NSW</td><td>2782</td><td>Female</td><td>179208</td></tr>\n",
       "<tr><td>Jill Jones MD</td><td>40693 Henry Greens</td><td>NT</td><td>862</td><td>Female</td><td>1194530</td></tr>\n",
       "<tr><td>Lindsay Jimenez</td><td>00653 Davenport C...</td><td>NSW</td><td>2780</td><td>Female</td><td>154128</td></tr>\n",
       "<tr><td>Rebecca Blanchard</td><td>9271 Michael Mano...</td><td>WA</td><td>6355</td><td>Female</td><td>712975</td></tr>\n",
       "<tr><td>Karen Chapman</td><td>2706 Stewart Oval...</td><td>NSW</td><td>2033</td><td>Female</td><td>407340</td></tr>\n",
       "<tr><td>Andrea Jones</td><td>122 Brandon Cliff</td><td>QLD</td><td>4606</td><td>Female</td><td>511685</td></tr>\n",
       "<tr><td>Stephen Williams</td><td>6804 Wright Crest...</td><td>WA</td><td>6056</td><td>Male</td><td>448088</td></tr>\n",
       "<tr><td>Stephanie Reyes</td><td>5813 Denise Land ...</td><td>NSW</td><td>2482</td><td>Female</td><td>650435</td></tr>\n",
       "<tr><td>Jillian Gonzales</td><td>461 Ryan Common S...</td><td>VIC</td><td>3220</td><td>Female</td><td>1058499</td></tr>\n",
       "<tr><td>Eugene Lucas</td><td>33983 Kevin Drive...</td><td>VIC</td><td>3063</td><td>Undisclosed</td><td>428325</td></tr>\n",
       "<tr><td>Melissa Jones</td><td>13706 Kimberly Port</td><td>WA</td><td>6743</td><td>Female</td><td>1494640</td></tr>\n",
       "<tr><td>Angela Brown PhD</td><td>0236 Mills Land S...</td><td>QLD</td><td>4673</td><td>Female</td><td>1146717</td></tr>\n",
       "<tr><td>Lance Butler</td><td>8943 Kenneth Camp</td><td>VIC</td><td>3332</td><td>Male</td><td>1343547</td></tr>\n",
       "<tr><td>Paul Abbott</td><td>60495 Ryan Hill</td><td>QLD</td><td>4512</td><td>Male</td><td>1463076</td></tr>\n",
       "<tr><td>Tracy Hart</td><td>9671 Jacob Harbor...</td><td>NSW</td><td>2452</td><td>Male</td><td>1356405</td></tr>\n",
       "<tr><td>Alyssa Wilson</td><td>44353 Nathan Ridge</td><td>VIC</td><td>3719</td><td>Female</td><td>1331093</td></tr>\n",
       "<tr><td>Michael Burnett</td><td>89400 Torres Fort</td><td>NSW</td><td>1109</td><td>Male</td><td>80965</td></tr>\n",
       "<tr><td>Victoria Gonzalez</td><td>68657 Johnson Gle...</td><td>TAS</td><td>7276</td><td>Female</td><td>1226530</td></tr>\n",
       "<tr><td>James Norris</td><td>790 Ramos Landing</td><td>VIC</td><td>3234</td><td>Undisclosed</td><td>1390367</td></tr>\n",
       "</table>\n",
       "only showing top 20 rows\n"
      ],
      "text/plain": [
       "+-----------------+--------------------+-----+--------+-----------+-----------+\n",
       "|             name|             address|state|postcode|     gender|consumer_id|\n",
       "+-----------------+--------------------+-----+--------+-----------+-----------+\n",
       "| Yolanda Williams|413 Haney Gardens...|   WA|    6935|     Female|    1195503|\n",
       "|       Mary Smith|     3764 Amber Oval|  NSW|    2782|     Female|     179208|\n",
       "|    Jill Jones MD|  40693 Henry Greens|   NT|     862|     Female|    1194530|\n",
       "|  Lindsay Jimenez|00653 Davenport C...|  NSW|    2780|     Female|     154128|\n",
       "|Rebecca Blanchard|9271 Michael Mano...|   WA|    6355|     Female|     712975|\n",
       "|    Karen Chapman|2706 Stewart Oval...|  NSW|    2033|     Female|     407340|\n",
       "|     Andrea Jones|   122 Brandon Cliff|  QLD|    4606|     Female|     511685|\n",
       "| Stephen Williams|6804 Wright Crest...|   WA|    6056|       Male|     448088|\n",
       "|  Stephanie Reyes|5813 Denise Land ...|  NSW|    2482|     Female|     650435|\n",
       "| Jillian Gonzales|461 Ryan Common S...|  VIC|    3220|     Female|    1058499|\n",
       "|     Eugene Lucas|33983 Kevin Drive...|  VIC|    3063|Undisclosed|     428325|\n",
       "|    Melissa Jones| 13706 Kimberly Port|   WA|    6743|     Female|    1494640|\n",
       "| Angela Brown PhD|0236 Mills Land S...|  QLD|    4673|     Female|    1146717|\n",
       "|     Lance Butler|   8943 Kenneth Camp|  VIC|    3332|       Male|    1343547|\n",
       "|      Paul Abbott|     60495 Ryan Hill|  QLD|    4512|       Male|    1463076|\n",
       "|       Tracy Hart|9671 Jacob Harbor...|  NSW|    2452|       Male|    1356405|\n",
       "|    Alyssa Wilson|  44353 Nathan Ridge|  VIC|    3719|     Female|    1331093|\n",
       "|  Michael Burnett|   89400 Torres Fort|  NSW|    1109|       Male|      80965|\n",
       "|Victoria Gonzalez|68657 Johnson Gle...|  TAS|    7276|     Female|    1226530|\n",
       "|     James Norris|   790 Ramos Landing|  VIC|    3234|Undisclosed|    1390367|\n",
       "+-----------------+--------------------+-----+--------+-----------+-----------+\n",
       "only showing top 20 rows"
      ]
     },
     "execution_count": 7,
     "metadata": {},
     "output_type": "execute_result"
    }
   ],
   "source": [
    "consumer_data"
   ]
  },
  {
   "cell_type": "code",
   "execution_count": 8,
   "metadata": {},
   "outputs": [],
   "source": [
    "join_df = data.join(consumer_lookup,[\"user_id\"])\n",
    "join_df = join_df.join(consumer_data, [\"consumer_id\"])"
   ]
  },
  {
   "cell_type": "code",
   "execution_count": 9,
   "metadata": {},
   "outputs": [
    {
     "name": "stderr",
     "output_type": "stream",
     "text": [
      "                                                                                \r"
     ]
    },
    {
     "data": {
      "text/html": [
       "<table border='1'>\n",
       "<tr><th>consumer_id</th><th>user_id</th><th>merchant_abn</th><th>dollar_value</th><th>order_id</th><th>order_datetime</th><th>name</th><th>address</th><th>state</th><th>postcode</th><th>gender</th></tr>\n",
       "<tr><td>551</td><td>3471</td><td>68216911708</td><td>39.2325218595659</td><td>c921263e-489e-45a...</td><td>2021-08-21</td><td>Todd Long</td><td>883 Patty Mountai...</td><td>NSW</td><td>2021</td><td>Male</td></tr>\n",
       "<tr><td>551</td><td>3471</td><td>77698107389</td><td>90.16967584866273</td><td>aaea14f5-48e8-4ef...</td><td>2021-08-21</td><td>Todd Long</td><td>883 Patty Mountai...</td><td>NSW</td><td>2021</td><td>Male</td></tr>\n",
       "<tr><td>551</td><td>3471</td><td>46451548968</td><td>3.8405569898888428</td><td>7e8e7fca-04a1-4f2...</td><td>2021-08-19</td><td>Todd Long</td><td>883 Patty Mountai...</td><td>NSW</td><td>2021</td><td>Male</td></tr>\n",
       "<tr><td>551</td><td>3471</td><td>35556933338</td><td>66.18325079406301</td><td>13b0be6a-20b7-439...</td><td>2021-08-22</td><td>Todd Long</td><td>883 Patty Mountai...</td><td>NSW</td><td>2021</td><td>Male</td></tr>\n",
       "<tr><td>551</td><td>3471</td><td>91772719127</td><td>33.692747732339996</td><td>3750984f-4313-47d...</td><td>2021-08-14</td><td>Todd Long</td><td>883 Patty Mountai...</td><td>NSW</td><td>2021</td><td>Male</td></tr>\n",
       "<tr><td>551</td><td>3471</td><td>29216160692</td><td>171.76081688162495</td><td>f5917c53-caca-4b6...</td><td>2021-08-15</td><td>Todd Long</td><td>883 Patty Mountai...</td><td>NSW</td><td>2021</td><td>Male</td></tr>\n",
       "<tr><td>551</td><td>3471</td><td>32234779638</td><td>80.46099153654205</td><td>b9423d5c-9083-4e6...</td><td>2021-07-15</td><td>Todd Long</td><td>883 Patty Mountai...</td><td>NSW</td><td>2021</td><td>Male</td></tr>\n",
       "<tr><td>551</td><td>3471</td><td>68216911708</td><td>60.713668658695276</td><td>94fbe85c-434a-4e6...</td><td>2021-07-15</td><td>Todd Long</td><td>883 Patty Mountai...</td><td>NSW</td><td>2021</td><td>Male</td></tr>\n",
       "<tr><td>551</td><td>3471</td><td>75034515922</td><td>5.4642431321898375</td><td>12e4b9c7-1738-481...</td><td>2021-07-15</td><td>Todd Long</td><td>883 Patty Mountai...</td><td>NSW</td><td>2021</td><td>Male</td></tr>\n",
       "<tr><td>551</td><td>3471</td><td>24852446429</td><td>56.947518842650844</td><td>8e65c8ee-67f1-411...</td><td>2021-08-16</td><td>Todd Long</td><td>883 Patty Mountai...</td><td>NSW</td><td>2021</td><td>Male</td></tr>\n",
       "<tr><td>551</td><td>3471</td><td>60111071436</td><td>65.18552675559465</td><td>5f7d4237-81ca-4e7...</td><td>2021-08-27</td><td>Todd Long</td><td>883 Patty Mountai...</td><td>NSW</td><td>2021</td><td>Male</td></tr>\n",
       "<tr><td>551</td><td>3471</td><td>22019664345</td><td>41.38591300683678</td><td>d0a09e6d-27b9-445...</td><td>2021-07-23</td><td>Todd Long</td><td>883 Patty Mountai...</td><td>NSW</td><td>2021</td><td>Male</td></tr>\n",
       "<tr><td>551</td><td>3471</td><td>23338656015</td><td>205.42563371167512</td><td>8104669d-ccf3-43a...</td><td>2021-07-23</td><td>Todd Long</td><td>883 Patty Mountai...</td><td>NSW</td><td>2021</td><td>Male</td></tr>\n",
       "<tr><td>551</td><td>3471</td><td>94472466107</td><td>52.08746331531157</td><td>2d9872f8-7bfb-4b9...</td><td>2021-05-21</td><td>Todd Long</td><td>883 Patty Mountai...</td><td>NSW</td><td>2021</td><td>Male</td></tr>\n",
       "<tr><td>551</td><td>3471</td><td>79645157255</td><td>38.86563882630112</td><td>81b41437-e167-419...</td><td>2021-05-21</td><td>Todd Long</td><td>883 Patty Mountai...</td><td>NSW</td><td>2021</td><td>Male</td></tr>\n",
       "<tr><td>551</td><td>3471</td><td>75244502629</td><td>25.044226573432795</td><td>2ced6917-a1d6-4b3...</td><td>2021-05-21</td><td>Todd Long</td><td>883 Patty Mountai...</td><td>NSW</td><td>2021</td><td>Male</td></tr>\n",
       "<tr><td>551</td><td>3471</td><td>25884436429</td><td>497.6997419580171</td><td>dd12bbf6-44ec-42a...</td><td>2021-07-30</td><td>Todd Long</td><td>883 Patty Mountai...</td><td>NSW</td><td>2021</td><td>Male</td></tr>\n",
       "<tr><td>551</td><td>3471</td><td>29936037423</td><td>84.50125683204189</td><td>2e825100-9a9c-447...</td><td>2021-05-28</td><td>Todd Long</td><td>883 Patty Mountai...</td><td>NSW</td><td>2021</td><td>Male</td></tr>\n",
       "<tr><td>551</td><td>3471</td><td>89726005175</td><td>35.35344876130378</td><td>818c3807-db8f-47a...</td><td>2021-08-26</td><td>Todd Long</td><td>883 Patty Mountai...</td><td>NSW</td><td>2021</td><td>Male</td></tr>\n",
       "<tr><td>551</td><td>3471</td><td>68216911708</td><td>43.38612720283835</td><td>ef47dcdf-e73e-437...</td><td>2021-06-25</td><td>Todd Long</td><td>883 Patty Mountai...</td><td>NSW</td><td>2021</td><td>Male</td></tr>\n",
       "</table>\n",
       "only showing top 20 rows\n"
      ],
      "text/plain": [
       "+-----------+-------+------------+------------------+--------------------+--------------+---------+--------------------+-----+--------+------+\n",
       "|consumer_id|user_id|merchant_abn|      dollar_value|            order_id|order_datetime|     name|             address|state|postcode|gender|\n",
       "+-----------+-------+------------+------------------+--------------------+--------------+---------+--------------------+-----+--------+------+\n",
       "|        551|   3471| 68216911708|  39.2325218595659|c921263e-489e-45a...|    2021-08-21|Todd Long|883 Patty Mountai...|  NSW|    2021|  Male|\n",
       "|        551|   3471| 77698107389| 90.16967584866273|aaea14f5-48e8-4ef...|    2021-08-21|Todd Long|883 Patty Mountai...|  NSW|    2021|  Male|\n",
       "|        551|   3471| 46451548968|3.8405569898888428|7e8e7fca-04a1-4f2...|    2021-08-19|Todd Long|883 Patty Mountai...|  NSW|    2021|  Male|\n",
       "|        551|   3471| 35556933338| 66.18325079406301|13b0be6a-20b7-439...|    2021-08-22|Todd Long|883 Patty Mountai...|  NSW|    2021|  Male|\n",
       "|        551|   3471| 91772719127|33.692747732339996|3750984f-4313-47d...|    2021-08-14|Todd Long|883 Patty Mountai...|  NSW|    2021|  Male|\n",
       "|        551|   3471| 29216160692|171.76081688162495|f5917c53-caca-4b6...|    2021-08-15|Todd Long|883 Patty Mountai...|  NSW|    2021|  Male|\n",
       "|        551|   3471| 32234779638| 80.46099153654205|b9423d5c-9083-4e6...|    2021-07-15|Todd Long|883 Patty Mountai...|  NSW|    2021|  Male|\n",
       "|        551|   3471| 68216911708|60.713668658695276|94fbe85c-434a-4e6...|    2021-07-15|Todd Long|883 Patty Mountai...|  NSW|    2021|  Male|\n",
       "|        551|   3471| 75034515922|5.4642431321898375|12e4b9c7-1738-481...|    2021-07-15|Todd Long|883 Patty Mountai...|  NSW|    2021|  Male|\n",
       "|        551|   3471| 24852446429|56.947518842650844|8e65c8ee-67f1-411...|    2021-08-16|Todd Long|883 Patty Mountai...|  NSW|    2021|  Male|\n",
       "|        551|   3471| 60111071436| 65.18552675559465|5f7d4237-81ca-4e7...|    2021-08-27|Todd Long|883 Patty Mountai...|  NSW|    2021|  Male|\n",
       "|        551|   3471| 22019664345| 41.38591300683678|d0a09e6d-27b9-445...|    2021-07-23|Todd Long|883 Patty Mountai...|  NSW|    2021|  Male|\n",
       "|        551|   3471| 23338656015|205.42563371167512|8104669d-ccf3-43a...|    2021-07-23|Todd Long|883 Patty Mountai...|  NSW|    2021|  Male|\n",
       "|        551|   3471| 94472466107| 52.08746331531157|2d9872f8-7bfb-4b9...|    2021-05-21|Todd Long|883 Patty Mountai...|  NSW|    2021|  Male|\n",
       "|        551|   3471| 79645157255| 38.86563882630112|81b41437-e167-419...|    2021-05-21|Todd Long|883 Patty Mountai...|  NSW|    2021|  Male|\n",
       "|        551|   3471| 75244502629|25.044226573432795|2ced6917-a1d6-4b3...|    2021-05-21|Todd Long|883 Patty Mountai...|  NSW|    2021|  Male|\n",
       "|        551|   3471| 25884436429| 497.6997419580171|dd12bbf6-44ec-42a...|    2021-07-30|Todd Long|883 Patty Mountai...|  NSW|    2021|  Male|\n",
       "|        551|   3471| 29936037423| 84.50125683204189|2e825100-9a9c-447...|    2021-05-28|Todd Long|883 Patty Mountai...|  NSW|    2021|  Male|\n",
       "|        551|   3471| 89726005175| 35.35344876130378|818c3807-db8f-47a...|    2021-08-26|Todd Long|883 Patty Mountai...|  NSW|    2021|  Male|\n",
       "|        551|   3471| 68216911708| 43.38612720283835|ef47dcdf-e73e-437...|    2021-06-25|Todd Long|883 Patty Mountai...|  NSW|    2021|  Male|\n",
       "+-----------+-------+------------+------------------+--------------------+--------------+---------+--------------------+-----+--------+------+\n",
       "only showing top 20 rows"
      ]
     },
     "execution_count": 9,
     "metadata": {},
     "output_type": "execute_result"
    }
   ],
   "source": [
    "join_df"
   ]
  },
  {
   "cell_type": "code",
   "execution_count": 38,
   "metadata": {},
   "outputs": [
    {
     "name": "stderr",
     "output_type": "stream",
     "text": [
      "                                                                                \r"
     ]
    },
    {
     "data": {
      "text/html": [
       "<table border='1'>\n",
       "<tr><th>summary</th><th>consumer_id</th><th>user_id</th><th>merchant_abn</th><th>dollar_value</th><th>order_id</th><th>Week</th><th>Year</th><th>Month</th><th>Day</th><th>Fortnight</th><th>name</th><th>address</th><th>state</th><th>postcode</th><th>gender</th></tr>\n",
       "<tr><td>count</td><td>12157084</td><td>12157084</td><td>12157084</td><td>12157084</td><td>12157084</td><td>12157084</td><td>12157084</td><td>12157084</td><td>12157084</td><td>12157084</td><td>12157084</td><td>12157084</td><td>12157084</td><td>12157084</td><td>12157084</td></tr>\n",
       "<tr><td>mean</td><td>753256.278102216</td><td>12039.659402287589</td><td>5.542397773206698...</td><td>166.35215026470865</td><td>null</td><td>26.48216373268458</td><td>2021.4182861613854</td><td>6.562012897171723</td><td>15.814851571314305</td><td>13.491465469844577</td><td>null</td><td>null</td><td>null</td><td>4043.3039628581987</td><td>null</td></tr>\n",
       "<tr><td>stddev</td><td>435525.6477490294</td><td>6951.602269350454</td><td>2.532751109873882E10</td><td>520.5260587786956</td><td>null</td><td>13.602001831795453</td><td>0.49327767899407055</td><td>3.1197910160833513</td><td>8.804069186278074</td><td>6.799815171682457</td><td>null</td><td>null</td><td>null</td><td>1780.7825684916559</td><td>null</td></tr>\n",
       "<tr><td>min</td><td>30</td><td>1</td><td>10023283211</td><td>9.756658099412162E-8</td><td>000000d4-d252-4e2...</td><td>1</td><td>2021</td><td>1</td><td>1</td><td>1</td><td>Aaron Adkins</td><td>000 Barnes Missio...</td><td>ACT</td><td>200</td><td>Female</td></tr>\n",
       "<tr><td>max</td><td>1499867</td><td>24081</td><td>99990536339</td><td>105193.88578925544</td><td>fffffca5-42ab-49d...</td><td>52</td><td>2022</td><td>12</td><td>31</td><td>26</td><td>Zoe Randall</td><td>99994 Krystal Views</td><td>WA</td><td>9999</td><td>Undisclosed</td></tr>\n",
       "</table>\n"
      ],
      "text/plain": [
       "+-------+-----------------+------------------+--------------------+--------------------+--------------------+------------------+-------------------+------------------+------------------+------------------+------------+--------------------+--------+------------------+-----------+\n",
       "|summary|      consumer_id|           user_id|        merchant_abn|        dollar_value|            order_id|              Week|               Year|             Month|               Day|         Fortnight|        name|             address|   state|          postcode|     gender|\n",
       "+-------+-----------------+------------------+--------------------+--------------------+--------------------+------------------+-------------------+------------------+------------------+------------------+------------+--------------------+--------+------------------+-----------+\n",
       "|  count|         12157084|          12157084|            12157084|            12157084|            12157084|          12157084|           12157084|          12157084|          12157084|          12157084|    12157084|            12157084|12157084|          12157084|   12157084|\n",
       "|   mean| 753256.278102216|12039.659402287589|5.542397773206698...|  166.35215026470865|                null| 26.48216373268458| 2021.4182861613854| 6.562012897171723|15.814851571314305|13.491465469844577|        null|                null|    null|4043.3039628581987|       null|\n",
       "| stddev|435525.6477490294| 6951.602269350454|2.532751109873882E10|   520.5260587786956|                null|13.602001831795453|0.49327767899407055|3.1197910160833513| 8.804069186278074| 6.799815171682457|        null|                null|    null|1780.7825684916559|       null|\n",
       "|    min|               30|                 1|         10023283211|9.756658099412162E-8|000000d4-d252-4e2...|                 1|               2021|                 1|                 1|                 1|Aaron Adkins|000 Barnes Missio...|     ACT|               200|     Female|\n",
       "|    max|          1499867|             24081|         99990536339|  105193.88578925544|fffffca5-42ab-49d...|                52|               2022|                12|                31|                26| Zoe Randall| 99994 Krystal Views|      WA|              9999|Undisclosed|\n",
       "+-------+-----------------+------------------+--------------------+--------------------+--------------------+------------------+-------------------+------------------+------------------+------------------+------------+--------------------+--------+------------------+-----------+"
      ]
     },
     "execution_count": 38,
     "metadata": {},
     "output_type": "execute_result"
    }
   ],
   "source": [
    "join_df.describe()"
   ]
  },
  {
   "cell_type": "code",
   "execution_count": 10,
   "metadata": {},
   "outputs": [],
   "source": [
    "# Since some postcodes are not included in the ABS data, we decide to remove them \n",
    "abs_df = spark.read.csv(\"../data/curated/abs_cleaned.csv\", header = 'True')"
   ]
  },
  {
   "cell_type": "code",
   "execution_count": 11,
   "metadata": {},
   "outputs": [
    {
     "name": "stdout",
     "output_type": "stream",
     "text": [
      "22/09/28 16:17:54 WARN CSVHeaderChecker: CSV header does not conform to the schema.\n",
      " Header: \n",
      " Schema: _c0\n",
      "Expected: _c0 but found: \n",
      "CSV file: file:///Users/liyujie/Documents/GitHub/generic-buy-now-pay-later-project-group-8/data/curated/abs_cleaned.csv\n"
     ]
    }
   ],
   "source": [
    "abs_postcode = abs_df.select('_c0').rdd.map(lambda x : x[0]).collect()"
   ]
  },
  {
   "cell_type": "code",
   "execution_count": 12,
   "metadata": {},
   "outputs": [
    {
     "data": {
      "text/plain": [
       "2653"
      ]
     },
     "execution_count": 12,
     "metadata": {},
     "output_type": "execute_result"
    }
   ],
   "source": [
    "len(abs_postcode)"
   ]
  },
  {
   "cell_type": "code",
   "execution_count": 13,
   "metadata": {},
   "outputs": [],
   "source": [
    "# join_df.createOrReplaceTempView(\"joindf\")\n",
    "# spark.sql(f\"\"\"SELECT * FROM joindf \n",
    "# WHERE postcode IN abs_postcode\"\"\").show()\n",
    "\n",
    "from pyspark.sql.functions import col\n",
    "new_join = join_df.where((join_df.postcode).isin(abs_postcode))"
   ]
  },
  {
   "cell_type": "code",
   "execution_count": 15,
   "metadata": {},
   "outputs": [
    {
     "name": "stderr",
     "output_type": "stream",
     "text": [
      "                                                                                \r"
     ]
    },
    {
     "data": {
      "text/html": [
       "<table border='1'>\n",
       "<tr><th>consumer_id</th><th>user_id</th><th>merchant_abn</th><th>dollar_value</th><th>order_id</th><th>order_datetime</th><th>name</th><th>address</th><th>state</th><th>postcode</th><th>gender</th></tr>\n",
       "<tr><td>551</td><td>3471</td><td>68216911708</td><td>39.2325218595659</td><td>c921263e-489e-45a...</td><td>2021-08-21</td><td>Todd Long</td><td>883 Patty Mountai...</td><td>NSW</td><td>2021</td><td>Male</td></tr>\n",
       "<tr><td>551</td><td>3471</td><td>77698107389</td><td>90.16967584866273</td><td>aaea14f5-48e8-4ef...</td><td>2021-08-21</td><td>Todd Long</td><td>883 Patty Mountai...</td><td>NSW</td><td>2021</td><td>Male</td></tr>\n",
       "<tr><td>551</td><td>3471</td><td>46451548968</td><td>3.8405569898888428</td><td>7e8e7fca-04a1-4f2...</td><td>2021-08-19</td><td>Todd Long</td><td>883 Patty Mountai...</td><td>NSW</td><td>2021</td><td>Male</td></tr>\n",
       "<tr><td>551</td><td>3471</td><td>35556933338</td><td>66.18325079406301</td><td>13b0be6a-20b7-439...</td><td>2021-08-22</td><td>Todd Long</td><td>883 Patty Mountai...</td><td>NSW</td><td>2021</td><td>Male</td></tr>\n",
       "<tr><td>551</td><td>3471</td><td>91772719127</td><td>33.692747732339996</td><td>3750984f-4313-47d...</td><td>2021-08-14</td><td>Todd Long</td><td>883 Patty Mountai...</td><td>NSW</td><td>2021</td><td>Male</td></tr>\n",
       "<tr><td>551</td><td>3471</td><td>29216160692</td><td>171.76081688162495</td><td>f5917c53-caca-4b6...</td><td>2021-08-15</td><td>Todd Long</td><td>883 Patty Mountai...</td><td>NSW</td><td>2021</td><td>Male</td></tr>\n",
       "<tr><td>551</td><td>3471</td><td>32234779638</td><td>80.46099153654205</td><td>b9423d5c-9083-4e6...</td><td>2021-07-15</td><td>Todd Long</td><td>883 Patty Mountai...</td><td>NSW</td><td>2021</td><td>Male</td></tr>\n",
       "<tr><td>551</td><td>3471</td><td>68216911708</td><td>60.713668658695276</td><td>94fbe85c-434a-4e6...</td><td>2021-07-15</td><td>Todd Long</td><td>883 Patty Mountai...</td><td>NSW</td><td>2021</td><td>Male</td></tr>\n",
       "<tr><td>551</td><td>3471</td><td>75034515922</td><td>5.4642431321898375</td><td>12e4b9c7-1738-481...</td><td>2021-07-15</td><td>Todd Long</td><td>883 Patty Mountai...</td><td>NSW</td><td>2021</td><td>Male</td></tr>\n",
       "<tr><td>551</td><td>3471</td><td>24852446429</td><td>56.947518842650844</td><td>8e65c8ee-67f1-411...</td><td>2021-08-16</td><td>Todd Long</td><td>883 Patty Mountai...</td><td>NSW</td><td>2021</td><td>Male</td></tr>\n",
       "<tr><td>551</td><td>3471</td><td>60111071436</td><td>65.18552675559465</td><td>5f7d4237-81ca-4e7...</td><td>2021-08-27</td><td>Todd Long</td><td>883 Patty Mountai...</td><td>NSW</td><td>2021</td><td>Male</td></tr>\n",
       "<tr><td>551</td><td>3471</td><td>22019664345</td><td>41.38591300683678</td><td>d0a09e6d-27b9-445...</td><td>2021-07-23</td><td>Todd Long</td><td>883 Patty Mountai...</td><td>NSW</td><td>2021</td><td>Male</td></tr>\n",
       "<tr><td>551</td><td>3471</td><td>23338656015</td><td>205.42563371167512</td><td>8104669d-ccf3-43a...</td><td>2021-07-23</td><td>Todd Long</td><td>883 Patty Mountai...</td><td>NSW</td><td>2021</td><td>Male</td></tr>\n",
       "<tr><td>551</td><td>3471</td><td>94472466107</td><td>52.08746331531157</td><td>2d9872f8-7bfb-4b9...</td><td>2021-05-21</td><td>Todd Long</td><td>883 Patty Mountai...</td><td>NSW</td><td>2021</td><td>Male</td></tr>\n",
       "<tr><td>551</td><td>3471</td><td>79645157255</td><td>38.86563882630112</td><td>81b41437-e167-419...</td><td>2021-05-21</td><td>Todd Long</td><td>883 Patty Mountai...</td><td>NSW</td><td>2021</td><td>Male</td></tr>\n",
       "<tr><td>551</td><td>3471</td><td>75244502629</td><td>25.044226573432795</td><td>2ced6917-a1d6-4b3...</td><td>2021-05-21</td><td>Todd Long</td><td>883 Patty Mountai...</td><td>NSW</td><td>2021</td><td>Male</td></tr>\n",
       "<tr><td>551</td><td>3471</td><td>25884436429</td><td>497.6997419580171</td><td>dd12bbf6-44ec-42a...</td><td>2021-07-30</td><td>Todd Long</td><td>883 Patty Mountai...</td><td>NSW</td><td>2021</td><td>Male</td></tr>\n",
       "<tr><td>551</td><td>3471</td><td>29936037423</td><td>84.50125683204189</td><td>2e825100-9a9c-447...</td><td>2021-05-28</td><td>Todd Long</td><td>883 Patty Mountai...</td><td>NSW</td><td>2021</td><td>Male</td></tr>\n",
       "<tr><td>551</td><td>3471</td><td>89726005175</td><td>35.35344876130378</td><td>818c3807-db8f-47a...</td><td>2021-08-26</td><td>Todd Long</td><td>883 Patty Mountai...</td><td>NSW</td><td>2021</td><td>Male</td></tr>\n",
       "<tr><td>551</td><td>3471</td><td>68216911708</td><td>43.38612720283835</td><td>ef47dcdf-e73e-437...</td><td>2021-06-25</td><td>Todd Long</td><td>883 Patty Mountai...</td><td>NSW</td><td>2021</td><td>Male</td></tr>\n",
       "</table>\n",
       "only showing top 20 rows\n"
      ],
      "text/plain": [
       "+-----------+-------+------------+------------------+--------------------+--------------+---------+--------------------+-----+--------+------+\n",
       "|consumer_id|user_id|merchant_abn|      dollar_value|            order_id|order_datetime|     name|             address|state|postcode|gender|\n",
       "+-----------+-------+------------+------------------+--------------------+--------------+---------+--------------------+-----+--------+------+\n",
       "|        551|   3471| 68216911708|  39.2325218595659|c921263e-489e-45a...|    2021-08-21|Todd Long|883 Patty Mountai...|  NSW|    2021|  Male|\n",
       "|        551|   3471| 77698107389| 90.16967584866273|aaea14f5-48e8-4ef...|    2021-08-21|Todd Long|883 Patty Mountai...|  NSW|    2021|  Male|\n",
       "|        551|   3471| 46451548968|3.8405569898888428|7e8e7fca-04a1-4f2...|    2021-08-19|Todd Long|883 Patty Mountai...|  NSW|    2021|  Male|\n",
       "|        551|   3471| 35556933338| 66.18325079406301|13b0be6a-20b7-439...|    2021-08-22|Todd Long|883 Patty Mountai...|  NSW|    2021|  Male|\n",
       "|        551|   3471| 91772719127|33.692747732339996|3750984f-4313-47d...|    2021-08-14|Todd Long|883 Patty Mountai...|  NSW|    2021|  Male|\n",
       "|        551|   3471| 29216160692|171.76081688162495|f5917c53-caca-4b6...|    2021-08-15|Todd Long|883 Patty Mountai...|  NSW|    2021|  Male|\n",
       "|        551|   3471| 32234779638| 80.46099153654205|b9423d5c-9083-4e6...|    2021-07-15|Todd Long|883 Patty Mountai...|  NSW|    2021|  Male|\n",
       "|        551|   3471| 68216911708|60.713668658695276|94fbe85c-434a-4e6...|    2021-07-15|Todd Long|883 Patty Mountai...|  NSW|    2021|  Male|\n",
       "|        551|   3471| 75034515922|5.4642431321898375|12e4b9c7-1738-481...|    2021-07-15|Todd Long|883 Patty Mountai...|  NSW|    2021|  Male|\n",
       "|        551|   3471| 24852446429|56.947518842650844|8e65c8ee-67f1-411...|    2021-08-16|Todd Long|883 Patty Mountai...|  NSW|    2021|  Male|\n",
       "|        551|   3471| 60111071436| 65.18552675559465|5f7d4237-81ca-4e7...|    2021-08-27|Todd Long|883 Patty Mountai...|  NSW|    2021|  Male|\n",
       "|        551|   3471| 22019664345| 41.38591300683678|d0a09e6d-27b9-445...|    2021-07-23|Todd Long|883 Patty Mountai...|  NSW|    2021|  Male|\n",
       "|        551|   3471| 23338656015|205.42563371167512|8104669d-ccf3-43a...|    2021-07-23|Todd Long|883 Patty Mountai...|  NSW|    2021|  Male|\n",
       "|        551|   3471| 94472466107| 52.08746331531157|2d9872f8-7bfb-4b9...|    2021-05-21|Todd Long|883 Patty Mountai...|  NSW|    2021|  Male|\n",
       "|        551|   3471| 79645157255| 38.86563882630112|81b41437-e167-419...|    2021-05-21|Todd Long|883 Patty Mountai...|  NSW|    2021|  Male|\n",
       "|        551|   3471| 75244502629|25.044226573432795|2ced6917-a1d6-4b3...|    2021-05-21|Todd Long|883 Patty Mountai...|  NSW|    2021|  Male|\n",
       "|        551|   3471| 25884436429| 497.6997419580171|dd12bbf6-44ec-42a...|    2021-07-30|Todd Long|883 Patty Mountai...|  NSW|    2021|  Male|\n",
       "|        551|   3471| 29936037423| 84.50125683204189|2e825100-9a9c-447...|    2021-05-28|Todd Long|883 Patty Mountai...|  NSW|    2021|  Male|\n",
       "|        551|   3471| 89726005175| 35.35344876130378|818c3807-db8f-47a...|    2021-08-26|Todd Long|883 Patty Mountai...|  NSW|    2021|  Male|\n",
       "|        551|   3471| 68216911708| 43.38612720283835|ef47dcdf-e73e-437...|    2021-06-25|Todd Long|883 Patty Mountai...|  NSW|    2021|  Male|\n",
       "+-----------+-------+------------+------------------+--------------------+--------------+---------+--------------------+-----+--------+------+\n",
       "only showing top 20 rows"
      ]
     },
     "execution_count": 15,
     "metadata": {},
     "output_type": "execute_result"
    }
   ],
   "source": [
    "new_join"
   ]
  },
  {
   "cell_type": "markdown",
   "metadata": {},
   "source": [
    "# Groupby merchant abn and postcode"
   ]
  },
  {
   "cell_type": "code",
   "execution_count": 16,
   "metadata": {},
   "outputs": [],
   "source": [
    "data_by_fornight = new_join.groupBy(\"merchant_abn\",\"postcode\")\\\n",
    "    .agg(F.count(\"order_id\").alias(\"count_postcode_merchant\"))"
   ]
  },
  {
   "cell_type": "code",
   "execution_count": 17,
   "metadata": {},
   "outputs": [
    {
     "name": "stderr",
     "output_type": "stream",
     "text": [
      "                                                                                \r"
     ]
    },
    {
     "data": {
      "text/html": [
       "<table border='1'>\n",
       "<tr><th>merchant_abn</th><th>postcode</th><th>count_postcode_merchant</th></tr>\n",
       "<tr><td>95508140753</td><td>4553</td><td>4</td></tr>\n",
       "<tr><td>80324045558</td><td>4055</td><td>76</td></tr>\n",
       "<tr><td>63290521567</td><td>4356</td><td>87</td></tr>\n",
       "<tr><td>52310302169</td><td>7019</td><td>1</td></tr>\n",
       "<tr><td>80785565526</td><td>3687</td><td>2</td></tr>\n",
       "<tr><td>24471518053</td><td>3013</td><td>1</td></tr>\n",
       "<tr><td>65674339048</td><td>5307</td><td>2</td></tr>\n",
       "<tr><td>49891706470</td><td>3165</td><td>62</td></tr>\n",
       "<tr><td>19237425345</td><td>3529</td><td>4</td></tr>\n",
       "<tr><td>14430838529</td><td>7024</td><td>6</td></tr>\n",
       "<tr><td>46380096952</td><td>4401</td><td>4</td></tr>\n",
       "<tr><td>90087872851</td><td>2642</td><td>6</td></tr>\n",
       "<tr><td>52959528548</td><td>4550</td><td>18</td></tr>\n",
       "<tr><td>80551528183</td><td>2590</td><td>4</td></tr>\n",
       "<tr><td>89726005175</td><td>4508</td><td>48</td></tr>\n",
       "<tr><td>45629217853</td><td>3687</td><td>103</td></tr>\n",
       "<tr><td>49505931725</td><td>3595</td><td>26</td></tr>\n",
       "<tr><td>29566626791</td><td>2090</td><td>6</td></tr>\n",
       "<tr><td>49322182190</td><td>3302</td><td>18</td></tr>\n",
       "<tr><td>63290521567</td><td>5641</td><td>62</td></tr>\n",
       "</table>\n",
       "only showing top 20 rows\n"
      ],
      "text/plain": [
       "+------------+--------+-----------------------+\n",
       "|merchant_abn|postcode|count_postcode_merchant|\n",
       "+------------+--------+-----------------------+\n",
       "| 95508140753|    4553|                      4|\n",
       "| 80324045558|    4055|                     76|\n",
       "| 63290521567|    4356|                     87|\n",
       "| 52310302169|    7019|                      1|\n",
       "| 80785565526|    3687|                      2|\n",
       "| 24471518053|    3013|                      1|\n",
       "| 65674339048|    5307|                      2|\n",
       "| 49891706470|    3165|                     62|\n",
       "| 19237425345|    3529|                      4|\n",
       "| 14430838529|    7024|                      6|\n",
       "| 46380096952|    4401|                      4|\n",
       "| 90087872851|    2642|                      6|\n",
       "| 52959528548|    4550|                     18|\n",
       "| 80551528183|    2590|                      4|\n",
       "| 89726005175|    4508|                     48|\n",
       "| 45629217853|    3687|                    103|\n",
       "| 49505931725|    3595|                     26|\n",
       "| 29566626791|    2090|                      6|\n",
       "| 49322182190|    3302|                     18|\n",
       "| 63290521567|    5641|                     62|\n",
       "+------------+--------+-----------------------+\n",
       "only showing top 20 rows"
      ]
     },
     "execution_count": 17,
     "metadata": {},
     "output_type": "execute_result"
    }
   ],
   "source": [
    "data_by_fornight"
   ]
  },
  {
   "cell_type": "code",
   "execution_count": 18,
   "metadata": {},
   "outputs": [],
   "source": [
    "totalorder_perfor_merchant = new_join.groupBy(\"merchant_abn\")\\\n",
    "    .agg(F.count(\"order_id\").alias(\"total_order_per_fornight\"))"
   ]
  },
  {
   "cell_type": "code",
   "execution_count": 21,
   "metadata": {},
   "outputs": [
    {
     "name": "stderr",
     "output_type": "stream",
     "text": [
      "                                                                                \r"
     ]
    },
    {
     "data": {
      "text/html": [
       "<table border='1'>\n",
       "<tr><th>merchant_abn</th><th>total_order_per_fornight</th></tr>\n",
       "<tr><td>38700038932</td><td>5117</td></tr>\n",
       "<tr><td>15613631617</td><td>1309</td></tr>\n",
       "<tr><td>19839532017</td><td>557</td></tr>\n",
       "<tr><td>73256306726</td><td>3824</td></tr>\n",
       "<tr><td>35344855546</td><td>1103</td></tr>\n",
       "<tr><td>83412691377</td><td>10241</td></tr>\n",
       "<tr><td>24406529929</td><td>3000</td></tr>\n",
       "<tr><td>73841664453</td><td>692</td></tr>\n",
       "<tr><td>78916025936</td><td>48</td></tr>\n",
       "<tr><td>60654402457</td><td>128</td></tr>\n",
       "<tr><td>92202115241</td><td>83</td></tr>\n",
       "<tr><td>52763133264</td><td>100</td></tr>\n",
       "<tr><td>48214071373</td><td>385</td></tr>\n",
       "<tr><td>41956465747</td><td>206</td></tr>\n",
       "<tr><td>56395390867</td><td>31</td></tr>\n",
       "<tr><td>34440496342</td><td>162</td></tr>\n",
       "<tr><td>12516851436</td><td>158</td></tr>\n",
       "<tr><td>96946925998</td><td>92</td></tr>\n",
       "<tr><td>57798993346</td><td>11</td></tr>\n",
       "<tr><td>38986645707</td><td>29</td></tr>\n",
       "</table>\n",
       "only showing top 20 rows\n"
      ],
      "text/plain": [
       "DataFrame[merchant_abn: bigint, total_order_per_fornight: bigint]"
      ]
     },
     "execution_count": 21,
     "metadata": {},
     "output_type": "execute_result"
    }
   ],
   "source": [
    "totalorder_perfor_merchant"
   ]
  },
  {
   "cell_type": "code",
   "execution_count": 23,
   "metadata": {},
   "outputs": [],
   "source": [
    "# data_by_fornight.withColumn(\"postcode_dict\",F.to_json(F.struct(\"postcode\", \"count_postcode_merchant\"))).show(truncate=False)\n",
    "cond = [\"merchant_abn\"]\n",
    "data_by_fornight = data_by_fornight.join(totalorder_perfor_merchant, cond, \"inner\")"
   ]
  },
  {
   "cell_type": "code",
   "execution_count": 24,
   "metadata": {},
   "outputs": [],
   "source": [
    "data_by_fornight = data_by_fornight.withColumn(\"proportion_of_postcode\", (data_by_fornight.count_postcode_merchant/data_by_fornight.total_order_per_fornight))"
   ]
  },
  {
   "cell_type": "code",
   "execution_count": 25,
   "metadata": {},
   "outputs": [
    {
     "name": "stderr",
     "output_type": "stream",
     "text": [
      "                                                                                \r"
     ]
    },
    {
     "name": "stdout",
     "output_type": "stream",
     "text": [
      "22/09/28 21:10:32 WARN HeartbeatReceiver: Removing executor driver with no recent heartbeats: 943353 ms exceeds timeout 120000 ms\n",
      "22/09/28 21:10:32 WARN SparkContext: Killing executors is not supported by current scheduler.\n"
     ]
    }
   ],
   "source": [
    "data_by_fornight.toPandas().to_csv('../data/curated/Grouping_bytotal.csv', index = False)"
   ]
  },
  {
   "cell_type": "code",
   "execution_count": 57,
   "metadata": {},
   "outputs": [
    {
     "name": "stderr",
     "output_type": "stream",
     "text": [
      "                                                                                \r"
     ]
    },
    {
     "data": {
      "text/html": [
       "<table border='1'>\n",
       "<tr><th>merchant_abn</th><th>Fortnight</th><th>postcode</th><th>count_postcode_merchant</th><th>total_order_per_fornight</th><th>proportion_of_postcode</th></tr>\n",
       "<tr><td>10206519221</td><td>1</td><td>6068</td><td>1</td><td>151</td><td>0.006622516556291391</td></tr>\n",
       "<tr><td>10206519221</td><td>1</td><td>2565</td><td>1</td><td>151</td><td>0.006622516556291391</td></tr>\n",
       "<tr><td>10206519221</td><td>1</td><td>6411</td><td>1</td><td>151</td><td>0.006622516556291391</td></tr>\n",
       "<tr><td>10206519221</td><td>1</td><td>5372</td><td>1</td><td>151</td><td>0.006622516556291391</td></tr>\n",
       "<tr><td>10206519221</td><td>1</td><td>6438</td><td>1</td><td>151</td><td>0.006622516556291391</td></tr>\n",
       "<tr><td>10206519221</td><td>1</td><td>2753</td><td>1</td><td>151</td><td>0.006622516556291391</td></tr>\n",
       "<tr><td>10206519221</td><td>1</td><td>4072</td><td>1</td><td>151</td><td>0.006622516556291391</td></tr>\n",
       "<tr><td>10206519221</td><td>1</td><td>4673</td><td>1</td><td>151</td><td>0.006622516556291391</td></tr>\n",
       "<tr><td>10206519221</td><td>1</td><td>3920</td><td>1</td><td>151</td><td>0.006622516556291391</td></tr>\n",
       "<tr><td>10206519221</td><td>1</td><td>6227</td><td>1</td><td>151</td><td>0.006622516556291391</td></tr>\n",
       "<tr><td>10206519221</td><td>1</td><td>6153</td><td>1</td><td>151</td><td>0.006622516556291391</td></tr>\n",
       "<tr><td>10206519221</td><td>1</td><td>2707</td><td>1</td><td>151</td><td>0.006622516556291391</td></tr>\n",
       "<tr><td>10206519221</td><td>1</td><td>4713</td><td>1</td><td>151</td><td>0.006622516556291391</td></tr>\n",
       "<tr><td>10206519221</td><td>1</td><td>2765</td><td>2</td><td>151</td><td>0.013245033112582781</td></tr>\n",
       "<tr><td>10206519221</td><td>1</td><td>3589</td><td>1</td><td>151</td><td>0.006622516556291391</td></tr>\n",
       "<tr><td>10206519221</td><td>1</td><td>6701</td><td>1</td><td>151</td><td>0.006622516556291391</td></tr>\n",
       "<tr><td>10206519221</td><td>1</td><td>7184</td><td>1</td><td>151</td><td>0.006622516556291391</td></tr>\n",
       "<tr><td>10206519221</td><td>1</td><td>4694</td><td>1</td><td>151</td><td>0.006622516556291391</td></tr>\n",
       "<tr><td>10206519221</td><td>1</td><td>3758</td><td>1</td><td>151</td><td>0.006622516556291391</td></tr>\n",
       "<tr><td>10206519221</td><td>1</td><td>4680</td><td>1</td><td>151</td><td>0.006622516556291391</td></tr>\n",
       "</table>\n",
       "only showing top 20 rows\n"
      ],
      "text/plain": [
       "+------------+---------+--------+-----------------------+------------------------+----------------------+\n",
       "|merchant_abn|Fortnight|postcode|count_postcode_merchant|total_order_per_fornight|proportion_of_postcode|\n",
       "+------------+---------+--------+-----------------------+------------------------+----------------------+\n",
       "| 10206519221|        1|    6068|                      1|                     151|  0.006622516556291391|\n",
       "| 10206519221|        1|    2565|                      1|                     151|  0.006622516556291391|\n",
       "| 10206519221|        1|    6411|                      1|                     151|  0.006622516556291391|\n",
       "| 10206519221|        1|    5372|                      1|                     151|  0.006622516556291391|\n",
       "| 10206519221|        1|    6438|                      1|                     151|  0.006622516556291391|\n",
       "| 10206519221|        1|    2753|                      1|                     151|  0.006622516556291391|\n",
       "| 10206519221|        1|    4072|                      1|                     151|  0.006622516556291391|\n",
       "| 10206519221|        1|    4673|                      1|                     151|  0.006622516556291391|\n",
       "| 10206519221|        1|    3920|                      1|                     151|  0.006622516556291391|\n",
       "| 10206519221|        1|    6227|                      1|                     151|  0.006622516556291391|\n",
       "| 10206519221|        1|    6153|                      1|                     151|  0.006622516556291391|\n",
       "| 10206519221|        1|    2707|                      1|                     151|  0.006622516556291391|\n",
       "| 10206519221|        1|    4713|                      1|                     151|  0.006622516556291391|\n",
       "| 10206519221|        1|    2765|                      2|                     151|  0.013245033112582781|\n",
       "| 10206519221|        1|    3589|                      1|                     151|  0.006622516556291391|\n",
       "| 10206519221|        1|    6701|                      1|                     151|  0.006622516556291391|\n",
       "| 10206519221|        1|    7184|                      1|                     151|  0.006622516556291391|\n",
       "| 10206519221|        1|    4694|                      1|                     151|  0.006622516556291391|\n",
       "| 10206519221|        1|    3758|                      1|                     151|  0.006622516556291391|\n",
       "| 10206519221|        1|    4680|                      1|                     151|  0.006622516556291391|\n",
       "+------------+---------+--------+-----------------------+------------------------+----------------------+\n",
       "only showing top 20 rows"
      ]
     },
     "execution_count": 57,
     "metadata": {},
     "output_type": "execute_result"
    }
   ],
   "source": [
    "data_by_fornight"
   ]
  },
  {
   "cell_type": "code",
   "execution_count": null,
   "metadata": {},
   "outputs": [],
   "source": []
  }
 ],
 "metadata": {
  "kernelspec": {
   "display_name": "Python 3.8.9 64-bit",
   "language": "python",
   "name": "python3"
  },
  "language_info": {
   "codemirror_mode": {
    "name": "ipython",
    "version": 3
   },
   "file_extension": ".py",
   "mimetype": "text/x-python",
   "name": "python",
   "nbconvert_exporter": "python",
   "pygments_lexer": "ipython3",
   "version": "3.8.9"
  },
  "orig_nbformat": 4,
  "vscode": {
   "interpreter": {
    "hash": "31f2aee4e71d21fbe5cf8b01ff0e069b9275f58929596ceb00d14d90e3e16cd6"
   }
  }
 },
 "nbformat": 4,
 "nbformat_minor": 2
}
