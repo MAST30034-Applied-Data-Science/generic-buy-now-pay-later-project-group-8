{
 "cells": [
  {
   "cell_type": "code",
   "execution_count": 55,
   "metadata": {},
   "outputs": [],
   "source": [
    "from pyspark.sql import SparkSession\n",
    "from pyspark.sql import functions as F\n",
    "from pyspark.sql import DataFrameStatFunctions as statFunc\n",
    "from sklearn.model_selection import train_test_split\n",
    "from sklearn.ensemble import RandomForestRegressor\n",
    "import xgboost\n",
    "import sklearn\n"
   ]
  },
  {
   "cell_type": "code",
   "execution_count": 56,
   "metadata": {},
   "outputs": [],
   "source": [
    "spark = (\n",
    "    SparkSession.builder.appName(\"preprocessing of taxi data\")\n",
    "    .config(\"spark.sql.repl.eagerEval.enabled\", True) \n",
    "    .config(\"spark.sql.parquet.cacheMetadata\", \"true\")\n",
    "    .config(\"spark.sql.session.timeZone\", \"Etc/UTC\")\n",
    "    .config(\"spark.driver.memory\", \"15g\")\n",
    "    .getOrCreate()\n",
    ")"
   ]
  },
  {
   "cell_type": "code",
   "execution_count": 57,
   "metadata": {},
   "outputs": [],
   "source": [
    "transaction_20210828_20220227_sdf = spark.read.parquet(\"../data/curated/transactions_20210828_20220227_all_details\")\n",
    "transaction_20210228_20210827_sdf = spark.read.parquet(\"../data/curated/transactions_20210228_20210827_all_details\")\n",
    "transaction_20210228_20210827_sdf = spark.read.parquet(\"../data/curated/transactions_20220228_20220828_all_details\")\n",
    "transaction_sdf = transaction_20210828_20220227_sdf \\\n",
    "                    .union(transaction_20210228_20210827_sdf) \\\n",
    "                    .union(transaction_20210228_20210827_sdf)"
   ]
  },
  {
   "cell_type": "code",
   "execution_count": null,
   "metadata": {},
   "outputs": [],
   "source": [
    "monthly_agg = transaction_sdf.groupBy(\n",
    "    \"merchant_abn\",\n",
    "    F.year(\"order_datetime\"),\n",
    "    F.month(\"order_datetime\")\n",
    "    ) \\\n",
    "    .agg(\n",
    "      F.count(\"order_id\").alias(\"number_of_order\"),\n",
    "      F.sum(\"dollar_value\").alias(\"total_dollar_value\")\n",
    "    ) \\\n",
    "    .groupBy(\"merchant_abn\") \\\n",
    "    .agg(\n",
    "      F.mean(\"number_of_order\").alias(\"monthly_average_number_of_orders\"),\n",
    "      F.mean(\"total_dollar_value\").alias(\"monthly_average_bnpl_revenue\"),\n",
    "      F.stddev(\"total_dollar_value\").alias(\"stddev_of_monthly_average_bnpl_revenue\")\n",
    "    )\n",
    "\n",
    "agg_transaction_pred_sdf = transaction_sdf.filter(F.col(\"merchant_name\").isNull()) \\\n",
    "                                          .groupBy(\"merchant_abn\") \\\n",
    "                                          .agg(\n",
    "                                               F.countDistinct(\"consumer_id\").alias(\"total_number_of_distinct_customers\"),\n",
    "                                               F.stddev(\"dollar_value\").alias(\"stddev_of_dorllar_value\"),\n",
    "                                               F.mean(\"dollar_value\").alias(\"average_dollar_value\"),\n",
    "                                               F.percentile_approx(\"dollar_value\", 0.5).alias(\"median_dollar_value\")\n",
    "                                               ) \\\n",
    "                                          .join(\n",
    "                                            monthly_agg,\n",
    "                                            ['merchant_abn', ],\n",
    "                                            \"left\"\n",
    "                                          ) \\\n",
    "                                          .write.csv(\"agg_transaction_pred.csv\")\n",
    "\n",
    "\n",
    "\n",
    "agg_transaction_train_sdf = transaction_sdf.filter(F.col(\"merchant_name\").isNotNull()) \\\n",
    "                                          .groupBy(\"merchant_abn\") \\\n",
    "                                          .agg(\n",
    "                                               F.countDistinct(\"consumer_id\").alias(\"total_number_of_distinct_customers\"),\n",
    "                                               F.stddev(\"dollar_value\").alias(\"stddev_of_dorllar_value\"),\n",
    "                                               F.mean(\"dollar_value\").alias(\"average_dollar_value\"),\n",
    "                                               F.percentile_approx(\"dollar_value\", 0.5).alias(\"median_dollar_value\")\n",
    "                                               ) \\\n",
    "                                          .join(\n",
    "                                            monthly_agg,\n",
    "                                            ['merchant_abn', ],\n",
    "                                            \"left\"\n",
    "                                          ) \\\n",
    "                                          .write.csv(\"agg_transaction_train.csv\")"
   ]
  },
  {
   "cell_type": "code",
   "execution_count": 5,
   "metadata": {},
   "outputs": [
    {
     "name": "stderr",
     "output_type": "stream",
     "text": [
      "                                                                                \r"
     ]
    },
    {
     "data": {
      "text/html": [
       "<table border='1'>\n",
       "<tr><th>user_id</th><th>merchant_abn</th><th>dollar_value</th><th>order_id</th><th>order_datetime</th><th>merchant_name</th><th>prod_desc</th><th>revenue_level</th><th>take_rate</th><th>consumer_name</th><th>address</th><th>state</th><th>postcode</th><th>gender</th><th>consumer_id</th></tr>\n",
       "<tr><td>7</td><td>71041015148</td><td>226.70111326425848</td><td>ba1c3c0b-6143-49c...</td><td>2021-11-26</td><td>Orci Ltd</td><td>digital goods: bo...</td><td>c</td><td>2.1</td><td>Andrea Jones</td><td>122 Brandon Cliff</td><td>QLD</td><td>4606</td><td>Female</td><td>511685</td></tr>\n",
       "<tr><td>7</td><td>14492521225</td><td>28.69248621050033</td><td>c82c2951-6a2c-4bf...</td><td>2021-11-26</td><td>Praesent Eu Assoc...</td><td>tent and awning s...</td><td>c</td><td>2.5</td><td>Andrea Jones</td><td>122 Brandon Cliff</td><td>QLD</td><td>4606</td><td>Female</td><td>511685</td></tr>\n",
       "<tr><td>7</td><td>68004106739</td><td>93.96901941736229</td><td>40d71489-2203-485...</td><td>2021-11-26</td><td>Nec Ante Ltd</td><td>cable, satellite,...</td><td>a</td><td>5.6</td><td>Andrea Jones</td><td>122 Brandon Cliff</td><td>QLD</td><td>4606</td><td>Female</td><td>511685</td></tr>\n",
       "<tr><td>7</td><td>34096466752</td><td>92.43454448910457</td><td>293dc228-8398-49f...</td><td>2021-11-29</td><td>Nullam Enim Ltd</td><td>computers, comput...</td><td>b</td><td>3.2</td><td>Andrea Jones</td><td>122 Brandon Cliff</td><td>QLD</td><td>4606</td><td>Female</td><td>511685</td></tr>\n",
       "<tr><td>7</td><td>62773208456</td><td>24.606053328805864</td><td>918d63ec-d125-43b...</td><td>2021-11-29</td><td>Ac Institute</td><td>watch, clock, and...</td><td>c</td><td>2.6</td><td>Andrea Jones</td><td>122 Brandon Cliff</td><td>QLD</td><td>4606</td><td>Female</td><td>511685</td></tr>\n",
       "<tr><td>7</td><td>67874735704</td><td>871.400942067755</td><td>0dc0a909-7b11-423...</td><td>2021-11-29</td><td>Ultricies Adipisc...</td><td>florists supplies...</td><td>c</td><td>2.0</td><td>Andrea Jones</td><td>122 Brandon Cliff</td><td>QLD</td><td>4606</td><td>Female</td><td>511685</td></tr>\n",
       "<tr><td>7</td><td>36125151647</td><td>22.37653874205458</td><td>ebd96051-41c5-44d...</td><td>2021-11-29</td><td>Sed Nec Corp.</td><td>hobby, toy and ga...</td><td>c</td><td>1.8</td><td>Andrea Jones</td><td>122 Brandon Cliff</td><td>QLD</td><td>4606</td><td>Female</td><td>511685</td></tr>\n",
       "<tr><td>7</td><td>86578477987</td><td>14.932370248640328</td><td>b13248d9-3c6d-4b0...</td><td>2021-11-29</td><td>Leo In Consulting</td><td>watch, clock, and...</td><td>a</td><td>6.4</td><td>Andrea Jones</td><td>122 Brandon Cliff</td><td>QLD</td><td>4606</td><td>Female</td><td>511685</td></tr>\n",
       "<tr><td>7</td><td>48534649627</td><td>16.362338872391526</td><td>96a5d5f4-2f24-4c9...</td><td>2021-11-29</td><td>Dignissim Maecena...</td><td>opticians, optica...</td><td>a</td><td>6.6</td><td>Andrea Jones</td><td>122 Brandon Cliff</td><td>QLD</td><td>4606</td><td>Female</td><td>511685</td></tr>\n",
       "<tr><td>7</td><td>76767266140</td><td>144.7959046161148</td><td>734de9e3-dcc1-4da...</td><td>2021-11-29</td><td>Phasellus At Limited</td><td>furniture, home f...</td><td>b</td><td>4.6</td><td>Andrea Jones</td><td>122 Brandon Cliff</td><td>QLD</td><td>4606</td><td>Female</td><td>511685</td></tr>\n",
       "<tr><td>7</td><td>41383736952</td><td>101.64172516104321</td><td>5f0ab0bc-bc87-43b...</td><td>2021-11-27</td><td>Lacus Vestibulum ...</td><td>cable, satellite,...</td><td>c</td><td>2.2</td><td>Andrea Jones</td><td>122 Brandon Cliff</td><td>QLD</td><td>4606</td><td>Female</td><td>511685</td></tr>\n",
       "<tr><td>7</td><td>53062283717</td><td>517.1441566601612</td><td>0f8423ad-3603-482...</td><td>2021-11-27</td><td>Mi Felis Adipisci...</td><td>shoe shops</td><td>b</td><td>3.9</td><td>Andrea Jones</td><td>122 Brandon Cliff</td><td>QLD</td><td>4606</td><td>Female</td><td>511685</td></tr>\n",
       "<tr><td>7</td><td>20562405782</td><td>259.6708286617462</td><td>658c8df3-5585-426...</td><td>2021-11-27</td><td>null</td><td>null</td><td>null</td><td>null</td><td>Andrea Jones</td><td>122 Brandon Cliff</td><td>QLD</td><td>4606</td><td>Female</td><td>511685</td></tr>\n",
       "<tr><td>7</td><td>90173050473</td><td>77.2055190980007</td><td>70a39380-1629-495...</td><td>2021-11-27</td><td>Lobortis Class In...</td><td>lawn and garden s...</td><td>c</td><td>2.4</td><td>Andrea Jones</td><td>122 Brandon Cliff</td><td>QLD</td><td>4606</td><td>Female</td><td>511685</td></tr>\n",
       "<tr><td>7</td><td>55955609006</td><td>282.9963674808017</td><td>b0bbf79a-b061-4cc...</td><td>2021-11-28</td><td>Nec Enim Nunc LLP</td><td>cable, satellite,...</td><td>b</td><td>3.5</td><td>Andrea Jones</td><td>122 Brandon Cliff</td><td>QLD</td><td>4606</td><td>Female</td><td>511685</td></tr>\n",
       "<tr><td>7</td><td>76224940587</td><td>33.76890828698926</td><td>2b71f04f-f06f-474...</td><td>2021-12-26</td><td>null</td><td>null</td><td>null</td><td>null</td><td>Andrea Jones</td><td>122 Brandon Cliff</td><td>QLD</td><td>4606</td><td>Female</td><td>511685</td></tr>\n",
       "<tr><td>7</td><td>94455880010</td><td>42.796486321940655</td><td>794c942e-b2af-401...</td><td>2021-12-26</td><td>Nunc Sit LLC</td><td>computer programm...</td><td>a</td><td>6.3</td><td>Andrea Jones</td><td>122 Brandon Cliff</td><td>QLD</td><td>4606</td><td>Female</td><td>511685</td></tr>\n",
       "<tr><td>7</td><td>94690988633</td><td>524.973634094268</td><td>1730386c-3ed4-41e...</td><td>2021-12-26</td><td>Eu Placerat LLC</td><td>computers, comput...</td><td>a</td><td>6.1</td><td>Andrea Jones</td><td>122 Brandon Cliff</td><td>QLD</td><td>4606</td><td>Female</td><td>511685</td></tr>\n",
       "<tr><td>7</td><td>31736633670</td><td>164.5183024205047</td><td>3810de38-d78e-48f...</td><td>2021-12-26</td><td>Vel Pede Blandit ...</td><td>digital goods: bo...</td><td>a</td><td>6.3</td><td>Andrea Jones</td><td>122 Brandon Cliff</td><td>QLD</td><td>4606</td><td>Female</td><td>511685</td></tr>\n",
       "<tr><td>7</td><td>68216911708</td><td>38.27652819575883</td><td>86eb71c9-5397-4b3...</td><td>2021-11-30</td><td>Placerat Eget Ven...</td><td>computers, comput...</td><td>c</td><td>3.0</td><td>Andrea Jones</td><td>122 Brandon Cliff</td><td>QLD</td><td>4606</td><td>Female</td><td>511685</td></tr>\n",
       "</table>\n",
       "only showing top 20 rows\n"
      ],
      "text/plain": [
       "+-------+------------+------------------+--------------------+--------------+--------------------+--------------------+-------------+---------+-------------+-----------------+-----+--------+------+-----------+\n",
       "|user_id|merchant_abn|      dollar_value|            order_id|order_datetime|       merchant_name|           prod_desc|revenue_level|take_rate|consumer_name|          address|state|postcode|gender|consumer_id|\n",
       "+-------+------------+------------------+--------------------+--------------+--------------------+--------------------+-------------+---------+-------------+-----------------+-----+--------+------+-----------+\n",
       "|      7| 71041015148|226.70111326425848|ba1c3c0b-6143-49c...|    2021-11-26|            Orci Ltd|digital goods: bo...|            c|      2.1| Andrea Jones|122 Brandon Cliff|  QLD|    4606|Female|     511685|\n",
       "|      7| 14492521225| 28.69248621050033|c82c2951-6a2c-4bf...|    2021-11-26|Praesent Eu Assoc...|tent and awning s...|            c|      2.5| Andrea Jones|122 Brandon Cliff|  QLD|    4606|Female|     511685|\n",
       "|      7| 68004106739| 93.96901941736229|40d71489-2203-485...|    2021-11-26|        Nec Ante Ltd|cable, satellite,...|            a|      5.6| Andrea Jones|122 Brandon Cliff|  QLD|    4606|Female|     511685|\n",
       "|      7| 34096466752| 92.43454448910457|293dc228-8398-49f...|    2021-11-29|     Nullam Enim Ltd|computers, comput...|            b|      3.2| Andrea Jones|122 Brandon Cliff|  QLD|    4606|Female|     511685|\n",
       "|      7| 62773208456|24.606053328805864|918d63ec-d125-43b...|    2021-11-29|        Ac Institute|watch, clock, and...|            c|      2.6| Andrea Jones|122 Brandon Cliff|  QLD|    4606|Female|     511685|\n",
       "|      7| 67874735704|  871.400942067755|0dc0a909-7b11-423...|    2021-11-29|Ultricies Adipisc...|florists supplies...|            c|      2.0| Andrea Jones|122 Brandon Cliff|  QLD|    4606|Female|     511685|\n",
       "|      7| 36125151647| 22.37653874205458|ebd96051-41c5-44d...|    2021-11-29|       Sed Nec Corp.|hobby, toy and ga...|            c|      1.8| Andrea Jones|122 Brandon Cliff|  QLD|    4606|Female|     511685|\n",
       "|      7| 86578477987|14.932370248640328|b13248d9-3c6d-4b0...|    2021-11-29|   Leo In Consulting|watch, clock, and...|            a|      6.4| Andrea Jones|122 Brandon Cliff|  QLD|    4606|Female|     511685|\n",
       "|      7| 48534649627|16.362338872391526|96a5d5f4-2f24-4c9...|    2021-11-29|Dignissim Maecena...|opticians, optica...|            a|      6.6| Andrea Jones|122 Brandon Cliff|  QLD|    4606|Female|     511685|\n",
       "|      7| 76767266140| 144.7959046161148|734de9e3-dcc1-4da...|    2021-11-29|Phasellus At Limited|furniture, home f...|            b|      4.6| Andrea Jones|122 Brandon Cliff|  QLD|    4606|Female|     511685|\n",
       "|      7| 41383736952|101.64172516104321|5f0ab0bc-bc87-43b...|    2021-11-27|Lacus Vestibulum ...|cable, satellite,...|            c|      2.2| Andrea Jones|122 Brandon Cliff|  QLD|    4606|Female|     511685|\n",
       "|      7| 53062283717| 517.1441566601612|0f8423ad-3603-482...|    2021-11-27|Mi Felis Adipisci...|          shoe shops|            b|      3.9| Andrea Jones|122 Brandon Cliff|  QLD|    4606|Female|     511685|\n",
       "|      7| 20562405782| 259.6708286617462|658c8df3-5585-426...|    2021-11-27|                null|                null|         null|     null| Andrea Jones|122 Brandon Cliff|  QLD|    4606|Female|     511685|\n",
       "|      7| 90173050473|  77.2055190980007|70a39380-1629-495...|    2021-11-27|Lobortis Class In...|lawn and garden s...|            c|      2.4| Andrea Jones|122 Brandon Cliff|  QLD|    4606|Female|     511685|\n",
       "|      7| 55955609006| 282.9963674808017|b0bbf79a-b061-4cc...|    2021-11-28|   Nec Enim Nunc LLP|cable, satellite,...|            b|      3.5| Andrea Jones|122 Brandon Cliff|  QLD|    4606|Female|     511685|\n",
       "|      7| 76224940587| 33.76890828698926|2b71f04f-f06f-474...|    2021-12-26|                null|                null|         null|     null| Andrea Jones|122 Brandon Cliff|  QLD|    4606|Female|     511685|\n",
       "|      7| 94455880010|42.796486321940655|794c942e-b2af-401...|    2021-12-26|        Nunc Sit LLC|computer programm...|            a|      6.3| Andrea Jones|122 Brandon Cliff|  QLD|    4606|Female|     511685|\n",
       "|      7| 94690988633|  524.973634094268|1730386c-3ed4-41e...|    2021-12-26|     Eu Placerat LLC|computers, comput...|            a|      6.1| Andrea Jones|122 Brandon Cliff|  QLD|    4606|Female|     511685|\n",
       "|      7| 31736633670| 164.5183024205047|3810de38-d78e-48f...|    2021-12-26|Vel Pede Blandit ...|digital goods: bo...|            a|      6.3| Andrea Jones|122 Brandon Cliff|  QLD|    4606|Female|     511685|\n",
       "|      7| 68216911708| 38.27652819575883|86eb71c9-5397-4b3...|    2021-11-30|Placerat Eget Ven...|computers, comput...|            c|      3.0| Andrea Jones|122 Brandon Cliff|  QLD|    4606|Female|     511685|\n",
       "+-------+------------+------------------+--------------------+--------------+--------------------+--------------------+-------------+---------+-------------+-----------------+-----+--------+------+-----------+\n",
       "only showing top 20 rows"
      ]
     },
     "execution_count": 5,
     "metadata": {},
     "output_type": "execute_result"
    }
   ],
   "source": [
    "transaction_sdf"
   ]
  },
  {
   "cell_type": "markdown",
   "metadata": {},
   "source": [
    "# Getting the data that need to be predicted"
   ]
  },
  {
   "cell_type": "code",
   "execution_count": 6,
   "metadata": {},
   "outputs": [
    {
     "name": "stderr",
     "output_type": "stream",
     "text": [
      "                                                                                \r"
     ]
    },
    {
     "data": {
      "text/html": [
       "<table border='1'>\n",
       "<tr><th>merchant_abn</th><th>distinct_consumer_count</th><th>order_count</th><th>total_revenue</th><th>dollar_value_standard_dev</th><th>dollar_per_order</th><th>median_dollar_value</th></tr>\n",
       "<tr><td>24406529929</td><td>2943</td><td>4968</td><td>327429.3857203502</td><td>65.83948623583439</td><td>65.90768633662444</td><td>45.96901058385736</td></tr>\n",
       "<tr><td>28767881738</td><td>3</td><td>4</td><td>16538.731756372705</td><td>2543.5079878257584</td><td>4134.682939093176</td><td>2883.3416199954663</td></tr>\n",
       "<tr><td>56395390867</td><td>38</td><td>58</td><td>55589.8695520354</td><td>637.1183882996874</td><td>958.446026759231</td><td>861.6872806970155</td></tr>\n",
       "<tr><td>98345415950</td><td>8</td><td>12</td><td>105269.44253670526</td><td>7913.006782425887</td><td>8772.453544725438</td><td>3896.2083408209987</td></tr>\n",
       "<tr><td>45925655949</td><td>67</td><td>99</td><td>771700.7514011513</td><td>5544.280890452739</td><td>7794.957084860114</td><td>5929.815410254777</td></tr>\n",
       "<tr><td>18899854203</td><td>10</td><td>17</td><td>32738.084698023667</td><td>916.912241509521</td><td>1925.7696881190393</td><td>1931.0378187385834</td></tr>\n",
       "<tr><td>31507950402</td><td>43</td><td>70</td><td>828801.12754154</td><td>6479.452915154887</td><td>11840.016107736285</td><td>10930.959611877985</td></tr>\n",
       "<tr><td>87802246756</td><td>2057</td><td>3386</td><td>245853.59327101914</td><td>43.91162022558144</td><td>72.60885802451836</td><td>63.93463642725792</td></tr>\n",
       "<tr><td>87921002735</td><td>313</td><td>505</td><td>1038863.8138238942</td><td>1193.9446974968198</td><td>2057.1560669780083</td><td>1822.2069058150441</td></tr>\n",
       "<tr><td>92220967360</td><td>301</td><td>480</td><td>725244.5330631013</td><td>763.5021679402876</td><td>1510.9261105481278</td><td>1479.0966455009404</td></tr>\n",
       "<tr><td>56373397631</td><td>151</td><td>241</td><td>287292.3224782619</td><td>1165.326167035209</td><td>1192.0843256359415</td><td>807.6091954131007</td></tr>\n",
       "<tr><td>29836312398</td><td>17</td><td>25</td><td>86053.59312554687</td><td>1537.4500041408448</td><td>3442.143725021875</td><td>3807.7129245420906</td></tr>\n",
       "<tr><td>46018169855</td><td>9</td><td>15</td><td>40146.649425212556</td><td>1550.5018390028508</td><td>2676.4432950141704</td><td>2856.654446455052</td></tr>\n",
       "<tr><td>63072262874</td><td>17</td><td>27</td><td>42869.59821775803</td><td>578.5807581884158</td><td>1587.762896954001</td><td>1493.4837432049142</td></tr>\n",
       "<tr><td>67214015867</td><td>26</td><td>41</td><td>60690.51905276322</td><td>1217.6503558298116</td><td>1480.2565622625177</td><td>1202.6508201295844</td></tr>\n",
       "<tr><td>73645625064</td><td>315</td><td>493</td><td>946034.4570946614</td><td>1090.9861254011107</td><td>1918.933990050023</td><td>1702.4553935243334</td></tr>\n",
       "<tr><td>98770741241</td><td>69</td><td>109</td><td>26676.87300651805</td><td>161.02546943723502</td><td>244.741954188239</td><td>198.32888885983448</td></tr>\n",
       "<tr><td>67877736141</td><td>19</td><td>35</td><td>156889.28481938425</td><td>3207.464486880245</td><td>4482.55099483955</td><td>3589.0338273080797</td></tr>\n",
       "<tr><td>30984752802</td><td>260</td><td>405</td><td>820899.8477965397</td><td>1357.2948077281997</td><td>2026.9132044359003</td><td>1720.9850036164728</td></tr>\n",
       "<tr><td>48452300785</td><td>198</td><td>312</td><td>335698.2620835134</td><td>836.4044962356046</td><td>1075.955968216389</td><td>876.985433179026</td></tr>\n",
       "</table>\n",
       "only showing top 20 rows\n"
      ],
      "text/plain": [
       "+------------+-----------------------+-----------+------------------+-------------------------+------------------+-------------------+\n",
       "|merchant_abn|distinct_consumer_count|order_count|     total_revenue|dollar_value_standard_dev|  dollar_per_order|median_dollar_value|\n",
       "+------------+-----------------------+-----------+------------------+-------------------------+------------------+-------------------+\n",
       "| 24406529929|                   2943|       4968| 327429.3857203502|        65.83948623583439| 65.90768633662444|  45.96901058385736|\n",
       "| 28767881738|                      3|          4|16538.731756372705|       2543.5079878257584| 4134.682939093176| 2883.3416199954663|\n",
       "| 56395390867|                     38|         58|  55589.8695520354|        637.1183882996874|  958.446026759231|  861.6872806970155|\n",
       "| 98345415950|                      8|         12|105269.44253670526|        7913.006782425887| 8772.453544725438| 3896.2083408209987|\n",
       "| 45925655949|                     67|         99| 771700.7514011513|        5544.280890452739| 7794.957084860114|  5929.815410254777|\n",
       "| 18899854203|                     10|         17|32738.084698023667|         916.912241509521|1925.7696881190393| 1931.0378187385834|\n",
       "| 31507950402|                     43|         70|   828801.12754154|        6479.452915154887|11840.016107736285| 10930.959611877985|\n",
       "| 87802246756|                   2057|       3386|245853.59327101914|        43.91162022558144| 72.60885802451836|  63.93463642725792|\n",
       "| 87921002735|                    313|        505|1038863.8138238942|       1193.9446974968198|2057.1560669780083| 1822.2069058150441|\n",
       "| 92220967360|                    301|        480| 725244.5330631013|        763.5021679402876|1510.9261105481278| 1479.0966455009404|\n",
       "| 56373397631|                    151|        241| 287292.3224782619|        1165.326167035209|1192.0843256359415|  807.6091954131007|\n",
       "| 29836312398|                     17|         25| 86053.59312554687|       1537.4500041408448| 3442.143725021875| 3807.7129245420906|\n",
       "| 46018169855|                      9|         15|40146.649425212556|       1550.5018390028508|2676.4432950141704|  2856.654446455052|\n",
       "| 63072262874|                     17|         27| 42869.59821775803|        578.5807581884158| 1587.762896954001| 1493.4837432049142|\n",
       "| 67214015867|                     26|         41| 60690.51905276322|       1217.6503558298116|1480.2565622625177| 1202.6508201295844|\n",
       "| 73645625064|                    315|        493| 946034.4570946614|       1090.9861254011107| 1918.933990050023| 1702.4553935243334|\n",
       "| 98770741241|                     69|        109| 26676.87300651805|       161.02546943723502|  244.741954188239| 198.32888885983448|\n",
       "| 67877736141|                     19|         35|156889.28481938425|        3207.464486880245|  4482.55099483955| 3589.0338273080797|\n",
       "| 30984752802|                    260|        405| 820899.8477965397|       1357.2948077281997|2026.9132044359003| 1720.9850036164728|\n",
       "| 48452300785|                    198|        312| 335698.2620835134|        836.4044962356046| 1075.955968216389|   876.985433179026|\n",
       "+------------+-----------------------+-----------+------------------+-------------------------+------------------+-------------------+\n",
       "only showing top 20 rows"
      ]
     },
     "execution_count": 6,
     "metadata": {},
     "output_type": "execute_result"
    }
   ],
   "source": [
    "agg_transaction_pred_sdf = transaction_sdf.filter(F.col(\"merchant_name\").isNull()) \\\n",
    "                                     .groupBy(\"merchant_abn\") \\\n",
    "                                     .agg(F.countDistinct(\"consumer_id\"),\n",
    "                                          F.count(\"merchant_abn\"),\n",
    "                                          F.sum(\"dollar_value\"),\n",
    "                                          F.stddev(\"dollar_value\"),\n",
    "                                          F.sum(\"dollar_value\") / F.count(\"order_id\"),\n",
    "                                          F.percentile_approx(\"dollar_value\", 0.5)\n",
    "                                         )\\\n",
    "                                     .withColumnRenamed(\"count(consumer_id)\", \"distinct_consumer_count\") \\\n",
    "                                     .withColumnRenamed(\"count(merchant_abn)\", \"order_count\") \\\n",
    "                                     .withColumnRenamed(\"sum(dollar_value)\", \"total_revenue\") \\\n",
    "                                     .withColumnRenamed(\"percentile_approx(dollar_value, 0.5, 10000)\",\n",
    "                                                        \"median_dollar_value\") \\\n",
    "                                     .withColumnRenamed(\"stddev_samp(dollar_value)\", \"dollar_value_standard_dev\") \\\n",
    "                                     .withColumnRenamed(\"(sum(dollar_value) / count(order_id))\", \"dollar_per_order\")\n",
    "                                    \n",
    "agg_transaction_pred_sdf"
   ]
  },
  {
   "cell_type": "code",
   "execution_count": 14,
   "metadata": {},
   "outputs": [
    {
     "name": "stderr",
     "output_type": "stream",
     "text": [
      "                                                                                \r"
     ]
    }
   ],
   "source": [
    "agg_transaction_pred_sdf.toPandas().to_csv('agg_transaction_pred_sdf.csv')"
   ]
  },
  {
   "cell_type": "markdown",
   "metadata": {},
   "source": [
    "# Getting the training dataset"
   ]
  },
  {
   "cell_type": "code",
   "execution_count": 7,
   "metadata": {},
   "outputs": [
    {
     "name": "stderr",
     "output_type": "stream",
     "text": [
      "                                                                                \r"
     ]
    },
    {
     "data": {
      "text/html": [
       "<table border='1'>\n",
       "<tr><th>merchant_abn</th><th>distinct_consumer_count</th><th>order_count</th><th>total_revenue</th><th>dollar_value_standard_dev</th><th>dollar_per_order</th><th>median_dollar_value</th><th>take_rate</th></tr>\n",
       "<tr><td>10023283211</td><td>2303</td><td>3839</td><td>833176.759060391</td><td>141.15063824319634</td><td>217.02963247209976</td><td>183.498769765699</td><td>0.1</td></tr>\n",
       "<tr><td>10342410215</td><td>615</td><td>988</td><td>382746.0645105066</td><td>277.6588585943003</td><td>387.39480213614024</td><td>319.4335420059913</td><td>6.3</td></tr>\n",
       "<tr><td>10346855916</td><td>4</td><td>7</td><td>20039.350546970814</td><td>2195.2154339169288</td><td>2862.7643638529735</td><td>1823.1077727510717</td><td>3.5</td></tr>\n",
       "<tr><td>10385163239</td><td>56</td><td>93</td><td>31227.18974316143</td><td>214.41577195562252</td><td>335.7762337974347</td><td>303.3375490743265</td><td>6.6</td></tr>\n",
       "<tr><td>10648956813</td><td>11769</td><td>25654</td><td>1655961.4818585718</td><td>22.01799247391858</td><td>64.549835575683</td><td>64.30379773305644</td><td>6.6</td></tr>\n",
       "<tr><td>10714068705</td><td>2454</td><td>4106</td><td>524871.5849475799</td><td>106.6270620695824</td><td>127.83039087861177</td><td>99.76539947573725</td><td>2.5</td></tr>\n",
       "<tr><td>11024352823</td><td>337</td><td>564</td><td>118272.65769805566</td><td>123.47104096058493</td><td>209.70329379087883</td><td>181.33232586474924</td><td>2.6</td></tr>\n",
       "<tr><td>11076688542</td><td>44</td><td>64</td><td>42672.341939905404</td><td>209.72979041869186</td><td>666.7553428110219</td><td>695.2640451261304</td><td>2.5</td></tr>\n",
       "<tr><td>11243046390</td><td>362</td><td>565</td><td>134674.4700038157</td><td>207.64910029215477</td><td>238.36189381206316</td><td>188.6112371781011</td><td>1.9</td></tr>\n",
       "<tr><td>11848576000</td><td>80</td><td>126</td><td>264091.9924150258</td><td>1070.6922758124601</td><td>2095.9681937700457</td><td>1910.080955818674</td><td>1.5</td></tr>\n",
       "<tr><td>11944993446</td><td>6887</td><td>12967</td><td>946423.1097462315</td><td>51.502526126244376</td><td>72.9870524983598</td><td>61.267117168149554</td><td>6.6</td></tr>\n",
       "<tr><td>12516851436</td><td>158</td><td>251</td><td>39767.4277288102</td><td>107.30470813558364</td><td>158.4359670470526</td><td>128.6033953960039</td><td>6.7</td></tr>\n",
       "<tr><td>12771097467</td><td>977</td><td>1588</td><td>5937973.973760839</td><td>2326.226740871544</td><td>3739.2783210080847</td><td>3257.174349944103</td><td>6.9</td></tr>\n",
       "<tr><td>13066244467</td><td>38</td><td>58</td><td>39652.48139784557</td><td>388.26012333342146</td><td>683.6634723766477</td><td>616.084032146316</td><td>5.6</td></tr>\n",
       "<tr><td>13067850740</td><td>21</td><td>34</td><td>55049.88706252382</td><td>995.8183148571775</td><td>1619.1143253683476</td><td>1519.0069746354234</td><td>5.5</td></tr>\n",
       "<tr><td>13120157976</td><td>433</td><td>705</td><td>149888.35952582682</td><td>115.03715250393977</td><td>212.60760216429335</td><td>194.55990955212565</td><td>6.8</td></tr>\n",
       "<tr><td>13467303030</td><td>8</td><td>11</td><td>15823.190636822303</td><td>1297.1122968217062</td><td>1438.4718760747548</td><td>1016.8809226348964</td><td>5.5</td></tr>\n",
       "<tr><td>13747603419</td><td>4</td><td>7</td><td>10222.188108966142</td><td>534.6995599692407</td><td>1460.3125869951632</td><td>1436.408315527146</td><td>1.8</td></tr>\n",
       "<tr><td>13823979247</td><td>193</td><td>299</td><td>217669.70633200885</td><td>744.8595075590846</td><td>727.9923288695948</td><td>536.450137032912</td><td>6.6</td></tr>\n",
       "<tr><td>14081759429</td><td>183</td><td>287</td><td>148604.9943480201</td><td>319.02218504457784</td><td>517.7874367526832</td><td>476.34715963141446</td><td>4.7</td></tr>\n",
       "</table>\n",
       "only showing top 20 rows\n"
      ],
      "text/plain": [
       "+------------+-----------------------+-----------+------------------+-------------------------+------------------+-------------------+---------+\n",
       "|merchant_abn|distinct_consumer_count|order_count|     total_revenue|dollar_value_standard_dev|  dollar_per_order|median_dollar_value|take_rate|\n",
       "+------------+-----------------------+-----------+------------------+-------------------------+------------------+-------------------+---------+\n",
       "| 10023283211|                   2303|       3839|  833176.759060391|       141.15063824319634|217.02963247209976|   183.498769765699|      0.1|\n",
       "| 10342410215|                    615|        988| 382746.0645105066|        277.6588585943003|387.39480213614024|  319.4335420059913|      6.3|\n",
       "| 10346855916|                      4|          7|20039.350546970814|       2195.2154339169288|2862.7643638529735| 1823.1077727510717|      3.5|\n",
       "| 10385163239|                     56|         93| 31227.18974316143|       214.41577195562252| 335.7762337974347|  303.3375490743265|      6.6|\n",
       "| 10648956813|                  11769|      25654|1655961.4818585718|        22.01799247391858|   64.549835575683|  64.30379773305644|      6.6|\n",
       "| 10714068705|                   2454|       4106| 524871.5849475799|        106.6270620695824|127.83039087861177|  99.76539947573725|      2.5|\n",
       "| 11024352823|                    337|        564|118272.65769805566|       123.47104096058493|209.70329379087883| 181.33232586474924|      2.6|\n",
       "| 11076688542|                     44|         64|42672.341939905404|       209.72979041869186| 666.7553428110219|  695.2640451261304|      2.5|\n",
       "| 11243046390|                    362|        565| 134674.4700038157|       207.64910029215477|238.36189381206316|  188.6112371781011|      1.9|\n",
       "| 11848576000|                     80|        126| 264091.9924150258|       1070.6922758124601|2095.9681937700457|  1910.080955818674|      1.5|\n",
       "| 11944993446|                   6887|      12967| 946423.1097462315|       51.502526126244376|  72.9870524983598| 61.267117168149554|      6.6|\n",
       "| 12516851436|                    158|        251|  39767.4277288102|       107.30470813558364| 158.4359670470526|  128.6033953960039|      6.7|\n",
       "| 12771097467|                    977|       1588| 5937973.973760839|        2326.226740871544|3739.2783210080847|  3257.174349944103|      6.9|\n",
       "| 13066244467|                     38|         58| 39652.48139784557|       388.26012333342146| 683.6634723766477|   616.084032146316|      5.6|\n",
       "| 13067850740|                     21|         34| 55049.88706252382|        995.8183148571775|1619.1143253683476| 1519.0069746354234|      5.5|\n",
       "| 13120157976|                    433|        705|149888.35952582682|       115.03715250393977|212.60760216429335| 194.55990955212565|      6.8|\n",
       "| 13467303030|                      8|         11|15823.190636822303|       1297.1122968217062|1438.4718760747548| 1016.8809226348964|      5.5|\n",
       "| 13747603419|                      4|          7|10222.188108966142|        534.6995599692407|1460.3125869951632|  1436.408315527146|      1.8|\n",
       "| 13823979247|                    193|        299|217669.70633200885|        744.8595075590846| 727.9923288695948|   536.450137032912|      6.6|\n",
       "| 14081759429|                    183|        287| 148604.9943480201|       319.02218504457784| 517.7874367526832| 476.34715963141446|      4.7|\n",
       "+------------+-----------------------+-----------+------------------+-------------------------+------------------+-------------------+---------+\n",
       "only showing top 20 rows"
      ]
     },
     "execution_count": 7,
     "metadata": {},
     "output_type": "execute_result"
    }
   ],
   "source": [
    "agg_transaction_train_sdf = transaction_sdf.filter(F.col(\"merchant_name\").isNotNull()) \\\n",
    "                                     .groupBy(\"merchant_abn\") \\\n",
    "                                     .agg(F.countDistinct(\"consumer_id\"),\n",
    "                                          F.count(\"merchant_abn\"),\n",
    "                                          F.sum(\"dollar_value\"),\n",
    "                                          F.stddev(\"dollar_value\"),\n",
    "                                          F.sum(\"dollar_value\") / F.count(\"order_id\"),\n",
    "                                          F.percentile_approx(\"dollar_value\", 0.5),\n",
    "                                          F.first(\"take_rate\")\n",
    "                                         )\\\n",
    "                                     .withColumnRenamed(\"count(consumer_id)\", \"distinct_consumer_count\") \\\n",
    "                                     .withColumnRenamed(\"count(merchant_abn)\", \"order_count\") \\\n",
    "                                     .withColumnRenamed(\"sum(dollar_value)\", \"total_revenue\") \\\n",
    "                                     .withColumnRenamed(\"percentile_approx(dollar_value, 0.5, 10000)\",\n",
    "                                                        \"median_dollar_value\") \\\n",
    "                                     .withColumnRenamed(\"stddev_samp(dollar_value)\", \"dollar_value_standard_dev\") \\\n",
    "                                     .withColumnRenamed(\"(sum(dollar_value) / count(order_id))\", \"dollar_per_order\") \\\n",
    "                                     .withColumnRenamed(\"first(take_rate)\", \"take_rate\")\n",
    "agg_transaction_train_sdf"
   ]
  },
  {
   "cell_type": "code",
   "execution_count": 16,
   "metadata": {},
   "outputs": [
    {
     "name": "stderr",
     "output_type": "stream",
     "text": [
      "                                                                                \r"
     ]
    }
   ],
   "source": [
    "agg_transaction_train_sdf.toPandas().to_csv('agg_transaction_train_sdf.csv')"
   ]
  },
  {
   "cell_type": "code",
   "execution_count": 8,
   "metadata": {},
   "outputs": [
    {
     "name": "stderr",
     "output_type": "stream",
     "text": [
      "                                                                                \r"
     ]
    }
   ],
   "source": [
    "agg_transaction_train_df = agg_transaction_train_sdf.toPandas()\n",
    "agg_transaction_pred_df = agg_transaction_pred_sdf.toPandas()"
   ]
  },
  {
   "cell_type": "code",
   "execution_count": 9,
   "metadata": {},
   "outputs": [],
   "source": [
    "agg_transaction_train_df = agg_transaction_train_df.drop('merchant_abn', axis=1)"
   ]
  },
  {
   "cell_type": "code",
   "execution_count": 10,
   "metadata": {},
   "outputs": [],
   "source": [
    "agg_transaction_train_df = agg_transaction_train_df.fillna(0)"
   ]
  },
  {
   "cell_type": "code",
   "execution_count": 11,
   "metadata": {},
   "outputs": [
    {
     "data": {
      "text/html": [
       "<div>\n",
       "<style scoped>\n",
       "    .dataframe tbody tr th:only-of-type {\n",
       "        vertical-align: middle;\n",
       "    }\n",
       "\n",
       "    .dataframe tbody tr th {\n",
       "        vertical-align: top;\n",
       "    }\n",
       "\n",
       "    .dataframe thead th {\n",
       "        text-align: right;\n",
       "    }\n",
       "</style>\n",
       "<table border=\"1\" class=\"dataframe\">\n",
       "  <thead>\n",
       "    <tr style=\"text-align: right;\">\n",
       "      <th></th>\n",
       "      <th>distinct_consumer_count</th>\n",
       "    </tr>\n",
       "  </thead>\n",
       "  <tbody>\n",
       "    <tr>\n",
       "      <th>0</th>\n",
       "      <td>2303</td>\n",
       "    </tr>\n",
       "  </tbody>\n",
       "</table>\n",
       "</div>"
      ],
      "text/plain": [
       "   distinct_consumer_count\n",
       "0                     2303"
      ]
     },
     "execution_count": 11,
     "metadata": {},
     "output_type": "execute_result"
    }
   ],
   "source": [
    "X = agg_transaction_train_df.iloc[:,:-1]\n",
    "y = agg_transaction_train_df.iloc[:,-1]\n",
    "X.iloc[:1,:1]"
   ]
  },
  {
   "cell_type": "code",
   "execution_count": 12,
   "metadata": {},
   "outputs": [],
   "source": [
    "X_train, X_test, y_train, y_test = train_test_split(X, y, test_size=0.3, random_state=30034)"
   ]
  },
  {
   "cell_type": "code",
   "execution_count": 52,
   "metadata": {},
   "outputs": [],
   "source": [
    "r = xgboost.XGBRegressor(n_estimators=10, learning_rate=0.3)"
   ]
  },
  {
   "cell_type": "code",
   "execution_count": 53,
   "metadata": {},
   "outputs": [
    {
     "data": {
      "text/plain": [
       "XGBRegressor(base_score=0.5, booster='gbtree', callbacks=None,\n",
       "             colsample_bylevel=1, colsample_bynode=1, colsample_bytree=1,\n",
       "             early_stopping_rounds=None, enable_categorical=False,\n",
       "             eval_metric=None, gamma=0, gpu_id=-1, grow_policy='depthwise',\n",
       "             importance_type=None, interaction_constraints='',\n",
       "             learning_rate=0.3, max_bin=256, max_cat_to_onehot=4,\n",
       "             max_delta_step=0, max_depth=6, max_leaves=0, min_child_weight=1,\n",
       "             missing=nan, monotone_constraints='()', n_estimators=10, n_jobs=0,\n",
       "             num_parallel_tree=1, predictor='auto', random_state=0, reg_alpha=0,\n",
       "             reg_lambda=1, ...)"
      ]
     },
     "execution_count": 53,
     "metadata": {},
     "output_type": "execute_result"
    }
   ],
   "source": [
    "r.fit(X_train, y_train)"
   ]
  },
  {
   "cell_type": "code",
   "execution_count": 54,
   "metadata": {},
   "outputs": [
    {
     "name": "stdout",
     "output_type": "stream",
     "text": [
      "-0.04640719718824493\n"
     ]
    },
    {
     "name": "stdout",
     "output_type": "stream",
     "text": [
      "22/09/16 00:21:25 WARN HeartbeatReceiver: Removing executor driver with no recent heartbeats: 304270 ms exceeds timeout 120000 ms\n",
      "22/09/16 00:21:25 WARN SparkContext: Killing executors is not supported by current scheduler.\n"
     ]
    }
   ],
   "source": [
    "testing_accuracy = r.score(X_test, y_test)\n",
    "print(testing_accuracy)"
   ]
  },
  {
   "cell_type": "code",
   "execution_count": 27,
   "metadata": {},
   "outputs": [],
   "source": [
    "from sklearn.model_selection import cross_val_score\n",
    "scores = cross_val_score(r, X, y, cv=5)"
   ]
  },
  {
   "cell_type": "code",
   "execution_count": 28,
   "metadata": {},
   "outputs": [
    {
     "name": "stdout",
     "output_type": "stream",
     "text": [
      "-0.21 accuracy with a standard deviation of 0.04\n"
     ]
    }
   ],
   "source": [
    "print(\"%0.2f accuracy with a standard deviation of %0.2f\" % (scores.mean(), scores.std()))"
   ]
  },
  {
   "cell_type": "code",
   "execution_count": 59,
   "metadata": {},
   "outputs": [
    {
     "data": {
      "text/plain": [
       "0.8445085179839061"
      ]
     },
     "execution_count": 59,
     "metadata": {},
     "output_type": "execute_result"
    }
   ],
   "source": [
    "rf = RandomForestRegressor()\n",
    "rf.fit(X,y)\n",
    "rf.score(X,y)"
   ]
  },
  {
   "cell_type": "code",
   "execution_count": 50,
   "metadata": {},
   "outputs": [],
   "source": [
    "scores = cross_val_score(rf, X, y, cv=5)"
   ]
  },
  {
   "cell_type": "code",
   "execution_count": 51,
   "metadata": {},
   "outputs": [
    {
     "name": "stdout",
     "output_type": "stream",
     "text": [
      "-0.13 accuracy with a standard deviation of 0.02\n"
     ]
    }
   ],
   "source": [
    "print(\"%0.2f accuracy with a standard deviation of %0.2f\" % (scores.mean(), scores.std()))"
   ]
  },
  {
   "cell_type": "code",
   "execution_count": 30,
   "metadata": {},
   "outputs": [
    {
     "data": {
      "text/plain": [
       "distinct_monthly_consumer_count    4022\n",
       "monthly_order_count                4022\n",
       "monthly_revenue                    4022\n",
       "dollar_value_standard_dev          4017\n",
       "dollar_per_order                   4022\n",
       "median_dollar_value                4022\n",
       "dtype: int64"
      ]
     },
     "execution_count": 30,
     "metadata": {},
     "output_type": "execute_result"
    }
   ],
   "source": [
    "X.count()"
   ]
  },
  {
   "cell_type": "code",
   "execution_count": 84,
   "metadata": {},
   "outputs": [
    {
     "data": {
      "text/plain": [
       "distinct_monthly_consumer_count      int64\n",
       "monthly_order_count                  int64\n",
       "monthly_revenue                    float64\n",
       "dollar_value_standard_dev          float64\n",
       "dollar_per_order                   float64\n",
       "median_dollar_value                float64\n",
       "dtype: object"
      ]
     },
     "execution_count": 84,
     "metadata": {},
     "output_type": "execute_result"
    }
   ],
   "source": [
    "X.dtypes"
   ]
  },
  {
   "cell_type": "code",
   "execution_count": 1,
   "metadata": {},
   "outputs": [
    {
     "ename": "NameError",
     "evalue": "name 'X_train' is not defined",
     "output_type": "error",
     "traceback": [
      "\u001b[0;31m---------------------------------------------------------------------------\u001b[0m",
      "\u001b[0;31mNameError\u001b[0m                                 Traceback (most recent call last)",
      "\u001b[0;32m/var/folders/mk/5m0_ggk577s5d_q78b0zrg540000gn/T/ipykernel_68687/3544625507.py\u001b[0m in \u001b[0;36m<module>\u001b[0;34m\u001b[0m\n\u001b[1;32m      1\u001b[0m \u001b[0;32mfrom\u001b[0m \u001b[0msklearn\u001b[0m\u001b[0;34m.\u001b[0m\u001b[0mneural_network\u001b[0m \u001b[0;32mimport\u001b[0m \u001b[0mMLPRegressor\u001b[0m\u001b[0;34m\u001b[0m\u001b[0;34m\u001b[0m\u001b[0m\n\u001b[0;32m----> 2\u001b[0;31m \u001b[0mregr\u001b[0m \u001b[0;34m=\u001b[0m \u001b[0mMLPRegressor\u001b[0m\u001b[0;34m(\u001b[0m\u001b[0;34m)\u001b[0m\u001b[0;34m.\u001b[0m\u001b[0mfit\u001b[0m\u001b[0;34m(\u001b[0m\u001b[0mX_train\u001b[0m\u001b[0;34m,\u001b[0m \u001b[0my_train\u001b[0m\u001b[0;34m)\u001b[0m\u001b[0;34m\u001b[0m\u001b[0;34m\u001b[0m\u001b[0m\n\u001b[0m\u001b[1;32m      3\u001b[0m \u001b[0mregr\u001b[0m\u001b[0;34m.\u001b[0m\u001b[0mscore\u001b[0m\u001b[0;34m(\u001b[0m\u001b[0mX_train\u001b[0m\u001b[0;34m,\u001b[0m \u001b[0my_train\u001b[0m\u001b[0;34m)\u001b[0m\u001b[0;34m\u001b[0m\u001b[0;34m\u001b[0m\u001b[0m\n",
      "\u001b[0;31mNameError\u001b[0m: name 'X_train' is not defined"
     ]
    }
   ],
   "source": [
    "from sklearn.neural_network import MLPRegressor\n",
    "regr = MLPRegressor().fit(X_train, y_train)\n",
    "regr.score(X_train, y_train)"
   ]
  },
  {
   "cell_type": "code",
   "execution_count": null,
   "metadata": {},
   "outputs": [],
   "source": []
  }
 ],
 "metadata": {
  "kernelspec": {
   "display_name": "Python 3.9.7 ('base')",
   "language": "python",
   "name": "python3"
  },
  "language_info": {
   "codemirror_mode": {
    "name": "ipython",
    "version": 3
   },
   "file_extension": ".py",
   "mimetype": "text/x-python",
   "name": "python",
   "nbconvert_exporter": "python",
   "pygments_lexer": "ipython3",
   "version": "3.9.7"
  },
  "orig_nbformat": 4,
  "vscode": {
   "interpreter": {
    "hash": "40d3a090f54c6569ab1632332b64b2c03c39dcf918b08424e98f38b5ae0af88f"
   }
  }
 },
 "nbformat": 4,
 "nbformat_minor": 2
}
