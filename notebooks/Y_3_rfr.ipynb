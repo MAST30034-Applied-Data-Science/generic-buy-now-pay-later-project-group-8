{
 "cells": [
  {
   "cell_type": "markdown",
   "metadata": {},
   "source": [
    "# RFR model for clsutering"
   ]
  },
  {
   "cell_type": "code",
   "execution_count": null,
   "metadata": {},
   "outputs": [],
   "source": [
    "import pandas as pd\n",
    "import os\n",
    "import numpy as np"
   ]
  },
  {
   "cell_type": "code",
   "execution_count": 2,
   "metadata": {},
   "outputs": [],
   "source": [
    "from sklearn.ensemble import RandomForestRegressor\n",
    "from sklearn.model_selection import GridSearchCV\n",
    "from sklearn.metrics import r2_score"
   ]
  },
  {
   "cell_type": "markdown",
   "metadata": {},
   "source": [
    "## Import data"
   ]
  },
  {
   "cell_type": "code",
   "execution_count": 3,
   "metadata": {},
   "outputs": [],
   "source": [
    "train = pd.read_csv(\"../data/tables/agg_transaction_train_sdf.csv\")\n",
    "test = pd.read_csv(\"../data/tables/agg_transaction_pred_sdf.csv\")"
   ]
  },
  {
   "cell_type": "code",
   "execution_count": 5,
   "metadata": {},
   "outputs": [],
   "source": [
    "X_train = train.iloc[:,2:-1].astype(float)\n",
    "y_train = train.iloc[:,-1].astype(float)\n",
    "X_test = test.iloc[:,2:].astype(float)"
   ]
  },
  {
   "cell_type": "code",
   "execution_count": 8,
   "metadata": {},
   "outputs": [],
   "source": [
    "X_train = X_train.fillna(0)\n",
    "y_train = y_train.fillna(0)\n",
    "X_test = X_test.fillna(0)"
   ]
  },
  {
   "cell_type": "code",
   "execution_count": 10,
   "metadata": {},
   "outputs": [
    {
     "data": {
      "text/plain": [
       "distinct_monthly_consumer_count    393\n",
       "monthly_order_count                393\n",
       "monthly_revenue                    393\n",
       "dollar_value_standard_dev          393\n",
       "dollar_per_order                   393\n",
       "median_dollar_value                393\n",
       "dtype: int64"
      ]
     },
     "execution_count": 10,
     "metadata": {},
     "output_type": "execute_result"
    }
   ],
   "source": [
    "X_test.isnull().count()"
   ]
  },
  {
   "cell_type": "markdown",
   "metadata": {},
   "source": [
    "## Grid Search"
   ]
  },
  {
   "cell_type": "code",
   "execution_count": 11,
   "metadata": {},
   "outputs": [],
   "source": [
    "rf_param_group = {\n",
    "    \"n_estimators\": (50,60),\n",
    "    \"max_depth\": range(10, 80, 10),\n",
    "#    \"min_samples_leaf\": range(1, 10, 1),\n",
    "#    \"min_samples_split\": range(2, 10, 1),\n",
    "    \"max_features\": (0.5,0.75),\n",
    "    \"max_samples\" :(0.5,0.75),\n",
    "    \"ccp_alpha\" :(0,0.01,0.001,1,10)\n",
    "}\n",
    "\n",
    "rf_estimator = RandomForestRegressor()\n",
    "grid_search = GridSearchCV(estimator=rf_estimator, param_grid=rf_param_group, cv=5, n_jobs=-1)"
   ]
  },
  {
   "cell_type": "code",
   "execution_count": 12,
   "metadata": {},
   "outputs": [
    {
     "name": "stdout",
     "output_type": "stream",
     "text": [
      "Best params:  {'ccp_alpha': 10, 'max_depth': 70, 'max_features': 0.5, 'max_samples': 0.5, 'n_estimators': 50}\n"
     ]
    }
   ],
   "source": [
    "grid_search.fit(X_train, y_train)\n",
    "print(\"Best params: \", grid_search.best_params_)"
   ]
  },
  {
   "cell_type": "code",
   "execution_count": 13,
   "metadata": {},
   "outputs": [],
   "source": [
    "clf_rf = RandomForestRegressor(n_estimators=50, \n",
    "                                max_depth=70, max_features=0.5,\n",
    "                                ccp_alpha = 10, max_samples = 0.5).fit(X_train, y_train)"
   ]
  },
  {
   "cell_type": "code",
   "execution_count": 14,
   "metadata": {},
   "outputs": [
    {
     "name": "stdout",
     "output_type": "stream",
     "text": [
      "Mean Absolute Error For Training Set:1.545\n",
      "Mean Squared Error For Training Set:3.177\n",
      "Root Mean Squared Error For Training Set:1.782\n"
     ]
    }
   ],
   "source": [
    "from sklearn import metrics\n",
    "\n",
    "rf_train_predict = clf_rf.predict(X_train)\n",
    "print('Mean Absolute Error For Training Set:{:.3f}'.format(metrics.mean_absolute_error(y_train, rf_train_predict)))\n",
    "print('Mean Squared Error For Training Set:{:.3f}'.format(metrics.mean_squared_error(y_train, rf_train_predict)))\n",
    "print('Root Mean Squared Error For Training Set:{:.3f}'.format(np.sqrt(metrics.mean_squared_error(y_train, rf_train_predict))))"
   ]
  },
  {
   "cell_type": "code",
   "execution_count": null,
   "metadata": {},
   "outputs": [],
   "source": []
  }
 ],
 "metadata": {
  "kernelspec": {
   "display_name": "Python 3.8.9 64-bit",
   "language": "python",
   "name": "python3"
  },
  "language_info": {
   "codemirror_mode": {
    "name": "ipython",
    "version": 3
   },
   "file_extension": ".py",
   "mimetype": "text/x-python",
   "name": "python",
   "nbconvert_exporter": "python",
   "pygments_lexer": "ipython3",
   "version": "3.8.9"
  },
  "orig_nbformat": 4,
  "vscode": {
   "interpreter": {
    "hash": "31f2aee4e71d21fbe5cf8b01ff0e069b9275f58929596ceb00d14d90e3e16cd6"
   }
  }
 },
 "nbformat": 4,
 "nbformat_minor": 2
}
