{
 "cells": [
  {
   "cell_type": "markdown",
   "metadata": {},
   "source": [
    "first write function that gets scores of all stores"
   ]
  },
  {
   "cell_type": "markdown",
   "metadata": {},
   "source": [
    "get top 100 and make into portfolio (just a list)"
   ]
  },
  {
   "cell_type": "markdown",
   "metadata": {},
   "source": [
    "Get Portfolio Stats (load periodic data and add up)\n",
    "-own fortnightly E[r] and sd(r)\n",
    "-calculate E(r) / sd(r)"
   ]
  },
  {
   "cell_type": "markdown",
   "metadata": {},
   "source": [
    "then write loop for alphas"
   ]
  }
 ],
 "metadata": {
  "kernelspec": {
   "display_name": "Python 3.9.13 64-bit",
   "language": "python",
   "name": "python3"
  },
  "language_info": {
   "name": "python",
   "version": "3.9.13"
  },
  "orig_nbformat": 4,
  "vscode": {
   "interpreter": {
    "hash": "b0fa6594d8f4cbf19f97940f81e996739fb7646882a419484c72d19e05852a7e"
   }
  }
 },
 "nbformat": 4,
 "nbformat_minor": 2
}
