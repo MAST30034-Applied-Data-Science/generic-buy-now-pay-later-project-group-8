{
 "cells": [
  {
   "cell_type": "markdown",
   "metadata": {},
   "source": [
    "first write function that gets scores of all stores"
   ]
  },
  {
   "cell_type": "markdown",
   "metadata": {},
   "source": [
    "get top 100 and make into portfolio (just a list)"
   ]
  },
  {
   "cell_type": "markdown",
   "metadata": {},
   "source": [
    "Get Portfolio Stats (load periodic data and add up)\n",
    "-own fortnightly E[r] and sd(r)\n",
    "-calculate E(r) / sd(r)"
   ]
  },
  {
   "cell_type": "markdown",
   "metadata": {},
   "source": [
    "then write loop for alphas"
   ]
  }
 ],
 "metadata": {
  "kernelspec": {
   "display_name": "Python 3.10.2 64-bit",
   "language": "python",
   "name": "python3"
  },
  "language_info": {
   "name": "python",
   "version": "3.10.2"
  },
  "orig_nbformat": 4,
  "vscode": {
   "interpreter": {
    "hash": "aee8b7b246df8f9039afb4144a1f6fd8d2ca17a180786b69acc140d282b71a49"
   }
  }
 },
 "nbformat": 4,
 "nbformat_minor": 2
}
