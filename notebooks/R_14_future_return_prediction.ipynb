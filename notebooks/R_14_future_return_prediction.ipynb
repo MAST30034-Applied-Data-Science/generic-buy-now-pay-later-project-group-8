{
 "cells": [
  {
   "cell_type": "markdown",
   "metadata": {},
   "source": [
    "## Predict future revenue Growth Rate"
   ]
  },
  {
   "cell_type": "code",
   "execution_count": 1,
   "metadata": {},
   "outputs": [],
   "source": [
    "# import libraries\n",
    "import pandas as pd\n",
    "import os\n",
    "import numpy as np\n",
    "\n",
    "from sklearn.preprocessing import StandardScaler\n",
    "\n",
    "import pickle"
   ]
  },
  {
   "cell_type": "code",
   "execution_count": 2,
   "metadata": {},
   "outputs": [],
   "source": [
    "# create directory to store tuning results\n",
    "output_relative_dirs = ['../models/growth_standardiser/sum_transactions', '../models/growth_standardiser/number_of_customers', \n",
    "    '../models/growth_standardiser/distinct_customers']\n",
    "\n",
    "# check if it exists as it makedir will raise an error if it does exist\n",
    "for output_relative_dir in output_relative_dirs:\n",
    "    if not os.path.exists(output_relative_dir):\n",
    "        os.makedirs(output_relative_dir)"
   ]
  },
  {
   "cell_type": "code",
   "execution_count": 3,
   "metadata": {},
   "outputs": [],
   "source": [
    "# read data\n",
    "growth = pd.read_csv(\"../data/curated/growth_variable/merchant_fortnight_w_pctchange_train.csv\")\n",
    "growth = growth.drop(['E(r)', 'n_customers_pctchange', 'n_distinct_customers_pctchange'], axis=1)"
   ]
  },
  {
   "cell_type": "code",
   "execution_count": 4,
   "metadata": {},
   "outputs": [],
   "source": [
    "# # first divide into train val split (so we don't overfit when doing standardisation)\n",
    "# train = growth[(growth['Year'] == 2021) & (growth['Fortnight'] < 21)]\n",
    "\n",
    "# val = growth[(growth['Year'] == 2021) & ((growth['Fortnight'] >= 21) & (growth['Fortnight'] <= 24))]\n",
    "\n",
    "# test = growth[(growth['Year'] == 2022) | ((growth['Year'] == 2021) & (growth['Fortnight'] > 24))]"
   ]
  },
  {
   "cell_type": "markdown",
   "metadata": {},
   "source": [
    "## Standardisation"
   ]
  },
  {
   "cell_type": "code",
   "execution_count": 5,
   "metadata": {},
   "outputs": [],
   "source": [
    "growth_standardised = pd.DataFrame()\n",
    "\n",
    "for id, dta in growth.groupby(['merchant_abn']):\n",
    "    \n",
    "    # fit the StandardScaler using train model\n",
    "    SS1 = StandardScaler()\n",
    "    SS1.fit(dta[['sum_transactions']])\n",
    "\n",
    "    dta['sum_transactions_STD'] = SS1.transform(dta[['sum_transactions']])\n",
    "    \n",
    "    SS2 = StandardScaler()\n",
    "    SS2.fit(dta[['number_of_customers']])\n",
    "\n",
    "    dta['number_of_customers_STD'] = SS2.transform(dta[['number_of_customers']])\n",
    "\n",
    "    SS3 = StandardScaler()\n",
    "    SS3.fit(dta[['distinct_customers']])\n",
    "\n",
    "    dta['distinct_customers_STD'] = SS3.transform(dta[['distinct_customers']])\n",
    "\n",
    "    growth_standardised = pd.concat([growth_standardised, dta])\n",
    "\n",
    "    # export the model\n",
    "    with open(f'../models/growth_standardiser/sum_transactions/{id}.pickle', 'wb') as f:\n",
    "        pickle.dump(SS1,f)\n",
    "    with open(f'../models/growth_standardiser/number_of_customers/{id}.pickle', 'wb') as f:\n",
    "        pickle.dump(SS2,f)\n",
    "    with open(f'../models/growth_standardiser/distinct_customers/{id}.pickle', 'wb') as f:\n",
    "        pickle.dump(SS3,f)"
   ]
  },
  {
   "cell_type": "code",
   "execution_count": 6,
   "metadata": {},
   "outputs": [],
   "source": [
    "# drop unstandardised columns\n",
    "growth_standardised = growth_standardised.drop(['sum_transactions', 'number_of_customers', 'distinct_customers', 'label'], axis=1)"
   ]
  },
  {
   "cell_type": "markdown",
   "metadata": {},
   "source": [
    "## Create label of 1) delta (internally standardised transaction value) and 2) next period internally standardised transaction value"
   ]
  },
  {
   "cell_type": "code",
   "execution_count": 7,
   "metadata": {},
   "outputs": [
    {
     "data": {
      "text/html": [
       "<div>\n",
       "<style scoped>\n",
       "    .dataframe tbody tr th:only-of-type {\n",
       "        vertical-align: middle;\n",
       "    }\n",
       "\n",
       "    .dataframe tbody tr th {\n",
       "        vertical-align: top;\n",
       "    }\n",
       "\n",
       "    .dataframe thead th {\n",
       "        text-align: right;\n",
       "    }\n",
       "</style>\n",
       "<table border=\"1\" class=\"dataframe\">\n",
       "  <thead>\n",
       "    <tr style=\"text-align: right;\">\n",
       "      <th></th>\n",
       "      <th>Year</th>\n",
       "      <th>Fortnight</th>\n",
       "      <th>merchant_abn</th>\n",
       "      <th>sum_transactions_STD</th>\n",
       "      <th>number_of_customers_STD</th>\n",
       "      <th>distinct_customers_STD</th>\n",
       "      <th>delta(r)</th>\n",
       "      <th>rev_t+1</th>\n",
       "      <th>label1</th>\n",
       "      <th>label2</th>\n",
       "    </tr>\n",
       "  </thead>\n",
       "  <tbody>\n",
       "    <tr>\n",
       "      <th>0</th>\n",
       "      <td>2021</td>\n",
       "      <td>5</td>\n",
       "      <td>10023283211</td>\n",
       "      <td>-1.112007</td>\n",
       "      <td>-1.348704</td>\n",
       "      <td>-1.345017</td>\n",
       "      <td>NaN</td>\n",
       "      <td>-1.112007</td>\n",
       "      <td>-0.183912</td>\n",
       "      <td>-1.295918</td>\n",
       "    </tr>\n",
       "    <tr>\n",
       "      <th>1</th>\n",
       "      <td>2021</td>\n",
       "      <td>6</td>\n",
       "      <td>10023283211</td>\n",
       "      <td>-1.295918</td>\n",
       "      <td>-1.529404</td>\n",
       "      <td>-1.525925</td>\n",
       "      <td>-0.183912</td>\n",
       "      <td>-1.295918</td>\n",
       "      <td>0.521500</td>\n",
       "      <td>-0.774419</td>\n",
       "    </tr>\n",
       "    <tr>\n",
       "      <th>2</th>\n",
       "      <td>2021</td>\n",
       "      <td>7</td>\n",
       "      <td>10023283211</td>\n",
       "      <td>-0.774419</td>\n",
       "      <td>-0.987303</td>\n",
       "      <td>-0.983199</td>\n",
       "      <td>0.521500</td>\n",
       "      <td>-0.774419</td>\n",
       "      <td>0.550309</td>\n",
       "      <td>-0.224109</td>\n",
       "    </tr>\n",
       "    <tr>\n",
       "      <th>3</th>\n",
       "      <td>2021</td>\n",
       "      <td>8</td>\n",
       "      <td>10023283211</td>\n",
       "      <td>-0.224109</td>\n",
       "      <td>-0.324736</td>\n",
       "      <td>-0.319868</td>\n",
       "      <td>0.550309</td>\n",
       "      <td>-0.224109</td>\n",
       "      <td>-0.419617</td>\n",
       "      <td>-0.643727</td>\n",
       "    </tr>\n",
       "    <tr>\n",
       "      <th>4</th>\n",
       "      <td>2021</td>\n",
       "      <td>9</td>\n",
       "      <td>10023283211</td>\n",
       "      <td>-0.643727</td>\n",
       "      <td>-0.565670</td>\n",
       "      <td>-0.561079</td>\n",
       "      <td>-0.419617</td>\n",
       "      <td>-0.643727</td>\n",
       "      <td>0.559929</td>\n",
       "      <td>-0.083798</td>\n",
       "    </tr>\n",
       "    <tr>\n",
       "      <th>...</th>\n",
       "      <td>...</td>\n",
       "      <td>...</td>\n",
       "      <td>...</td>\n",
       "      <td>...</td>\n",
       "      <td>...</td>\n",
       "      <td>...</td>\n",
       "      <td>...</td>\n",
       "      <td>...</td>\n",
       "      <td>...</td>\n",
       "      <td>...</td>\n",
       "    </tr>\n",
       "    <tr>\n",
       "      <th>97174</th>\n",
       "      <td>2021</td>\n",
       "      <td>23</td>\n",
       "      <td>99990536339</td>\n",
       "      <td>-0.726769</td>\n",
       "      <td>-1.135860</td>\n",
       "      <td>-1.135860</td>\n",
       "      <td>0.000000</td>\n",
       "      <td>-0.726769</td>\n",
       "      <td>3.995908</td>\n",
       "      <td>3.269139</td>\n",
       "    </tr>\n",
       "    <tr>\n",
       "      <th>97175</th>\n",
       "      <td>2021</td>\n",
       "      <td>24</td>\n",
       "      <td>99990536339</td>\n",
       "      <td>3.269139</td>\n",
       "      <td>1.403122</td>\n",
       "      <td>1.403122</td>\n",
       "      <td>3.995908</td>\n",
       "      <td>3.269139</td>\n",
       "      <td>-3.995908</td>\n",
       "      <td>-0.726769</td>\n",
       "    </tr>\n",
       "    <tr>\n",
       "      <th>97176</th>\n",
       "      <td>2021</td>\n",
       "      <td>25</td>\n",
       "      <td>99990536339</td>\n",
       "      <td>-0.726769</td>\n",
       "      <td>-1.135860</td>\n",
       "      <td>-1.135860</td>\n",
       "      <td>-3.995908</td>\n",
       "      <td>-0.726769</td>\n",
       "      <td>0.264744</td>\n",
       "      <td>-0.462025</td>\n",
       "    </tr>\n",
       "    <tr>\n",
       "      <th>97177</th>\n",
       "      <td>2021</td>\n",
       "      <td>26</td>\n",
       "      <td>99990536339</td>\n",
       "      <td>-0.462025</td>\n",
       "      <td>0.133631</td>\n",
       "      <td>0.133631</td>\n",
       "      <td>0.264744</td>\n",
       "      <td>-0.462025</td>\n",
       "      <td>-0.264744</td>\n",
       "      <td>-0.726769</td>\n",
       "    </tr>\n",
       "    <tr>\n",
       "      <th>97178</th>\n",
       "      <td>2022</td>\n",
       "      <td>1</td>\n",
       "      <td>99990536339</td>\n",
       "      <td>-0.726769</td>\n",
       "      <td>-1.135860</td>\n",
       "      <td>-1.135860</td>\n",
       "      <td>-0.264744</td>\n",
       "      <td>-0.726769</td>\n",
       "      <td>NaN</td>\n",
       "      <td>NaN</td>\n",
       "    </tr>\n",
       "  </tbody>\n",
       "</table>\n",
       "<p>97179 rows × 10 columns</p>\n",
       "</div>"
      ],
      "text/plain": [
       "       Year  Fortnight  merchant_abn  sum_transactions_STD  \\\n",
       "0      2021          5   10023283211             -1.112007   \n",
       "1      2021          6   10023283211             -1.295918   \n",
       "2      2021          7   10023283211             -0.774419   \n",
       "3      2021          8   10023283211             -0.224109   \n",
       "4      2021          9   10023283211             -0.643727   \n",
       "...     ...        ...           ...                   ...   \n",
       "97174  2021         23   99990536339             -0.726769   \n",
       "97175  2021         24   99990536339              3.269139   \n",
       "97176  2021         25   99990536339             -0.726769   \n",
       "97177  2021         26   99990536339             -0.462025   \n",
       "97178  2022          1   99990536339             -0.726769   \n",
       "\n",
       "       number_of_customers_STD  distinct_customers_STD  delta(r)   rev_t+1  \\\n",
       "0                    -1.348704               -1.345017       NaN -1.112007   \n",
       "1                    -1.529404               -1.525925 -0.183912 -1.295918   \n",
       "2                    -0.987303               -0.983199  0.521500 -0.774419   \n",
       "3                    -0.324736               -0.319868  0.550309 -0.224109   \n",
       "4                    -0.565670               -0.561079 -0.419617 -0.643727   \n",
       "...                        ...                     ...       ...       ...   \n",
       "97174                -1.135860               -1.135860  0.000000 -0.726769   \n",
       "97175                 1.403122                1.403122  3.995908  3.269139   \n",
       "97176                -1.135860               -1.135860 -3.995908 -0.726769   \n",
       "97177                 0.133631                0.133631  0.264744 -0.462025   \n",
       "97178                -1.135860               -1.135860 -0.264744 -0.726769   \n",
       "\n",
       "         label1    label2  \n",
       "0     -0.183912 -1.295918  \n",
       "1      0.521500 -0.774419  \n",
       "2      0.550309 -0.224109  \n",
       "3     -0.419617 -0.643727  \n",
       "4      0.559929 -0.083798  \n",
       "...         ...       ...  \n",
       "97174  3.995908  3.269139  \n",
       "97175 -3.995908 -0.726769  \n",
       "97176  0.264744 -0.462025  \n",
       "97177 -0.264744 -0.726769  \n",
       "97178       NaN       NaN  \n",
       "\n",
       "[97179 rows x 10 columns]"
      ]
     },
     "execution_count": 7,
     "metadata": {},
     "output_type": "execute_result"
    }
   ],
   "source": [
    "merchant_fortnight_w_deltachange = pd.DataFrame()\n",
    "\n",
    "for id, dta in growth_standardised.groupby(['merchant_abn']):\n",
    "    dta['delta(r)'] = dta['sum_transactions_STD'].diff(1)\n",
    "    dta['rev_t+1'] = dta['sum_transactions_STD']\n",
    "    \n",
    "    label1 = list(dta['delta(r)'])[1:]\n",
    "    label1.append(None)\n",
    "\n",
    "    label2 = list(dta['rev_t+1'])[1:]\n",
    "    label2.append(None)\n",
    "\n",
    "    dta['label1'] = label1\n",
    "    dta['label2'] = label2\n",
    "\n",
    "    merchant_fortnight_w_deltachange = merchant_fortnight_w_deltachange.append(dta)\n",
    "\n",
    "merchant_fortnight_w_deltachange"
   ]
  },
  {
   "cell_type": "code",
   "execution_count": 8,
   "metadata": {},
   "outputs": [
    {
     "data": {
      "text/html": [
       "<div>\n",
       "<style scoped>\n",
       "    .dataframe tbody tr th:only-of-type {\n",
       "        vertical-align: middle;\n",
       "    }\n",
       "\n",
       "    .dataframe tbody tr th {\n",
       "        vertical-align: top;\n",
       "    }\n",
       "\n",
       "    .dataframe thead th {\n",
       "        text-align: right;\n",
       "    }\n",
       "</style>\n",
       "<table border=\"1\" class=\"dataframe\">\n",
       "  <thead>\n",
       "    <tr style=\"text-align: right;\">\n",
       "      <th></th>\n",
       "      <th>Year</th>\n",
       "      <th>Fortnight</th>\n",
       "      <th>merchant_abn</th>\n",
       "      <th>sum_transactions_STD</th>\n",
       "      <th>number_of_customers_STD</th>\n",
       "      <th>distinct_customers_STD</th>\n",
       "      <th>label1</th>\n",
       "      <th>label2</th>\n",
       "    </tr>\n",
       "  </thead>\n",
       "  <tbody>\n",
       "    <tr>\n",
       "      <th>0</th>\n",
       "      <td>2021</td>\n",
       "      <td>5</td>\n",
       "      <td>10023283211</td>\n",
       "      <td>-1.112007</td>\n",
       "      <td>-1.348704</td>\n",
       "      <td>-1.345017</td>\n",
       "      <td>-0.183912</td>\n",
       "      <td>-1.295918</td>\n",
       "    </tr>\n",
       "    <tr>\n",
       "      <th>1</th>\n",
       "      <td>2021</td>\n",
       "      <td>6</td>\n",
       "      <td>10023283211</td>\n",
       "      <td>-1.295918</td>\n",
       "      <td>-1.529404</td>\n",
       "      <td>-1.525925</td>\n",
       "      <td>0.521500</td>\n",
       "      <td>-0.774419</td>\n",
       "    </tr>\n",
       "    <tr>\n",
       "      <th>2</th>\n",
       "      <td>2021</td>\n",
       "      <td>7</td>\n",
       "      <td>10023283211</td>\n",
       "      <td>-0.774419</td>\n",
       "      <td>-0.987303</td>\n",
       "      <td>-0.983199</td>\n",
       "      <td>0.550309</td>\n",
       "      <td>-0.224109</td>\n",
       "    </tr>\n",
       "    <tr>\n",
       "      <th>3</th>\n",
       "      <td>2021</td>\n",
       "      <td>8</td>\n",
       "      <td>10023283211</td>\n",
       "      <td>-0.224109</td>\n",
       "      <td>-0.324736</td>\n",
       "      <td>-0.319868</td>\n",
       "      <td>-0.419617</td>\n",
       "      <td>-0.643727</td>\n",
       "    </tr>\n",
       "    <tr>\n",
       "      <th>4</th>\n",
       "      <td>2021</td>\n",
       "      <td>9</td>\n",
       "      <td>10023283211</td>\n",
       "      <td>-0.643727</td>\n",
       "      <td>-0.565670</td>\n",
       "      <td>-0.561079</td>\n",
       "      <td>0.559929</td>\n",
       "      <td>-0.083798</td>\n",
       "    </tr>\n",
       "    <tr>\n",
       "      <th>...</th>\n",
       "      <td>...</td>\n",
       "      <td>...</td>\n",
       "      <td>...</td>\n",
       "      <td>...</td>\n",
       "      <td>...</td>\n",
       "      <td>...</td>\n",
       "      <td>...</td>\n",
       "      <td>...</td>\n",
       "    </tr>\n",
       "    <tr>\n",
       "      <th>97174</th>\n",
       "      <td>2021</td>\n",
       "      <td>23</td>\n",
       "      <td>99990536339</td>\n",
       "      <td>-0.726769</td>\n",
       "      <td>-1.135860</td>\n",
       "      <td>-1.135860</td>\n",
       "      <td>3.995908</td>\n",
       "      <td>3.269139</td>\n",
       "    </tr>\n",
       "    <tr>\n",
       "      <th>97175</th>\n",
       "      <td>2021</td>\n",
       "      <td>24</td>\n",
       "      <td>99990536339</td>\n",
       "      <td>3.269139</td>\n",
       "      <td>1.403122</td>\n",
       "      <td>1.403122</td>\n",
       "      <td>-3.995908</td>\n",
       "      <td>-0.726769</td>\n",
       "    </tr>\n",
       "    <tr>\n",
       "      <th>97176</th>\n",
       "      <td>2021</td>\n",
       "      <td>25</td>\n",
       "      <td>99990536339</td>\n",
       "      <td>-0.726769</td>\n",
       "      <td>-1.135860</td>\n",
       "      <td>-1.135860</td>\n",
       "      <td>0.264744</td>\n",
       "      <td>-0.462025</td>\n",
       "    </tr>\n",
       "    <tr>\n",
       "      <th>97177</th>\n",
       "      <td>2021</td>\n",
       "      <td>26</td>\n",
       "      <td>99990536339</td>\n",
       "      <td>-0.462025</td>\n",
       "      <td>0.133631</td>\n",
       "      <td>0.133631</td>\n",
       "      <td>-0.264744</td>\n",
       "      <td>-0.726769</td>\n",
       "    </tr>\n",
       "    <tr>\n",
       "      <th>97178</th>\n",
       "      <td>2022</td>\n",
       "      <td>1</td>\n",
       "      <td>99990536339</td>\n",
       "      <td>-0.726769</td>\n",
       "      <td>-1.135860</td>\n",
       "      <td>-1.135860</td>\n",
       "      <td>NaN</td>\n",
       "      <td>NaN</td>\n",
       "    </tr>\n",
       "  </tbody>\n",
       "</table>\n",
       "<p>97179 rows × 8 columns</p>\n",
       "</div>"
      ],
      "text/plain": [
       "       Year  Fortnight  merchant_abn  sum_transactions_STD  \\\n",
       "0      2021          5   10023283211             -1.112007   \n",
       "1      2021          6   10023283211             -1.295918   \n",
       "2      2021          7   10023283211             -0.774419   \n",
       "3      2021          8   10023283211             -0.224109   \n",
       "4      2021          9   10023283211             -0.643727   \n",
       "...     ...        ...           ...                   ...   \n",
       "97174  2021         23   99990536339             -0.726769   \n",
       "97175  2021         24   99990536339              3.269139   \n",
       "97176  2021         25   99990536339             -0.726769   \n",
       "97177  2021         26   99990536339             -0.462025   \n",
       "97178  2022          1   99990536339             -0.726769   \n",
       "\n",
       "       number_of_customers_STD  distinct_customers_STD    label1    label2  \n",
       "0                    -1.348704               -1.345017 -0.183912 -1.295918  \n",
       "1                    -1.529404               -1.525925  0.521500 -0.774419  \n",
       "2                    -0.987303               -0.983199  0.550309 -0.224109  \n",
       "3                    -0.324736               -0.319868 -0.419617 -0.643727  \n",
       "4                    -0.565670               -0.561079  0.559929 -0.083798  \n",
       "...                        ...                     ...       ...       ...  \n",
       "97174                -1.135860               -1.135860  3.995908  3.269139  \n",
       "97175                 1.403122                1.403122 -3.995908 -0.726769  \n",
       "97176                -1.135860               -1.135860  0.264744 -0.462025  \n",
       "97177                 0.133631                0.133631 -0.264744 -0.726769  \n",
       "97178                -1.135860               -1.135860       NaN       NaN  \n",
       "\n",
       "[97179 rows x 8 columns]"
      ]
     },
     "execution_count": 8,
     "metadata": {},
     "output_type": "execute_result"
    }
   ],
   "source": [
    "# drop original useless columns\n",
    "merchant_fortnight_w_deltachange = merchant_fortnight_w_deltachange.drop(['delta(r)', 'rev_t+1'], axis=1)\n",
    "merchant_fortnight_w_deltachange"
   ]
  },
  {
   "cell_type": "code",
   "execution_count": 9,
   "metadata": {},
   "outputs": [],
   "source": [
    "# drop last row of each company because of NaN label (from label creatino process)\n",
    "merchant_fortnight_w_deltachange = merchant_fortnight_w_deltachange.dropna()"
   ]
  },
  {
   "cell_type": "markdown",
   "metadata": {},
   "source": [
    "## Get the lags for time series analysis"
   ]
  },
  {
   "cell_type": "code",
   "execution_count": 10,
   "metadata": {},
   "outputs": [],
   "source": [
    "# create lags\n",
    "growth_standardised_timeSeries = pd.DataFrame()\n",
    "\n",
    "for id, dta in merchant_fortnight_w_deltachange.groupby(['merchant_abn']):\n",
    "\n",
    "    for i in range(1, 6):\n",
    "        dta[f'sum_transactions_STD_t-{i}'] = dta['sum_transactions_STD'].shift(i)\n",
    "        dta[f'number_of_customers_STD_t-{i}'] = dta['number_of_customers_STD'].shift(i)\n",
    "        dta[f'distinct_customers_STD_t-{i}'] = dta['distinct_customers_STD'].shift(i)\n",
    "    \n",
    "    growth_standardised_timeSeries = pd.concat([growth_standardised_timeSeries, dta])"
   ]
  },
  {
   "cell_type": "code",
   "execution_count": 11,
   "metadata": {},
   "outputs": [],
   "source": [
    "# rename original columns with t-0\n",
    "growth_standardised_timeSeries = growth_standardised_timeSeries.rename(columns={'sum_transactions_STD': 'sum_transactions_STD_t-0', 'number_of_customers_STD': 'number_of_customers_STD_t-0', 'distinct_customers_STD': 'distinct_customers_STD_t-0'})"
   ]
  },
  {
   "cell_type": "markdown",
   "metadata": {},
   "source": [
    "Add in persona data"
   ]
  },
  {
   "cell_type": "code",
   "execution_count": 12,
   "metadata": {},
   "outputs": [
    {
     "data": {
      "text/plain": [
       "99695"
      ]
     },
     "execution_count": 12,
     "metadata": {},
     "output_type": "execute_result"
    }
   ],
   "source": [
    "persona = pd.read_csv('../data/curated/persona/Postcode_Persona.csv')\n",
    "len(persona)"
   ]
  },
  {
   "cell_type": "code",
   "execution_count": 14,
   "metadata": {},
   "outputs": [
    {
     "ename": "KeyError",
     "evalue": "'Year'",
     "output_type": "error",
     "traceback": [
      "\u001b[0;31m---------------------------------------------------------------------------\u001b[0m",
      "\u001b[0;31mKeyError\u001b[0m                                  Traceback (most recent call last)",
      "\u001b[0;32m/var/folders/xg/8w_3dndd6l5c3n99vd7vd3f40000gn/T/ipykernel_66770/348737533.py\u001b[0m in \u001b[0;36m<module>\u001b[0;34m\u001b[0m\n\u001b[0;32m----> 1\u001b[0;31m \u001b[0mgrowth_standardised_timeSeries\u001b[0m \u001b[0;34m=\u001b[0m \u001b[0mgrowth_standardised_timeSeries\u001b[0m\u001b[0;34m.\u001b[0m\u001b[0mmerge\u001b[0m\u001b[0;34m(\u001b[0m\u001b[0mpersona\u001b[0m\u001b[0;34m,\u001b[0m \u001b[0mhow\u001b[0m \u001b[0;34m=\u001b[0m \u001b[0;34m'left'\u001b[0m\u001b[0;34m,\u001b[0m \u001b[0mon\u001b[0m \u001b[0;34m=\u001b[0m \u001b[0;34m[\u001b[0m\u001b[0;34m'merchant_abn'\u001b[0m\u001b[0;34m,\u001b[0m \u001b[0;34m'Fortnight'\u001b[0m\u001b[0;34m,\u001b[0m \u001b[0;34m'Year'\u001b[0m\u001b[0;34m]\u001b[0m\u001b[0;34m)\u001b[0m\u001b[0;34m\u001b[0m\u001b[0;34m\u001b[0m\u001b[0m\n\u001b[0m\u001b[1;32m      2\u001b[0m \u001b[0mgrowth_standardised_timeSeries\u001b[0m \u001b[0;34m=\u001b[0m \u001b[0mgrowth_standardised_timeSeries\u001b[0m\u001b[0;34m.\u001b[0m\u001b[0mfillna\u001b[0m\u001b[0;34m(\u001b[0m\u001b[0;36m0\u001b[0m\u001b[0;34m)\u001b[0m\u001b[0;34m\u001b[0m\u001b[0;34m\u001b[0m\u001b[0m\n\u001b[1;32m      3\u001b[0m \u001b[0mgrowth_standardised_timeSeries\u001b[0m\u001b[0;34m\u001b[0m\u001b[0;34m\u001b[0m\u001b[0m\n",
      "\u001b[0;32m/Applications/anaconda3/lib/python3.9/site-packages/pandas/core/frame.py\u001b[0m in \u001b[0;36mmerge\u001b[0;34m(self, right, how, on, left_on, right_on, left_index, right_index, sort, suffixes, copy, indicator, validate)\u001b[0m\n\u001b[1;32m   9188\u001b[0m         \u001b[0;32mfrom\u001b[0m \u001b[0mpandas\u001b[0m\u001b[0;34m.\u001b[0m\u001b[0mcore\u001b[0m\u001b[0;34m.\u001b[0m\u001b[0mreshape\u001b[0m\u001b[0;34m.\u001b[0m\u001b[0mmerge\u001b[0m \u001b[0;32mimport\u001b[0m \u001b[0mmerge\u001b[0m\u001b[0;34m\u001b[0m\u001b[0;34m\u001b[0m\u001b[0m\n\u001b[1;32m   9189\u001b[0m \u001b[0;34m\u001b[0m\u001b[0m\n\u001b[0;32m-> 9190\u001b[0;31m         return merge(\n\u001b[0m\u001b[1;32m   9191\u001b[0m             \u001b[0mself\u001b[0m\u001b[0;34m,\u001b[0m\u001b[0;34m\u001b[0m\u001b[0;34m\u001b[0m\u001b[0m\n\u001b[1;32m   9192\u001b[0m             \u001b[0mright\u001b[0m\u001b[0;34m,\u001b[0m\u001b[0;34m\u001b[0m\u001b[0;34m\u001b[0m\u001b[0m\n",
      "\u001b[0;32m/Applications/anaconda3/lib/python3.9/site-packages/pandas/core/reshape/merge.py\u001b[0m in \u001b[0;36mmerge\u001b[0;34m(left, right, how, on, left_on, right_on, left_index, right_index, sort, suffixes, copy, indicator, validate)\u001b[0m\n\u001b[1;32m    104\u001b[0m     \u001b[0mvalidate\u001b[0m\u001b[0;34m:\u001b[0m \u001b[0mstr\u001b[0m \u001b[0;34m|\u001b[0m \u001b[0;32mNone\u001b[0m \u001b[0;34m=\u001b[0m \u001b[0;32mNone\u001b[0m\u001b[0;34m,\u001b[0m\u001b[0;34m\u001b[0m\u001b[0;34m\u001b[0m\u001b[0m\n\u001b[1;32m    105\u001b[0m ) -> DataFrame:\n\u001b[0;32m--> 106\u001b[0;31m     op = _MergeOperation(\n\u001b[0m\u001b[1;32m    107\u001b[0m         \u001b[0mleft\u001b[0m\u001b[0;34m,\u001b[0m\u001b[0;34m\u001b[0m\u001b[0;34m\u001b[0m\u001b[0m\n\u001b[1;32m    108\u001b[0m         \u001b[0mright\u001b[0m\u001b[0;34m,\u001b[0m\u001b[0;34m\u001b[0m\u001b[0;34m\u001b[0m\u001b[0m\n",
      "\u001b[0;32m/Applications/anaconda3/lib/python3.9/site-packages/pandas/core/reshape/merge.py\u001b[0m in \u001b[0;36m__init__\u001b[0;34m(self, left, right, how, on, left_on, right_on, axis, left_index, right_index, sort, suffixes, copy, indicator, validate)\u001b[0m\n\u001b[1;32m    697\u001b[0m             \u001b[0mself\u001b[0m\u001b[0;34m.\u001b[0m\u001b[0mright_join_keys\u001b[0m\u001b[0;34m,\u001b[0m\u001b[0;34m\u001b[0m\u001b[0;34m\u001b[0m\u001b[0m\n\u001b[1;32m    698\u001b[0m             \u001b[0mself\u001b[0m\u001b[0;34m.\u001b[0m\u001b[0mjoin_names\u001b[0m\u001b[0;34m,\u001b[0m\u001b[0;34m\u001b[0m\u001b[0;34m\u001b[0m\u001b[0m\n\u001b[0;32m--> 699\u001b[0;31m         ) = self._get_merge_keys()\n\u001b[0m\u001b[1;32m    700\u001b[0m \u001b[0;34m\u001b[0m\u001b[0m\n\u001b[1;32m    701\u001b[0m         \u001b[0;31m# validate the merge keys dtypes. We may need to coerce\u001b[0m\u001b[0;34m\u001b[0m\u001b[0;34m\u001b[0m\u001b[0m\n",
      "\u001b[0;32m/Applications/anaconda3/lib/python3.9/site-packages/pandas/core/reshape/merge.py\u001b[0m in \u001b[0;36m_get_merge_keys\u001b[0;34m(self)\u001b[0m\n\u001b[1;32m   1094\u001b[0m                     \u001b[0;32mif\u001b[0m \u001b[0;32mnot\u001b[0m \u001b[0mis_rkey\u001b[0m\u001b[0;34m(\u001b[0m\u001b[0mrk\u001b[0m\u001b[0;34m)\u001b[0m\u001b[0;34m:\u001b[0m\u001b[0;34m\u001b[0m\u001b[0;34m\u001b[0m\u001b[0m\n\u001b[1;32m   1095\u001b[0m                         \u001b[0;32mif\u001b[0m \u001b[0mrk\u001b[0m \u001b[0;32mis\u001b[0m \u001b[0;32mnot\u001b[0m \u001b[0;32mNone\u001b[0m\u001b[0;34m:\u001b[0m\u001b[0;34m\u001b[0m\u001b[0;34m\u001b[0m\u001b[0m\n\u001b[0;32m-> 1096\u001b[0;31m                             \u001b[0mright_keys\u001b[0m\u001b[0;34m.\u001b[0m\u001b[0mappend\u001b[0m\u001b[0;34m(\u001b[0m\u001b[0mright\u001b[0m\u001b[0;34m.\u001b[0m\u001b[0m_get_label_or_level_values\u001b[0m\u001b[0;34m(\u001b[0m\u001b[0mrk\u001b[0m\u001b[0;34m)\u001b[0m\u001b[0;34m)\u001b[0m\u001b[0;34m\u001b[0m\u001b[0;34m\u001b[0m\u001b[0m\n\u001b[0m\u001b[1;32m   1097\u001b[0m                         \u001b[0;32melse\u001b[0m\u001b[0;34m:\u001b[0m\u001b[0;34m\u001b[0m\u001b[0;34m\u001b[0m\u001b[0m\n\u001b[1;32m   1098\u001b[0m                             \u001b[0;31m# work-around for merge_asof(right_index=True)\u001b[0m\u001b[0;34m\u001b[0m\u001b[0;34m\u001b[0m\u001b[0m\n",
      "\u001b[0;32m/Applications/anaconda3/lib/python3.9/site-packages/pandas/core/generic.py\u001b[0m in \u001b[0;36m_get_label_or_level_values\u001b[0;34m(self, key, axis)\u001b[0m\n\u001b[1;32m   1777\u001b[0m             \u001b[0mvalues\u001b[0m \u001b[0;34m=\u001b[0m \u001b[0mself\u001b[0m\u001b[0;34m.\u001b[0m\u001b[0maxes\u001b[0m\u001b[0;34m[\u001b[0m\u001b[0maxis\u001b[0m\u001b[0;34m]\u001b[0m\u001b[0;34m.\u001b[0m\u001b[0mget_level_values\u001b[0m\u001b[0;34m(\u001b[0m\u001b[0mkey\u001b[0m\u001b[0;34m)\u001b[0m\u001b[0;34m.\u001b[0m\u001b[0m_values\u001b[0m\u001b[0;34m\u001b[0m\u001b[0;34m\u001b[0m\u001b[0m\n\u001b[1;32m   1778\u001b[0m         \u001b[0;32melse\u001b[0m\u001b[0;34m:\u001b[0m\u001b[0;34m\u001b[0m\u001b[0;34m\u001b[0m\u001b[0m\n\u001b[0;32m-> 1779\u001b[0;31m             \u001b[0;32mraise\u001b[0m \u001b[0mKeyError\u001b[0m\u001b[0;34m(\u001b[0m\u001b[0mkey\u001b[0m\u001b[0;34m)\u001b[0m\u001b[0;34m\u001b[0m\u001b[0;34m\u001b[0m\u001b[0m\n\u001b[0m\u001b[1;32m   1780\u001b[0m \u001b[0;34m\u001b[0m\u001b[0m\n\u001b[1;32m   1781\u001b[0m         \u001b[0;31m# Check for duplicates\u001b[0m\u001b[0;34m\u001b[0m\u001b[0;34m\u001b[0m\u001b[0m\n",
      "\u001b[0;31mKeyError\u001b[0m: 'Year'"
     ]
    }
   ],
   "source": [
    "growth_standardised_timeSeries = growth_standardised_timeSeries.merge(persona, how = 'left', on = ['merchant_abn', 'Fortnight', 'Year'])\n",
    "growth_standardised_timeSeries = growth_standardised_timeSeries.fillna(0)\n",
    "growth_standardised_timeSeries"
   ]
  },
  {
   "cell_type": "code",
   "execution_count": 12,
   "metadata": {},
   "outputs": [],
   "source": [
    "# do train val test split\n",
    "train_standardised = growth_standardised_timeSeries[(growth_standardised_timeSeries['Year'] == 2021) & (growth_standardised_timeSeries['Fortnight'] < 21)]\n",
    "\n",
    "val_standardised = growth_standardised_timeSeries[(growth_standardised_timeSeries['Year'] == 2021) & ((growth_standardised_timeSeries['Fortnight'] >= 21) & (growth_standardised_timeSeries['Fortnight'] <= 24))]\n",
    "\n",
    "test_standardised = growth_standardised_timeSeries[(growth_standardised_timeSeries['Year'] == 2022) | ((growth_standardised_timeSeries['Year'] == 2021) & (growth_standardised_timeSeries['Fortnight'] > 24))]"
   ]
  },
  {
   "cell_type": "markdown",
   "metadata": {},
   "source": [
    "### Feature Selection"
   ]
  },
  {
   "cell_type": "markdown",
   "metadata": {},
   "source": [
    "label 1's feature selection"
   ]
  },
  {
   "cell_type": "code",
   "execution_count": 39,
   "metadata": {},
   "outputs": [],
   "source": [
    "from sklearn.feature_selection import SelectKBest, f_regression"
   ]
  },
  {
   "cell_type": "code",
   "execution_count": 40,
   "metadata": {},
   "outputs": [
    {
     "data": {
      "text/plain": [
       "SelectKBest(k=18, score_func=<function f_regression at 0x7fcb197d9160>)"
      ]
     },
     "execution_count": 40,
     "metadata": {},
     "output_type": "execute_result"
    }
   ],
   "source": [
    "# select k best\n",
    "selectk_F = SelectKBest(f_regression, k = len(train_standardised.columns) - 5)\n",
    "\n",
    "# because of time series analysis, some rows have nan attribute values. Even though might be using t-1 or t-2 as time series analysis,\n",
    "# still drop as if using t-5 for simplicity sake\n",
    "train_standardised_dropna = train_standardised.dropna() \n",
    "val_standardised_dropna = val_standardised.dropna()\n",
    "test_standardised_dropna = test_standardised.dropna()\n",
    "\n",
    "selectk_F.fit(train_standardised_dropna.drop(['Year', 'Fortnight', 'merchant_abn', 'label1', 'label2'], axis=1), train_standardised_dropna['label1'])"
   ]
  },
  {
   "cell_type": "code",
   "execution_count": 43,
   "metadata": {},
   "outputs": [
    {
     "data": {
      "text/html": [
       "<div>\n",
       "<style scoped>\n",
       "    .dataframe tbody tr th:only-of-type {\n",
       "        vertical-align: middle;\n",
       "    }\n",
       "\n",
       "    .dataframe tbody tr th {\n",
       "        vertical-align: top;\n",
       "    }\n",
       "\n",
       "    .dataframe thead th {\n",
       "        text-align: right;\n",
       "    }\n",
       "</style>\n",
       "<table border=\"1\" class=\"dataframe\">\n",
       "  <thead>\n",
       "    <tr style=\"text-align: right;\">\n",
       "      <th></th>\n",
       "      <th>features</th>\n",
       "      <th>scores</th>\n",
       "    </tr>\n",
       "  </thead>\n",
       "  <tbody>\n",
       "    <tr>\n",
       "      <th>0</th>\n",
       "      <td>sum_transactions_STD_t-0</td>\n",
       "      <td>46583.953058</td>\n",
       "    </tr>\n",
       "    <tr>\n",
       "      <th>1</th>\n",
       "      <td>number_of_customers_STD_t-0</td>\n",
       "      <td>22608.632960</td>\n",
       "    </tr>\n",
       "    <tr>\n",
       "      <th>2</th>\n",
       "      <td>distinct_customers_STD_t-0</td>\n",
       "      <td>22601.135039</td>\n",
       "    </tr>\n",
       "    <tr>\n",
       "      <th>15</th>\n",
       "      <td>sum_transactions_STD_t-5</td>\n",
       "      <td>1.246396</td>\n",
       "    </tr>\n",
       "    <tr>\n",
       "      <th>9</th>\n",
       "      <td>sum_transactions_STD_t-3</td>\n",
       "      <td>0.725416</td>\n",
       "    </tr>\n",
       "    <tr>\n",
       "      <th>13</th>\n",
       "      <td>number_of_customers_STD_t-4</td>\n",
       "      <td>0.355538</td>\n",
       "    </tr>\n",
       "    <tr>\n",
       "      <th>14</th>\n",
       "      <td>distinct_customers_STD_t-4</td>\n",
       "      <td>0.352036</td>\n",
       "    </tr>\n",
       "    <tr>\n",
       "      <th>3</th>\n",
       "      <td>sum_transactions_STD_t-1</td>\n",
       "      <td>0.336616</td>\n",
       "    </tr>\n",
       "    <tr>\n",
       "      <th>16</th>\n",
       "      <td>number_of_customers_STD_t-5</td>\n",
       "      <td>0.265042</td>\n",
       "    </tr>\n",
       "    <tr>\n",
       "      <th>17</th>\n",
       "      <td>distinct_customers_STD_t-5</td>\n",
       "      <td>0.263849</td>\n",
       "    </tr>\n",
       "    <tr>\n",
       "      <th>6</th>\n",
       "      <td>sum_transactions_STD_t-2</td>\n",
       "      <td>0.228953</td>\n",
       "    </tr>\n",
       "    <tr>\n",
       "      <th>11</th>\n",
       "      <td>distinct_customers_STD_t-3</td>\n",
       "      <td>0.182656</td>\n",
       "    </tr>\n",
       "    <tr>\n",
       "      <th>10</th>\n",
       "      <td>number_of_customers_STD_t-3</td>\n",
       "      <td>0.171106</td>\n",
       "    </tr>\n",
       "    <tr>\n",
       "      <th>12</th>\n",
       "      <td>sum_transactions_STD_t-4</td>\n",
       "      <td>0.108795</td>\n",
       "    </tr>\n",
       "    <tr>\n",
       "      <th>4</th>\n",
       "      <td>number_of_customers_STD_t-1</td>\n",
       "      <td>0.082374</td>\n",
       "    </tr>\n",
       "    <tr>\n",
       "      <th>5</th>\n",
       "      <td>distinct_customers_STD_t-1</td>\n",
       "      <td>0.079077</td>\n",
       "    </tr>\n",
       "    <tr>\n",
       "      <th>8</th>\n",
       "      <td>distinct_customers_STD_t-2</td>\n",
       "      <td>0.015864</td>\n",
       "    </tr>\n",
       "    <tr>\n",
       "      <th>7</th>\n",
       "      <td>number_of_customers_STD_t-2</td>\n",
       "      <td>0.011537</td>\n",
       "    </tr>\n",
       "  </tbody>\n",
       "</table>\n",
       "</div>"
      ],
      "text/plain": [
       "                       features        scores\n",
       "0      sum_transactions_STD_t-0  46583.953058\n",
       "1   number_of_customers_STD_t-0  22608.632960\n",
       "2    distinct_customers_STD_t-0  22601.135039\n",
       "15     sum_transactions_STD_t-5      1.246396\n",
       "9      sum_transactions_STD_t-3      0.725416\n",
       "13  number_of_customers_STD_t-4      0.355538\n",
       "14   distinct_customers_STD_t-4      0.352036\n",
       "3      sum_transactions_STD_t-1      0.336616\n",
       "16  number_of_customers_STD_t-5      0.265042\n",
       "17   distinct_customers_STD_t-5      0.263849\n",
       "6      sum_transactions_STD_t-2      0.228953\n",
       "11   distinct_customers_STD_t-3      0.182656\n",
       "10  number_of_customers_STD_t-3      0.171106\n",
       "12     sum_transactions_STD_t-4      0.108795\n",
       "4   number_of_customers_STD_t-1      0.082374\n",
       "5    distinct_customers_STD_t-1      0.079077\n",
       "8    distinct_customers_STD_t-2      0.015864\n",
       "7   number_of_customers_STD_t-2      0.011537"
      ]
     },
     "execution_count": 43,
     "metadata": {},
     "output_type": "execute_result"
    }
   ],
   "source": [
    "# get the ranked feature names and scores\n",
    "kbest_scores1 = pd.DataFrame({'features': selectk_F.get_feature_names_out(), 'scores': selectk_F.scores_})\n",
    "kbest_scores1 = kbest_scores1.sort_values('scores', ascending=False)\n",
    "kbest_scores1"
   ]
  },
  {
   "cell_type": "markdown",
   "metadata": {},
   "source": [
    "label 2's feature selection"
   ]
  },
  {
   "cell_type": "code",
   "execution_count": 44,
   "metadata": {},
   "outputs": [
    {
     "data": {
      "text/plain": [
       "SelectKBest(k=18, score_func=<function f_regression at 0x7fcb197d9160>)"
      ]
     },
     "execution_count": 44,
     "metadata": {},
     "output_type": "execute_result"
    }
   ],
   "source": [
    "# select k best\n",
    "selectk_F2 = SelectKBest(f_regression, k=len(train_standardised.columns) - 5)\n",
    "\n",
    "train_standardised_dropna = train_standardised.dropna()\n",
    "val_standardised_dropna = val_standardised.dropna()\n",
    "test_standardised_dropna = test_standardised.dropna()\n",
    "\n",
    "selectk_F2.fit(train_standardised_dropna.drop(['Year', 'Fortnight', 'merchant_abn', 'label1', 'label2'], axis=1), train_standardised_dropna['label2'])"
   ]
  },
  {
   "cell_type": "code",
   "execution_count": 45,
   "metadata": {},
   "outputs": [
    {
     "data": {
      "text/html": [
       "<div>\n",
       "<style scoped>\n",
       "    .dataframe tbody tr th:only-of-type {\n",
       "        vertical-align: middle;\n",
       "    }\n",
       "\n",
       "    .dataframe tbody tr th {\n",
       "        vertical-align: top;\n",
       "    }\n",
       "\n",
       "    .dataframe thead th {\n",
       "        text-align: right;\n",
       "    }\n",
       "</style>\n",
       "<table border=\"1\" class=\"dataframe\">\n",
       "  <thead>\n",
       "    <tr style=\"text-align: right;\">\n",
       "      <th></th>\n",
       "      <th>features</th>\n",
       "      <th>scores</th>\n",
       "    </tr>\n",
       "  </thead>\n",
       "  <tbody>\n",
       "    <tr>\n",
       "      <th>3</th>\n",
       "      <td>sum_transactions_STD_t-1</td>\n",
       "      <td>28.243772</td>\n",
       "    </tr>\n",
       "    <tr>\n",
       "      <th>0</th>\n",
       "      <td>sum_transactions_STD_t-0</td>\n",
       "      <td>26.376271</td>\n",
       "    </tr>\n",
       "    <tr>\n",
       "      <th>6</th>\n",
       "      <td>sum_transactions_STD_t-2</td>\n",
       "      <td>13.990540</td>\n",
       "    </tr>\n",
       "    <tr>\n",
       "      <th>12</th>\n",
       "      <td>sum_transactions_STD_t-4</td>\n",
       "      <td>12.778861</td>\n",
       "    </tr>\n",
       "    <tr>\n",
       "      <th>9</th>\n",
       "      <td>sum_transactions_STD_t-3</td>\n",
       "      <td>12.153619</td>\n",
       "    </tr>\n",
       "    <tr>\n",
       "      <th>5</th>\n",
       "      <td>distinct_customers_STD_t-1</td>\n",
       "      <td>8.393698</td>\n",
       "    </tr>\n",
       "    <tr>\n",
       "      <th>4</th>\n",
       "      <td>number_of_customers_STD_t-1</td>\n",
       "      <td>8.364370</td>\n",
       "    </tr>\n",
       "    <tr>\n",
       "      <th>1</th>\n",
       "      <td>number_of_customers_STD_t-0</td>\n",
       "      <td>5.948272</td>\n",
       "    </tr>\n",
       "    <tr>\n",
       "      <th>2</th>\n",
       "      <td>distinct_customers_STD_t-0</td>\n",
       "      <td>5.932628</td>\n",
       "    </tr>\n",
       "    <tr>\n",
       "      <th>7</th>\n",
       "      <td>number_of_customers_STD_t-2</td>\n",
       "      <td>4.111086</td>\n",
       "    </tr>\n",
       "    <tr>\n",
       "      <th>8</th>\n",
       "      <td>distinct_customers_STD_t-2</td>\n",
       "      <td>3.996767</td>\n",
       "    </tr>\n",
       "    <tr>\n",
       "      <th>10</th>\n",
       "      <td>number_of_customers_STD_t-3</td>\n",
       "      <td>2.322647</td>\n",
       "    </tr>\n",
       "    <tr>\n",
       "      <th>11</th>\n",
       "      <td>distinct_customers_STD_t-3</td>\n",
       "      <td>2.286860</td>\n",
       "    </tr>\n",
       "    <tr>\n",
       "      <th>17</th>\n",
       "      <td>distinct_customers_STD_t-5</td>\n",
       "      <td>1.962291</td>\n",
       "    </tr>\n",
       "    <tr>\n",
       "      <th>16</th>\n",
       "      <td>number_of_customers_STD_t-5</td>\n",
       "      <td>1.915756</td>\n",
       "    </tr>\n",
       "    <tr>\n",
       "      <th>13</th>\n",
       "      <td>number_of_customers_STD_t-4</td>\n",
       "      <td>0.580360</td>\n",
       "    </tr>\n",
       "    <tr>\n",
       "      <th>14</th>\n",
       "      <td>distinct_customers_STD_t-4</td>\n",
       "      <td>0.555909</td>\n",
       "    </tr>\n",
       "    <tr>\n",
       "      <th>15</th>\n",
       "      <td>sum_transactions_STD_t-5</td>\n",
       "      <td>0.539378</td>\n",
       "    </tr>\n",
       "  </tbody>\n",
       "</table>\n",
       "</div>"
      ],
      "text/plain": [
       "                       features     scores\n",
       "3      sum_transactions_STD_t-1  28.243772\n",
       "0      sum_transactions_STD_t-0  26.376271\n",
       "6      sum_transactions_STD_t-2  13.990540\n",
       "12     sum_transactions_STD_t-4  12.778861\n",
       "9      sum_transactions_STD_t-3  12.153619\n",
       "5    distinct_customers_STD_t-1   8.393698\n",
       "4   number_of_customers_STD_t-1   8.364370\n",
       "1   number_of_customers_STD_t-0   5.948272\n",
       "2    distinct_customers_STD_t-0   5.932628\n",
       "7   number_of_customers_STD_t-2   4.111086\n",
       "8    distinct_customers_STD_t-2   3.996767\n",
       "10  number_of_customers_STD_t-3   2.322647\n",
       "11   distinct_customers_STD_t-3   2.286860\n",
       "17   distinct_customers_STD_t-5   1.962291\n",
       "16  number_of_customers_STD_t-5   1.915756\n",
       "13  number_of_customers_STD_t-4   0.580360\n",
       "14   distinct_customers_STD_t-4   0.555909\n",
       "15     sum_transactions_STD_t-5   0.539378"
      ]
     },
     "execution_count": 45,
     "metadata": {},
     "output_type": "execute_result"
    }
   ],
   "source": [
    "# get the ranked feature names and scores\n",
    "kbest_scores2 = pd.DataFrame({'features': selectk_F2.get_feature_names_out(), 'scores': selectk_F2.scores_})\n",
    "kbest_scores2 = kbest_scores2.sort_values('scores', ascending=False)\n",
    "kbest_scores2"
   ]
  },
  {
   "cell_type": "markdown",
   "metadata": {},
   "source": [
    "## Plotting"
   ]
  },
  {
   "cell_type": "code",
   "execution_count": 16,
   "metadata": {},
   "outputs": [],
   "source": [
    "import matplotlib.pyplot as plt"
   ]
  },
  {
   "cell_type": "code",
   "execution_count": 17,
   "metadata": {},
   "outputs": [
    {
     "data": {
      "text/plain": [
       "<matplotlib.collections.PathCollection at 0x7fcb1a9d05e0>"
      ]
     },
     "execution_count": 17,
     "metadata": {},
     "output_type": "execute_result"
    },
    {
     "data": {
      "image/png": "[encoded data removed]",
      "text/plain": [
       "<Figure size 432x288 with 1 Axes>"
      ]
     },
     "metadata": {
      "needs_background": "light"
     },
     "output_type": "display_data"
    }
   ],
   "source": [
    "plt.scatter(train_standardised_dropna['sum_transactions_STD_t-0'], train_standardised_dropna['label1'])"
   ]
  },
  {
   "cell_type": "code",
   "execution_count": 18,
   "metadata": {},
   "outputs": [
    {
     "data": {
      "text/plain": [
       "<matplotlib.collections.PathCollection at 0x7fcb3b8f9550>"
      ]
     },
     "execution_count": 18,
     "metadata": {},
     "output_type": "execute_result"
    },
    {
     "data": {
      "image/png": "[encoded data removed]",
      "text/plain": [
       "<Figure size 432x288 with 1 Axes>"
      ]
     },
     "metadata": {
      "needs_background": "light"
     },
     "output_type": "display_data"
    }
   ],
   "source": [
    "plt.scatter(train_standardised_dropna['number_of_customers_STD_t-0'], train_standardised_dropna['label1'])"
   ]
  },
  {
   "cell_type": "code",
   "execution_count": 19,
   "metadata": {},
   "outputs": [
    {
     "data": {
      "text/plain": [
       "<matplotlib.collections.PathCollection at 0x7fcb082e4310>"
      ]
     },
     "execution_count": 19,
     "metadata": {},
     "output_type": "execute_result"
    },
    {
     "data": {
      "image/png": "[encoded data removed]",
      "text/plain": [
       "<Figure size 432x288 with 1 Axes>"
      ]
     },
     "metadata": {
      "needs_background": "light"
     },
     "output_type": "display_data"
    }
   ],
   "source": [
    "plt.scatter(train_standardised_dropna['distinct_customers_STD_t-0'], train_standardised_dropna['label1'])"
   ]
  },
  {
   "cell_type": "code",
   "execution_count": 20,
   "metadata": {},
   "outputs": [
    {
     "data": {
      "text/plain": [
       "<matplotlib.collections.PathCollection at 0x7fcb1aae79d0>"
      ]
     },
     "execution_count": 20,
     "metadata": {},
     "output_type": "execute_result"
    },
    {
     "data": {
      "image/png": "[encoded data removed]",
      "text/plain": [
       "<Figure size 432x288 with 1 Axes>"
      ]
     },
     "metadata": {
      "needs_background": "light"
     },
     "output_type": "display_data"
    }
   ],
   "source": [
    "plt.scatter(train_standardised_dropna['sum_transactions_STD_t-1'], train_standardised_dropna['label1'])"
   ]
  },
  {
   "cell_type": "code",
   "execution_count": 21,
   "metadata": {},
   "outputs": [
    {
     "data": {
      "text/plain": [
       "<matplotlib.collections.PathCollection at 0x7fcb09cd0fd0>"
      ]
     },
     "execution_count": 21,
     "metadata": {},
     "output_type": "execute_result"
    },
    {
     "data": {
      "image/png": "[encoded data removed]",
      "text/plain": [
       "<Figure size 432x288 with 1 Axes>"
      ]
     },
     "metadata": {
      "needs_background": "light"
     },
     "output_type": "display_data"
    }
   ],
   "source": [
    "plt.scatter(train_standardised_dropna['number_of_customers_STD_t-1'], train_standardised_dropna['label1'])"
   ]
  },
  {
   "cell_type": "code",
   "execution_count": 22,
   "metadata": {},
   "outputs": [
    {
     "data": {
      "text/plain": [
       "<matplotlib.collections.PathCollection at 0x7fcb3bd0b610>"
      ]
     },
     "execution_count": 22,
     "metadata": {},
     "output_type": "execute_result"
    },
    {
     "data": {
      "image/png": "[encoded data removed]",
      "text/plain": [
       "<Figure size 432x288 with 1 Axes>"
      ]
     },
     "metadata": {
      "needs_background": "light"
     },
     "output_type": "display_data"
    }
   ],
   "source": [
    "plt.scatter(train_standardised_dropna['distinct_customers_STD_t-1'], train_standardised_dropna['label1'])"
   ]
  },
  {
   "cell_type": "markdown",
   "metadata": {},
   "source": [
    "# Models\n",
    "### 1. Linear Regression\n",
    "\n",
    "label1"
   ]
  },
  {
   "cell_type": "code",
   "execution_count": 31,
   "metadata": {},
   "outputs": [],
   "source": [
    "from sklearn.linear_model import LinearRegression"
   ]
  },
  {
   "cell_type": "code",
   "execution_count": 32,
   "metadata": {},
   "outputs": [
    {
     "data": {
      "text/plain": [
       "LinearRegression()"
      ]
     },
     "execution_count": 32,
     "metadata": {},
     "output_type": "execute_result"
    }
   ],
   "source": [
    "LR = LinearRegression()\n",
    "LR.fit(train_standardised_dropna[['sum_transactions_STD_t-0', \n",
    "    'number_of_customers_STD_t-0', \n",
    "    'distinct_customers_STD_t-0']], train_standardised_dropna['label1'])"
   ]
  },
  {
   "cell_type": "code",
   "execution_count": 33,
   "metadata": {},
   "outputs": [
    {
     "data": {
      "text/html": [
       "<div>\n",
       "<style scoped>\n",
       "    .dataframe tbody tr th:only-of-type {\n",
       "        vertical-align: middle;\n",
       "    }\n",
       "\n",
       "    .dataframe tbody tr th {\n",
       "        vertical-align: top;\n",
       "    }\n",
       "\n",
       "    .dataframe thead th {\n",
       "        text-align: right;\n",
       "    }\n",
       "</style>\n",
       "<table border=\"1\" class=\"dataframe\">\n",
       "  <thead>\n",
       "    <tr style=\"text-align: right;\">\n",
       "      <th></th>\n",
       "      <th>predictions</th>\n",
       "    </tr>\n",
       "  </thead>\n",
       "  <tbody>\n",
       "    <tr>\n",
       "      <th>count</th>\n",
       "      <td>45189.000000</td>\n",
       "    </tr>\n",
       "    <tr>\n",
       "      <th>mean</th>\n",
       "      <td>0.030275</td>\n",
       "    </tr>\n",
       "    <tr>\n",
       "      <th>std</th>\n",
       "      <td>0.805496</td>\n",
       "    </tr>\n",
       "    <tr>\n",
       "      <th>min</th>\n",
       "      <td>-4.795080</td>\n",
       "    </tr>\n",
       "    <tr>\n",
       "      <th>25%</th>\n",
       "      <td>-0.372863</td>\n",
       "    </tr>\n",
       "    <tr>\n",
       "      <th>50%</th>\n",
       "      <td>0.160314</td>\n",
       "    </tr>\n",
       "    <tr>\n",
       "      <th>75%</th>\n",
       "      <td>0.567405</td>\n",
       "    </tr>\n",
       "    <tr>\n",
       "      <th>max</th>\n",
       "      <td>2.582606</td>\n",
       "    </tr>\n",
       "  </tbody>\n",
       "</table>\n",
       "</div>"
      ],
      "text/plain": [
       "        predictions\n",
       "count  45189.000000\n",
       "mean       0.030275\n",
       "std        0.805496\n",
       "min       -4.795080\n",
       "25%       -0.372863\n",
       "50%        0.160314\n",
       "75%        0.567405\n",
       "max        2.582606"
      ]
     },
     "execution_count": 33,
     "metadata": {},
     "output_type": "execute_result"
    }
   ],
   "source": [
    "predictions = LR.predict(train_standardised_dropna[['sum_transactions_STD_t-0', 'number_of_customers_STD_t-0', 'distinct_customers_STD_t-0']])\n",
    "\n",
    "pd.DataFrame({'predictions':predictions}).describe()"
   ]
  },
  {
   "cell_type": "code",
   "execution_count": 35,
   "metadata": {},
   "outputs": [
    {
     "data": {
      "text/plain": [
       "0.5077145072399425"
      ]
     },
     "execution_count": 35,
     "metadata": {},
     "output_type": "execute_result"
    }
   ],
   "source": [
    "LR.score(train_standardised_dropna[['sum_transactions_STD_t-0', 'number_of_customers_STD_t-0', 'distinct_customers_STD_t-0']], train_standardised_dropna['label1'])"
   ]
  },
  {
   "cell_type": "code",
   "execution_count": 36,
   "metadata": {},
   "outputs": [
    {
     "data": {
      "text/plain": [
       "-0.029867701607257713"
      ]
     },
     "execution_count": 36,
     "metadata": {},
     "output_type": "execute_result"
    }
   ],
   "source": [
    "LR.score(val_standardised_dropna[['sum_transactions_STD_t-0', 'number_of_customers_STD_t-0', 'distinct_customers_STD_t-0']], val_standardised_dropna['label1'])"
   ]
  },
  {
   "cell_type": "code",
   "execution_count": 37,
   "metadata": {},
   "outputs": [
    {
     "data": {
      "text/plain": [
       "0.4726485719503615"
      ]
     },
     "execution_count": 37,
     "metadata": {},
     "output_type": "execute_result"
    }
   ],
   "source": [
    "LR.score(test_standardised_dropna[['sum_transactions_STD_t-0', 'number_of_customers_STD_t-0', 'distinct_customers_STD_t-0']], test_standardised_dropna['label1'])"
   ]
  },
  {
   "cell_type": "markdown",
   "metadata": {},
   "source": [
    "label 2"
   ]
  },
  {
   "cell_type": "code",
   "execution_count": 54,
   "metadata": {},
   "outputs": [
    {
     "data": {
      "text/plain": [
       "LinearRegression()"
      ]
     },
     "execution_count": 54,
     "metadata": {},
     "output_type": "execute_result"
    }
   ],
   "source": [
    "LR1 = LinearRegression()\n",
    "LR1.fit(train_standardised_dropna[['sum_transactions_STD_t-0', \n",
    "    'sum_transactions_STD_t-1',\n",
    "    'sum_transactions_STD_t-2',\n",
    "    'sum_transactions_STD_t-3',\n",
    "    'sum_transactions_STD_t-4'\n",
    "]], train_standardised_dropna['label2'])"
   ]
  },
  {
   "cell_type": "code",
   "execution_count": 55,
   "metadata": {},
   "outputs": [
    {
     "data": {
      "text/html": [
       "<div>\n",
       "<style scoped>\n",
       "    .dataframe tbody tr th:only-of-type {\n",
       "        vertical-align: middle;\n",
       "    }\n",
       "\n",
       "    .dataframe tbody tr th {\n",
       "        vertical-align: top;\n",
       "    }\n",
       "\n",
       "    .dataframe thead th {\n",
       "        text-align: right;\n",
       "    }\n",
       "</style>\n",
       "<table border=\"1\" class=\"dataframe\">\n",
       "  <thead>\n",
       "    <tr style=\"text-align: right;\">\n",
       "      <th></th>\n",
       "      <th>predictions</th>\n",
       "    </tr>\n",
       "  </thead>\n",
       "  <tbody>\n",
       "    <tr>\n",
       "      <th>count</th>\n",
       "      <td>45189.000000</td>\n",
       "    </tr>\n",
       "    <tr>\n",
       "      <th>mean</th>\n",
       "      <td>-0.099107</td>\n",
       "    </tr>\n",
       "    <tr>\n",
       "      <th>std</th>\n",
       "      <td>0.037153</td>\n",
       "    </tr>\n",
       "    <tr>\n",
       "      <th>min</th>\n",
       "      <td>-0.273217</td>\n",
       "    </tr>\n",
       "    <tr>\n",
       "      <th>25%</th>\n",
       "      <td>-0.120962</td>\n",
       "    </tr>\n",
       "    <tr>\n",
       "      <th>50%</th>\n",
       "      <td>-0.095182</td>\n",
       "    </tr>\n",
       "    <tr>\n",
       "      <th>75%</th>\n",
       "      <td>-0.073319</td>\n",
       "    </tr>\n",
       "    <tr>\n",
       "      <th>max</th>\n",
       "      <td>0.025572</td>\n",
       "    </tr>\n",
       "  </tbody>\n",
       "</table>\n",
       "</div>"
      ],
      "text/plain": [
       "        predictions\n",
       "count  45189.000000\n",
       "mean      -0.099107\n",
       "std        0.037153\n",
       "min       -0.273217\n",
       "25%       -0.120962\n",
       "50%       -0.095182\n",
       "75%       -0.073319\n",
       "max        0.025572"
      ]
     },
     "execution_count": 55,
     "metadata": {},
     "output_type": "execute_result"
    }
   ],
   "source": [
    "predictions = LR1.predict(train_standardised_dropna[['sum_transactions_STD_t-0', \n",
    "    'sum_transactions_STD_t-1',\n",
    "    'sum_transactions_STD_t-2',\n",
    "    'sum_transactions_STD_t-3',\n",
    "    'sum_transactions_STD_t-4']])\n",
    "\n",
    "pd.DataFrame({'predictions':predictions}).describe()"
   ]
  },
  {
   "cell_type": "code",
   "execution_count": 56,
   "metadata": {},
   "outputs": [
    {
     "data": {
      "text/plain": [
       "0.011563269723849245"
      ]
     },
     "execution_count": 56,
     "metadata": {},
     "output_type": "execute_result"
    }
   ],
   "source": [
    "LR1.score(train_standardised_dropna[['sum_transactions_STD_t-0', \n",
    "    'sum_transactions_STD_t-1',\n",
    "    'sum_transactions_STD_t-2',\n",
    "    'sum_transactions_STD_t-3',\n",
    "    'sum_transactions_STD_t-4']], train_standardised_dropna['label1'])"
   ]
  },
  {
   "cell_type": "code",
   "execution_count": 57,
   "metadata": {},
   "outputs": [
    {
     "data": {
      "text/plain": [
       "-0.02826962757423246"
      ]
     },
     "execution_count": 57,
     "metadata": {},
     "output_type": "execute_result"
    }
   ],
   "source": [
    "LR1.score(val_standardised_dropna[['sum_transactions_STD_t-0', \n",
    "    'sum_transactions_STD_t-1',\n",
    "    'sum_transactions_STD_t-2',\n",
    "    'sum_transactions_STD_t-3',\n",
    "    'sum_transactions_STD_t-4']], val_standardised_dropna['label1'])"
   ]
  },
  {
   "cell_type": "code",
   "execution_count": 58,
   "metadata": {},
   "outputs": [
    {
     "data": {
      "text/plain": [
       "-0.1424553662058512"
      ]
     },
     "execution_count": 58,
     "metadata": {},
     "output_type": "execute_result"
    }
   ],
   "source": [
    "LR1.score(test_standardised_dropna[['sum_transactions_STD_t-0', \n",
    "    'sum_transactions_STD_t-1',\n",
    "    'sum_transactions_STD_t-2',\n",
    "    'sum_transactions_STD_t-3',\n",
    "    'sum_transactions_STD_t-4']], test_standardised_dropna['label1'])"
   ]
  },
  {
   "cell_type": "markdown",
   "metadata": {},
   "source": [
    "### 2. XGBoost "
   ]
  },
  {
   "cell_type": "markdown",
   "metadata": {},
   "source": [
    "label 1"
   ]
  },
  {
   "cell_type": "code",
   "execution_count": 23,
   "metadata": {},
   "outputs": [],
   "source": [
    "import xgboost"
   ]
  },
  {
   "cell_type": "code",
   "execution_count": 25,
   "metadata": {},
   "outputs": [
    {
     "data": {
      "text/plain": [
       "XGBRegressor(base_score=0.5, booster='gbtree', callbacks=None,\n",
       "             colsample_bylevel=1, colsample_bynode=1, colsample_bytree=1,\n",
       "             early_stopping_rounds=None, enable_categorical=False,\n",
       "             eval_metric=None, gamma=0, gpu_id=-1, grow_policy='depthwise',\n",
       "             importance_type=None, interaction_constraints='',\n",
       "             learning_rate=0.300000012, max_bin=256, max_cat_to_onehot=4,\n",
       "             max_delta_step=0, max_depth=6, max_leaves=0, min_child_weight=1,\n",
       "             missing=nan, monotone_constraints='()', n_estimators=100, n_jobs=0,\n",
       "             num_parallel_tree=1, predictor='auto', random_state=0, reg_alpha=0,\n",
       "             reg_lambda=1, ...)"
      ]
     },
     "execution_count": 25,
     "metadata": {},
     "output_type": "execute_result"
    }
   ],
   "source": [
    "m1 = xgboost.XGBRegressor()\n",
    "m1.fit(train_standardised_dropna[['sum_transactions_STD_t-0', \n",
    "    'number_of_customers_STD_t-0', \n",
    "    'distinct_customers_STD_t-0']], train_standardised_dropna['label1'])"
   ]
  },
  {
   "cell_type": "code",
   "execution_count": 26,
   "metadata": {},
   "outputs": [
    {
     "data": {
      "text/html": [
       "<div>\n",
       "<style scoped>\n",
       "    .dataframe tbody tr th:only-of-type {\n",
       "        vertical-align: middle;\n",
       "    }\n",
       "\n",
       "    .dataframe tbody tr th {\n",
       "        vertical-align: top;\n",
       "    }\n",
       "\n",
       "    .dataframe thead th {\n",
       "        text-align: right;\n",
       "    }\n",
       "</style>\n",
       "<table border=\"1\" class=\"dataframe\">\n",
       "  <thead>\n",
       "    <tr style=\"text-align: right;\">\n",
       "      <th></th>\n",
       "      <th>predictions</th>\n",
       "    </tr>\n",
       "  </thead>\n",
       "  <tbody>\n",
       "    <tr>\n",
       "      <th>count</th>\n",
       "      <td>45189.000000</td>\n",
       "    </tr>\n",
       "    <tr>\n",
       "      <th>mean</th>\n",
       "      <td>0.030242</td>\n",
       "    </tr>\n",
       "    <tr>\n",
       "      <th>std</th>\n",
       "      <td>0.817589</td>\n",
       "    </tr>\n",
       "    <tr>\n",
       "      <th>min</th>\n",
       "      <td>-4.606647</td>\n",
       "    </tr>\n",
       "    <tr>\n",
       "      <th>25%</th>\n",
       "      <td>-0.379073</td>\n",
       "    </tr>\n",
       "    <tr>\n",
       "      <th>50%</th>\n",
       "      <td>0.121023</td>\n",
       "    </tr>\n",
       "    <tr>\n",
       "      <th>75%</th>\n",
       "      <td>0.555509</td>\n",
       "    </tr>\n",
       "    <tr>\n",
       "      <th>max</th>\n",
       "      <td>3.511868</td>\n",
       "    </tr>\n",
       "  </tbody>\n",
       "</table>\n",
       "</div>"
      ],
      "text/plain": [
       "        predictions\n",
       "count  45189.000000\n",
       "mean       0.030242\n",
       "std        0.817589\n",
       "min       -4.606647\n",
       "25%       -0.379073\n",
       "50%        0.121023\n",
       "75%        0.555509\n",
       "max        3.511868"
      ]
     },
     "execution_count": 26,
     "metadata": {},
     "output_type": "execute_result"
    }
   ],
   "source": [
    "predictions = m1.predict(train_standardised_dropna[['sum_transactions_STD_t-0', 'number_of_customers_STD_t-0', 'distinct_customers_STD_t-0']])\n",
    "\n",
    "pd.DataFrame({'predictions':predictions}).describe()"
   ]
  },
  {
   "cell_type": "code",
   "execution_count": 27,
   "metadata": {},
   "outputs": [
    {
     "data": {
      "text/plain": [
       "0.568289779909569"
      ]
     },
     "execution_count": 27,
     "metadata": {},
     "output_type": "execute_result"
    }
   ],
   "source": [
    "m1.score(train_standardised_dropna[['sum_transactions_STD_t-0', 'number_of_customers_STD_t-0', 'distinct_customers_STD_t-0']], train_standardised_dropna['label1'])"
   ]
  },
  {
   "cell_type": "code",
   "execution_count": 28,
   "metadata": {},
   "outputs": [
    {
     "data": {
      "text/plain": [
       "-0.05864081019149925"
      ]
     },
     "execution_count": 28,
     "metadata": {},
     "output_type": "execute_result"
    }
   ],
   "source": [
    "m1.score(val_standardised_dropna[['sum_transactions_STD_t-0', 'number_of_customers_STD_t-0', 'distinct_customers_STD_t-0']], val_standardised_dropna['label1'])"
   ]
  },
  {
   "cell_type": "code",
   "execution_count": 29,
   "metadata": {},
   "outputs": [
    {
     "data": {
      "text/plain": [
       "0.45497041017788875"
      ]
     },
     "execution_count": 29,
     "metadata": {},
     "output_type": "execute_result"
    }
   ],
   "source": [
    "m1.score(test_standardised_dropna[['sum_transactions_STD_t-0', 'number_of_customers_STD_t-0', 'distinct_customers_STD_t-0']], test_standardised_dropna['label1'])"
   ]
  },
  {
   "cell_type": "markdown",
   "metadata": {},
   "source": [
    "label 2"
   ]
  },
  {
   "cell_type": "code",
   "execution_count": 67,
   "metadata": {},
   "outputs": [],
   "source": [
    "m = xgboost.XGBRegressor()"
   ]
  },
  {
   "cell_type": "code",
   "execution_count": 69,
   "metadata": {},
   "outputs": [
    {
     "data": {
      "text/plain": [
       "XGBRegressor(base_score=0.5, booster='gbtree', callbacks=None,\n",
       "             colsample_bylevel=1, colsample_bynode=1, colsample_bytree=1,\n",
       "             early_stopping_rounds=None, enable_categorical=False,\n",
       "             eval_metric=None, gamma=0, gpu_id=-1, grow_policy='depthwise',\n",
       "             importance_type=None, interaction_constraints='',\n",
       "             learning_rate=0.300000012, max_bin=256, max_cat_to_onehot=4,\n",
       "             max_delta_step=0, max_depth=6, max_leaves=0, min_child_weight=1,\n",
       "             missing=nan, monotone_constraints='()', n_estimators=100, n_jobs=0,\n",
       "             num_parallel_tree=1, predictor='auto', random_state=0, reg_alpha=0,\n",
       "             reg_lambda=1, ...)"
      ]
     },
     "execution_count": 69,
     "metadata": {},
     "output_type": "execute_result"
    }
   ],
   "source": [
    "m.fit(train_standardised_dropna[['sum_transactions_STD_t-0', \n",
    "    'sum_transactions_STD_t-1',\n",
    "    'sum_transactions_STD_t-2',\n",
    "    'sum_transactions_STD_t-3',\n",
    "    'sum_transactions_STD_t-4'\n",
    "]], train_standardised_dropna['label2'])"
   ]
  },
  {
   "cell_type": "code",
   "execution_count": 70,
   "metadata": {},
   "outputs": [
    {
     "data": {
      "text/html": [
       "<div>\n",
       "<style scoped>\n",
       "    .dataframe tbody tr th:only-of-type {\n",
       "        vertical-align: middle;\n",
       "    }\n",
       "\n",
       "    .dataframe tbody tr th {\n",
       "        vertical-align: top;\n",
       "    }\n",
       "\n",
       "    .dataframe thead th {\n",
       "        text-align: right;\n",
       "    }\n",
       "</style>\n",
       "<table border=\"1\" class=\"dataframe\">\n",
       "  <thead>\n",
       "    <tr style=\"text-align: right;\">\n",
       "      <th></th>\n",
       "      <th>predictions</th>\n",
       "    </tr>\n",
       "  </thead>\n",
       "  <tbody>\n",
       "    <tr>\n",
       "      <th>count</th>\n",
       "      <td>45189.000000</td>\n",
       "    </tr>\n",
       "    <tr>\n",
       "      <th>mean</th>\n",
       "      <td>-0.099139</td>\n",
       "    </tr>\n",
       "    <tr>\n",
       "      <th>std</th>\n",
       "      <td>0.176811</td>\n",
       "    </tr>\n",
       "    <tr>\n",
       "      <th>min</th>\n",
       "      <td>-1.110840</td>\n",
       "    </tr>\n",
       "    <tr>\n",
       "      <th>25%</th>\n",
       "      <td>-0.172111</td>\n",
       "    </tr>\n",
       "    <tr>\n",
       "      <th>50%</th>\n",
       "      <td>-0.108059</td>\n",
       "    </tr>\n",
       "    <tr>\n",
       "      <th>75%</th>\n",
       "      <td>-0.046318</td>\n",
       "    </tr>\n",
       "    <tr>\n",
       "      <th>max</th>\n",
       "      <td>2.154304</td>\n",
       "    </tr>\n",
       "  </tbody>\n",
       "</table>\n",
       "</div>"
      ],
      "text/plain": [
       "        predictions\n",
       "count  45189.000000\n",
       "mean      -0.099139\n",
       "std        0.176811\n",
       "min       -1.110840\n",
       "25%       -0.172111\n",
       "50%       -0.108059\n",
       "75%       -0.046318\n",
       "max        2.154304"
      ]
     },
     "execution_count": 70,
     "metadata": {},
     "output_type": "execute_result"
    }
   ],
   "source": [
    "predictions = m.predict(train_standardised_dropna[['sum_transactions_STD_t-0', \n",
    "    'sum_transactions_STD_t-1',\n",
    "    'sum_transactions_STD_t-2',\n",
    "    'sum_transactions_STD_t-3',\n",
    "    'sum_transactions_STD_t-4']])\n",
    "\n",
    "pd.DataFrame({'predictions':predictions}).describe()"
   ]
  },
  {
   "cell_type": "code",
   "execution_count": 71,
   "metadata": {},
   "outputs": [
    {
     "data": {
      "text/plain": [
       "0.1002040306861246"
      ]
     },
     "execution_count": 71,
     "metadata": {},
     "output_type": "execute_result"
    }
   ],
   "source": [
    "m.score(train_standardised_dropna[['sum_transactions_STD_t-0', \n",
    "    'sum_transactions_STD_t-1',\n",
    "    'sum_transactions_STD_t-2',\n",
    "    'sum_transactions_STD_t-3',\n",
    "    'sum_transactions_STD_t-4']], train_standardised_dropna['label1'])"
   ]
  },
  {
   "cell_type": "code",
   "execution_count": 72,
   "metadata": {},
   "outputs": [
    {
     "data": {
      "text/plain": [
       "-0.041246267921657864"
      ]
     },
     "execution_count": 72,
     "metadata": {},
     "output_type": "execute_result"
    }
   ],
   "source": [
    "m.score(val_standardised_dropna[['sum_transactions_STD_t-0', \n",
    "    'sum_transactions_STD_t-1',\n",
    "    'sum_transactions_STD_t-2',\n",
    "    'sum_transactions_STD_t-3',\n",
    "    'sum_transactions_STD_t-4']], val_standardised_dropna['label1'])"
   ]
  },
  {
   "cell_type": "code",
   "execution_count": 73,
   "metadata": {},
   "outputs": [
    {
     "data": {
      "text/plain": [
       "-0.08181911857022528"
      ]
     },
     "execution_count": 73,
     "metadata": {},
     "output_type": "execute_result"
    }
   ],
   "source": [
    "m.score(test_standardised_dropna[['sum_transactions_STD_t-0', \n",
    "    'sum_transactions_STD_t-1',\n",
    "    'sum_transactions_STD_t-2',\n",
    "    'sum_transactions_STD_t-3',\n",
    "    'sum_transactions_STD_t-4']], test_standardised_dropna['label1'])"
   ]
  },
  {
   "cell_type": "markdown",
   "metadata": {},
   "source": [
    "### 3. Random Forest Regression\n",
    "\n",
    "label 1"
   ]
  },
  {
   "cell_type": "code",
   "execution_count": 46,
   "metadata": {},
   "outputs": [],
   "source": [
    "from sklearn.ensemble import RandomForestRegressor"
   ]
  },
  {
   "cell_type": "code",
   "execution_count": 48,
   "metadata": {},
   "outputs": [
    {
     "data": {
      "text/plain": [
       "RandomForestRegressor()"
      ]
     },
     "execution_count": 48,
     "metadata": {},
     "output_type": "execute_result"
    }
   ],
   "source": [
    "RFR = RandomForestRegressor()\n",
    "RFR.fit(train_standardised_dropna.drop(['Year', 'Fortnight', 'merchant_abn', 'label1', 'label2'], axis=1), train_standardised_dropna['label1'])"
   ]
  },
  {
   "cell_type": "code",
   "execution_count": 51,
   "metadata": {},
   "outputs": [
    {
     "data": {
      "text/plain": [
       "0.9243438470999903"
      ]
     },
     "execution_count": 51,
     "metadata": {},
     "output_type": "execute_result"
    }
   ],
   "source": [
    "RFR.score(train_standardised_dropna.drop(['Year', 'Fortnight', 'merchant_abn', 'label1', 'label2'], axis=1), train_standardised_dropna['label1'])"
   ]
  },
  {
   "cell_type": "code",
   "execution_count": 52,
   "metadata": {},
   "outputs": [
    {
     "data": {
      "text/plain": [
       "-0.023818854614364504"
      ]
     },
     "execution_count": 52,
     "metadata": {},
     "output_type": "execute_result"
    }
   ],
   "source": [
    "RFR.score(val_standardised_dropna.drop(['Year', 'Fortnight', 'merchant_abn', 'label1', 'label2'], axis=1), val_standardised_dropna['label1'])"
   ]
  },
  {
   "cell_type": "code",
   "execution_count": 53,
   "metadata": {},
   "outputs": [
    {
     "data": {
      "text/plain": [
       "0.4418797938913085"
      ]
     },
     "execution_count": 53,
     "metadata": {},
     "output_type": "execute_result"
    }
   ],
   "source": [
    "RFR.score(test_standardised_dropna.drop(['Year', 'Fortnight', 'merchant_abn', 'label1', 'label2'], axis=1), test_standardised_dropna['label1'])"
   ]
  },
  {
   "cell_type": "markdown",
   "metadata": {},
   "source": [
    "label 2"
   ]
  },
  {
   "cell_type": "code",
   "execution_count": 60,
   "metadata": {},
   "outputs": [
    {
     "data": {
      "text/plain": [
       "RandomForestRegressor()"
      ]
     },
     "execution_count": 60,
     "metadata": {},
     "output_type": "execute_result"
    }
   ],
   "source": [
    "RFR1 = RandomForestRegressor()\n",
    "RFR1.fit(train_standardised_dropna[['sum_transactions_STD_t-0', \n",
    "    'sum_transactions_STD_t-1',\n",
    "    'sum_transactions_STD_t-2',\n",
    "    'sum_transactions_STD_t-3',\n",
    "    'sum_transactions_STD_t-4'\n",
    "]], train_standardised_dropna['label2'])"
   ]
  },
  {
   "cell_type": "code",
   "execution_count": 61,
   "metadata": {},
   "outputs": [
    {
     "data": {
      "text/html": [
       "<div>\n",
       "<style scoped>\n",
       "    .dataframe tbody tr th:only-of-type {\n",
       "        vertical-align: middle;\n",
       "    }\n",
       "\n",
       "    .dataframe tbody tr th {\n",
       "        vertical-align: top;\n",
       "    }\n",
       "\n",
       "    .dataframe thead th {\n",
       "        text-align: right;\n",
       "    }\n",
       "</style>\n",
       "<table border=\"1\" class=\"dataframe\">\n",
       "  <thead>\n",
       "    <tr style=\"text-align: right;\">\n",
       "      <th></th>\n",
       "      <th>predictions</th>\n",
       "    </tr>\n",
       "  </thead>\n",
       "  <tbody>\n",
       "    <tr>\n",
       "      <th>count</th>\n",
       "      <td>45189.000000</td>\n",
       "    </tr>\n",
       "    <tr>\n",
       "      <th>mean</th>\n",
       "      <td>-0.091922</td>\n",
       "    </tr>\n",
       "    <tr>\n",
       "      <th>std</th>\n",
       "      <td>0.508397</td>\n",
       "    </tr>\n",
       "    <tr>\n",
       "      <th>min</th>\n",
       "      <td>-1.774896</td>\n",
       "    </tr>\n",
       "    <tr>\n",
       "      <th>25%</th>\n",
       "      <td>-0.435167</td>\n",
       "    </tr>\n",
       "    <tr>\n",
       "      <th>50%</th>\n",
       "      <td>-0.165097</td>\n",
       "    </tr>\n",
       "    <tr>\n",
       "      <th>75%</th>\n",
       "      <td>0.173046</td>\n",
       "    </tr>\n",
       "    <tr>\n",
       "      <th>max</th>\n",
       "      <td>2.790557</td>\n",
       "    </tr>\n",
       "  </tbody>\n",
       "</table>\n",
       "</div>"
      ],
      "text/plain": [
       "        predictions\n",
       "count  45189.000000\n",
       "mean      -0.091922\n",
       "std        0.508397\n",
       "min       -1.774896\n",
       "25%       -0.435167\n",
       "50%       -0.165097\n",
       "75%        0.173046\n",
       "max        2.790557"
      ]
     },
     "execution_count": 61,
     "metadata": {},
     "output_type": "execute_result"
    }
   ],
   "source": [
    "predictions = RFR1.predict(train_standardised_dropna[['sum_transactions_STD_t-0', \n",
    "    'sum_transactions_STD_t-1',\n",
    "    'sum_transactions_STD_t-2',\n",
    "    'sum_transactions_STD_t-3',\n",
    "    'sum_transactions_STD_t-4']])\n",
    "\n",
    "pd.DataFrame({'predictions':predictions}).describe()"
   ]
  },
  {
   "cell_type": "code",
   "execution_count": 62,
   "metadata": {},
   "outputs": [
    {
     "data": {
      "text/plain": [
       "0.4240184006942648"
      ]
     },
     "execution_count": 62,
     "metadata": {},
     "output_type": "execute_result"
    }
   ],
   "source": [
    "RFR1.score(train_standardised_dropna[['sum_transactions_STD_t-0', \n",
    "    'sum_transactions_STD_t-1',\n",
    "    'sum_transactions_STD_t-2',\n",
    "    'sum_transactions_STD_t-3',\n",
    "    'sum_transactions_STD_t-4']], train_standardised_dropna['label1'])"
   ]
  },
  {
   "cell_type": "code",
   "execution_count": 63,
   "metadata": {},
   "outputs": [
    {
     "data": {
      "text/plain": [
       "-0.059513413633985435"
      ]
     },
     "execution_count": 63,
     "metadata": {},
     "output_type": "execute_result"
    }
   ],
   "source": [
    "RFR1.score(val_standardised_dropna[['sum_transactions_STD_t-0', \n",
    "    'sum_transactions_STD_t-1',\n",
    "    'sum_transactions_STD_t-2',\n",
    "    'sum_transactions_STD_t-3',\n",
    "    'sum_transactions_STD_t-4']], val_standardised_dropna['label1'])"
   ]
  },
  {
   "cell_type": "code",
   "execution_count": 64,
   "metadata": {},
   "outputs": [
    {
     "data": {
      "text/plain": [
       "-0.21375774616903387"
      ]
     },
     "execution_count": 64,
     "metadata": {},
     "output_type": "execute_result"
    }
   ],
   "source": [
    "RFR1.score(test_standardised_dropna[['sum_transactions_STD_t-0', \n",
    "    'sum_transactions_STD_t-1',\n",
    "    'sum_transactions_STD_t-2',\n",
    "    'sum_transactions_STD_t-3',\n",
    "    'sum_transactions_STD_t-4']], test_standardised_dropna['label1'])"
   ]
  }
 ],
 "metadata": {
  "kernelspec": {
   "display_name": "Python 3.9.7 ('base')",
   "language": "python",
   "name": "python3"
  },
  "language_info": {
   "codemirror_mode": {
    "name": "ipython",
    "version": 3
   },
   "file_extension": ".py",
   "mimetype": "text/x-python",
   "name": "python",
   "nbconvert_exporter": "python",
   "pygments_lexer": "ipython3",
   "version": "3.9.7"
  },
  "orig_nbformat": 4,
  "vscode": {
   "interpreter": {
    "hash": "cd78fef2128015050713e82ca51c6520b11aee7c9ee8df750520bbbc7384cbaa"
   }
  }
 },
 "nbformat": 4,
 "nbformat_minor": 2
}
