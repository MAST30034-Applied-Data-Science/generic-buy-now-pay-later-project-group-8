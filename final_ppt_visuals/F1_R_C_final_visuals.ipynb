{
 "cells": [
  {
   "cell_type": "markdown",
   "metadata": {},
   "source": [
    "# Create some plots for final model"
   ]
  },
  {
   "cell_type": "code",
   "execution_count": 1,
   "metadata": {},
   "outputs": [],
   "source": [
    "# import libraries\n",
    "import pandas as pd\n",
    "import numpy as np\n",
    "from pyspark.sql import SparkSession\n",
    "from pyspark.sql import functions as F\n",
    "import seaborn as sns"
   ]
  },
  {
   "cell_type": "markdown",
   "metadata": {},
   "source": [
    "### Prepare data"
   ]
  },
  {
   "cell_type": "markdown",
   "metadata": {},
   "source": [
    "Import data and get lists of abn"
   ]
  },
  {
   "cell_type": "code",
   "execution_count": 2,
   "metadata": {},
   "outputs": [],
   "source": [
    "# read in top variables\n",
    "three_var_top_100 = pd.read_csv('../data/curated/final_model/output/3_varfinal_top100.csv')\n",
    "\n",
    "five_var_top_100 = pd.read_csv('../data/curated/final_model/output/final_top100.csv')"
   ]
  },
  {
   "cell_type": "code",
   "execution_count": 3,
   "metadata": {},
   "outputs": [],
   "source": [
    "three_var_top_100 = list(three_var_top_100['merchant_abn'])\n",
    "five_var_top_100 = list(five_var_top_100['merchant_abn'])"
   ]
  },
  {
   "cell_type": "code",
   "execution_count": 4,
   "metadata": {},
   "outputs": [],
   "source": [
    "# get different lists of merchants\n",
    "\n",
    "three_var_only = list()\n",
    "five_var_only = list()\n",
    "\n",
    "intersection = list()\n",
    "\n",
    "# only 3 var's top 100, not 5 var's top 100\n",
    "for abn in three_var_top_100:\n",
    "    if abn not in five_var_top_100:\n",
    "        three_var_only.append(abn)\n",
    "\n",
    "# only 5 var's top 100, not 3 var's top 100\n",
    "for abn in five_var_top_100:\n",
    "    if abn not in three_var_top_100:\n",
    "        five_var_only.append(abn)\n",
    "\n",
    "# only intersection of 3 var's top 100 and 5 var's top 100\n",
    "for abn in five_var_top_100:\n",
    "    if abn in three_var_top_100:\n",
    "        intersection.append(abn)"
   ]
  },
  {
   "cell_type": "code",
   "execution_count": 5,
   "metadata": {},
   "outputs": [],
   "source": [
    "# get complementary companies\n",
    "merchant_overall = pd.read_csv('../data/curated/final_model/input/agg_fortnightly_mean_sd_marketcorr_NOFRAUD.csv')\n",
    "five_var_complementary = [abn for abn in list(merchant_overall['merchant_abn']) if abn not in five_var_top_100]"
   ]
  },
  {
   "cell_type": "code",
   "execution_count": 6,
   "metadata": {},
   "outputs": [
    {
     "name": "stdout",
     "output_type": "stream",
     "text": [
      "71\n",
      "71\n",
      "29\n"
     ]
    }
   ],
   "source": [
    "# figure out how many is in intersection\n",
    "print(len(five_var_only))\n",
    "print(len(three_var_only))\n",
    "print(len(intersection))"
   ]
  },
  {
   "cell_type": "code",
   "execution_count": 7,
   "metadata": {},
   "outputs": [],
   "source": [
    "def get_data(abn_list, rhs_data):\n",
    "    \"\"\" helper function to merge list with actual data for plots \"\"\"\n",
    "    return pd.DataFrame({'merchant_abn': abn_list}).merge(rhs_data, on = 'merchant_abn', how='inner')"
   ]
  },
  {
   "cell_type": "markdown",
   "metadata": {},
   "source": [
    "Get clusters"
   ]
  },
  {
   "cell_type": "code",
   "execution_count": 8,
   "metadata": {},
   "outputs": [],
   "source": [
    "merchant_clusters = pd.read_csv('../data/curated/clusters/output/merchant_clusters.csv')"
   ]
  },
  {
   "cell_type": "code",
   "execution_count": 9,
   "metadata": {},
   "outputs": [],
   "source": [
    "# run through different lists to get data\n",
    "five_vars_top_100_clusters = get_data(five_var_top_100, merchant_clusters)\n",
    "\n",
    "three_vars_top_100_clusters = get_data(three_var_top_100, merchant_clusters)\n",
    "\n",
    "intersection_clusters = get_data(intersection, merchant_clusters)\n",
    "\n",
    "three_var_only_clusters = get_data(three_var_only, merchant_clusters)\n",
    "\n",
    "five_var_only_clusters = get_data(five_var_only, merchant_clusters)\n",
    "\n",
    "five_var_complementary_clusters = get_data(five_var_complementary, merchant_clusters)"
   ]
  },
  {
   "cell_type": "markdown",
   "metadata": {},
   "source": [
    "Get training variables"
   ]
  },
  {
   "cell_type": "markdown",
   "metadata": {},
   "source": [
    "(first create one final list of merchants)\n",
    "\n",
    "*merchant overall already imported*"
   ]
  },
  {
   "cell_type": "code",
   "execution_count": 10,
   "metadata": {},
   "outputs": [],
   "source": [
    "loyalty_overall = pd.read_csv(('../data/curated/final_model/input/loyalty_full.csv'))\n",
    "loyalty_overall = loyalty_overall[['merchant_abn', 'repeated_purchase_rate']]"
   ]
  },
  {
   "cell_type": "code",
   "execution_count": 11,
   "metadata": {},
   "outputs": [],
   "source": [
    "persona_overall = pd.read_csv(('../data/curated/final_model/input/persona_full.csv'))"
   ]
  },
  {
   "cell_type": "code",
   "execution_count": 12,
   "metadata": {},
   "outputs": [],
   "source": [
    "# merge dataset with 4th variable\n",
    "merchant_overall = merchant_overall.merge(loyalty_overall, on='merchant_abn', how='inner')\n",
    "merchant_overall = merchant_overall.merge(persona_overall, on='merchant_abn', how='inner')\n",
    "\n",
    "merchant_overall = merchant_overall.fillna(0)"
   ]
  },
  {
   "cell_type": "code",
   "execution_count": 13,
   "metadata": {},
   "outputs": [],
   "source": [
    "merchant_overall['standardised stdev'] = merchant_overall['stdev']/merchant_overall['mean']"
   ]
  },
  {
   "cell_type": "code",
   "execution_count": 14,
   "metadata": {},
   "outputs": [],
   "source": [
    "five_vars_top_100_variables = get_data(five_var_top_100, merchant_overall)\n",
    "\n",
    "three_vars_top_100_variables = get_data(three_var_top_100, merchant_overall)\n",
    "\n",
    "intersection_variables = get_data(intersection, merchant_overall)\n",
    "\n",
    "three_var_only_variables = get_data(three_var_only, merchant_overall)\n",
    "\n",
    "five_var_only_variables = get_data(five_var_only, merchant_overall)\n",
    "\n",
    "five_var_complementary_variables = get_data(five_var_complementary, merchant_overall)"
   ]
  },
  {
   "cell_type": "code",
   "execution_count": 15,
   "metadata": {},
   "outputs": [
    {
     "data": {
      "text/plain": [
       "count    1.000000e+02\n",
       "mean     5.073398e+05\n",
       "std      5.931311e+05\n",
       "min      1.124972e+03\n",
       "25%      1.126046e+05\n",
       "50%      2.629245e+05\n",
       "75%      7.907005e+05\n",
       "max      2.312089e+06\n",
       "Name: mean, dtype: float64"
      ]
     },
     "execution_count": 15,
     "metadata": {},
     "output_type": "execute_result"
    }
   ],
   "source": [
    "five_vars_top_100_variables['mean'].describe()"
   ]
  },
  {
   "cell_type": "code",
   "execution_count": 16,
   "metadata": {},
   "outputs": [
    {
     "data": {
      "text/plain": [
       "count    4.267000e+03\n",
       "mean     8.989702e+04\n",
       "std      2.150647e+05\n",
       "min      8.286602e+01\n",
       "25%      6.294258e+03\n",
       "50%      2.158148e+04\n",
       "75%      9.532044e+04\n",
       "max      2.412375e+06\n",
       "Name: mean, dtype: float64"
      ]
     },
     "execution_count": 16,
     "metadata": {},
     "output_type": "execute_result"
    }
   ],
   "source": [
    "five_var_complementary_variables['mean'].describe()"
   ]
  },
  {
   "cell_type": "code",
   "execution_count": 17,
   "metadata": {},
   "outputs": [
    {
     "data": {
      "text/plain": [
       "count    100.000000\n",
       "mean       0.745346\n",
       "std        1.204154\n",
       "min        0.178334\n",
       "25%        0.199571\n",
       "50%        0.208543\n",
       "75%        0.221297\n",
       "max        4.418958\n",
       "Name: standardised stdev, dtype: float64"
      ]
     },
     "execution_count": 17,
     "metadata": {},
     "output_type": "execute_result"
    }
   ],
   "source": [
    "five_vars_top_100_variables['standardised stdev'].describe()"
   ]
  },
  {
   "cell_type": "code",
   "execution_count": 18,
   "metadata": {},
   "outputs": [
    {
     "data": {
      "text/plain": [
       "count    4267.000000\n",
       "mean        0.741333\n",
       "std         0.727800\n",
       "min         0.159661\n",
       "25%         0.278404\n",
       "50%         0.462850\n",
       "75%         0.912584\n",
       "max         6.164414\n",
       "Name: standardised stdev, dtype: float64"
      ]
     },
     "execution_count": 18,
     "metadata": {},
     "output_type": "execute_result"
    }
   ],
   "source": [
    "five_var_complementary_variables['standardised stdev'].describe()"
   ]
  },
  {
   "cell_type": "markdown",
   "metadata": {},
   "source": [
    "Get actual transaction data (raw data)"
   ]
  },
  {
   "cell_type": "code",
   "execution_count": 19,
   "metadata": {},
   "outputs": [
    {
     "name": "stderr",
     "output_type": "stream",
     "text": [
      "Setting default log level to \"WARN\".\n",
      "To adjust logging level use sc.setLogLevel(newLevel). For SparkR, use setLogLevel(newLevel).\n"
     ]
    },
    {
     "name": "stdout",
     "output_type": "stream",
     "text": [
      "22/10/13 12:27:56 WARN NativeCodeLoader: Unable to load native-hadoop library for your platform... using builtin-java classes where applicable\n"
     ]
    }
   ],
   "source": [
    "# setup spark\n",
    "spark = (\n",
    "    SparkSession.builder.appName(\"aggregate data for first 3 final model variables\")\n",
    "    .config(\"spark.sql.repl.eagerEval.enabled\", True) \n",
    "    .config(\"spark.sql.parquet.cacheMetadata\", \"true\")\n",
    "    .config(\"spark.sql.session.timeZone\", \"Etc/UTC\")\n",
    "    .config(\"spark.driver.memory\", \"15g\")\n",
    "    .getOrCreate()\n",
    ")"
   ]
  },
  {
   "cell_type": "code",
   "execution_count": 20,
   "metadata": {},
   "outputs": [
    {
     "name": "stderr",
     "output_type": "stream",
     "text": [
      "                                                                                \r"
     ]
    }
   ],
   "source": [
    "data1 = spark.read.parquet(\"../data/tables/transactions_20210228_20210827_snapshot/\")\n",
    "data2 = spark.read.parquet(\"../data/tables/transactions_20210828_20220227_snapshot/\")\n",
    "data3 = spark.read.parquet(\"../data/tables/transactions_20220228_20220828_snapshot/\")"
   ]
  },
  {
   "cell_type": "code",
   "execution_count": 21,
   "metadata": {},
   "outputs": [],
   "source": [
    "data = data1.union(data2)\n",
    "data = data.union(data3)"
   ]
  },
  {
   "cell_type": "code",
   "execution_count": 22,
   "metadata": {},
   "outputs": [
    {
     "name": "stderr",
     "output_type": "stream",
     "text": [
      "                                                                                \r"
     ]
    }
   ],
   "source": [
    "merchant_raw_data_agg = data.groupBy(\"merchant_abn\").agg(F.countDistinct(\"user_id\").alias('number of distinct customers'),\n",
    "                                                     F.count(\"order_id\").alias('number of orders'),\n",
    "                                                     F.mean(\"dollar_value\").alias('mean transact amount'),\n",
    "                                                     F.stddev(\"dollar_value\").alias('stdev transact amount'))\n",
    "\n",
    "merchant_raw_data_agg_df = merchant_raw_data_agg.toPandas()"
   ]
  },
  {
   "cell_type": "code",
   "execution_count": 23,
   "metadata": {},
   "outputs": [],
   "source": [
    "five_vars_top_100_raw = get_data(five_var_top_100, merchant_raw_data_agg_df)\n",
    "\n",
    "three_vars_top_100_raw = get_data(three_var_top_100, merchant_raw_data_agg_df)\n",
    "\n",
    "intersection_raw = get_data(intersection, merchant_raw_data_agg_df)\n",
    "\n",
    "three_var_only_raw = get_data(three_var_only, merchant_raw_data_agg_df)\n",
    "\n",
    "five_var_only_raw = get_data(five_var_only, merchant_raw_data_agg_df)\n",
    "\n",
    "five_var_complementary_raw = get_data(five_var_complementary, merchant_raw_data_agg_df)"
   ]
  },
  {
   "cell_type": "markdown",
   "metadata": {},
   "source": [
    "# Plots"
   ]
  },
  {
   "cell_type": "code",
   "execution_count": 24,
   "metadata": {},
   "outputs": [],
   "source": [
    "from matplotlib.pyplot import figure\n",
    "import matplotlib.pyplot as plt"
   ]
  },
  {
   "cell_type": "code",
   "execution_count": 25,
   "metadata": {},
   "outputs": [],
   "source": [
    "five_vars_top_100_variables = get_data(five_var_top_100, merchant_overall)\n",
    "\n",
    "three_vars_top_100_variables = get_data(three_var_top_100, merchant_overall)\n",
    "\n",
    "intersection_variables = get_data(intersection, merchant_overall)\n",
    "\n",
    "three_var_only_variables = get_data(three_var_only, merchant_overall)\n",
    "\n",
    "five_var_only_variables = get_data(five_var_only, merchant_overall)\n",
    "\n",
    "five_var_complementary_variables = get_data(five_var_complementary, merchant_overall)"
   ]
  },
  {
   "cell_type": "code",
   "execution_count": 26,
   "metadata": {},
   "outputs": [],
   "source": [
    "def draw_plot_ones(lists, var_of_interest, title1, title2, tag):\n",
    "\n",
    "    figure(figsize=(8, 6), dpi=80)\n",
    "    plt.title(f\"{title1} {title2}\")\n",
    "    plt.ylabel(f'{title2}')\n",
    "    plt.boxplot([lst[var_of_interest] for lst in lists])\n",
    "    plt.xticks(range(1, len(tag)+1), tag)\n",
    "    plt.savefig(f'../plots/Boxplot_{title1} {title2}.png')\n",
    "    plt.show()"
   ]
  },
  {
   "cell_type": "code",
   "execution_count": 27,
   "metadata": {},
   "outputs": [
    {
     "data": {
      "image/png": "[encoded data removed]",
      "text/plain": [
       "<Figure size 640x480 with 1 Axes>"
      ]
     },
     "metadata": {
      "needs_background": "light"
     },
     "output_type": "display_data"
    },
    {
     "data": {
      "image/png": "[encoded data removed]",
      "text/plain": [
       "<Figure size 640x480 with 1 Axes>"
      ]
     },
     "metadata": {
      "needs_background": "light"
     },
     "output_type": "display_data"
    }
   ],
   "source": [
    "lists = [[five_vars_top_100_variables, five_var_complementary_variables]]\n",
    "title1 = [\"Merchants in Portfolio vs Merchants not in Portfolio\"]\n",
    "vars_of_interest = ['mean', 'standardised stdev']\n",
    "title2 = ['', ' ']\n",
    "tags = [[\"Portfolio\", \"Not in Portfolio\"]]\n",
    "\n",
    "for i in range(len(lists)):\n",
    "    for j in range(len(vars_of_interest)):\n",
    "        draw_plot_ones(lists[i], vars_of_interest[j], title1[i], title2[j], tags[i])"
   ]
  },
  {
   "cell_type": "markdown",
   "metadata": {},
   "source": [
    "# Hist"
   ]
  },
  {
   "cell_type": "code",
   "execution_count": 28,
   "metadata": {},
   "outputs": [],
   "source": [
    "def draw_plot_twos(lists, var_of_interest, title1, title2):\n",
    "    \n",
    "    sns.set(rc={'figure.figsize':(10,10)})\n",
    "    sns.set_context(\"paper\", font_scale=3)\n",
    "\n",
    "    fig, axes = plt.subplots(nrows=len(lists), ncols=1)\n",
    "    #fig.tight_layout()\n",
    "    \n",
    "    x_max = max([list[var_of_interest].max() for list in lists])\n",
    "\n",
    "    for i in range(len(lists)):\n",
    "        sns.histplot(lists[i][var_of_interest], kde=True, ax = axes[i])\n",
    "        \n",
    "        axes[i].set_xlim(0,x_max)\n",
    "        axes[i].set(xlabel=None)\n",
    "        \n",
    "    #plt.suptitle(f\"{title1} {title2}\", y=0.9)\n",
    "    plt.xlabel(title2)\n",
    "    \n",
    "    plt.savefig(f'../plots/Histogram_{title1} {title2}.png')\n",
    "\n",
    "    plt.show()\n"
   ]
  },
  {
   "cell_type": "code",
   "execution_count": 29,
   "metadata": {},
   "outputs": [
    {
     "data": {
      "image/png": "[encoded data removed]",
      "text/plain": [
       "<Figure size 720x720 with 2 Axes>"
      ]
     },
     "metadata": {},
     "output_type": "display_data"
    },
    {
     "data": {
      "image/png": "[encoded data removed]",
      "text/plain": [
       "<Figure size 720x720 with 2 Axes>"
      ]
     },
     "metadata": {},
     "output_type": "display_data"
    }
   ],
   "source": [
    "lists = [[three_vars_top_100_raw, five_vars_top_100_raw]]\n",
    "title1 = ['3V top100 vs 5V top100']\n",
    "vars_of_interest = ['mean transact amount', 'number of distinct customers']\n",
    "title2 = ['Mean Transaction Amount', 'Number of Orders']\n",
    "\n",
    "for i in range(len(lists)):\n",
    "    for j in range(len(vars_of_interest)):\n",
    "        draw_plot_twos(lists[i], vars_of_interest[j], title1[i], title2[j])"
   ]
  },
  {
   "cell_type": "markdown",
   "metadata": {},
   "source": [
    "# Pie Chart"
   ]
  },
  {
   "cell_type": "code",
   "execution_count": 30,
   "metadata": {},
   "outputs": [
    {
     "data": {
      "text/plain": [
       "1    76\n",
       "0    18\n",
       "2     6\n",
       "Name: label, dtype: int64"
      ]
     },
     "execution_count": 30,
     "metadata": {},
     "output_type": "execute_result"
    }
   ],
   "source": [
    "cluster_tally = five_vars_top_100_clusters['label'].value_counts()\n",
    "cluster_tally"
   ]
  },
  {
   "cell_type": "code",
   "execution_count": 31,
   "metadata": {},
   "outputs": [
    {
     "data": {
      "image/png": "[encoded data removed]",
      "text/plain": [
       "<Figure size 720x720 with 1 Axes>"
      ]
     },
     "metadata": {},
     "output_type": "display_data"
    }
   ],
   "source": [
    "\n",
    "lables = ['Medium merchants', 'Large merchants',  'Small merchants']\n",
    "\n",
    "fig1, ax1 = plt.subplots()\n",
    "ax1.pie(cluster_tally, labels=lables, autopct='%1.1f%%',\n",
    "        shadow=True, startangle=90)\n",
    "ax1.axis('equal')  # Equal aspect ratio ensures that pie is drawn as a circle.\n",
    "plt.savefig('../plots/final 100 pie chart.png')\n",
    "plt.show()"
   ]
  },
  {
   "cell_type": "markdown",
   "metadata": {},
   "source": [
    "# Top 100 company names list export"
   ]
  },
  {
   "cell_type": "code",
   "execution_count": 32,
   "metadata": {},
   "outputs": [],
   "source": [
    "final_10_cluster0 = pd.read_csv('../data/curated/final_model/output/final_10_cluster0.csv')\n",
    "\n",
    "final_10_cluster1 = pd.read_csv('../data/curated/final_model/output/final_10_cluster1.csv')\n",
    "\n",
    "final_10_cluster2 = pd.read_csv('../data/curated/final_model/output/final_10_cluster2.csv')"
   ]
  },
  {
   "cell_type": "code",
   "execution_count": 33,
   "metadata": {},
   "outputs": [
    {
     "data": {
      "text/html": [
       "<div>\n",
       "<style scoped>\n",
       "    .dataframe tbody tr th:only-of-type {\n",
       "        vertical-align: middle;\n",
       "    }\n",
       "\n",
       "    .dataframe tbody tr th {\n",
       "        vertical-align: top;\n",
       "    }\n",
       "\n",
       "    .dataframe thead th {\n",
       "        text-align: right;\n",
       "    }\n",
       "</style>\n",
       "<table border=\"1\" class=\"dataframe\">\n",
       "  <thead>\n",
       "    <tr style=\"text-align: right;\">\n",
       "      <th></th>\n",
       "      <th>name</th>\n",
       "      <th>tags</th>\n",
       "    </tr>\n",
       "    <tr>\n",
       "      <th>merchant_abn</th>\n",
       "      <th></th>\n",
       "      <th></th>\n",
       "    </tr>\n",
       "  </thead>\n",
       "  <tbody>\n",
       "    <tr>\n",
       "      <th>10023283211</th>\n",
       "      <td>Felis Limited</td>\n",
       "      <td>((furniture, home furnishings and equipment sh...</td>\n",
       "    </tr>\n",
       "    <tr>\n",
       "      <th>10142254217</th>\n",
       "      <td>Arcu Ac Orci Corporation</td>\n",
       "      <td>([cable, satellite, and otHer pay television a...</td>\n",
       "    </tr>\n",
       "    <tr>\n",
       "      <th>10165489824</th>\n",
       "      <td>Nunc Sed Company</td>\n",
       "      <td>([jewelry, watch, clock, and silverware shops]...</td>\n",
       "    </tr>\n",
       "    <tr>\n",
       "      <th>10187291046</th>\n",
       "      <td>Ultricies Dignissim Lacus Foundation</td>\n",
       "      <td>([wAtch, clock, and jewelry repair shops], [b]...</td>\n",
       "    </tr>\n",
       "    <tr>\n",
       "      <th>10192359162</th>\n",
       "      <td>Enim Condimentum PC</td>\n",
       "      <td>([music shops - musical instruments, pianos, a...</td>\n",
       "    </tr>\n",
       "    <tr>\n",
       "      <th>...</th>\n",
       "      <td>...</td>\n",
       "      <td>...</td>\n",
       "    </tr>\n",
       "    <tr>\n",
       "      <th>99938978285</th>\n",
       "      <td>Elit Dictum Eu Ltd</td>\n",
       "      <td>[(opticians, optical goods, and eyeglasses), (...</td>\n",
       "    </tr>\n",
       "    <tr>\n",
       "      <th>99974311662</th>\n",
       "      <td>Mollis LLP</td>\n",
       "      <td>((books, periodicals, and newspapers), (b), (t...</td>\n",
       "    </tr>\n",
       "    <tr>\n",
       "      <th>99976658299</th>\n",
       "      <td>Sociosqu Corp.</td>\n",
       "      <td>((shoe  shops), (a), (take rate: 6.57))</td>\n",
       "    </tr>\n",
       "    <tr>\n",
       "      <th>99987905597</th>\n",
       "      <td>Commodo Hendrerit LLC</td>\n",
       "      <td>[[motor vehicle Supplies and new parts], [a], ...</td>\n",
       "    </tr>\n",
       "    <tr>\n",
       "      <th>99990536339</th>\n",
       "      <td>Massa PC</td>\n",
       "      <td>[(motor vehicle supplies and new parts), (e), ...</td>\n",
       "    </tr>\n",
       "  </tbody>\n",
       "</table>\n",
       "<p>4026 rows × 2 columns</p>\n",
       "</div>"
      ],
      "text/plain": [
       "                                              name  \\\n",
       "merchant_abn                                         \n",
       "10023283211                          Felis Limited   \n",
       "10142254217               Arcu Ac Orci Corporation   \n",
       "10165489824                       Nunc Sed Company   \n",
       "10187291046   Ultricies Dignissim Lacus Foundation   \n",
       "10192359162                    Enim Condimentum PC   \n",
       "...                                            ...   \n",
       "99938978285                     Elit Dictum Eu Ltd   \n",
       "99974311662                             Mollis LLP   \n",
       "99976658299                         Sociosqu Corp.   \n",
       "99987905597                  Commodo Hendrerit LLC   \n",
       "99990536339                               Massa PC   \n",
       "\n",
       "                                                           tags  \n",
       "merchant_abn                                                     \n",
       "10023283211   ((furniture, home furnishings and equipment sh...  \n",
       "10142254217   ([cable, satellite, and otHer pay television a...  \n",
       "10165489824   ([jewelry, watch, clock, and silverware shops]...  \n",
       "10187291046   ([wAtch, clock, and jewelry repair shops], [b]...  \n",
       "10192359162   ([music shops - musical instruments, pianos, a...  \n",
       "...                                                         ...  \n",
       "99938978285   [(opticians, optical goods, and eyeglasses), (...  \n",
       "99974311662   ((books, periodicals, and newspapers), (b), (t...  \n",
       "99976658299             ((shoe  shops), (a), (take rate: 6.57))  \n",
       "99987905597   [[motor vehicle Supplies and new parts], [a], ...  \n",
       "99990536339   [(motor vehicle supplies and new parts), (e), ...  \n",
       "\n",
       "[4026 rows x 2 columns]"
      ]
     },
     "execution_count": 33,
     "metadata": {},
     "output_type": "execute_result"
    }
   ],
   "source": [
    "# import merchant information\n",
    "merchant_info = pd.read_parquet('../data/tables/tbl_merchants.parquet')\n",
    "merchant_info"
   ]
  },
  {
   "cell_type": "code",
   "execution_count": 34,
   "metadata": {},
   "outputs": [],
   "source": [
    "# run through different lists to get data\n",
    "five_vars_top_100_info = pd.DataFrame({'merchant_abn': five_var_top_100}).merge(merchant_info, on = 'merchant_abn', how='left')"
   ]
  },
  {
   "cell_type": "code",
   "execution_count": 35,
   "metadata": {},
   "outputs": [
    {
     "data": {
      "text/html": [
       "<div>\n",
       "<style scoped>\n",
       "    .dataframe tbody tr th:only-of-type {\n",
       "        vertical-align: middle;\n",
       "    }\n",
       "\n",
       "    .dataframe tbody tr th {\n",
       "        vertical-align: top;\n",
       "    }\n",
       "\n",
       "    .dataframe thead th {\n",
       "        text-align: right;\n",
       "    }\n",
       "</style>\n",
       "<table border=\"1\" class=\"dataframe\">\n",
       "  <thead>\n",
       "    <tr style=\"text-align: right;\">\n",
       "      <th></th>\n",
       "      <th>merchant_abn</th>\n",
       "      <th>name</th>\n",
       "      <th>tags</th>\n",
       "      <th>ranking</th>\n",
       "    </tr>\n",
       "  </thead>\n",
       "  <tbody>\n",
       "    <tr>\n",
       "      <th>0</th>\n",
       "      <td>57564805948</td>\n",
       "      <td>NaN</td>\n",
       "      <td>NaN</td>\n",
       "      <td>1</td>\n",
       "    </tr>\n",
       "    <tr>\n",
       "      <th>1</th>\n",
       "      <td>31400548982</td>\n",
       "      <td>Non Egestas PC</td>\n",
       "      <td>((art dealers and galleries), (b), (take rate:...</td>\n",
       "      <td>2</td>\n",
       "    </tr>\n",
       "    <tr>\n",
       "      <th>2</th>\n",
       "      <td>49465266764</td>\n",
       "      <td>NaN</td>\n",
       "      <td>NaN</td>\n",
       "      <td>3</td>\n",
       "    </tr>\n",
       "    <tr>\n",
       "      <th>3</th>\n",
       "      <td>62789659343</td>\n",
       "      <td>NaN</td>\n",
       "      <td>NaN</td>\n",
       "      <td>4</td>\n",
       "    </tr>\n",
       "    <tr>\n",
       "      <th>4</th>\n",
       "      <td>99801770627</td>\n",
       "      <td>Cras Convallis Ltd</td>\n",
       "      <td>((antique shops - sales, repairs, and restorat...</td>\n",
       "      <td>5</td>\n",
       "    </tr>\n",
       "    <tr>\n",
       "      <th>...</th>\n",
       "      <td>...</td>\n",
       "      <td>...</td>\n",
       "      <td>...</td>\n",
       "      <td>...</td>\n",
       "    </tr>\n",
       "    <tr>\n",
       "      <th>95</th>\n",
       "      <td>41944909975</td>\n",
       "      <td>Et Nunc Consulting</td>\n",
       "      <td>([books, periodicals, and newspapers], [e], [t...</td>\n",
       "      <td>96</td>\n",
       "    </tr>\n",
       "    <tr>\n",
       "      <th>96</th>\n",
       "      <td>67794222692</td>\n",
       "      <td>Nunc Ut Inc.</td>\n",
       "      <td>((digital goods: books, movies, music), (c), (...</td>\n",
       "      <td>97</td>\n",
       "    </tr>\n",
       "    <tr>\n",
       "      <th>97</th>\n",
       "      <td>26445720989</td>\n",
       "      <td>Donec Limited</td>\n",
       "      <td>[[opticians, optical goods, and eyeglasses], [...</td>\n",
       "      <td>98</td>\n",
       "    </tr>\n",
       "    <tr>\n",
       "      <th>98</th>\n",
       "      <td>52959528548</td>\n",
       "      <td>Libero Et Limited</td>\n",
       "      <td>[[furniture, home furnishings and equIpment sh...</td>\n",
       "      <td>99</td>\n",
       "    </tr>\n",
       "    <tr>\n",
       "      <th>99</th>\n",
       "      <td>35909341340</td>\n",
       "      <td>Arcu Sed Eu Incorporated</td>\n",
       "      <td>[(computer programming , data processing, and ...</td>\n",
       "      <td>100</td>\n",
       "    </tr>\n",
       "  </tbody>\n",
       "</table>\n",
       "<p>100 rows × 4 columns</p>\n",
       "</div>"
      ],
      "text/plain": [
       "    merchant_abn                      name  \\\n",
       "0    57564805948                       NaN   \n",
       "1    31400548982            Non Egestas PC   \n",
       "2    49465266764                       NaN   \n",
       "3    62789659343                       NaN   \n",
       "4    99801770627        Cras Convallis Ltd   \n",
       "..           ...                       ...   \n",
       "95   41944909975        Et Nunc Consulting   \n",
       "96   67794222692              Nunc Ut Inc.   \n",
       "97   26445720989             Donec Limited   \n",
       "98   52959528548         Libero Et Limited   \n",
       "99   35909341340  Arcu Sed Eu Incorporated   \n",
       "\n",
       "                                                 tags  ranking  \n",
       "0                                                 NaN        1  \n",
       "1   ((art dealers and galleries), (b), (take rate:...        2  \n",
       "2                                                 NaN        3  \n",
       "3                                                 NaN        4  \n",
       "4   ((antique shops - sales, repairs, and restorat...        5  \n",
       "..                                                ...      ...  \n",
       "95  ([books, periodicals, and newspapers], [e], [t...       96  \n",
       "96  ((digital goods: books, movies, music), (c), (...       97  \n",
       "97  [[opticians, optical goods, and eyeglasses], [...       98  \n",
       "98  [[furniture, home furnishings and equIpment sh...       99  \n",
       "99  [(computer programming , data processing, and ...      100  \n",
       "\n",
       "[100 rows x 4 columns]"
      ]
     },
     "execution_count": 35,
     "metadata": {},
     "output_type": "execute_result"
    }
   ],
   "source": [
    "# get ranking\n",
    "five_vars_top_100_info['ranking'] = five_vars_top_100_info.index + 1\n",
    "five_vars_top_100_info.to_csv('../data/curated/final_model/output/five_var_top_100_info.csv', index=False)\n",
    "five_vars_top_100_info"
   ]
  },
  {
   "cell_type": "code",
   "execution_count": 36,
   "metadata": {},
   "outputs": [
    {
     "data": {
      "text/html": [
       "<div>\n",
       "<style scoped>\n",
       "    .dataframe tbody tr th:only-of-type {\n",
       "        vertical-align: middle;\n",
       "    }\n",
       "\n",
       "    .dataframe tbody tr th {\n",
       "        vertical-align: top;\n",
       "    }\n",
       "\n",
       "    .dataframe thead th {\n",
       "        text-align: right;\n",
       "    }\n",
       "</style>\n",
       "<table border=\"1\" class=\"dataframe\">\n",
       "  <thead>\n",
       "    <tr style=\"text-align: right;\">\n",
       "      <th></th>\n",
       "      <th>merchant_abn</th>\n",
       "      <th>ranking</th>\n",
       "    </tr>\n",
       "  </thead>\n",
       "  <tbody>\n",
       "    <tr>\n",
       "      <th>0</th>\n",
       "      <td>57564805948</td>\n",
       "      <td>1</td>\n",
       "    </tr>\n",
       "    <tr>\n",
       "      <th>2</th>\n",
       "      <td>49465266764</td>\n",
       "      <td>3</td>\n",
       "    </tr>\n",
       "    <tr>\n",
       "      <th>3</th>\n",
       "      <td>62789659343</td>\n",
       "      <td>4</td>\n",
       "    </tr>\n",
       "    <tr>\n",
       "      <th>8</th>\n",
       "      <td>29215623643</td>\n",
       "      <td>9</td>\n",
       "    </tr>\n",
       "    <tr>\n",
       "      <th>12</th>\n",
       "      <td>98671274602</td>\n",
       "      <td>13</td>\n",
       "    </tr>\n",
       "    <tr>\n",
       "      <th>22</th>\n",
       "      <td>20562405782</td>\n",
       "      <td>23</td>\n",
       "    </tr>\n",
       "    <tr>\n",
       "      <th>71</th>\n",
       "      <td>29566626791</td>\n",
       "      <td>72</td>\n",
       "    </tr>\n",
       "    <tr>\n",
       "      <th>75</th>\n",
       "      <td>74648589246</td>\n",
       "      <td>76</td>\n",
       "    </tr>\n",
       "    <tr>\n",
       "      <th>79</th>\n",
       "      <td>75342681786</td>\n",
       "      <td>80</td>\n",
       "    </tr>\n",
       "    <tr>\n",
       "      <th>82</th>\n",
       "      <td>33604812025</td>\n",
       "      <td>83</td>\n",
       "    </tr>\n",
       "    <tr>\n",
       "      <th>93</th>\n",
       "      <td>79953723663</td>\n",
       "      <td>94</td>\n",
       "    </tr>\n",
       "  </tbody>\n",
       "</table>\n",
       "</div>"
      ],
      "text/plain": [
       "    merchant_abn  ranking\n",
       "0    57564805948        1\n",
       "2    49465266764        3\n",
       "3    62789659343        4\n",
       "8    29215623643        9\n",
       "12   98671274602       13\n",
       "22   20562405782       23\n",
       "71   29566626791       72\n",
       "75   74648589246       76\n",
       "79   75342681786       80\n",
       "82   33604812025       83\n",
       "93   79953723663       94"
      ]
     },
     "execution_count": 36,
     "metadata": {},
     "output_type": "execute_result"
    }
   ],
   "source": [
    "# get list of null companies\n",
    "null_companies_ranking = five_vars_top_100_info[five_vars_top_100_info['name'].isna()][['merchant_abn', 'ranking']]\n",
    "null_companies_ranking.to_csv('../data/curated/final_model/output/null_companeis_ranking.csv', index=False)\n",
    "null_companies_ranking"
   ]
  },
  {
   "cell_type": "code",
   "execution_count": 37,
   "metadata": {},
   "outputs": [
    {
     "data": {
      "text/plain": [
       "11"
      ]
     },
     "execution_count": 37,
     "metadata": {},
     "output_type": "execute_result"
    }
   ],
   "source": [
    "len(null_companies_ranking)"
   ]
  },
  {
   "cell_type": "code",
   "execution_count": 38,
   "metadata": {},
   "outputs": [
    {
     "data": {
      "text/html": [
       "<div>\n",
       "<style scoped>\n",
       "    .dataframe tbody tr th:only-of-type {\n",
       "        vertical-align: middle;\n",
       "    }\n",
       "\n",
       "    .dataframe tbody tr th {\n",
       "        vertical-align: top;\n",
       "    }\n",
       "\n",
       "    .dataframe thead th {\n",
       "        text-align: right;\n",
       "    }\n",
       "</style>\n",
       "<table border=\"1\" class=\"dataframe\">\n",
       "  <thead>\n",
       "    <tr style=\"text-align: right;\">\n",
       "      <th></th>\n",
       "      <th>merchant_abn</th>\n",
       "      <th>name</th>\n",
       "      <th>tags</th>\n",
       "      <th>ranking</th>\n",
       "    </tr>\n",
       "  </thead>\n",
       "  <tbody>\n",
       "    <tr>\n",
       "      <th>0</th>\n",
       "      <td>57564805948</td>\n",
       "      <td>NaN</td>\n",
       "      <td>NaN</td>\n",
       "      <td>1</td>\n",
       "    </tr>\n",
       "    <tr>\n",
       "      <th>1</th>\n",
       "      <td>31400548982</td>\n",
       "      <td>Non Egestas PC</td>\n",
       "      <td>((art dealers and galleries), (b), (take rate:...</td>\n",
       "      <td>2</td>\n",
       "    </tr>\n",
       "    <tr>\n",
       "      <th>2</th>\n",
       "      <td>49465266764</td>\n",
       "      <td>NaN</td>\n",
       "      <td>NaN</td>\n",
       "      <td>3</td>\n",
       "    </tr>\n",
       "    <tr>\n",
       "      <th>3</th>\n",
       "      <td>62789659343</td>\n",
       "      <td>NaN</td>\n",
       "      <td>NaN</td>\n",
       "      <td>4</td>\n",
       "    </tr>\n",
       "    <tr>\n",
       "      <th>4</th>\n",
       "      <td>99801770627</td>\n",
       "      <td>Cras Convallis Ltd</td>\n",
       "      <td>((antique shops - sales, repairs, and restorat...</td>\n",
       "      <td>5</td>\n",
       "    </tr>\n",
       "    <tr>\n",
       "      <th>5</th>\n",
       "      <td>10881038707</td>\n",
       "      <td>Sed Facilisis Vitae Incorporated</td>\n",
       "      <td>((jewelry, watch, clock, and silverware shops)...</td>\n",
       "      <td>6</td>\n",
       "    </tr>\n",
       "    <tr>\n",
       "      <th>6</th>\n",
       "      <td>49514806178</td>\n",
       "      <td>Hendrerit Id Ante Corp.</td>\n",
       "      <td>([jewelry, watch, clock, and silverware shops]...</td>\n",
       "      <td>7</td>\n",
       "    </tr>\n",
       "    <tr>\n",
       "      <th>7</th>\n",
       "      <td>48549026640</td>\n",
       "      <td>Vulputate Risus A Corporation</td>\n",
       "      <td>([antique shops - sales, repairs, and restorat...</td>\n",
       "      <td>8</td>\n",
       "    </tr>\n",
       "    <tr>\n",
       "      <th>8</th>\n",
       "      <td>29215623643</td>\n",
       "      <td>NaN</td>\n",
       "      <td>NaN</td>\n",
       "      <td>9</td>\n",
       "    </tr>\n",
       "    <tr>\n",
       "      <th>9</th>\n",
       "      <td>81548651453</td>\n",
       "      <td>Mauris Blandit Limited</td>\n",
       "      <td>([jEWelry, watch, clock, and silverware shops]...</td>\n",
       "      <td>10</td>\n",
       "    </tr>\n",
       "  </tbody>\n",
       "</table>\n",
       "</div>"
      ],
      "text/plain": [
       "   merchant_abn                              name  \\\n",
       "0   57564805948                               NaN   \n",
       "1   31400548982                    Non Egestas PC   \n",
       "2   49465266764                               NaN   \n",
       "3   62789659343                               NaN   \n",
       "4   99801770627                Cras Convallis Ltd   \n",
       "5   10881038707  Sed Facilisis Vitae Incorporated   \n",
       "6   49514806178           Hendrerit Id Ante Corp.   \n",
       "7   48549026640     Vulputate Risus A Corporation   \n",
       "8   29215623643                               NaN   \n",
       "9   81548651453            Mauris Blandit Limited   \n",
       "\n",
       "                                                tags  ranking  \n",
       "0                                                NaN        1  \n",
       "1  ((art dealers and galleries), (b), (take rate:...        2  \n",
       "2                                                NaN        3  \n",
       "3                                                NaN        4  \n",
       "4  ((antique shops - sales, repairs, and restorat...        5  \n",
       "5  ((jewelry, watch, clock, and silverware shops)...        6  \n",
       "6  ([jewelry, watch, clock, and silverware shops]...        7  \n",
       "7  ([antique shops - sales, repairs, and restorat...        8  \n",
       "8                                                NaN        9  \n",
       "9  ([jEWelry, watch, clock, and silverware shops]...       10  "
      ]
     },
     "execution_count": 38,
     "metadata": {},
     "output_type": "execute_result"
    }
   ],
   "source": [
    "# cluster 0 final 10\n",
    "clust_0_top_10_withInfo = five_vars_top_100_info.merge(final_10_cluster0, how='right', on='merchant_abn')[['merchant_abn', 'name', 'tags','ranking']]\n",
    "clust_0_top_10_withInfo.to_csv('../data/curated/final_model/output/clust_0_top_10_withInfo.csv', index=False)\n",
    "clust_0_top_10_withInfo"
   ]
  },
  {
   "cell_type": "code",
   "execution_count": 39,
   "metadata": {},
   "outputs": [
    {
     "data": {
      "text/html": [
       "<div>\n",
       "<style scoped>\n",
       "    .dataframe tbody tr th:only-of-type {\n",
       "        vertical-align: middle;\n",
       "    }\n",
       "\n",
       "    .dataframe tbody tr th {\n",
       "        vertical-align: top;\n",
       "    }\n",
       "\n",
       "    .dataframe thead th {\n",
       "        text-align: right;\n",
       "    }\n",
       "</style>\n",
       "<table border=\"1\" class=\"dataframe\">\n",
       "  <thead>\n",
       "    <tr style=\"text-align: right;\">\n",
       "      <th></th>\n",
       "      <th>merchant_abn</th>\n",
       "      <th>name</th>\n",
       "      <th>tags</th>\n",
       "      <th>ranking</th>\n",
       "    </tr>\n",
       "  </thead>\n",
       "  <tbody>\n",
       "    <tr>\n",
       "      <th>0</th>\n",
       "      <td>89640578182</td>\n",
       "      <td>Magnis Foundation</td>\n",
       "      <td>[[tent and awning shops], [a], [take rate: 6.22]]</td>\n",
       "      <td>11</td>\n",
       "    </tr>\n",
       "    <tr>\n",
       "      <th>1</th>\n",
       "      <td>37459245212</td>\n",
       "      <td>Aliquet Phasellus Consulting</td>\n",
       "      <td>[[computers, computer peripheral equipment, an...</td>\n",
       "      <td>14</td>\n",
       "    </tr>\n",
       "    <tr>\n",
       "      <th>2</th>\n",
       "      <td>50866797623</td>\n",
       "      <td>Cum Sociis Natoque Incorporated</td>\n",
       "      <td>[(gift, card, novelty, and souvenir shops), (c...</td>\n",
       "      <td>18</td>\n",
       "    </tr>\n",
       "    <tr>\n",
       "      <th>3</th>\n",
       "      <td>88547577701</td>\n",
       "      <td>Enim Etiam Industries</td>\n",
       "      <td>([opticiaNs, optical goods, and eyeglasses], [...</td>\n",
       "      <td>20</td>\n",
       "    </tr>\n",
       "    <tr>\n",
       "      <th>4</th>\n",
       "      <td>30122382323</td>\n",
       "      <td>Ipsum Company</td>\n",
       "      <td>([watch, clock, and jewelry repair shops], [b]...</td>\n",
       "      <td>21</td>\n",
       "    </tr>\n",
       "    <tr>\n",
       "      <th>5</th>\n",
       "      <td>61447419161</td>\n",
       "      <td>Mollis Dui In LLP</td>\n",
       "      <td>([gift, card, novelty, and souvenir shops], [c...</td>\n",
       "      <td>22</td>\n",
       "    </tr>\n",
       "    <tr>\n",
       "      <th>6</th>\n",
       "      <td>91720867026</td>\n",
       "      <td>Eget Mollis LLC</td>\n",
       "      <td>((watch, clock, and jewelry repair shops), (a)...</td>\n",
       "      <td>26</td>\n",
       "    </tr>\n",
       "    <tr>\n",
       "      <th>7</th>\n",
       "      <td>21359184622</td>\n",
       "      <td>Sit Amet PC</td>\n",
       "      <td>((motor vehicle supplies and new parts), (b), ...</td>\n",
       "      <td>27</td>\n",
       "    </tr>\n",
       "    <tr>\n",
       "      <th>8</th>\n",
       "      <td>31585975447</td>\n",
       "      <td>Dolor Dapibus Gravida Associates</td>\n",
       "      <td>([digital goods: books, movies, music], [b], [...</td>\n",
       "      <td>28</td>\n",
       "    </tr>\n",
       "    <tr>\n",
       "      <th>9</th>\n",
       "      <td>96880556465</td>\n",
       "      <td>At Lacus Quisque Institute</td>\n",
       "      <td>([gifT, card, novelty, and souvenir shops], [a...</td>\n",
       "      <td>29</td>\n",
       "    </tr>\n",
       "  </tbody>\n",
       "</table>\n",
       "</div>"
      ],
      "text/plain": [
       "   merchant_abn                              name  \\\n",
       "0   89640578182                 Magnis Foundation   \n",
       "1   37459245212      Aliquet Phasellus Consulting   \n",
       "2   50866797623   Cum Sociis Natoque Incorporated   \n",
       "3   88547577701             Enim Etiam Industries   \n",
       "4   30122382323                     Ipsum Company   \n",
       "5   61447419161                 Mollis Dui In LLP   \n",
       "6   91720867026                   Eget Mollis LLC   \n",
       "7   21359184622                       Sit Amet PC   \n",
       "8   31585975447  Dolor Dapibus Gravida Associates   \n",
       "9   96880556465        At Lacus Quisque Institute   \n",
       "\n",
       "                                                tags  ranking  \n",
       "0  [[tent and awning shops], [a], [take rate: 6.22]]       11  \n",
       "1  [[computers, computer peripheral equipment, an...       14  \n",
       "2  [(gift, card, novelty, and souvenir shops), (c...       18  \n",
       "3  ([opticiaNs, optical goods, and eyeglasses], [...       20  \n",
       "4  ([watch, clock, and jewelry repair shops], [b]...       21  \n",
       "5  ([gift, card, novelty, and souvenir shops], [c...       22  \n",
       "6  ((watch, clock, and jewelry repair shops), (a)...       26  \n",
       "7  ((motor vehicle supplies and new parts), (b), ...       27  \n",
       "8  ([digital goods: books, movies, music], [b], [...       28  \n",
       "9  ([gifT, card, novelty, and souvenir shops], [a...       29  "
      ]
     },
     "execution_count": 39,
     "metadata": {},
     "output_type": "execute_result"
    }
   ],
   "source": [
    "# cluster 1 final 10\n",
    "clust_1_top_10_withInfo = five_vars_top_100_info.merge(final_10_cluster1, how='right', on='merchant_abn')[['merchant_abn', 'name', 'tags','ranking']]\n",
    "clust_1_top_10_withInfo.to_csv('../data/curated/final_model/output/clust_1_top_10_withInfo.csv', index=False)\n",
    "clust_1_top_10_withInfo"
   ]
  },
  {
   "cell_type": "code",
   "execution_count": 40,
   "metadata": {},
   "outputs": [
    {
     "data": {
      "text/html": [
       "<div>\n",
       "<style scoped>\n",
       "    .dataframe tbody tr th:only-of-type {\n",
       "        vertical-align: middle;\n",
       "    }\n",
       "\n",
       "    .dataframe tbody tr th {\n",
       "        vertical-align: top;\n",
       "    }\n",
       "\n",
       "    .dataframe thead th {\n",
       "        text-align: right;\n",
       "    }\n",
       "</style>\n",
       "<table border=\"1\" class=\"dataframe\">\n",
       "  <thead>\n",
       "    <tr style=\"text-align: right;\">\n",
       "      <th></th>\n",
       "      <th>merchant_abn</th>\n",
       "      <th>name</th>\n",
       "      <th>tags</th>\n",
       "      <th>ranking</th>\n",
       "    </tr>\n",
       "  </thead>\n",
       "  <tbody>\n",
       "    <tr>\n",
       "      <th>0</th>\n",
       "      <td>20562405782</td>\n",
       "      <td>NaN</td>\n",
       "      <td>NaN</td>\n",
       "      <td>23.0</td>\n",
       "    </tr>\n",
       "    <tr>\n",
       "      <th>1</th>\n",
       "      <td>29566626791</td>\n",
       "      <td>NaN</td>\n",
       "      <td>NaN</td>\n",
       "      <td>72.0</td>\n",
       "    </tr>\n",
       "    <tr>\n",
       "      <th>2</th>\n",
       "      <td>74648589246</td>\n",
       "      <td>NaN</td>\n",
       "      <td>NaN</td>\n",
       "      <td>76.0</td>\n",
       "    </tr>\n",
       "    <tr>\n",
       "      <th>3</th>\n",
       "      <td>75342681786</td>\n",
       "      <td>NaN</td>\n",
       "      <td>NaN</td>\n",
       "      <td>80.0</td>\n",
       "    </tr>\n",
       "    <tr>\n",
       "      <th>4</th>\n",
       "      <td>33604812025</td>\n",
       "      <td>NaN</td>\n",
       "      <td>NaN</td>\n",
       "      <td>83.0</td>\n",
       "    </tr>\n",
       "    <tr>\n",
       "      <th>5</th>\n",
       "      <td>79953723663</td>\n",
       "      <td>NaN</td>\n",
       "      <td>NaN</td>\n",
       "      <td>94.0</td>\n",
       "    </tr>\n",
       "    <tr>\n",
       "      <th>6</th>\n",
       "      <td>99904689266</td>\n",
       "      <td>NaN</td>\n",
       "      <td>NaN</td>\n",
       "      <td>NaN</td>\n",
       "    </tr>\n",
       "    <tr>\n",
       "      <th>7</th>\n",
       "      <td>67202032418</td>\n",
       "      <td>NaN</td>\n",
       "      <td>NaN</td>\n",
       "      <td>NaN</td>\n",
       "    </tr>\n",
       "    <tr>\n",
       "      <th>8</th>\n",
       "      <td>67330176930</td>\n",
       "      <td>NaN</td>\n",
       "      <td>NaN</td>\n",
       "      <td>NaN</td>\n",
       "    </tr>\n",
       "    <tr>\n",
       "      <th>9</th>\n",
       "      <td>45899477665</td>\n",
       "      <td>NaN</td>\n",
       "      <td>NaN</td>\n",
       "      <td>NaN</td>\n",
       "    </tr>\n",
       "  </tbody>\n",
       "</table>\n",
       "</div>"
      ],
      "text/plain": [
       "   merchant_abn name tags  ranking\n",
       "0   20562405782  NaN  NaN     23.0\n",
       "1   29566626791  NaN  NaN     72.0\n",
       "2   74648589246  NaN  NaN     76.0\n",
       "3   75342681786  NaN  NaN     80.0\n",
       "4   33604812025  NaN  NaN     83.0\n",
       "5   79953723663  NaN  NaN     94.0\n",
       "6   99904689266  NaN  NaN      NaN\n",
       "7   67202032418  NaN  NaN      NaN\n",
       "8   67330176930  NaN  NaN      NaN\n",
       "9   45899477665  NaN  NaN      NaN"
      ]
     },
     "execution_count": 40,
     "metadata": {},
     "output_type": "execute_result"
    }
   ],
   "source": [
    "# cluster 2 final 10\n",
    "clust_2_top_10_withInfo = five_vars_top_100_info.merge(final_10_cluster2, how='right', on='merchant_abn')[['merchant_abn', 'name', 'tags','ranking']]\n",
    "clust_2_top_10_withInfo.to_csv('../data/curated/final_model/output/clust_2_top_10_withInfo.csv', index=False)\n",
    "clust_2_top_10_withInfo"
   ]
  },
  {
   "cell_type": "code",
   "execution_count": null,
   "metadata": {},
   "outputs": [],
   "source": []
  }
 ],
 "metadata": {
  "kernelspec": {
   "display_name": "Python 3.9.7 ('base')",
   "language": "python",
   "name": "python3"
  },
  "language_info": {
   "codemirror_mode": {
    "name": "ipython",
    "version": 3
   },
   "file_extension": ".py",
   "mimetype": "text/x-python",
   "name": "python",
   "nbconvert_exporter": "python",
   "pygments_lexer": "ipython3",
   "version": "3.9.7"
  },
  "orig_nbformat": 4,
  "vscode": {
   "interpreter": {
    "hash": "cd78fef2128015050713e82ca51c6520b11aee7c9ee8df750520bbbc7384cbaa"
   }
  }
 },
 "nbformat": 4,
 "nbformat_minor": 2
}
